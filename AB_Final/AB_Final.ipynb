{
 "cells": [
  {
   "cell_type": "markdown",
   "metadata": {},
   "source": [
    "# Проект по А/B-тестированию\n",
    "# Постановка задачи\n",
    "Задача — провести оценку результатов A/B-теста. В распоряжении есть датасет с действиями пользователей, техническое задание и несколько вспомогательных датасетов.\n",
    "\n",
    "Оценить корректность проведения теста.\n",
    "\n",
    "Проанализировать результаты теста.\n",
    "\n",
    "Чтобы оценить корректность проведения теста нужно проверить:\n",
    "\n",
    "пересечение тестовой аудитории с конкурирующим тестом;\n",
    "\n",
    "совпадение теста и маркетинговых событий, другие проблемы временных границ теста.\n",
    "\n",
    "Техническое задание:\n",
    "\n",
    "Название теста: recommender_system_test;\n",
    "\n",
    "Группы: А (контрольная), B (новая платёжная воронка);\n",
    "\n",
    "Дата запуска: 2020-12-07;\n",
    "\n",
    "Дата остановки набора новых пользователей: 2020-12-21;\n",
    "\n",
    "Дата остановки: 2021-01-04;\n",
    "\n",
    "Аудитория: 15% новых пользователей из региона EU;\n",
    "\n",
    "Назначение теста: тестирование изменений, связанных с внедрением улучшенной рекомендательной системы;\n",
    "\n",
    "Ожидаемое количество участников теста: 6000.\n",
    "\n",
    "Ожидаемый эффект: за 14 дней с момента регистрации в системе пользователи покажут улучшение каждой метрики не менее, чем на 10%:\n",
    "\n",
    "конверсии в просмотр карточек товаров — событие product_page\n",
    "просмотры корзины — product_cart\n",
    "покупки — purchase.\n",
    "\n",
    "Данные\n",
    "ab_project_marketing_events.csv\n",
    "\n",
    "* final_ab_new_users.csv\n",
    "* final_ab_events.csv\n",
    "* final_ab_participants.csv\n",
    "\n",
    "* /datasets/ab_project_marketing_events.csv — календарь маркетинговых событий на 2020 год;\n",
    "Структура файла:\n",
    "  \n",
    "- name — название маркетингового события;\n",
    "- regions — регионы, в которых будет проводиться рекламная кампания;\n",
    "- start_dt — дата начала кампании;\n",
    "- finish_dt — дата завершения кампании.\n",
    "\n",
    "* /datasets/final_ab_new_users.csv — все пользователи, зарегистрировавшиеся в интернет-магазине в период с 7 по 21 декабря 2020 года;\n",
    "Структура файла:\n",
    "\n",
    "- user_id — идентификатор пользователя;\n",
    "- first_date — дата регистрации;\n",
    "- region — регион пользователя;\n",
    "- device — устройство, с которого происходила регистрация.\n",
    "\n",
    "* /datasets/final_ab_events.csv — все события новых пользователей в период с 7 декабря 2020 по 4 января 2021 года;\n",
    "Структура файла:\n",
    "- user_id — идентификатор пользователя;\n",
    "- event_dt — дата и время события;\n",
    "- event_name — тип события;\n",
    "- details — дополнительные данные о событии. Например, для покупок, purchase, в этом поле хранится стоимость покупки в долларах.\n",
    "\n",
    "* /datasets/final_ab_participants.csv — таблица участников тестов.\n",
    "Структура файла:\n",
    "- user_id — идентификатор пользователя;\n",
    "- ab_test — название теста;\n",
    "- group — группа пользователя.\n"
   ]
  },
  {
   "cell_type": "markdown",
   "metadata": {},
   "source": [
    "### Переработка данных"
   ]
  },
  {
   "cell_type": "code",
   "execution_count": 40,
   "metadata": {},
   "outputs": [],
   "source": [
    "import pandas as pd\n",
    "import numpy as np\n",
    "import math as math\n",
    "import seaborn as sns\n",
    "import plotly.express as px\n",
    "import matplotlib.pyplot as plt\n",
    "from plotly import graph_objects as go\n",
    "from scipy import stats as st"
   ]
  },
  {
   "cell_type": "code",
   "execution_count": 41,
   "metadata": {},
   "outputs": [],
   "source": [
    "# загрузим данные\n",
    "marketing_events = pd.read_csv('https://code.s3.yandex.net/datasets/ab_project_marketing_events.csv')\n",
    "new_users = pd.read_csv('https://code.s3.yandex.net/datasets/final_ab_new_users.csv')\n",
    "events = pd.read_csv('https://code.s3.yandex.net/datasets/final_ab_events.csv')\n",
    "participants = pd.read_csv('https://code.s3.yandex.net/datasets/final_ab_participants.csv')"
   ]
  },
  {
   "cell_type": "code",
   "execution_count": 42,
   "metadata": {},
   "outputs": [
    {
     "name": "stdout",
     "output_type": "stream",
     "text": [
      "<class 'pandas.core.frame.DataFrame'>\n",
      "RangeIndex: 14 entries, 0 to 13\n",
      "Data columns (total 4 columns):\n",
      " #   Column     Non-Null Count  Dtype \n",
      "---  ------     --------------  ----- \n",
      " 0   name       14 non-null     object\n",
      " 1   regions    14 non-null     object\n",
      " 2   start_dt   14 non-null     object\n",
      " 3   finish_dt  14 non-null     object\n",
      "dtypes: object(4)\n",
      "memory usage: 576.0+ bytes\n",
      "None\n",
      " \n",
      "0\n"
     ]
    }
   ],
   "source": [
    "print(marketing_events.info())\n",
    "print(' ')\n",
    "print(marketing_events.duplicated().sum())"
   ]
  },
  {
   "cell_type": "code",
   "execution_count": 43,
   "metadata": {},
   "outputs": [
    {
     "name": "stdout",
     "output_type": "stream",
     "text": [
      "<class 'pandas.core.frame.DataFrame'>\n",
      "RangeIndex: 440317 entries, 0 to 440316\n",
      "Data columns (total 4 columns):\n",
      " #   Column      Non-Null Count   Dtype  \n",
      "---  ------      --------------   -----  \n",
      " 0   user_id     440317 non-null  object \n",
      " 1   event_dt    440317 non-null  object \n",
      " 2   event_name  440317 non-null  object \n",
      " 3   details     62740 non-null   float64\n",
      "dtypes: float64(1), object(3)\n",
      "memory usage: 13.4+ MB\n",
      "None\n",
      " \n",
      "0\n"
     ]
    }
   ],
   "source": [
    "print(events.info())\n",
    "print(' ')\n",
    "print(events.duplicated().sum())"
   ]
  },
  {
   "cell_type": "code",
   "execution_count": 44,
   "metadata": {},
   "outputs": [
    {
     "data": {
      "text/plain": [
       "user_id            0\n",
       "event_dt           0\n",
       "event_name         0\n",
       "details       377577\n",
       "dtype: int64"
      ]
     },
     "execution_count": 44,
     "metadata": {},
     "output_type": "execute_result"
    }
   ],
   "source": [
    "# отобразим количество пропусков\n",
    "events.isna().sum()"
   ]
  },
  {
   "cell_type": "code",
   "execution_count": 45,
   "metadata": {},
   "outputs": [
    {
     "data": {
      "text/plain": [
       "0.8575117472184812"
      ]
     },
     "execution_count": 45,
     "metadata": {},
     "output_type": "execute_result"
    }
   ],
   "source": [
    "# выведем долю пропусков в столбце 'details' от всего датасета\n",
    "events['details'].isna().sum() / len(events)"
   ]
  },
  {
   "cell_type": "code",
   "execution_count": 46,
   "metadata": {},
   "outputs": [
    {
     "data": {
      "text/plain": [
       "4.99      46362\n",
       "9.99       9530\n",
       "99.99      5631\n",
       "499.99     1217\n",
       "Name: details, dtype: int64"
      ]
     },
     "execution_count": 46,
     "metadata": {},
     "output_type": "execute_result"
    }
   ],
   "source": [
    "# посмотрим значения в столбце 'details'\n",
    "events['details'].value_counts()"
   ]
  },
  {
   "cell_type": "code",
   "execution_count": 47,
   "metadata": {},
   "outputs": [
    {
     "data": {
      "text/plain": [
       "login           189552\n",
       "product_page    125563\n",
       "purchase         62740\n",
       "product_cart     62462\n",
       "Name: event_name, dtype: int64"
      ]
     },
     "execution_count": 47,
     "metadata": {},
     "output_type": "execute_result"
    }
   ],
   "source": [
    "# посмотрим значения в столбце событий \n",
    "events['event_name'].value_counts()"
   ]
  },
  {
   "cell_type": "code",
   "execution_count": 48,
   "metadata": {},
   "outputs": [
    {
     "name": "stdout",
     "output_type": "stream",
     "text": [
      "<class 'pandas.core.frame.DataFrame'>\n",
      "RangeIndex: 61733 entries, 0 to 61732\n",
      "Data columns (total 4 columns):\n",
      " #   Column      Non-Null Count  Dtype \n",
      "---  ------      --------------  ----- \n",
      " 0   user_id     61733 non-null  object\n",
      " 1   first_date  61733 non-null  object\n",
      " 2   region      61733 non-null  object\n",
      " 3   device      61733 non-null  object\n",
      "dtypes: object(4)\n",
      "memory usage: 1.9+ MB\n",
      "None\n",
      " \n",
      "0\n"
     ]
    }
   ],
   "source": [
    "print(new_users.info())\n",
    "print(' ')\n",
    "print(new_users.duplicated().sum())"
   ]
  },
  {
   "cell_type": "code",
   "execution_count": 49,
   "metadata": {},
   "outputs": [
    {
     "data": {
      "text/html": [
       "<div>\n",
       "<style scoped>\n",
       "    .dataframe tbody tr th:only-of-type {\n",
       "        vertical-align: middle;\n",
       "    }\n",
       "\n",
       "    .dataframe tbody tr th {\n",
       "        vertical-align: top;\n",
       "    }\n",
       "\n",
       "    .dataframe thead th {\n",
       "        text-align: right;\n",
       "    }\n",
       "</style>\n",
       "<table border=\"1\" class=\"dataframe\">\n",
       "  <thead>\n",
       "    <tr style=\"text-align: right;\">\n",
       "      <th></th>\n",
       "      <th>user_id</th>\n",
       "      <th>group</th>\n",
       "      <th>ab_test</th>\n",
       "    </tr>\n",
       "  </thead>\n",
       "  <tbody>\n",
       "    <tr>\n",
       "      <th>0</th>\n",
       "      <td>D1ABA3E2887B6A73</td>\n",
       "      <td>A</td>\n",
       "      <td>recommender_system_test</td>\n",
       "    </tr>\n",
       "    <tr>\n",
       "      <th>1</th>\n",
       "      <td>A7A3664BD6242119</td>\n",
       "      <td>A</td>\n",
       "      <td>recommender_system_test</td>\n",
       "    </tr>\n",
       "    <tr>\n",
       "      <th>2</th>\n",
       "      <td>DABC14FDDFADD29E</td>\n",
       "      <td>A</td>\n",
       "      <td>recommender_system_test</td>\n",
       "    </tr>\n",
       "    <tr>\n",
       "      <th>3</th>\n",
       "      <td>04988C5DF189632E</td>\n",
       "      <td>A</td>\n",
       "      <td>recommender_system_test</td>\n",
       "    </tr>\n",
       "    <tr>\n",
       "      <th>4</th>\n",
       "      <td>482F14783456D21B</td>\n",
       "      <td>B</td>\n",
       "      <td>recommender_system_test</td>\n",
       "    </tr>\n",
       "  </tbody>\n",
       "</table>\n",
       "</div>"
      ],
      "text/plain": [
       "            user_id group                  ab_test\n",
       "0  D1ABA3E2887B6A73     A  recommender_system_test\n",
       "1  A7A3664BD6242119     A  recommender_system_test\n",
       "2  DABC14FDDFADD29E     A  recommender_system_test\n",
       "3  04988C5DF189632E     A  recommender_system_test\n",
       "4  482F14783456D21B     B  recommender_system_test"
      ]
     },
     "metadata": {},
     "output_type": "display_data"
    },
    {
     "name": "stdout",
     "output_type": "stream",
     "text": [
      " \n",
      "<class 'pandas.core.frame.DataFrame'>\n",
      "RangeIndex: 18268 entries, 0 to 18267\n",
      "Data columns (total 3 columns):\n",
      " #   Column   Non-Null Count  Dtype \n",
      "---  ------   --------------  ----- \n",
      " 0   user_id  18268 non-null  object\n",
      " 1   group    18268 non-null  object\n",
      " 2   ab_test  18268 non-null  object\n",
      "dtypes: object(3)\n",
      "memory usage: 428.3+ KB\n"
     ]
    },
    {
     "data": {
      "text/plain": [
       "None"
      ]
     },
     "metadata": {},
     "output_type": "display_data"
    }
   ],
   "source": [
    "display(participants.head())\n",
    "print(' ')\n",
    "display(participants.info())"
   ]
  },
  {
   "cell_type": "code",
   "execution_count": 50,
   "metadata": {},
   "outputs": [],
   "source": [
    "# переведем все столбцы с датами в датасетах во временной формат\n",
    "marketing_events['start_dt'] = pd.to_datetime(marketing_events['start_dt'])\n",
    "marketing_events['finish_dt'] = pd.to_datetime(marketing_events['finish_dt'])\n",
    "new_users['first_date'] = pd.to_datetime(new_users['first_date'])\n",
    "events['event_dt'] = pd.to_datetime(events['event_dt'])"
   ]
  },
  {
   "cell_type": "markdown",
   "metadata": {},
   "source": [
    "# Вывод\n",
    "Данные успешно загружены и в целом в порядке. Большое количество пропусков в файле событий в столбце details скорее всего связано с тем, что в этом столбце указана выручка с события, а если пользователей не совершил покупку, то указывается пропущенное значение."
   ]
  },
  {
   "cell_type": "markdown",
   "metadata": {},
   "source": [
    "### Оценка корректности проведения теста"
   ]
  },
  {
   "cell_type": "code",
   "execution_count": 51,
   "metadata": {},
   "outputs": [
    {
     "name": "stdout",
     "output_type": "stream",
     "text": [
      "2020-12-07 00:00:33\n",
      "2020-12-30 23:36:33\n"
     ]
    }
   ],
   "source": [
    "# проверим время начала и конца событий совершенных пользователями\n",
    "print(events['event_dt'].min())\n",
    "print(events['event_dt'].max())"
   ]
  },
  {
   "cell_type": "code",
   "execution_count": 52,
   "metadata": {},
   "outputs": [
    {
     "name": "stdout",
     "output_type": "stream",
     "text": [
      "2020-12-07 00:00:00\n",
      "2020-12-23 00:00:00\n"
     ]
    }
   ],
   "source": [
    "# проверим время начала и конца регистраций новых пользователей\n",
    "print(new_users['first_date'].min())\n",
    "print(new_users['first_date'].max())"
   ]
  },
  {
   "cell_type": "code",
   "execution_count": 53,
   "metadata": {},
   "outputs": [
    {
     "data": {
      "text/plain": [
       "61733"
      ]
     },
     "execution_count": 53,
     "metadata": {},
     "output_type": "execute_result"
    }
   ],
   "source": [
    "len(new_users['first_date'])"
   ]
  },
  {
   "cell_type": "code",
   "execution_count": 54,
   "metadata": {},
   "outputs": [
    {
     "data": {
      "text/plain": [
       "6351"
      ]
     },
     "execution_count": 54,
     "metadata": {},
     "output_type": "execute_result"
    }
   ],
   "source": [
    "test_region = new_users.merge(participants, how = 'left', on = 'user_id') \n",
    "test_region = test_region.query('ab_test == \"recommender_system_test\"and region == \"EU\"')\n",
    "test_region.shape[0]"
   ]
  },
  {
   "cell_type": "code",
   "execution_count": 55,
   "metadata": {},
   "outputs": [
    {
     "name": "stdout",
     "output_type": "stream",
     "text": [
      "2020-12-07 00:00:00\n",
      "2020-12-21 00:00:00\n"
     ]
    }
   ],
   "source": [
    "# проверим время начала и конца событий совершенных пользователями\n",
    "print(test_region['first_date'].min())\n",
    "print(test_region['first_date'].max())"
   ]
  },
  {
   "cell_type": "code",
   "execution_count": 56,
   "metadata": {},
   "outputs": [
    {
     "data": {
      "text/plain": [
       "42340"
      ]
     },
     "execution_count": 56,
     "metadata": {},
     "output_type": "execute_result"
    }
   ],
   "source": [
    "region_date = new_users.query('region == \"EU\" and \"2020-12-07\" <= first_date <= \"2020-12-21\"')\n",
    "region_date.shape[0]"
   ]
  },
  {
   "cell_type": "code",
   "execution_count": 57,
   "metadata": {},
   "outputs": [
    {
     "data": {
      "text/plain": [
       "0.15"
      ]
     },
     "execution_count": 57,
     "metadata": {},
     "output_type": "execute_result"
    }
   ],
   "source": [
    "test_region.shape[0]/ region_date.shape[0]"
   ]
  },
  {
   "cell_type": "markdown",
   "metadata": {},
   "source": [
    "15 % новых пользователей из региона EU - соответсвует ТЗ."
   ]
  },
  {
   "cell_type": "code",
   "execution_count": 58,
   "metadata": {},
   "outputs": [
    {
     "data": {
      "text/html": [
       "<div>\n",
       "<style scoped>\n",
       "    .dataframe tbody tr th:only-of-type {\n",
       "        vertical-align: middle;\n",
       "    }\n",
       "\n",
       "    .dataframe tbody tr th {\n",
       "        vertical-align: top;\n",
       "    }\n",
       "\n",
       "    .dataframe thead th {\n",
       "        text-align: right;\n",
       "    }\n",
       "</style>\n",
       "<table border=\"1\" class=\"dataframe\">\n",
       "  <thead>\n",
       "    <tr style=\"text-align: right;\">\n",
       "      <th></th>\n",
       "      <th>name</th>\n",
       "      <th>regions</th>\n",
       "      <th>start_dt</th>\n",
       "      <th>finish_dt</th>\n",
       "    </tr>\n",
       "  </thead>\n",
       "  <tbody>\n",
       "    <tr>\n",
       "      <th>0</th>\n",
       "      <td>Christmas&amp;New Year Promo</td>\n",
       "      <td>EU, N.America</td>\n",
       "      <td>2020-12-25</td>\n",
       "      <td>2021-01-03</td>\n",
       "    </tr>\n",
       "    <tr>\n",
       "      <th>10</th>\n",
       "      <td>CIS New Year Gift Lottery</td>\n",
       "      <td>CIS</td>\n",
       "      <td>2020-12-30</td>\n",
       "      <td>2021-01-07</td>\n",
       "    </tr>\n",
       "  </tbody>\n",
       "</table>\n",
       "</div>"
      ],
      "text/plain": [
       "                         name        regions   start_dt  finish_dt\n",
       "0    Christmas&New Year Promo  EU, N.America 2020-12-25 2021-01-03\n",
       "10  CIS New Year Gift Lottery            CIS 2020-12-30 2021-01-07"
      ]
     },
     "execution_count": 58,
     "metadata": {},
     "output_type": "execute_result"
    }
   ],
   "source": [
    "# проверим попали ли маркетинговые события на время проведения теста\n",
    "marketing_events[(marketing_events['start_dt'] >= '2020-12-07') & (marketing_events['start_dt'] <= '2020-12-30')]"
   ]
  },
  {
   "cell_type": "markdown",
   "metadata": {},
   "source": [
    "Пользователей участнико в АБ теста набирали c 7 no 21 декабря, за это время никакиx мероприятий не происxодило. Aб-тест неудачно выпал на новогодние праздники. Taк как исследование проводилось в европейском регионе, принимать во внимание стоит одно событие - Christmas&New Year Promo, которое npoxодило с 25 декабря по 3 января. Будем иметь ввиду, что данные за этот период скорее всeгo искажены, так как имел место быть сезонный фактор."
   ]
  },
  {
   "cell_type": "code",
   "execution_count": 59,
   "metadata": {},
   "outputs": [
    {
     "data": {
      "text/plain": [
       "interface_eu_test          11567\n",
       "recommender_system_test     6701\n",
       "Name: ab_test, dtype: int64"
      ]
     },
     "execution_count": 59,
     "metadata": {},
     "output_type": "execute_result"
    }
   ],
   "source": [
    "# выведем количество пользователей в тестах\n",
    "participants['ab_test'].value_counts()"
   ]
  },
  {
   "cell_type": "markdown",
   "metadata": {},
   "source": [
    "Ожидаемое количество участников теста: 6000. У нас количество участиков побольше.Норма"
   ]
  },
  {
   "cell_type": "code",
   "execution_count": 60,
   "metadata": {},
   "outputs": [
    {
     "data": {
      "text/html": [
       "<div>\n",
       "<style scoped>\n",
       "    .dataframe tbody tr th:only-of-type {\n",
       "        vertical-align: middle;\n",
       "    }\n",
       "\n",
       "    .dataframe tbody tr th {\n",
       "        vertical-align: top;\n",
       "    }\n",
       "\n",
       "    .dataframe thead th {\n",
       "        text-align: right;\n",
       "    }\n",
       "</style>\n",
       "<table border=\"1\" class=\"dataframe\">\n",
       "  <thead>\n",
       "    <tr style=\"text-align: right;\">\n",
       "      <th></th>\n",
       "      <th></th>\n",
       "      <th>user_id</th>\n",
       "    </tr>\n",
       "    <tr>\n",
       "      <th>ab_test</th>\n",
       "      <th>group</th>\n",
       "      <th></th>\n",
       "    </tr>\n",
       "  </thead>\n",
       "  <tbody>\n",
       "    <tr>\n",
       "      <th rowspan=\"2\" valign=\"top\">interface_eu_test</th>\n",
       "      <th>A</th>\n",
       "      <td>5831</td>\n",
       "    </tr>\n",
       "    <tr>\n",
       "      <th>B</th>\n",
       "      <td>5736</td>\n",
       "    </tr>\n",
       "    <tr>\n",
       "      <th rowspan=\"2\" valign=\"top\">recommender_system_test</th>\n",
       "      <th>A</th>\n",
       "      <td>3824</td>\n",
       "    </tr>\n",
       "    <tr>\n",
       "      <th>B</th>\n",
       "      <td>2877</td>\n",
       "    </tr>\n",
       "  </tbody>\n",
       "</table>\n",
       "</div>"
      ],
      "text/plain": [
       "                               user_id\n",
       "ab_test                 group         \n",
       "interface_eu_test       A         5831\n",
       "                        B         5736\n",
       "recommender_system_test A         3824\n",
       "                        B         2877"
      ]
     },
     "execution_count": 60,
     "metadata": {},
     "output_type": "execute_result"
    }
   ],
   "source": [
    "participants.groupby(['ab_test', 'group']).agg({'user_id': 'nunique'})"
   ]
  },
  {
   "cell_type": "markdown",
   "metadata": {},
   "source": [
    "Видно, что у нас есть также другой тест, который проводился параллельно с нашим - interface_eu_test. "
   ]
  },
  {
   "cell_type": "code",
   "execution_count": 61,
   "metadata": {},
   "outputs": [
    {
     "data": {
      "text/plain": [
       "1602"
      ]
     },
     "execution_count": 61,
     "metadata": {},
     "output_type": "execute_result"
    }
   ],
   "source": [
    "tests = participants.groupby('user_id').agg({'ab_test': 'nunique'}).sort_values(by = 'ab_test', ascending = False).reset_index()\n",
    "# добавили к юзерам количество тестов, в которое они входят (1 или 2)\n",
    "two_test = tests.loc[tests['ab_test'] == 2]\n",
    "users_two_test = two_test['user_id']\n",
    "# выделил отдельно список пользователей, которые входят в 2 теста одновременно\n",
    "len(two_test)"
   ]
  },
  {
   "cell_type": "markdown",
   "metadata": {},
   "source": [
    "1602 пользователя входят в оба теста"
   ]
  },
  {
   "cell_type": "markdown",
   "metadata": {},
   "source": []
  },
  {
   "cell_type": "code",
   "execution_count": 62,
   "metadata": {},
   "outputs": [
    {
     "data": {
      "text/html": [
       "<div>\n",
       "<style scoped>\n",
       "    .dataframe tbody tr th:only-of-type {\n",
       "        vertical-align: middle;\n",
       "    }\n",
       "\n",
       "    .dataframe tbody tr th {\n",
       "        vertical-align: top;\n",
       "    }\n",
       "\n",
       "    .dataframe thead th {\n",
       "        text-align: right;\n",
       "    }\n",
       "</style>\n",
       "<table border=\"1\" class=\"dataframe\">\n",
       "  <thead>\n",
       "    <tr style=\"text-align: right;\">\n",
       "      <th></th>\n",
       "      <th></th>\n",
       "      <th>user_id</th>\n",
       "    </tr>\n",
       "    <tr>\n",
       "      <th>ab_test</th>\n",
       "      <th>group</th>\n",
       "      <th></th>\n",
       "    </tr>\n",
       "  </thead>\n",
       "  <tbody>\n",
       "    <tr>\n",
       "      <th rowspan=\"2\" valign=\"top\">interface_eu_test</th>\n",
       "      <th>A</th>\n",
       "      <td>819</td>\n",
       "    </tr>\n",
       "    <tr>\n",
       "      <th>B</th>\n",
       "      <td>783</td>\n",
       "    </tr>\n",
       "    <tr>\n",
       "      <th rowspan=\"2\" valign=\"top\">recommender_system_test</th>\n",
       "      <th>A</th>\n",
       "      <td>921</td>\n",
       "    </tr>\n",
       "    <tr>\n",
       "      <th>B</th>\n",
       "      <td>681</td>\n",
       "    </tr>\n",
       "  </tbody>\n",
       "</table>\n",
       "</div>"
      ],
      "text/plain": [
       "                               user_id\n",
       "ab_test                 group         \n",
       "interface_eu_test       A          819\n",
       "                        B          783\n",
       "recommender_system_test A          921\n",
       "                        B          681"
      ]
     },
     "execution_count": 62,
     "metadata": {},
     "output_type": "execute_result"
    }
   ],
   "source": [
    "users_two_test = participants.query('user_id in @users_two_test').reset_index(drop=True)\n",
    "# обрезали данные по списке\n",
    "users_two_test.groupby(['ab_test', 'group']).agg({'user_id': 'nunique'})\n",
    "# вывели в какие группы входят наши пользователи"
   ]
  },
  {
   "cell_type": "code",
   "execution_count": 63,
   "metadata": {},
   "outputs": [
    {
     "data": {
      "text/html": [
       "<div>\n",
       "<style scoped>\n",
       "    .dataframe tbody tr th:only-of-type {\n",
       "        vertical-align: middle;\n",
       "    }\n",
       "\n",
       "    .dataframe tbody tr th {\n",
       "        vertical-align: top;\n",
       "    }\n",
       "\n",
       "    .dataframe thead th {\n",
       "        text-align: right;\n",
       "    }\n",
       "</style>\n",
       "<table border=\"1\" class=\"dataframe\">\n",
       "  <thead>\n",
       "    <tr style=\"text-align: right;\">\n",
       "      <th></th>\n",
       "      <th>user_id</th>\n",
       "    </tr>\n",
       "    <tr>\n",
       "      <th>group</th>\n",
       "      <th></th>\n",
       "    </tr>\n",
       "  </thead>\n",
       "  <tbody>\n",
       "    <tr>\n",
       "      <th>A</th>\n",
       "      <td>3824</td>\n",
       "    </tr>\n",
       "    <tr>\n",
       "      <th>B</th>\n",
       "      <td>2877</td>\n",
       "    </tr>\n",
       "  </tbody>\n",
       "</table>\n",
       "</div>"
      ],
      "text/plain": [
       "       user_id\n",
       "group         \n",
       "A         3824\n",
       "B         2877"
      ]
     },
     "execution_count": 63,
     "metadata": {},
     "output_type": "execute_result"
    }
   ],
   "source": [
    "participants = participants.query('ab_test == \"recommender_system_test\"')\n",
    "participants.groupby('group').agg({'user_id': 'nunique'})"
   ]
  },
  {
   "cell_type": "markdown",
   "metadata": {},
   "source": [
    "Видно, что 947 пользователей больше в группе А."
   ]
  },
  {
   "cell_type": "code",
   "execution_count": 64,
   "metadata": {},
   "outputs": [
    {
     "data": {
      "text/plain": [
       "0"
      ]
     },
     "execution_count": 64,
     "metadata": {},
     "output_type": "execute_result"
    }
   ],
   "source": [
    "group_a = list(participants.query('group == \"A\"') ['user_id'].unique()) \n",
    "group_b = list(participants.query('group == \"B\"') ['user_id'].unique()) \n",
    "group_a_b = []\n",
    "\n",
    "for i in group_b:\n",
    "    if i in group_a:\n",
    "        group_a_b.append(1)\n",
    "\n",
    "len(group_a_b)"
   ]
  },
  {
   "cell_type": "markdown",
   "metadata": {},
   "source": [
    "Пересечений внутри теста recommender_system_test между А и Б группами нет."
   ]
  },
  {
   "cell_type": "code",
   "execution_count": 65,
   "metadata": {},
   "outputs": [],
   "source": [
    "events = events.merge(participants, on='user_id')\\\n",
    ".merge(new_users, on='user_id', how='left')"
   ]
  },
  {
   "cell_type": "code",
   "execution_count": 66,
   "metadata": {},
   "outputs": [
    {
     "data": {
      "text/plain": [
       "0     8131\n",
       "1     3754\n",
       "2     2578\n",
       "3     1805\n",
       "4     1494\n",
       "5     1208\n",
       "6     1070\n",
       "7      986\n",
       "8      762\n",
       "9      606\n",
       "10     517\n",
       "12     347\n",
       "11     347\n",
       "13     251\n",
       "14     214\n",
       "15     171\n",
       "16      94\n",
       "17      86\n",
       "18      80\n",
       "20      69\n",
       "19      60\n",
       "21      33\n",
       "22      31\n",
       "23       4\n",
       "Name: lifetime, dtype: int64"
      ]
     },
     "metadata": {},
     "output_type": "display_data"
    },
    {
     "data": {
      "text/plain": [
       "3675"
      ]
     },
     "metadata": {},
     "output_type": "display_data"
    }
   ],
   "source": [
    "events['lifetime'] = (events['event_dt'] - events['first_date']).dt.days\n",
    "display(events['lifetime'].value_counts())\n",
    "display(events['user_id'].nunique())"
   ]
  },
  {
   "cell_type": "code",
   "execution_count": 67,
   "metadata": {},
   "outputs": [
    {
     "data": {
      "text/plain": [
       "0     8131\n",
       "1     3754\n",
       "2     2578\n",
       "3     1805\n",
       "4     1494\n",
       "5     1208\n",
       "6     1070\n",
       "7      986\n",
       "8      762\n",
       "9      606\n",
       "10     517\n",
       "12     347\n",
       "11     347\n",
       "13     251\n",
       "14     214\n",
       "Name: lifetime, dtype: int64"
      ]
     },
     "metadata": {},
     "output_type": "display_data"
    },
    {
     "data": {
      "text/plain": [
       "3675"
      ]
     },
     "metadata": {},
     "output_type": "display_data"
    }
   ],
   "source": [
    "events = events.query('lifetime <= 14')\n",
    "display(events['lifetime'].value_counts())\n",
    "display(events['user_id'].nunique())"
   ]
  },
  {
   "cell_type": "code",
   "execution_count": 68,
   "metadata": {},
   "outputs": [
    {
     "name": "stdout",
     "output_type": "stream",
     "text": [
      "2020-12-07 00:05:57\n",
      "2020-12-29 23:38:29\n"
     ]
    }
   ],
   "source": [
    "# проверим время начала и конца событий совершенных пользователями после среза по лайфтайму\n",
    "print(events['event_dt'].min())\n",
    "print(events['event_dt'].max())"
   ]
  },
  {
   "cell_type": "code",
   "execution_count": 69,
   "metadata": {},
   "outputs": [
    {
     "name": "stdout",
     "output_type": "stream",
     "text": [
      "2020-12-07 00:00:00\n",
      "2020-12-21 00:00:00\n"
     ]
    }
   ],
   "source": [
    "# проверим время начала и конца регистраций новых пользователей\n",
    "print(events['first_date'].min())\n",
    "print(events['first_date'].max())"
   ]
  },
  {
   "cell_type": "markdown",
   "metadata": {},
   "source": [
    "# Вывод:\n",
    "В ходе изучения корректности теста recommender_system_test в соответствии с ТЗ мы обнаружили следующее:\n",
    "\n",
    "* Тест был остановлен раньше - 2020-12-29, а по ТЗ должен был быть остановлен 2021-01-04.\n",
    "* Набор новых пользователей был остановлен  2020-12-21. Соответсвует ТЗ.\n",
    "* Время теста совпадает с проведением маркетинговым мероприятием, что является нарушением проведения теста, так как искальжает обычное поведение пользователей. Окончание теста было 2020-12-29, а старт маркетинговой акции был 2020-12-25. Исходя из этого 4 дней теста не является репрезентативными.\n",
    "* Новых пользователей из EU набрали 15% из требуемых 15% по ТЗ.\n",
    "* В тест попали пользователи из других стран, а не только из EU. А в оба теста попали 1602 пользователей.\n",
    "* Из требуемых 6000 пользователей в тесте по ТЗ у нас их больше видимо из за набора после окончания теста.\n",
    "* Количества пользователей в группах теста распределены не равномерно.Такая неравномерность приведет к искальжению результатов в сторону группы А."
   ]
  },
  {
   "cell_type": "markdown",
   "metadata": {},
   "source": [
    "### Исследовательский анализ данных:"
   ]
  },
  {
   "cell_type": "markdown",
   "metadata": {},
   "source": [
    "# Количество событий на пользователя одинаково распределены в выборках?"
   ]
  },
  {
   "cell_type": "code",
   "execution_count": 70,
   "metadata": {},
   "outputs": [
    {
     "data": {
      "text/plain": [
       "array(['recommender_system_test'], dtype=object)"
      ]
     },
     "execution_count": 70,
     "metadata": {},
     "output_type": "execute_result"
    }
   ],
   "source": [
    "# проверим сколько уникальных тестов было проведено\n",
    "participants['ab_test'].unique()"
   ]
  },
  {
   "cell_type": "code",
   "execution_count": 71,
   "metadata": {},
   "outputs": [],
   "source": [
    "# создадим датасет с тестом рекомендательной системы (тех задание)\n",
    "recommender_system_test = participants[participants['ab_test'] == 'recommender_system_test'].copy()"
   ]
  },
  {
   "cell_type": "code",
   "execution_count": 72,
   "metadata": {},
   "outputs": [],
   "source": [
    "# разобьем тест на группы\n",
    "group_a = recommender_system_test[recommender_system_test['group'] == 'A'].drop('ab_test', axis=1)\n",
    "group_b = recommender_system_test[recommender_system_test['group'] == 'B'].drop('ab_test', axis=1)"
   ]
  },
  {
   "cell_type": "code",
   "execution_count": 73,
   "metadata": {},
   "outputs": [],
   "source": [
    "# посчитаем количество событий для каждого ползователя\n",
    "user_events = events.groupby('user_id').agg({'event_name':'count'})"
   ]
  },
  {
   "cell_type": "code",
   "execution_count": 74,
   "metadata": {},
   "outputs": [],
   "source": [
    "group_a_user_events = user_events.merge(group_a, how='inner', on='user_id')\n",
    "group_b_user_events = user_events.merge(group_b, how='inner', on='user_id')"
   ]
  },
  {
   "cell_type": "code",
   "execution_count": 75,
   "metadata": {},
   "outputs": [],
   "source": [
    "group_user_events = pd.concat([group_a_user_events, group_b_user_events])\n"
   ]
  },
  {
   "cell_type": "code",
   "execution_count": 76,
   "metadata": {},
   "outputs": [
    {
     "data": {
      "text/html": [
       "<div>\n",
       "<style scoped>\n",
       "    .dataframe tbody tr th:only-of-type {\n",
       "        vertical-align: middle;\n",
       "    }\n",
       "\n",
       "    .dataframe tbody tr th {\n",
       "        vertical-align: top;\n",
       "    }\n",
       "\n",
       "    .dataframe thead th {\n",
       "        text-align: right;\n",
       "    }\n",
       "</style>\n",
       "<table border=\"1\" class=\"dataframe\">\n",
       "  <thead>\n",
       "    <tr style=\"text-align: right;\">\n",
       "      <th></th>\n",
       "      <th>user_id</th>\n",
       "      <th>event_name</th>\n",
       "      <th>group</th>\n",
       "    </tr>\n",
       "  </thead>\n",
       "  <tbody>\n",
       "    <tr>\n",
       "      <th>0</th>\n",
       "      <td>0010A1C096941592</td>\n",
       "      <td>12</td>\n",
       "      <td>A</td>\n",
       "    </tr>\n",
       "    <tr>\n",
       "      <th>1</th>\n",
       "      <td>00341D8401F0F665</td>\n",
       "      <td>2</td>\n",
       "      <td>A</td>\n",
       "    </tr>\n",
       "    <tr>\n",
       "      <th>2</th>\n",
       "      <td>003DF44D7589BBD4</td>\n",
       "      <td>15</td>\n",
       "      <td>A</td>\n",
       "    </tr>\n",
       "    <tr>\n",
       "      <th>3</th>\n",
       "      <td>00505E15A9D81546</td>\n",
       "      <td>5</td>\n",
       "      <td>A</td>\n",
       "    </tr>\n",
       "    <tr>\n",
       "      <th>4</th>\n",
       "      <td>006E3E4E232CE760</td>\n",
       "      <td>6</td>\n",
       "      <td>A</td>\n",
       "    </tr>\n",
       "  </tbody>\n",
       "</table>\n",
       "</div>"
      ],
      "text/plain": [
       "            user_id  event_name group\n",
       "0  0010A1C096941592          12     A\n",
       "1  00341D8401F0F665           2     A\n",
       "2  003DF44D7589BBD4          15     A\n",
       "3  00505E15A9D81546           5     A\n",
       "4  006E3E4E232CE760           6     A"
      ]
     },
     "execution_count": 76,
     "metadata": {},
     "output_type": "execute_result"
    }
   ],
   "source": [
    "group_user_events.head()"
   ]
  },
  {
   "cell_type": "code",
   "execution_count": 79,
   "metadata": {},
   "outputs": [
    {
     "data": {
      "application/vnd.plotly.v1+json": {
       "config": {
        "plotlyServerURL": "https://plot.ly"
       },
       "data": [
        {
         "alignmentgroup": "True",
         "bingroup": "x",
         "hovertemplate": "group=A<br>event_name=%{x}<br>count=%{y}<extra></extra>",
         "legendgroup": "A",
         "marker": {
          "color": "#636efa",
          "pattern": {
           "shape": ""
          }
         },
         "name": "A",
         "offsetgroup": "A",
         "orientation": "v",
         "showlegend": true,
         "type": "histogram",
         "x": [
          12,
          2,
          15,
          5,
          6,
          20,
          2,
          9,
          9,
          9,
          4,
          9,
          4,
          8,
          4,
          3,
          9,
          6,
          9,
          1,
          2,
          4,
          8,
          9,
          9,
          6,
          6,
          4,
          10,
          6,
          9,
          8,
          4,
          4,
          12,
          6,
          8,
          9,
          8,
          15,
          12,
          10,
          4,
          8,
          4,
          8,
          5,
          3,
          8,
          6,
          10,
          8,
          3,
          6,
          9,
          6,
          3,
          12,
          2,
          6,
          12,
          3,
          4,
          8,
          6,
          2,
          9,
          4,
          4,
          3,
          8,
          6,
          5,
          9,
          6,
          6,
          6,
          4,
          10,
          6,
          12,
          9,
          3,
          9,
          9,
          8,
          4,
          12,
          10,
          9,
          9,
          6,
          3,
          9,
          12,
          15,
          6,
          12,
          6,
          6,
          8,
          16,
          9,
          2,
          9,
          12,
          15,
          15,
          6,
          4,
          9,
          5,
          6,
          4,
          3,
          6,
          4,
          4,
          8,
          4,
          10,
          3,
          6,
          10,
          8,
          15,
          6,
          9,
          2,
          8,
          3,
          9,
          4,
          8,
          12,
          9,
          2,
          6,
          10,
          8,
          6,
          12,
          4,
          9,
          8,
          8,
          6,
          6,
          10,
          6,
          9,
          3,
          3,
          6,
          4,
          4,
          4,
          5,
          3,
          6,
          1,
          4,
          3,
          8,
          6,
          8,
          10,
          12,
          20,
          4,
          4,
          4,
          8,
          9,
          2,
          8,
          6,
          6,
          4,
          6,
          4,
          8,
          2,
          6,
          10,
          9,
          2,
          6,
          8,
          4,
          5,
          8,
          12,
          8,
          4,
          10,
          6,
          4,
          3,
          4,
          10,
          12,
          5,
          12,
          12,
          4,
          9,
          10,
          4,
          9,
          3,
          6,
          2,
          6,
          6,
          12,
          2,
          3,
          12,
          2,
          12,
          3,
          16,
          6,
          15,
          8,
          12,
          8,
          8,
          6,
          9,
          3,
          9,
          12,
          3,
          6,
          6,
          12,
          4,
          4,
          8,
          4,
          4,
          6,
          6,
          10,
          12,
          3,
          4,
          4,
          6,
          6,
          9,
          6,
          6,
          15,
          9,
          4,
          2,
          12,
          2,
          3,
          6,
          6,
          9,
          20,
          3,
          4,
          20,
          15,
          6,
          8,
          3,
          12,
          6,
          8,
          16,
          8,
          9,
          4,
          4,
          4,
          9,
          8,
          6,
          6,
          8,
          16,
          6,
          20,
          15,
          2,
          8,
          12,
          6,
          16,
          4,
          4,
          4,
          8,
          8,
          9,
          9,
          2,
          4,
          4,
          6,
          24,
          9,
          6,
          4,
          4,
          3,
          9,
          2,
          3,
          4,
          12,
          6,
          2,
          8,
          3,
          9,
          6,
          4,
          12,
          6,
          1,
          6,
          10,
          12,
          12,
          6,
          2,
          4,
          4,
          9,
          2,
          8,
          6,
          1,
          6,
          12,
          4,
          2,
          9,
          8,
          3,
          9,
          4,
          18,
          8,
          6,
          15,
          2,
          9,
          6,
          3,
          9,
          4,
          12,
          6,
          2,
          3,
          6,
          6,
          5,
          3,
          6,
          2,
          6,
          4,
          8,
          4,
          8,
          8,
          6,
          6,
          8,
          6,
          10,
          12,
          4,
          9,
          4,
          1,
          4,
          6,
          4,
          8,
          9,
          16,
          3,
          9,
          8,
          2,
          3,
          3,
          12,
          15,
          2,
          4,
          2,
          8,
          3,
          6,
          2,
          1,
          4,
          9,
          15,
          6,
          8,
          3,
          12,
          4,
          6,
          9,
          6,
          12,
          12,
          8,
          9,
          4,
          3,
          8,
          9,
          12,
          4,
          9,
          9,
          3,
          4,
          8,
          8,
          9,
          6,
          6,
          12,
          8,
          6,
          6,
          4,
          6,
          15,
          8,
          12,
          3,
          8,
          2,
          4,
          15,
          8,
          6,
          6,
          8,
          6,
          4,
          6,
          12,
          8,
          10,
          20,
          4,
          6,
          6,
          8,
          6,
          4,
          8,
          3,
          2,
          6,
          3,
          3,
          5,
          8,
          12,
          10,
          5,
          9,
          6,
          6,
          6,
          6,
          6,
          6,
          4,
          12,
          6,
          12,
          4,
          4,
          3,
          6,
          6,
          3,
          6,
          20,
          12,
          6,
          6,
          12,
          6,
          9,
          3,
          3,
          8,
          6,
          15,
          6,
          8,
          6,
          8,
          8,
          3,
          6,
          8,
          3,
          9,
          6,
          2,
          15,
          3,
          12,
          6,
          9,
          6,
          15,
          8,
          6,
          4,
          4,
          9,
          8,
          15,
          6,
          5,
          6,
          6,
          8,
          4,
          9,
          8,
          9,
          9,
          15,
          2,
          3,
          6,
          6,
          4,
          8,
          12,
          4,
          8,
          2,
          5,
          8,
          12,
          8,
          3,
          5,
          8,
          12,
          6,
          4,
          4,
          4,
          4,
          10,
          6,
          12,
          9,
          10,
          6,
          9,
          6,
          4,
          2,
          15,
          1,
          15,
          4,
          6,
          6,
          10,
          3,
          9,
          12,
          6,
          8,
          5,
          9,
          16,
          5,
          10,
          15,
          4,
          12,
          12,
          6,
          18,
          2,
          6,
          6,
          2,
          6,
          4,
          4,
          8,
          6,
          12,
          12,
          2,
          3,
          10,
          20,
          3,
          6,
          2,
          8,
          1,
          4,
          4,
          4,
          2,
          6,
          12,
          6,
          4,
          8,
          16,
          3,
          5,
          4,
          4,
          3,
          4,
          9,
          3,
          8,
          8,
          15,
          3,
          6,
          4,
          1,
          4,
          12,
          6,
          12,
          4,
          6,
          9,
          4,
          12,
          3,
          9,
          12,
          9,
          12,
          4,
          8,
          6,
          9,
          8,
          6,
          2,
          3,
          6,
          6,
          6,
          12,
          8,
          12,
          9,
          9,
          6,
          3,
          6,
          6,
          6,
          6,
          3,
          9,
          4,
          12,
          4,
          6,
          14,
          2,
          12,
          8,
          2,
          6,
          18,
          6,
          9,
          3,
          2,
          2,
          6,
          8,
          8,
          4,
          4,
          8,
          4,
          4,
          6,
          1,
          2,
          9,
          1,
          12,
          9,
          6,
          12,
          4,
          8,
          8,
          3,
          6,
          3,
          4,
          2,
          8,
          6,
          12,
          4,
          6,
          8,
          6,
          2,
          15,
          3,
          3,
          6,
          8,
          15,
          4,
          9,
          9,
          8,
          9,
          2,
          2,
          6,
          4,
          6,
          3,
          16,
          9,
          2,
          2,
          6,
          15,
          6,
          8,
          9,
          6,
          8,
          9,
          9,
          3,
          9,
          2,
          9,
          4,
          9,
          8,
          6,
          8,
          16,
          12,
          1,
          4,
          6,
          8,
          12,
          4,
          3,
          15,
          3,
          6,
          15,
          8,
          6,
          20,
          6,
          4,
          6,
          12,
          12,
          6,
          16,
          6,
          3,
          2,
          8,
          4,
          8,
          9,
          8,
          4,
          9,
          9,
          10,
          6,
          4,
          12,
          4,
          4,
          4,
          5,
          9,
          6,
          9,
          9,
          6,
          3,
          2,
          12,
          8,
          3,
          9,
          5,
          12,
          4,
          12,
          2,
          9,
          6,
          4,
          10,
          12,
          5,
          3,
          8,
          4,
          12,
          12,
          2,
          12,
          4,
          4,
          8,
          6,
          12,
          4,
          10,
          12,
          6,
          2,
          4,
          9,
          4,
          12,
          4,
          6,
          6,
          2,
          10,
          12,
          9,
          15,
          2,
          6,
          6,
          4,
          6,
          12,
          5,
          6,
          6,
          2,
          4,
          9,
          12,
          4,
          3,
          4,
          4,
          8,
          4,
          4,
          2,
          2,
          6,
          9,
          6,
          6,
          6,
          9,
          3,
          2,
          3,
          6,
          2,
          6,
          6,
          6,
          6,
          4,
          4,
          6,
          2,
          2,
          6,
          9,
          9,
          4,
          12,
          10,
          4,
          8,
          9,
          8,
          4,
          12,
          6,
          3,
          4,
          2,
          6,
          16,
          9,
          12,
          12,
          6,
          1,
          8,
          8,
          4,
          6,
          4,
          12,
          8,
          8,
          3,
          4,
          12,
          1,
          9,
          4,
          12,
          8,
          4,
          2,
          9,
          4,
          6,
          10,
          6,
          9,
          9,
          8,
          9,
          3,
          9,
          6,
          12,
          1,
          9,
          6,
          1,
          9,
          3,
          6,
          8,
          2,
          9,
          8,
          9,
          6,
          2,
          6,
          3,
          8,
          3,
          5,
          4,
          8,
          8,
          4,
          4,
          12,
          6,
          10,
          10,
          8,
          12,
          12,
          9,
          8,
          4,
          3,
          15,
          3,
          6,
          2,
          4,
          8,
          10,
          18,
          3,
          6,
          10,
          4,
          8,
          8,
          8,
          3,
          3,
          9,
          2,
          8,
          8,
          9,
          15,
          14,
          6,
          8,
          6,
          4,
          6,
          3,
          4,
          8,
          4,
          12,
          14,
          4,
          9,
          8,
          12,
          4,
          9,
          12,
          8,
          6,
          12,
          3,
          6,
          3,
          12,
          2,
          4,
          4,
          8,
          4,
          12,
          18,
          9,
          4,
          2,
          8,
          6,
          5,
          10,
          16,
          9,
          4,
          8,
          4,
          6,
          4,
          2,
          6,
          12,
          2,
          8,
          12,
          12,
          6,
          6,
          12,
          6,
          4,
          9,
          6,
          12,
          2,
          3,
          8,
          6,
          8,
          6,
          6,
          3,
          4,
          4,
          4,
          6,
          15,
          4,
          16,
          4,
          3,
          6,
          3,
          10,
          3,
          9,
          4,
          2,
          12,
          8,
          6,
          6,
          9,
          12,
          6,
          4,
          12,
          9,
          3,
          4,
          4,
          15,
          8,
          9,
          6,
          9,
          6,
          4,
          2,
          6,
          4,
          12,
          2,
          4,
          2,
          6,
          3,
          6,
          3,
          6,
          4,
          8,
          4,
          3,
          9,
          4,
          20,
          10,
          12,
          3,
          2,
          6,
          12,
          6,
          6,
          15,
          6,
          12,
          8,
          9,
          10,
          10,
          5,
          6,
          9,
          2,
          9,
          8,
          1,
          4,
          3,
          6,
          9,
          9,
          6,
          8,
          21,
          2,
          3,
          2,
          15,
          12,
          2,
          3,
          2,
          18,
          10,
          6,
          9,
          5,
          6,
          9,
          6,
          6,
          4,
          9,
          4,
          2,
          3,
          8,
          3,
          6,
          6,
          2,
          6,
          5,
          4,
          18,
          12,
          4,
          14,
          6,
          9,
          3,
          9,
          6,
          8,
          4,
          6,
          6,
          10,
          12,
          5,
          12,
          20,
          9,
          9,
          4,
          7,
          5,
          3,
          12,
          4,
          3,
          6,
          9,
          8,
          12,
          9,
          12,
          3,
          8,
          12,
          3,
          9,
          6,
          15,
          6,
          9,
          12,
          3,
          3,
          3,
          2,
          3,
          4,
          8,
          2,
          4,
          6,
          3,
          4,
          3,
          6,
          9,
          6,
          4,
          11,
          6,
          12,
          6,
          20,
          10,
          3,
          6,
          9,
          1,
          15,
          6,
          5,
          8,
          12,
          6,
          12,
          15,
          2,
          12,
          9,
          4,
          10,
          12,
          12,
          4,
          3,
          6,
          4,
          20,
          9,
          6,
          12,
          8,
          3,
          3,
          2,
          8,
          6,
          3,
          2,
          6,
          6,
          12,
          10,
          2,
          2,
          4,
          6,
          6,
          5,
          2,
          4,
          6,
          6,
          3,
          2,
          3,
          8,
          6,
          9,
          12,
          6,
          4,
          8,
          1,
          6,
          4,
          2,
          2,
          14,
          2,
          6,
          4,
          8,
          6,
          1,
          6,
          3,
          8,
          2,
          4,
          3,
          4,
          6,
          4,
          4,
          4,
          6,
          12,
          9,
          9,
          12,
          2,
          6,
          3,
          8,
          6,
          6,
          10,
          3,
          4,
          4,
          9,
          12,
          4,
          12,
          3,
          3,
          4,
          8,
          12,
          2,
          4,
          8,
          6,
          8,
          4,
          4,
          8,
          4,
          10,
          20,
          6,
          4,
          1,
          10,
          8,
          6,
          6,
          9,
          20,
          6,
          4,
          9,
          12,
          10,
          6,
          3,
          4,
          4,
          3,
          3,
          4,
          12,
          2,
          12,
          2,
          9,
          6,
          6,
          6,
          2,
          12,
          6,
          12,
          2,
          6,
          4,
          18,
          9,
          6,
          8,
          8,
          4,
          6,
          6,
          3,
          6,
          16,
          16,
          4,
          3,
          8,
          16,
          9,
          12,
          3,
          10,
          14,
          9,
          6,
          8,
          8,
          3,
          3,
          4,
          8,
          2,
          4,
          12,
          2,
          4,
          8,
          4,
          2,
          6,
          3,
          8,
          4,
          8,
          4,
          2,
          4,
          6,
          4,
          6,
          3,
          4,
          4,
          18,
          9,
          8,
          1,
          4,
          10,
          4,
          9,
          3,
          6,
          9,
          9,
          6,
          8,
          9,
          2,
          4,
          3,
          6,
          2,
          6,
          12,
          3,
          12,
          12,
          6,
          8,
          18,
          2,
          4,
          6,
          1,
          8,
          2,
          3,
          3,
          8,
          3,
          12,
          16,
          13,
          6,
          4,
          12,
          4,
          8,
          4,
          15,
          8,
          2,
          4,
          12,
          4,
          4,
          8,
          12,
          6,
          10,
          9,
          2,
          4,
          6,
          6,
          9,
          1,
          8,
          8,
          9,
          8,
          6,
          2,
          2,
          12,
          16,
          6,
          9,
          3,
          6,
          3,
          3,
          8,
          9,
          4,
          6,
          9,
          6,
          9,
          9,
          10,
          6,
          4,
          4,
          9,
          6,
          6,
          8,
          6,
          6,
          2,
          4,
          6,
          8,
          3,
          2,
          6,
          4,
          6,
          4,
          6,
          2,
          9,
          2,
          2,
          3,
          8,
          4,
          4,
          9,
          8,
          2,
          4,
          9,
          5,
          12,
          9,
          20,
          9,
          6,
          4,
          2,
          6,
          3,
          12,
          9,
          6,
          4,
          15,
          5,
          18,
          9,
          4,
          2,
          6,
          9,
          12,
          12,
          6,
          4,
          6,
          12,
          6,
          9,
          15,
          8,
          15,
          19,
          3,
          3,
          6,
          4,
          16,
          12,
          4,
          4,
          9,
          10,
          3,
          12,
          6,
          6,
          12,
          9,
          10,
          10,
          6,
          6,
          4,
          5,
          16,
          6,
          4,
          8,
          9,
          4,
          4,
          9,
          3,
          12,
          6,
          4,
          2,
          9,
          4,
          8,
          8,
          6,
          4,
          2,
          4,
          12,
          6,
          4,
          6,
          3,
          4,
          3,
          6,
          3,
          3,
          6,
          15,
          12,
          4,
          6,
          6,
          9,
          10,
          6,
          2,
          10,
          4,
          6,
          8,
          10,
          15,
          8,
          3,
          5,
          6,
          15,
          2,
          2,
          4,
          4,
          6,
          1,
          2,
          6,
          12,
          12,
          6,
          4,
          9,
          6,
          4,
          15,
          10,
          4,
          9,
          4,
          4,
          2,
          20,
          6,
          2,
          6,
          12,
          6,
          20,
          6,
          9,
          4,
          6,
          15,
          15,
          4,
          18,
          11,
          8,
          6,
          3,
          8,
          4,
          9,
          18,
          4,
          4,
          9,
          10,
          8,
          15,
          6,
          8,
          2,
          4,
          14,
          8,
          3,
          4,
          4,
          12,
          15,
          1,
          6,
          9,
          8,
          8,
          6,
          4,
          6,
          3,
          15,
          6,
          6,
          4,
          4,
          4,
          14,
          6,
          4,
          9,
          2,
          6,
          6,
          12,
          6,
          3,
          6,
          10,
          15,
          6,
          4,
          4,
          9,
          12,
          16,
          10,
          4,
          4,
          2,
          8,
          8,
          9,
          12,
          6,
          6,
          16,
          16,
          9,
          6,
          6,
          12,
          6,
          2,
          3,
          9,
          10,
          6,
          4,
          2,
          6,
          10,
          6,
          12,
          9,
          2,
          6,
          6,
          8,
          6,
          16,
          8,
          6,
          12,
          10,
          10,
          4,
          2,
          2,
          6,
          4,
          8,
          12,
          4,
          20,
          8,
          6,
          6,
          12,
          8,
          6,
          16,
          9,
          4,
          3,
          5,
          6,
          3,
          4,
          9,
          6,
          4,
          6,
          9,
          6,
          12,
          12,
          10,
          15,
          4,
          9,
          6,
          6,
          10,
          6,
          2,
          4,
          8,
          10,
          10,
          3,
          4,
          1,
          10,
          6,
          5,
          8,
          8,
          3,
          12,
          6,
          12,
          6,
          9,
          8,
          2,
          9,
          15,
          8,
          4,
          6,
          9,
          2,
          3,
          12,
          6,
          2,
          3,
          6,
          6,
          4,
          4,
          6,
          4,
          3,
          6,
          6,
          8,
          10,
          15,
          3,
          4,
          4,
          6,
          9,
          14,
          8,
          12,
          6,
          6,
          3,
          6,
          15,
          4,
          6,
          4,
          15,
          6,
          10,
          6,
          4,
          4,
          9,
          12,
          2,
          2,
          6,
          6,
          8,
          2,
          8,
          4,
          3,
          3,
          12,
          10,
          15,
          5,
          4,
          9,
          12,
          3,
          4,
          8,
          9,
          4,
          4,
          12,
          3,
          2,
          3,
          6,
          10,
          4,
          6,
          15,
          4,
          4,
          2,
          4,
          15,
          15,
          15,
          3,
          2,
          8,
          4,
          8,
          9,
          8,
          12,
          6,
          15,
          21,
          4,
          8,
          6,
          6,
          12,
          8,
          8,
          6,
          4,
          6,
          15,
          6,
          12,
          16,
          4,
          6,
          8,
          8,
          5,
          8,
          20,
          18,
          8,
          12,
          8,
          6,
          4,
          6,
          4,
          5,
          8,
          4,
          4,
          8,
          4,
          5,
          9,
          10,
          12,
          4,
          4,
          4,
          6,
          4,
          4,
          1,
          3,
          8,
          8,
          6,
          15,
          8,
          10,
          4,
          8,
          8,
          4,
          3,
          9,
          9,
          6,
          12,
          8,
          4,
          6,
          6,
          12,
          3,
          4,
          6,
          3,
          6,
          6,
          6,
          6,
          4,
          20,
          6,
          2,
          18,
          5,
          6,
          4,
          5,
          6,
          8,
          3,
          20,
          9,
          12,
          8,
          4,
          9,
          6,
          4,
          2,
          4,
          8,
          6,
          6,
          2,
          2,
          6,
          4,
          6,
          9,
          3,
          8,
          3,
          4,
          4,
          9,
          2,
          8,
          9,
          6,
          3,
          6,
          9,
          6,
          6,
          9,
          6,
          16,
          8,
          10,
          8,
          3,
          4,
          8,
          9,
          12,
          9,
          4,
          9,
          1,
          6,
          8,
          6,
          9,
          4,
          6,
          6,
          8,
          2,
          2,
          6,
          9,
          12,
          2,
          6,
          16,
          9,
          4,
          6,
          3,
          6,
          12,
          2,
          8,
          3,
          6,
          3,
          18,
          6,
          12,
          6,
          4,
          6,
          12,
          8,
          8,
          2,
          3,
          12,
          4,
          4,
          12,
          2,
          6,
          6,
          6,
          8,
          6,
          9,
          6,
          6,
          12,
          1,
          3,
          8,
          10,
          6,
          12,
          8,
          2,
          4,
          9,
          4,
          12,
          4,
          4,
          6,
          9,
          1,
          6,
          12,
          8,
          2,
          4,
          9,
          18,
          6,
          8,
          12,
          12,
          9,
          8,
          4,
          15,
          4,
          6,
          3,
          1,
          4,
          8,
          12,
          12,
          6,
          6,
          24,
          6,
          8,
          6,
          2,
          8,
          6,
          9,
          6,
          4,
          5,
          3,
          6,
          6,
          2,
          8,
          4,
          6,
          9,
          5,
          2,
          9,
          8,
          9,
          2,
          12,
          4,
          6,
          6,
          6,
          6,
          6,
          8,
          4,
          2,
          1,
          2,
          4,
          8,
          4,
          6,
          12,
          1,
          4,
          2,
          2,
          9,
          5,
          12,
          12,
          3,
          9,
          6,
          6,
          9,
          6,
          4,
          4,
          6,
          4,
          2,
          6,
          8,
          4,
          6,
          12,
          6,
          10,
          2,
          2,
          4,
          8,
          4,
          12,
          6,
          6,
          3,
          12,
          9,
          12,
          2,
          4,
          15,
          6,
          3,
          10,
          2,
          4,
          4,
          12,
          4,
          12,
          4,
          6,
          10,
          2,
          6,
          15,
          6,
          12,
          4,
          2,
          6,
          6,
          4,
          12,
          15,
          4,
          6,
          12,
          16,
          6,
          9,
          4,
          4,
          6,
          18,
          4,
          6,
          9,
          2,
          3,
          6,
          8,
          15,
          6,
          16,
          12,
          4,
          1,
          8,
          2,
          3,
          4,
          8,
          6,
          6,
          8,
          8,
          9,
          6,
          9,
          3,
          15,
          6,
          9,
          6,
          4,
          6,
          12,
          6,
          6,
          4,
          8,
          4,
          12,
          12,
          1,
          6,
          6,
          6,
          4,
          4,
          6,
          6,
          12,
          6,
          9,
          4,
          3,
          6,
          6,
          12,
          2,
          9,
          8,
          12,
          16,
          8,
          4,
          10,
          3,
          6,
          6,
          12,
          6,
          3,
          6,
          4,
          3,
          4,
          15,
          4,
          6,
          12,
          6,
          20,
          6,
          6,
          12,
          6,
          9,
          3,
          6,
          6,
          3,
          2,
          3,
          2,
          4,
          3,
          18,
          4,
          2,
          3,
          6,
          4,
          8,
          6,
          6,
          4,
          6,
          2,
          1,
          4,
          9,
          2,
          8,
          12,
          10,
          4,
          2,
          8,
          9,
          16,
          9,
          3,
          4,
          4,
          8,
          6,
          4,
          6,
          3,
          8,
          3,
          8,
          6,
          3,
          2,
          6,
          3,
          6,
          3,
          3,
          15,
          6,
          9,
          9,
          4,
          8,
          9,
          2,
          4,
          6,
          3,
          2,
          4,
          6,
          2,
          18,
          3,
          6,
          8,
          9,
          9,
          12,
          9,
          6,
          6,
          6,
          8,
          6,
          3,
          6,
          9,
          6,
          2,
          3,
          6,
          3,
          8,
          6,
          6,
          6,
          3,
          9,
          4,
          2,
          6,
          12,
          2,
          4,
          2,
          6,
          4,
          6,
          4,
          3,
          2,
          15,
          6,
          4,
          6,
          6,
          2,
          8,
          9,
          6,
          12,
          6,
          6,
          9,
          6,
          6,
          9,
          2,
          2,
          4,
          4,
          8,
          6,
          9,
          8,
          6,
          8,
          8,
          6,
          9,
          6,
          6,
          2,
          6,
          2,
          9,
          8,
          8,
          8,
          3,
          2,
          9,
          6,
          3,
          12,
          15,
          3,
          10,
          10,
          4,
          12,
          12,
          12,
          12,
          9,
          9,
          6,
          15,
          8,
          15,
          2,
          4,
          3,
          3,
          4,
          3,
          8,
          5,
          1,
          9,
          6,
          8,
          4,
          9,
          4,
          4,
          4,
          4,
          8,
          4,
          9,
          6,
          6,
          6,
          6,
          4,
          9,
          6,
          15,
          6,
          9,
          8,
          10,
          9,
          9,
          6,
          8,
          2,
          2,
          3,
          8,
          2,
          8,
          6,
          6,
          6,
          10,
          8,
          4,
          8,
          4,
          3,
          3,
          6,
          6,
          4,
          3,
          8,
          4,
          8,
          14,
          10,
          20,
          12,
          4,
          6,
          9,
          9,
          4,
          4,
          12,
          8,
          6,
          12,
          6,
          12,
          12,
          15,
          2,
          8,
          8,
          20,
          6,
          12,
          3,
          8,
          6,
          6,
          9,
          8,
          9,
          4,
          4,
          6,
          2,
          6,
          9,
          12,
          6,
          6,
          12,
          3,
          4,
          2,
          1,
          6,
          4,
          4,
          8,
          4,
          6,
          8,
          8,
          8,
          4,
          6,
          9,
          12,
          2,
          8,
          4,
          3,
          16,
          12,
          3,
          3,
          4,
          8,
          3,
          6,
          1,
          9,
          6,
          9,
          12,
          6,
          9,
          10,
          4,
          4,
          4,
          4,
          12,
          6,
          10,
          9,
          8,
          6
         ],
         "xaxis": "x",
         "yaxis": "y"
        },
        {
         "alignmentgroup": "True",
         "bingroup": "x",
         "hovertemplate": "group=B<br>event_name=%{x}<br>count=%{y}<extra></extra>",
         "legendgroup": "B",
         "marker": {
          "color": "#EF553B",
          "pattern": {
           "shape": ""
          }
         },
         "name": "B",
         "offsetgroup": "B",
         "orientation": "v",
         "showlegend": true,
         "type": "histogram",
         "x": [
          6,
          4,
          6,
          2,
          12,
          5,
          6,
          8,
          3,
          2,
          5,
          6,
          8,
          3,
          3,
          2,
          3,
          6,
          2,
          3,
          3,
          4,
          3,
          8,
          6,
          9,
          9,
          2,
          4,
          7,
          9,
          2,
          4,
          1,
          2,
          12,
          9,
          12,
          9,
          6,
          3,
          5,
          2,
          4,
          3,
          9,
          12,
          3,
          6,
          3,
          6,
          6,
          24,
          8,
          24,
          2,
          12,
          2,
          4,
          10,
          4,
          6,
          6,
          5,
          6,
          6,
          9,
          3,
          8,
          2,
          3,
          6,
          8,
          3,
          9,
          6,
          9,
          6,
          6,
          2,
          8,
          4,
          1,
          3,
          4,
          5,
          9,
          3,
          8,
          4,
          4,
          9,
          9,
          4,
          6,
          2,
          2,
          9,
          6,
          3,
          4,
          8,
          3,
          9,
          9,
          4,
          4,
          5,
          1,
          4,
          6,
          5,
          4,
          4,
          6,
          4,
          4,
          8,
          8,
          3,
          4,
          4,
          4,
          6,
          4,
          6,
          12,
          3,
          2,
          9,
          6,
          2,
          2,
          6,
          4,
          4,
          9,
          2,
          6,
          12,
          4,
          4,
          4,
          4,
          8,
          2,
          3,
          4,
          2,
          15,
          3,
          6,
          4,
          12,
          12,
          10,
          20,
          3,
          4,
          4,
          1,
          4,
          6,
          8,
          4,
          5,
          8,
          4,
          6,
          3,
          8,
          9,
          4,
          2,
          4,
          8,
          7,
          6,
          6,
          6,
          3,
          6,
          4,
          3,
          2,
          2,
          6,
          9,
          4,
          6,
          8,
          10,
          16,
          10,
          9,
          3,
          4,
          6,
          4,
          6,
          3,
          9,
          3,
          3,
          4,
          6,
          8,
          6,
          8,
          3,
          3,
          4,
          4,
          11,
          2,
          6,
          6,
          2,
          12,
          9,
          1,
          4,
          12,
          2,
          2,
          6,
          2,
          4,
          2,
          3,
          4,
          9,
          6,
          8,
          2,
          4,
          4,
          4,
          4,
          6,
          4,
          4,
          12,
          6,
          2,
          4,
          4,
          6,
          2,
          6,
          2,
          8,
          2,
          4,
          9,
          4,
          3,
          4,
          8,
          5,
          9,
          4,
          4,
          15,
          4,
          4,
          8,
          4,
          6,
          4,
          4,
          6,
          4,
          8,
          2,
          3,
          4,
          12,
          2,
          5,
          20,
          2,
          4,
          6,
          8,
          4,
          4,
          8,
          4,
          4,
          3,
          2,
          8,
          2,
          8,
          4,
          9,
          4,
          10,
          3,
          4,
          6,
          6,
          1,
          8,
          9,
          12,
          2,
          8,
          3,
          12,
          9,
          1,
          6,
          2,
          2,
          4,
          8,
          4,
          9,
          6,
          6,
          4,
          4,
          2,
          6,
          5,
          10,
          3,
          6,
          3,
          12,
          8,
          4,
          6,
          6,
          6,
          6,
          4,
          6,
          3,
          4,
          3,
          4,
          3,
          1,
          8,
          15,
          6,
          9,
          2,
          6,
          2,
          8,
          15,
          4,
          10,
          3,
          9,
          3,
          9,
          10,
          8,
          4,
          3,
          2,
          2,
          15,
          2,
          6,
          3,
          4,
          6,
          8,
          6,
          2,
          2,
          4,
          1,
          2,
          6,
          4,
          2,
          9,
          3,
          6,
          6,
          6,
          6,
          9,
          3,
          4,
          15,
          12,
          12,
          6,
          9,
          6,
          3,
          6,
          9,
          8,
          6,
          12,
          8,
          12,
          5,
          2,
          6,
          6,
          2,
          12,
          12,
          6,
          6,
          3,
          2,
          4,
          12,
          10,
          6,
          9,
          5,
          10,
          12,
          3,
          4,
          8,
          4,
          4,
          2,
          2,
          3,
          2,
          1,
          8,
          4,
          12,
          3,
          6,
          3,
          7,
          3,
          12,
          4,
          6,
          12,
          6,
          20,
          9,
          4,
          4,
          4,
          10,
          6,
          4,
          11,
          2,
          6,
          3,
          12,
          2,
          4,
          3,
          2,
          6,
          8,
          3,
          6,
          6,
          3,
          2,
          6,
          6,
          6,
          9,
          1,
          6,
          6,
          2,
          6,
          2,
          8,
          10,
          9,
          5,
          6,
          21,
          10,
          3,
          8,
          2,
          9,
          4,
          9,
          3,
          2,
          4,
          4,
          3,
          6,
          4,
          6,
          12,
          3,
          3,
          6,
          3,
          2,
          2,
          8,
          4,
          6,
          5,
          6,
          2,
          12,
          2,
          3,
          8,
          4,
          6,
          4,
          2,
          8,
          1,
          3,
          8,
          6,
          6,
          6,
          9,
          6,
          2,
          4,
          3,
          1,
          4,
          6,
          3,
          2,
          4,
          4,
          12,
          9,
          6,
          6,
          4,
          4,
          4,
          3,
          4,
          8,
          3,
          4,
          8,
          1,
          3,
          3,
          8,
          4,
          6,
          10,
          3,
          2,
          6,
          6,
          6,
          6,
          6,
          2,
          6,
          16,
          3,
          2,
          4,
          6,
          6,
          12,
          4,
          2,
          4,
          6,
          3,
          12,
          3,
          7,
          6,
          5,
          4,
          8,
          9,
          3,
          4,
          8,
          3,
          3,
          6,
          8,
          6,
          6,
          3,
          6,
          4,
          4,
          6,
          5,
          2,
          3,
          3,
          2,
          6,
          6,
          16,
          6,
          2,
          8,
          4,
          4,
          2,
          4,
          6,
          2,
          6,
          6,
          6,
          3,
          3,
          8,
          3,
          12,
          4,
          3,
          4,
          3,
          15,
          3,
          6,
          4,
          2,
          6,
          5,
          1,
          8,
          1,
          4,
          4,
          1,
          12,
          6,
          11,
          4,
          9,
          3,
          8,
          3,
          8,
          12,
          2,
          6,
          8,
          9,
          6,
          2,
          3,
          2,
          8,
          3,
          2,
          8,
          2,
          2,
          3,
          3,
          4,
          4,
          2,
          4,
          6,
          6,
          9,
          3,
          3,
          4,
          6,
          4,
          2,
          2,
          9,
          4,
          3,
          6,
          4,
          3,
          9,
          3,
          2,
          6,
          4,
          4,
          4,
          9,
          7,
          9,
          15,
          4,
          3,
          4,
          4,
          6,
          4,
          3,
          2,
          6,
          3,
          9,
          3,
          4,
          6,
          3,
          3,
          13,
          5,
          18,
          5,
          3,
          4,
          9,
          4,
          6,
          6,
          4,
          6,
          5,
          4,
          10,
          6,
          8,
          2,
          8,
          3,
          3,
          8,
          6,
          4,
          4,
          3,
          4,
          2,
          6,
          2,
          6,
          4,
          9,
          3,
          2,
          8,
          10,
          8,
          1,
          2,
          6,
          14,
          3,
          4,
          4,
          6,
          4,
          3,
          3,
          2,
          2,
          3,
          6,
          9,
          10,
          9,
          4,
          6,
          9,
          4,
          4,
          9,
          8,
          8,
          6,
          4,
          6,
          6,
          10,
          12,
          1,
          9,
          2,
          6,
          2,
          12,
          1,
          3,
          10,
          2,
          12,
          6,
          8,
          9,
          5,
          4,
          6,
          2,
          6,
          4,
          4,
          2,
          4,
          6,
          4,
          8,
          2,
          6,
          8,
          4,
          4,
          6,
          2,
          8,
          3,
          4,
          6,
          8,
          2,
          3,
          3,
          6,
          8,
          2,
          9,
          3,
          10,
          6,
          15,
          6,
          8,
          1,
          1,
          6,
          6,
          4,
          6,
          8,
          3,
          6,
          3,
          8,
          4,
          10,
          9,
          5,
          9,
          6,
          8,
          6,
          8,
          3,
          6,
          9,
          4,
          3,
          6,
          4,
          3,
          4,
          4,
          6,
          2,
          4,
          4,
          12,
          2,
          3,
          1,
          3,
          6,
          3,
          7,
          5,
          6,
          6,
          5,
          2,
          2,
          9,
          3,
          3,
          12,
          2,
          4,
          2,
          2,
          4,
          4,
          5,
          4,
          4,
          6,
          4,
          2,
          6,
          9,
          6,
          6,
          1,
          2,
          12,
          6,
          8,
          6,
          3,
          4,
          4,
          4,
          6,
          6,
          2,
          20,
          2,
          3,
          4,
          9
         ],
         "xaxis": "x",
         "yaxis": "y"
        }
       ],
       "layout": {
        "barmode": "relative",
        "legend": {
         "title": {
          "text": "group"
         },
         "tracegroupgap": 0
        },
        "template": {
         "data": {
          "bar": [
           {
            "error_x": {
             "color": "#2a3f5f"
            },
            "error_y": {
             "color": "#2a3f5f"
            },
            "marker": {
             "line": {
              "color": "#E5ECF6",
              "width": 0.5
             },
             "pattern": {
              "fillmode": "overlay",
              "size": 10,
              "solidity": 0.2
             }
            },
            "type": "bar"
           }
          ],
          "barpolar": [
           {
            "marker": {
             "line": {
              "color": "#E5ECF6",
              "width": 0.5
             },
             "pattern": {
              "fillmode": "overlay",
              "size": 10,
              "solidity": 0.2
             }
            },
            "type": "barpolar"
           }
          ],
          "carpet": [
           {
            "aaxis": {
             "endlinecolor": "#2a3f5f",
             "gridcolor": "white",
             "linecolor": "white",
             "minorgridcolor": "white",
             "startlinecolor": "#2a3f5f"
            },
            "baxis": {
             "endlinecolor": "#2a3f5f",
             "gridcolor": "white",
             "linecolor": "white",
             "minorgridcolor": "white",
             "startlinecolor": "#2a3f5f"
            },
            "type": "carpet"
           }
          ],
          "choropleth": [
           {
            "colorbar": {
             "outlinewidth": 0,
             "ticks": ""
            },
            "type": "choropleth"
           }
          ],
          "contour": [
           {
            "colorbar": {
             "outlinewidth": 0,
             "ticks": ""
            },
            "colorscale": [
             [
              0,
              "#0d0887"
             ],
             [
              0.1111111111111111,
              "#46039f"
             ],
             [
              0.2222222222222222,
              "#7201a8"
             ],
             [
              0.3333333333333333,
              "#9c179e"
             ],
             [
              0.4444444444444444,
              "#bd3786"
             ],
             [
              0.5555555555555556,
              "#d8576b"
             ],
             [
              0.6666666666666666,
              "#ed7953"
             ],
             [
              0.7777777777777778,
              "#fb9f3a"
             ],
             [
              0.8888888888888888,
              "#fdca26"
             ],
             [
              1,
              "#f0f921"
             ]
            ],
            "type": "contour"
           }
          ],
          "contourcarpet": [
           {
            "colorbar": {
             "outlinewidth": 0,
             "ticks": ""
            },
            "type": "contourcarpet"
           }
          ],
          "heatmap": [
           {
            "colorbar": {
             "outlinewidth": 0,
             "ticks": ""
            },
            "colorscale": [
             [
              0,
              "#0d0887"
             ],
             [
              0.1111111111111111,
              "#46039f"
             ],
             [
              0.2222222222222222,
              "#7201a8"
             ],
             [
              0.3333333333333333,
              "#9c179e"
             ],
             [
              0.4444444444444444,
              "#bd3786"
             ],
             [
              0.5555555555555556,
              "#d8576b"
             ],
             [
              0.6666666666666666,
              "#ed7953"
             ],
             [
              0.7777777777777778,
              "#fb9f3a"
             ],
             [
              0.8888888888888888,
              "#fdca26"
             ],
             [
              1,
              "#f0f921"
             ]
            ],
            "type": "heatmap"
           }
          ],
          "heatmapgl": [
           {
            "colorbar": {
             "outlinewidth": 0,
             "ticks": ""
            },
            "colorscale": [
             [
              0,
              "#0d0887"
             ],
             [
              0.1111111111111111,
              "#46039f"
             ],
             [
              0.2222222222222222,
              "#7201a8"
             ],
             [
              0.3333333333333333,
              "#9c179e"
             ],
             [
              0.4444444444444444,
              "#bd3786"
             ],
             [
              0.5555555555555556,
              "#d8576b"
             ],
             [
              0.6666666666666666,
              "#ed7953"
             ],
             [
              0.7777777777777778,
              "#fb9f3a"
             ],
             [
              0.8888888888888888,
              "#fdca26"
             ],
             [
              1,
              "#f0f921"
             ]
            ],
            "type": "heatmapgl"
           }
          ],
          "histogram": [
           {
            "marker": {
             "pattern": {
              "fillmode": "overlay",
              "size": 10,
              "solidity": 0.2
             }
            },
            "type": "histogram"
           }
          ],
          "histogram2d": [
           {
            "colorbar": {
             "outlinewidth": 0,
             "ticks": ""
            },
            "colorscale": [
             [
              0,
              "#0d0887"
             ],
             [
              0.1111111111111111,
              "#46039f"
             ],
             [
              0.2222222222222222,
              "#7201a8"
             ],
             [
              0.3333333333333333,
              "#9c179e"
             ],
             [
              0.4444444444444444,
              "#bd3786"
             ],
             [
              0.5555555555555556,
              "#d8576b"
             ],
             [
              0.6666666666666666,
              "#ed7953"
             ],
             [
              0.7777777777777778,
              "#fb9f3a"
             ],
             [
              0.8888888888888888,
              "#fdca26"
             ],
             [
              1,
              "#f0f921"
             ]
            ],
            "type": "histogram2d"
           }
          ],
          "histogram2dcontour": [
           {
            "colorbar": {
             "outlinewidth": 0,
             "ticks": ""
            },
            "colorscale": [
             [
              0,
              "#0d0887"
             ],
             [
              0.1111111111111111,
              "#46039f"
             ],
             [
              0.2222222222222222,
              "#7201a8"
             ],
             [
              0.3333333333333333,
              "#9c179e"
             ],
             [
              0.4444444444444444,
              "#bd3786"
             ],
             [
              0.5555555555555556,
              "#d8576b"
             ],
             [
              0.6666666666666666,
              "#ed7953"
             ],
             [
              0.7777777777777778,
              "#fb9f3a"
             ],
             [
              0.8888888888888888,
              "#fdca26"
             ],
             [
              1,
              "#f0f921"
             ]
            ],
            "type": "histogram2dcontour"
           }
          ],
          "mesh3d": [
           {
            "colorbar": {
             "outlinewidth": 0,
             "ticks": ""
            },
            "type": "mesh3d"
           }
          ],
          "parcoords": [
           {
            "line": {
             "colorbar": {
              "outlinewidth": 0,
              "ticks": ""
             }
            },
            "type": "parcoords"
           }
          ],
          "pie": [
           {
            "automargin": true,
            "type": "pie"
           }
          ],
          "scatter": [
           {
            "fillpattern": {
             "fillmode": "overlay",
             "size": 10,
             "solidity": 0.2
            },
            "type": "scatter"
           }
          ],
          "scatter3d": [
           {
            "line": {
             "colorbar": {
              "outlinewidth": 0,
              "ticks": ""
             }
            },
            "marker": {
             "colorbar": {
              "outlinewidth": 0,
              "ticks": ""
             }
            },
            "type": "scatter3d"
           }
          ],
          "scattercarpet": [
           {
            "marker": {
             "colorbar": {
              "outlinewidth": 0,
              "ticks": ""
             }
            },
            "type": "scattercarpet"
           }
          ],
          "scattergeo": [
           {
            "marker": {
             "colorbar": {
              "outlinewidth": 0,
              "ticks": ""
             }
            },
            "type": "scattergeo"
           }
          ],
          "scattergl": [
           {
            "marker": {
             "colorbar": {
              "outlinewidth": 0,
              "ticks": ""
             }
            },
            "type": "scattergl"
           }
          ],
          "scattermapbox": [
           {
            "marker": {
             "colorbar": {
              "outlinewidth": 0,
              "ticks": ""
             }
            },
            "type": "scattermapbox"
           }
          ],
          "scatterpolar": [
           {
            "marker": {
             "colorbar": {
              "outlinewidth": 0,
              "ticks": ""
             }
            },
            "type": "scatterpolar"
           }
          ],
          "scatterpolargl": [
           {
            "marker": {
             "colorbar": {
              "outlinewidth": 0,
              "ticks": ""
             }
            },
            "type": "scatterpolargl"
           }
          ],
          "scatterternary": [
           {
            "marker": {
             "colorbar": {
              "outlinewidth": 0,
              "ticks": ""
             }
            },
            "type": "scatterternary"
           }
          ],
          "surface": [
           {
            "colorbar": {
             "outlinewidth": 0,
             "ticks": ""
            },
            "colorscale": [
             [
              0,
              "#0d0887"
             ],
             [
              0.1111111111111111,
              "#46039f"
             ],
             [
              0.2222222222222222,
              "#7201a8"
             ],
             [
              0.3333333333333333,
              "#9c179e"
             ],
             [
              0.4444444444444444,
              "#bd3786"
             ],
             [
              0.5555555555555556,
              "#d8576b"
             ],
             [
              0.6666666666666666,
              "#ed7953"
             ],
             [
              0.7777777777777778,
              "#fb9f3a"
             ],
             [
              0.8888888888888888,
              "#fdca26"
             ],
             [
              1,
              "#f0f921"
             ]
            ],
            "type": "surface"
           }
          ],
          "table": [
           {
            "cells": {
             "fill": {
              "color": "#EBF0F8"
             },
             "line": {
              "color": "white"
             }
            },
            "header": {
             "fill": {
              "color": "#C8D4E3"
             },
             "line": {
              "color": "white"
             }
            },
            "type": "table"
           }
          ]
         },
         "layout": {
          "annotationdefaults": {
           "arrowcolor": "#2a3f5f",
           "arrowhead": 0,
           "arrowwidth": 1
          },
          "autotypenumbers": "strict",
          "coloraxis": {
           "colorbar": {
            "outlinewidth": 0,
            "ticks": ""
           }
          },
          "colorscale": {
           "diverging": [
            [
             0,
             "#8e0152"
            ],
            [
             0.1,
             "#c51b7d"
            ],
            [
             0.2,
             "#de77ae"
            ],
            [
             0.3,
             "#f1b6da"
            ],
            [
             0.4,
             "#fde0ef"
            ],
            [
             0.5,
             "#f7f7f7"
            ],
            [
             0.6,
             "#e6f5d0"
            ],
            [
             0.7,
             "#b8e186"
            ],
            [
             0.8,
             "#7fbc41"
            ],
            [
             0.9,
             "#4d9221"
            ],
            [
             1,
             "#276419"
            ]
           ],
           "sequential": [
            [
             0,
             "#0d0887"
            ],
            [
             0.1111111111111111,
             "#46039f"
            ],
            [
             0.2222222222222222,
             "#7201a8"
            ],
            [
             0.3333333333333333,
             "#9c179e"
            ],
            [
             0.4444444444444444,
             "#bd3786"
            ],
            [
             0.5555555555555556,
             "#d8576b"
            ],
            [
             0.6666666666666666,
             "#ed7953"
            ],
            [
             0.7777777777777778,
             "#fb9f3a"
            ],
            [
             0.8888888888888888,
             "#fdca26"
            ],
            [
             1,
             "#f0f921"
            ]
           ],
           "sequentialminus": [
            [
             0,
             "#0d0887"
            ],
            [
             0.1111111111111111,
             "#46039f"
            ],
            [
             0.2222222222222222,
             "#7201a8"
            ],
            [
             0.3333333333333333,
             "#9c179e"
            ],
            [
             0.4444444444444444,
             "#bd3786"
            ],
            [
             0.5555555555555556,
             "#d8576b"
            ],
            [
             0.6666666666666666,
             "#ed7953"
            ],
            [
             0.7777777777777778,
             "#fb9f3a"
            ],
            [
             0.8888888888888888,
             "#fdca26"
            ],
            [
             1,
             "#f0f921"
            ]
           ]
          },
          "colorway": [
           "#636efa",
           "#EF553B",
           "#00cc96",
           "#ab63fa",
           "#FFA15A",
           "#19d3f3",
           "#FF6692",
           "#B6E880",
           "#FF97FF",
           "#FECB52"
          ],
          "font": {
           "color": "#2a3f5f"
          },
          "geo": {
           "bgcolor": "white",
           "lakecolor": "white",
           "landcolor": "#E5ECF6",
           "showlakes": true,
           "showland": true,
           "subunitcolor": "white"
          },
          "hoverlabel": {
           "align": "left"
          },
          "hovermode": "closest",
          "mapbox": {
           "style": "light"
          },
          "paper_bgcolor": "white",
          "plot_bgcolor": "#E5ECF6",
          "polar": {
           "angularaxis": {
            "gridcolor": "white",
            "linecolor": "white",
            "ticks": ""
           },
           "bgcolor": "#E5ECF6",
           "radialaxis": {
            "gridcolor": "white",
            "linecolor": "white",
            "ticks": ""
           }
          },
          "scene": {
           "xaxis": {
            "backgroundcolor": "#E5ECF6",
            "gridcolor": "white",
            "gridwidth": 2,
            "linecolor": "white",
            "showbackground": true,
            "ticks": "",
            "zerolinecolor": "white"
           },
           "yaxis": {
            "backgroundcolor": "#E5ECF6",
            "gridcolor": "white",
            "gridwidth": 2,
            "linecolor": "white",
            "showbackground": true,
            "ticks": "",
            "zerolinecolor": "white"
           },
           "zaxis": {
            "backgroundcolor": "#E5ECF6",
            "gridcolor": "white",
            "gridwidth": 2,
            "linecolor": "white",
            "showbackground": true,
            "ticks": "",
            "zerolinecolor": "white"
           }
          },
          "shapedefaults": {
           "line": {
            "color": "#2a3f5f"
           }
          },
          "ternary": {
           "aaxis": {
            "gridcolor": "white",
            "linecolor": "white",
            "ticks": ""
           },
           "baxis": {
            "gridcolor": "white",
            "linecolor": "white",
            "ticks": ""
           },
           "bgcolor": "#E5ECF6",
           "caxis": {
            "gridcolor": "white",
            "linecolor": "white",
            "ticks": ""
           }
          },
          "title": {
           "x": 0.05
          },
          "xaxis": {
           "automargin": true,
           "gridcolor": "white",
           "linecolor": "white",
           "ticks": "",
           "title": {
            "standoff": 15
           },
           "zerolinecolor": "white",
           "zerolinewidth": 2
          },
          "yaxis": {
           "automargin": true,
           "gridcolor": "white",
           "linecolor": "white",
           "ticks": "",
           "title": {
            "standoff": 15
           },
           "zerolinecolor": "white",
           "zerolinewidth": 2
          }
         }
        },
        "title": {
         "text": "Распределение событий по пользователям"
        },
        "xaxis": {
         "anchor": "y",
         "domain": [
          0,
          1
         ],
         "title": {
          "text": "event_name"
         }
        },
        "yaxis": {
         "anchor": "x",
         "domain": [
          0,
          1
         ],
         "title": {
          "text": "count"
         }
        }
       }
      },
      "text/html": [
       "<div>                            <div id=\"68459087-ff8b-4c2e-9b56-9e1358fa0130\" class=\"plotly-graph-div\" style=\"height:525px; width:100%;\"></div>            <script type=\"text/javascript\">                require([\"plotly\"], function(Plotly) {                    window.PLOTLYENV=window.PLOTLYENV || {};                                    if (document.getElementById(\"68459087-ff8b-4c2e-9b56-9e1358fa0130\")) {                    Plotly.newPlot(                        \"68459087-ff8b-4c2e-9b56-9e1358fa0130\",                        [{\"alignmentgroup\":\"True\",\"bingroup\":\"x\",\"hovertemplate\":\"group=A<br>event_name=%{x}<br>count=%{y}<extra></extra>\",\"legendgroup\":\"A\",\"marker\":{\"color\":\"#636efa\",\"pattern\":{\"shape\":\"\"}},\"name\":\"A\",\"offsetgroup\":\"A\",\"orientation\":\"v\",\"showlegend\":true,\"x\":[12,2,15,5,6,20,2,9,9,9,4,9,4,8,4,3,9,6,9,1,2,4,8,9,9,6,6,4,10,6,9,8,4,4,12,6,8,9,8,15,12,10,4,8,4,8,5,3,8,6,10,8,3,6,9,6,3,12,2,6,12,3,4,8,6,2,9,4,4,3,8,6,5,9,6,6,6,4,10,6,12,9,3,9,9,8,4,12,10,9,9,6,3,9,12,15,6,12,6,6,8,16,9,2,9,12,15,15,6,4,9,5,6,4,3,6,4,4,8,4,10,3,6,10,8,15,6,9,2,8,3,9,4,8,12,9,2,6,10,8,6,12,4,9,8,8,6,6,10,6,9,3,3,6,4,4,4,5,3,6,1,4,3,8,6,8,10,12,20,4,4,4,8,9,2,8,6,6,4,6,4,8,2,6,10,9,2,6,8,4,5,8,12,8,4,10,6,4,3,4,10,12,5,12,12,4,9,10,4,9,3,6,2,6,6,12,2,3,12,2,12,3,16,6,15,8,12,8,8,6,9,3,9,12,3,6,6,12,4,4,8,4,4,6,6,10,12,3,4,4,6,6,9,6,6,15,9,4,2,12,2,3,6,6,9,20,3,4,20,15,6,8,3,12,6,8,16,8,9,4,4,4,9,8,6,6,8,16,6,20,15,2,8,12,6,16,4,4,4,8,8,9,9,2,4,4,6,24,9,6,4,4,3,9,2,3,4,12,6,2,8,3,9,6,4,12,6,1,6,10,12,12,6,2,4,4,9,2,8,6,1,6,12,4,2,9,8,3,9,4,18,8,6,15,2,9,6,3,9,4,12,6,2,3,6,6,5,3,6,2,6,4,8,4,8,8,6,6,8,6,10,12,4,9,4,1,4,6,4,8,9,16,3,9,8,2,3,3,12,15,2,4,2,8,3,6,2,1,4,9,15,6,8,3,12,4,6,9,6,12,12,8,9,4,3,8,9,12,4,9,9,3,4,8,8,9,6,6,12,8,6,6,4,6,15,8,12,3,8,2,4,15,8,6,6,8,6,4,6,12,8,10,20,4,6,6,8,6,4,8,3,2,6,3,3,5,8,12,10,5,9,6,6,6,6,6,6,4,12,6,12,4,4,3,6,6,3,6,20,12,6,6,12,6,9,3,3,8,6,15,6,8,6,8,8,3,6,8,3,9,6,2,15,3,12,6,9,6,15,8,6,4,4,9,8,15,6,5,6,6,8,4,9,8,9,9,15,2,3,6,6,4,8,12,4,8,2,5,8,12,8,3,5,8,12,6,4,4,4,4,10,6,12,9,10,6,9,6,4,2,15,1,15,4,6,6,10,3,9,12,6,8,5,9,16,5,10,15,4,12,12,6,18,2,6,6,2,6,4,4,8,6,12,12,2,3,10,20,3,6,2,8,1,4,4,4,2,6,12,6,4,8,16,3,5,4,4,3,4,9,3,8,8,15,3,6,4,1,4,12,6,12,4,6,9,4,12,3,9,12,9,12,4,8,6,9,8,6,2,3,6,6,6,12,8,12,9,9,6,3,6,6,6,6,3,9,4,12,4,6,14,2,12,8,2,6,18,6,9,3,2,2,6,8,8,4,4,8,4,4,6,1,2,9,1,12,9,6,12,4,8,8,3,6,3,4,2,8,6,12,4,6,8,6,2,15,3,3,6,8,15,4,9,9,8,9,2,2,6,4,6,3,16,9,2,2,6,15,6,8,9,6,8,9,9,3,9,2,9,4,9,8,6,8,16,12,1,4,6,8,12,4,3,15,3,6,15,8,6,20,6,4,6,12,12,6,16,6,3,2,8,4,8,9,8,4,9,9,10,6,4,12,4,4,4,5,9,6,9,9,6,3,2,12,8,3,9,5,12,4,12,2,9,6,4,10,12,5,3,8,4,12,12,2,12,4,4,8,6,12,4,10,12,6,2,4,9,4,12,4,6,6,2,10,12,9,15,2,6,6,4,6,12,5,6,6,2,4,9,12,4,3,4,4,8,4,4,2,2,6,9,6,6,6,9,3,2,3,6,2,6,6,6,6,4,4,6,2,2,6,9,9,4,12,10,4,8,9,8,4,12,6,3,4,2,6,16,9,12,12,6,1,8,8,4,6,4,12,8,8,3,4,12,1,9,4,12,8,4,2,9,4,6,10,6,9,9,8,9,3,9,6,12,1,9,6,1,9,3,6,8,2,9,8,9,6,2,6,3,8,3,5,4,8,8,4,4,12,6,10,10,8,12,12,9,8,4,3,15,3,6,2,4,8,10,18,3,6,10,4,8,8,8,3,3,9,2,8,8,9,15,14,6,8,6,4,6,3,4,8,4,12,14,4,9,8,12,4,9,12,8,6,12,3,6,3,12,2,4,4,8,4,12,18,9,4,2,8,6,5,10,16,9,4,8,4,6,4,2,6,12,2,8,12,12,6,6,12,6,4,9,6,12,2,3,8,6,8,6,6,3,4,4,4,6,15,4,16,4,3,6,3,10,3,9,4,2,12,8,6,6,9,12,6,4,12,9,3,4,4,15,8,9,6,9,6,4,2,6,4,12,2,4,2,6,3,6,3,6,4,8,4,3,9,4,20,10,12,3,2,6,12,6,6,15,6,12,8,9,10,10,5,6,9,2,9,8,1,4,3,6,9,9,6,8,21,2,3,2,15,12,2,3,2,18,10,6,9,5,6,9,6,6,4,9,4,2,3,8,3,6,6,2,6,5,4,18,12,4,14,6,9,3,9,6,8,4,6,6,10,12,5,12,20,9,9,4,7,5,3,12,4,3,6,9,8,12,9,12,3,8,12,3,9,6,15,6,9,12,3,3,3,2,3,4,8,2,4,6,3,4,3,6,9,6,4,11,6,12,6,20,10,3,6,9,1,15,6,5,8,12,6,12,15,2,12,9,4,10,12,12,4,3,6,4,20,9,6,12,8,3,3,2,8,6,3,2,6,6,12,10,2,2,4,6,6,5,2,4,6,6,3,2,3,8,6,9,12,6,4,8,1,6,4,2,2,14,2,6,4,8,6,1,6,3,8,2,4,3,4,6,4,4,4,6,12,9,9,12,2,6,3,8,6,6,10,3,4,4,9,12,4,12,3,3,4,8,12,2,4,8,6,8,4,4,8,4,10,20,6,4,1,10,8,6,6,9,20,6,4,9,12,10,6,3,4,4,3,3,4,12,2,12,2,9,6,6,6,2,12,6,12,2,6,4,18,9,6,8,8,4,6,6,3,6,16,16,4,3,8,16,9,12,3,10,14,9,6,8,8,3,3,4,8,2,4,12,2,4,8,4,2,6,3,8,4,8,4,2,4,6,4,6,3,4,4,18,9,8,1,4,10,4,9,3,6,9,9,6,8,9,2,4,3,6,2,6,12,3,12,12,6,8,18,2,4,6,1,8,2,3,3,8,3,12,16,13,6,4,12,4,8,4,15,8,2,4,12,4,4,8,12,6,10,9,2,4,6,6,9,1,8,8,9,8,6,2,2,12,16,6,9,3,6,3,3,8,9,4,6,9,6,9,9,10,6,4,4,9,6,6,8,6,6,2,4,6,8,3,2,6,4,6,4,6,2,9,2,2,3,8,4,4,9,8,2,4,9,5,12,9,20,9,6,4,2,6,3,12,9,6,4,15,5,18,9,4,2,6,9,12,12,6,4,6,12,6,9,15,8,15,19,3,3,6,4,16,12,4,4,9,10,3,12,6,6,12,9,10,10,6,6,4,5,16,6,4,8,9,4,4,9,3,12,6,4,2,9,4,8,8,6,4,2,4,12,6,4,6,3,4,3,6,3,3,6,15,12,4,6,6,9,10,6,2,10,4,6,8,10,15,8,3,5,6,15,2,2,4,4,6,1,2,6,12,12,6,4,9,6,4,15,10,4,9,4,4,2,20,6,2,6,12,6,20,6,9,4,6,15,15,4,18,11,8,6,3,8,4,9,18,4,4,9,10,8,15,6,8,2,4,14,8,3,4,4,12,15,1,6,9,8,8,6,4,6,3,15,6,6,4,4,4,14,6,4,9,2,6,6,12,6,3,6,10,15,6,4,4,9,12,16,10,4,4,2,8,8,9,12,6,6,16,16,9,6,6,12,6,2,3,9,10,6,4,2,6,10,6,12,9,2,6,6,8,6,16,8,6,12,10,10,4,2,2,6,4,8,12,4,20,8,6,6,12,8,6,16,9,4,3,5,6,3,4,9,6,4,6,9,6,12,12,10,15,4,9,6,6,10,6,2,4,8,10,10,3,4,1,10,6,5,8,8,3,12,6,12,6,9,8,2,9,15,8,4,6,9,2,3,12,6,2,3,6,6,4,4,6,4,3,6,6,8,10,15,3,4,4,6,9,14,8,12,6,6,3,6,15,4,6,4,15,6,10,6,4,4,9,12,2,2,6,6,8,2,8,4,3,3,12,10,15,5,4,9,12,3,4,8,9,4,4,12,3,2,3,6,10,4,6,15,4,4,2,4,15,15,15,3,2,8,4,8,9,8,12,6,15,21,4,8,6,6,12,8,8,6,4,6,15,6,12,16,4,6,8,8,5,8,20,18,8,12,8,6,4,6,4,5,8,4,4,8,4,5,9,10,12,4,4,4,6,4,4,1,3,8,8,6,15,8,10,4,8,8,4,3,9,9,6,12,8,4,6,6,12,3,4,6,3,6,6,6,6,4,20,6,2,18,5,6,4,5,6,8,3,20,9,12,8,4,9,6,4,2,4,8,6,6,2,2,6,4,6,9,3,8,3,4,4,9,2,8,9,6,3,6,9,6,6,9,6,16,8,10,8,3,4,8,9,12,9,4,9,1,6,8,6,9,4,6,6,8,2,2,6,9,12,2,6,16,9,4,6,3,6,12,2,8,3,6,3,18,6,12,6,4,6,12,8,8,2,3,12,4,4,12,2,6,6,6,8,6,9,6,6,12,1,3,8,10,6,12,8,2,4,9,4,12,4,4,6,9,1,6,12,8,2,4,9,18,6,8,12,12,9,8,4,15,4,6,3,1,4,8,12,12,6,6,24,6,8,6,2,8,6,9,6,4,5,3,6,6,2,8,4,6,9,5,2,9,8,9,2,12,4,6,6,6,6,6,8,4,2,1,2,4,8,4,6,12,1,4,2,2,9,5,12,12,3,9,6,6,9,6,4,4,6,4,2,6,8,4,6,12,6,10,2,2,4,8,4,12,6,6,3,12,9,12,2,4,15,6,3,10,2,4,4,12,4,12,4,6,10,2,6,15,6,12,4,2,6,6,4,12,15,4,6,12,16,6,9,4,4,6,18,4,6,9,2,3,6,8,15,6,16,12,4,1,8,2,3,4,8,6,6,8,8,9,6,9,3,15,6,9,6,4,6,12,6,6,4,8,4,12,12,1,6,6,6,4,4,6,6,12,6,9,4,3,6,6,12,2,9,8,12,16,8,4,10,3,6,6,12,6,3,6,4,3,4,15,4,6,12,6,20,6,6,12,6,9,3,6,6,3,2,3,2,4,3,18,4,2,3,6,4,8,6,6,4,6,2,1,4,9,2,8,12,10,4,2,8,9,16,9,3,4,4,8,6,4,6,3,8,3,8,6,3,2,6,3,6,3,3,15,6,9,9,4,8,9,2,4,6,3,2,4,6,2,18,3,6,8,9,9,12,9,6,6,6,8,6,3,6,9,6,2,3,6,3,8,6,6,6,3,9,4,2,6,12,2,4,2,6,4,6,4,3,2,15,6,4,6,6,2,8,9,6,12,6,6,9,6,6,9,2,2,4,4,8,6,9,8,6,8,8,6,9,6,6,2,6,2,9,8,8,8,3,2,9,6,3,12,15,3,10,10,4,12,12,12,12,9,9,6,15,8,15,2,4,3,3,4,3,8,5,1,9,6,8,4,9,4,4,4,4,8,4,9,6,6,6,6,4,9,6,15,6,9,8,10,9,9,6,8,2,2,3,8,2,8,6,6,6,10,8,4,8,4,3,3,6,6,4,3,8,4,8,14,10,20,12,4,6,9,9,4,4,12,8,6,12,6,12,12,15,2,8,8,20,6,12,3,8,6,6,9,8,9,4,4,6,2,6,9,12,6,6,12,3,4,2,1,6,4,4,8,4,6,8,8,8,4,6,9,12,2,8,4,3,16,12,3,3,4,8,3,6,1,9,6,9,12,6,9,10,4,4,4,4,12,6,10,9,8,6],\"xaxis\":\"x\",\"yaxis\":\"y\",\"type\":\"histogram\"},{\"alignmentgroup\":\"True\",\"bingroup\":\"x\",\"hovertemplate\":\"group=B<br>event_name=%{x}<br>count=%{y}<extra></extra>\",\"legendgroup\":\"B\",\"marker\":{\"color\":\"#EF553B\",\"pattern\":{\"shape\":\"\"}},\"name\":\"B\",\"offsetgroup\":\"B\",\"orientation\":\"v\",\"showlegend\":true,\"x\":[6,4,6,2,12,5,6,8,3,2,5,6,8,3,3,2,3,6,2,3,3,4,3,8,6,9,9,2,4,7,9,2,4,1,2,12,9,12,9,6,3,5,2,4,3,9,12,3,6,3,6,6,24,8,24,2,12,2,4,10,4,6,6,5,6,6,9,3,8,2,3,6,8,3,9,6,9,6,6,2,8,4,1,3,4,5,9,3,8,4,4,9,9,4,6,2,2,9,6,3,4,8,3,9,9,4,4,5,1,4,6,5,4,4,6,4,4,8,8,3,4,4,4,6,4,6,12,3,2,9,6,2,2,6,4,4,9,2,6,12,4,4,4,4,8,2,3,4,2,15,3,6,4,12,12,10,20,3,4,4,1,4,6,8,4,5,8,4,6,3,8,9,4,2,4,8,7,6,6,6,3,6,4,3,2,2,6,9,4,6,8,10,16,10,9,3,4,6,4,6,3,9,3,3,4,6,8,6,8,3,3,4,4,11,2,6,6,2,12,9,1,4,12,2,2,6,2,4,2,3,4,9,6,8,2,4,4,4,4,6,4,4,12,6,2,4,4,6,2,6,2,8,2,4,9,4,3,4,8,5,9,4,4,15,4,4,8,4,6,4,4,6,4,8,2,3,4,12,2,5,20,2,4,6,8,4,4,8,4,4,3,2,8,2,8,4,9,4,10,3,4,6,6,1,8,9,12,2,8,3,12,9,1,6,2,2,4,8,4,9,6,6,4,4,2,6,5,10,3,6,3,12,8,4,6,6,6,6,4,6,3,4,3,4,3,1,8,15,6,9,2,6,2,8,15,4,10,3,9,3,9,10,8,4,3,2,2,15,2,6,3,4,6,8,6,2,2,4,1,2,6,4,2,9,3,6,6,6,6,9,3,4,15,12,12,6,9,6,3,6,9,8,6,12,8,12,5,2,6,6,2,12,12,6,6,3,2,4,12,10,6,9,5,10,12,3,4,8,4,4,2,2,3,2,1,8,4,12,3,6,3,7,3,12,4,6,12,6,20,9,4,4,4,10,6,4,11,2,6,3,12,2,4,3,2,6,8,3,6,6,3,2,6,6,6,9,1,6,6,2,6,2,8,10,9,5,6,21,10,3,8,2,9,4,9,3,2,4,4,3,6,4,6,12,3,3,6,3,2,2,8,4,6,5,6,2,12,2,3,8,4,6,4,2,8,1,3,8,6,6,6,9,6,2,4,3,1,4,6,3,2,4,4,12,9,6,6,4,4,4,3,4,8,3,4,8,1,3,3,8,4,6,10,3,2,6,6,6,6,6,2,6,16,3,2,4,6,6,12,4,2,4,6,3,12,3,7,6,5,4,8,9,3,4,8,3,3,6,8,6,6,3,6,4,4,6,5,2,3,3,2,6,6,16,6,2,8,4,4,2,4,6,2,6,6,6,3,3,8,3,12,4,3,4,3,15,3,6,4,2,6,5,1,8,1,4,4,1,12,6,11,4,9,3,8,3,8,12,2,6,8,9,6,2,3,2,8,3,2,8,2,2,3,3,4,4,2,4,6,6,9,3,3,4,6,4,2,2,9,4,3,6,4,3,9,3,2,6,4,4,4,9,7,9,15,4,3,4,4,6,4,3,2,6,3,9,3,4,6,3,3,13,5,18,5,3,4,9,4,6,6,4,6,5,4,10,6,8,2,8,3,3,8,6,4,4,3,4,2,6,2,6,4,9,3,2,8,10,8,1,2,6,14,3,4,4,6,4,3,3,2,2,3,6,9,10,9,4,6,9,4,4,9,8,8,6,4,6,6,10,12,1,9,2,6,2,12,1,3,10,2,12,6,8,9,5,4,6,2,6,4,4,2,4,6,4,8,2,6,8,4,4,6,2,8,3,4,6,8,2,3,3,6,8,2,9,3,10,6,15,6,8,1,1,6,6,4,6,8,3,6,3,8,4,10,9,5,9,6,8,6,8,3,6,9,4,3,6,4,3,4,4,6,2,4,4,12,2,3,1,3,6,3,7,5,6,6,5,2,2,9,3,3,12,2,4,2,2,4,4,5,4,4,6,4,2,6,9,6,6,1,2,12,6,8,6,3,4,4,4,6,6,2,20,2,3,4,9],\"xaxis\":\"x\",\"yaxis\":\"y\",\"type\":\"histogram\"}],                        {\"template\":{\"data\":{\"histogram2dcontour\":[{\"type\":\"histogram2dcontour\",\"colorbar\":{\"outlinewidth\":0,\"ticks\":\"\"},\"colorscale\":[[0.0,\"#0d0887\"],[0.1111111111111111,\"#46039f\"],[0.2222222222222222,\"#7201a8\"],[0.3333333333333333,\"#9c179e\"],[0.4444444444444444,\"#bd3786\"],[0.5555555555555556,\"#d8576b\"],[0.6666666666666666,\"#ed7953\"],[0.7777777777777778,\"#fb9f3a\"],[0.8888888888888888,\"#fdca26\"],[1.0,\"#f0f921\"]]}],\"choropleth\":[{\"type\":\"choropleth\",\"colorbar\":{\"outlinewidth\":0,\"ticks\":\"\"}}],\"histogram2d\":[{\"type\":\"histogram2d\",\"colorbar\":{\"outlinewidth\":0,\"ticks\":\"\"},\"colorscale\":[[0.0,\"#0d0887\"],[0.1111111111111111,\"#46039f\"],[0.2222222222222222,\"#7201a8\"],[0.3333333333333333,\"#9c179e\"],[0.4444444444444444,\"#bd3786\"],[0.5555555555555556,\"#d8576b\"],[0.6666666666666666,\"#ed7953\"],[0.7777777777777778,\"#fb9f3a\"],[0.8888888888888888,\"#fdca26\"],[1.0,\"#f0f921\"]]}],\"heatmap\":[{\"type\":\"heatmap\",\"colorbar\":{\"outlinewidth\":0,\"ticks\":\"\"},\"colorscale\":[[0.0,\"#0d0887\"],[0.1111111111111111,\"#46039f\"],[0.2222222222222222,\"#7201a8\"],[0.3333333333333333,\"#9c179e\"],[0.4444444444444444,\"#bd3786\"],[0.5555555555555556,\"#d8576b\"],[0.6666666666666666,\"#ed7953\"],[0.7777777777777778,\"#fb9f3a\"],[0.8888888888888888,\"#fdca26\"],[1.0,\"#f0f921\"]]}],\"heatmapgl\":[{\"type\":\"heatmapgl\",\"colorbar\":{\"outlinewidth\":0,\"ticks\":\"\"},\"colorscale\":[[0.0,\"#0d0887\"],[0.1111111111111111,\"#46039f\"],[0.2222222222222222,\"#7201a8\"],[0.3333333333333333,\"#9c179e\"],[0.4444444444444444,\"#bd3786\"],[0.5555555555555556,\"#d8576b\"],[0.6666666666666666,\"#ed7953\"],[0.7777777777777778,\"#fb9f3a\"],[0.8888888888888888,\"#fdca26\"],[1.0,\"#f0f921\"]]}],\"contourcarpet\":[{\"type\":\"contourcarpet\",\"colorbar\":{\"outlinewidth\":0,\"ticks\":\"\"}}],\"contour\":[{\"type\":\"contour\",\"colorbar\":{\"outlinewidth\":0,\"ticks\":\"\"},\"colorscale\":[[0.0,\"#0d0887\"],[0.1111111111111111,\"#46039f\"],[0.2222222222222222,\"#7201a8\"],[0.3333333333333333,\"#9c179e\"],[0.4444444444444444,\"#bd3786\"],[0.5555555555555556,\"#d8576b\"],[0.6666666666666666,\"#ed7953\"],[0.7777777777777778,\"#fb9f3a\"],[0.8888888888888888,\"#fdca26\"],[1.0,\"#f0f921\"]]}],\"surface\":[{\"type\":\"surface\",\"colorbar\":{\"outlinewidth\":0,\"ticks\":\"\"},\"colorscale\":[[0.0,\"#0d0887\"],[0.1111111111111111,\"#46039f\"],[0.2222222222222222,\"#7201a8\"],[0.3333333333333333,\"#9c179e\"],[0.4444444444444444,\"#bd3786\"],[0.5555555555555556,\"#d8576b\"],[0.6666666666666666,\"#ed7953\"],[0.7777777777777778,\"#fb9f3a\"],[0.8888888888888888,\"#fdca26\"],[1.0,\"#f0f921\"]]}],\"mesh3d\":[{\"type\":\"mesh3d\",\"colorbar\":{\"outlinewidth\":0,\"ticks\":\"\"}}],\"scatter\":[{\"fillpattern\":{\"fillmode\":\"overlay\",\"size\":10,\"solidity\":0.2},\"type\":\"scatter\"}],\"parcoords\":[{\"type\":\"parcoords\",\"line\":{\"colorbar\":{\"outlinewidth\":0,\"ticks\":\"\"}}}],\"scatterpolargl\":[{\"type\":\"scatterpolargl\",\"marker\":{\"colorbar\":{\"outlinewidth\":0,\"ticks\":\"\"}}}],\"bar\":[{\"error_x\":{\"color\":\"#2a3f5f\"},\"error_y\":{\"color\":\"#2a3f5f\"},\"marker\":{\"line\":{\"color\":\"#E5ECF6\",\"width\":0.5},\"pattern\":{\"fillmode\":\"overlay\",\"size\":10,\"solidity\":0.2}},\"type\":\"bar\"}],\"scattergeo\":[{\"type\":\"scattergeo\",\"marker\":{\"colorbar\":{\"outlinewidth\":0,\"ticks\":\"\"}}}],\"scatterpolar\":[{\"type\":\"scatterpolar\",\"marker\":{\"colorbar\":{\"outlinewidth\":0,\"ticks\":\"\"}}}],\"histogram\":[{\"marker\":{\"pattern\":{\"fillmode\":\"overlay\",\"size\":10,\"solidity\":0.2}},\"type\":\"histogram\"}],\"scattergl\":[{\"type\":\"scattergl\",\"marker\":{\"colorbar\":{\"outlinewidth\":0,\"ticks\":\"\"}}}],\"scatter3d\":[{\"type\":\"scatter3d\",\"line\":{\"colorbar\":{\"outlinewidth\":0,\"ticks\":\"\"}},\"marker\":{\"colorbar\":{\"outlinewidth\":0,\"ticks\":\"\"}}}],\"scattermapbox\":[{\"type\":\"scattermapbox\",\"marker\":{\"colorbar\":{\"outlinewidth\":0,\"ticks\":\"\"}}}],\"scatterternary\":[{\"type\":\"scatterternary\",\"marker\":{\"colorbar\":{\"outlinewidth\":0,\"ticks\":\"\"}}}],\"scattercarpet\":[{\"type\":\"scattercarpet\",\"marker\":{\"colorbar\":{\"outlinewidth\":0,\"ticks\":\"\"}}}],\"carpet\":[{\"aaxis\":{\"endlinecolor\":\"#2a3f5f\",\"gridcolor\":\"white\",\"linecolor\":\"white\",\"minorgridcolor\":\"white\",\"startlinecolor\":\"#2a3f5f\"},\"baxis\":{\"endlinecolor\":\"#2a3f5f\",\"gridcolor\":\"white\",\"linecolor\":\"white\",\"minorgridcolor\":\"white\",\"startlinecolor\":\"#2a3f5f\"},\"type\":\"carpet\"}],\"table\":[{\"cells\":{\"fill\":{\"color\":\"#EBF0F8\"},\"line\":{\"color\":\"white\"}},\"header\":{\"fill\":{\"color\":\"#C8D4E3\"},\"line\":{\"color\":\"white\"}},\"type\":\"table\"}],\"barpolar\":[{\"marker\":{\"line\":{\"color\":\"#E5ECF6\",\"width\":0.5},\"pattern\":{\"fillmode\":\"overlay\",\"size\":10,\"solidity\":0.2}},\"type\":\"barpolar\"}],\"pie\":[{\"automargin\":true,\"type\":\"pie\"}]},\"layout\":{\"autotypenumbers\":\"strict\",\"colorway\":[\"#636efa\",\"#EF553B\",\"#00cc96\",\"#ab63fa\",\"#FFA15A\",\"#19d3f3\",\"#FF6692\",\"#B6E880\",\"#FF97FF\",\"#FECB52\"],\"font\":{\"color\":\"#2a3f5f\"},\"hovermode\":\"closest\",\"hoverlabel\":{\"align\":\"left\"},\"paper_bgcolor\":\"white\",\"plot_bgcolor\":\"#E5ECF6\",\"polar\":{\"bgcolor\":\"#E5ECF6\",\"angularaxis\":{\"gridcolor\":\"white\",\"linecolor\":\"white\",\"ticks\":\"\"},\"radialaxis\":{\"gridcolor\":\"white\",\"linecolor\":\"white\",\"ticks\":\"\"}},\"ternary\":{\"bgcolor\":\"#E5ECF6\",\"aaxis\":{\"gridcolor\":\"white\",\"linecolor\":\"white\",\"ticks\":\"\"},\"baxis\":{\"gridcolor\":\"white\",\"linecolor\":\"white\",\"ticks\":\"\"},\"caxis\":{\"gridcolor\":\"white\",\"linecolor\":\"white\",\"ticks\":\"\"}},\"coloraxis\":{\"colorbar\":{\"outlinewidth\":0,\"ticks\":\"\"}},\"colorscale\":{\"sequential\":[[0.0,\"#0d0887\"],[0.1111111111111111,\"#46039f\"],[0.2222222222222222,\"#7201a8\"],[0.3333333333333333,\"#9c179e\"],[0.4444444444444444,\"#bd3786\"],[0.5555555555555556,\"#d8576b\"],[0.6666666666666666,\"#ed7953\"],[0.7777777777777778,\"#fb9f3a\"],[0.8888888888888888,\"#fdca26\"],[1.0,\"#f0f921\"]],\"sequentialminus\":[[0.0,\"#0d0887\"],[0.1111111111111111,\"#46039f\"],[0.2222222222222222,\"#7201a8\"],[0.3333333333333333,\"#9c179e\"],[0.4444444444444444,\"#bd3786\"],[0.5555555555555556,\"#d8576b\"],[0.6666666666666666,\"#ed7953\"],[0.7777777777777778,\"#fb9f3a\"],[0.8888888888888888,\"#fdca26\"],[1.0,\"#f0f921\"]],\"diverging\":[[0,\"#8e0152\"],[0.1,\"#c51b7d\"],[0.2,\"#de77ae\"],[0.3,\"#f1b6da\"],[0.4,\"#fde0ef\"],[0.5,\"#f7f7f7\"],[0.6,\"#e6f5d0\"],[0.7,\"#b8e186\"],[0.8,\"#7fbc41\"],[0.9,\"#4d9221\"],[1,\"#276419\"]]},\"xaxis\":{\"gridcolor\":\"white\",\"linecolor\":\"white\",\"ticks\":\"\",\"title\":{\"standoff\":15},\"zerolinecolor\":\"white\",\"automargin\":true,\"zerolinewidth\":2},\"yaxis\":{\"gridcolor\":\"white\",\"linecolor\":\"white\",\"ticks\":\"\",\"title\":{\"standoff\":15},\"zerolinecolor\":\"white\",\"automargin\":true,\"zerolinewidth\":2},\"scene\":{\"xaxis\":{\"backgroundcolor\":\"#E5ECF6\",\"gridcolor\":\"white\",\"linecolor\":\"white\",\"showbackground\":true,\"ticks\":\"\",\"zerolinecolor\":\"white\",\"gridwidth\":2},\"yaxis\":{\"backgroundcolor\":\"#E5ECF6\",\"gridcolor\":\"white\",\"linecolor\":\"white\",\"showbackground\":true,\"ticks\":\"\",\"zerolinecolor\":\"white\",\"gridwidth\":2},\"zaxis\":{\"backgroundcolor\":\"#E5ECF6\",\"gridcolor\":\"white\",\"linecolor\":\"white\",\"showbackground\":true,\"ticks\":\"\",\"zerolinecolor\":\"white\",\"gridwidth\":2}},\"shapedefaults\":{\"line\":{\"color\":\"#2a3f5f\"}},\"annotationdefaults\":{\"arrowcolor\":\"#2a3f5f\",\"arrowhead\":0,\"arrowwidth\":1},\"geo\":{\"bgcolor\":\"white\",\"landcolor\":\"#E5ECF6\",\"subunitcolor\":\"white\",\"showland\":true,\"showlakes\":true,\"lakecolor\":\"white\"},\"title\":{\"x\":0.05},\"mapbox\":{\"style\":\"light\"}}},\"xaxis\":{\"anchor\":\"y\",\"domain\":[0.0,1.0],\"title\":{\"text\":\"event_name\"}},\"yaxis\":{\"anchor\":\"x\",\"domain\":[0.0,1.0],\"title\":{\"text\":\"count\"}},\"legend\":{\"title\":{\"text\":\"group\"},\"tracegroupgap\":0},\"title\":{\"text\":\"\\u0420\\u0430\\u0441\\u043f\\u0440\\u0435\\u0434\\u0435\\u043b\\u0435\\u043d\\u0438\\u0435 \\u0441\\u043e\\u0431\\u044b\\u0442\\u0438\\u0439 \\u043f\\u043e \\u043f\\u043e\\u043b\\u044c\\u0437\\u043e\\u0432\\u0430\\u0442\\u0435\\u043b\\u044f\\u043c\"},\"barmode\":\"relative\"},                        {\"responsive\": true}                    ).then(function(){\n",
       "                            \n",
       "var gd = document.getElementById('68459087-ff8b-4c2e-9b56-9e1358fa0130');\n",
       "var x = new MutationObserver(function (mutations, observer) {{\n",
       "        var display = window.getComputedStyle(gd).display;\n",
       "        if (!display || display === 'none') {{\n",
       "            console.log([gd, 'removed!']);\n",
       "            Plotly.purge(gd);\n",
       "            observer.disconnect();\n",
       "        }}\n",
       "}});\n",
       "\n",
       "// Listen for the removal of the full notebook cells\n",
       "var notebookContainer = gd.closest('#notebook-container');\n",
       "if (notebookContainer) {{\n",
       "    x.observe(notebookContainer, {childList: true});\n",
       "}}\n",
       "\n",
       "// Listen for the clearing of the current output cell\n",
       "var outputEl = gd.closest('.output');\n",
       "if (outputEl) {{\n",
       "    x.observe(outputEl, {childList: true});\n",
       "}}\n",
       "\n",
       "                        })                };                });            </script>        </div>"
      ]
     },
     "metadata": {},
     "output_type": "display_data"
    }
   ],
   "source": [
    "px.histogram(group_user_events, x='event_name', title='Распределение событий по пользователям' ,color='group')"
   ]
  },
  {
   "cell_type": "markdown",
   "metadata": {},
   "source": [
    "Мы видим, что количество событий на одного пользователя распределились неранвомерно в обеих группах. Однако, в группе \"А\" характер неравномерности выражен более явно - имеют место явные провалы и высокие пики."
   ]
  },
  {
   "cell_type": "code",
   "execution_count": 80,
   "metadata": {},
   "outputs": [
    {
     "ename": "AttributeError",
     "evalue": "'float' object has no attribute 'round'",
     "output_type": "error",
     "traceback": [
      "\u001b[1;31m---------------------------------------------------------------------------\u001b[0m",
      "\u001b[1;31mAttributeError\u001b[0m                            Traceback (most recent call last)",
      "\u001b[1;32m~\\AppData\\Local\\Temp\\ipykernel_9196\\4132382606.py\u001b[0m in \u001b[0;36m<module>\u001b[1;34m\u001b[0m\n\u001b[1;32m----> 1\u001b[1;33m \u001b[0mprint\u001b[0m\u001b[1;33m(\u001b[0m\u001b[1;34m'Среднее количество событий в группе А {}'\u001b[0m\u001b[1;33m.\u001b[0m\u001b[0mformat\u001b[0m\u001b[1;33m(\u001b[0m\u001b[0mgroup_a_user_events\u001b[0m\u001b[1;33m[\u001b[0m\u001b[1;34m'event_name'\u001b[0m\u001b[1;33m]\u001b[0m\u001b[1;33m.\u001b[0m\u001b[0mmean\u001b[0m\u001b[1;33m(\u001b[0m\u001b[1;33m)\u001b[0m\u001b[1;33m.\u001b[0m\u001b[0mround\u001b[0m\u001b[1;33m(\u001b[0m\u001b[1;36m2\u001b[0m\u001b[1;33m)\u001b[0m\u001b[1;33m)\u001b[0m\u001b[1;33m)\u001b[0m\u001b[1;33m\u001b[0m\u001b[1;33m\u001b[0m\u001b[0m\n\u001b[0m\u001b[0;32m      2\u001b[0m \u001b[0mprint\u001b[0m\u001b[1;33m(\u001b[0m\u001b[1;34m'Среднее количество событий в группе B {}'\u001b[0m\u001b[1;33m.\u001b[0m\u001b[0mformat\u001b[0m\u001b[1;33m(\u001b[0m\u001b[0mgroup_b_user_events\u001b[0m\u001b[1;33m[\u001b[0m\u001b[1;34m'event_name'\u001b[0m\u001b[1;33m]\u001b[0m\u001b[1;33m.\u001b[0m\u001b[0mmean\u001b[0m\u001b[1;33m(\u001b[0m\u001b[1;33m)\u001b[0m\u001b[1;33m.\u001b[0m\u001b[0mround\u001b[0m\u001b[1;33m(\u001b[0m\u001b[1;36m2\u001b[0m\u001b[1;33m)\u001b[0m\u001b[1;33m)\u001b[0m\u001b[1;33m)\u001b[0m\u001b[1;33m\u001b[0m\u001b[1;33m\u001b[0m\u001b[0m\n",
      "\u001b[1;31mAttributeError\u001b[0m: 'float' object has no attribute 'round'"
     ]
    }
   ],
   "source": [
    "print('Среднее количество событий в группе А {}'.format(group_a_user_events['event_name'].mean().round(2)))\n",
    "print('Среднее количество событий в группе B {}'.format(group_b_user_events['event_name'].mean().round(2)))"
   ]
  },
  {
   "cell_type": "markdown",
   "metadata": {},
   "source": [
    "По группе А среднне количество событий на одного пользователя выше, чем по группе В."
   ]
  },
  {
   "cell_type": "markdown",
   "metadata": {},
   "source": [
    "# Как число событий распределено по дням?"
   ]
  },
  {
   "cell_type": "code",
   "execution_count": 81,
   "metadata": {},
   "outputs": [],
   "source": [
    "# посчитаем количество событий по дням\n",
    "events['date'] = events['event_dt'].dt.date\n",
    "user_events = events.groupby('date').agg({'event_name':'count'}).reset_index()"
   ]
  },
  {
   "cell_type": "code",
   "execution_count": 82,
   "metadata": {},
   "outputs": [],
   "source": [
    "events['date'] = events['event_dt'].dt.date"
   ]
  },
  {
   "cell_type": "code",
   "execution_count": 83,
   "metadata": {},
   "outputs": [],
   "source": [
    "user_events_a = events[events['group'] == 'A'].groupby('date').agg({'event_name':'count'}).reset_index()\n",
    "user_events_b = events[events['group'] == 'B'].groupby('date').agg({'event_name':'count'}).reset_index()"
   ]
  },
  {
   "cell_type": "code",
   "execution_count": 84,
   "metadata": {},
   "outputs": [],
   "source": [
    "group_user_ev = pd.concat([user_events_a , user_events_b])\n"
   ]
  },
  {
   "cell_type": "code",
   "execution_count": 85,
   "metadata": {},
   "outputs": [
    {
     "data": {
      "application/vnd.plotly.v1+json": {
       "config": {
        "plotlyServerURL": "https://plot.ly"
       },
       "data": [
        {
         "alignmentgroup": "True",
         "hovertemplate": "date=%{x}<br>event_name=%{text}<extra></extra>",
         "legendgroup": "",
         "marker": {
          "color": "#636efa",
          "pattern": {
           "shape": ""
          }
         },
         "name": "",
         "offsetgroup": "",
         "orientation": "v",
         "showlegend": false,
         "text": [
          331,
          341,
          385,
          350,
          374,
          355,
          328,
          1083,
          1084,
          1069,
          1252,
          1312,
          1506,
          1528,
          2011,
          1290,
          997,
          842,
          632,
          571,
          532,
          470,
          304,
          378,
          252,
          361,
          263,
          168,
          203,
          176,
          272,
          232,
          385,
          296,
          272,
          304,
          320,
          430,
          179,
          172,
          126,
          76,
          73,
          71,
          72,
          42
         ],
         "textposition": "auto",
         "type": "bar",
         "x": [
          "2020-12-07",
          "2020-12-08",
          "2020-12-09",
          "2020-12-10",
          "2020-12-11",
          "2020-12-12",
          "2020-12-13",
          "2020-12-14",
          "2020-12-15",
          "2020-12-16",
          "2020-12-17",
          "2020-12-18",
          "2020-12-19",
          "2020-12-20",
          "2020-12-21",
          "2020-12-22",
          "2020-12-23",
          "2020-12-24",
          "2020-12-25",
          "2020-12-26",
          "2020-12-27",
          "2020-12-28",
          "2020-12-29",
          "2020-12-07",
          "2020-12-08",
          "2020-12-09",
          "2020-12-10",
          "2020-12-11",
          "2020-12-12",
          "2020-12-13",
          "2020-12-14",
          "2020-12-15",
          "2020-12-16",
          "2020-12-17",
          "2020-12-18",
          "2020-12-19",
          "2020-12-20",
          "2020-12-21",
          "2020-12-22",
          "2020-12-23",
          "2020-12-24",
          "2020-12-25",
          "2020-12-26",
          "2020-12-27",
          "2020-12-28",
          "2020-12-29"
         ],
         "xaxis": "x",
         "y": [
          331,
          341,
          385,
          350,
          374,
          355,
          328,
          1083,
          1084,
          1069,
          1252,
          1312,
          1506,
          1528,
          2011,
          1290,
          997,
          842,
          632,
          571,
          532,
          470,
          304,
          378,
          252,
          361,
          263,
          168,
          203,
          176,
          272,
          232,
          385,
          296,
          272,
          304,
          320,
          430,
          179,
          172,
          126,
          76,
          73,
          71,
          72,
          42
         ],
         "yaxis": "y"
        }
       ],
       "layout": {
        "barmode": "relative",
        "legend": {
         "tracegroupgap": 0
        },
        "template": {
         "data": {
          "bar": [
           {
            "error_x": {
             "color": "#2a3f5f"
            },
            "error_y": {
             "color": "#2a3f5f"
            },
            "marker": {
             "line": {
              "color": "#E5ECF6",
              "width": 0.5
             },
             "pattern": {
              "fillmode": "overlay",
              "size": 10,
              "solidity": 0.2
             }
            },
            "type": "bar"
           }
          ],
          "barpolar": [
           {
            "marker": {
             "line": {
              "color": "#E5ECF6",
              "width": 0.5
             },
             "pattern": {
              "fillmode": "overlay",
              "size": 10,
              "solidity": 0.2
             }
            },
            "type": "barpolar"
           }
          ],
          "carpet": [
           {
            "aaxis": {
             "endlinecolor": "#2a3f5f",
             "gridcolor": "white",
             "linecolor": "white",
             "minorgridcolor": "white",
             "startlinecolor": "#2a3f5f"
            },
            "baxis": {
             "endlinecolor": "#2a3f5f",
             "gridcolor": "white",
             "linecolor": "white",
             "minorgridcolor": "white",
             "startlinecolor": "#2a3f5f"
            },
            "type": "carpet"
           }
          ],
          "choropleth": [
           {
            "colorbar": {
             "outlinewidth": 0,
             "ticks": ""
            },
            "type": "choropleth"
           }
          ],
          "contour": [
           {
            "colorbar": {
             "outlinewidth": 0,
             "ticks": ""
            },
            "colorscale": [
             [
              0,
              "#0d0887"
             ],
             [
              0.1111111111111111,
              "#46039f"
             ],
             [
              0.2222222222222222,
              "#7201a8"
             ],
             [
              0.3333333333333333,
              "#9c179e"
             ],
             [
              0.4444444444444444,
              "#bd3786"
             ],
             [
              0.5555555555555556,
              "#d8576b"
             ],
             [
              0.6666666666666666,
              "#ed7953"
             ],
             [
              0.7777777777777778,
              "#fb9f3a"
             ],
             [
              0.8888888888888888,
              "#fdca26"
             ],
             [
              1,
              "#f0f921"
             ]
            ],
            "type": "contour"
           }
          ],
          "contourcarpet": [
           {
            "colorbar": {
             "outlinewidth": 0,
             "ticks": ""
            },
            "type": "contourcarpet"
           }
          ],
          "heatmap": [
           {
            "colorbar": {
             "outlinewidth": 0,
             "ticks": ""
            },
            "colorscale": [
             [
              0,
              "#0d0887"
             ],
             [
              0.1111111111111111,
              "#46039f"
             ],
             [
              0.2222222222222222,
              "#7201a8"
             ],
             [
              0.3333333333333333,
              "#9c179e"
             ],
             [
              0.4444444444444444,
              "#bd3786"
             ],
             [
              0.5555555555555556,
              "#d8576b"
             ],
             [
              0.6666666666666666,
              "#ed7953"
             ],
             [
              0.7777777777777778,
              "#fb9f3a"
             ],
             [
              0.8888888888888888,
              "#fdca26"
             ],
             [
              1,
              "#f0f921"
             ]
            ],
            "type": "heatmap"
           }
          ],
          "heatmapgl": [
           {
            "colorbar": {
             "outlinewidth": 0,
             "ticks": ""
            },
            "colorscale": [
             [
              0,
              "#0d0887"
             ],
             [
              0.1111111111111111,
              "#46039f"
             ],
             [
              0.2222222222222222,
              "#7201a8"
             ],
             [
              0.3333333333333333,
              "#9c179e"
             ],
             [
              0.4444444444444444,
              "#bd3786"
             ],
             [
              0.5555555555555556,
              "#d8576b"
             ],
             [
              0.6666666666666666,
              "#ed7953"
             ],
             [
              0.7777777777777778,
              "#fb9f3a"
             ],
             [
              0.8888888888888888,
              "#fdca26"
             ],
             [
              1,
              "#f0f921"
             ]
            ],
            "type": "heatmapgl"
           }
          ],
          "histogram": [
           {
            "marker": {
             "pattern": {
              "fillmode": "overlay",
              "size": 10,
              "solidity": 0.2
             }
            },
            "type": "histogram"
           }
          ],
          "histogram2d": [
           {
            "colorbar": {
             "outlinewidth": 0,
             "ticks": ""
            },
            "colorscale": [
             [
              0,
              "#0d0887"
             ],
             [
              0.1111111111111111,
              "#46039f"
             ],
             [
              0.2222222222222222,
              "#7201a8"
             ],
             [
              0.3333333333333333,
              "#9c179e"
             ],
             [
              0.4444444444444444,
              "#bd3786"
             ],
             [
              0.5555555555555556,
              "#d8576b"
             ],
             [
              0.6666666666666666,
              "#ed7953"
             ],
             [
              0.7777777777777778,
              "#fb9f3a"
             ],
             [
              0.8888888888888888,
              "#fdca26"
             ],
             [
              1,
              "#f0f921"
             ]
            ],
            "type": "histogram2d"
           }
          ],
          "histogram2dcontour": [
           {
            "colorbar": {
             "outlinewidth": 0,
             "ticks": ""
            },
            "colorscale": [
             [
              0,
              "#0d0887"
             ],
             [
              0.1111111111111111,
              "#46039f"
             ],
             [
              0.2222222222222222,
              "#7201a8"
             ],
             [
              0.3333333333333333,
              "#9c179e"
             ],
             [
              0.4444444444444444,
              "#bd3786"
             ],
             [
              0.5555555555555556,
              "#d8576b"
             ],
             [
              0.6666666666666666,
              "#ed7953"
             ],
             [
              0.7777777777777778,
              "#fb9f3a"
             ],
             [
              0.8888888888888888,
              "#fdca26"
             ],
             [
              1,
              "#f0f921"
             ]
            ],
            "type": "histogram2dcontour"
           }
          ],
          "mesh3d": [
           {
            "colorbar": {
             "outlinewidth": 0,
             "ticks": ""
            },
            "type": "mesh3d"
           }
          ],
          "parcoords": [
           {
            "line": {
             "colorbar": {
              "outlinewidth": 0,
              "ticks": ""
             }
            },
            "type": "parcoords"
           }
          ],
          "pie": [
           {
            "automargin": true,
            "type": "pie"
           }
          ],
          "scatter": [
           {
            "fillpattern": {
             "fillmode": "overlay",
             "size": 10,
             "solidity": 0.2
            },
            "type": "scatter"
           }
          ],
          "scatter3d": [
           {
            "line": {
             "colorbar": {
              "outlinewidth": 0,
              "ticks": ""
             }
            },
            "marker": {
             "colorbar": {
              "outlinewidth": 0,
              "ticks": ""
             }
            },
            "type": "scatter3d"
           }
          ],
          "scattercarpet": [
           {
            "marker": {
             "colorbar": {
              "outlinewidth": 0,
              "ticks": ""
             }
            },
            "type": "scattercarpet"
           }
          ],
          "scattergeo": [
           {
            "marker": {
             "colorbar": {
              "outlinewidth": 0,
              "ticks": ""
             }
            },
            "type": "scattergeo"
           }
          ],
          "scattergl": [
           {
            "marker": {
             "colorbar": {
              "outlinewidth": 0,
              "ticks": ""
             }
            },
            "type": "scattergl"
           }
          ],
          "scattermapbox": [
           {
            "marker": {
             "colorbar": {
              "outlinewidth": 0,
              "ticks": ""
             }
            },
            "type": "scattermapbox"
           }
          ],
          "scatterpolar": [
           {
            "marker": {
             "colorbar": {
              "outlinewidth": 0,
              "ticks": ""
             }
            },
            "type": "scatterpolar"
           }
          ],
          "scatterpolargl": [
           {
            "marker": {
             "colorbar": {
              "outlinewidth": 0,
              "ticks": ""
             }
            },
            "type": "scatterpolargl"
           }
          ],
          "scatterternary": [
           {
            "marker": {
             "colorbar": {
              "outlinewidth": 0,
              "ticks": ""
             }
            },
            "type": "scatterternary"
           }
          ],
          "surface": [
           {
            "colorbar": {
             "outlinewidth": 0,
             "ticks": ""
            },
            "colorscale": [
             [
              0,
              "#0d0887"
             ],
             [
              0.1111111111111111,
              "#46039f"
             ],
             [
              0.2222222222222222,
              "#7201a8"
             ],
             [
              0.3333333333333333,
              "#9c179e"
             ],
             [
              0.4444444444444444,
              "#bd3786"
             ],
             [
              0.5555555555555556,
              "#d8576b"
             ],
             [
              0.6666666666666666,
              "#ed7953"
             ],
             [
              0.7777777777777778,
              "#fb9f3a"
             ],
             [
              0.8888888888888888,
              "#fdca26"
             ],
             [
              1,
              "#f0f921"
             ]
            ],
            "type": "surface"
           }
          ],
          "table": [
           {
            "cells": {
             "fill": {
              "color": "#EBF0F8"
             },
             "line": {
              "color": "white"
             }
            },
            "header": {
             "fill": {
              "color": "#C8D4E3"
             },
             "line": {
              "color": "white"
             }
            },
            "type": "table"
           }
          ]
         },
         "layout": {
          "annotationdefaults": {
           "arrowcolor": "#2a3f5f",
           "arrowhead": 0,
           "arrowwidth": 1
          },
          "autotypenumbers": "strict",
          "coloraxis": {
           "colorbar": {
            "outlinewidth": 0,
            "ticks": ""
           }
          },
          "colorscale": {
           "diverging": [
            [
             0,
             "#8e0152"
            ],
            [
             0.1,
             "#c51b7d"
            ],
            [
             0.2,
             "#de77ae"
            ],
            [
             0.3,
             "#f1b6da"
            ],
            [
             0.4,
             "#fde0ef"
            ],
            [
             0.5,
             "#f7f7f7"
            ],
            [
             0.6,
             "#e6f5d0"
            ],
            [
             0.7,
             "#b8e186"
            ],
            [
             0.8,
             "#7fbc41"
            ],
            [
             0.9,
             "#4d9221"
            ],
            [
             1,
             "#276419"
            ]
           ],
           "sequential": [
            [
             0,
             "#0d0887"
            ],
            [
             0.1111111111111111,
             "#46039f"
            ],
            [
             0.2222222222222222,
             "#7201a8"
            ],
            [
             0.3333333333333333,
             "#9c179e"
            ],
            [
             0.4444444444444444,
             "#bd3786"
            ],
            [
             0.5555555555555556,
             "#d8576b"
            ],
            [
             0.6666666666666666,
             "#ed7953"
            ],
            [
             0.7777777777777778,
             "#fb9f3a"
            ],
            [
             0.8888888888888888,
             "#fdca26"
            ],
            [
             1,
             "#f0f921"
            ]
           ],
           "sequentialminus": [
            [
             0,
             "#0d0887"
            ],
            [
             0.1111111111111111,
             "#46039f"
            ],
            [
             0.2222222222222222,
             "#7201a8"
            ],
            [
             0.3333333333333333,
             "#9c179e"
            ],
            [
             0.4444444444444444,
             "#bd3786"
            ],
            [
             0.5555555555555556,
             "#d8576b"
            ],
            [
             0.6666666666666666,
             "#ed7953"
            ],
            [
             0.7777777777777778,
             "#fb9f3a"
            ],
            [
             0.8888888888888888,
             "#fdca26"
            ],
            [
             1,
             "#f0f921"
            ]
           ]
          },
          "colorway": [
           "#636efa",
           "#EF553B",
           "#00cc96",
           "#ab63fa",
           "#FFA15A",
           "#19d3f3",
           "#FF6692",
           "#B6E880",
           "#FF97FF",
           "#FECB52"
          ],
          "font": {
           "color": "#2a3f5f"
          },
          "geo": {
           "bgcolor": "white",
           "lakecolor": "white",
           "landcolor": "#E5ECF6",
           "showlakes": true,
           "showland": true,
           "subunitcolor": "white"
          },
          "hoverlabel": {
           "align": "left"
          },
          "hovermode": "closest",
          "mapbox": {
           "style": "light"
          },
          "paper_bgcolor": "white",
          "plot_bgcolor": "#E5ECF6",
          "polar": {
           "angularaxis": {
            "gridcolor": "white",
            "linecolor": "white",
            "ticks": ""
           },
           "bgcolor": "#E5ECF6",
           "radialaxis": {
            "gridcolor": "white",
            "linecolor": "white",
            "ticks": ""
           }
          },
          "scene": {
           "xaxis": {
            "backgroundcolor": "#E5ECF6",
            "gridcolor": "white",
            "gridwidth": 2,
            "linecolor": "white",
            "showbackground": true,
            "ticks": "",
            "zerolinecolor": "white"
           },
           "yaxis": {
            "backgroundcolor": "#E5ECF6",
            "gridcolor": "white",
            "gridwidth": 2,
            "linecolor": "white",
            "showbackground": true,
            "ticks": "",
            "zerolinecolor": "white"
           },
           "zaxis": {
            "backgroundcolor": "#E5ECF6",
            "gridcolor": "white",
            "gridwidth": 2,
            "linecolor": "white",
            "showbackground": true,
            "ticks": "",
            "zerolinecolor": "white"
           }
          },
          "shapedefaults": {
           "line": {
            "color": "#2a3f5f"
           }
          },
          "ternary": {
           "aaxis": {
            "gridcolor": "white",
            "linecolor": "white",
            "ticks": ""
           },
           "baxis": {
            "gridcolor": "white",
            "linecolor": "white",
            "ticks": ""
           },
           "bgcolor": "#E5ECF6",
           "caxis": {
            "gridcolor": "white",
            "linecolor": "white",
            "ticks": ""
           }
          },
          "title": {
           "x": 0.05
          },
          "xaxis": {
           "automargin": true,
           "gridcolor": "white",
           "linecolor": "white",
           "ticks": "",
           "title": {
            "standoff": 15
           },
           "zerolinecolor": "white",
           "zerolinewidth": 2
          },
          "yaxis": {
           "automargin": true,
           "gridcolor": "white",
           "linecolor": "white",
           "ticks": "",
           "title": {
            "standoff": 15
           },
           "zerolinecolor": "white",
           "zerolinewidth": 2
          }
         }
        },
        "title": {
         "text": "Распределение событий по дням"
        },
        "xaxis": {
         "anchor": "y",
         "domain": [
          0,
          1
         ],
         "title": {
          "text": "date"
         }
        },
        "yaxis": {
         "anchor": "x",
         "domain": [
          0,
          1
         ],
         "title": {
          "text": "event_name"
         }
        }
       }
      },
      "text/html": [
       "<div>                            <div id=\"332c137e-2bf2-4afe-9aad-f8bf06e9b2c4\" class=\"plotly-graph-div\" style=\"height:525px; width:100%;\"></div>            <script type=\"text/javascript\">                require([\"plotly\"], function(Plotly) {                    window.PLOTLYENV=window.PLOTLYENV || {};                                    if (document.getElementById(\"332c137e-2bf2-4afe-9aad-f8bf06e9b2c4\")) {                    Plotly.newPlot(                        \"332c137e-2bf2-4afe-9aad-f8bf06e9b2c4\",                        [{\"alignmentgroup\":\"True\",\"hovertemplate\":\"date=%{x}<br>event_name=%{text}<extra></extra>\",\"legendgroup\":\"\",\"marker\":{\"color\":\"#636efa\",\"pattern\":{\"shape\":\"\"}},\"name\":\"\",\"offsetgroup\":\"\",\"orientation\":\"v\",\"showlegend\":false,\"text\":[331.0,341.0,385.0,350.0,374.0,355.0,328.0,1083.0,1084.0,1069.0,1252.0,1312.0,1506.0,1528.0,2011.0,1290.0,997.0,842.0,632.0,571.0,532.0,470.0,304.0,378.0,252.0,361.0,263.0,168.0,203.0,176.0,272.0,232.0,385.0,296.0,272.0,304.0,320.0,430.0,179.0,172.0,126.0,76.0,73.0,71.0,72.0,42.0],\"textposition\":\"auto\",\"x\":[\"2020-12-07\",\"2020-12-08\",\"2020-12-09\",\"2020-12-10\",\"2020-12-11\",\"2020-12-12\",\"2020-12-13\",\"2020-12-14\",\"2020-12-15\",\"2020-12-16\",\"2020-12-17\",\"2020-12-18\",\"2020-12-19\",\"2020-12-20\",\"2020-12-21\",\"2020-12-22\",\"2020-12-23\",\"2020-12-24\",\"2020-12-25\",\"2020-12-26\",\"2020-12-27\",\"2020-12-28\",\"2020-12-29\",\"2020-12-07\",\"2020-12-08\",\"2020-12-09\",\"2020-12-10\",\"2020-12-11\",\"2020-12-12\",\"2020-12-13\",\"2020-12-14\",\"2020-12-15\",\"2020-12-16\",\"2020-12-17\",\"2020-12-18\",\"2020-12-19\",\"2020-12-20\",\"2020-12-21\",\"2020-12-22\",\"2020-12-23\",\"2020-12-24\",\"2020-12-25\",\"2020-12-26\",\"2020-12-27\",\"2020-12-28\",\"2020-12-29\"],\"xaxis\":\"x\",\"y\":[331,341,385,350,374,355,328,1083,1084,1069,1252,1312,1506,1528,2011,1290,997,842,632,571,532,470,304,378,252,361,263,168,203,176,272,232,385,296,272,304,320,430,179,172,126,76,73,71,72,42],\"yaxis\":\"y\",\"type\":\"bar\"}],                        {\"template\":{\"data\":{\"histogram2dcontour\":[{\"type\":\"histogram2dcontour\",\"colorbar\":{\"outlinewidth\":0,\"ticks\":\"\"},\"colorscale\":[[0.0,\"#0d0887\"],[0.1111111111111111,\"#46039f\"],[0.2222222222222222,\"#7201a8\"],[0.3333333333333333,\"#9c179e\"],[0.4444444444444444,\"#bd3786\"],[0.5555555555555556,\"#d8576b\"],[0.6666666666666666,\"#ed7953\"],[0.7777777777777778,\"#fb9f3a\"],[0.8888888888888888,\"#fdca26\"],[1.0,\"#f0f921\"]]}],\"choropleth\":[{\"type\":\"choropleth\",\"colorbar\":{\"outlinewidth\":0,\"ticks\":\"\"}}],\"histogram2d\":[{\"type\":\"histogram2d\",\"colorbar\":{\"outlinewidth\":0,\"ticks\":\"\"},\"colorscale\":[[0.0,\"#0d0887\"],[0.1111111111111111,\"#46039f\"],[0.2222222222222222,\"#7201a8\"],[0.3333333333333333,\"#9c179e\"],[0.4444444444444444,\"#bd3786\"],[0.5555555555555556,\"#d8576b\"],[0.6666666666666666,\"#ed7953\"],[0.7777777777777778,\"#fb9f3a\"],[0.8888888888888888,\"#fdca26\"],[1.0,\"#f0f921\"]]}],\"heatmap\":[{\"type\":\"heatmap\",\"colorbar\":{\"outlinewidth\":0,\"ticks\":\"\"},\"colorscale\":[[0.0,\"#0d0887\"],[0.1111111111111111,\"#46039f\"],[0.2222222222222222,\"#7201a8\"],[0.3333333333333333,\"#9c179e\"],[0.4444444444444444,\"#bd3786\"],[0.5555555555555556,\"#d8576b\"],[0.6666666666666666,\"#ed7953\"],[0.7777777777777778,\"#fb9f3a\"],[0.8888888888888888,\"#fdca26\"],[1.0,\"#f0f921\"]]}],\"heatmapgl\":[{\"type\":\"heatmapgl\",\"colorbar\":{\"outlinewidth\":0,\"ticks\":\"\"},\"colorscale\":[[0.0,\"#0d0887\"],[0.1111111111111111,\"#46039f\"],[0.2222222222222222,\"#7201a8\"],[0.3333333333333333,\"#9c179e\"],[0.4444444444444444,\"#bd3786\"],[0.5555555555555556,\"#d8576b\"],[0.6666666666666666,\"#ed7953\"],[0.7777777777777778,\"#fb9f3a\"],[0.8888888888888888,\"#fdca26\"],[1.0,\"#f0f921\"]]}],\"contourcarpet\":[{\"type\":\"contourcarpet\",\"colorbar\":{\"outlinewidth\":0,\"ticks\":\"\"}}],\"contour\":[{\"type\":\"contour\",\"colorbar\":{\"outlinewidth\":0,\"ticks\":\"\"},\"colorscale\":[[0.0,\"#0d0887\"],[0.1111111111111111,\"#46039f\"],[0.2222222222222222,\"#7201a8\"],[0.3333333333333333,\"#9c179e\"],[0.4444444444444444,\"#bd3786\"],[0.5555555555555556,\"#d8576b\"],[0.6666666666666666,\"#ed7953\"],[0.7777777777777778,\"#fb9f3a\"],[0.8888888888888888,\"#fdca26\"],[1.0,\"#f0f921\"]]}],\"surface\":[{\"type\":\"surface\",\"colorbar\":{\"outlinewidth\":0,\"ticks\":\"\"},\"colorscale\":[[0.0,\"#0d0887\"],[0.1111111111111111,\"#46039f\"],[0.2222222222222222,\"#7201a8\"],[0.3333333333333333,\"#9c179e\"],[0.4444444444444444,\"#bd3786\"],[0.5555555555555556,\"#d8576b\"],[0.6666666666666666,\"#ed7953\"],[0.7777777777777778,\"#fb9f3a\"],[0.8888888888888888,\"#fdca26\"],[1.0,\"#f0f921\"]]}],\"mesh3d\":[{\"type\":\"mesh3d\",\"colorbar\":{\"outlinewidth\":0,\"ticks\":\"\"}}],\"scatter\":[{\"fillpattern\":{\"fillmode\":\"overlay\",\"size\":10,\"solidity\":0.2},\"type\":\"scatter\"}],\"parcoords\":[{\"type\":\"parcoords\",\"line\":{\"colorbar\":{\"outlinewidth\":0,\"ticks\":\"\"}}}],\"scatterpolargl\":[{\"type\":\"scatterpolargl\",\"marker\":{\"colorbar\":{\"outlinewidth\":0,\"ticks\":\"\"}}}],\"bar\":[{\"error_x\":{\"color\":\"#2a3f5f\"},\"error_y\":{\"color\":\"#2a3f5f\"},\"marker\":{\"line\":{\"color\":\"#E5ECF6\",\"width\":0.5},\"pattern\":{\"fillmode\":\"overlay\",\"size\":10,\"solidity\":0.2}},\"type\":\"bar\"}],\"scattergeo\":[{\"type\":\"scattergeo\",\"marker\":{\"colorbar\":{\"outlinewidth\":0,\"ticks\":\"\"}}}],\"scatterpolar\":[{\"type\":\"scatterpolar\",\"marker\":{\"colorbar\":{\"outlinewidth\":0,\"ticks\":\"\"}}}],\"histogram\":[{\"marker\":{\"pattern\":{\"fillmode\":\"overlay\",\"size\":10,\"solidity\":0.2}},\"type\":\"histogram\"}],\"scattergl\":[{\"type\":\"scattergl\",\"marker\":{\"colorbar\":{\"outlinewidth\":0,\"ticks\":\"\"}}}],\"scatter3d\":[{\"type\":\"scatter3d\",\"line\":{\"colorbar\":{\"outlinewidth\":0,\"ticks\":\"\"}},\"marker\":{\"colorbar\":{\"outlinewidth\":0,\"ticks\":\"\"}}}],\"scattermapbox\":[{\"type\":\"scattermapbox\",\"marker\":{\"colorbar\":{\"outlinewidth\":0,\"ticks\":\"\"}}}],\"scatterternary\":[{\"type\":\"scatterternary\",\"marker\":{\"colorbar\":{\"outlinewidth\":0,\"ticks\":\"\"}}}],\"scattercarpet\":[{\"type\":\"scattercarpet\",\"marker\":{\"colorbar\":{\"outlinewidth\":0,\"ticks\":\"\"}}}],\"carpet\":[{\"aaxis\":{\"endlinecolor\":\"#2a3f5f\",\"gridcolor\":\"white\",\"linecolor\":\"white\",\"minorgridcolor\":\"white\",\"startlinecolor\":\"#2a3f5f\"},\"baxis\":{\"endlinecolor\":\"#2a3f5f\",\"gridcolor\":\"white\",\"linecolor\":\"white\",\"minorgridcolor\":\"white\",\"startlinecolor\":\"#2a3f5f\"},\"type\":\"carpet\"}],\"table\":[{\"cells\":{\"fill\":{\"color\":\"#EBF0F8\"},\"line\":{\"color\":\"white\"}},\"header\":{\"fill\":{\"color\":\"#C8D4E3\"},\"line\":{\"color\":\"white\"}},\"type\":\"table\"}],\"barpolar\":[{\"marker\":{\"line\":{\"color\":\"#E5ECF6\",\"width\":0.5},\"pattern\":{\"fillmode\":\"overlay\",\"size\":10,\"solidity\":0.2}},\"type\":\"barpolar\"}],\"pie\":[{\"automargin\":true,\"type\":\"pie\"}]},\"layout\":{\"autotypenumbers\":\"strict\",\"colorway\":[\"#636efa\",\"#EF553B\",\"#00cc96\",\"#ab63fa\",\"#FFA15A\",\"#19d3f3\",\"#FF6692\",\"#B6E880\",\"#FF97FF\",\"#FECB52\"],\"font\":{\"color\":\"#2a3f5f\"},\"hovermode\":\"closest\",\"hoverlabel\":{\"align\":\"left\"},\"paper_bgcolor\":\"white\",\"plot_bgcolor\":\"#E5ECF6\",\"polar\":{\"bgcolor\":\"#E5ECF6\",\"angularaxis\":{\"gridcolor\":\"white\",\"linecolor\":\"white\",\"ticks\":\"\"},\"radialaxis\":{\"gridcolor\":\"white\",\"linecolor\":\"white\",\"ticks\":\"\"}},\"ternary\":{\"bgcolor\":\"#E5ECF6\",\"aaxis\":{\"gridcolor\":\"white\",\"linecolor\":\"white\",\"ticks\":\"\"},\"baxis\":{\"gridcolor\":\"white\",\"linecolor\":\"white\",\"ticks\":\"\"},\"caxis\":{\"gridcolor\":\"white\",\"linecolor\":\"white\",\"ticks\":\"\"}},\"coloraxis\":{\"colorbar\":{\"outlinewidth\":0,\"ticks\":\"\"}},\"colorscale\":{\"sequential\":[[0.0,\"#0d0887\"],[0.1111111111111111,\"#46039f\"],[0.2222222222222222,\"#7201a8\"],[0.3333333333333333,\"#9c179e\"],[0.4444444444444444,\"#bd3786\"],[0.5555555555555556,\"#d8576b\"],[0.6666666666666666,\"#ed7953\"],[0.7777777777777778,\"#fb9f3a\"],[0.8888888888888888,\"#fdca26\"],[1.0,\"#f0f921\"]],\"sequentialminus\":[[0.0,\"#0d0887\"],[0.1111111111111111,\"#46039f\"],[0.2222222222222222,\"#7201a8\"],[0.3333333333333333,\"#9c179e\"],[0.4444444444444444,\"#bd3786\"],[0.5555555555555556,\"#d8576b\"],[0.6666666666666666,\"#ed7953\"],[0.7777777777777778,\"#fb9f3a\"],[0.8888888888888888,\"#fdca26\"],[1.0,\"#f0f921\"]],\"diverging\":[[0,\"#8e0152\"],[0.1,\"#c51b7d\"],[0.2,\"#de77ae\"],[0.3,\"#f1b6da\"],[0.4,\"#fde0ef\"],[0.5,\"#f7f7f7\"],[0.6,\"#e6f5d0\"],[0.7,\"#b8e186\"],[0.8,\"#7fbc41\"],[0.9,\"#4d9221\"],[1,\"#276419\"]]},\"xaxis\":{\"gridcolor\":\"white\",\"linecolor\":\"white\",\"ticks\":\"\",\"title\":{\"standoff\":15},\"zerolinecolor\":\"white\",\"automargin\":true,\"zerolinewidth\":2},\"yaxis\":{\"gridcolor\":\"white\",\"linecolor\":\"white\",\"ticks\":\"\",\"title\":{\"standoff\":15},\"zerolinecolor\":\"white\",\"automargin\":true,\"zerolinewidth\":2},\"scene\":{\"xaxis\":{\"backgroundcolor\":\"#E5ECF6\",\"gridcolor\":\"white\",\"linecolor\":\"white\",\"showbackground\":true,\"ticks\":\"\",\"zerolinecolor\":\"white\",\"gridwidth\":2},\"yaxis\":{\"backgroundcolor\":\"#E5ECF6\",\"gridcolor\":\"white\",\"linecolor\":\"white\",\"showbackground\":true,\"ticks\":\"\",\"zerolinecolor\":\"white\",\"gridwidth\":2},\"zaxis\":{\"backgroundcolor\":\"#E5ECF6\",\"gridcolor\":\"white\",\"linecolor\":\"white\",\"showbackground\":true,\"ticks\":\"\",\"zerolinecolor\":\"white\",\"gridwidth\":2}},\"shapedefaults\":{\"line\":{\"color\":\"#2a3f5f\"}},\"annotationdefaults\":{\"arrowcolor\":\"#2a3f5f\",\"arrowhead\":0,\"arrowwidth\":1},\"geo\":{\"bgcolor\":\"white\",\"landcolor\":\"#E5ECF6\",\"subunitcolor\":\"white\",\"showland\":true,\"showlakes\":true,\"lakecolor\":\"white\"},\"title\":{\"x\":0.05},\"mapbox\":{\"style\":\"light\"}}},\"xaxis\":{\"anchor\":\"y\",\"domain\":[0.0,1.0],\"title\":{\"text\":\"date\"}},\"yaxis\":{\"anchor\":\"x\",\"domain\":[0.0,1.0],\"title\":{\"text\":\"event_name\"}},\"legend\":{\"tracegroupgap\":0},\"title\":{\"text\":\"\\u0420\\u0430\\u0441\\u043f\\u0440\\u0435\\u0434\\u0435\\u043b\\u0435\\u043d\\u0438\\u0435 \\u0441\\u043e\\u0431\\u044b\\u0442\\u0438\\u0439 \\u043f\\u043e \\u0434\\u043d\\u044f\\u043c\"},\"barmode\":\"relative\"},                        {\"responsive\": true}                    ).then(function(){\n",
       "                            \n",
       "var gd = document.getElementById('332c137e-2bf2-4afe-9aad-f8bf06e9b2c4');\n",
       "var x = new MutationObserver(function (mutations, observer) {{\n",
       "        var display = window.getComputedStyle(gd).display;\n",
       "        if (!display || display === 'none') {{\n",
       "            console.log([gd, 'removed!']);\n",
       "            Plotly.purge(gd);\n",
       "            observer.disconnect();\n",
       "        }}\n",
       "}});\n",
       "\n",
       "// Listen for the removal of the full notebook cells\n",
       "var notebookContainer = gd.closest('#notebook-container');\n",
       "if (notebookContainer) {{\n",
       "    x.observe(notebookContainer, {childList: true});\n",
       "}}\n",
       "\n",
       "// Listen for the clearing of the current output cell\n",
       "var outputEl = gd.closest('.output');\n",
       "if (outputEl) {{\n",
       "    x.observe(outputEl, {childList: true});\n",
       "}}\n",
       "\n",
       "                        })                };                });            </script>        </div>"
      ]
     },
     "metadata": {},
     "output_type": "display_data"
    }
   ],
   "source": [
    "px.bar(group_user_ev, x='date', y='event_name', title='Распределение событий по дням', text='event_name')"
   ]
  },
  {
   "cell_type": "markdown",
   "metadata": {},
   "source": [
    "Видно, что пик активностей 21 декабря, в последний день набора пользователей. И резкой скачок активности 14 декабря.\n",
    "Тест запускался 7 декабря. Новых пользователей остановили набирать 21 декабря согласно ТЗ. \n",
    "Сам тест завершился 4 января. Однако у нас нет данных с 30-го декабря."
   ]
  },
  {
   "cell_type": "code",
   "execution_count": 86,
   "metadata": {},
   "outputs": [
    {
     "data": {
      "image/png": "[encoded data removed]",
      "text/plain": [
       "<Figure size 1259.62x600 with 2 Axes>"
      ]
     },
     "metadata": {},
     "output_type": "display_data"
    }
   ],
   "source": [
    "g = sns.FacetGrid(events, row='group', hue='group',\n",
    "                  height=3, aspect=4)\n",
    "g.map(sns.histplot, 'event_dt')\n",
    "g.set_xlabels('Распределение событий по дням, ед.')\n",
    "g.set_titles(row_template='{row_name}')\n",
    "g.add_legend();"
   ]
  },
  {
   "cell_type": "markdown",
   "metadata": {},
   "source": [
    "# Как меняется конверсия в воронке в выборках на разных этапах?"
   ]
  },
  {
   "cell_type": "code",
   "execution_count": 87,
   "metadata": {},
   "outputs": [],
   "source": [
    "# оставим пользователей из региона EU\n",
    "group_a_total = group_a.merge(new_users, how = 'inner', on='user_id')\n",
    "group_b_total = group_b.merge(new_users, how = 'inner', on='user_id')"
   ]
  },
  {
   "cell_type": "code",
   "execution_count": 88,
   "metadata": {},
   "outputs": [],
   "source": [
    "group_a_EU = group_a_total[group_a_total['region'] == 'EU'].copy()\n",
    "group_b_EU = group_b_total[group_b_total['region'] == 'EU'].copy()"
   ]
  },
  {
   "cell_type": "code",
   "execution_count": 89,
   "metadata": {},
   "outputs": [],
   "source": [
    "group_a_union = group_a_EU.merge(events, how = 'left', on = 'user_id')\n",
    "group_b_union = group_b_EU.merge(events, how = 'left', on = 'user_id')"
   ]
  },
  {
   "cell_type": "code",
   "execution_count": 90,
   "metadata": {},
   "outputs": [],
   "source": [
    "group_a_grouped = (group_a_union\n",
    "                   .groupby('event_name')\n",
    "                   .agg({'user_id':'nunique'})\n",
    "                   .sort_values(by = 'user_id', ascending=False)\n",
    "                   .reset_index())\n",
    "group_b_grouped = (group_b_union\n",
    "                   .groupby('event_name')\n",
    "                   .agg({'user_id':'nunique'})\n",
    "                   .sort_values(by = 'user_id', ascending=False)\n",
    "                   .reset_index())"
   ]
  },
  {
   "cell_type": "code",
   "execution_count": 91,
   "metadata": {},
   "outputs": [],
   "source": [
    "a1=group_a_grouped.reindex([0,1,3,2])\n",
    "b2=group_b_grouped.reindex([0,1,3,2])"
   ]
  },
  {
   "cell_type": "code",
   "execution_count": 92,
   "metadata": {},
   "outputs": [
    {
     "data": {
      "application/vnd.plotly.v1+json": {
       "config": {
        "plotlyServerURL": "https://plot.ly"
       },
       "data": [
        {
         "name": "Group A",
         "textinfo": "value+percent initial",
         "type": "funnel",
         "x": [
          2604,
          1685,
          782,
          833
         ],
         "y": [
          "login",
          "product_page",
          "product_cart",
          "purchase"
         ]
        },
        {
         "name": "Group B",
         "textinfo": "value+percent initial",
         "type": "funnel",
         "x": [
          876,
          493,
          244,
          249
         ],
         "y": [
          "login",
          "product_page",
          "product_cart",
          "purchase"
         ]
        }
       ],
       "layout": {
        "template": {
         "data": {
          "bar": [
           {
            "error_x": {
             "color": "#2a3f5f"
            },
            "error_y": {
             "color": "#2a3f5f"
            },
            "marker": {
             "line": {
              "color": "#E5ECF6",
              "width": 0.5
             },
             "pattern": {
              "fillmode": "overlay",
              "size": 10,
              "solidity": 0.2
             }
            },
            "type": "bar"
           }
          ],
          "barpolar": [
           {
            "marker": {
             "line": {
              "color": "#E5ECF6",
              "width": 0.5
             },
             "pattern": {
              "fillmode": "overlay",
              "size": 10,
              "solidity": 0.2
             }
            },
            "type": "barpolar"
           }
          ],
          "carpet": [
           {
            "aaxis": {
             "endlinecolor": "#2a3f5f",
             "gridcolor": "white",
             "linecolor": "white",
             "minorgridcolor": "white",
             "startlinecolor": "#2a3f5f"
            },
            "baxis": {
             "endlinecolor": "#2a3f5f",
             "gridcolor": "white",
             "linecolor": "white",
             "minorgridcolor": "white",
             "startlinecolor": "#2a3f5f"
            },
            "type": "carpet"
           }
          ],
          "choropleth": [
           {
            "colorbar": {
             "outlinewidth": 0,
             "ticks": ""
            },
            "type": "choropleth"
           }
          ],
          "contour": [
           {
            "colorbar": {
             "outlinewidth": 0,
             "ticks": ""
            },
            "colorscale": [
             [
              0,
              "#0d0887"
             ],
             [
              0.1111111111111111,
              "#46039f"
             ],
             [
              0.2222222222222222,
              "#7201a8"
             ],
             [
              0.3333333333333333,
              "#9c179e"
             ],
             [
              0.4444444444444444,
              "#bd3786"
             ],
             [
              0.5555555555555556,
              "#d8576b"
             ],
             [
              0.6666666666666666,
              "#ed7953"
             ],
             [
              0.7777777777777778,
              "#fb9f3a"
             ],
             [
              0.8888888888888888,
              "#fdca26"
             ],
             [
              1,
              "#f0f921"
             ]
            ],
            "type": "contour"
           }
          ],
          "contourcarpet": [
           {
            "colorbar": {
             "outlinewidth": 0,
             "ticks": ""
            },
            "type": "contourcarpet"
           }
          ],
          "heatmap": [
           {
            "colorbar": {
             "outlinewidth": 0,
             "ticks": ""
            },
            "colorscale": [
             [
              0,
              "#0d0887"
             ],
             [
              0.1111111111111111,
              "#46039f"
             ],
             [
              0.2222222222222222,
              "#7201a8"
             ],
             [
              0.3333333333333333,
              "#9c179e"
             ],
             [
              0.4444444444444444,
              "#bd3786"
             ],
             [
              0.5555555555555556,
              "#d8576b"
             ],
             [
              0.6666666666666666,
              "#ed7953"
             ],
             [
              0.7777777777777778,
              "#fb9f3a"
             ],
             [
              0.8888888888888888,
              "#fdca26"
             ],
             [
              1,
              "#f0f921"
             ]
            ],
            "type": "heatmap"
           }
          ],
          "heatmapgl": [
           {
            "colorbar": {
             "outlinewidth": 0,
             "ticks": ""
            },
            "colorscale": [
             [
              0,
              "#0d0887"
             ],
             [
              0.1111111111111111,
              "#46039f"
             ],
             [
              0.2222222222222222,
              "#7201a8"
             ],
             [
              0.3333333333333333,
              "#9c179e"
             ],
             [
              0.4444444444444444,
              "#bd3786"
             ],
             [
              0.5555555555555556,
              "#d8576b"
             ],
             [
              0.6666666666666666,
              "#ed7953"
             ],
             [
              0.7777777777777778,
              "#fb9f3a"
             ],
             [
              0.8888888888888888,
              "#fdca26"
             ],
             [
              1,
              "#f0f921"
             ]
            ],
            "type": "heatmapgl"
           }
          ],
          "histogram": [
           {
            "marker": {
             "pattern": {
              "fillmode": "overlay",
              "size": 10,
              "solidity": 0.2
             }
            },
            "type": "histogram"
           }
          ],
          "histogram2d": [
           {
            "colorbar": {
             "outlinewidth": 0,
             "ticks": ""
            },
            "colorscale": [
             [
              0,
              "#0d0887"
             ],
             [
              0.1111111111111111,
              "#46039f"
             ],
             [
              0.2222222222222222,
              "#7201a8"
             ],
             [
              0.3333333333333333,
              "#9c179e"
             ],
             [
              0.4444444444444444,
              "#bd3786"
             ],
             [
              0.5555555555555556,
              "#d8576b"
             ],
             [
              0.6666666666666666,
              "#ed7953"
             ],
             [
              0.7777777777777778,
              "#fb9f3a"
             ],
             [
              0.8888888888888888,
              "#fdca26"
             ],
             [
              1,
              "#f0f921"
             ]
            ],
            "type": "histogram2d"
           }
          ],
          "histogram2dcontour": [
           {
            "colorbar": {
             "outlinewidth": 0,
             "ticks": ""
            },
            "colorscale": [
             [
              0,
              "#0d0887"
             ],
             [
              0.1111111111111111,
              "#46039f"
             ],
             [
              0.2222222222222222,
              "#7201a8"
             ],
             [
              0.3333333333333333,
              "#9c179e"
             ],
             [
              0.4444444444444444,
              "#bd3786"
             ],
             [
              0.5555555555555556,
              "#d8576b"
             ],
             [
              0.6666666666666666,
              "#ed7953"
             ],
             [
              0.7777777777777778,
              "#fb9f3a"
             ],
             [
              0.8888888888888888,
              "#fdca26"
             ],
             [
              1,
              "#f0f921"
             ]
            ],
            "type": "histogram2dcontour"
           }
          ],
          "mesh3d": [
           {
            "colorbar": {
             "outlinewidth": 0,
             "ticks": ""
            },
            "type": "mesh3d"
           }
          ],
          "parcoords": [
           {
            "line": {
             "colorbar": {
              "outlinewidth": 0,
              "ticks": ""
             }
            },
            "type": "parcoords"
           }
          ],
          "pie": [
           {
            "automargin": true,
            "type": "pie"
           }
          ],
          "scatter": [
           {
            "fillpattern": {
             "fillmode": "overlay",
             "size": 10,
             "solidity": 0.2
            },
            "type": "scatter"
           }
          ],
          "scatter3d": [
           {
            "line": {
             "colorbar": {
              "outlinewidth": 0,
              "ticks": ""
             }
            },
            "marker": {
             "colorbar": {
              "outlinewidth": 0,
              "ticks": ""
             }
            },
            "type": "scatter3d"
           }
          ],
          "scattercarpet": [
           {
            "marker": {
             "colorbar": {
              "outlinewidth": 0,
              "ticks": ""
             }
            },
            "type": "scattercarpet"
           }
          ],
          "scattergeo": [
           {
            "marker": {
             "colorbar": {
              "outlinewidth": 0,
              "ticks": ""
             }
            },
            "type": "scattergeo"
           }
          ],
          "scattergl": [
           {
            "marker": {
             "colorbar": {
              "outlinewidth": 0,
              "ticks": ""
             }
            },
            "type": "scattergl"
           }
          ],
          "scattermapbox": [
           {
            "marker": {
             "colorbar": {
              "outlinewidth": 0,
              "ticks": ""
             }
            },
            "type": "scattermapbox"
           }
          ],
          "scatterpolar": [
           {
            "marker": {
             "colorbar": {
              "outlinewidth": 0,
              "ticks": ""
             }
            },
            "type": "scatterpolar"
           }
          ],
          "scatterpolargl": [
           {
            "marker": {
             "colorbar": {
              "outlinewidth": 0,
              "ticks": ""
             }
            },
            "type": "scatterpolargl"
           }
          ],
          "scatterternary": [
           {
            "marker": {
             "colorbar": {
              "outlinewidth": 0,
              "ticks": ""
             }
            },
            "type": "scatterternary"
           }
          ],
          "surface": [
           {
            "colorbar": {
             "outlinewidth": 0,
             "ticks": ""
            },
            "colorscale": [
             [
              0,
              "#0d0887"
             ],
             [
              0.1111111111111111,
              "#46039f"
             ],
             [
              0.2222222222222222,
              "#7201a8"
             ],
             [
              0.3333333333333333,
              "#9c179e"
             ],
             [
              0.4444444444444444,
              "#bd3786"
             ],
             [
              0.5555555555555556,
              "#d8576b"
             ],
             [
              0.6666666666666666,
              "#ed7953"
             ],
             [
              0.7777777777777778,
              "#fb9f3a"
             ],
             [
              0.8888888888888888,
              "#fdca26"
             ],
             [
              1,
              "#f0f921"
             ]
            ],
            "type": "surface"
           }
          ],
          "table": [
           {
            "cells": {
             "fill": {
              "color": "#EBF0F8"
             },
             "line": {
              "color": "white"
             }
            },
            "header": {
             "fill": {
              "color": "#C8D4E3"
             },
             "line": {
              "color": "white"
             }
            },
            "type": "table"
           }
          ]
         },
         "layout": {
          "annotationdefaults": {
           "arrowcolor": "#2a3f5f",
           "arrowhead": 0,
           "arrowwidth": 1
          },
          "autotypenumbers": "strict",
          "coloraxis": {
           "colorbar": {
            "outlinewidth": 0,
            "ticks": ""
           }
          },
          "colorscale": {
           "diverging": [
            [
             0,
             "#8e0152"
            ],
            [
             0.1,
             "#c51b7d"
            ],
            [
             0.2,
             "#de77ae"
            ],
            [
             0.3,
             "#f1b6da"
            ],
            [
             0.4,
             "#fde0ef"
            ],
            [
             0.5,
             "#f7f7f7"
            ],
            [
             0.6,
             "#e6f5d0"
            ],
            [
             0.7,
             "#b8e186"
            ],
            [
             0.8,
             "#7fbc41"
            ],
            [
             0.9,
             "#4d9221"
            ],
            [
             1,
             "#276419"
            ]
           ],
           "sequential": [
            [
             0,
             "#0d0887"
            ],
            [
             0.1111111111111111,
             "#46039f"
            ],
            [
             0.2222222222222222,
             "#7201a8"
            ],
            [
             0.3333333333333333,
             "#9c179e"
            ],
            [
             0.4444444444444444,
             "#bd3786"
            ],
            [
             0.5555555555555556,
             "#d8576b"
            ],
            [
             0.6666666666666666,
             "#ed7953"
            ],
            [
             0.7777777777777778,
             "#fb9f3a"
            ],
            [
             0.8888888888888888,
             "#fdca26"
            ],
            [
             1,
             "#f0f921"
            ]
           ],
           "sequentialminus": [
            [
             0,
             "#0d0887"
            ],
            [
             0.1111111111111111,
             "#46039f"
            ],
            [
             0.2222222222222222,
             "#7201a8"
            ],
            [
             0.3333333333333333,
             "#9c179e"
            ],
            [
             0.4444444444444444,
             "#bd3786"
            ],
            [
             0.5555555555555556,
             "#d8576b"
            ],
            [
             0.6666666666666666,
             "#ed7953"
            ],
            [
             0.7777777777777778,
             "#fb9f3a"
            ],
            [
             0.8888888888888888,
             "#fdca26"
            ],
            [
             1,
             "#f0f921"
            ]
           ]
          },
          "colorway": [
           "#636efa",
           "#EF553B",
           "#00cc96",
           "#ab63fa",
           "#FFA15A",
           "#19d3f3",
           "#FF6692",
           "#B6E880",
           "#FF97FF",
           "#FECB52"
          ],
          "font": {
           "color": "#2a3f5f"
          },
          "geo": {
           "bgcolor": "white",
           "lakecolor": "white",
           "landcolor": "#E5ECF6",
           "showlakes": true,
           "showland": true,
           "subunitcolor": "white"
          },
          "hoverlabel": {
           "align": "left"
          },
          "hovermode": "closest",
          "mapbox": {
           "style": "light"
          },
          "paper_bgcolor": "white",
          "plot_bgcolor": "#E5ECF6",
          "polar": {
           "angularaxis": {
            "gridcolor": "white",
            "linecolor": "white",
            "ticks": ""
           },
           "bgcolor": "#E5ECF6",
           "radialaxis": {
            "gridcolor": "white",
            "linecolor": "white",
            "ticks": ""
           }
          },
          "scene": {
           "xaxis": {
            "backgroundcolor": "#E5ECF6",
            "gridcolor": "white",
            "gridwidth": 2,
            "linecolor": "white",
            "showbackground": true,
            "ticks": "",
            "zerolinecolor": "white"
           },
           "yaxis": {
            "backgroundcolor": "#E5ECF6",
            "gridcolor": "white",
            "gridwidth": 2,
            "linecolor": "white",
            "showbackground": true,
            "ticks": "",
            "zerolinecolor": "white"
           },
           "zaxis": {
            "backgroundcolor": "#E5ECF6",
            "gridcolor": "white",
            "gridwidth": 2,
            "linecolor": "white",
            "showbackground": true,
            "ticks": "",
            "zerolinecolor": "white"
           }
          },
          "shapedefaults": {
           "line": {
            "color": "#2a3f5f"
           }
          },
          "ternary": {
           "aaxis": {
            "gridcolor": "white",
            "linecolor": "white",
            "ticks": ""
           },
           "baxis": {
            "gridcolor": "white",
            "linecolor": "white",
            "ticks": ""
           },
           "bgcolor": "#E5ECF6",
           "caxis": {
            "gridcolor": "white",
            "linecolor": "white",
            "ticks": ""
           }
          },
          "title": {
           "x": 0.05
          },
          "xaxis": {
           "automargin": true,
           "gridcolor": "white",
           "linecolor": "white",
           "ticks": "",
           "title": {
            "standoff": 15
           },
           "zerolinecolor": "white",
           "zerolinewidth": 2
          },
          "yaxis": {
           "automargin": true,
           "gridcolor": "white",
           "linecolor": "white",
           "ticks": "",
           "title": {
            "standoff": 15
           },
           "zerolinecolor": "white",
           "zerolinewidth": 2
          }
         }
        },
        "title": {
         "text": "Конверсия пользователей AB"
        }
       }
      },
      "text/html": [
       "<div>                            <div id=\"7ef2f969-0522-4392-81bd-4f6c7502c33a\" class=\"plotly-graph-div\" style=\"height:525px; width:100%;\"></div>            <script type=\"text/javascript\">                require([\"plotly\"], function(Plotly) {                    window.PLOTLYENV=window.PLOTLYENV || {};                                    if (document.getElementById(\"7ef2f969-0522-4392-81bd-4f6c7502c33a\")) {                    Plotly.newPlot(                        \"7ef2f969-0522-4392-81bd-4f6c7502c33a\",                        [{\"name\":\"Group A\",\"textinfo\":\"value+percent initial\",\"x\":[2604,1685,782,833],\"y\":[\"login\",\"product_page\",\"product_cart\",\"purchase\"],\"type\":\"funnel\"},{\"name\":\"Group B\",\"textinfo\":\"value+percent initial\",\"x\":[876,493,244,249],\"y\":[\"login\",\"product_page\",\"product_cart\",\"purchase\"],\"type\":\"funnel\"}],                        {\"template\":{\"data\":{\"histogram2dcontour\":[{\"type\":\"histogram2dcontour\",\"colorbar\":{\"outlinewidth\":0,\"ticks\":\"\"},\"colorscale\":[[0.0,\"#0d0887\"],[0.1111111111111111,\"#46039f\"],[0.2222222222222222,\"#7201a8\"],[0.3333333333333333,\"#9c179e\"],[0.4444444444444444,\"#bd3786\"],[0.5555555555555556,\"#d8576b\"],[0.6666666666666666,\"#ed7953\"],[0.7777777777777778,\"#fb9f3a\"],[0.8888888888888888,\"#fdca26\"],[1.0,\"#f0f921\"]]}],\"choropleth\":[{\"type\":\"choropleth\",\"colorbar\":{\"outlinewidth\":0,\"ticks\":\"\"}}],\"histogram2d\":[{\"type\":\"histogram2d\",\"colorbar\":{\"outlinewidth\":0,\"ticks\":\"\"},\"colorscale\":[[0.0,\"#0d0887\"],[0.1111111111111111,\"#46039f\"],[0.2222222222222222,\"#7201a8\"],[0.3333333333333333,\"#9c179e\"],[0.4444444444444444,\"#bd3786\"],[0.5555555555555556,\"#d8576b\"],[0.6666666666666666,\"#ed7953\"],[0.7777777777777778,\"#fb9f3a\"],[0.8888888888888888,\"#fdca26\"],[1.0,\"#f0f921\"]]}],\"heatmap\":[{\"type\":\"heatmap\",\"colorbar\":{\"outlinewidth\":0,\"ticks\":\"\"},\"colorscale\":[[0.0,\"#0d0887\"],[0.1111111111111111,\"#46039f\"],[0.2222222222222222,\"#7201a8\"],[0.3333333333333333,\"#9c179e\"],[0.4444444444444444,\"#bd3786\"],[0.5555555555555556,\"#d8576b\"],[0.6666666666666666,\"#ed7953\"],[0.7777777777777778,\"#fb9f3a\"],[0.8888888888888888,\"#fdca26\"],[1.0,\"#f0f921\"]]}],\"heatmapgl\":[{\"type\":\"heatmapgl\",\"colorbar\":{\"outlinewidth\":0,\"ticks\":\"\"},\"colorscale\":[[0.0,\"#0d0887\"],[0.1111111111111111,\"#46039f\"],[0.2222222222222222,\"#7201a8\"],[0.3333333333333333,\"#9c179e\"],[0.4444444444444444,\"#bd3786\"],[0.5555555555555556,\"#d8576b\"],[0.6666666666666666,\"#ed7953\"],[0.7777777777777778,\"#fb9f3a\"],[0.8888888888888888,\"#fdca26\"],[1.0,\"#f0f921\"]]}],\"contourcarpet\":[{\"type\":\"contourcarpet\",\"colorbar\":{\"outlinewidth\":0,\"ticks\":\"\"}}],\"contour\":[{\"type\":\"contour\",\"colorbar\":{\"outlinewidth\":0,\"ticks\":\"\"},\"colorscale\":[[0.0,\"#0d0887\"],[0.1111111111111111,\"#46039f\"],[0.2222222222222222,\"#7201a8\"],[0.3333333333333333,\"#9c179e\"],[0.4444444444444444,\"#bd3786\"],[0.5555555555555556,\"#d8576b\"],[0.6666666666666666,\"#ed7953\"],[0.7777777777777778,\"#fb9f3a\"],[0.8888888888888888,\"#fdca26\"],[1.0,\"#f0f921\"]]}],\"surface\":[{\"type\":\"surface\",\"colorbar\":{\"outlinewidth\":0,\"ticks\":\"\"},\"colorscale\":[[0.0,\"#0d0887\"],[0.1111111111111111,\"#46039f\"],[0.2222222222222222,\"#7201a8\"],[0.3333333333333333,\"#9c179e\"],[0.4444444444444444,\"#bd3786\"],[0.5555555555555556,\"#d8576b\"],[0.6666666666666666,\"#ed7953\"],[0.7777777777777778,\"#fb9f3a\"],[0.8888888888888888,\"#fdca26\"],[1.0,\"#f0f921\"]]}],\"mesh3d\":[{\"type\":\"mesh3d\",\"colorbar\":{\"outlinewidth\":0,\"ticks\":\"\"}}],\"scatter\":[{\"fillpattern\":{\"fillmode\":\"overlay\",\"size\":10,\"solidity\":0.2},\"type\":\"scatter\"}],\"parcoords\":[{\"type\":\"parcoords\",\"line\":{\"colorbar\":{\"outlinewidth\":0,\"ticks\":\"\"}}}],\"scatterpolargl\":[{\"type\":\"scatterpolargl\",\"marker\":{\"colorbar\":{\"outlinewidth\":0,\"ticks\":\"\"}}}],\"bar\":[{\"error_x\":{\"color\":\"#2a3f5f\"},\"error_y\":{\"color\":\"#2a3f5f\"},\"marker\":{\"line\":{\"color\":\"#E5ECF6\",\"width\":0.5},\"pattern\":{\"fillmode\":\"overlay\",\"size\":10,\"solidity\":0.2}},\"type\":\"bar\"}],\"scattergeo\":[{\"type\":\"scattergeo\",\"marker\":{\"colorbar\":{\"outlinewidth\":0,\"ticks\":\"\"}}}],\"scatterpolar\":[{\"type\":\"scatterpolar\",\"marker\":{\"colorbar\":{\"outlinewidth\":0,\"ticks\":\"\"}}}],\"histogram\":[{\"marker\":{\"pattern\":{\"fillmode\":\"overlay\",\"size\":10,\"solidity\":0.2}},\"type\":\"histogram\"}],\"scattergl\":[{\"type\":\"scattergl\",\"marker\":{\"colorbar\":{\"outlinewidth\":0,\"ticks\":\"\"}}}],\"scatter3d\":[{\"type\":\"scatter3d\",\"line\":{\"colorbar\":{\"outlinewidth\":0,\"ticks\":\"\"}},\"marker\":{\"colorbar\":{\"outlinewidth\":0,\"ticks\":\"\"}}}],\"scattermapbox\":[{\"type\":\"scattermapbox\",\"marker\":{\"colorbar\":{\"outlinewidth\":0,\"ticks\":\"\"}}}],\"scatterternary\":[{\"type\":\"scatterternary\",\"marker\":{\"colorbar\":{\"outlinewidth\":0,\"ticks\":\"\"}}}],\"scattercarpet\":[{\"type\":\"scattercarpet\",\"marker\":{\"colorbar\":{\"outlinewidth\":0,\"ticks\":\"\"}}}],\"carpet\":[{\"aaxis\":{\"endlinecolor\":\"#2a3f5f\",\"gridcolor\":\"white\",\"linecolor\":\"white\",\"minorgridcolor\":\"white\",\"startlinecolor\":\"#2a3f5f\"},\"baxis\":{\"endlinecolor\":\"#2a3f5f\",\"gridcolor\":\"white\",\"linecolor\":\"white\",\"minorgridcolor\":\"white\",\"startlinecolor\":\"#2a3f5f\"},\"type\":\"carpet\"}],\"table\":[{\"cells\":{\"fill\":{\"color\":\"#EBF0F8\"},\"line\":{\"color\":\"white\"}},\"header\":{\"fill\":{\"color\":\"#C8D4E3\"},\"line\":{\"color\":\"white\"}},\"type\":\"table\"}],\"barpolar\":[{\"marker\":{\"line\":{\"color\":\"#E5ECF6\",\"width\":0.5},\"pattern\":{\"fillmode\":\"overlay\",\"size\":10,\"solidity\":0.2}},\"type\":\"barpolar\"}],\"pie\":[{\"automargin\":true,\"type\":\"pie\"}]},\"layout\":{\"autotypenumbers\":\"strict\",\"colorway\":[\"#636efa\",\"#EF553B\",\"#00cc96\",\"#ab63fa\",\"#FFA15A\",\"#19d3f3\",\"#FF6692\",\"#B6E880\",\"#FF97FF\",\"#FECB52\"],\"font\":{\"color\":\"#2a3f5f\"},\"hovermode\":\"closest\",\"hoverlabel\":{\"align\":\"left\"},\"paper_bgcolor\":\"white\",\"plot_bgcolor\":\"#E5ECF6\",\"polar\":{\"bgcolor\":\"#E5ECF6\",\"angularaxis\":{\"gridcolor\":\"white\",\"linecolor\":\"white\",\"ticks\":\"\"},\"radialaxis\":{\"gridcolor\":\"white\",\"linecolor\":\"white\",\"ticks\":\"\"}},\"ternary\":{\"bgcolor\":\"#E5ECF6\",\"aaxis\":{\"gridcolor\":\"white\",\"linecolor\":\"white\",\"ticks\":\"\"},\"baxis\":{\"gridcolor\":\"white\",\"linecolor\":\"white\",\"ticks\":\"\"},\"caxis\":{\"gridcolor\":\"white\",\"linecolor\":\"white\",\"ticks\":\"\"}},\"coloraxis\":{\"colorbar\":{\"outlinewidth\":0,\"ticks\":\"\"}},\"colorscale\":{\"sequential\":[[0.0,\"#0d0887\"],[0.1111111111111111,\"#46039f\"],[0.2222222222222222,\"#7201a8\"],[0.3333333333333333,\"#9c179e\"],[0.4444444444444444,\"#bd3786\"],[0.5555555555555556,\"#d8576b\"],[0.6666666666666666,\"#ed7953\"],[0.7777777777777778,\"#fb9f3a\"],[0.8888888888888888,\"#fdca26\"],[1.0,\"#f0f921\"]],\"sequentialminus\":[[0.0,\"#0d0887\"],[0.1111111111111111,\"#46039f\"],[0.2222222222222222,\"#7201a8\"],[0.3333333333333333,\"#9c179e\"],[0.4444444444444444,\"#bd3786\"],[0.5555555555555556,\"#d8576b\"],[0.6666666666666666,\"#ed7953\"],[0.7777777777777778,\"#fb9f3a\"],[0.8888888888888888,\"#fdca26\"],[1.0,\"#f0f921\"]],\"diverging\":[[0,\"#8e0152\"],[0.1,\"#c51b7d\"],[0.2,\"#de77ae\"],[0.3,\"#f1b6da\"],[0.4,\"#fde0ef\"],[0.5,\"#f7f7f7\"],[0.6,\"#e6f5d0\"],[0.7,\"#b8e186\"],[0.8,\"#7fbc41\"],[0.9,\"#4d9221\"],[1,\"#276419\"]]},\"xaxis\":{\"gridcolor\":\"white\",\"linecolor\":\"white\",\"ticks\":\"\",\"title\":{\"standoff\":15},\"zerolinecolor\":\"white\",\"automargin\":true,\"zerolinewidth\":2},\"yaxis\":{\"gridcolor\":\"white\",\"linecolor\":\"white\",\"ticks\":\"\",\"title\":{\"standoff\":15},\"zerolinecolor\":\"white\",\"automargin\":true,\"zerolinewidth\":2},\"scene\":{\"xaxis\":{\"backgroundcolor\":\"#E5ECF6\",\"gridcolor\":\"white\",\"linecolor\":\"white\",\"showbackground\":true,\"ticks\":\"\",\"zerolinecolor\":\"white\",\"gridwidth\":2},\"yaxis\":{\"backgroundcolor\":\"#E5ECF6\",\"gridcolor\":\"white\",\"linecolor\":\"white\",\"showbackground\":true,\"ticks\":\"\",\"zerolinecolor\":\"white\",\"gridwidth\":2},\"zaxis\":{\"backgroundcolor\":\"#E5ECF6\",\"gridcolor\":\"white\",\"linecolor\":\"white\",\"showbackground\":true,\"ticks\":\"\",\"zerolinecolor\":\"white\",\"gridwidth\":2}},\"shapedefaults\":{\"line\":{\"color\":\"#2a3f5f\"}},\"annotationdefaults\":{\"arrowcolor\":\"#2a3f5f\",\"arrowhead\":0,\"arrowwidth\":1},\"geo\":{\"bgcolor\":\"white\",\"landcolor\":\"#E5ECF6\",\"subunitcolor\":\"white\",\"showland\":true,\"showlakes\":true,\"lakecolor\":\"white\"},\"title\":{\"x\":0.05},\"mapbox\":{\"style\":\"light\"}}},\"title\":{\"text\":\"\\u041a\\u043e\\u043d\\u0432\\u0435\\u0440\\u0441\\u0438\\u044f \\u043f\\u043e\\u043b\\u044c\\u0437\\u043e\\u0432\\u0430\\u0442\\u0435\\u043b\\u0435\\u0439 AB\"}},                        {\"responsive\": true}                    ).then(function(){\n",
       "                            \n",
       "var gd = document.getElementById('7ef2f969-0522-4392-81bd-4f6c7502c33a');\n",
       "var x = new MutationObserver(function (mutations, observer) {{\n",
       "        var display = window.getComputedStyle(gd).display;\n",
       "        if (!display || display === 'none') {{\n",
       "            console.log([gd, 'removed!']);\n",
       "            Plotly.purge(gd);\n",
       "            observer.disconnect();\n",
       "        }}\n",
       "}});\n",
       "\n",
       "// Listen for the removal of the full notebook cells\n",
       "var notebookContainer = gd.closest('#notebook-container');\n",
       "if (notebookContainer) {{\n",
       "    x.observe(notebookContainer, {childList: true});\n",
       "}}\n",
       "\n",
       "// Listen for the clearing of the current output cell\n",
       "var outputEl = gd.closest('.output');\n",
       "if (outputEl) {{\n",
       "    x.observe(outputEl, {childList: true});\n",
       "}}\n",
       "\n",
       "                        })                };                });            </script>        </div>"
      ]
     },
     "metadata": {},
     "output_type": "display_data"
    }
   ],
   "source": [
    "fig = go.Figure()\n",
    "\n",
    "fig.add_trace(go.Funnel(\n",
    "    name = 'Group A',\n",
    "    y = a1['event_name'],\n",
    "    x = a1['user_id'],\n",
    "    textinfo = \"value+percent initial\"\n",
    "))\n",
    "\n",
    "fig.add_trace(go.Funnel(\n",
    "    name = 'Group B',\n",
    "    y = b2['event_name'],\n",
    "    x = b2['user_id'],\n",
    "    textinfo = \"value+percent initial\"\n",
    "))\n",
    "\n",
    "fig.update_layout(title_text='Конверсия пользователей AB')\n",
    "fig.show()"
   ]
  },
  {
   "cell_type": "markdown",
   "metadata": {},
   "source": [
    "Наблюдается большое различие между группами A и B. Разница в 2 -3 раза.\n",
    "Мы видим, что конверсия в шаг начиная с регистрации равномерно уменьшалась, а на шаге покупка демонстрирует увеличение числа событий. Это может быть связано либо с ошибками в данных, либо с внешним пересечением событий по различным мероприятийм и тестам, которые накладывались друг на друга, либо, что наиболее вероятно, с возможностью совершения покупки, минуя корзину."
   ]
  },
  {
   "cell_type": "markdown",
   "metadata": {},
   "source": [
    "### Проведение AB  теста"
   ]
  },
  {
   "cell_type": "code",
   "execution_count": 93,
   "metadata": {},
   "outputs": [],
   "source": [
    "# оставляем только данные теста recommender_system_test\n",
    "participants = participants[participants.ab_test == 'recommender_system_test']\n",
    "\n",
    "# события пользователей, участвующих в тесте\n",
    "events_participants = events.merge(participants, on=('user_id','group','ab_test'), how='inner')\n",
    "\n",
    "# группа А\n",
    "group_A_events_participants = events_participants[events_participants.group == 'A']\n",
    "\n",
    "# группа В\n",
    "group_B_events_participants = events_participants[events_participants.group == 'B']"
   ]
  },
  {
   "cell_type": "markdown",
   "metadata": {},
   "source": [
    "Для проверки статистически значимой разницы между группами в событиях воронки мы будем использовать двухстороний Z-тест с поправкой Бонферрони.\n",
    "\n",
    "Гипотезы для проведения Z-теста следующие:\n",
    "\n",
    "* H0 Нулевая гипотеза - доли уникальных посетителей на этапе воронки одинаковы.\n",
    "* H1 Альтернативная гипотеза - между долями уникальных посетителей на этапе воронки есть значимая разница."
   ]
  },
  {
   "cell_type": "code",
   "execution_count": 94,
   "metadata": {},
   "outputs": [],
   "source": [
    "def get_conversion(df:pd.DataFrame):\n",
    "\n",
    "    result_df = (\n",
    "        df.groupby('event_name')\n",
    "        .agg({'user_id' : 'nunique'})\n",
    "        .rename(columns={'user_id' : 'num_users'})\n",
    "        .sort_values(by='num_users', ascending=False)\n",
    "        \n",
    "    )\n",
    "    \n",
    "    # добавляем столбец с конверсией\n",
    "    result_df['conversion'] = result_df['num_users'] / result_df.loc['login', 'num_users']\n",
    "    \n",
    "    return result_df.round(2)\n",
    "\n",
    "\n",
    "def check_fractions(\n",
    "    name_first_group,\n",
    "    name_second_group,\n",
    "    trial_first_group,\n",
    "    trial_second_group,\n",
    "    success_first_group,\n",
    "    success_second_group,\n",
    "    alpha=0.05):\n",
    "   \n",
    "    # успехи\n",
    "    successes = np.array([success_first_group, success_second_group])\n",
    "    # попытки\n",
    "    trials = np.array([trial_first_group, trial_second_group])\n",
    "    \n",
    "    alpha = alpha\n",
    "    \n",
    "    # пропорция успехов в первой группе\n",
    "    p1 = successes[0] / trials[0]\n",
    "    \n",
    "    # пропорция успехов во второй группе\n",
    "    p2 = successes[1] / trials[1]\n",
    "    \n",
    "    print(successes[0], successes[1], trials[0], trials[1])\n",
    "    \n",
    "    # разница пропорций в датасетах\n",
    "    difference = p1 - p2\n",
    "    \n",
    "    # пропорция успехов в комбинированном датасете\n",
    "    p_combined = (successes[0] + successes[1]) / (trials[0] + trials[1])\n",
    "    \n",
    "    # считаем статистику в стандартных отклонениях стандартного нормального распределения\n",
    "    z_value = difference / math.sqrt(\n",
    "        p_combined * (1 - p_combined) * (1 / trials[0] + 1 / trials[1]))\n",
    "    \n",
    "    # задаём стандартное нормальное распределение со средним 0 и стандартным отклонением 1\n",
    "    distribution = st.norm(0, 1)\n",
    "    \n",
    "    print('z_value:', z_value)\n",
    "    # тест двусторонний\n",
    "    p_value = (1 - distribution.cdf(abs(z_value))) * 2\n",
    "    print('p_value:', p_value)\n",
    "    \n",
    "    if p_value < alpha:\n",
    "        print(\n",
    "            f'Отвергаем нулевую гипотезу: между долями групп {name_first_group} и {name_second_group} есть значимая разница'\n",
    "        )\n",
    "    else:\n",
    "        print(\n",
    "            f'Не отвергаем нулевую гипотезу: нет оснований считать доли групп {name_first_group} и {name_second_group} разными'\n",
    "        )\n",
    "        \n",
    "        \n",
    "def display_check_fractions(\n",
    "    name_first_group,\n",
    "    name_second_group,\n",
    "    df1,\n",
    "    df2,\n",
    "    alpha=0.05\n",
    "):\n",
    "     \n",
    "    # максимальный индекс\n",
    "    index = max(df1.index.tolist())\n",
    "    \n",
    "    # имя шага из столбца event name\n",
    "    names_step = df1['event_name'].tolist()\n",
    "    \n",
    "    # в цикле вызываем функцию check_fractions\n",
    "    for i, step in zip(range(index + 1), names_step):\n",
    "        print(f'Шаг: {step}')\n",
    "        check_fractions(\n",
    "            name_first_group,\n",
    "            name_second_group,\n",
    "            df1.loc[i, 'total'],\n",
    "            df2.loc[i, 'total'],\n",
    "            df1.loc[i, 'num_users'],\n",
    "            df2.loc[i, 'num_users'],\n",
    "            alpha=alpha\n",
    "        )\n",
    "        print()"
   ]
  },
  {
   "cell_type": "code",
   "execution_count": 95,
   "metadata": {},
   "outputs": [
    {
     "data": {
      "text/plain": [
       "array(['purchase', 'product_cart', 'login', 'product_page'], dtype=object)"
      ]
     },
     "execution_count": 95,
     "metadata": {},
     "output_type": "execute_result"
    }
   ],
   "source": [
    "events_participants['event_name'].unique()"
   ]
  },
  {
   "cell_type": "code",
   "execution_count": 96,
   "metadata": {},
   "outputs": [
    {
     "data": {
      "text/plain": [
       "[              num_users  conversion\n",
       " event_name                         \n",
       " login              2747        1.00\n",
       " product_page       1780        0.65\n",
       " purchase            872        0.32\n",
       " product_cart        824        0.30,\n",
       "               num_users  conversion\n",
       " event_name                         \n",
       " login               927        1.00\n",
       " product_page        523        0.56\n",
       " purchase            256        0.28\n",
       " product_cart        255        0.28]"
      ]
     },
     "metadata": {},
     "output_type": "display_data"
    },
    {
     "data": {
      "text/plain": [
       "['group_A_conversion_df', 'group_B_conversion_df']"
      ]
     },
     "metadata": {},
     "output_type": "display_data"
    }
   ],
   "source": [
    "# конверсия в группе А\n",
    "group_A_conversion_df = get_conversion(group_A_events_participants)\n",
    "\n",
    "# конверсия в группе В\n",
    "group_B_conversion_df = get_conversion(group_B_events_participants)\n",
    "\n",
    "display(\n",
    "    [group_A_conversion_df, group_B_conversion_df], \n",
    "    ['group_A_conversion_df', 'group_B_conversion_df']\n",
    ")"
   ]
  },
  {
   "cell_type": "markdown",
   "metadata": {},
   "source": [
    "- Некоторые пользователи переходят к покупке товара минуя страницу товара и корзину с товарами. Из-за этого число покупок в обоих группах больше, чем переходов в корзину с товарами. Это вполне нормально\n",
    "- Конверсия в группе А больше чем в группе В: 31.7% против 27.6%\n",
    "- Оплата должна быть заключительным шагом воронки. Поменяем порядок в воронке и визуализируем."
   ]
  },
  {
   "cell_type": "code",
   "execution_count": 97,
   "metadata": {},
   "outputs": [
    {
     "data": {
      "text/plain": [
       "[              num_users  conversion\n",
       " event_name                         \n",
       " login              2747        1.00\n",
       " product_page       1780        0.65\n",
       " product_cart        824        0.30\n",
       " purchase            872        0.32,\n",
       "               num_users  conversion\n",
       " event_name                         \n",
       " login               927        1.00\n",
       " product_page        523        0.56\n",
       " product_cart        255        0.28\n",
       " purchase            256        0.28]"
      ]
     },
     "metadata": {},
     "output_type": "display_data"
    },
    {
     "data": {
      "text/plain": [
       "['group_A_conversion_df', 'group_B_conversion_df']"
      ]
     },
     "metadata": {},
     "output_type": "display_data"
    }
   ],
   "source": [
    "# новый порядок индексации\n",
    "new_index = ['login', 'product_page', 'product_cart', 'purchase']\n",
    "\n",
    "group_A_conversion_df = group_A_conversion_df.reindex(new_index)\n",
    "\n",
    "group_B_conversion_df = group_B_conversion_df.reindex(new_index)\n",
    "\n",
    "display(\n",
    "    [group_A_conversion_df, group_B_conversion_df], \n",
    "    ['group_A_conversion_df', 'group_B_conversion_df']\n",
    ")"
   ]
  },
  {
   "cell_type": "code",
   "execution_count": 98,
   "metadata": {},
   "outputs": [
    {
     "data": {
      "text/plain": [
       "[     event_name  num_users  conversion  total\n",
       " 0  product_page       1780        0.65   2747\n",
       " 1  product_cart        824        0.30   2747\n",
       " 2      purchase        872        0.32   2747,\n",
       "      event_name  num_users  conversion  total\n",
       " 0  product_page        523        0.56    927\n",
       " 1  product_cart        255        0.28    927\n",
       " 2      purchase        256        0.28    927]"
      ]
     },
     "metadata": {},
     "output_type": "display_data"
    },
    {
     "data": {
      "text/plain": [
       "['group_A_conversion_df', 'group_B_conversion_df']"
      ]
     },
     "metadata": {},
     "output_type": "display_data"
    }
   ],
   "source": [
    "group_A_conversion_df['total'] = group_A_conversion_df.loc['login', 'num_users']\n",
    "group_B_conversion_df['total'] = group_B_conversion_df.loc['login', 'num_users']\n",
    "\n",
    "# строки с индексом (событием) login нам не нужны\n",
    "group_A_conversion_df = group_A_conversion_df.loc['product_page':,]\n",
    "group_B_conversion_df = group_B_conversion_df.loc['product_page':,]\n",
    "\n",
    "# для функции нужны целочисленные индексы, поэтому резетим индексы\n",
    "group_A_conversion_df = group_A_conversion_df.reset_index()\n",
    "group_B_conversion_df = group_B_conversion_df.reset_index()\n",
    "\n",
    "display(\n",
    "    [group_A_conversion_df, group_B_conversion_df], \n",
    "    ['group_A_conversion_df', 'group_B_conversion_df']\n",
    ")"
   ]
  },
  {
   "cell_type": "code",
   "execution_count": 99,
   "metadata": {},
   "outputs": [
    {
     "name": "stdout",
     "output_type": "stream",
     "text": [
      "Шаг: product_page\n",
      "1780 523 2747 927\n",
      "z_value: 4.561276066964096\n",
      "p_value: 5.084368080776613e-06\n",
      "Отвергаем нулевую гипотезу: между долями групп A и B есть значимая разница\n",
      "\n",
      "Шаг: product_cart\n",
      "824 255 2747 927\n",
      "z_value: 1.4383239332989086\n",
      "p_value: 0.15034216422194624\n",
      "Не отвергаем нулевую гипотезу: нет оснований считать доли групп A и B разными\n",
      "\n",
      "Шаг: purchase\n",
      "872 256 2747 927\n",
      "z_value: 2.355965515484171\n",
      "p_value: 0.018474632659979617\n",
      "Не отвергаем нулевую гипотезу: нет оснований считать доли групп A и B разными\n",
      "\n"
     ]
    }
   ],
   "source": [
    "alpha = 0.05\n",
    "\n",
    "# Всего 3 сравнения\n",
    "bonferroni_alpha = 0.05 / 3\n",
    "\n",
    "display_check_fractions('A', 'B', group_A_conversion_df, group_B_conversion_df, alpha=bonferroni_alpha)\n"
   ]
  },
  {
   "cell_type": "markdown",
   "metadata": {},
   "source": [
    "Вывод:\n",
    "\n",
    "* на шаге product_page (переход на страницу товара) между конверсиями групп А и В есть значимая разница\n",
    "* на шаге product_cart (переход в корзину) между конверсиями групп А и В нет значимой разницы\n",
    "* на шаге purchase (оплата товара) между конверсиями групп А и В нет значимой разницы"
   ]
  },
  {
   "cell_type": "markdown",
   "metadata": {},
   "source": [
    "### Вывод:\n",
    "\n",
    "В ходе анализа данных были исправлены типы данных, дубли необнаружены.Нет полных данных\n",
    "\n",
    "Были построены воронки конверсии. Воронка показала то, что пользователь может перейти на страницу оплаты минуя остальные страницы (авторизация, страница продукта, корзина). \n",
    "Конверсии на шаге оплаты товара в группе А составляет 31.7%, в группе В - 27.6%\n",
    "\n",
    "A/B тест пересекается сразу с двумя маркетинговыми активностями.\n",
    "\n",
    "Количество пользователей распределено неравномерно.При идеальном делении 50\\50.Количество пользователей в группе А на 25% больше чем в группе В. Это очень большая разница. \n",
    "\n",
    "В процессе анализа были установлены факты, которые отрицательно повлияли на корректность А-В-теста, а именно:\n",
    "во время проведения A-B-теста проводились маркетинговая акция Christmas&New Year Promo с 2020-12-25 по 2021-01-03.\n",
    "\n",
    "У нас нет данных с 29-го декабря и по 4 января.\n",
    " \n",
    "\n",
    "Проведя А/В тест с применением Z критерия, было выявлено, что статистически значимой разницы между группами А/В есть на  этапе  страницы продукта, на всех остальных этапах нет.\n",
    "\n",
    "\n",
    "Ввиду выше сказанного, данный тест считаю не ооочень не успешным."
   ]
  },
  {
   "cell_type": "markdown",
   "metadata": {},
   "source": [
    "Нельзя принимать результаты данного тестирования. Рекомендую заново провести AB-тестирование, соблюдая все правила корректного проведения.\n",
    "\n",
    "# Рекомендации:\n",
    "\n",
    "необходимо проанализировать алгоритм новой системы рекомендации и внести изменения.\n",
    "\n",
    "провести следущий тест в более подходящее время равноудаленное от маркетинговых событий и больших праздников."
   ]
  }
 ],
 "metadata": {
  "ExecuteTimeLog": [
   {
    "duration": 48,
    "start_time": "2023-04-13T16:04:40.624Z"
   },
   {
    "duration": 1411,
    "start_time": "2023-04-13T16:04:45.419Z"
   },
   {
    "duration": 1149,
    "start_time": "2023-04-13T16:04:46.833Z"
   },
   {
    "duration": 66,
    "start_time": "2023-04-13T16:05:03.151Z"
   },
   {
    "duration": 1231,
    "start_time": "2023-04-13T16:05:16.720Z"
   },
   {
    "duration": 1030,
    "start_time": "2023-04-13T16:05:17.953Z"
   },
   {
    "duration": 108,
    "start_time": "2023-04-13T16:05:18.985Z"
   },
   {
    "duration": 16,
    "start_time": "2023-04-13T16:05:26.851Z"
   },
   {
    "duration": 70,
    "start_time": "2023-04-13T16:34:57.190Z"
   },
   {
    "duration": 11,
    "start_time": "2023-04-13T16:35:11.273Z"
   },
   {
    "duration": 11,
    "start_time": "2023-04-13T16:35:30.791Z"
   },
   {
    "duration": 118,
    "start_time": "2023-04-13T17:03:39.664Z"
   },
   {
    "duration": 11,
    "start_time": "2023-04-13T17:03:41.039Z"
   },
   {
    "duration": 5,
    "start_time": "2023-04-13T17:03:42.209Z"
   },
   {
    "duration": 14,
    "start_time": "2023-04-13T17:03:42.970Z"
   },
   {
    "duration": 15,
    "start_time": "2023-04-13T17:04:00.788Z"
   },
   {
    "duration": 1466,
    "start_time": "2023-04-13T17:04:33.105Z"
   },
   {
    "duration": 1266,
    "start_time": "2023-04-13T17:04:34.574Z"
   },
   {
    "duration": 17,
    "start_time": "2023-04-13T17:04:35.842Z"
   },
   {
    "duration": 205,
    "start_time": "2023-04-13T17:04:35.861Z"
   },
   {
    "duration": 8,
    "start_time": "2023-04-13T17:04:36.069Z"
   },
   {
    "duration": 12,
    "start_time": "2023-04-13T17:04:36.080Z"
   },
   {
    "duration": 14,
    "start_time": "2023-04-13T17:04:36.094Z"
   },
   {
    "duration": 8,
    "start_time": "2023-04-13T17:18:50.873Z"
   },
   {
    "duration": 19,
    "start_time": "2023-04-13T17:19:03.907Z"
   },
   {
    "duration": 366,
    "start_time": "2023-04-13T17:19:35.145Z"
   },
   {
    "duration": 102,
    "start_time": "2023-04-13T17:20:06.014Z"
   },
   {
    "duration": 140,
    "start_time": "2023-04-13T17:20:46.215Z"
   },
   {
    "duration": 11,
    "start_time": "2023-04-13T17:21:07.770Z"
   },
   {
    "duration": 9,
    "start_time": "2023-04-13T17:21:35.127Z"
   },
   {
    "duration": 1338,
    "start_time": "2023-04-14T14:32:25.777Z"
   },
   {
    "duration": 1049,
    "start_time": "2023-04-14T14:32:27.117Z"
   },
   {
    "duration": 11,
    "start_time": "2023-04-14T14:32:28.167Z"
   },
   {
    "duration": 291,
    "start_time": "2023-04-14T14:32:28.180Z"
   },
   {
    "duration": 45,
    "start_time": "2023-04-14T14:32:28.473Z"
   },
   {
    "duration": 20,
    "start_time": "2023-04-14T14:32:28.519Z"
   },
   {
    "duration": 118,
    "start_time": "2023-04-14T14:32:28.541Z"
   },
   {
    "duration": 6,
    "start_time": "2023-04-14T14:32:28.661Z"
   },
   {
    "duration": 10,
    "start_time": "2023-04-14T14:32:28.668Z"
   },
   {
    "duration": 29,
    "start_time": "2023-04-14T14:32:28.680Z"
   },
   {
    "duration": 16,
    "start_time": "2023-04-14T14:32:28.710Z"
   },
   {
    "duration": 29,
    "start_time": "2023-04-14T14:32:28.728Z"
   },
   {
    "duration": 309,
    "start_time": "2023-04-14T14:32:28.758Z"
   },
   {
    "duration": 62,
    "start_time": "2023-04-14T14:32:29.068Z"
   },
   {
    "duration": 38,
    "start_time": "2023-04-14T14:37:43.915Z"
   },
   {
    "duration": 5,
    "start_time": "2023-04-14T14:38:02.663Z"
   },
   {
    "duration": 7,
    "start_time": "2023-04-14T14:38:15.537Z"
   },
   {
    "duration": 35,
    "start_time": "2023-04-14T14:38:26.995Z"
   },
   {
    "duration": 30,
    "start_time": "2023-04-14T14:39:44.198Z"
   },
   {
    "duration": 7,
    "start_time": "2023-04-14T15:19:25.574Z"
   },
   {
    "duration": 5,
    "start_time": "2023-04-14T15:19:26.808Z"
   },
   {
    "duration": 8,
    "start_time": "2023-04-14T15:19:28.126Z"
   },
   {
    "duration": 9,
    "start_time": "2023-04-14T15:29:27.758Z"
   },
   {
    "duration": 8,
    "start_time": "2023-04-14T15:33:57.676Z"
   },
   {
    "duration": 21,
    "start_time": "2023-04-14T15:33:58.742Z"
   },
   {
    "duration": 31,
    "start_time": "2023-04-14T15:34:00.282Z"
   },
   {
    "duration": 19,
    "start_time": "2023-04-14T15:34:01.343Z"
   },
   {
    "duration": 6,
    "start_time": "2023-04-14T15:34:02.666Z"
   },
   {
    "duration": 11,
    "start_time": "2023-04-14T15:34:03.533Z"
   },
   {
    "duration": 92,
    "start_time": "2023-04-14T15:34:46.649Z"
   },
   {
    "duration": 6,
    "start_time": "2023-04-14T15:35:09.456Z"
   },
   {
    "duration": 5,
    "start_time": "2023-04-14T15:35:23.372Z"
   },
   {
    "duration": 5,
    "start_time": "2023-04-14T15:35:32.478Z"
   },
   {
    "duration": 286,
    "start_time": "2023-04-14T15:38:00.532Z"
   },
   {
    "duration": 1856,
    "start_time": "2023-04-14T15:38:07.885Z"
   },
   {
    "duration": 6,
    "start_time": "2023-04-14T15:38:09.743Z"
   },
   {
    "duration": 31,
    "start_time": "2023-04-14T15:38:29.906Z"
   },
   {
    "duration": 88,
    "start_time": "2023-04-14T16:31:36.542Z"
   },
   {
    "duration": 350,
    "start_time": "2023-04-14T16:35:12.774Z"
   },
   {
    "duration": 40,
    "start_time": "2023-04-14T16:35:18.648Z"
   },
   {
    "duration": 3,
    "start_time": "2023-04-14T16:35:19.460Z"
   },
   {
    "duration": 382,
    "start_time": "2023-04-14T16:35:29.100Z"
   },
   {
    "duration": 747,
    "start_time": "2023-04-14T16:35:43.378Z"
   },
   {
    "duration": 1562,
    "start_time": "2023-04-14T16:38:21.580Z"
   },
   {
    "duration": 52,
    "start_time": "2023-04-14T16:41:31.233Z"
   },
   {
    "duration": 61,
    "start_time": "2023-04-14T16:43:19.479Z"
   },
   {
    "duration": 335,
    "start_time": "2023-04-14T16:46:02.672Z"
   },
   {
    "duration": 705,
    "start_time": "2023-04-14T16:46:32.817Z"
   },
   {
    "duration": 768,
    "start_time": "2023-04-14T16:47:01.418Z"
   },
   {
    "duration": 13,
    "start_time": "2023-04-14T16:52:55.452Z"
   },
   {
    "duration": 1073,
    "start_time": "2023-04-14T16:53:42.078Z"
   },
   {
    "duration": 934,
    "start_time": "2023-04-14T16:53:43.153Z"
   },
   {
    "duration": 52,
    "start_time": "2023-04-14T16:53:57.048Z"
   },
   {
    "duration": 694,
    "start_time": "2023-04-14T16:54:10.738Z"
   },
   {
    "duration": 170,
    "start_time": "2023-04-14T16:54:26.542Z"
   },
   {
    "duration": 683,
    "start_time": "2023-04-14T16:54:49.584Z"
   },
   {
    "duration": 680,
    "start_time": "2023-04-14T16:54:54.715Z"
   },
   {
    "duration": 553,
    "start_time": "2023-04-14T16:55:25.875Z"
   },
   {
    "duration": 443,
    "start_time": "2023-04-14T17:48:04.854Z"
   },
   {
    "duration": 30,
    "start_time": "2023-04-14T17:49:54.600Z"
   },
   {
    "duration": 669,
    "start_time": "2023-04-14T17:50:33.346Z"
   },
   {
    "duration": 4,
    "start_time": "2023-04-14T17:52:34.992Z"
   },
   {
    "duration": 1143,
    "start_time": "2023-04-14T17:55:50.935Z"
   },
   {
    "duration": 1378,
    "start_time": "2023-04-14T17:55:52.080Z"
   },
   {
    "duration": 13,
    "start_time": "2023-04-14T17:55:53.459Z"
   },
   {
    "duration": 316,
    "start_time": "2023-04-14T17:55:53.474Z"
   },
   {
    "duration": 46,
    "start_time": "2023-04-14T17:55:53.794Z"
   },
   {
    "duration": 6,
    "start_time": "2023-04-14T17:55:53.842Z"
   },
   {
    "duration": 13,
    "start_time": "2023-04-14T17:55:53.849Z"
   },
   {
    "duration": 70,
    "start_time": "2023-04-14T17:55:53.865Z"
   },
   {
    "duration": 61,
    "start_time": "2023-04-14T17:55:53.937Z"
   },
   {
    "duration": 18,
    "start_time": "2023-04-14T17:55:54.000Z"
   },
   {
    "duration": 143,
    "start_time": "2023-04-14T17:55:54.020Z"
   },
   {
    "duration": 7,
    "start_time": "2023-04-14T17:55:54.166Z"
   },
   {
    "duration": 21,
    "start_time": "2023-04-14T17:55:54.176Z"
   },
   {
    "duration": 13,
    "start_time": "2023-04-14T17:55:54.199Z"
   },
   {
    "duration": 11,
    "start_time": "2023-04-14T17:55:54.214Z"
   },
   {
    "duration": 30,
    "start_time": "2023-04-14T17:55:54.227Z"
   },
   {
    "duration": 47,
    "start_time": "2023-04-14T17:55:54.259Z"
   },
   {
    "duration": 15,
    "start_time": "2023-04-14T17:55:54.308Z"
   },
   {
    "duration": 25,
    "start_time": "2023-04-14T17:55:54.324Z"
   },
   {
    "duration": 25,
    "start_time": "2023-04-14T17:55:54.350Z"
   },
   {
    "duration": 272,
    "start_time": "2023-04-14T17:55:54.376Z"
   },
   {
    "duration": 6,
    "start_time": "2023-04-14T17:55:54.650Z"
   },
   {
    "duration": 11,
    "start_time": "2023-04-14T17:55:54.657Z"
   },
   {
    "duration": 98,
    "start_time": "2023-04-14T17:55:54.669Z"
   },
   {
    "duration": 99,
    "start_time": "2023-04-14T17:55:54.769Z"
   },
   {
    "duration": 4,
    "start_time": "2023-04-14T17:55:54.870Z"
   },
   {
    "duration": 90,
    "start_time": "2023-04-14T18:19:48.736Z"
   },
   {
    "duration": 32,
    "start_time": "2023-04-14T18:20:07.178Z"
   },
   {
    "duration": 27,
    "start_time": "2023-04-14T18:22:11.917Z"
   },
   {
    "duration": 1154,
    "start_time": "2023-04-14T18:22:31.698Z"
   },
   {
    "duration": 1168,
    "start_time": "2023-04-14T18:22:32.855Z"
   },
   {
    "duration": 11,
    "start_time": "2023-04-14T18:22:34.025Z"
   },
   {
    "duration": 359,
    "start_time": "2023-04-14T18:22:34.038Z"
   },
   {
    "duration": 48,
    "start_time": "2023-04-14T18:22:34.400Z"
   },
   {
    "duration": 4,
    "start_time": "2023-04-14T18:22:34.450Z"
   },
   {
    "duration": 10,
    "start_time": "2023-04-14T18:22:34.456Z"
   },
   {
    "duration": 54,
    "start_time": "2023-04-14T18:22:34.467Z"
   },
   {
    "duration": 43,
    "start_time": "2023-04-14T18:22:34.522Z"
   },
   {
    "duration": 48,
    "start_time": "2023-04-14T18:22:34.567Z"
   },
   {
    "duration": 119,
    "start_time": "2023-04-14T18:22:34.617Z"
   },
   {
    "duration": 6,
    "start_time": "2023-04-14T18:22:34.738Z"
   },
   {
    "duration": 5,
    "start_time": "2023-04-14T18:22:34.746Z"
   },
   {
    "duration": 15,
    "start_time": "2023-04-14T18:22:34.754Z"
   },
   {
    "duration": 24,
    "start_time": "2023-04-14T18:22:34.771Z"
   },
   {
    "duration": 16,
    "start_time": "2023-04-14T18:22:34.797Z"
   },
   {
    "duration": 25,
    "start_time": "2023-04-14T18:22:34.814Z"
   },
   {
    "duration": 13,
    "start_time": "2023-04-14T18:22:34.840Z"
   },
   {
    "duration": 6,
    "start_time": "2023-04-14T18:22:34.854Z"
   },
   {
    "duration": 36,
    "start_time": "2023-04-14T18:22:34.862Z"
   },
   {
    "duration": 296,
    "start_time": "2023-04-14T18:22:34.900Z"
   },
   {
    "duration": 5,
    "start_time": "2023-04-14T18:22:35.198Z"
   },
   {
    "duration": 28,
    "start_time": "2023-04-14T18:22:35.205Z"
   },
   {
    "duration": 89,
    "start_time": "2023-04-14T18:22:35.235Z"
   },
   {
    "duration": 92,
    "start_time": "2023-04-14T18:22:35.325Z"
   },
   {
    "duration": 3,
    "start_time": "2023-04-14T18:22:35.420Z"
   },
   {
    "duration": 43,
    "start_time": "2023-04-14T18:22:35.425Z"
   },
   {
    "duration": 0,
    "start_time": "2023-04-14T18:22:35.469Z"
   },
   {
    "duration": 106,
    "start_time": "2023-04-14T18:22:43.740Z"
   },
   {
    "duration": 723,
    "start_time": "2023-04-14T18:29:21.152Z"
   },
   {
    "duration": 723,
    "start_time": "2023-04-14T18:29:29.111Z"
   },
   {
    "duration": 26,
    "start_time": "2023-04-14T18:29:56.096Z"
   },
   {
    "duration": 43,
    "start_time": "2023-04-14T18:31:22.753Z"
   },
   {
    "duration": 57,
    "start_time": "2023-04-14T18:31:47.627Z"
   },
   {
    "duration": 59,
    "start_time": "2023-04-14T18:32:04.392Z"
   },
   {
    "duration": 13,
    "start_time": "2023-04-14T18:32:25.688Z"
   },
   {
    "duration": 103,
    "start_time": "2023-04-14T18:32:38.434Z"
   },
   {
    "duration": 26,
    "start_time": "2023-04-14T18:33:16.498Z"
   },
   {
    "duration": 40,
    "start_time": "2023-04-14T18:33:30.986Z"
   },
   {
    "duration": 1184,
    "start_time": "2023-04-14T18:48:10.082Z"
   },
   {
    "duration": 2116,
    "start_time": "2023-04-14T18:48:11.268Z"
   },
   {
    "duration": 11,
    "start_time": "2023-04-14T18:48:13.385Z"
   },
   {
    "duration": 301,
    "start_time": "2023-04-14T18:48:13.398Z"
   },
   {
    "duration": 45,
    "start_time": "2023-04-14T18:48:13.701Z"
   },
   {
    "duration": 4,
    "start_time": "2023-04-14T18:48:13.748Z"
   },
   {
    "duration": 18,
    "start_time": "2023-04-14T18:48:13.753Z"
   },
   {
    "duration": 41,
    "start_time": "2023-04-14T18:48:13.772Z"
   },
   {
    "duration": 44,
    "start_time": "2023-04-14T18:48:13.815Z"
   },
   {
    "duration": 16,
    "start_time": "2023-04-14T18:48:13.861Z"
   },
   {
    "duration": 115,
    "start_time": "2023-04-14T18:48:13.879Z"
   },
   {
    "duration": 6,
    "start_time": "2023-04-14T18:48:13.995Z"
   },
   {
    "duration": 6,
    "start_time": "2023-04-14T18:48:14.002Z"
   },
   {
    "duration": 10,
    "start_time": "2023-04-14T18:48:14.010Z"
   },
   {
    "duration": 8,
    "start_time": "2023-04-14T18:48:14.021Z"
   },
   {
    "duration": 19,
    "start_time": "2023-04-14T18:48:14.030Z"
   },
   {
    "duration": 60,
    "start_time": "2023-04-14T18:48:14.050Z"
   },
   {
    "duration": 18,
    "start_time": "2023-04-14T18:48:14.112Z"
   },
   {
    "duration": 6,
    "start_time": "2023-04-14T18:48:14.132Z"
   },
   {
    "duration": 12,
    "start_time": "2023-04-14T18:48:14.140Z"
   },
   {
    "duration": 297,
    "start_time": "2023-04-14T18:48:14.154Z"
   },
   {
    "duration": 5,
    "start_time": "2023-04-14T18:48:14.452Z"
   },
   {
    "duration": 8,
    "start_time": "2023-04-14T18:48:14.459Z"
   },
   {
    "duration": 92,
    "start_time": "2023-04-14T18:48:14.468Z"
   },
   {
    "duration": 92,
    "start_time": "2023-04-14T18:48:14.561Z"
   },
   {
    "duration": 3,
    "start_time": "2023-04-14T18:48:14.655Z"
   },
   {
    "duration": 109,
    "start_time": "2023-04-14T18:48:14.659Z"
   },
   {
    "duration": 47,
    "start_time": "2023-04-14T18:48:14.770Z"
   },
   {
    "duration": 22,
    "start_time": "2023-04-14T18:48:14.819Z"
   },
   {
    "duration": 9,
    "start_time": "2023-04-14T18:48:14.842Z"
   },
   {
    "duration": 13,
    "start_time": "2023-04-14T18:48:14.853Z"
   },
   {
    "duration": 29,
    "start_time": "2023-04-14T18:48:14.868Z"
   },
   {
    "duration": 97,
    "start_time": "2023-04-14T18:48:14.898Z"
   },
   {
    "duration": 1115,
    "start_time": "2023-04-14T18:49:16.563Z"
   },
   {
    "duration": 1514,
    "start_time": "2023-04-14T18:49:17.680Z"
   },
   {
    "duration": 13,
    "start_time": "2023-04-14T18:49:19.195Z"
   },
   {
    "duration": 304,
    "start_time": "2023-04-14T18:49:19.209Z"
   },
   {
    "duration": 46,
    "start_time": "2023-04-14T18:49:19.516Z"
   },
   {
    "duration": 5,
    "start_time": "2023-04-14T18:49:19.564Z"
   },
   {
    "duration": 27,
    "start_time": "2023-04-14T18:49:19.571Z"
   },
   {
    "duration": 32,
    "start_time": "2023-04-14T18:49:19.600Z"
   },
   {
    "duration": 42,
    "start_time": "2023-04-14T18:49:19.633Z"
   },
   {
    "duration": 18,
    "start_time": "2023-04-14T18:49:19.695Z"
   },
   {
    "duration": 111,
    "start_time": "2023-04-14T18:49:19.715Z"
   },
   {
    "duration": 7,
    "start_time": "2023-04-14T18:49:19.828Z"
   },
   {
    "duration": 4,
    "start_time": "2023-04-14T18:49:19.836Z"
   },
   {
    "duration": 10,
    "start_time": "2023-04-14T18:49:19.843Z"
   },
   {
    "duration": 9,
    "start_time": "2023-04-14T18:49:19.854Z"
   },
   {
    "duration": 37,
    "start_time": "2023-04-14T18:49:19.864Z"
   },
   {
    "duration": 24,
    "start_time": "2023-04-14T18:49:19.903Z"
   },
   {
    "duration": 12,
    "start_time": "2023-04-14T18:49:19.928Z"
   },
   {
    "duration": 4,
    "start_time": "2023-04-14T18:49:19.942Z"
   },
   {
    "duration": 9,
    "start_time": "2023-04-14T18:49:19.948Z"
   },
   {
    "duration": 284,
    "start_time": "2023-04-14T18:49:19.959Z"
   },
   {
    "duration": 6,
    "start_time": "2023-04-14T18:49:20.244Z"
   },
   {
    "duration": 7,
    "start_time": "2023-04-14T18:49:20.251Z"
   },
   {
    "duration": 90,
    "start_time": "2023-04-14T18:49:20.259Z"
   },
   {
    "duration": 87,
    "start_time": "2023-04-14T18:49:20.350Z"
   },
   {
    "duration": 3,
    "start_time": "2023-04-14T18:49:20.439Z"
   },
   {
    "duration": 118,
    "start_time": "2023-04-14T18:49:20.443Z"
   },
   {
    "duration": 46,
    "start_time": "2023-04-14T18:49:20.562Z"
   },
   {
    "duration": 28,
    "start_time": "2023-04-14T18:49:20.610Z"
   },
   {
    "duration": 9,
    "start_time": "2023-04-14T18:49:20.639Z"
   },
   {
    "duration": 14,
    "start_time": "2023-04-14T18:49:20.649Z"
   },
   {
    "duration": 5,
    "start_time": "2023-04-14T18:49:20.664Z"
   },
   {
    "duration": 18,
    "start_time": "2023-04-14T18:49:20.694Z"
   },
   {
    "duration": 12,
    "start_time": "2023-04-14T18:54:04.719Z"
   },
   {
    "duration": 18,
    "start_time": "2023-04-14T18:54:05.561Z"
   },
   {
    "duration": 23,
    "start_time": "2023-04-14T18:54:07.618Z"
   },
   {
    "duration": 131,
    "start_time": "2023-04-14T18:54:09.149Z"
   },
   {
    "duration": 9,
    "start_time": "2023-04-14T18:54:28.514Z"
   },
   {
    "duration": 99,
    "start_time": "2023-04-14T18:57:05.252Z"
   },
   {
    "duration": 86,
    "start_time": "2023-04-14T20:09:47.089Z"
   },
   {
    "duration": 262,
    "start_time": "2023-04-14T20:10:34.147Z"
   },
   {
    "duration": 48,
    "start_time": "2023-04-14T20:10:38.415Z"
   },
   {
    "duration": 27,
    "start_time": "2023-04-14T20:11:12.534Z"
   },
   {
    "duration": 27,
    "start_time": "2023-04-14T20:11:38.729Z"
   },
   {
    "duration": 66,
    "start_time": "2023-04-14T20:12:12.060Z"
   },
   {
    "duration": 33,
    "start_time": "2023-04-14T20:12:51.173Z"
   },
   {
    "duration": 4,
    "start_time": "2023-04-14T20:12:55.484Z"
   },
   {
    "duration": 1131,
    "start_time": "2023-04-14T21:05:23.908Z"
   },
   {
    "duration": 1357,
    "start_time": "2023-04-14T21:05:25.041Z"
   },
   {
    "duration": 13,
    "start_time": "2023-04-14T21:05:26.400Z"
   },
   {
    "duration": 301,
    "start_time": "2023-04-14T21:05:26.414Z"
   },
   {
    "duration": 45,
    "start_time": "2023-04-14T21:05:26.717Z"
   },
   {
    "duration": 9,
    "start_time": "2023-04-14T21:05:26.763Z"
   },
   {
    "duration": 21,
    "start_time": "2023-04-14T21:05:26.773Z"
   },
   {
    "duration": 29,
    "start_time": "2023-04-14T21:05:26.795Z"
   },
   {
    "duration": 45,
    "start_time": "2023-04-14T21:05:26.826Z"
   },
   {
    "duration": 30,
    "start_time": "2023-04-14T21:05:26.872Z"
   },
   {
    "duration": 115,
    "start_time": "2023-04-14T21:05:26.904Z"
   },
   {
    "duration": 6,
    "start_time": "2023-04-14T21:05:27.021Z"
   },
   {
    "duration": 8,
    "start_time": "2023-04-14T21:05:27.028Z"
   },
   {
    "duration": 11,
    "start_time": "2023-04-14T21:05:27.038Z"
   },
   {
    "duration": 11,
    "start_time": "2023-04-14T21:05:27.050Z"
   },
   {
    "duration": 23,
    "start_time": "2023-04-14T21:05:27.062Z"
   },
   {
    "duration": 29,
    "start_time": "2023-04-14T21:05:27.086Z"
   },
   {
    "duration": 13,
    "start_time": "2023-04-14T21:05:27.116Z"
   },
   {
    "duration": 11,
    "start_time": "2023-04-14T21:05:27.130Z"
   },
   {
    "duration": 16,
    "start_time": "2023-04-14T21:05:27.143Z"
   },
   {
    "duration": 318,
    "start_time": "2023-04-14T21:05:27.160Z"
   },
   {
    "duration": 5,
    "start_time": "2023-04-14T21:05:27.480Z"
   },
   {
    "duration": 14,
    "start_time": "2023-04-14T21:05:27.487Z"
   },
   {
    "duration": 293,
    "start_time": "2023-04-14T21:05:27.502Z"
   },
   {
    "duration": 35,
    "start_time": "2023-04-14T21:05:27.796Z"
   },
   {
    "duration": 4,
    "start_time": "2023-04-14T21:05:27.832Z"
   },
   {
    "duration": 108,
    "start_time": "2023-04-14T21:05:27.838Z"
   },
   {
    "duration": 93,
    "start_time": "2023-04-14T21:05:27.948Z"
   },
   {
    "duration": 3,
    "start_time": "2023-04-14T21:05:28.043Z"
   },
   {
    "duration": 129,
    "start_time": "2023-04-14T21:05:28.047Z"
   },
   {
    "duration": 47,
    "start_time": "2023-04-14T21:05:28.178Z"
   },
   {
    "duration": 49,
    "start_time": "2023-04-14T21:05:28.226Z"
   },
   {
    "duration": 0,
    "start_time": "2023-04-14T21:05:28.276Z"
   },
   {
    "duration": 0,
    "start_time": "2023-04-14T21:05:28.277Z"
   },
   {
    "duration": 0,
    "start_time": "2023-04-14T21:05:28.278Z"
   },
   {
    "duration": 0,
    "start_time": "2023-04-14T21:05:28.279Z"
   },
   {
    "duration": 0,
    "start_time": "2023-04-14T21:05:28.280Z"
   },
   {
    "duration": 0,
    "start_time": "2023-04-14T21:05:28.281Z"
   },
   {
    "duration": 0,
    "start_time": "2023-04-14T21:05:28.282Z"
   },
   {
    "duration": 0,
    "start_time": "2023-04-14T21:05:28.283Z"
   },
   {
    "duration": 103,
    "start_time": "2023-04-14T21:07:35.991Z"
   },
   {
    "duration": 21,
    "start_time": "2023-04-14T21:07:57.884Z"
   },
   {
    "duration": 120,
    "start_time": "2023-04-14T21:07:59.050Z"
   },
   {
    "duration": 10,
    "start_time": "2023-04-14T21:08:00.349Z"
   },
   {
    "duration": 16,
    "start_time": "2023-04-14T21:28:54.868Z"
   },
   {
    "duration": 23,
    "start_time": "2023-04-14T21:28:58.954Z"
   },
   {
    "duration": 30,
    "start_time": "2023-04-14T21:28:59.708Z"
   },
   {
    "duration": 13,
    "start_time": "2023-04-14T21:29:00.576Z"
   },
   {
    "duration": 21,
    "start_time": "2023-04-14T21:31:19.679Z"
   },
   {
    "duration": 10,
    "start_time": "2023-04-14T21:31:20.692Z"
   },
   {
    "duration": 13,
    "start_time": "2023-04-14T21:31:21.488Z"
   },
   {
    "duration": 5,
    "start_time": "2023-04-14T21:31:22.482Z"
   },
   {
    "duration": 10,
    "start_time": "2023-04-14T21:31:23.277Z"
   },
   {
    "duration": 1453,
    "start_time": "2023-04-15T09:19:13.809Z"
   },
   {
    "duration": 1057,
    "start_time": "2023-04-15T09:19:15.264Z"
   },
   {
    "duration": 13,
    "start_time": "2023-04-15T09:19:16.323Z"
   },
   {
    "duration": 344,
    "start_time": "2023-04-15T09:19:16.338Z"
   },
   {
    "duration": 61,
    "start_time": "2023-04-15T09:19:16.684Z"
   },
   {
    "duration": 14,
    "start_time": "2023-04-15T09:19:16.747Z"
   },
   {
    "duration": 10,
    "start_time": "2023-04-15T09:19:16.763Z"
   },
   {
    "duration": 37,
    "start_time": "2023-04-15T09:19:16.775Z"
   },
   {
    "duration": 64,
    "start_time": "2023-04-15T09:19:16.814Z"
   },
   {
    "duration": 19,
    "start_time": "2023-04-15T09:19:16.881Z"
   },
   {
    "duration": 133,
    "start_time": "2023-04-15T09:19:16.902Z"
   },
   {
    "duration": 7,
    "start_time": "2023-04-15T09:19:17.037Z"
   },
   {
    "duration": 18,
    "start_time": "2023-04-15T09:19:17.046Z"
   },
   {
    "duration": 24,
    "start_time": "2023-04-15T09:19:17.066Z"
   },
   {
    "duration": 20,
    "start_time": "2023-04-15T09:19:17.092Z"
   },
   {
    "duration": 32,
    "start_time": "2023-04-15T09:19:17.114Z"
   },
   {
    "duration": 29,
    "start_time": "2023-04-15T09:19:17.148Z"
   },
   {
    "duration": 14,
    "start_time": "2023-04-15T09:19:17.179Z"
   },
   {
    "duration": 5,
    "start_time": "2023-04-15T09:19:17.194Z"
   },
   {
    "duration": 34,
    "start_time": "2023-04-15T09:19:17.200Z"
   },
   {
    "duration": 327,
    "start_time": "2023-04-15T09:19:17.236Z"
   },
   {
    "duration": 5,
    "start_time": "2023-04-15T09:19:17.565Z"
   },
   {
    "duration": 27,
    "start_time": "2023-04-15T09:19:17.572Z"
   },
   {
    "duration": 278,
    "start_time": "2023-04-15T09:19:17.601Z"
   },
   {
    "duration": 34,
    "start_time": "2023-04-15T09:19:17.881Z"
   },
   {
    "duration": 4,
    "start_time": "2023-04-15T09:19:17.916Z"
   },
   {
    "duration": 90,
    "start_time": "2023-04-15T09:19:17.933Z"
   },
   {
    "duration": 96,
    "start_time": "2023-04-15T09:19:18.038Z"
   },
   {
    "duration": 3,
    "start_time": "2023-04-15T09:19:18.136Z"
   },
   {
    "duration": 131,
    "start_time": "2023-04-15T09:19:18.140Z"
   },
   {
    "duration": 43,
    "start_time": "2023-04-15T09:19:18.273Z"
   },
   {
    "duration": 20,
    "start_time": "2023-04-15T09:19:18.333Z"
   },
   {
    "duration": 147,
    "start_time": "2023-04-15T09:19:18.354Z"
   },
   {
    "duration": 10,
    "start_time": "2023-04-15T09:19:18.502Z"
   },
   {
    "duration": 35,
    "start_time": "2023-04-15T09:19:18.513Z"
   },
   {
    "duration": 19,
    "start_time": "2023-04-15T09:19:18.550Z"
   },
   {
    "duration": 173,
    "start_time": "2023-04-15T09:19:18.571Z"
   },
   {
    "duration": 0,
    "start_time": "2023-04-15T09:19:18.745Z"
   },
   {
    "duration": 0,
    "start_time": "2023-04-15T09:19:18.746Z"
   },
   {
    "duration": 0,
    "start_time": "2023-04-15T09:19:18.747Z"
   },
   {
    "duration": 0,
    "start_time": "2023-04-15T09:19:18.748Z"
   },
   {
    "duration": 0,
    "start_time": "2023-04-15T09:19:18.749Z"
   },
   {
    "duration": 0,
    "start_time": "2023-04-15T09:19:18.750Z"
   },
   {
    "duration": 14,
    "start_time": "2023-04-15T09:29:17.331Z"
   },
   {
    "duration": 546,
    "start_time": "2023-04-15T09:29:34.771Z"
   },
   {
    "duration": 77,
    "start_time": "2023-04-15T09:29:52.703Z"
   },
   {
    "duration": 7,
    "start_time": "2023-04-15T09:30:22.299Z"
   },
   {
    "duration": 1270,
    "start_time": "2023-04-15T09:32:47.527Z"
   },
   {
    "duration": 971,
    "start_time": "2023-04-15T09:32:48.799Z"
   },
   {
    "duration": 12,
    "start_time": "2023-04-15T09:32:49.772Z"
   },
   {
    "duration": 368,
    "start_time": "2023-04-15T09:32:49.787Z"
   },
   {
    "duration": 60,
    "start_time": "2023-04-15T09:32:50.157Z"
   },
   {
    "duration": 17,
    "start_time": "2023-04-15T09:32:50.218Z"
   },
   {
    "duration": 24,
    "start_time": "2023-04-15T09:32:50.236Z"
   },
   {
    "duration": 45,
    "start_time": "2023-04-15T09:32:50.262Z"
   },
   {
    "duration": 67,
    "start_time": "2023-04-15T09:32:50.309Z"
   },
   {
    "duration": 21,
    "start_time": "2023-04-15T09:32:50.379Z"
   },
   {
    "duration": 137,
    "start_time": "2023-04-15T09:32:50.401Z"
   },
   {
    "duration": 7,
    "start_time": "2023-04-15T09:32:50.540Z"
   },
   {
    "duration": 20,
    "start_time": "2023-04-15T09:32:50.548Z"
   },
   {
    "duration": 15,
    "start_time": "2023-04-15T09:32:50.570Z"
   },
   {
    "duration": 11,
    "start_time": "2023-04-15T09:32:50.586Z"
   },
   {
    "duration": 20,
    "start_time": "2023-04-15T09:32:50.599Z"
   },
   {
    "duration": 64,
    "start_time": "2023-04-15T09:32:50.621Z"
   },
   {
    "duration": 12,
    "start_time": "2023-04-15T09:32:50.687Z"
   },
   {
    "duration": 8,
    "start_time": "2023-04-15T09:32:50.701Z"
   },
   {
    "duration": 67,
    "start_time": "2023-04-15T09:32:50.711Z"
   },
   {
    "duration": 19,
    "start_time": "2023-04-15T09:32:50.780Z"
   },
   {
    "duration": 3,
    "start_time": "2023-04-15T09:32:50.801Z"
   },
   {
    "duration": 56,
    "start_time": "2023-04-15T09:32:50.806Z"
   },
   {
    "duration": 7,
    "start_time": "2023-04-15T09:32:50.864Z"
   },
   {
    "duration": 98,
    "start_time": "2023-04-15T09:32:50.873Z"
   },
   {
    "duration": 20,
    "start_time": "2023-04-15T09:32:50.973Z"
   },
   {
    "duration": 128,
    "start_time": "2023-04-15T09:32:50.995Z"
   },
   {
    "duration": 0,
    "start_time": "2023-04-15T09:32:51.125Z"
   },
   {
    "duration": 0,
    "start_time": "2023-04-15T09:32:51.126Z"
   },
   {
    "duration": 0,
    "start_time": "2023-04-15T09:32:51.127Z"
   },
   {
    "duration": 0,
    "start_time": "2023-04-15T09:32:51.128Z"
   },
   {
    "duration": 0,
    "start_time": "2023-04-15T09:32:51.129Z"
   },
   {
    "duration": 9,
    "start_time": "2023-04-15T09:32:56.599Z"
   },
   {
    "duration": 10,
    "start_time": "2023-04-15T09:32:56.768Z"
   },
   {
    "duration": 12,
    "start_time": "2023-04-15T09:32:56.935Z"
   },
   {
    "duration": 6,
    "start_time": "2023-04-15T09:32:57.202Z"
   },
   {
    "duration": 10,
    "start_time": "2023-04-15T09:32:57.423Z"
   },
   {
    "duration": 10,
    "start_time": "2023-04-15T09:37:09.285Z"
   },
   {
    "duration": 45,
    "start_time": "2023-04-15T09:45:25.599Z"
   },
   {
    "duration": 1272,
    "start_time": "2023-04-15T10:00:57.410Z"
   },
   {
    "duration": 1081,
    "start_time": "2023-04-15T10:00:58.684Z"
   },
   {
    "duration": 13,
    "start_time": "2023-04-15T10:00:59.767Z"
   },
   {
    "duration": 371,
    "start_time": "2023-04-15T10:00:59.782Z"
   },
   {
    "duration": 78,
    "start_time": "2023-04-15T10:01:00.156Z"
   },
   {
    "duration": 8,
    "start_time": "2023-04-15T10:01:00.236Z"
   },
   {
    "duration": 24,
    "start_time": "2023-04-15T10:01:00.246Z"
   },
   {
    "duration": 55,
    "start_time": "2023-04-15T10:01:00.273Z"
   },
   {
    "duration": 74,
    "start_time": "2023-04-15T10:01:00.330Z"
   },
   {
    "duration": 23,
    "start_time": "2023-04-15T10:01:00.406Z"
   },
   {
    "duration": 149,
    "start_time": "2023-04-15T10:01:00.431Z"
   },
   {
    "duration": 8,
    "start_time": "2023-04-15T10:01:00.582Z"
   },
   {
    "duration": 43,
    "start_time": "2023-04-15T10:01:00.592Z"
   },
   {
    "duration": 47,
    "start_time": "2023-04-15T10:01:00.638Z"
   },
   {
    "duration": 41,
    "start_time": "2023-04-15T10:01:00.688Z"
   },
   {
    "duration": 51,
    "start_time": "2023-04-15T10:01:00.731Z"
   },
   {
    "duration": 27,
    "start_time": "2023-04-15T10:01:00.784Z"
   },
   {
    "duration": 73,
    "start_time": "2023-04-15T10:01:00.813Z"
   },
   {
    "duration": 12,
    "start_time": "2023-04-15T10:01:00.888Z"
   },
   {
    "duration": 20,
    "start_time": "2023-04-15T10:01:00.901Z"
   },
   {
    "duration": 66,
    "start_time": "2023-04-15T10:01:00.923Z"
   },
   {
    "duration": 23,
    "start_time": "2023-04-15T10:01:00.991Z"
   },
   {
    "duration": 21,
    "start_time": "2023-04-15T10:01:01.015Z"
   },
   {
    "duration": 77,
    "start_time": "2023-04-15T10:01:01.038Z"
   },
   {
    "duration": 9,
    "start_time": "2023-04-15T10:01:01.118Z"
   },
   {
    "duration": 108,
    "start_time": "2023-04-15T10:01:01.130Z"
   },
   {
    "duration": 24,
    "start_time": "2023-04-15T10:01:01.240Z"
   },
   {
    "duration": 128,
    "start_time": "2023-04-15T10:01:01.266Z"
   },
   {
    "duration": 0,
    "start_time": "2023-04-15T10:01:01.396Z"
   },
   {
    "duration": 0,
    "start_time": "2023-04-15T10:01:01.397Z"
   },
   {
    "duration": 0,
    "start_time": "2023-04-15T10:01:01.398Z"
   },
   {
    "duration": 0,
    "start_time": "2023-04-15T10:01:01.399Z"
   },
   {
    "duration": 16,
    "start_time": "2023-04-15T10:06:40.038Z"
   },
   {
    "duration": 12,
    "start_time": "2023-04-15T10:06:54.705Z"
   },
   {
    "duration": 6,
    "start_time": "2023-04-15T10:08:43.137Z"
   },
   {
    "duration": 17,
    "start_time": "2023-04-15T10:08:43.667Z"
   },
   {
    "duration": 11,
    "start_time": "2023-04-15T10:08:44.371Z"
   },
   {
    "duration": 90,
    "start_time": "2023-04-15T10:08:44.849Z"
   },
   {
    "duration": 12,
    "start_time": "2023-04-15T10:09:06.851Z"
   },
   {
    "duration": 34,
    "start_time": "2023-04-15T10:09:09.969Z"
   },
   {
    "duration": 1448,
    "start_time": "2023-04-15T10:10:31.818Z"
   },
   {
    "duration": 1380,
    "start_time": "2023-04-15T10:10:33.269Z"
   },
   {
    "duration": 14,
    "start_time": "2023-04-15T10:10:34.651Z"
   },
   {
    "duration": 429,
    "start_time": "2023-04-15T10:10:34.667Z"
   },
   {
    "duration": 74,
    "start_time": "2023-04-15T10:10:35.099Z"
   },
   {
    "duration": 12,
    "start_time": "2023-04-15T10:10:35.175Z"
   },
   {
    "duration": 17,
    "start_time": "2023-04-15T10:10:35.189Z"
   },
   {
    "duration": 64,
    "start_time": "2023-04-15T10:10:35.208Z"
   },
   {
    "duration": 68,
    "start_time": "2023-04-15T10:10:35.274Z"
   },
   {
    "duration": 23,
    "start_time": "2023-04-15T10:10:35.344Z"
   },
   {
    "duration": 152,
    "start_time": "2023-04-15T10:10:35.369Z"
   },
   {
    "duration": 12,
    "start_time": "2023-04-15T10:10:35.523Z"
   },
   {
    "duration": 15,
    "start_time": "2023-04-15T10:10:35.538Z"
   },
   {
    "duration": 22,
    "start_time": "2023-04-15T10:10:35.557Z"
   },
   {
    "duration": 21,
    "start_time": "2023-04-15T10:10:35.580Z"
   },
   {
    "duration": 20,
    "start_time": "2023-04-15T10:10:35.603Z"
   },
   {
    "duration": 14,
    "start_time": "2023-04-15T10:10:35.632Z"
   },
   {
    "duration": 3,
    "start_time": "2023-04-15T10:10:35.648Z"
   },
   {
    "duration": 9,
    "start_time": "2023-04-15T10:10:35.653Z"
   },
   {
    "duration": 7,
    "start_time": "2023-04-15T10:10:35.665Z"
   },
   {
    "duration": 77,
    "start_time": "2023-04-15T10:10:35.674Z"
   },
   {
    "duration": 25,
    "start_time": "2023-04-15T10:10:35.753Z"
   },
   {
    "duration": 4,
    "start_time": "2023-04-15T10:10:35.780Z"
   },
   {
    "duration": 56,
    "start_time": "2023-04-15T10:10:35.786Z"
   },
   {
    "duration": 9,
    "start_time": "2023-04-15T10:10:35.844Z"
   },
   {
    "duration": 216,
    "start_time": "2023-04-15T10:10:35.855Z"
   },
   {
    "duration": 33,
    "start_time": "2023-04-15T10:10:36.074Z"
   },
   {
    "duration": 141,
    "start_time": "2023-04-15T10:10:36.109Z"
   },
   {
    "duration": 0,
    "start_time": "2023-04-15T10:10:36.252Z"
   },
   {
    "duration": 0,
    "start_time": "2023-04-15T10:10:36.253Z"
   },
   {
    "duration": 0,
    "start_time": "2023-04-15T10:10:36.254Z"
   },
   {
    "duration": 0,
    "start_time": "2023-04-15T10:10:36.256Z"
   },
   {
    "duration": 1547,
    "start_time": "2023-04-15T10:11:30.698Z"
   },
   {
    "duration": 1223,
    "start_time": "2023-04-15T10:11:32.247Z"
   },
   {
    "duration": 14,
    "start_time": "2023-04-15T10:11:33.472Z"
   },
   {
    "duration": 387,
    "start_time": "2023-04-15T10:11:33.488Z"
   },
   {
    "duration": 72,
    "start_time": "2023-04-15T10:11:33.878Z"
   },
   {
    "duration": 7,
    "start_time": "2023-04-15T10:11:33.952Z"
   },
   {
    "duration": 11,
    "start_time": "2023-04-15T10:11:33.961Z"
   },
   {
    "duration": 63,
    "start_time": "2023-04-15T10:11:33.974Z"
   },
   {
    "duration": 64,
    "start_time": "2023-04-15T10:11:34.039Z"
   },
   {
    "duration": 41,
    "start_time": "2023-04-15T10:11:34.105Z"
   },
   {
    "duration": 140,
    "start_time": "2023-04-15T10:11:34.148Z"
   },
   {
    "duration": 8,
    "start_time": "2023-04-15T10:11:34.290Z"
   },
   {
    "duration": 10,
    "start_time": "2023-04-15T10:11:34.300Z"
   },
   {
    "duration": 29,
    "start_time": "2023-04-15T10:11:34.314Z"
   },
   {
    "duration": 17,
    "start_time": "2023-04-15T10:11:34.345Z"
   },
   {
    "duration": 27,
    "start_time": "2023-04-15T10:11:34.364Z"
   },
   {
    "duration": 13,
    "start_time": "2023-04-15T10:11:34.393Z"
   },
   {
    "duration": 3,
    "start_time": "2023-04-15T10:11:34.408Z"
   },
   {
    "duration": 4,
    "start_time": "2023-04-15T10:11:34.437Z"
   },
   {
    "duration": 6,
    "start_time": "2023-04-15T10:11:34.443Z"
   },
   {
    "duration": 121,
    "start_time": "2023-04-15T10:11:34.451Z"
   },
   {
    "duration": 0,
    "start_time": "2023-04-15T10:11:34.574Z"
   },
   {
    "duration": 0,
    "start_time": "2023-04-15T10:11:34.576Z"
   },
   {
    "duration": 0,
    "start_time": "2023-04-15T10:11:34.578Z"
   },
   {
    "duration": 0,
    "start_time": "2023-04-15T10:11:34.579Z"
   },
   {
    "duration": 61,
    "start_time": "2023-04-15T10:11:53.357Z"
   },
   {
    "duration": 13,
    "start_time": "2023-04-15T10:11:54.165Z"
   },
   {
    "duration": 5,
    "start_time": "2023-04-15T10:11:55.037Z"
   },
   {
    "duration": 48,
    "start_time": "2023-04-15T10:12:09.128Z"
   },
   {
    "duration": 13,
    "start_time": "2023-04-15T10:12:10.154Z"
   },
   {
    "duration": 6,
    "start_time": "2023-04-15T10:12:10.953Z"
   },
   {
    "duration": 55,
    "start_time": "2023-04-15T10:12:30.869Z"
   },
   {
    "duration": 73,
    "start_time": "2023-04-15T10:12:44.415Z"
   },
   {
    "duration": 103,
    "start_time": "2023-04-15T10:21:00.083Z"
   },
   {
    "duration": 26,
    "start_time": "2023-04-15T10:21:33.397Z"
   },
   {
    "duration": 25,
    "start_time": "2023-04-15T10:21:56.695Z"
   },
   {
    "duration": 63,
    "start_time": "2023-04-15T10:22:01.833Z"
   },
   {
    "duration": 12,
    "start_time": "2023-04-15T10:22:03.230Z"
   },
   {
    "duration": 4,
    "start_time": "2023-04-15T10:22:04.233Z"
   },
   {
    "duration": 13,
    "start_time": "2023-04-15T10:22:16.390Z"
   },
   {
    "duration": 4,
    "start_time": "2023-04-15T10:22:17.435Z"
   },
   {
    "duration": 1367,
    "start_time": "2023-04-15T10:34:34.876Z"
   },
   {
    "duration": 1235,
    "start_time": "2023-04-15T10:34:36.245Z"
   },
   {
    "duration": 14,
    "start_time": "2023-04-15T10:34:37.482Z"
   },
   {
    "duration": 386,
    "start_time": "2023-04-15T10:34:37.498Z"
   },
   {
    "duration": 64,
    "start_time": "2023-04-15T10:34:37.886Z"
   },
   {
    "duration": 13,
    "start_time": "2023-04-15T10:34:37.952Z"
   },
   {
    "duration": 11,
    "start_time": "2023-04-15T10:34:37.967Z"
   },
   {
    "duration": 63,
    "start_time": "2023-04-15T10:34:37.980Z"
   },
   {
    "duration": 76,
    "start_time": "2023-04-15T10:34:38.045Z"
   },
   {
    "duration": 32,
    "start_time": "2023-04-15T10:34:38.125Z"
   },
   {
    "duration": 127,
    "start_time": "2023-04-15T10:34:38.159Z"
   },
   {
    "duration": 7,
    "start_time": "2023-04-15T10:34:38.288Z"
   },
   {
    "duration": 7,
    "start_time": "2023-04-15T10:34:38.297Z"
   },
   {
    "duration": 38,
    "start_time": "2023-04-15T10:34:38.306Z"
   },
   {
    "duration": 11,
    "start_time": "2023-04-15T10:34:38.348Z"
   },
   {
    "duration": 26,
    "start_time": "2023-04-15T10:34:38.361Z"
   },
   {
    "duration": 12,
    "start_time": "2023-04-15T10:34:38.389Z"
   },
   {
    "duration": 94,
    "start_time": "2023-04-15T10:34:38.403Z"
   },
   {
    "duration": 11,
    "start_time": "2023-04-15T10:34:38.499Z"
   },
   {
    "duration": 5,
    "start_time": "2023-04-15T10:34:38.512Z"
   },
   {
    "duration": 124,
    "start_time": "2023-04-15T10:34:38.534Z"
   },
   {
    "duration": 0,
    "start_time": "2023-04-15T10:34:38.661Z"
   },
   {
    "duration": 0,
    "start_time": "2023-04-15T10:34:38.662Z"
   },
   {
    "duration": 0,
    "start_time": "2023-04-15T10:34:38.664Z"
   },
   {
    "duration": 0,
    "start_time": "2023-04-15T10:34:38.665Z"
   },
   {
    "duration": 12,
    "start_time": "2023-04-15T10:45:07.582Z"
   },
   {
    "duration": 36,
    "start_time": "2023-04-15T10:45:48.161Z"
   },
   {
    "duration": 16,
    "start_time": "2023-04-15T10:46:20.581Z"
   },
   {
    "duration": 14,
    "start_time": "2023-04-15T10:47:31.868Z"
   },
   {
    "duration": 13,
    "start_time": "2023-04-15T10:47:36.286Z"
   },
   {
    "duration": 30,
    "start_time": "2023-04-15T10:47:37.323Z"
   },
   {
    "duration": 70,
    "start_time": "2023-04-15T10:52:32.348Z"
   },
   {
    "duration": 11,
    "start_time": "2023-04-15T10:52:33.397Z"
   },
   {
    "duration": 8,
    "start_time": "2023-04-15T10:52:34.394Z"
   },
   {
    "duration": 14,
    "start_time": "2023-04-15T10:52:55.641Z"
   },
   {
    "duration": 1600,
    "start_time": "2023-04-15T10:54:53.521Z"
   },
   {
    "duration": 1396,
    "start_time": "2023-04-15T10:54:55.125Z"
   },
   {
    "duration": 21,
    "start_time": "2023-04-15T10:54:56.523Z"
   },
   {
    "duration": 589,
    "start_time": "2023-04-15T10:54:56.546Z"
   },
   {
    "duration": 119,
    "start_time": "2023-04-15T10:54:57.137Z"
   },
   {
    "duration": 36,
    "start_time": "2023-04-15T10:54:57.260Z"
   },
   {
    "duration": 16,
    "start_time": "2023-04-15T10:54:57.299Z"
   },
   {
    "duration": 84,
    "start_time": "2023-04-15T10:54:57.318Z"
   },
   {
    "duration": 68,
    "start_time": "2023-04-15T10:54:57.404Z"
   },
   {
    "duration": 28,
    "start_time": "2023-04-15T10:54:57.478Z"
   },
   {
    "duration": 153,
    "start_time": "2023-04-15T10:54:57.507Z"
   },
   {
    "duration": 10,
    "start_time": "2023-04-15T10:54:57.667Z"
   },
   {
    "duration": 11,
    "start_time": "2023-04-15T10:54:57.680Z"
   },
   {
    "duration": 19,
    "start_time": "2023-04-15T10:54:57.693Z"
   },
   {
    "duration": 30,
    "start_time": "2023-04-15T10:54:57.714Z"
   },
   {
    "duration": 52,
    "start_time": "2023-04-15T10:54:57.746Z"
   },
   {
    "duration": 55,
    "start_time": "2023-04-15T10:54:57.802Z"
   },
   {
    "duration": 27,
    "start_time": "2023-04-15T10:54:57.858Z"
   },
   {
    "duration": 85,
    "start_time": "2023-04-15T10:54:57.889Z"
   },
   {
    "duration": 38,
    "start_time": "2023-04-15T10:54:57.975Z"
   },
   {
    "duration": 7,
    "start_time": "2023-04-15T10:54:58.022Z"
   },
   {
    "duration": 244,
    "start_time": "2023-04-15T10:54:58.031Z"
   },
   {
    "duration": 0,
    "start_time": "2023-04-15T10:54:58.277Z"
   },
   {
    "duration": 0,
    "start_time": "2023-04-15T10:54:58.278Z"
   },
   {
    "duration": 0,
    "start_time": "2023-04-15T10:54:58.280Z"
   },
   {
    "duration": 0,
    "start_time": "2023-04-15T10:54:58.281Z"
   },
   {
    "duration": 16,
    "start_time": "2023-04-15T10:59:53.026Z"
   },
   {
    "duration": 5,
    "start_time": "2023-04-15T10:59:59.761Z"
   },
   {
    "duration": 11,
    "start_time": "2023-04-15T11:00:12.521Z"
   },
   {
    "duration": 5,
    "start_time": "2023-04-15T11:00:25.875Z"
   },
   {
    "duration": 11,
    "start_time": "2023-04-15T11:00:36.047Z"
   },
   {
    "duration": 10,
    "start_time": "2023-04-15T11:00:46.629Z"
   },
   {
    "duration": 186,
    "start_time": "2023-04-15T11:00:53.501Z"
   },
   {
    "duration": 68,
    "start_time": "2023-04-15T11:01:03.254Z"
   },
   {
    "duration": 7,
    "start_time": "2023-04-15T11:01:19.659Z"
   },
   {
    "duration": 435,
    "start_time": "2023-04-15T11:01:28.706Z"
   },
   {
    "duration": 5,
    "start_time": "2023-04-15T11:01:48.650Z"
   },
   {
    "duration": 116,
    "start_time": "2023-04-15T11:02:06.955Z"
   },
   {
    "duration": 251,
    "start_time": "2023-04-15T11:02:20.608Z"
   },
   {
    "duration": 5,
    "start_time": "2023-04-15T11:03:15.667Z"
   },
   {
    "duration": 5,
    "start_time": "2023-04-15T11:03:15.884Z"
   },
   {
    "duration": 9,
    "start_time": "2023-04-15T11:03:16.513Z"
   },
   {
    "duration": 265,
    "start_time": "2023-04-15T11:03:16.680Z"
   },
   {
    "duration": 102,
    "start_time": "2023-04-15T11:03:16.954Z"
   },
   {
    "duration": 8,
    "start_time": "2023-04-15T11:03:17.063Z"
   },
   {
    "duration": 72,
    "start_time": "2023-04-15T11:03:17.715Z"
   },
   {
    "duration": 5,
    "start_time": "2023-04-15T11:03:17.987Z"
   },
   {
    "duration": 205,
    "start_time": "2023-04-15T11:03:18.873Z"
   },
   {
    "duration": 11,
    "start_time": "2023-04-15T11:03:32.746Z"
   },
   {
    "duration": 6,
    "start_time": "2023-04-15T11:03:44.976Z"
   },
   {
    "duration": 14,
    "start_time": "2023-04-15T11:04:02.672Z"
   },
   {
    "duration": 20,
    "start_time": "2023-04-15T11:04:26.976Z"
   },
   {
    "duration": 387,
    "start_time": "2023-04-15T11:04:35.854Z"
   },
   {
    "duration": 6,
    "start_time": "2023-04-15T11:04:48.881Z"
   },
   {
    "duration": 101,
    "start_time": "2023-04-15T11:05:09.170Z"
   },
   {
    "duration": 1666,
    "start_time": "2023-04-15T11:06:02.556Z"
   },
   {
    "duration": 1700,
    "start_time": "2023-04-15T11:06:04.225Z"
   },
   {
    "duration": 23,
    "start_time": "2023-04-15T11:06:05.927Z"
   },
   {
    "duration": 537,
    "start_time": "2023-04-15T11:06:05.956Z"
   },
   {
    "duration": 125,
    "start_time": "2023-04-15T11:06:06.496Z"
   },
   {
    "duration": 23,
    "start_time": "2023-04-15T11:06:06.623Z"
   },
   {
    "duration": 40,
    "start_time": "2023-04-15T11:06:06.649Z"
   },
   {
    "duration": 103,
    "start_time": "2023-04-15T11:06:06.692Z"
   },
   {
    "duration": 95,
    "start_time": "2023-04-15T11:06:06.797Z"
   },
   {
    "duration": 50,
    "start_time": "2023-04-15T11:06:06.894Z"
   },
   {
    "duration": 227,
    "start_time": "2023-04-15T11:06:06.946Z"
   },
   {
    "duration": 11,
    "start_time": "2023-04-15T11:06:07.182Z"
   },
   {
    "duration": 80,
    "start_time": "2023-04-15T11:06:07.195Z"
   },
   {
    "duration": 34,
    "start_time": "2023-04-15T11:06:07.279Z"
   },
   {
    "duration": 59,
    "start_time": "2023-04-15T11:06:07.315Z"
   },
   {
    "duration": 62,
    "start_time": "2023-04-15T11:06:07.376Z"
   },
   {
    "duration": 67,
    "start_time": "2023-04-15T11:06:07.440Z"
   },
   {
    "duration": 45,
    "start_time": "2023-04-15T11:06:07.509Z"
   },
   {
    "duration": 150,
    "start_time": "2023-04-15T11:06:07.556Z"
   },
   {
    "duration": 16,
    "start_time": "2023-04-15T11:06:07.709Z"
   },
   {
    "duration": 54,
    "start_time": "2023-04-15T11:06:07.726Z"
   },
   {
    "duration": 24,
    "start_time": "2023-04-15T11:06:07.783Z"
   },
   {
    "duration": 57,
    "start_time": "2023-04-15T11:06:07.809Z"
   },
   {
    "duration": 30,
    "start_time": "2023-04-15T11:06:07.868Z"
   },
   {
    "duration": 297,
    "start_time": "2023-04-15T11:06:07.901Z"
   },
   {
    "duration": 117,
    "start_time": "2023-04-15T11:06:08.200Z"
   },
   {
    "duration": 8,
    "start_time": "2023-04-15T11:06:08.320Z"
   },
   {
    "duration": 674,
    "start_time": "2023-04-15T11:06:08.335Z"
   },
   {
    "duration": 8,
    "start_time": "2023-04-15T11:06:09.011Z"
   },
   {
    "duration": 428,
    "start_time": "2023-04-15T11:06:09.023Z"
   },
   {
    "duration": 17,
    "start_time": "2023-04-15T11:06:09.460Z"
   },
   {
    "duration": 401,
    "start_time": "2023-04-15T11:06:09.479Z"
   },
   {
    "duration": 10,
    "start_time": "2023-04-15T11:06:09.882Z"
   },
   {
    "duration": 186,
    "start_time": "2023-04-15T11:06:09.894Z"
   },
   {
    "duration": 270,
    "start_time": "2023-04-15T11:06:10.082Z"
   },
   {
    "duration": 0,
    "start_time": "2023-04-15T11:06:10.354Z"
   },
   {
    "duration": 0,
    "start_time": "2023-04-15T11:06:10.355Z"
   },
   {
    "duration": 0,
    "start_time": "2023-04-15T11:06:10.358Z"
   },
   {
    "duration": 0,
    "start_time": "2023-04-15T11:06:10.360Z"
   },
   {
    "duration": 14,
    "start_time": "2023-04-15T11:07:59.478Z"
   },
   {
    "duration": 287,
    "start_time": "2023-04-15T11:08:06.599Z"
   },
   {
    "duration": 50,
    "start_time": "2023-04-15T11:08:07.356Z"
   },
   {
    "duration": 16,
    "start_time": "2023-04-15T11:08:20.370Z"
   },
   {
    "duration": 12,
    "start_time": "2023-04-15T11:09:45.883Z"
   },
   {
    "duration": 154,
    "start_time": "2023-04-15T11:10:00.300Z"
   },
   {
    "duration": 17,
    "start_time": "2023-04-15T11:10:02.060Z"
   },
   {
    "duration": 23,
    "start_time": "2023-04-15T11:10:02.191Z"
   },
   {
    "duration": 46,
    "start_time": "2023-04-15T11:10:04.784Z"
   },
   {
    "duration": 142,
    "start_time": "2023-04-15T11:10:06.750Z"
   },
   {
    "duration": 140,
    "start_time": "2023-04-15T11:13:53.828Z"
   },
   {
    "duration": 63,
    "start_time": "2023-04-15T11:14:20.215Z"
   },
   {
    "duration": 102,
    "start_time": "2023-04-15T11:21:10.520Z"
   },
   {
    "duration": 11,
    "start_time": "2023-04-15T11:21:11.078Z"
   },
   {
    "duration": 21,
    "start_time": "2023-04-15T11:21:11.587Z"
   },
   {
    "duration": 4,
    "start_time": "2023-04-15T11:21:12.248Z"
   },
   {
    "duration": 47,
    "start_time": "2023-04-15T11:21:13.249Z"
   },
   {
    "duration": 16,
    "start_time": "2023-04-15T11:28:27.251Z"
   },
   {
    "duration": 62,
    "start_time": "2023-04-15T11:28:41.109Z"
   },
   {
    "duration": 8,
    "start_time": "2023-04-15T11:28:42.293Z"
   },
   {
    "duration": 12,
    "start_time": "2023-04-15T11:28:43.457Z"
   },
   {
    "duration": 415,
    "start_time": "2023-04-15T11:28:56.682Z"
   },
   {
    "duration": 23,
    "start_time": "2023-04-15T11:28:59.625Z"
   },
   {
    "duration": 18,
    "start_time": "2023-04-15T11:29:00.621Z"
   },
   {
    "duration": 14,
    "start_time": "2023-04-15T11:29:01.998Z"
   },
   {
    "duration": 14,
    "start_time": "2023-04-15T11:30:32.878Z"
   },
   {
    "duration": 700,
    "start_time": "2023-04-15T11:30:47.077Z"
   },
   {
    "duration": 222,
    "start_time": "2023-04-15T11:30:47.979Z"
   },
   {
    "duration": 7,
    "start_time": "2023-04-15T11:30:49.178Z"
   },
   {
    "duration": 21,
    "start_time": "2023-04-15T11:30:50.501Z"
   },
   {
    "duration": 30,
    "start_time": "2023-04-15T11:30:51.567Z"
   },
   {
    "duration": 5,
    "start_time": "2023-04-15T11:33:56.552Z"
   },
   {
    "duration": 313,
    "start_time": "2023-04-15T11:33:57.083Z"
   },
   {
    "duration": 14,
    "start_time": "2023-04-15T11:33:57.680Z"
   },
   {
    "duration": 14,
    "start_time": "2023-04-15T11:33:58.198Z"
   },
   {
    "duration": 6,
    "start_time": "2023-04-15T11:33:58.929Z"
   },
   {
    "duration": 20,
    "start_time": "2023-04-15T11:34:00.097Z"
   },
   {
    "duration": 18,
    "start_time": "2023-04-15T11:34:09.186Z"
   },
   {
    "duration": 4,
    "start_time": "2023-04-15T11:35:26.314Z"
   },
   {
    "duration": 21,
    "start_time": "2023-04-15T11:35:26.926Z"
   },
   {
    "duration": 5,
    "start_time": "2023-04-15T11:35:45.903Z"
   },
   {
    "duration": 13,
    "start_time": "2023-04-15T11:35:46.978Z"
   },
   {
    "duration": 123,
    "start_time": "2023-04-15T11:55:52.044Z"
   },
   {
    "duration": 10,
    "start_time": "2023-04-15T11:56:48.559Z"
   },
   {
    "duration": 14,
    "start_time": "2023-04-15T12:06:03.405Z"
   },
   {
    "duration": 61,
    "start_time": "2023-04-15T12:07:22.101Z"
   },
   {
    "duration": 23,
    "start_time": "2023-04-15T12:13:48.009Z"
   },
   {
    "duration": 59,
    "start_time": "2023-04-15T12:16:08.804Z"
   },
   {
    "duration": 225,
    "start_time": "2023-04-15T12:23:17.683Z"
   },
   {
    "duration": 57,
    "start_time": "2023-04-15T12:23:20.102Z"
   },
   {
    "duration": 11,
    "start_time": "2023-04-15T12:40:33.082Z"
   },
   {
    "duration": 11,
    "start_time": "2023-04-15T12:49:29.534Z"
   },
   {
    "duration": 12,
    "start_time": "2023-04-15T12:49:30.719Z"
   },
   {
    "duration": 6,
    "start_time": "2023-04-15T12:49:31.594Z"
   },
   {
    "duration": 2089,
    "start_time": "2023-04-15T12:49:32.611Z"
   },
   {
    "duration": 24,
    "start_time": "2023-04-15T12:56:32.052Z"
   },
   {
    "duration": 6,
    "start_time": "2023-04-15T12:57:34.184Z"
   },
   {
    "duration": 1237,
    "start_time": "2023-04-15T12:57:34.672Z"
   },
   {
    "duration": 14,
    "start_time": "2023-04-15T12:58:39.966Z"
   },
   {
    "duration": 9,
    "start_time": "2023-04-15T12:58:44.773Z"
   },
   {
    "duration": 15,
    "start_time": "2023-04-15T12:58:46.298Z"
   },
   {
    "duration": 16,
    "start_time": "2023-04-15T13:03:29.651Z"
   },
   {
    "duration": 32,
    "start_time": "2023-04-15T13:07:35.620Z"
   },
   {
    "duration": 1764,
    "start_time": "2023-04-15T13:17:57.717Z"
   },
   {
    "duration": 1680,
    "start_time": "2023-04-15T13:17:59.485Z"
   },
   {
    "duration": 18,
    "start_time": "2023-04-15T13:18:01.171Z"
   },
   {
    "duration": 474,
    "start_time": "2023-04-15T13:18:01.198Z"
   },
   {
    "duration": 90,
    "start_time": "2023-04-15T13:18:01.679Z"
   },
   {
    "duration": 39,
    "start_time": "2023-04-15T13:18:01.775Z"
   },
   {
    "duration": 66,
    "start_time": "2023-04-15T13:18:01.816Z"
   },
   {
    "duration": 93,
    "start_time": "2023-04-15T13:18:01.884Z"
   },
   {
    "duration": 87,
    "start_time": "2023-04-15T13:18:01.979Z"
   },
   {
    "duration": 36,
    "start_time": "2023-04-15T13:18:02.078Z"
   },
   {
    "duration": 251,
    "start_time": "2023-04-15T13:18:02.120Z"
   },
   {
    "duration": 10,
    "start_time": "2023-04-15T13:18:02.377Z"
   },
   {
    "duration": 15,
    "start_time": "2023-04-15T13:18:02.389Z"
   },
   {
    "duration": 22,
    "start_time": "2023-04-15T13:18:02.406Z"
   },
   {
    "duration": 75,
    "start_time": "2023-04-15T13:18:02.430Z"
   },
   {
    "duration": 52,
    "start_time": "2023-04-15T13:18:02.507Z"
   },
   {
    "duration": 98,
    "start_time": "2023-04-15T13:18:02.561Z"
   },
   {
    "duration": 39,
    "start_time": "2023-04-15T13:18:02.664Z"
   },
   {
    "duration": 78,
    "start_time": "2023-04-15T13:18:02.705Z"
   },
   {
    "duration": 18,
    "start_time": "2023-04-15T13:18:02.785Z"
   },
   {
    "duration": 4,
    "start_time": "2023-04-15T13:18:02.805Z"
   },
   {
    "duration": 15,
    "start_time": "2023-04-15T13:18:02.811Z"
   },
   {
    "duration": 32,
    "start_time": "2023-04-15T13:18:02.828Z"
   },
   {
    "duration": 30,
    "start_time": "2023-04-15T13:18:02.863Z"
   },
   {
    "duration": 222,
    "start_time": "2023-04-15T13:18:02.895Z"
   },
   {
    "duration": 88,
    "start_time": "2023-04-15T13:18:03.119Z"
   },
   {
    "duration": 12,
    "start_time": "2023-04-15T13:18:03.210Z"
   },
   {
    "duration": 550,
    "start_time": "2023-04-15T13:18:03.228Z"
   },
   {
    "duration": 5,
    "start_time": "2023-04-15T13:18:03.780Z"
   },
   {
    "duration": 139,
    "start_time": "2023-04-15T13:18:03.787Z"
   },
   {
    "duration": 0,
    "start_time": "2023-04-15T13:18:03.928Z"
   },
   {
    "duration": 0,
    "start_time": "2023-04-15T13:18:03.930Z"
   },
   {
    "duration": 0,
    "start_time": "2023-04-15T13:18:03.931Z"
   },
   {
    "duration": 0,
    "start_time": "2023-04-15T13:18:03.933Z"
   },
   {
    "duration": 0,
    "start_time": "2023-04-15T13:18:03.934Z"
   },
   {
    "duration": 0,
    "start_time": "2023-04-15T13:18:03.934Z"
   },
   {
    "duration": 0,
    "start_time": "2023-04-15T13:18:03.940Z"
   },
   {
    "duration": 0,
    "start_time": "2023-04-15T13:18:03.941Z"
   },
   {
    "duration": 0,
    "start_time": "2023-04-15T13:18:03.942Z"
   },
   {
    "duration": 0,
    "start_time": "2023-04-15T13:18:03.943Z"
   },
   {
    "duration": 0,
    "start_time": "2023-04-15T13:18:03.944Z"
   },
   {
    "duration": 0,
    "start_time": "2023-04-15T13:18:03.945Z"
   },
   {
    "duration": 0,
    "start_time": "2023-04-15T13:18:03.946Z"
   },
   {
    "duration": 0,
    "start_time": "2023-04-15T13:18:03.947Z"
   },
   {
    "duration": 0,
    "start_time": "2023-04-15T13:18:03.951Z"
   },
   {
    "duration": 1540,
    "start_time": "2023-04-15T13:18:23.888Z"
   },
   {
    "duration": 1421,
    "start_time": "2023-04-15T13:18:25.431Z"
   },
   {
    "duration": 23,
    "start_time": "2023-04-15T13:18:26.860Z"
   },
   {
    "duration": 494,
    "start_time": "2023-04-15T13:18:26.886Z"
   },
   {
    "duration": 81,
    "start_time": "2023-04-15T13:18:27.385Z"
   },
   {
    "duration": 13,
    "start_time": "2023-04-15T13:18:27.471Z"
   },
   {
    "duration": 9,
    "start_time": "2023-04-15T13:18:27.486Z"
   },
   {
    "duration": 76,
    "start_time": "2023-04-15T13:18:27.496Z"
   },
   {
    "duration": 90,
    "start_time": "2023-04-15T13:18:27.574Z"
   },
   {
    "duration": 28,
    "start_time": "2023-04-15T13:18:27.665Z"
   },
   {
    "duration": 184,
    "start_time": "2023-04-15T13:18:27.695Z"
   },
   {
    "duration": 8,
    "start_time": "2023-04-15T13:18:27.881Z"
   },
   {
    "duration": 21,
    "start_time": "2023-04-15T13:18:27.891Z"
   },
   {
    "duration": 12,
    "start_time": "2023-04-15T13:18:27.916Z"
   },
   {
    "duration": 46,
    "start_time": "2023-04-15T13:18:27.938Z"
   },
   {
    "duration": 35,
    "start_time": "2023-04-15T13:18:27.986Z"
   },
   {
    "duration": 47,
    "start_time": "2023-04-15T13:18:28.023Z"
   },
   {
    "duration": 60,
    "start_time": "2023-04-15T13:18:28.072Z"
   },
   {
    "duration": 108,
    "start_time": "2023-04-15T13:18:28.134Z"
   },
   {
    "duration": 29,
    "start_time": "2023-04-15T13:18:28.248Z"
   },
   {
    "duration": 21,
    "start_time": "2023-04-15T13:18:28.279Z"
   },
   {
    "duration": 13,
    "start_time": "2023-04-15T13:18:28.302Z"
   },
   {
    "duration": 9,
    "start_time": "2023-04-15T13:18:28.318Z"
   },
   {
    "duration": 49,
    "start_time": "2023-04-15T13:18:28.330Z"
   },
   {
    "duration": 194,
    "start_time": "2023-04-15T13:18:28.381Z"
   },
   {
    "duration": 77,
    "start_time": "2023-04-15T13:18:28.580Z"
   },
   {
    "duration": 7,
    "start_time": "2023-04-15T13:18:28.659Z"
   },
   {
    "duration": 432,
    "start_time": "2023-04-15T13:18:28.668Z"
   },
   {
    "duration": 5,
    "start_time": "2023-04-15T13:18:29.102Z"
   },
   {
    "duration": 30,
    "start_time": "2023-04-15T13:18:29.109Z"
   },
   {
    "duration": 326,
    "start_time": "2023-04-15T13:18:29.143Z"
   },
   {
    "duration": 59,
    "start_time": "2023-04-15T13:18:29.470Z"
   },
   {
    "duration": 153,
    "start_time": "2023-04-15T13:18:29.531Z"
   },
   {
    "duration": 12,
    "start_time": "2023-04-15T13:18:29.686Z"
   },
   {
    "duration": 46,
    "start_time": "2023-04-15T13:18:29.700Z"
   },
   {
    "duration": 35,
    "start_time": "2023-04-15T13:18:29.747Z"
   },
   {
    "duration": 98,
    "start_time": "2023-04-15T13:18:29.783Z"
   },
   {
    "duration": 83,
    "start_time": "2023-04-15T13:18:29.884Z"
   },
   {
    "duration": 11,
    "start_time": "2023-04-15T13:18:29.974Z"
   },
   {
    "duration": 389,
    "start_time": "2023-04-15T13:18:29.986Z"
   },
   {
    "duration": 15,
    "start_time": "2023-04-15T13:18:30.382Z"
   },
   {
    "duration": 27,
    "start_time": "2023-04-15T13:18:30.399Z"
   },
   {
    "duration": 67,
    "start_time": "2023-04-15T13:18:30.428Z"
   },
   {
    "duration": 84,
    "start_time": "2023-04-15T13:18:30.497Z"
   },
   {
    "duration": 10,
    "start_time": "2023-04-15T13:38:42.804Z"
   },
   {
    "duration": 166,
    "start_time": "2023-04-15T13:38:43.428Z"
   },
   {
    "duration": 145,
    "start_time": "2023-04-15T13:39:38.128Z"
   },
   {
    "duration": 11,
    "start_time": "2023-04-15T13:39:43.365Z"
   },
   {
    "duration": 17,
    "start_time": "2023-04-15T13:39:44.029Z"
   },
   {
    "duration": 34,
    "start_time": "2023-04-15T13:40:09.426Z"
   },
   {
    "duration": 26,
    "start_time": "2023-04-15T13:40:23.977Z"
   },
   {
    "duration": 13,
    "start_time": "2023-04-15T13:40:40.323Z"
   },
   {
    "duration": 11,
    "start_time": "2023-04-15T13:40:48.286Z"
   },
   {
    "duration": 1990,
    "start_time": "2023-04-15T13:42:01.919Z"
   },
   {
    "duration": 21,
    "start_time": "2023-04-15T13:42:41.460Z"
   },
   {
    "duration": 20,
    "start_time": "2023-04-15T13:42:48.780Z"
   },
   {
    "duration": 15,
    "start_time": "2023-04-15T13:43:58.652Z"
   },
   {
    "duration": 1360,
    "start_time": "2023-04-15T13:44:09.514Z"
   },
   {
    "duration": 1204,
    "start_time": "2023-04-15T13:44:10.876Z"
   },
   {
    "duration": 13,
    "start_time": "2023-04-15T13:44:12.082Z"
   },
   {
    "duration": 331,
    "start_time": "2023-04-15T13:44:12.096Z"
   },
   {
    "duration": 104,
    "start_time": "2023-04-15T13:44:12.434Z"
   },
   {
    "duration": 5,
    "start_time": "2023-04-15T13:44:12.540Z"
   },
   {
    "duration": 18,
    "start_time": "2023-04-15T13:44:12.547Z"
   },
   {
    "duration": 51,
    "start_time": "2023-04-15T13:44:12.567Z"
   },
   {
    "duration": 71,
    "start_time": "2023-04-15T13:44:12.620Z"
   },
   {
    "duration": 20,
    "start_time": "2023-04-15T13:44:12.694Z"
   },
   {
    "duration": 117,
    "start_time": "2023-04-15T13:44:12.716Z"
   },
   {
    "duration": 7,
    "start_time": "2023-04-15T13:44:12.835Z"
   },
   {
    "duration": 6,
    "start_time": "2023-04-15T13:44:12.843Z"
   },
   {
    "duration": 13,
    "start_time": "2023-04-15T13:44:12.852Z"
   },
   {
    "duration": 22,
    "start_time": "2023-04-15T13:44:12.866Z"
   },
   {
    "duration": 28,
    "start_time": "2023-04-15T13:44:12.890Z"
   },
   {
    "duration": 42,
    "start_time": "2023-04-15T13:44:12.933Z"
   },
   {
    "duration": 18,
    "start_time": "2023-04-15T13:44:12.977Z"
   },
   {
    "duration": 82,
    "start_time": "2023-04-15T13:44:12.997Z"
   },
   {
    "duration": 11,
    "start_time": "2023-04-15T13:44:13.081Z"
   },
   {
    "duration": 16,
    "start_time": "2023-04-15T13:44:13.094Z"
   },
   {
    "duration": 22,
    "start_time": "2023-04-15T13:44:13.113Z"
   },
   {
    "duration": 6,
    "start_time": "2023-04-15T13:44:13.137Z"
   },
   {
    "duration": 15,
    "start_time": "2023-04-15T13:44:13.144Z"
   },
   {
    "duration": 194,
    "start_time": "2023-04-15T13:44:13.161Z"
   },
   {
    "duration": 102,
    "start_time": "2023-04-15T13:44:13.358Z"
   },
   {
    "duration": 7,
    "start_time": "2023-04-15T13:44:13.462Z"
   },
   {
    "duration": 421,
    "start_time": "2023-04-15T13:44:13.471Z"
   },
   {
    "duration": 6,
    "start_time": "2023-04-15T13:44:13.894Z"
   },
   {
    "duration": 37,
    "start_time": "2023-04-15T13:44:13.902Z"
   },
   {
    "duration": 383,
    "start_time": "2023-04-15T13:44:13.940Z"
   },
   {
    "duration": 75,
    "start_time": "2023-04-15T13:44:14.325Z"
   },
   {
    "duration": 165,
    "start_time": "2023-04-15T13:44:14.402Z"
   },
   {
    "duration": 17,
    "start_time": "2023-04-15T13:44:14.569Z"
   },
   {
    "duration": 24,
    "start_time": "2023-04-15T13:44:14.589Z"
   },
   {
    "duration": 4,
    "start_time": "2023-04-15T13:44:14.615Z"
   },
   {
    "duration": 60,
    "start_time": "2023-04-15T13:44:14.620Z"
   },
   {
    "duration": 75,
    "start_time": "2023-04-15T13:44:14.682Z"
   },
   {
    "duration": 9,
    "start_time": "2023-04-15T13:44:14.758Z"
   },
   {
    "duration": 330,
    "start_time": "2023-04-15T13:44:14.769Z"
   },
   {
    "duration": 15,
    "start_time": "2023-04-15T13:44:15.104Z"
   },
   {
    "duration": 27,
    "start_time": "2023-04-15T13:44:15.121Z"
   },
   {
    "duration": 7,
    "start_time": "2023-04-15T13:44:15.150Z"
   },
   {
    "duration": 17,
    "start_time": "2023-04-15T13:44:15.158Z"
   },
   {
    "duration": 138,
    "start_time": "2023-04-15T13:44:15.176Z"
   },
   {
    "duration": 17,
    "start_time": "2023-04-15T13:44:15.317Z"
   },
   {
    "duration": 20,
    "start_time": "2023-04-15T13:44:15.335Z"
   },
   {
    "duration": 50,
    "start_time": "2023-04-15T13:44:15.357Z"
   },
   {
    "duration": 12,
    "start_time": "2023-04-15T13:44:15.410Z"
   },
   {
    "duration": 19,
    "start_time": "2023-04-15T13:44:15.424Z"
   },
   {
    "duration": 184,
    "start_time": "2023-04-15T13:44:15.446Z"
   },
   {
    "duration": 1357,
    "start_time": "2023-04-15T13:44:50.016Z"
   },
   {
    "duration": 1107,
    "start_time": "2023-04-15T13:44:51.375Z"
   },
   {
    "duration": 15,
    "start_time": "2023-04-15T13:44:52.483Z"
   },
   {
    "duration": 377,
    "start_time": "2023-04-15T13:44:52.500Z"
   },
   {
    "duration": 120,
    "start_time": "2023-04-15T13:44:52.880Z"
   },
   {
    "duration": 15,
    "start_time": "2023-04-15T13:44:53.002Z"
   },
   {
    "duration": 18,
    "start_time": "2023-04-15T13:44:53.019Z"
   },
   {
    "duration": 43,
    "start_time": "2023-04-15T13:44:53.039Z"
   },
   {
    "duration": 81,
    "start_time": "2023-04-15T13:44:53.084Z"
   },
   {
    "duration": 28,
    "start_time": "2023-04-15T13:44:53.167Z"
   },
   {
    "duration": 157,
    "start_time": "2023-04-15T13:44:53.197Z"
   },
   {
    "duration": 7,
    "start_time": "2023-04-15T13:44:53.356Z"
   },
   {
    "duration": 5,
    "start_time": "2023-04-15T13:44:53.365Z"
   },
   {
    "duration": 18,
    "start_time": "2023-04-15T13:44:53.374Z"
   },
   {
    "duration": 21,
    "start_time": "2023-04-15T13:44:53.394Z"
   },
   {
    "duration": 28,
    "start_time": "2023-04-15T13:44:53.417Z"
   },
   {
    "duration": 29,
    "start_time": "2023-04-15T13:44:53.447Z"
   },
   {
    "duration": 14,
    "start_time": "2023-04-15T13:44:53.478Z"
   },
   {
    "duration": 68,
    "start_time": "2023-04-15T13:44:53.493Z"
   },
   {
    "duration": 11,
    "start_time": "2023-04-15T13:44:53.565Z"
   },
   {
    "duration": 6,
    "start_time": "2023-04-15T13:44:53.578Z"
   },
   {
    "duration": 17,
    "start_time": "2023-04-15T13:44:53.585Z"
   },
   {
    "duration": 9,
    "start_time": "2023-04-15T13:44:53.604Z"
   },
   {
    "duration": 33,
    "start_time": "2023-04-15T13:44:53.615Z"
   },
   {
    "duration": 205,
    "start_time": "2023-04-15T13:44:53.650Z"
   },
   {
    "duration": 77,
    "start_time": "2023-04-15T13:44:53.857Z"
   },
   {
    "duration": 6,
    "start_time": "2023-04-15T13:44:53.936Z"
   },
   {
    "duration": 445,
    "start_time": "2023-04-15T13:44:53.944Z"
   },
   {
    "duration": 5,
    "start_time": "2023-04-15T13:44:54.391Z"
   },
   {
    "duration": 37,
    "start_time": "2023-04-15T13:44:54.397Z"
   },
   {
    "duration": 234,
    "start_time": "2023-04-15T13:44:54.437Z"
   },
   {
    "duration": 48,
    "start_time": "2023-04-15T13:44:54.674Z"
   },
   {
    "duration": 162,
    "start_time": "2023-04-15T13:44:54.733Z"
   },
   {
    "duration": 14,
    "start_time": "2023-04-15T13:44:54.897Z"
   },
   {
    "duration": 36,
    "start_time": "2023-04-15T13:44:54.913Z"
   },
   {
    "duration": 4,
    "start_time": "2023-04-15T13:44:54.950Z"
   },
   {
    "duration": 67,
    "start_time": "2023-04-15T13:44:54.956Z"
   },
   {
    "duration": 49,
    "start_time": "2023-04-15T13:44:55.025Z"
   },
   {
    "duration": 7,
    "start_time": "2023-04-15T13:44:55.075Z"
   },
   {
    "duration": 308,
    "start_time": "2023-04-15T13:44:55.084Z"
   },
   {
    "duration": 13,
    "start_time": "2023-04-15T13:44:55.396Z"
   },
   {
    "duration": 30,
    "start_time": "2023-04-15T13:44:55.411Z"
   },
   {
    "duration": 4,
    "start_time": "2023-04-15T13:44:55.443Z"
   },
   {
    "duration": 18,
    "start_time": "2023-04-15T13:44:55.449Z"
   },
   {
    "duration": 130,
    "start_time": "2023-04-15T13:44:55.469Z"
   },
   {
    "duration": 12,
    "start_time": "2023-04-15T13:44:55.601Z"
   },
   {
    "duration": 22,
    "start_time": "2023-04-15T13:44:55.616Z"
   },
   {
    "duration": 37,
    "start_time": "2023-04-15T13:44:55.639Z"
   },
   {
    "duration": 12,
    "start_time": "2023-04-15T13:44:55.678Z"
   },
   {
    "duration": 18,
    "start_time": "2023-04-15T13:44:55.692Z"
   },
   {
    "duration": 12,
    "start_time": "2023-04-15T13:44:55.734Z"
   },
   {
    "duration": 1263,
    "start_time": "2023-04-15T13:46:59.388Z"
   },
   {
    "duration": 943,
    "start_time": "2023-04-15T13:47:00.653Z"
   },
   {
    "duration": 13,
    "start_time": "2023-04-15T13:47:01.598Z"
   },
   {
    "duration": 387,
    "start_time": "2023-04-15T13:47:01.614Z"
   },
   {
    "duration": 78,
    "start_time": "2023-04-15T13:47:02.003Z"
   },
   {
    "duration": 12,
    "start_time": "2023-04-15T13:47:02.083Z"
   },
   {
    "duration": 23,
    "start_time": "2023-04-15T13:47:02.097Z"
   },
   {
    "duration": 87,
    "start_time": "2023-04-15T13:47:02.122Z"
   },
   {
    "duration": 73,
    "start_time": "2023-04-15T13:47:02.211Z"
   },
   {
    "duration": 23,
    "start_time": "2023-04-15T13:47:02.288Z"
   },
   {
    "duration": 150,
    "start_time": "2023-04-15T13:47:02.313Z"
   },
   {
    "duration": 7,
    "start_time": "2023-04-15T13:47:02.465Z"
   },
   {
    "duration": 11,
    "start_time": "2023-04-15T13:47:02.474Z"
   },
   {
    "duration": 32,
    "start_time": "2023-04-15T13:47:02.486Z"
   },
   {
    "duration": 27,
    "start_time": "2023-04-15T13:47:02.520Z"
   },
   {
    "duration": 38,
    "start_time": "2023-04-15T13:47:02.548Z"
   },
   {
    "duration": 47,
    "start_time": "2023-04-15T13:47:02.588Z"
   },
   {
    "duration": 13,
    "start_time": "2023-04-15T13:47:02.637Z"
   },
   {
    "duration": 99,
    "start_time": "2023-04-15T13:47:02.651Z"
   },
   {
    "duration": 11,
    "start_time": "2023-04-15T13:47:02.752Z"
   },
   {
    "duration": 18,
    "start_time": "2023-04-15T13:47:02.764Z"
   },
   {
    "duration": 31,
    "start_time": "2023-04-15T13:47:02.784Z"
   },
   {
    "duration": 10,
    "start_time": "2023-04-15T13:47:02.816Z"
   },
   {
    "duration": 18,
    "start_time": "2023-04-15T13:47:02.827Z"
   },
   {
    "duration": 172,
    "start_time": "2023-04-15T13:47:02.847Z"
   },
   {
    "duration": 78,
    "start_time": "2023-04-15T13:47:03.021Z"
   },
   {
    "duration": 6,
    "start_time": "2023-04-15T13:47:03.100Z"
   },
   {
    "duration": 410,
    "start_time": "2023-04-15T13:47:03.110Z"
   },
   {
    "duration": 5,
    "start_time": "2023-04-15T13:47:03.522Z"
   },
   {
    "duration": 16,
    "start_time": "2023-04-15T13:47:03.528Z"
   },
   {
    "duration": 269,
    "start_time": "2023-04-15T13:47:03.545Z"
   },
   {
    "duration": 62,
    "start_time": "2023-04-15T13:47:03.815Z"
   },
   {
    "duration": 210,
    "start_time": "2023-04-15T13:47:03.878Z"
   },
   {
    "duration": 14,
    "start_time": "2023-04-15T13:47:04.090Z"
   },
   {
    "duration": 37,
    "start_time": "2023-04-15T13:47:04.107Z"
   },
   {
    "duration": 3,
    "start_time": "2023-04-15T13:47:04.146Z"
   },
   {
    "duration": 57,
    "start_time": "2023-04-15T13:47:04.151Z"
   },
   {
    "duration": 74,
    "start_time": "2023-04-15T13:47:04.211Z"
   },
   {
    "duration": 6,
    "start_time": "2023-04-15T13:47:04.286Z"
   },
   {
    "duration": 305,
    "start_time": "2023-04-15T13:47:04.294Z"
   },
   {
    "duration": 14,
    "start_time": "2023-04-15T13:47:04.601Z"
   },
   {
    "duration": 23,
    "start_time": "2023-04-15T13:47:04.617Z"
   },
   {
    "duration": 4,
    "start_time": "2023-04-15T13:47:04.641Z"
   },
   {
    "duration": 22,
    "start_time": "2023-04-15T13:47:04.647Z"
   },
   {
    "duration": 127,
    "start_time": "2023-04-15T13:47:04.671Z"
   },
   {
    "duration": 11,
    "start_time": "2023-04-15T13:47:04.800Z"
   },
   {
    "duration": 18,
    "start_time": "2023-04-15T13:47:04.813Z"
   },
   {
    "duration": 24,
    "start_time": "2023-04-15T13:47:04.833Z"
   },
   {
    "duration": 9,
    "start_time": "2023-04-15T13:47:04.858Z"
   },
   {
    "duration": 1635,
    "start_time": "2023-04-15T13:47:04.869Z"
   },
   {
    "duration": 1519,
    "start_time": "2023-04-15T13:56:01.961Z"
   },
   {
    "duration": 1400,
    "start_time": "2023-04-15T13:59:05.054Z"
   },
   {
    "duration": 15,
    "start_time": "2023-04-15T13:59:40.108Z"
   },
   {
    "duration": 24,
    "start_time": "2023-04-15T13:59:47.194Z"
   },
   {
    "duration": 1387,
    "start_time": "2023-04-15T13:59:59.728Z"
   },
   {
    "duration": 1521,
    "start_time": "2023-04-15T14:00:01.118Z"
   },
   {
    "duration": 13,
    "start_time": "2023-04-15T14:00:02.641Z"
   },
   {
    "duration": 519,
    "start_time": "2023-04-15T14:00:02.656Z"
   },
   {
    "duration": 110,
    "start_time": "2023-04-15T14:00:03.177Z"
   },
   {
    "duration": 6,
    "start_time": "2023-04-15T14:00:03.289Z"
   },
   {
    "duration": 21,
    "start_time": "2023-04-15T14:00:03.297Z"
   },
   {
    "duration": 76,
    "start_time": "2023-04-15T14:00:03.320Z"
   },
   {
    "duration": 78,
    "start_time": "2023-04-15T14:00:03.398Z"
   },
   {
    "duration": 27,
    "start_time": "2023-04-15T14:00:03.478Z"
   },
   {
    "duration": 162,
    "start_time": "2023-04-15T14:00:03.506Z"
   },
   {
    "duration": 10,
    "start_time": "2023-04-15T14:00:03.670Z"
   },
   {
    "duration": 13,
    "start_time": "2023-04-15T14:00:03.682Z"
   },
   {
    "duration": 15,
    "start_time": "2023-04-15T14:00:03.700Z"
   },
   {
    "duration": 27,
    "start_time": "2023-04-15T14:00:03.717Z"
   },
   {
    "duration": 46,
    "start_time": "2023-04-15T14:00:03.746Z"
   },
   {
    "duration": 32,
    "start_time": "2023-04-15T14:00:03.793Z"
   },
   {
    "duration": 21,
    "start_time": "2023-04-15T14:00:03.827Z"
   },
   {
    "duration": 121,
    "start_time": "2023-04-15T14:00:03.850Z"
   },
   {
    "duration": 15,
    "start_time": "2023-04-15T14:00:03.974Z"
   },
   {
    "duration": 7,
    "start_time": "2023-04-15T14:00:03.991Z"
   },
   {
    "duration": 28,
    "start_time": "2023-04-15T14:00:04.000Z"
   },
   {
    "duration": 76,
    "start_time": "2023-04-15T14:00:04.030Z"
   },
   {
    "duration": 20,
    "start_time": "2023-04-15T14:00:04.108Z"
   },
   {
    "duration": 274,
    "start_time": "2023-04-15T14:00:04.130Z"
   },
   {
    "duration": 86,
    "start_time": "2023-04-15T14:00:04.406Z"
   },
   {
    "duration": 14,
    "start_time": "2023-04-15T14:00:04.493Z"
   },
   {
    "duration": 421,
    "start_time": "2023-04-15T14:00:04.509Z"
   },
   {
    "duration": 20,
    "start_time": "2023-04-15T14:00:04.932Z"
   },
   {
    "duration": 40,
    "start_time": "2023-04-15T14:00:04.954Z"
   },
   {
    "duration": 288,
    "start_time": "2023-04-15T14:00:04.996Z"
   },
   {
    "duration": 60,
    "start_time": "2023-04-15T14:00:05.286Z"
   },
   {
    "duration": 133,
    "start_time": "2023-04-15T14:00:05.348Z"
   },
   {
    "duration": 11,
    "start_time": "2023-04-15T14:00:05.483Z"
   },
   {
    "duration": 23,
    "start_time": "2023-04-15T14:00:05.496Z"
   },
   {
    "duration": 10,
    "start_time": "2023-04-15T14:00:05.534Z"
   },
   {
    "duration": 87,
    "start_time": "2023-04-15T14:00:05.545Z"
   },
   {
    "duration": 83,
    "start_time": "2023-04-15T14:00:05.641Z"
   },
   {
    "duration": 7,
    "start_time": "2023-04-15T14:00:05.725Z"
   },
   {
    "duration": 380,
    "start_time": "2023-04-15T14:00:05.743Z"
   },
   {
    "duration": 20,
    "start_time": "2023-04-15T14:00:06.126Z"
   },
   {
    "duration": 38,
    "start_time": "2023-04-15T14:00:06.150Z"
   },
   {
    "duration": 13,
    "start_time": "2023-04-15T14:00:06.190Z"
   },
   {
    "duration": 17,
    "start_time": "2023-04-15T14:00:06.205Z"
   },
   {
    "duration": 127,
    "start_time": "2023-04-15T14:00:06.223Z"
   },
   {
    "duration": 15,
    "start_time": "2023-04-15T14:00:06.352Z"
   },
   {
    "duration": 22,
    "start_time": "2023-04-15T14:00:06.368Z"
   },
   {
    "duration": 31,
    "start_time": "2023-04-15T14:00:06.392Z"
   },
   {
    "duration": 23,
    "start_time": "2023-04-15T14:00:06.424Z"
   },
   {
    "duration": 49,
    "start_time": "2023-04-15T14:00:06.451Z"
   },
   {
    "duration": 26,
    "start_time": "2023-04-15T14:00:06.502Z"
   },
   {
    "duration": 13,
    "start_time": "2023-04-15T14:08:39.891Z"
   },
   {
    "duration": 11,
    "start_time": "2023-04-15T14:09:25.780Z"
   },
   {
    "duration": 173,
    "start_time": "2023-04-15T14:09:34.759Z"
   },
   {
    "duration": 13,
    "start_time": "2023-04-15T14:10:04.588Z"
   },
   {
    "duration": 1297,
    "start_time": "2023-04-15T14:10:45.419Z"
   },
   {
    "duration": 1414,
    "start_time": "2023-04-15T14:10:46.718Z"
   },
   {
    "duration": 19,
    "start_time": "2023-04-15T14:10:48.134Z"
   },
   {
    "duration": 495,
    "start_time": "2023-04-15T14:10:48.158Z"
   },
   {
    "duration": 64,
    "start_time": "2023-04-15T14:10:48.662Z"
   },
   {
    "duration": 13,
    "start_time": "2023-04-15T14:10:48.728Z"
   },
   {
    "duration": 52,
    "start_time": "2023-04-15T14:10:48.742Z"
   },
   {
    "duration": 67,
    "start_time": "2023-04-15T14:10:48.796Z"
   },
   {
    "duration": 65,
    "start_time": "2023-04-15T14:10:48.868Z"
   },
   {
    "duration": 24,
    "start_time": "2023-04-15T14:10:48.934Z"
   },
   {
    "duration": 141,
    "start_time": "2023-04-15T14:10:48.960Z"
   },
   {
    "duration": 7,
    "start_time": "2023-04-15T14:10:49.103Z"
   },
   {
    "duration": 18,
    "start_time": "2023-04-15T14:10:49.112Z"
   },
   {
    "duration": 63,
    "start_time": "2023-04-15T14:10:49.137Z"
   },
   {
    "duration": 18,
    "start_time": "2023-04-15T14:10:49.202Z"
   },
   {
    "duration": 66,
    "start_time": "2023-04-15T14:10:49.222Z"
   },
   {
    "duration": 33,
    "start_time": "2023-04-15T14:10:49.290Z"
   },
   {
    "duration": 35,
    "start_time": "2023-04-15T14:10:49.325Z"
   },
   {
    "duration": 81,
    "start_time": "2023-04-15T14:10:49.363Z"
   },
   {
    "duration": 18,
    "start_time": "2023-04-15T14:10:49.446Z"
   },
   {
    "duration": 18,
    "start_time": "2023-04-15T14:10:49.466Z"
   },
   {
    "duration": 13,
    "start_time": "2023-04-15T14:10:49.487Z"
   },
   {
    "duration": 10,
    "start_time": "2023-04-15T14:10:49.503Z"
   },
   {
    "duration": 23,
    "start_time": "2023-04-15T14:10:49.515Z"
   },
   {
    "duration": 233,
    "start_time": "2023-04-15T14:10:49.540Z"
   },
   {
    "duration": 68,
    "start_time": "2023-04-15T14:10:49.775Z"
   },
   {
    "duration": 7,
    "start_time": "2023-04-15T14:10:49.849Z"
   },
   {
    "duration": 455,
    "start_time": "2023-04-15T14:10:49.857Z"
   },
   {
    "duration": 5,
    "start_time": "2023-04-15T14:10:50.314Z"
   },
   {
    "duration": 23,
    "start_time": "2023-04-15T14:10:50.321Z"
   },
   {
    "duration": 285,
    "start_time": "2023-04-15T14:10:50.350Z"
   },
   {
    "duration": 75,
    "start_time": "2023-04-15T14:10:50.636Z"
   },
   {
    "duration": 151,
    "start_time": "2023-04-15T14:10:50.713Z"
   },
   {
    "duration": 21,
    "start_time": "2023-04-15T14:10:50.866Z"
   },
   {
    "duration": 49,
    "start_time": "2023-04-15T14:10:50.890Z"
   },
   {
    "duration": 32,
    "start_time": "2023-04-15T14:10:50.948Z"
   },
   {
    "duration": 70,
    "start_time": "2023-04-15T14:10:50.983Z"
   },
   {
    "duration": 84,
    "start_time": "2023-04-15T14:10:51.058Z"
   },
   {
    "duration": 10,
    "start_time": "2023-04-15T14:10:51.144Z"
   },
   {
    "duration": 404,
    "start_time": "2023-04-15T14:10:51.156Z"
   },
   {
    "duration": 17,
    "start_time": "2023-04-15T14:10:51.565Z"
   },
   {
    "duration": 28,
    "start_time": "2023-04-15T14:10:51.585Z"
   },
   {
    "duration": 6,
    "start_time": "2023-04-15T14:10:51.615Z"
   },
   {
    "duration": 52,
    "start_time": "2023-04-15T14:10:51.622Z"
   },
   {
    "duration": 151,
    "start_time": "2023-04-15T14:10:51.677Z"
   },
   {
    "duration": 22,
    "start_time": "2023-04-15T14:10:51.830Z"
   },
   {
    "duration": 40,
    "start_time": "2023-04-15T14:10:51.854Z"
   },
   {
    "duration": 50,
    "start_time": "2023-04-15T14:10:51.896Z"
   },
   {
    "duration": 33,
    "start_time": "2023-04-15T14:10:51.948Z"
   },
   {
    "duration": 19,
    "start_time": "2023-04-15T14:10:51.983Z"
   },
   {
    "duration": 13,
    "start_time": "2023-04-15T14:10:52.006Z"
   },
   {
    "duration": 13,
    "start_time": "2023-04-15T14:46:41.963Z"
   },
   {
    "duration": 16,
    "start_time": "2023-04-15T14:46:51.494Z"
   },
   {
    "duration": 11,
    "start_time": "2023-04-15T14:46:54.566Z"
   },
   {
    "duration": 1285,
    "start_time": "2023-04-15T14:52:12.981Z"
   },
   {
    "duration": 1162,
    "start_time": "2023-04-15T14:52:14.268Z"
   },
   {
    "duration": 18,
    "start_time": "2023-04-15T14:52:15.432Z"
   },
   {
    "duration": 386,
    "start_time": "2023-04-15T14:52:15.452Z"
   },
   {
    "duration": 72,
    "start_time": "2023-04-15T14:52:15.840Z"
   },
   {
    "duration": 5,
    "start_time": "2023-04-15T14:52:15.914Z"
   },
   {
    "duration": 20,
    "start_time": "2023-04-15T14:52:15.921Z"
   },
   {
    "duration": 60,
    "start_time": "2023-04-15T14:52:15.943Z"
   },
   {
    "duration": 58,
    "start_time": "2023-04-15T14:52:16.005Z"
   },
   {
    "duration": 23,
    "start_time": "2023-04-15T14:52:16.065Z"
   },
   {
    "duration": 140,
    "start_time": "2023-04-15T14:52:16.090Z"
   },
   {
    "duration": 11,
    "start_time": "2023-04-15T14:52:16.233Z"
   },
   {
    "duration": 37,
    "start_time": "2023-04-15T14:52:16.253Z"
   },
   {
    "duration": 14,
    "start_time": "2023-04-15T14:52:16.293Z"
   },
   {
    "duration": 19,
    "start_time": "2023-04-15T14:52:16.309Z"
   },
   {
    "duration": 55,
    "start_time": "2023-04-15T14:52:16.330Z"
   },
   {
    "duration": 30,
    "start_time": "2023-04-15T14:52:16.386Z"
   },
   {
    "duration": 26,
    "start_time": "2023-04-15T14:52:16.418Z"
   },
   {
    "duration": 77,
    "start_time": "2023-04-15T14:52:16.448Z"
   },
   {
    "duration": 39,
    "start_time": "2023-04-15T14:52:16.527Z"
   },
   {
    "duration": 5,
    "start_time": "2023-04-15T14:52:16.569Z"
   },
   {
    "duration": 8,
    "start_time": "2023-04-15T14:52:16.576Z"
   },
   {
    "duration": 9,
    "start_time": "2023-04-15T14:52:16.586Z"
   },
   {
    "duration": 12,
    "start_time": "2023-04-15T14:52:16.597Z"
   },
   {
    "duration": 211,
    "start_time": "2023-04-15T14:52:16.611Z"
   },
   {
    "duration": 71,
    "start_time": "2023-04-15T14:52:16.824Z"
   },
   {
    "duration": 6,
    "start_time": "2023-04-15T14:52:16.897Z"
   },
   {
    "duration": 419,
    "start_time": "2023-04-15T14:52:16.904Z"
   },
   {
    "duration": 5,
    "start_time": "2023-04-15T14:52:17.325Z"
   },
   {
    "duration": 52,
    "start_time": "2023-04-15T14:52:17.331Z"
   },
   {
    "duration": 298,
    "start_time": "2023-04-15T14:52:17.385Z"
   },
   {
    "duration": 94,
    "start_time": "2023-04-15T14:52:17.687Z"
   },
   {
    "duration": 164,
    "start_time": "2023-04-15T14:52:17.783Z"
   },
   {
    "duration": 22,
    "start_time": "2023-04-15T14:52:17.950Z"
   },
   {
    "duration": 27,
    "start_time": "2023-04-15T14:52:17.975Z"
   },
   {
    "duration": 5,
    "start_time": "2023-04-15T14:52:18.004Z"
   },
   {
    "duration": 74,
    "start_time": "2023-04-15T14:52:18.011Z"
   },
   {
    "duration": 133,
    "start_time": "2023-04-15T14:52:18.086Z"
   },
   {
    "duration": 6,
    "start_time": "2023-04-15T14:52:18.221Z"
   },
   {
    "duration": 385,
    "start_time": "2023-04-15T14:52:18.229Z"
   },
   {
    "duration": 27,
    "start_time": "2023-04-15T14:52:18.617Z"
   },
   {
    "duration": 23,
    "start_time": "2023-04-15T14:52:18.652Z"
   },
   {
    "duration": 4,
    "start_time": "2023-04-15T14:52:18.677Z"
   },
   {
    "duration": 23,
    "start_time": "2023-04-15T14:52:18.683Z"
   },
   {
    "duration": 172,
    "start_time": "2023-04-15T14:52:18.708Z"
   },
   {
    "duration": 10,
    "start_time": "2023-04-15T14:52:18.882Z"
   },
   {
    "duration": 14,
    "start_time": "2023-04-15T14:52:18.894Z"
   },
   {
    "duration": 52,
    "start_time": "2023-04-15T14:52:18.910Z"
   },
   {
    "duration": 27,
    "start_time": "2023-04-15T14:52:18.963Z"
   },
   {
    "duration": 22,
    "start_time": "2023-04-15T14:52:18.992Z"
   },
   {
    "duration": 15,
    "start_time": "2023-04-15T14:52:19.016Z"
   },
   {
    "duration": 19,
    "start_time": "2023-04-15T15:17:09.517Z"
   },
   {
    "duration": 25,
    "start_time": "2023-04-15T15:18:05.761Z"
   },
   {
    "duration": 196,
    "start_time": "2023-04-15T15:19:08.285Z"
   },
   {
    "duration": 498,
    "start_time": "2023-04-15T15:21:56.415Z"
   },
   {
    "duration": 451,
    "start_time": "2023-04-15T15:22:30.387Z"
   },
   {
    "duration": 114,
    "start_time": "2023-04-15T15:24:02.455Z"
   },
   {
    "duration": 12,
    "start_time": "2023-04-15T15:27:13.150Z"
   },
   {
    "duration": 14,
    "start_time": "2023-04-15T15:27:17.484Z"
   },
   {
    "duration": 17,
    "start_time": "2023-04-15T15:27:21.101Z"
   },
   {
    "duration": 1326,
    "start_time": "2023-04-15T15:28:11.516Z"
   },
   {
    "duration": 1336,
    "start_time": "2023-04-15T15:28:12.849Z"
   },
   {
    "duration": 11,
    "start_time": "2023-04-15T15:28:14.187Z"
   },
   {
    "duration": 382,
    "start_time": "2023-04-15T15:28:14.199Z"
   },
   {
    "duration": 86,
    "start_time": "2023-04-15T15:28:14.584Z"
   },
   {
    "duration": 6,
    "start_time": "2023-04-15T15:28:14.672Z"
   },
   {
    "duration": 10,
    "start_time": "2023-04-15T15:28:14.679Z"
   },
   {
    "duration": 51,
    "start_time": "2023-04-15T15:28:14.691Z"
   },
   {
    "duration": 77,
    "start_time": "2023-04-15T15:28:14.744Z"
   },
   {
    "duration": 25,
    "start_time": "2023-04-15T15:28:14.823Z"
   },
   {
    "duration": 146,
    "start_time": "2023-04-15T15:28:14.850Z"
   },
   {
    "duration": 6,
    "start_time": "2023-04-15T15:28:14.999Z"
   },
   {
    "duration": 38,
    "start_time": "2023-04-15T15:28:15.006Z"
   },
   {
    "duration": 42,
    "start_time": "2023-04-15T15:28:15.047Z"
   },
   {
    "duration": 11,
    "start_time": "2023-04-15T15:28:15.091Z"
   },
   {
    "duration": 36,
    "start_time": "2023-04-15T15:28:15.104Z"
   },
   {
    "duration": 51,
    "start_time": "2023-04-15T15:28:15.141Z"
   },
   {
    "duration": 15,
    "start_time": "2023-04-15T15:28:15.194Z"
   },
   {
    "duration": 17,
    "start_time": "2023-04-15T15:28:15.210Z"
   },
   {
    "duration": 361,
    "start_time": "2023-04-15T15:28:15.229Z"
   },
   {
    "duration": 54,
    "start_time": "2023-04-15T15:28:15.592Z"
   },
   {
    "duration": 336,
    "start_time": "2023-04-15T15:28:15.648Z"
   },
   {
    "duration": 37,
    "start_time": "2023-04-15T15:28:15.986Z"
   },
   {
    "duration": 6,
    "start_time": "2023-04-15T15:28:16.049Z"
   },
   {
    "duration": 27,
    "start_time": "2023-04-15T15:28:16.057Z"
   },
   {
    "duration": 31,
    "start_time": "2023-04-15T15:28:16.086Z"
   },
   {
    "duration": 54,
    "start_time": "2023-04-15T15:28:16.119Z"
   },
   {
    "duration": 205,
    "start_time": "2023-04-15T15:28:16.175Z"
   },
   {
    "duration": 88,
    "start_time": "2023-04-15T15:28:16.382Z"
   },
   {
    "duration": 6,
    "start_time": "2023-04-15T15:28:16.472Z"
   },
   {
    "duration": 443,
    "start_time": "2023-04-15T15:28:16.480Z"
   },
   {
    "duration": 5,
    "start_time": "2023-04-15T15:28:16.925Z"
   },
   {
    "duration": 71,
    "start_time": "2023-04-15T15:28:16.932Z"
   },
   {
    "duration": 232,
    "start_time": "2023-04-15T15:28:17.004Z"
   },
   {
    "duration": 54,
    "start_time": "2023-04-15T15:28:17.248Z"
   },
   {
    "duration": 152,
    "start_time": "2023-04-15T15:28:17.303Z"
   },
   {
    "duration": 20,
    "start_time": "2023-04-15T15:28:17.457Z"
   },
   {
    "duration": 63,
    "start_time": "2023-04-15T15:28:17.479Z"
   },
   {
    "duration": 50,
    "start_time": "2023-04-15T15:28:17.544Z"
   },
   {
    "duration": 188,
    "start_time": "2023-04-15T15:28:17.596Z"
   },
   {
    "duration": 266,
    "start_time": "2023-04-15T15:28:17.789Z"
   },
   {
    "duration": 16,
    "start_time": "2023-04-15T15:28:18.058Z"
   },
   {
    "duration": 426,
    "start_time": "2023-04-15T15:28:18.076Z"
   },
   {
    "duration": 1626,
    "start_time": "2023-04-15T15:28:18.504Z"
   },
   {
    "duration": 0,
    "start_time": "2023-04-15T15:28:20.132Z"
   },
   {
    "duration": 0,
    "start_time": "2023-04-15T15:28:20.133Z"
   },
   {
    "duration": 0,
    "start_time": "2023-04-15T15:28:20.135Z"
   },
   {
    "duration": 0,
    "start_time": "2023-04-15T15:28:20.136Z"
   },
   {
    "duration": 0,
    "start_time": "2023-04-15T15:28:20.137Z"
   },
   {
    "duration": 0,
    "start_time": "2023-04-15T15:28:20.138Z"
   },
   {
    "duration": 0,
    "start_time": "2023-04-15T15:28:20.139Z"
   },
   {
    "duration": 0,
    "start_time": "2023-04-15T15:28:20.141Z"
   },
   {
    "duration": 0,
    "start_time": "2023-04-15T15:28:20.142Z"
   },
   {
    "duration": 0,
    "start_time": "2023-04-15T15:28:20.144Z"
   },
   {
    "duration": 1364,
    "start_time": "2023-04-15T15:35:44.191Z"
   },
   {
    "duration": 1564,
    "start_time": "2023-04-15T15:35:45.557Z"
   },
   {
    "duration": 22,
    "start_time": "2023-04-15T15:35:47.123Z"
   },
   {
    "duration": 394,
    "start_time": "2023-04-15T15:35:47.150Z"
   },
   {
    "duration": 61,
    "start_time": "2023-04-15T15:35:47.552Z"
   },
   {
    "duration": 6,
    "start_time": "2023-04-15T15:35:47.615Z"
   },
   {
    "duration": 26,
    "start_time": "2023-04-15T15:35:47.624Z"
   },
   {
    "duration": 45,
    "start_time": "2023-04-15T15:35:47.658Z"
   },
   {
    "duration": 83,
    "start_time": "2023-04-15T15:35:47.705Z"
   },
   {
    "duration": 23,
    "start_time": "2023-04-15T15:35:47.791Z"
   },
   {
    "duration": 139,
    "start_time": "2023-04-15T15:35:47.816Z"
   },
   {
    "duration": 5,
    "start_time": "2023-04-15T15:35:47.957Z"
   },
   {
    "duration": 9,
    "start_time": "2023-04-15T15:35:47.964Z"
   },
   {
    "duration": 85,
    "start_time": "2023-04-15T15:35:47.975Z"
   },
   {
    "duration": 11,
    "start_time": "2023-04-15T15:35:48.063Z"
   },
   {
    "duration": 19,
    "start_time": "2023-04-15T15:35:48.076Z"
   },
   {
    "duration": 12,
    "start_time": "2023-04-15T15:35:48.097Z"
   },
   {
    "duration": 8,
    "start_time": "2023-04-15T15:35:48.111Z"
   },
   {
    "duration": 32,
    "start_time": "2023-04-15T15:35:48.121Z"
   },
   {
    "duration": 35,
    "start_time": "2023-04-15T15:35:48.155Z"
   },
   {
    "duration": 14,
    "start_time": "2023-04-15T15:35:48.192Z"
   },
   {
    "duration": 31,
    "start_time": "2023-04-15T15:35:48.207Z"
   },
   {
    "duration": 315,
    "start_time": "2023-04-15T15:35:48.240Z"
   },
   {
    "duration": 37,
    "start_time": "2023-04-15T15:35:48.557Z"
   },
   {
    "duration": 5,
    "start_time": "2023-04-15T15:35:48.595Z"
   },
   {
    "duration": 11,
    "start_time": "2023-04-15T15:35:48.602Z"
   },
   {
    "duration": 27,
    "start_time": "2023-04-15T15:35:48.615Z"
   },
   {
    "duration": 183,
    "start_time": "2023-04-15T15:35:48.645Z"
   },
   {
    "duration": 79,
    "start_time": "2023-04-15T15:35:48.830Z"
   },
   {
    "duration": 8,
    "start_time": "2023-04-15T15:35:48.911Z"
   },
   {
    "duration": 416,
    "start_time": "2023-04-15T15:35:48.933Z"
   },
   {
    "duration": 9,
    "start_time": "2023-04-15T15:35:49.352Z"
   },
   {
    "duration": 12,
    "start_time": "2023-04-15T15:35:49.363Z"
   },
   {
    "duration": 339,
    "start_time": "2023-04-15T15:35:49.377Z"
   },
   {
    "duration": 70,
    "start_time": "2023-04-15T15:35:49.718Z"
   },
   {
    "duration": 118,
    "start_time": "2023-04-15T15:35:49.790Z"
   },
   {
    "duration": 11,
    "start_time": "2023-04-15T15:35:49.910Z"
   },
   {
    "duration": 66,
    "start_time": "2023-04-15T15:35:49.922Z"
   },
   {
    "duration": 3,
    "start_time": "2023-04-15T15:35:49.990Z"
   },
   {
    "duration": 159,
    "start_time": "2023-04-15T15:35:49.995Z"
   },
   {
    "duration": 203,
    "start_time": "2023-04-15T15:35:50.156Z"
   },
   {
    "duration": 10,
    "start_time": "2023-04-15T15:35:50.361Z"
   },
   {
    "duration": 381,
    "start_time": "2023-04-15T15:35:50.372Z"
   },
   {
    "duration": 1706,
    "start_time": "2023-04-15T15:35:50.755Z"
   },
   {
    "duration": 0,
    "start_time": "2023-04-15T15:35:52.462Z"
   },
   {
    "duration": 0,
    "start_time": "2023-04-15T15:35:52.464Z"
   },
   {
    "duration": 0,
    "start_time": "2023-04-15T15:35:52.465Z"
   },
   {
    "duration": 0,
    "start_time": "2023-04-15T15:35:52.466Z"
   },
   {
    "duration": 0,
    "start_time": "2023-04-15T15:35:52.467Z"
   },
   {
    "duration": 0,
    "start_time": "2023-04-15T15:35:52.468Z"
   },
   {
    "duration": 0,
    "start_time": "2023-04-15T15:35:52.470Z"
   },
   {
    "duration": 0,
    "start_time": "2023-04-15T15:35:52.470Z"
   },
   {
    "duration": 0,
    "start_time": "2023-04-15T15:35:52.471Z"
   },
   {
    "duration": 0,
    "start_time": "2023-04-15T15:35:52.473Z"
   },
   {
    "duration": 243,
    "start_time": "2023-04-15T15:36:33.973Z"
   },
   {
    "duration": 13,
    "start_time": "2023-04-15T15:36:35.255Z"
   },
   {
    "duration": 409,
    "start_time": "2023-04-15T15:36:36.263Z"
   },
   {
    "duration": 1301,
    "start_time": "2023-04-15T15:36:37.569Z"
   },
   {
    "duration": 12,
    "start_time": "2023-04-15T15:36:39.174Z"
   },
   {
    "duration": 1253,
    "start_time": "2023-04-15T15:39:12.205Z"
   },
   {
    "duration": 11,
    "start_time": "2023-04-15T15:39:13.651Z"
   },
   {
    "duration": 1407,
    "start_time": "2023-04-15T15:39:35.084Z"
   },
   {
    "duration": 13,
    "start_time": "2023-04-15T15:39:55.194Z"
   },
   {
    "duration": 1449,
    "start_time": "2023-04-15T15:44:29.550Z"
   },
   {
    "duration": 1314,
    "start_time": "2023-04-15T15:45:29.311Z"
   },
   {
    "duration": 1179,
    "start_time": "2023-04-15T15:45:30.627Z"
   },
   {
    "duration": 11,
    "start_time": "2023-04-15T15:45:31.808Z"
   },
   {
    "duration": 410,
    "start_time": "2023-04-15T15:45:31.821Z"
   },
   {
    "duration": 72,
    "start_time": "2023-04-15T15:45:32.234Z"
   },
   {
    "duration": 63,
    "start_time": "2023-04-15T15:45:32.308Z"
   },
   {
    "duration": 28,
    "start_time": "2023-04-15T15:45:32.372Z"
   },
   {
    "duration": 68,
    "start_time": "2023-04-15T15:45:32.401Z"
   },
   {
    "duration": 90,
    "start_time": "2023-04-15T15:45:32.471Z"
   },
   {
    "duration": 21,
    "start_time": "2023-04-15T15:45:32.562Z"
   },
   {
    "duration": 159,
    "start_time": "2023-04-15T15:45:32.585Z"
   },
   {
    "duration": 8,
    "start_time": "2023-04-15T15:45:32.745Z"
   },
   {
    "duration": 32,
    "start_time": "2023-04-15T15:45:32.755Z"
   },
   {
    "duration": 74,
    "start_time": "2023-04-15T15:45:32.790Z"
   },
   {
    "duration": 13,
    "start_time": "2023-04-15T15:45:32.866Z"
   },
   {
    "duration": 34,
    "start_time": "2023-04-15T15:45:32.880Z"
   },
   {
    "duration": 56,
    "start_time": "2023-04-15T15:45:32.915Z"
   },
   {
    "duration": 39,
    "start_time": "2023-04-15T15:45:32.972Z"
   },
   {
    "duration": 91,
    "start_time": "2023-04-15T15:45:33.013Z"
   },
   {
    "duration": 33,
    "start_time": "2023-04-15T15:45:33.106Z"
   },
   {
    "duration": 44,
    "start_time": "2023-04-15T15:45:33.140Z"
   },
   {
    "duration": 20,
    "start_time": "2023-04-15T15:45:33.186Z"
   },
   {
    "duration": 346,
    "start_time": "2023-04-15T15:45:33.208Z"
   },
   {
    "duration": 5,
    "start_time": "2023-04-15T15:45:33.557Z"
   },
   {
    "duration": 12,
    "start_time": "2023-04-15T15:45:33.563Z"
   },
   {
    "duration": 13,
    "start_time": "2023-04-15T15:45:33.577Z"
   },
   {
    "duration": 9,
    "start_time": "2023-04-15T15:45:33.592Z"
   },
   {
    "duration": 194,
    "start_time": "2023-04-15T15:45:33.602Z"
   },
   {
    "duration": 77,
    "start_time": "2023-04-15T15:45:33.798Z"
   },
   {
    "duration": 5,
    "start_time": "2023-04-15T15:45:33.877Z"
   },
   {
    "duration": 445,
    "start_time": "2023-04-15T15:45:33.883Z"
   },
   {
    "duration": 4,
    "start_time": "2023-04-15T15:45:34.330Z"
   },
   {
    "duration": 44,
    "start_time": "2023-04-15T15:45:34.335Z"
   },
   {
    "duration": 261,
    "start_time": "2023-04-15T15:45:34.381Z"
   },
   {
    "duration": 52,
    "start_time": "2023-04-15T15:45:34.644Z"
   },
   {
    "duration": 127,
    "start_time": "2023-04-15T15:45:34.698Z"
   },
   {
    "duration": 27,
    "start_time": "2023-04-15T15:45:34.827Z"
   },
   {
    "duration": 26,
    "start_time": "2023-04-15T15:45:34.863Z"
   },
   {
    "duration": 4,
    "start_time": "2023-04-15T15:45:34.891Z"
   },
   {
    "duration": 57,
    "start_time": "2023-04-15T15:45:34.896Z"
   },
   {
    "duration": 200,
    "start_time": "2023-04-15T15:45:34.956Z"
   },
   {
    "duration": 12,
    "start_time": "2023-04-15T15:45:35.157Z"
   },
   {
    "duration": 163,
    "start_time": "2023-04-15T15:45:35.170Z"
   },
   {
    "duration": 0,
    "start_time": "2023-04-15T15:45:35.340Z"
   },
   {
    "duration": 0,
    "start_time": "2023-04-15T15:45:35.340Z"
   },
   {
    "duration": 0,
    "start_time": "2023-04-15T15:45:35.341Z"
   },
   {
    "duration": 0,
    "start_time": "2023-04-15T15:45:35.342Z"
   },
   {
    "duration": 0,
    "start_time": "2023-04-15T15:45:35.342Z"
   },
   {
    "duration": 0,
    "start_time": "2023-04-15T15:45:35.343Z"
   },
   {
    "duration": 0,
    "start_time": "2023-04-15T15:45:35.343Z"
   },
   {
    "duration": 0,
    "start_time": "2023-04-15T15:45:35.344Z"
   },
   {
    "duration": 0,
    "start_time": "2023-04-15T15:45:35.345Z"
   },
   {
    "duration": 0,
    "start_time": "2023-04-15T15:45:35.345Z"
   },
   {
    "duration": 11,
    "start_time": "2023-04-15T15:46:26.093Z"
   },
   {
    "duration": 1292,
    "start_time": "2023-04-15T15:46:34.965Z"
   },
   {
    "duration": 1620,
    "start_time": "2023-04-15T15:46:36.259Z"
   },
   {
    "duration": 13,
    "start_time": "2023-04-15T15:46:37.880Z"
   },
   {
    "duration": 405,
    "start_time": "2023-04-15T15:46:37.895Z"
   },
   {
    "duration": 74,
    "start_time": "2023-04-15T15:46:38.302Z"
   },
   {
    "duration": 8,
    "start_time": "2023-04-15T15:46:38.378Z"
   },
   {
    "duration": 9,
    "start_time": "2023-04-15T15:46:38.388Z"
   },
   {
    "duration": 75,
    "start_time": "2023-04-15T15:46:38.399Z"
   },
   {
    "duration": 65,
    "start_time": "2023-04-15T15:46:38.475Z"
   },
   {
    "duration": 26,
    "start_time": "2023-04-15T15:46:38.544Z"
   },
   {
    "duration": 153,
    "start_time": "2023-04-15T15:46:38.572Z"
   },
   {
    "duration": 16,
    "start_time": "2023-04-15T15:46:38.727Z"
   },
   {
    "duration": 31,
    "start_time": "2023-04-15T15:46:38.750Z"
   },
   {
    "duration": 91,
    "start_time": "2023-04-15T15:46:38.783Z"
   },
   {
    "duration": 14,
    "start_time": "2023-04-15T15:46:38.876Z"
   },
   {
    "duration": 5,
    "start_time": "2023-04-15T15:46:38.892Z"
   },
   {
    "duration": 18,
    "start_time": "2023-04-15T15:46:38.899Z"
   },
   {
    "duration": 43,
    "start_time": "2023-04-15T15:46:38.918Z"
   },
   {
    "duration": 35,
    "start_time": "2023-04-15T15:46:38.963Z"
   },
   {
    "duration": 45,
    "start_time": "2023-04-15T15:46:39.000Z"
   },
   {
    "duration": 23,
    "start_time": "2023-04-15T15:46:39.049Z"
   },
   {
    "duration": 14,
    "start_time": "2023-04-15T15:46:39.074Z"
   },
   {
    "duration": 325,
    "start_time": "2023-04-15T15:46:39.090Z"
   },
   {
    "duration": 3,
    "start_time": "2023-04-15T15:46:39.417Z"
   },
   {
    "duration": 67,
    "start_time": "2023-04-15T15:46:39.423Z"
   },
   {
    "duration": 11,
    "start_time": "2023-04-15T15:46:39.492Z"
   },
   {
    "duration": 18,
    "start_time": "2023-04-15T15:46:39.505Z"
   },
   {
    "duration": 218,
    "start_time": "2023-04-15T15:46:39.527Z"
   },
   {
    "duration": 72,
    "start_time": "2023-04-15T15:46:39.753Z"
   },
   {
    "duration": 5,
    "start_time": "2023-04-15T15:46:39.827Z"
   },
   {
    "duration": 453,
    "start_time": "2023-04-15T15:46:39.840Z"
   },
   {
    "duration": 7,
    "start_time": "2023-04-15T15:46:40.295Z"
   },
   {
    "duration": 40,
    "start_time": "2023-04-15T15:46:40.304Z"
   },
   {
    "duration": 277,
    "start_time": "2023-04-15T15:46:40.348Z"
   },
   {
    "duration": 67,
    "start_time": "2023-04-15T15:46:40.626Z"
   },
   {
    "duration": 178,
    "start_time": "2023-04-15T15:46:40.695Z"
   },
   {
    "duration": 16,
    "start_time": "2023-04-15T15:46:40.875Z"
   },
   {
    "duration": 43,
    "start_time": "2023-04-15T15:46:40.893Z"
   },
   {
    "duration": 9,
    "start_time": "2023-04-15T15:46:40.938Z"
   },
   {
    "duration": 76,
    "start_time": "2023-04-15T15:46:40.949Z"
   },
   {
    "duration": 245,
    "start_time": "2023-04-15T15:46:41.027Z"
   },
   {
    "duration": 12,
    "start_time": "2023-04-15T15:46:41.285Z"
   },
   {
    "duration": 198,
    "start_time": "2023-04-15T15:46:41.299Z"
   },
   {
    "duration": 0,
    "start_time": "2023-04-15T15:46:41.499Z"
   },
   {
    "duration": 0,
    "start_time": "2023-04-15T15:46:41.500Z"
   },
   {
    "duration": 0,
    "start_time": "2023-04-15T15:46:41.502Z"
   },
   {
    "duration": 0,
    "start_time": "2023-04-15T15:46:41.503Z"
   },
   {
    "duration": 0,
    "start_time": "2023-04-15T15:46:41.505Z"
   },
   {
    "duration": 0,
    "start_time": "2023-04-15T15:46:41.507Z"
   },
   {
    "duration": 0,
    "start_time": "2023-04-15T15:46:41.508Z"
   },
   {
    "duration": 0,
    "start_time": "2023-04-15T15:46:41.509Z"
   },
   {
    "duration": 0,
    "start_time": "2023-04-15T15:46:41.510Z"
   },
   {
    "duration": 0,
    "start_time": "2023-04-15T15:46:41.512Z"
   },
   {
    "duration": 0,
    "start_time": "2023-04-15T15:46:41.514Z"
   },
   {
    "duration": 1363,
    "start_time": "2023-04-15T15:49:46.668Z"
   },
   {
    "duration": 1156,
    "start_time": "2023-04-15T15:49:48.033Z"
   },
   {
    "duration": 14,
    "start_time": "2023-04-15T15:49:49.191Z"
   },
   {
    "duration": 387,
    "start_time": "2023-04-15T15:49:49.206Z"
   },
   {
    "duration": 84,
    "start_time": "2023-04-15T15:49:49.595Z"
   },
   {
    "duration": 30,
    "start_time": "2023-04-15T15:49:49.680Z"
   },
   {
    "duration": 38,
    "start_time": "2023-04-15T15:49:49.712Z"
   },
   {
    "duration": 44,
    "start_time": "2023-04-15T15:49:49.757Z"
   },
   {
    "duration": 61,
    "start_time": "2023-04-15T15:49:49.803Z"
   },
   {
    "duration": 18,
    "start_time": "2023-04-15T15:49:49.867Z"
   },
   {
    "duration": 128,
    "start_time": "2023-04-15T15:49:49.886Z"
   },
   {
    "duration": 19,
    "start_time": "2023-04-15T15:49:50.017Z"
   },
   {
    "duration": 40,
    "start_time": "2023-04-15T15:49:50.038Z"
   },
   {
    "duration": 83,
    "start_time": "2023-04-15T15:49:50.083Z"
   },
   {
    "duration": 16,
    "start_time": "2023-04-15T15:49:50.167Z"
   },
   {
    "duration": 5,
    "start_time": "2023-04-15T15:49:50.185Z"
   },
   {
    "duration": 34,
    "start_time": "2023-04-15T15:49:50.192Z"
   },
   {
    "duration": 33,
    "start_time": "2023-04-15T15:49:50.228Z"
   },
   {
    "duration": 23,
    "start_time": "2023-04-15T15:49:50.263Z"
   },
   {
    "duration": 27,
    "start_time": "2023-04-15T15:49:50.287Z"
   },
   {
    "duration": 14,
    "start_time": "2023-04-15T15:49:50.315Z"
   },
   {
    "duration": 17,
    "start_time": "2023-04-15T15:49:50.330Z"
   },
   {
    "duration": 346,
    "start_time": "2023-04-15T15:49:50.349Z"
   },
   {
    "duration": 3,
    "start_time": "2023-04-15T15:49:50.697Z"
   },
   {
    "duration": 27,
    "start_time": "2023-04-15T15:49:50.701Z"
   },
   {
    "duration": 52,
    "start_time": "2023-04-15T15:49:50.729Z"
   },
   {
    "duration": 22,
    "start_time": "2023-04-15T15:49:50.783Z"
   },
   {
    "duration": 211,
    "start_time": "2023-04-15T15:49:50.807Z"
   },
   {
    "duration": 75,
    "start_time": "2023-04-15T15:49:51.020Z"
   },
   {
    "duration": 6,
    "start_time": "2023-04-15T15:49:51.096Z"
   },
   {
    "duration": 406,
    "start_time": "2023-04-15T15:49:51.103Z"
   },
   {
    "duration": 5,
    "start_time": "2023-04-15T15:49:51.510Z"
   },
   {
    "duration": 22,
    "start_time": "2023-04-15T15:49:51.516Z"
   },
   {
    "duration": 340,
    "start_time": "2023-04-15T15:49:51.539Z"
   },
   {
    "duration": 63,
    "start_time": "2023-04-15T15:49:51.881Z"
   },
   {
    "duration": 125,
    "start_time": "2023-04-15T15:49:51.949Z"
   },
   {
    "duration": 22,
    "start_time": "2023-04-15T15:49:52.076Z"
   },
   {
    "duration": 43,
    "start_time": "2023-04-15T15:49:52.099Z"
   },
   {
    "duration": 22,
    "start_time": "2023-04-15T15:49:52.146Z"
   },
   {
    "duration": 65,
    "start_time": "2023-04-15T15:49:52.170Z"
   },
   {
    "duration": 202,
    "start_time": "2023-04-15T15:49:52.248Z"
   },
   {
    "duration": 13,
    "start_time": "2023-04-15T15:49:52.452Z"
   },
   {
    "duration": 364,
    "start_time": "2023-04-15T15:49:52.466Z"
   },
   {
    "duration": 2195,
    "start_time": "2023-04-15T15:49:52.832Z"
   },
   {
    "duration": 0,
    "start_time": "2023-04-15T15:49:55.028Z"
   },
   {
    "duration": 0,
    "start_time": "2023-04-15T15:49:55.030Z"
   },
   {
    "duration": 0,
    "start_time": "2023-04-15T15:49:55.031Z"
   },
   {
    "duration": 0,
    "start_time": "2023-04-15T15:49:55.032Z"
   },
   {
    "duration": 0,
    "start_time": "2023-04-15T15:49:55.045Z"
   },
   {
    "duration": 0,
    "start_time": "2023-04-15T15:49:55.045Z"
   },
   {
    "duration": 0,
    "start_time": "2023-04-15T15:49:55.046Z"
   },
   {
    "duration": 0,
    "start_time": "2023-04-15T15:49:55.055Z"
   },
   {
    "duration": 0,
    "start_time": "2023-04-15T15:49:55.056Z"
   },
   {
    "duration": 0,
    "start_time": "2023-04-15T15:49:55.057Z"
   },
   {
    "duration": 8,
    "start_time": "2023-04-15T15:52:03.300Z"
   },
   {
    "duration": 1479,
    "start_time": "2023-04-15T15:52:14.124Z"
   },
   {
    "duration": 1401,
    "start_time": "2023-04-15T15:52:15.605Z"
   },
   {
    "duration": 16,
    "start_time": "2023-04-15T15:52:17.008Z"
   },
   {
    "duration": 520,
    "start_time": "2023-04-15T15:52:17.027Z"
   },
   {
    "duration": 75,
    "start_time": "2023-04-15T15:52:17.550Z"
   },
   {
    "duration": 13,
    "start_time": "2023-04-15T15:52:17.626Z"
   },
   {
    "duration": 51,
    "start_time": "2023-04-15T15:52:17.640Z"
   },
   {
    "duration": 40,
    "start_time": "2023-04-15T15:52:17.693Z"
   },
   {
    "duration": 81,
    "start_time": "2023-04-15T15:52:17.741Z"
   },
   {
    "duration": 33,
    "start_time": "2023-04-15T15:52:17.824Z"
   },
   {
    "duration": 164,
    "start_time": "2023-04-15T15:52:17.861Z"
   },
   {
    "duration": 7,
    "start_time": "2023-04-15T15:52:18.027Z"
   },
   {
    "duration": 52,
    "start_time": "2023-04-15T15:52:18.036Z"
   },
   {
    "duration": 86,
    "start_time": "2023-04-15T15:52:18.090Z"
   },
   {
    "duration": 11,
    "start_time": "2023-04-15T15:52:18.181Z"
   },
   {
    "duration": 6,
    "start_time": "2023-04-15T15:52:18.193Z"
   },
   {
    "duration": 13,
    "start_time": "2023-04-15T15:52:18.200Z"
   },
   {
    "duration": 11,
    "start_time": "2023-04-15T15:52:18.214Z"
   },
   {
    "duration": 30,
    "start_time": "2023-04-15T15:52:18.227Z"
   },
   {
    "duration": 52,
    "start_time": "2023-04-15T15:52:18.269Z"
   },
   {
    "duration": 33,
    "start_time": "2023-04-15T15:52:18.323Z"
   },
   {
    "duration": 25,
    "start_time": "2023-04-15T15:52:18.365Z"
   },
   {
    "duration": 361,
    "start_time": "2023-04-15T15:52:18.392Z"
   },
   {
    "duration": 3,
    "start_time": "2023-04-15T15:52:18.755Z"
   },
   {
    "duration": 34,
    "start_time": "2023-04-15T15:52:18.759Z"
   },
   {
    "duration": 10,
    "start_time": "2023-04-15T15:52:18.794Z"
   },
   {
    "duration": 12,
    "start_time": "2023-04-15T15:52:18.805Z"
   },
   {
    "duration": 190,
    "start_time": "2023-04-15T15:52:18.821Z"
   },
   {
    "duration": 80,
    "start_time": "2023-04-15T15:52:19.013Z"
   },
   {
    "duration": 16,
    "start_time": "2023-04-15T15:52:19.095Z"
   },
   {
    "duration": 454,
    "start_time": "2023-04-15T15:52:19.113Z"
   },
   {
    "duration": 8,
    "start_time": "2023-04-15T15:52:19.569Z"
   },
   {
    "duration": 20,
    "start_time": "2023-04-15T15:52:19.578Z"
   },
   {
    "duration": 384,
    "start_time": "2023-04-15T15:52:19.599Z"
   },
   {
    "duration": 82,
    "start_time": "2023-04-15T15:52:19.987Z"
   },
   {
    "duration": 164,
    "start_time": "2023-04-15T15:52:20.071Z"
   },
   {
    "duration": 21,
    "start_time": "2023-04-15T15:52:20.239Z"
   },
   {
    "duration": 52,
    "start_time": "2023-04-15T15:52:20.264Z"
   },
   {
    "duration": 5,
    "start_time": "2023-04-15T15:52:20.318Z"
   },
   {
    "duration": 73,
    "start_time": "2023-04-15T15:52:20.325Z"
   },
   {
    "duration": 243,
    "start_time": "2023-04-15T15:52:20.400Z"
   },
   {
    "duration": 15,
    "start_time": "2023-04-15T15:52:20.645Z"
   },
   {
    "duration": 463,
    "start_time": "2023-04-15T15:52:20.661Z"
   },
   {
    "duration": 2089,
    "start_time": "2023-04-15T15:52:21.126Z"
   },
   {
    "duration": 0,
    "start_time": "2023-04-15T15:52:23.218Z"
   },
   {
    "duration": 0,
    "start_time": "2023-04-15T15:52:23.219Z"
   },
   {
    "duration": 0,
    "start_time": "2023-04-15T15:52:23.221Z"
   },
   {
    "duration": 0,
    "start_time": "2023-04-15T15:52:23.222Z"
   },
   {
    "duration": 0,
    "start_time": "2023-04-15T15:52:23.223Z"
   },
   {
    "duration": 0,
    "start_time": "2023-04-15T15:52:23.225Z"
   },
   {
    "duration": 0,
    "start_time": "2023-04-15T15:52:23.226Z"
   },
   {
    "duration": 0,
    "start_time": "2023-04-15T15:52:23.227Z"
   },
   {
    "duration": 0,
    "start_time": "2023-04-15T15:52:23.229Z"
   },
   {
    "duration": 0,
    "start_time": "2023-04-15T15:52:23.231Z"
   },
   {
    "duration": 1701,
    "start_time": "2023-04-15T15:54:18.059Z"
   },
   {
    "duration": 0,
    "start_time": "2023-04-15T15:54:19.765Z"
   },
   {
    "duration": 12,
    "start_time": "2023-04-15T15:54:21.177Z"
   },
   {
    "duration": 15,
    "start_time": "2023-04-15T15:54:22.377Z"
   },
   {
    "duration": 157,
    "start_time": "2023-04-15T15:54:28.381Z"
   },
   {
    "duration": 10,
    "start_time": "2023-04-15T15:54:30.701Z"
   },
   {
    "duration": 13,
    "start_time": "2023-04-15T15:54:31.955Z"
   },
   {
    "duration": 26,
    "start_time": "2023-04-15T15:54:32.881Z"
   },
   {
    "duration": 10,
    "start_time": "2023-04-15T15:54:35.104Z"
   },
   {
    "duration": 28,
    "start_time": "2023-04-15T15:54:36.932Z"
   },
   {
    "duration": 20,
    "start_time": "2023-04-15T15:54:37.830Z"
   },
   {
    "duration": 274,
    "start_time": "2023-04-15T15:55:04.492Z"
   },
   {
    "duration": 10,
    "start_time": "2023-04-15T15:55:09.993Z"
   },
   {
    "duration": 460,
    "start_time": "2023-04-15T15:55:12.394Z"
   },
   {
    "duration": 29,
    "start_time": "2023-04-15T15:55:40.984Z"
   },
   {
    "duration": 42,
    "start_time": "2023-04-15T15:55:52.757Z"
   },
   {
    "duration": 2154,
    "start_time": "2023-04-15T15:58:37.554Z"
   },
   {
    "duration": 17,
    "start_time": "2023-04-15T15:58:40.182Z"
   },
   {
    "duration": 37,
    "start_time": "2023-04-15T15:59:11.322Z"
   },
   {
    "duration": 15,
    "start_time": "2023-04-15T15:59:17.286Z"
   },
   {
    "duration": 11,
    "start_time": "2023-04-15T15:59:19.718Z"
   },
   {
    "duration": 17,
    "start_time": "2023-04-15T15:59:22.471Z"
   },
   {
    "duration": 69,
    "start_time": "2023-04-15T16:00:50.154Z"
   },
   {
    "duration": 5,
    "start_time": "2023-04-15T16:00:58.612Z"
   },
   {
    "duration": 2150,
    "start_time": "2023-04-15T16:01:02.882Z"
   },
   {
    "duration": 13,
    "start_time": "2023-04-15T16:01:18.915Z"
   },
   {
    "duration": 1445,
    "start_time": "2023-04-15T16:02:52.386Z"
   },
   {
    "duration": 1385,
    "start_time": "2023-04-15T16:02:53.834Z"
   },
   {
    "duration": 14,
    "start_time": "2023-04-15T16:02:55.221Z"
   },
   {
    "duration": 491,
    "start_time": "2023-04-15T16:02:55.237Z"
   },
   {
    "duration": 94,
    "start_time": "2023-04-15T16:02:55.731Z"
   },
   {
    "duration": 5,
    "start_time": "2023-04-15T16:02:55.827Z"
   },
   {
    "duration": 63,
    "start_time": "2023-04-15T16:02:55.833Z"
   },
   {
    "duration": 57,
    "start_time": "2023-04-15T16:02:55.898Z"
   },
   {
    "duration": 97,
    "start_time": "2023-04-15T16:02:55.958Z"
   },
   {
    "duration": 39,
    "start_time": "2023-04-15T16:02:56.057Z"
   },
   {
    "duration": 195,
    "start_time": "2023-04-15T16:02:56.098Z"
   },
   {
    "duration": 7,
    "start_time": "2023-04-15T16:02:56.295Z"
   },
   {
    "duration": 7,
    "start_time": "2023-04-15T16:02:56.304Z"
   },
   {
    "duration": 84,
    "start_time": "2023-04-15T16:02:56.314Z"
   },
   {
    "duration": 13,
    "start_time": "2023-04-15T16:02:56.400Z"
   },
   {
    "duration": 4,
    "start_time": "2023-04-15T16:02:56.414Z"
   },
   {
    "duration": 23,
    "start_time": "2023-04-15T16:02:56.419Z"
   },
   {
    "duration": 68,
    "start_time": "2023-04-15T16:02:56.444Z"
   },
   {
    "duration": 25,
    "start_time": "2023-04-15T16:02:56.514Z"
   },
   {
    "duration": 57,
    "start_time": "2023-04-15T16:02:56.541Z"
   },
   {
    "duration": 38,
    "start_time": "2023-04-15T16:02:56.600Z"
   },
   {
    "duration": 25,
    "start_time": "2023-04-15T16:02:56.649Z"
   },
   {
    "duration": 510,
    "start_time": "2023-04-15T16:02:56.678Z"
   },
   {
    "duration": 2,
    "start_time": "2023-04-15T16:02:57.190Z"
   },
   {
    "duration": 12,
    "start_time": "2023-04-15T16:02:57.194Z"
   },
   {
    "duration": 6,
    "start_time": "2023-04-15T16:02:57.207Z"
   },
   {
    "duration": 10,
    "start_time": "2023-04-15T16:02:57.214Z"
   },
   {
    "duration": 248,
    "start_time": "2023-04-15T16:02:57.225Z"
   },
   {
    "duration": 87,
    "start_time": "2023-04-15T16:02:57.479Z"
   },
   {
    "duration": 8,
    "start_time": "2023-04-15T16:02:57.568Z"
   },
   {
    "duration": 513,
    "start_time": "2023-04-15T16:02:57.577Z"
   },
   {
    "duration": 5,
    "start_time": "2023-04-15T16:02:58.093Z"
   },
   {
    "duration": 74,
    "start_time": "2023-04-15T16:02:58.099Z"
   },
   {
    "duration": 291,
    "start_time": "2023-04-15T16:02:58.176Z"
   },
   {
    "duration": 51,
    "start_time": "2023-04-15T16:02:58.476Z"
   },
   {
    "duration": 138,
    "start_time": "2023-04-15T16:02:58.529Z"
   },
   {
    "duration": 24,
    "start_time": "2023-04-15T16:02:58.670Z"
   },
   {
    "duration": 19,
    "start_time": "2023-04-15T16:02:58.696Z"
   },
   {
    "duration": 4,
    "start_time": "2023-04-15T16:02:58.716Z"
   },
   {
    "duration": 79,
    "start_time": "2023-04-15T16:02:58.722Z"
   },
   {
    "duration": 220,
    "start_time": "2023-04-15T16:02:58.804Z"
   },
   {
    "duration": 11,
    "start_time": "2023-04-15T16:02:59.025Z"
   },
   {
    "duration": 446,
    "start_time": "2023-04-15T16:02:59.037Z"
   },
   {
    "duration": 26,
    "start_time": "2023-04-15T16:02:59.487Z"
   },
   {
    "duration": 71,
    "start_time": "2023-04-15T16:02:59.515Z"
   },
   {
    "duration": 37,
    "start_time": "2023-04-15T16:02:59.589Z"
   },
   {
    "duration": 4,
    "start_time": "2023-04-15T16:02:59.627Z"
   },
   {
    "duration": 67,
    "start_time": "2023-04-15T16:02:59.632Z"
   },
   {
    "duration": 142,
    "start_time": "2023-04-15T16:02:59.700Z"
   },
   {
    "duration": 13,
    "start_time": "2023-04-15T16:02:59.843Z"
   },
   {
    "duration": 40,
    "start_time": "2023-04-15T16:02:59.857Z"
   },
   {
    "duration": 27,
    "start_time": "2023-04-15T16:02:59.898Z"
   },
   {
    "duration": 42,
    "start_time": "2023-04-15T16:02:59.926Z"
   },
   {
    "duration": 30,
    "start_time": "2023-04-15T16:02:59.972Z"
   },
   {
    "duration": 95,
    "start_time": "2023-04-15T16:03:00.003Z"
   },
   {
    "duration": 216,
    "start_time": "2023-04-15T16:03:44.760Z"
   },
   {
    "duration": 11,
    "start_time": "2023-04-15T16:03:45.820Z"
   },
   {
    "duration": 406,
    "start_time": "2023-04-15T16:03:46.811Z"
   },
   {
    "duration": 55,
    "start_time": "2023-04-15T16:03:48.127Z"
   },
   {
    "duration": 420,
    "start_time": "2023-04-15T16:04:48.211Z"
   },
   {
    "duration": 227,
    "start_time": "2023-04-15T16:04:48.901Z"
   },
   {
    "duration": 3689,
    "start_time": "2023-04-15T16:04:49.571Z"
   },
   {
    "duration": 13,
    "start_time": "2023-04-15T16:04:53.262Z"
   },
   {
    "duration": 13,
    "start_time": "2023-04-15T16:07:32.311Z"
   },
   {
    "duration": 11,
    "start_time": "2023-04-15T16:07:53.165Z"
   },
   {
    "duration": 11,
    "start_time": "2023-04-15T16:08:26.001Z"
   },
   {
    "duration": 116,
    "start_time": "2023-04-15T16:09:04.613Z"
   },
   {
    "duration": 126,
    "start_time": "2023-04-15T16:09:26.802Z"
   },
   {
    "duration": 12,
    "start_time": "2023-04-15T16:09:46.079Z"
   },
   {
    "duration": 2921,
    "start_time": "2023-04-15T16:09:59.424Z"
   },
   {
    "duration": 19,
    "start_time": "2023-04-15T16:10:02.350Z"
   },
   {
    "duration": 143,
    "start_time": "2023-04-15T16:10:38.233Z"
   },
   {
    "duration": 97,
    "start_time": "2023-04-15T16:10:38.821Z"
   },
   {
    "duration": 167,
    "start_time": "2023-04-15T16:10:40.127Z"
   },
   {
    "duration": 8,
    "start_time": "2023-04-15T16:10:43.061Z"
   },
   {
    "duration": 1680,
    "start_time": "2023-04-15T16:13:41.291Z"
   },
   {
    "duration": 0,
    "start_time": "2023-04-15T16:13:42.973Z"
   },
   {
    "duration": 93,
    "start_time": "2023-04-15T16:13:56.021Z"
   },
   {
    "duration": 16,
    "start_time": "2023-04-15T16:14:01.462Z"
   },
   {
    "duration": 152,
    "start_time": "2023-04-15T16:14:09.064Z"
   },
   {
    "duration": 4,
    "start_time": "2023-04-15T16:14:14.362Z"
   },
   {
    "duration": 1599,
    "start_time": "2023-04-15T16:14:15.830Z"
   },
   {
    "duration": 19,
    "start_time": "2023-04-15T16:14:22.971Z"
   },
   {
    "duration": 1429,
    "start_time": "2023-04-15T16:14:43.855Z"
   },
   {
    "duration": 1333,
    "start_time": "2023-04-15T16:14:45.286Z"
   },
   {
    "duration": 16,
    "start_time": "2023-04-15T16:14:46.620Z"
   },
   {
    "duration": 516,
    "start_time": "2023-04-15T16:14:46.637Z"
   },
   {
    "duration": 112,
    "start_time": "2023-04-15T16:14:47.157Z"
   },
   {
    "duration": 26,
    "start_time": "2023-04-15T16:14:47.271Z"
   },
   {
    "duration": 21,
    "start_time": "2023-04-15T16:14:47.299Z"
   },
   {
    "duration": 67,
    "start_time": "2023-04-15T16:14:47.322Z"
   },
   {
    "duration": 55,
    "start_time": "2023-04-15T16:14:47.390Z"
   },
   {
    "duration": 27,
    "start_time": "2023-04-15T16:14:47.447Z"
   },
   {
    "duration": 137,
    "start_time": "2023-04-15T16:14:47.476Z"
   },
   {
    "duration": 7,
    "start_time": "2023-04-15T16:14:47.615Z"
   },
   {
    "duration": 14,
    "start_time": "2023-04-15T16:14:47.623Z"
   },
   {
    "duration": 86,
    "start_time": "2023-04-15T16:14:47.641Z"
   },
   {
    "duration": 16,
    "start_time": "2023-04-15T16:14:47.729Z"
   },
   {
    "duration": 29,
    "start_time": "2023-04-15T16:14:47.752Z"
   },
   {
    "duration": 17,
    "start_time": "2023-04-15T16:14:47.783Z"
   },
   {
    "duration": 15,
    "start_time": "2023-04-15T16:14:47.802Z"
   },
   {
    "duration": 61,
    "start_time": "2023-04-15T16:14:47.818Z"
   },
   {
    "duration": 30,
    "start_time": "2023-04-15T16:14:47.882Z"
   },
   {
    "duration": 15,
    "start_time": "2023-04-15T16:14:47.914Z"
   },
   {
    "duration": 20,
    "start_time": "2023-04-15T16:14:47.931Z"
   },
   {
    "duration": 424,
    "start_time": "2023-04-15T16:14:47.956Z"
   },
   {
    "duration": 2,
    "start_time": "2023-04-15T16:14:48.382Z"
   },
   {
    "duration": 9,
    "start_time": "2023-04-15T16:14:48.386Z"
   },
   {
    "duration": 9,
    "start_time": "2023-04-15T16:14:48.397Z"
   },
   {
    "duration": 13,
    "start_time": "2023-04-15T16:14:48.407Z"
   },
   {
    "duration": 194,
    "start_time": "2023-04-15T16:14:48.421Z"
   },
   {
    "duration": 81,
    "start_time": "2023-04-15T16:14:48.618Z"
   },
   {
    "duration": 5,
    "start_time": "2023-04-15T16:14:48.701Z"
   },
   {
    "duration": 480,
    "start_time": "2023-04-15T16:14:48.708Z"
   },
   {
    "duration": 4,
    "start_time": "2023-04-15T16:14:49.190Z"
   },
   {
    "duration": 19,
    "start_time": "2023-04-15T16:14:49.196Z"
   },
   {
    "duration": 311,
    "start_time": "2023-04-15T16:14:49.216Z"
   },
   {
    "duration": 70,
    "start_time": "2023-04-15T16:14:49.529Z"
   },
   {
    "duration": 126,
    "start_time": "2023-04-15T16:14:49.602Z"
   },
   {
    "duration": 21,
    "start_time": "2023-04-15T16:14:49.733Z"
   },
   {
    "duration": 39,
    "start_time": "2023-04-15T16:14:49.760Z"
   },
   {
    "duration": 3,
    "start_time": "2023-04-15T16:14:49.801Z"
   },
   {
    "duration": 69,
    "start_time": "2023-04-15T16:14:49.805Z"
   },
   {
    "duration": 230,
    "start_time": "2023-04-15T16:14:49.878Z"
   },
   {
    "duration": 15,
    "start_time": "2023-04-15T16:14:50.110Z"
   },
   {
    "duration": 25,
    "start_time": "2023-04-15T16:14:50.127Z"
   },
   {
    "duration": 38,
    "start_time": "2023-04-15T16:14:50.154Z"
   },
   {
    "duration": 173,
    "start_time": "2023-04-15T16:14:50.194Z"
   },
   {
    "duration": 0,
    "start_time": "2023-04-15T16:14:50.371Z"
   },
   {
    "duration": 0,
    "start_time": "2023-04-15T16:14:50.375Z"
   },
   {
    "duration": 0,
    "start_time": "2023-04-15T16:14:50.376Z"
   },
   {
    "duration": 0,
    "start_time": "2023-04-15T16:14:50.377Z"
   },
   {
    "duration": 0,
    "start_time": "2023-04-15T16:14:50.378Z"
   },
   {
    "duration": 0,
    "start_time": "2023-04-15T16:14:50.379Z"
   },
   {
    "duration": 0,
    "start_time": "2023-04-15T16:14:50.380Z"
   },
   {
    "duration": 0,
    "start_time": "2023-04-15T16:14:50.381Z"
   },
   {
    "duration": 0,
    "start_time": "2023-04-15T16:14:50.382Z"
   },
   {
    "duration": 0,
    "start_time": "2023-04-15T16:14:50.383Z"
   },
   {
    "duration": 0,
    "start_time": "2023-04-15T16:14:50.384Z"
   },
   {
    "duration": 11,
    "start_time": "2023-04-15T16:15:08.560Z"
   },
   {
    "duration": 20,
    "start_time": "2023-04-15T16:15:09.257Z"
   },
   {
    "duration": 4,
    "start_time": "2023-04-15T16:15:09.570Z"
   },
   {
    "duration": 15,
    "start_time": "2023-04-15T16:15:10.093Z"
   },
   {
    "duration": 1299,
    "start_time": "2023-04-15T16:16:50.399Z"
   },
   {
    "duration": 1308,
    "start_time": "2023-04-15T16:16:51.700Z"
   },
   {
    "duration": 13,
    "start_time": "2023-04-15T16:16:53.010Z"
   },
   {
    "duration": 370,
    "start_time": "2023-04-15T16:16:53.025Z"
   },
   {
    "duration": 72,
    "start_time": "2023-04-15T16:16:53.398Z"
   },
   {
    "duration": 7,
    "start_time": "2023-04-15T16:16:53.471Z"
   },
   {
    "duration": 13,
    "start_time": "2023-04-15T16:16:53.479Z"
   },
   {
    "duration": 55,
    "start_time": "2023-04-15T16:16:53.493Z"
   },
   {
    "duration": 43,
    "start_time": "2023-04-15T16:16:53.550Z"
   },
   {
    "duration": 18,
    "start_time": "2023-04-15T16:16:53.594Z"
   },
   {
    "duration": 127,
    "start_time": "2023-04-15T16:16:53.613Z"
   },
   {
    "duration": 10,
    "start_time": "2023-04-15T16:16:53.741Z"
   },
   {
    "duration": 7,
    "start_time": "2023-04-15T16:16:53.753Z"
   },
   {
    "duration": 50,
    "start_time": "2023-04-15T16:16:53.764Z"
   },
   {
    "duration": 36,
    "start_time": "2023-04-15T16:16:53.816Z"
   },
   {
    "duration": 7,
    "start_time": "2023-04-15T16:16:53.854Z"
   },
   {
    "duration": 13,
    "start_time": "2023-04-15T16:16:53.862Z"
   },
   {
    "duration": 10,
    "start_time": "2023-04-15T16:16:53.876Z"
   },
   {
    "duration": 19,
    "start_time": "2023-04-15T16:16:53.888Z"
   },
   {
    "duration": 49,
    "start_time": "2023-04-15T16:16:53.908Z"
   },
   {
    "duration": 13,
    "start_time": "2023-04-15T16:16:53.959Z"
   },
   {
    "duration": 12,
    "start_time": "2023-04-15T16:16:53.974Z"
   },
   {
    "duration": 336,
    "start_time": "2023-04-15T16:16:53.987Z"
   },
   {
    "duration": 3,
    "start_time": "2023-04-15T16:16:54.325Z"
   },
   {
    "duration": 24,
    "start_time": "2023-04-15T16:16:54.333Z"
   },
   {
    "duration": 13,
    "start_time": "2023-04-15T16:16:54.359Z"
   },
   {
    "duration": 9,
    "start_time": "2023-04-15T16:16:54.374Z"
   },
   {
    "duration": 166,
    "start_time": "2023-04-15T16:16:54.385Z"
   },
   {
    "duration": 54,
    "start_time": "2023-04-15T16:16:54.552Z"
   },
   {
    "duration": 9,
    "start_time": "2023-04-15T16:16:54.608Z"
   },
   {
    "duration": 383,
    "start_time": "2023-04-15T16:16:54.618Z"
   },
   {
    "duration": 4,
    "start_time": "2023-04-15T16:16:55.003Z"
   },
   {
    "duration": 27,
    "start_time": "2023-04-15T16:16:55.009Z"
   },
   {
    "duration": 253,
    "start_time": "2023-04-15T16:16:55.039Z"
   },
   {
    "duration": 57,
    "start_time": "2023-04-15T16:16:55.294Z"
   },
   {
    "duration": 109,
    "start_time": "2023-04-15T16:16:55.352Z"
   },
   {
    "duration": 10,
    "start_time": "2023-04-15T16:16:55.462Z"
   },
   {
    "duration": 19,
    "start_time": "2023-04-15T16:16:55.474Z"
   },
   {
    "duration": 3,
    "start_time": "2023-04-15T16:16:55.495Z"
   },
   {
    "duration": 64,
    "start_time": "2023-04-15T16:16:55.500Z"
   },
   {
    "duration": 207,
    "start_time": "2023-04-15T16:16:55.567Z"
   },
   {
    "duration": 11,
    "start_time": "2023-04-15T16:16:55.776Z"
   },
   {
    "duration": 12,
    "start_time": "2023-04-15T16:16:55.789Z"
   },
   {
    "duration": 13,
    "start_time": "2023-04-15T16:16:55.802Z"
   },
   {
    "duration": 19,
    "start_time": "2023-04-15T16:16:55.817Z"
   },
   {
    "duration": 25,
    "start_time": "2023-04-15T16:16:55.837Z"
   },
   {
    "duration": 124,
    "start_time": "2023-04-15T16:16:55.864Z"
   },
   {
    "duration": 9,
    "start_time": "2023-04-15T16:16:55.990Z"
   },
   {
    "duration": 11,
    "start_time": "2023-04-15T16:16:56.001Z"
   },
   {
    "duration": 45,
    "start_time": "2023-04-15T16:16:56.014Z"
   },
   {
    "duration": 24,
    "start_time": "2023-04-15T16:16:56.061Z"
   },
   {
    "duration": 16,
    "start_time": "2023-04-15T16:16:56.087Z"
   },
   {
    "duration": 13,
    "start_time": "2023-04-15T16:16:56.105Z"
   },
   {
    "duration": 1224,
    "start_time": "2023-04-15T16:18:49.589Z"
   },
   {
    "duration": 1013,
    "start_time": "2023-04-15T16:18:50.815Z"
   },
   {
    "duration": 13,
    "start_time": "2023-04-15T16:18:51.830Z"
   },
   {
    "duration": 329,
    "start_time": "2023-04-15T16:18:51.844Z"
   },
   {
    "duration": 59,
    "start_time": "2023-04-15T16:18:52.175Z"
   },
   {
    "duration": 10,
    "start_time": "2023-04-15T16:18:52.236Z"
   },
   {
    "duration": 8,
    "start_time": "2023-04-15T16:18:52.248Z"
   },
   {
    "duration": 43,
    "start_time": "2023-04-15T16:18:52.257Z"
   },
   {
    "duration": 62,
    "start_time": "2023-04-15T16:18:52.302Z"
   },
   {
    "duration": 19,
    "start_time": "2023-04-15T16:18:52.366Z"
   },
   {
    "duration": 126,
    "start_time": "2023-04-15T16:18:52.387Z"
   },
   {
    "duration": 7,
    "start_time": "2023-04-15T16:18:52.516Z"
   },
   {
    "duration": 5,
    "start_time": "2023-04-15T16:18:52.534Z"
   },
   {
    "duration": 59,
    "start_time": "2023-04-15T16:18:52.541Z"
   },
   {
    "duration": 11,
    "start_time": "2023-04-15T16:18:52.601Z"
   },
   {
    "duration": 22,
    "start_time": "2023-04-15T16:18:52.614Z"
   },
   {
    "duration": 15,
    "start_time": "2023-04-15T16:18:52.637Z"
   },
   {
    "duration": 14,
    "start_time": "2023-04-15T16:18:52.654Z"
   },
   {
    "duration": 22,
    "start_time": "2023-04-15T16:18:52.669Z"
   },
   {
    "duration": 39,
    "start_time": "2023-04-15T16:18:52.694Z"
   },
   {
    "duration": 13,
    "start_time": "2023-04-15T16:18:52.735Z"
   },
   {
    "duration": 23,
    "start_time": "2023-04-15T16:18:52.750Z"
   },
   {
    "duration": 324,
    "start_time": "2023-04-15T16:18:52.775Z"
   },
   {
    "duration": 54,
    "start_time": "2023-04-15T16:18:53.101Z"
   },
   {
    "duration": 5,
    "start_time": "2023-04-15T16:18:53.156Z"
   },
   {
    "duration": 11,
    "start_time": "2023-04-15T16:18:53.163Z"
   },
   {
    "duration": 11,
    "start_time": "2023-04-15T16:18:53.175Z"
   },
   {
    "duration": 209,
    "start_time": "2023-04-15T16:18:53.187Z"
   },
   {
    "duration": 74,
    "start_time": "2023-04-15T16:18:53.398Z"
   },
   {
    "duration": 5,
    "start_time": "2023-04-15T16:18:53.473Z"
   },
   {
    "duration": 418,
    "start_time": "2023-04-15T16:18:53.480Z"
   },
   {
    "duration": 4,
    "start_time": "2023-04-15T16:18:53.899Z"
   },
   {
    "duration": 13,
    "start_time": "2023-04-15T16:18:53.905Z"
   },
   {
    "duration": 249,
    "start_time": "2023-04-15T16:18:53.919Z"
   },
   {
    "duration": 45,
    "start_time": "2023-04-15T16:18:54.170Z"
   },
   {
    "duration": 115,
    "start_time": "2023-04-15T16:18:54.217Z"
   },
   {
    "duration": 11,
    "start_time": "2023-04-15T16:18:54.333Z"
   },
   {
    "duration": 22,
    "start_time": "2023-04-15T16:18:54.345Z"
   },
   {
    "duration": 3,
    "start_time": "2023-04-15T16:18:54.368Z"
   },
   {
    "duration": 127,
    "start_time": "2023-04-15T16:18:54.373Z"
   },
   {
    "duration": 204,
    "start_time": "2023-04-15T16:18:54.504Z"
   },
   {
    "duration": 10,
    "start_time": "2023-04-15T16:18:54.710Z"
   },
   {
    "duration": 16,
    "start_time": "2023-04-15T16:18:54.722Z"
   },
   {
    "duration": 15,
    "start_time": "2023-04-15T16:18:54.740Z"
   },
   {
    "duration": 21,
    "start_time": "2023-04-15T16:18:54.757Z"
   },
   {
    "duration": 16,
    "start_time": "2023-04-15T16:18:54.780Z"
   },
   {
    "duration": 115,
    "start_time": "2023-04-15T16:18:54.797Z"
   },
   {
    "duration": 8,
    "start_time": "2023-04-15T16:18:54.914Z"
   },
   {
    "duration": 14,
    "start_time": "2023-04-15T16:18:54.923Z"
   },
   {
    "duration": 23,
    "start_time": "2023-04-15T16:18:54.939Z"
   },
   {
    "duration": 8,
    "start_time": "2023-04-15T16:18:54.964Z"
   },
   {
    "duration": 14,
    "start_time": "2023-04-15T16:18:54.974Z"
   },
   {
    "duration": 22,
    "start_time": "2023-04-15T16:18:54.989Z"
   },
   {
    "duration": 169,
    "start_time": "2023-04-15T16:26:51.715Z"
   },
   {
    "duration": 106,
    "start_time": "2023-04-15T16:26:53.177Z"
   },
   {
    "duration": 11,
    "start_time": "2023-04-15T16:26:54.410Z"
   },
   {
    "duration": 18,
    "start_time": "2023-04-15T16:26:55.340Z"
   },
   {
    "duration": 4,
    "start_time": "2023-04-15T16:26:56.318Z"
   },
   {
    "duration": 48,
    "start_time": "2023-04-15T16:26:58.095Z"
   },
   {
    "duration": 21,
    "start_time": "2023-04-15T16:27:50.264Z"
   },
   {
    "duration": 34,
    "start_time": "2023-04-15T16:27:57.627Z"
   },
   {
    "duration": 2321,
    "start_time": "2023-04-15T16:28:02.205Z"
   },
   {
    "duration": 1383,
    "start_time": "2023-04-15T16:28:04.528Z"
   },
   {
    "duration": 1284,
    "start_time": "2023-04-15T16:28:16.405Z"
   },
   {
    "duration": 1547,
    "start_time": "2023-04-15T16:28:17.691Z"
   },
   {
    "duration": 11,
    "start_time": "2023-04-15T16:28:19.240Z"
   },
   {
    "duration": 343,
    "start_time": "2023-04-15T16:28:19.252Z"
   },
   {
    "duration": 60,
    "start_time": "2023-04-15T16:28:19.597Z"
   },
   {
    "duration": 5,
    "start_time": "2023-04-15T16:28:19.659Z"
   },
   {
    "duration": 14,
    "start_time": "2023-04-15T16:28:19.665Z"
   },
   {
    "duration": 40,
    "start_time": "2023-04-15T16:28:19.680Z"
   },
   {
    "duration": 46,
    "start_time": "2023-04-15T16:28:19.732Z"
   },
   {
    "duration": 18,
    "start_time": "2023-04-15T16:28:19.779Z"
   },
   {
    "duration": 134,
    "start_time": "2023-04-15T16:28:19.799Z"
   },
   {
    "duration": 7,
    "start_time": "2023-04-15T16:28:19.935Z"
   },
   {
    "duration": 5,
    "start_time": "2023-04-15T16:28:19.944Z"
   },
   {
    "duration": 63,
    "start_time": "2023-04-15T16:28:19.952Z"
   },
   {
    "duration": 14,
    "start_time": "2023-04-15T16:28:20.035Z"
   },
   {
    "duration": 8,
    "start_time": "2023-04-15T16:28:20.051Z"
   },
   {
    "duration": 20,
    "start_time": "2023-04-15T16:28:20.060Z"
   },
   {
    "duration": 19,
    "start_time": "2023-04-15T16:28:20.082Z"
   },
   {
    "duration": 34,
    "start_time": "2023-04-15T16:28:20.102Z"
   },
   {
    "duration": 29,
    "start_time": "2023-04-15T16:28:20.138Z"
   },
   {
    "duration": 13,
    "start_time": "2023-04-15T16:28:20.168Z"
   },
   {
    "duration": 10,
    "start_time": "2023-04-15T16:28:20.183Z"
   },
   {
    "duration": 311,
    "start_time": "2023-04-15T16:28:20.195Z"
   },
   {
    "duration": 39,
    "start_time": "2023-04-15T16:28:20.507Z"
   },
   {
    "duration": 4,
    "start_time": "2023-04-15T16:28:20.548Z"
   },
   {
    "duration": 11,
    "start_time": "2023-04-15T16:28:20.554Z"
   },
   {
    "duration": 8,
    "start_time": "2023-04-15T16:28:20.566Z"
   },
   {
    "duration": 176,
    "start_time": "2023-04-15T16:28:20.576Z"
   },
   {
    "duration": 60,
    "start_time": "2023-04-15T16:28:20.754Z"
   },
   {
    "duration": 19,
    "start_time": "2023-04-15T16:28:20.815Z"
   },
   {
    "duration": 367,
    "start_time": "2023-04-15T16:28:20.835Z"
   },
   {
    "duration": 5,
    "start_time": "2023-04-15T16:28:21.203Z"
   },
   {
    "duration": 30,
    "start_time": "2023-04-15T16:28:21.209Z"
   },
   {
    "duration": 228,
    "start_time": "2023-04-15T16:28:21.241Z"
   },
   {
    "duration": 114,
    "start_time": "2023-04-15T16:28:21.470Z"
   },
   {
    "duration": 11,
    "start_time": "2023-04-15T16:28:21.585Z"
   },
   {
    "duration": 22,
    "start_time": "2023-04-15T16:28:21.597Z"
   },
   {
    "duration": 3,
    "start_time": "2023-04-15T16:28:21.621Z"
   },
   {
    "duration": 48,
    "start_time": "2023-04-15T16:28:21.633Z"
   },
   {
    "duration": 197,
    "start_time": "2023-04-15T16:28:21.683Z"
   },
   {
    "duration": 9,
    "start_time": "2023-04-15T16:28:21.883Z"
   },
   {
    "duration": 12,
    "start_time": "2023-04-15T16:28:21.893Z"
   },
   {
    "duration": 11,
    "start_time": "2023-04-15T16:28:21.907Z"
   },
   {
    "duration": 13,
    "start_time": "2023-04-15T16:28:21.920Z"
   },
   {
    "duration": 84,
    "start_time": "2023-04-15T16:28:21.935Z"
   },
   {
    "duration": 120,
    "start_time": "2023-04-15T16:28:22.033Z"
   },
   {
    "duration": 9,
    "start_time": "2023-04-15T16:28:22.155Z"
   },
   {
    "duration": 16,
    "start_time": "2023-04-15T16:28:22.166Z"
   },
   {
    "duration": 24,
    "start_time": "2023-04-15T16:28:22.184Z"
   },
   {
    "duration": 24,
    "start_time": "2023-04-15T16:28:22.209Z"
   },
   {
    "duration": 12,
    "start_time": "2023-04-15T16:28:22.235Z"
   },
   {
    "duration": 13,
    "start_time": "2023-04-15T16:28:22.248Z"
   },
   {
    "duration": 10,
    "start_time": "2023-04-15T16:33:19.728Z"
   },
   {
    "duration": 1282,
    "start_time": "2023-04-15T17:23:13.849Z"
   },
   {
    "duration": 1114,
    "start_time": "2023-04-15T17:23:15.134Z"
   },
   {
    "duration": 14,
    "start_time": "2023-04-15T17:23:16.251Z"
   },
   {
    "duration": 378,
    "start_time": "2023-04-15T17:23:16.266Z"
   },
   {
    "duration": 74,
    "start_time": "2023-04-15T17:23:16.647Z"
   },
   {
    "duration": 8,
    "start_time": "2023-04-15T17:23:16.734Z"
   },
   {
    "duration": 31,
    "start_time": "2023-04-15T17:23:16.745Z"
   },
   {
    "duration": 57,
    "start_time": "2023-04-15T17:23:16.778Z"
   },
   {
    "duration": 80,
    "start_time": "2023-04-15T17:23:16.837Z"
   },
   {
    "duration": 25,
    "start_time": "2023-04-15T17:23:16.919Z"
   },
   {
    "duration": 134,
    "start_time": "2023-04-15T17:23:16.946Z"
   },
   {
    "duration": 7,
    "start_time": "2023-04-15T17:23:17.082Z"
   },
   {
    "duration": 13,
    "start_time": "2023-04-15T17:23:17.090Z"
   },
   {
    "duration": 80,
    "start_time": "2023-04-15T17:23:17.106Z"
   },
   {
    "duration": 12,
    "start_time": "2023-04-15T17:23:17.188Z"
   },
   {
    "duration": 4,
    "start_time": "2023-04-15T17:23:17.202Z"
   },
   {
    "duration": 36,
    "start_time": "2023-04-15T17:23:17.207Z"
   },
   {
    "duration": 18,
    "start_time": "2023-04-15T17:23:17.245Z"
   },
   {
    "duration": 18,
    "start_time": "2023-04-15T17:23:17.265Z"
   },
   {
    "duration": 25,
    "start_time": "2023-04-15T17:23:17.285Z"
   },
   {
    "duration": 27,
    "start_time": "2023-04-15T17:23:17.311Z"
   },
   {
    "duration": 18,
    "start_time": "2023-04-15T17:23:17.341Z"
   },
   {
    "duration": 12,
    "start_time": "2023-04-15T17:23:17.361Z"
   },
   {
    "duration": 16,
    "start_time": "2023-04-15T17:23:17.375Z"
   },
   {
    "duration": 13,
    "start_time": "2023-04-15T17:23:17.393Z"
   },
   {
    "duration": 181,
    "start_time": "2023-04-15T17:23:17.407Z"
   },
   {
    "duration": 83,
    "start_time": "2023-04-15T17:23:17.589Z"
   },
   {
    "duration": 4,
    "start_time": "2023-04-15T17:23:17.674Z"
   },
   {
    "duration": 433,
    "start_time": "2023-04-15T17:23:17.680Z"
   },
   {
    "duration": 5,
    "start_time": "2023-04-15T17:23:18.115Z"
   },
   {
    "duration": 285,
    "start_time": "2023-04-15T17:23:18.122Z"
   },
   {
    "duration": 125,
    "start_time": "2023-04-15T17:23:18.409Z"
   },
   {
    "duration": 15,
    "start_time": "2023-04-15T17:23:18.536Z"
   },
   {
    "duration": 24,
    "start_time": "2023-04-15T17:23:18.553Z"
   },
   {
    "duration": 3,
    "start_time": "2023-04-15T17:23:18.579Z"
   },
   {
    "duration": 79,
    "start_time": "2023-04-15T17:23:18.583Z"
   },
   {
    "duration": 45,
    "start_time": "2023-04-15T17:23:18.664Z"
   },
   {
    "duration": 7,
    "start_time": "2023-04-15T17:23:18.710Z"
   },
   {
    "duration": 1434,
    "start_time": "2023-04-15T17:23:18.718Z"
   },
   {
    "duration": 0,
    "start_time": "2023-04-15T17:23:20.154Z"
   },
   {
    "duration": 0,
    "start_time": "2023-04-15T17:23:20.156Z"
   },
   {
    "duration": 0,
    "start_time": "2023-04-15T17:23:20.157Z"
   },
   {
    "duration": 0,
    "start_time": "2023-04-15T17:23:20.158Z"
   },
   {
    "duration": 0,
    "start_time": "2023-04-15T17:23:20.159Z"
   },
   {
    "duration": 0,
    "start_time": "2023-04-15T17:23:20.161Z"
   },
   {
    "duration": 0,
    "start_time": "2023-04-15T17:23:20.162Z"
   },
   {
    "duration": 0,
    "start_time": "2023-04-15T17:23:20.163Z"
   },
   {
    "duration": 0,
    "start_time": "2023-04-15T17:23:20.164Z"
   },
   {
    "duration": 0,
    "start_time": "2023-04-15T17:23:20.166Z"
   },
   {
    "duration": 17,
    "start_time": "2023-04-15T17:26:35.750Z"
   },
   {
    "duration": 1382,
    "start_time": "2023-04-15T17:28:00.843Z"
   },
   {
    "duration": 1107,
    "start_time": "2023-04-15T17:28:02.227Z"
   },
   {
    "duration": 14,
    "start_time": "2023-04-15T17:28:03.336Z"
   },
   {
    "duration": 351,
    "start_time": "2023-04-15T17:28:03.351Z"
   },
   {
    "duration": 77,
    "start_time": "2023-04-15T17:28:03.704Z"
   },
   {
    "duration": 6,
    "start_time": "2023-04-15T17:28:03.783Z"
   },
   {
    "duration": 10,
    "start_time": "2023-04-15T17:28:03.790Z"
   },
   {
    "duration": 66,
    "start_time": "2023-04-15T17:28:03.801Z"
   },
   {
    "duration": 46,
    "start_time": "2023-04-15T17:28:03.869Z"
   },
   {
    "duration": 52,
    "start_time": "2023-04-15T17:28:03.916Z"
   },
   {
    "duration": 142,
    "start_time": "2023-04-15T17:28:03.972Z"
   },
   {
    "duration": 7,
    "start_time": "2023-04-15T17:28:04.116Z"
   },
   {
    "duration": 8,
    "start_time": "2023-04-15T17:28:04.133Z"
   },
   {
    "duration": 77,
    "start_time": "2023-04-15T17:28:04.144Z"
   },
   {
    "duration": 12,
    "start_time": "2023-04-15T17:28:04.223Z"
   },
   {
    "duration": 18,
    "start_time": "2023-04-15T17:28:04.238Z"
   },
   {
    "duration": 11,
    "start_time": "2023-04-15T17:28:04.258Z"
   },
   {
    "duration": 14,
    "start_time": "2023-04-15T17:28:04.270Z"
   },
   {
    "duration": 16,
    "start_time": "2023-04-15T17:28:04.286Z"
   },
   {
    "duration": 49,
    "start_time": "2023-04-15T17:28:04.305Z"
   },
   {
    "duration": 14,
    "start_time": "2023-04-15T17:28:04.356Z"
   },
   {
    "duration": 18,
    "start_time": "2023-04-15T17:28:04.372Z"
   },
   {
    "duration": 4,
    "start_time": "2023-04-15T17:28:04.392Z"
   },
   {
    "duration": 7,
    "start_time": "2023-04-15T17:28:04.397Z"
   },
   {
    "duration": 9,
    "start_time": "2023-04-15T17:28:04.406Z"
   },
   {
    "duration": 189,
    "start_time": "2023-04-15T17:28:04.416Z"
   },
   {
    "duration": 82,
    "start_time": "2023-04-15T17:28:04.608Z"
   },
   {
    "duration": 6,
    "start_time": "2023-04-15T17:28:04.692Z"
   },
   {
    "duration": 423,
    "start_time": "2023-04-15T17:28:04.699Z"
   },
   {
    "duration": 4,
    "start_time": "2023-04-15T17:28:05.124Z"
   },
   {
    "duration": 290,
    "start_time": "2023-04-15T17:28:05.129Z"
   },
   {
    "duration": 142,
    "start_time": "2023-04-15T17:28:05.421Z"
   },
   {
    "duration": 10,
    "start_time": "2023-04-15T17:28:05.565Z"
   },
   {
    "duration": 38,
    "start_time": "2023-04-15T17:28:05.577Z"
   },
   {
    "duration": 4,
    "start_time": "2023-04-15T17:28:05.617Z"
   },
   {
    "duration": 73,
    "start_time": "2023-04-15T17:28:05.623Z"
   },
   {
    "duration": 55,
    "start_time": "2023-04-15T17:28:05.698Z"
   },
   {
    "duration": 6,
    "start_time": "2023-04-15T17:28:05.755Z"
   },
   {
    "duration": 354,
    "start_time": "2023-04-15T17:28:05.763Z"
   },
   {
    "duration": 18,
    "start_time": "2023-04-15T17:28:06.118Z"
   },
   {
    "duration": 27,
    "start_time": "2023-04-15T17:28:06.142Z"
   },
   {
    "duration": 27,
    "start_time": "2023-04-15T17:28:06.170Z"
   },
   {
    "duration": 59,
    "start_time": "2023-04-15T17:28:06.198Z"
   },
   {
    "duration": 123,
    "start_time": "2023-04-15T17:28:06.259Z"
   },
   {
    "duration": 8,
    "start_time": "2023-04-15T17:28:06.383Z"
   },
   {
    "duration": 14,
    "start_time": "2023-04-15T17:28:06.393Z"
   },
   {
    "duration": 34,
    "start_time": "2023-04-15T17:28:06.408Z"
   },
   {
    "duration": 13,
    "start_time": "2023-04-15T17:28:06.445Z"
   },
   {
    "duration": 19,
    "start_time": "2023-04-15T17:28:06.460Z"
   },
   {
    "duration": 15,
    "start_time": "2023-04-15T17:28:06.481Z"
   },
   {
    "duration": 1261,
    "start_time": "2023-04-15T17:30:41.399Z"
   },
   {
    "duration": 2122,
    "start_time": "2023-04-15T17:30:42.663Z"
   },
   {
    "duration": 12,
    "start_time": "2023-04-15T17:30:44.786Z"
   },
   {
    "duration": 380,
    "start_time": "2023-04-15T17:30:44.800Z"
   },
   {
    "duration": 71,
    "start_time": "2023-04-15T17:30:45.182Z"
   },
   {
    "duration": 5,
    "start_time": "2023-04-15T17:30:45.255Z"
   },
   {
    "duration": 13,
    "start_time": "2023-04-15T17:30:45.261Z"
   },
   {
    "duration": 62,
    "start_time": "2023-04-15T17:30:45.276Z"
   },
   {
    "duration": 59,
    "start_time": "2023-04-15T17:30:45.341Z"
   },
   {
    "duration": 45,
    "start_time": "2023-04-15T17:30:45.402Z"
   },
   {
    "duration": 121,
    "start_time": "2023-04-15T17:30:45.449Z"
   },
   {
    "duration": 6,
    "start_time": "2023-04-15T17:30:45.572Z"
   },
   {
    "duration": 16,
    "start_time": "2023-04-15T17:30:45.580Z"
   },
   {
    "duration": 63,
    "start_time": "2023-04-15T17:30:45.599Z"
   },
   {
    "duration": 12,
    "start_time": "2023-04-15T17:30:45.663Z"
   },
   {
    "duration": 29,
    "start_time": "2023-04-15T17:30:45.678Z"
   },
   {
    "duration": 18,
    "start_time": "2023-04-15T17:30:45.709Z"
   },
   {
    "duration": 15,
    "start_time": "2023-04-15T17:30:45.729Z"
   },
   {
    "duration": 27,
    "start_time": "2023-04-15T17:30:45.747Z"
   },
   {
    "duration": 32,
    "start_time": "2023-04-15T17:30:45.776Z"
   },
   {
    "duration": 13,
    "start_time": "2023-04-15T17:30:45.809Z"
   },
   {
    "duration": 16,
    "start_time": "2023-04-15T17:30:45.824Z"
   },
   {
    "duration": 7,
    "start_time": "2023-04-15T17:30:45.842Z"
   },
   {
    "duration": 22,
    "start_time": "2023-04-15T17:30:45.851Z"
   },
   {
    "duration": 12,
    "start_time": "2023-04-15T17:30:45.874Z"
   },
   {
    "duration": 212,
    "start_time": "2023-04-15T17:30:45.888Z"
   },
   {
    "duration": 86,
    "start_time": "2023-04-15T17:30:46.102Z"
   },
   {
    "duration": 8,
    "start_time": "2023-04-15T17:30:46.189Z"
   },
   {
    "duration": 478,
    "start_time": "2023-04-15T17:30:46.198Z"
   },
   {
    "duration": 5,
    "start_time": "2023-04-15T17:30:46.678Z"
   },
   {
    "duration": 322,
    "start_time": "2023-04-15T17:30:46.686Z"
   },
   {
    "duration": 130,
    "start_time": "2023-04-15T17:30:47.010Z"
   },
   {
    "duration": 13,
    "start_time": "2023-04-15T17:30:47.141Z"
   },
   {
    "duration": 30,
    "start_time": "2023-04-15T17:30:47.156Z"
   },
   {
    "duration": 3,
    "start_time": "2023-04-15T17:30:47.188Z"
   },
   {
    "duration": 82,
    "start_time": "2023-04-15T17:30:47.193Z"
   },
   {
    "duration": 68,
    "start_time": "2023-04-15T17:30:47.276Z"
   },
   {
    "duration": 10,
    "start_time": "2023-04-15T17:30:47.346Z"
   },
   {
    "duration": 384,
    "start_time": "2023-04-15T17:30:47.358Z"
   },
   {
    "duration": 17,
    "start_time": "2023-04-15T17:30:47.746Z"
   },
   {
    "duration": 28,
    "start_time": "2023-04-15T17:30:47.766Z"
   },
   {
    "duration": 7,
    "start_time": "2023-04-15T17:30:47.796Z"
   },
   {
    "duration": 24,
    "start_time": "2023-04-15T17:30:47.805Z"
   },
   {
    "duration": 149,
    "start_time": "2023-04-15T17:30:47.831Z"
   },
   {
    "duration": 9,
    "start_time": "2023-04-15T17:30:47.982Z"
   },
   {
    "duration": 25,
    "start_time": "2023-04-15T17:30:47.992Z"
   },
   {
    "duration": 47,
    "start_time": "2023-04-15T17:30:48.018Z"
   },
   {
    "duration": 10,
    "start_time": "2023-04-15T17:30:48.066Z"
   },
   {
    "duration": 23,
    "start_time": "2023-04-15T17:30:48.078Z"
   },
   {
    "duration": 20,
    "start_time": "2023-04-15T17:30:48.102Z"
   },
   {
    "duration": 1365,
    "start_time": "2023-04-15T17:37:47.260Z"
   },
   {
    "duration": 1443,
    "start_time": "2023-04-15T17:37:48.627Z"
   },
   {
    "duration": 16,
    "start_time": "2023-04-15T17:37:50.072Z"
   },
   {
    "duration": 404,
    "start_time": "2023-04-15T17:37:50.090Z"
   },
   {
    "duration": 81,
    "start_time": "2023-04-15T17:37:50.497Z"
   },
   {
    "duration": 6,
    "start_time": "2023-04-15T17:37:50.579Z"
   },
   {
    "duration": 12,
    "start_time": "2023-04-15T17:37:50.586Z"
   },
   {
    "duration": 67,
    "start_time": "2023-04-15T17:37:50.599Z"
   },
   {
    "duration": 73,
    "start_time": "2023-04-15T17:37:50.669Z"
   },
   {
    "duration": 21,
    "start_time": "2023-04-15T17:37:50.744Z"
   },
   {
    "duration": 144,
    "start_time": "2023-04-15T17:37:50.767Z"
   },
   {
    "duration": 7,
    "start_time": "2023-04-15T17:37:50.912Z"
   },
   {
    "duration": 25,
    "start_time": "2023-04-15T17:37:50.920Z"
   },
   {
    "duration": 81,
    "start_time": "2023-04-15T17:37:50.947Z"
   },
   {
    "duration": 15,
    "start_time": "2023-04-15T17:37:51.029Z"
   },
   {
    "duration": 22,
    "start_time": "2023-04-15T17:37:51.046Z"
   },
   {
    "duration": 31,
    "start_time": "2023-04-15T17:37:51.070Z"
   },
   {
    "duration": 26,
    "start_time": "2023-04-15T17:37:51.102Z"
   },
   {
    "duration": 44,
    "start_time": "2023-04-15T17:37:51.129Z"
   },
   {
    "duration": 41,
    "start_time": "2023-04-15T17:37:51.175Z"
   },
   {
    "duration": 16,
    "start_time": "2023-04-15T17:37:51.218Z"
   },
   {
    "duration": 40,
    "start_time": "2023-04-15T17:37:51.237Z"
   },
   {
    "duration": 39,
    "start_time": "2023-04-15T17:37:51.279Z"
   },
   {
    "duration": 19,
    "start_time": "2023-04-15T17:37:51.320Z"
   },
   {
    "duration": 25,
    "start_time": "2023-04-15T17:37:51.342Z"
   },
   {
    "duration": 204,
    "start_time": "2023-04-15T17:37:51.369Z"
   },
   {
    "duration": 87,
    "start_time": "2023-04-15T17:37:51.575Z"
   },
   {
    "duration": 7,
    "start_time": "2023-04-15T17:37:51.666Z"
   },
   {
    "duration": 449,
    "start_time": "2023-04-15T17:37:51.675Z"
   },
   {
    "duration": 6,
    "start_time": "2023-04-15T17:37:52.126Z"
   },
   {
    "duration": 339,
    "start_time": "2023-04-15T17:37:52.135Z"
   },
   {
    "duration": 157,
    "start_time": "2023-04-15T17:37:52.476Z"
   },
   {
    "duration": 24,
    "start_time": "2023-04-15T17:37:52.637Z"
   },
   {
    "duration": 29,
    "start_time": "2023-04-15T17:37:52.663Z"
   },
   {
    "duration": 4,
    "start_time": "2023-04-15T17:37:52.694Z"
   },
   {
    "duration": 95,
    "start_time": "2023-04-15T17:37:52.700Z"
   },
   {
    "duration": 66,
    "start_time": "2023-04-15T17:37:52.797Z"
   },
   {
    "duration": 7,
    "start_time": "2023-04-15T17:37:52.865Z"
   },
   {
    "duration": 395,
    "start_time": "2023-04-15T17:37:52.873Z"
   },
   {
    "duration": 14,
    "start_time": "2023-04-15T17:37:53.270Z"
   },
   {
    "duration": 15,
    "start_time": "2023-04-15T17:37:53.285Z"
   },
   {
    "duration": 4,
    "start_time": "2023-04-15T17:37:53.302Z"
   },
   {
    "duration": 46,
    "start_time": "2023-04-15T17:37:53.307Z"
   },
   {
    "duration": 152,
    "start_time": "2023-04-15T17:37:53.356Z"
   },
   {
    "duration": 9,
    "start_time": "2023-04-15T17:37:53.510Z"
   },
   {
    "duration": 11,
    "start_time": "2023-04-15T17:37:53.534Z"
   },
   {
    "duration": 47,
    "start_time": "2023-04-15T17:37:53.548Z"
   },
   {
    "duration": 10,
    "start_time": "2023-04-15T17:37:53.597Z"
   },
   {
    "duration": 43,
    "start_time": "2023-04-15T17:37:53.609Z"
   },
   {
    "duration": 23,
    "start_time": "2023-04-15T17:37:53.655Z"
   },
   {
    "duration": 137,
    "start_time": "2023-04-15T17:42:50.748Z"
   },
   {
    "duration": 47,
    "start_time": "2023-04-15T17:43:01.381Z"
   },
   {
    "duration": 1260,
    "start_time": "2023-04-15T17:43:34.616Z"
   },
   {
    "duration": 1616,
    "start_time": "2023-04-15T17:43:35.878Z"
   },
   {
    "duration": 12,
    "start_time": "2023-04-15T17:43:37.496Z"
   },
   {
    "duration": 357,
    "start_time": "2023-04-15T17:43:37.510Z"
   },
   {
    "duration": 65,
    "start_time": "2023-04-15T17:43:37.869Z"
   },
   {
    "duration": 5,
    "start_time": "2023-04-15T17:43:37.936Z"
   },
   {
    "duration": 13,
    "start_time": "2023-04-15T17:43:37.942Z"
   },
   {
    "duration": 37,
    "start_time": "2023-04-15T17:43:37.957Z"
   },
   {
    "duration": 80,
    "start_time": "2023-04-15T17:43:37.997Z"
   },
   {
    "duration": 25,
    "start_time": "2023-04-15T17:43:38.078Z"
   },
   {
    "duration": 152,
    "start_time": "2023-04-15T17:43:38.105Z"
   },
   {
    "duration": 6,
    "start_time": "2023-04-15T17:43:38.259Z"
   },
   {
    "duration": 6,
    "start_time": "2023-04-15T17:43:38.267Z"
   },
   {
    "duration": 75,
    "start_time": "2023-04-15T17:43:38.276Z"
   },
   {
    "duration": 12,
    "start_time": "2023-04-15T17:43:38.353Z"
   },
   {
    "duration": 10,
    "start_time": "2023-04-15T17:43:38.367Z"
   },
   {
    "duration": 25,
    "start_time": "2023-04-15T17:43:38.379Z"
   },
   {
    "duration": 18,
    "start_time": "2023-04-15T17:43:38.406Z"
   },
   {
    "duration": 29,
    "start_time": "2023-04-15T17:43:38.426Z"
   },
   {
    "duration": 27,
    "start_time": "2023-04-15T17:43:38.457Z"
   },
   {
    "duration": 13,
    "start_time": "2023-04-15T17:43:38.486Z"
   },
   {
    "duration": 34,
    "start_time": "2023-04-15T17:43:38.500Z"
   },
   {
    "duration": 4,
    "start_time": "2023-04-15T17:43:38.536Z"
   },
   {
    "duration": 11,
    "start_time": "2023-04-15T17:43:38.542Z"
   },
   {
    "duration": 7,
    "start_time": "2023-04-15T17:43:38.555Z"
   },
   {
    "duration": 190,
    "start_time": "2023-04-15T17:43:38.565Z"
   },
   {
    "duration": 65,
    "start_time": "2023-04-15T17:43:38.756Z"
   },
   {
    "duration": 7,
    "start_time": "2023-04-15T17:43:38.833Z"
   },
   {
    "duration": 382,
    "start_time": "2023-04-15T17:43:38.841Z"
   },
   {
    "duration": 5,
    "start_time": "2023-04-15T17:43:39.225Z"
   },
   {
    "duration": 240,
    "start_time": "2023-04-15T17:43:39.231Z"
   },
   {
    "duration": 128,
    "start_time": "2023-04-15T17:43:39.473Z"
   },
   {
    "duration": 11,
    "start_time": "2023-04-15T17:43:39.603Z"
   },
   {
    "duration": 42,
    "start_time": "2023-04-15T17:43:39.615Z"
   },
   {
    "duration": 3,
    "start_time": "2023-04-15T17:43:39.659Z"
   },
   {
    "duration": 52,
    "start_time": "2023-04-15T17:43:39.664Z"
   },
   {
    "duration": 62,
    "start_time": "2023-04-15T17:43:39.718Z"
   },
   {
    "duration": 7,
    "start_time": "2023-04-15T17:43:39.782Z"
   },
   {
    "duration": 378,
    "start_time": "2023-04-15T17:43:39.791Z"
   },
   {
    "duration": 13,
    "start_time": "2023-04-15T17:43:40.170Z"
   },
   {
    "duration": 12,
    "start_time": "2023-04-15T17:43:40.187Z"
   },
   {
    "duration": 5,
    "start_time": "2023-04-15T17:43:40.201Z"
   },
   {
    "duration": 36,
    "start_time": "2023-04-15T17:43:40.207Z"
   },
   {
    "duration": 134,
    "start_time": "2023-04-15T17:43:40.244Z"
   },
   {
    "duration": 8,
    "start_time": "2023-04-15T17:43:40.380Z"
   },
   {
    "duration": 19,
    "start_time": "2023-04-15T17:43:40.390Z"
   },
   {
    "duration": 30,
    "start_time": "2023-04-15T17:43:40.410Z"
   },
   {
    "duration": 9,
    "start_time": "2023-04-15T17:43:40.442Z"
   },
   {
    "duration": 24,
    "start_time": "2023-04-15T17:43:40.453Z"
   },
   {
    "duration": 19,
    "start_time": "2023-04-15T17:43:40.479Z"
   },
   {
    "duration": 155,
    "start_time": "2023-04-15T17:48:02.187Z"
   },
   {
    "duration": 11,
    "start_time": "2023-04-15T17:48:33.745Z"
   },
   {
    "duration": 21,
    "start_time": "2023-04-15T17:48:46.847Z"
   },
   {
    "duration": 1395,
    "start_time": "2023-04-15T17:48:57.054Z"
   },
   {
    "duration": 1181,
    "start_time": "2023-04-15T17:48:58.452Z"
   },
   {
    "duration": 21,
    "start_time": "2023-04-15T17:48:59.634Z"
   },
   {
    "duration": 408,
    "start_time": "2023-04-15T17:48:59.657Z"
   },
   {
    "duration": 73,
    "start_time": "2023-04-15T17:49:00.068Z"
   },
   {
    "duration": 7,
    "start_time": "2023-04-15T17:49:00.143Z"
   },
   {
    "duration": 15,
    "start_time": "2023-04-15T17:49:00.152Z"
   },
   {
    "duration": 62,
    "start_time": "2023-04-15T17:49:00.168Z"
   },
   {
    "duration": 71,
    "start_time": "2023-04-15T17:49:00.231Z"
   },
   {
    "duration": 24,
    "start_time": "2023-04-15T17:49:00.304Z"
   },
   {
    "duration": 142,
    "start_time": "2023-04-15T17:49:00.330Z"
   },
   {
    "duration": 7,
    "start_time": "2023-04-15T17:49:00.473Z"
   },
   {
    "duration": 21,
    "start_time": "2023-04-15T17:49:00.481Z"
   },
   {
    "duration": 105,
    "start_time": "2023-04-15T17:49:00.505Z"
   },
   {
    "duration": 12,
    "start_time": "2023-04-15T17:49:00.612Z"
   },
   {
    "duration": 20,
    "start_time": "2023-04-15T17:49:00.626Z"
   },
   {
    "duration": 40,
    "start_time": "2023-04-15T17:49:00.649Z"
   },
   {
    "duration": 39,
    "start_time": "2023-04-15T17:49:00.691Z"
   },
   {
    "duration": 65,
    "start_time": "2023-04-15T17:49:00.732Z"
   },
   {
    "duration": 63,
    "start_time": "2023-04-15T17:49:00.798Z"
   },
   {
    "duration": 17,
    "start_time": "2023-04-15T17:49:00.863Z"
   },
   {
    "duration": 15,
    "start_time": "2023-04-15T17:49:00.881Z"
   },
   {
    "duration": 22,
    "start_time": "2023-04-15T17:49:00.897Z"
   },
   {
    "duration": 30,
    "start_time": "2023-04-15T17:49:00.921Z"
   },
   {
    "duration": 34,
    "start_time": "2023-04-15T17:49:00.953Z"
   },
   {
    "duration": 221,
    "start_time": "2023-04-15T17:49:00.989Z"
   },
   {
    "duration": 80,
    "start_time": "2023-04-15T17:49:01.212Z"
   },
   {
    "duration": 5,
    "start_time": "2023-04-15T17:49:01.293Z"
   },
   {
    "duration": 413,
    "start_time": "2023-04-15T17:49:01.300Z"
   },
   {
    "duration": 5,
    "start_time": "2023-04-15T17:49:01.714Z"
   },
   {
    "duration": 300,
    "start_time": "2023-04-15T17:49:01.720Z"
   },
   {
    "duration": 127,
    "start_time": "2023-04-15T17:49:02.022Z"
   },
   {
    "duration": 11,
    "start_time": "2023-04-15T17:49:02.152Z"
   },
   {
    "duration": 23,
    "start_time": "2023-04-15T17:49:02.165Z"
   },
   {
    "duration": 3,
    "start_time": "2023-04-15T17:49:02.190Z"
   },
   {
    "duration": 65,
    "start_time": "2023-04-15T17:49:02.194Z"
   },
   {
    "duration": 51,
    "start_time": "2023-04-15T17:49:02.262Z"
   },
   {
    "duration": 19,
    "start_time": "2023-04-15T17:49:02.315Z"
   },
   {
    "duration": 375,
    "start_time": "2023-04-15T17:49:02.337Z"
   },
   {
    "duration": 12,
    "start_time": "2023-04-15T17:49:02.714Z"
   },
   {
    "duration": 23,
    "start_time": "2023-04-15T17:49:02.734Z"
   },
   {
    "duration": 5,
    "start_time": "2023-04-15T17:49:02.761Z"
   },
   {
    "duration": 24,
    "start_time": "2023-04-15T17:49:02.767Z"
   },
   {
    "duration": 142,
    "start_time": "2023-04-15T17:49:02.792Z"
   },
   {
    "duration": 9,
    "start_time": "2023-04-15T17:49:02.936Z"
   },
   {
    "duration": 41,
    "start_time": "2023-04-15T17:49:02.947Z"
   },
   {
    "duration": 32,
    "start_time": "2023-04-15T17:49:02.990Z"
   },
   {
    "duration": 12,
    "start_time": "2023-04-15T17:49:03.024Z"
   },
   {
    "duration": 32,
    "start_time": "2023-04-15T17:49:03.038Z"
   },
   {
    "duration": 28,
    "start_time": "2023-04-15T17:49:03.071Z"
   },
   {
    "duration": 1233,
    "start_time": "2023-04-15T18:41:52.475Z"
   },
   {
    "duration": 1430,
    "start_time": "2023-04-15T18:41:53.710Z"
   },
   {
    "duration": 13,
    "start_time": "2023-04-15T18:41:55.142Z"
   },
   {
    "duration": 271,
    "start_time": "2023-04-15T18:41:55.157Z"
   },
   {
    "duration": 54,
    "start_time": "2023-04-15T18:41:55.430Z"
   },
   {
    "duration": 5,
    "start_time": "2023-04-15T18:41:55.486Z"
   },
   {
    "duration": 7,
    "start_time": "2023-04-15T18:41:55.492Z"
   },
   {
    "duration": 53,
    "start_time": "2023-04-15T18:41:55.500Z"
   },
   {
    "duration": 43,
    "start_time": "2023-04-15T18:41:55.555Z"
   },
   {
    "duration": 20,
    "start_time": "2023-04-15T18:41:55.601Z"
   },
   {
    "duration": 139,
    "start_time": "2023-04-15T18:41:55.623Z"
   },
   {
    "duration": 6,
    "start_time": "2023-04-15T18:41:55.764Z"
   },
   {
    "duration": 8,
    "start_time": "2023-04-15T18:41:55.771Z"
   },
   {
    "duration": 68,
    "start_time": "2023-04-15T18:41:55.781Z"
   },
   {
    "duration": 12,
    "start_time": "2023-04-15T18:41:55.851Z"
   },
   {
    "duration": 5,
    "start_time": "2023-04-15T18:41:55.865Z"
   },
   {
    "duration": 13,
    "start_time": "2023-04-15T18:41:55.871Z"
   },
   {
    "duration": 7,
    "start_time": "2023-04-15T18:41:55.886Z"
   },
   {
    "duration": 16,
    "start_time": "2023-04-15T18:41:55.895Z"
   },
   {
    "duration": 58,
    "start_time": "2023-04-15T18:41:55.913Z"
   },
   {
    "duration": 15,
    "start_time": "2023-04-15T18:41:55.973Z"
   },
   {
    "duration": 13,
    "start_time": "2023-04-15T18:41:55.989Z"
   },
   {
    "duration": 7,
    "start_time": "2023-04-15T18:41:56.005Z"
   },
   {
    "duration": 36,
    "start_time": "2023-04-15T18:41:56.013Z"
   },
   {
    "duration": 7,
    "start_time": "2023-04-15T18:41:56.051Z"
   },
   {
    "duration": 149,
    "start_time": "2023-04-15T18:41:56.059Z"
   },
   {
    "duration": 57,
    "start_time": "2023-04-15T18:41:56.210Z"
   },
   {
    "duration": 5,
    "start_time": "2023-04-15T18:41:56.270Z"
   },
   {
    "duration": 789,
    "start_time": "2023-04-15T18:41:56.277Z"
   },
   {
    "duration": 5,
    "start_time": "2023-04-15T18:41:57.068Z"
   },
   {
    "duration": 249,
    "start_time": "2023-04-15T18:41:57.076Z"
   },
   {
    "duration": 86,
    "start_time": "2023-04-15T18:41:57.327Z"
   },
   {
    "duration": 10,
    "start_time": "2023-04-15T18:41:57.414Z"
   },
   {
    "duration": 31,
    "start_time": "2023-04-15T18:41:57.425Z"
   },
   {
    "duration": 3,
    "start_time": "2023-04-15T18:41:57.458Z"
   },
   {
    "duration": 52,
    "start_time": "2023-04-15T18:41:57.463Z"
   },
   {
    "duration": 57,
    "start_time": "2023-04-15T18:41:57.517Z"
   },
   {
    "duration": 7,
    "start_time": "2023-04-15T18:41:57.575Z"
   },
   {
    "duration": 254,
    "start_time": "2023-04-15T18:41:57.583Z"
   },
   {
    "duration": 17,
    "start_time": "2023-04-15T18:41:57.838Z"
   },
   {
    "duration": 12,
    "start_time": "2023-04-15T18:41:57.856Z"
   },
   {
    "duration": 4,
    "start_time": "2023-04-15T18:41:57.870Z"
   },
   {
    "duration": 16,
    "start_time": "2023-04-15T18:41:57.875Z"
   },
   {
    "duration": 101,
    "start_time": "2023-04-15T18:41:57.892Z"
   },
   {
    "duration": 10,
    "start_time": "2023-04-15T18:41:57.994Z"
   },
   {
    "duration": 17,
    "start_time": "2023-04-15T18:41:58.005Z"
   },
   {
    "duration": 46,
    "start_time": "2023-04-15T18:41:58.023Z"
   },
   {
    "duration": 10,
    "start_time": "2023-04-15T18:41:58.071Z"
   },
   {
    "duration": 12,
    "start_time": "2023-04-15T18:41:58.082Z"
   },
   {
    "duration": 23,
    "start_time": "2023-04-15T18:41:58.095Z"
   },
   {
    "duration": 8,
    "start_time": "2023-04-15T18:44:44.917Z"
   },
   {
    "duration": 10,
    "start_time": "2023-04-15T18:44:52.820Z"
   },
   {
    "duration": 13,
    "start_time": "2023-04-15T18:44:56.721Z"
   },
   {
    "duration": 9,
    "start_time": "2023-04-15T18:46:25.435Z"
   },
   {
    "duration": 22,
    "start_time": "2023-04-15T18:46:26.474Z"
   },
   {
    "duration": 5,
    "start_time": "2023-04-15T18:46:27.821Z"
   },
   {
    "duration": 21,
    "start_time": "2023-04-15T18:46:28.558Z"
   },
   {
    "duration": 11,
    "start_time": "2023-04-15T18:46:32.867Z"
   },
   {
    "duration": 22,
    "start_time": "2023-04-15T18:46:34.363Z"
   },
   {
    "duration": 9,
    "start_time": "2023-04-15T18:46:35.913Z"
   },
   {
    "duration": 160,
    "start_time": "2023-04-15T20:04:23.535Z"
   },
   {
    "duration": 18,
    "start_time": "2023-04-15T20:04:32.384Z"
   },
   {
    "duration": 47,
    "start_time": "2023-04-15T20:05:10.060Z"
   },
   {
    "duration": 90,
    "start_time": "2023-04-15T20:05:50.948Z"
   },
   {
    "duration": 17,
    "start_time": "2023-04-15T20:05:59.826Z"
   },
   {
    "duration": 45,
    "start_time": "2023-04-15T20:06:12.775Z"
   },
   {
    "duration": 66,
    "start_time": "2023-04-15T20:06:54.518Z"
   },
   {
    "duration": 126,
    "start_time": "2023-04-15T20:07:02.318Z"
   },
   {
    "duration": 19,
    "start_time": "2023-04-15T20:07:32.237Z"
   },
   {
    "duration": 17,
    "start_time": "2023-04-15T20:07:43.885Z"
   },
   {
    "duration": 44,
    "start_time": "2023-04-15T20:18:33.821Z"
   },
   {
    "duration": 18,
    "start_time": "2023-04-15T20:20:44.953Z"
   },
   {
    "duration": 17,
    "start_time": "2023-04-15T20:21:00.818Z"
   },
   {
    "duration": 50,
    "start_time": "2023-04-15T20:21:19.277Z"
   },
   {
    "duration": 62,
    "start_time": "2023-04-15T20:22:03.673Z"
   },
   {
    "duration": 47,
    "start_time": "2023-04-15T20:22:22.914Z"
   },
   {
    "duration": 43,
    "start_time": "2023-04-15T20:22:32.559Z"
   },
   {
    "duration": 21,
    "start_time": "2023-04-15T20:24:43.675Z"
   },
   {
    "duration": 24,
    "start_time": "2023-04-15T20:25:03.118Z"
   },
   {
    "duration": 17,
    "start_time": "2023-04-15T20:26:00.022Z"
   },
   {
    "duration": 16,
    "start_time": "2023-04-15T20:26:52.366Z"
   },
   {
    "duration": 12,
    "start_time": "2023-04-15T20:27:54.240Z"
   },
   {
    "duration": 11,
    "start_time": "2023-04-15T20:28:18.214Z"
   },
   {
    "duration": 48,
    "start_time": "2023-04-15T20:28:27.015Z"
   },
   {
    "duration": 18,
    "start_time": "2023-04-15T20:29:28.543Z"
   },
   {
    "duration": 10,
    "start_time": "2023-04-15T20:34:28.840Z"
   },
   {
    "duration": 75,
    "start_time": "2023-04-15T20:35:00.244Z"
   },
   {
    "duration": 15,
    "start_time": "2023-04-15T20:35:10.605Z"
   },
   {
    "duration": 228,
    "start_time": "2023-04-15T20:35:34.609Z"
   },
   {
    "duration": 17,
    "start_time": "2023-04-15T20:42:55.575Z"
   },
   {
    "duration": 18,
    "start_time": "2023-04-15T20:43:10.124Z"
   },
   {
    "duration": 15,
    "start_time": "2023-04-15T20:46:00.551Z"
   },
   {
    "duration": 18,
    "start_time": "2023-04-15T21:50:56.133Z"
   },
   {
    "duration": 1279,
    "start_time": "2023-04-15T21:53:23.127Z"
   },
   {
    "duration": 1036,
    "start_time": "2023-04-15T21:53:24.408Z"
   },
   {
    "duration": 13,
    "start_time": "2023-04-15T21:53:25.446Z"
   },
   {
    "duration": 378,
    "start_time": "2023-04-15T21:53:25.462Z"
   },
   {
    "duration": 61,
    "start_time": "2023-04-15T21:53:25.842Z"
   },
   {
    "duration": 6,
    "start_time": "2023-04-15T21:53:25.905Z"
   },
   {
    "duration": 29,
    "start_time": "2023-04-15T21:53:25.913Z"
   },
   {
    "duration": 50,
    "start_time": "2023-04-15T21:53:25.944Z"
   },
   {
    "duration": 67,
    "start_time": "2023-04-15T21:53:25.996Z"
   },
   {
    "duration": 18,
    "start_time": "2023-04-15T21:53:26.066Z"
   },
   {
    "duration": 130,
    "start_time": "2023-04-15T21:53:26.086Z"
   },
   {
    "duration": 5,
    "start_time": "2023-04-15T21:53:26.218Z"
   },
   {
    "duration": 5,
    "start_time": "2023-04-15T21:53:26.232Z"
   },
   {
    "duration": 94,
    "start_time": "2023-04-15T21:53:26.239Z"
   },
   {
    "duration": 14,
    "start_time": "2023-04-15T21:53:26.336Z"
   },
   {
    "duration": 12,
    "start_time": "2023-04-15T21:53:26.352Z"
   },
   {
    "duration": 24,
    "start_time": "2023-04-15T21:53:26.366Z"
   },
   {
    "duration": 14,
    "start_time": "2023-04-15T21:53:26.392Z"
   },
   {
    "duration": 33,
    "start_time": "2023-04-15T21:53:26.409Z"
   },
   {
    "duration": 41,
    "start_time": "2023-04-15T21:53:26.444Z"
   },
   {
    "duration": 15,
    "start_time": "2023-04-15T21:53:26.487Z"
   },
   {
    "duration": 33,
    "start_time": "2023-04-15T21:53:26.503Z"
   },
   {
    "duration": 5,
    "start_time": "2023-04-15T21:53:26.539Z"
   },
   {
    "duration": 8,
    "start_time": "2023-04-15T21:53:26.546Z"
   },
   {
    "duration": 15,
    "start_time": "2023-04-15T21:53:26.556Z"
   },
   {
    "duration": 260,
    "start_time": "2023-04-15T21:53:26.573Z"
   },
   {
    "duration": 70,
    "start_time": "2023-04-15T21:53:26.835Z"
   },
   {
    "duration": 7,
    "start_time": "2023-04-15T21:53:26.908Z"
   },
   {
    "duration": 391,
    "start_time": "2023-04-15T21:53:26.933Z"
   },
   {
    "duration": 5,
    "start_time": "2023-04-15T21:53:27.325Z"
   },
   {
    "duration": 249,
    "start_time": "2023-04-15T21:53:27.332Z"
   },
   {
    "duration": 127,
    "start_time": "2023-04-15T21:53:27.583Z"
   },
   {
    "duration": 23,
    "start_time": "2023-04-15T21:53:27.711Z"
   },
   {
    "duration": 25,
    "start_time": "2023-04-15T21:53:27.736Z"
   },
   {
    "duration": 4,
    "start_time": "2023-04-15T21:53:27.763Z"
   },
   {
    "duration": 69,
    "start_time": "2023-04-15T21:53:27.769Z"
   },
   {
    "duration": 57,
    "start_time": "2023-04-15T22:01:51.211Z"
   },
   {
    "duration": 8,
    "start_time": "2023-04-15T22:01:51.270Z"
   },
   {
    "duration": 323,
    "start_time": "2023-04-15T22:01:51.279Z"
   },
   {
    "duration": 13,
    "start_time": "2023-04-15T22:01:51.604Z"
   },
   {
    "duration": 26,
    "start_time": "2023-04-15T22:01:51.619Z"
   },
   {
    "duration": 5,
    "start_time": "2023-04-15T22:01:51.647Z"
   },
   {
    "duration": 27,
    "start_time": "2023-04-15T22:01:51.654Z"
   },
   {
    "duration": 130,
    "start_time": "2023-04-15T22:01:51.682Z"
   },
   {
    "duration": 9,
    "start_time": "2023-04-15T22:01:51.814Z"
   },
   {
    "duration": 20,
    "start_time": "2023-04-15T22:01:51.824Z"
   },
   {
    "duration": 27,
    "start_time": "2023-04-15T22:01:51.845Z"
   },
   {
    "duration": 9,
    "start_time": "2023-04-15T22:01:51.874Z"
   },
   {
    "duration": 16,
    "start_time": "2023-04-15T22:01:51.884Z"
   },
   {
    "duration": 26,
    "start_time": "2023-04-15T22:01:51.901Z"
   },
   {
    "duration": 1259,
    "start_time": "2023-04-15T22:02:12.521Z"
   },
   {
    "duration": 980,
    "start_time": "2023-04-15T22:02:13.782Z"
   },
   {
    "duration": 11,
    "start_time": "2023-04-15T22:02:14.764Z"
   },
   {
    "duration": 384,
    "start_time": "2023-04-15T22:02:14.777Z"
   },
   {
    "duration": 55,
    "start_time": "2023-04-15T22:02:15.164Z"
   },
   {
    "duration": 28,
    "start_time": "2023-04-15T22:02:15.220Z"
   },
   {
    "duration": 38,
    "start_time": "2023-04-15T22:02:15.250Z"
   },
   {
    "duration": 37,
    "start_time": "2023-04-15T22:02:15.291Z"
   },
   {
    "duration": 64,
    "start_time": "2023-04-15T22:02:15.330Z"
   },
   {
    "duration": 17,
    "start_time": "2023-04-15T22:02:15.396Z"
   },
   {
    "duration": 113,
    "start_time": "2023-04-15T22:02:15.415Z"
   },
   {
    "duration": 7,
    "start_time": "2023-04-15T22:02:15.530Z"
   },
   {
    "duration": 21,
    "start_time": "2023-04-15T22:02:15.539Z"
   },
   {
    "duration": 91,
    "start_time": "2023-04-15T22:02:15.565Z"
   },
   {
    "duration": 12,
    "start_time": "2023-04-15T22:02:15.657Z"
   },
   {
    "duration": 23,
    "start_time": "2023-04-15T22:02:15.670Z"
   },
   {
    "duration": 25,
    "start_time": "2023-04-15T22:02:15.695Z"
   },
   {
    "duration": 51,
    "start_time": "2023-04-15T22:02:15.722Z"
   },
   {
    "duration": 27,
    "start_time": "2023-04-15T22:02:15.775Z"
   },
   {
    "duration": 32,
    "start_time": "2023-04-15T22:02:15.804Z"
   },
   {
    "duration": 14,
    "start_time": "2023-04-15T22:02:15.837Z"
   },
   {
    "duration": 30,
    "start_time": "2023-04-15T22:02:15.853Z"
   },
   {
    "duration": 16,
    "start_time": "2023-04-15T22:02:15.885Z"
   },
   {
    "duration": 21,
    "start_time": "2023-04-15T22:02:15.903Z"
   },
   {
    "duration": 28,
    "start_time": "2023-04-15T22:02:15.926Z"
   },
   {
    "duration": 165,
    "start_time": "2023-04-15T22:02:15.956Z"
   },
   {
    "duration": 66,
    "start_time": "2023-04-15T22:02:16.122Z"
   },
   {
    "duration": 9,
    "start_time": "2023-04-15T22:02:16.189Z"
   },
   {
    "duration": 378,
    "start_time": "2023-04-15T22:02:16.199Z"
   },
   {
    "duration": 4,
    "start_time": "2023-04-15T22:02:16.579Z"
   },
   {
    "duration": 267,
    "start_time": "2023-04-15T22:02:16.585Z"
   },
   {
    "duration": 113,
    "start_time": "2023-04-15T22:02:16.854Z"
   },
   {
    "duration": 11,
    "start_time": "2023-04-15T22:02:16.968Z"
   },
   {
    "duration": 28,
    "start_time": "2023-04-15T22:02:16.981Z"
   },
   {
    "duration": 4,
    "start_time": "2023-04-15T22:02:17.011Z"
   },
   {
    "duration": 56,
    "start_time": "2023-04-15T22:02:17.034Z"
   },
   {
    "duration": 64,
    "start_time": "2023-04-15T22:02:17.092Z"
   },
   {
    "duration": 9,
    "start_time": "2023-04-15T22:02:17.158Z"
   },
   {
    "duration": 313,
    "start_time": "2023-04-15T22:02:17.168Z"
   },
   {
    "duration": 11,
    "start_time": "2023-04-15T22:02:17.483Z"
   },
   {
    "duration": 18,
    "start_time": "2023-04-15T22:02:17.497Z"
   },
   {
    "duration": 4,
    "start_time": "2023-04-15T22:02:17.517Z"
   },
   {
    "duration": 25,
    "start_time": "2023-04-15T22:02:17.522Z"
   },
   {
    "duration": 111,
    "start_time": "2023-04-15T22:02:17.548Z"
   },
   {
    "duration": 9,
    "start_time": "2023-04-15T22:02:17.661Z"
   },
   {
    "duration": 16,
    "start_time": "2023-04-15T22:02:17.672Z"
   },
   {
    "duration": 24,
    "start_time": "2023-04-15T22:02:17.689Z"
   },
   {
    "duration": 22,
    "start_time": "2023-04-15T22:02:17.714Z"
   },
   {
    "duration": 13,
    "start_time": "2023-04-15T22:02:17.737Z"
   },
   {
    "duration": 15,
    "start_time": "2023-04-15T22:02:17.751Z"
   },
   {
    "duration": 3,
    "start_time": "2023-04-15T22:02:26.926Z"
   },
   {
    "duration": 1323,
    "start_time": "2023-04-15T22:02:26.932Z"
   },
   {
    "duration": 12,
    "start_time": "2023-04-15T22:02:28.257Z"
   },
   {
    "duration": 340,
    "start_time": "2023-04-15T22:02:28.271Z"
   },
   {
    "duration": 67,
    "start_time": "2023-04-15T22:02:28.615Z"
   },
   {
    "duration": 6,
    "start_time": "2023-04-15T22:02:28.684Z"
   },
   {
    "duration": 14,
    "start_time": "2023-04-15T22:02:28.691Z"
   },
   {
    "duration": 50,
    "start_time": "2023-04-15T22:02:28.707Z"
   },
   {
    "duration": 47,
    "start_time": "2023-04-15T22:02:28.758Z"
   },
   {
    "duration": 34,
    "start_time": "2023-04-15T22:02:28.807Z"
   },
   {
    "duration": 117,
    "start_time": "2023-04-15T22:02:28.843Z"
   },
   {
    "duration": 7,
    "start_time": "2023-04-15T22:02:28.962Z"
   },
   {
    "duration": 7,
    "start_time": "2023-04-15T22:02:28.971Z"
   },
   {
    "duration": 77,
    "start_time": "2023-04-15T22:02:28.982Z"
   },
   {
    "duration": 12,
    "start_time": "2023-04-15T22:02:29.061Z"
   },
   {
    "duration": 21,
    "start_time": "2023-04-15T22:02:29.075Z"
   },
   {
    "duration": 46,
    "start_time": "2023-04-15T22:02:29.097Z"
   },
   {
    "duration": 10,
    "start_time": "2023-04-15T22:02:29.145Z"
   },
   {
    "duration": 22,
    "start_time": "2023-04-15T22:02:29.157Z"
   },
   {
    "duration": 28,
    "start_time": "2023-04-15T22:02:29.181Z"
   },
   {
    "duration": 34,
    "start_time": "2023-04-15T22:02:29.211Z"
   },
   {
    "duration": 13,
    "start_time": "2023-04-15T22:02:29.247Z"
   },
   {
    "duration": 4,
    "start_time": "2023-04-15T22:02:29.262Z"
   },
   {
    "duration": 6,
    "start_time": "2023-04-15T22:02:29.268Z"
   },
   {
    "duration": 10,
    "start_time": "2023-04-15T22:02:29.275Z"
   },
   {
    "duration": 211,
    "start_time": "2023-04-15T22:02:29.286Z"
   },
   {
    "duration": 73,
    "start_time": "2023-04-15T22:02:29.499Z"
   },
   {
    "duration": 5,
    "start_time": "2023-04-15T22:02:29.574Z"
   },
   {
    "duration": 162,
    "start_time": "2023-04-15T22:02:29.581Z"
   },
   {
    "duration": 6,
    "start_time": "2023-04-15T22:02:29.744Z"
   },
   {
    "duration": 183,
    "start_time": "2023-04-15T22:02:29.751Z"
   },
   {
    "duration": 114,
    "start_time": "2023-04-15T22:02:29.936Z"
   },
   {
    "duration": 12,
    "start_time": "2023-04-15T22:02:30.052Z"
   },
   {
    "duration": 31,
    "start_time": "2023-04-15T22:02:30.065Z"
   },
   {
    "duration": 4,
    "start_time": "2023-04-15T22:02:30.097Z"
   },
   {
    "duration": 81,
    "start_time": "2023-04-15T22:02:30.103Z"
   },
   {
    "duration": 48,
    "start_time": "2023-04-15T22:02:30.186Z"
   },
   {
    "duration": 6,
    "start_time": "2023-04-15T22:02:30.235Z"
   },
   {
    "duration": 332,
    "start_time": "2023-04-15T22:02:30.242Z"
   },
   {
    "duration": 14,
    "start_time": "2023-04-15T22:02:30.576Z"
   },
   {
    "duration": 41,
    "start_time": "2023-04-15T22:02:30.593Z"
   },
   {
    "duration": 45,
    "start_time": "2023-04-15T22:02:30.636Z"
   },
   {
    "duration": 63,
    "start_time": "2023-04-15T22:02:30.683Z"
   },
   {
    "duration": 160,
    "start_time": "2023-04-15T22:02:30.748Z"
   },
   {
    "duration": 11,
    "start_time": "2023-04-15T22:02:30.910Z"
   },
   {
    "duration": 73,
    "start_time": "2023-04-15T22:02:30.923Z"
   },
   {
    "duration": 43,
    "start_time": "2023-04-15T22:02:30.998Z"
   },
   {
    "duration": 10,
    "start_time": "2023-04-15T22:02:31.043Z"
   },
   {
    "duration": 37,
    "start_time": "2023-04-15T22:02:31.055Z"
   },
   {
    "duration": 38,
    "start_time": "2023-04-15T22:02:31.093Z"
   },
   {
    "duration": 163,
    "start_time": "2023-04-15T22:03:24.224Z"
   },
   {
    "duration": 18,
    "start_time": "2023-04-15T22:05:05.210Z"
   },
   {
    "duration": 12,
    "start_time": "2023-04-15T22:05:26.966Z"
   },
   {
    "duration": 19,
    "start_time": "2023-04-15T22:05:58.727Z"
   },
   {
    "duration": 11,
    "start_time": "2023-04-15T22:07:28.866Z"
   },
   {
    "duration": 17,
    "start_time": "2023-04-15T22:10:09.434Z"
   },
   {
    "duration": 10,
    "start_time": "2023-04-15T22:10:44.398Z"
   },
   {
    "duration": 7,
    "start_time": "2023-04-15T22:11:00.336Z"
   },
   {
    "duration": 9,
    "start_time": "2023-04-15T22:11:51.136Z"
   },
   {
    "duration": 7,
    "start_time": "2023-04-15T22:11:55.057Z"
   },
   {
    "duration": 7,
    "start_time": "2023-04-15T22:12:11.848Z"
   },
   {
    "duration": 7,
    "start_time": "2023-04-15T22:12:34.157Z"
   },
   {
    "duration": 43,
    "start_time": "2023-04-16T09:51:06.112Z"
   },
   {
    "duration": 1386,
    "start_time": "2023-04-16T09:51:14.835Z"
   },
   {
    "duration": 1413,
    "start_time": "2023-04-16T09:51:16.223Z"
   },
   {
    "duration": 13,
    "start_time": "2023-04-16T09:51:17.638Z"
   },
   {
    "duration": 317,
    "start_time": "2023-04-16T09:51:17.653Z"
   },
   {
    "duration": 47,
    "start_time": "2023-04-16T09:51:17.971Z"
   },
   {
    "duration": 5,
    "start_time": "2023-04-16T09:51:18.019Z"
   },
   {
    "duration": 8,
    "start_time": "2023-04-16T09:51:18.026Z"
   },
   {
    "duration": 31,
    "start_time": "2023-04-16T09:51:18.056Z"
   },
   {
    "duration": 47,
    "start_time": "2023-04-16T09:51:18.089Z"
   },
   {
    "duration": 36,
    "start_time": "2023-04-16T09:51:18.139Z"
   },
   {
    "duration": 107,
    "start_time": "2023-04-16T09:51:18.177Z"
   },
   {
    "duration": 6,
    "start_time": "2023-04-16T09:51:18.286Z"
   },
   {
    "duration": 5,
    "start_time": "2023-04-16T09:51:18.294Z"
   },
   {
    "duration": 6,
    "start_time": "2023-04-16T09:51:18.301Z"
   },
   {
    "duration": 82,
    "start_time": "2023-04-16T09:51:18.308Z"
   },
   {
    "duration": 11,
    "start_time": "2023-04-16T09:51:18.392Z"
   },
   {
    "duration": 5,
    "start_time": "2023-04-16T09:51:18.405Z"
   },
   {
    "duration": 12,
    "start_time": "2023-04-16T09:51:18.411Z"
   },
   {
    "duration": 37,
    "start_time": "2023-04-16T09:51:18.424Z"
   },
   {
    "duration": 23,
    "start_time": "2023-04-16T09:51:18.464Z"
   },
   {
    "duration": 29,
    "start_time": "2023-04-16T09:51:18.489Z"
   },
   {
    "duration": 37,
    "start_time": "2023-04-16T09:51:18.520Z"
   },
   {
    "duration": 12,
    "start_time": "2023-04-16T09:51:18.559Z"
   },
   {
    "duration": 6,
    "start_time": "2023-04-16T09:51:18.572Z"
   },
   {
    "duration": 7,
    "start_time": "2023-04-16T09:51:18.579Z"
   },
   {
    "duration": 10,
    "start_time": "2023-04-16T09:51:18.587Z"
   },
   {
    "duration": 175,
    "start_time": "2023-04-16T09:51:18.598Z"
   },
   {
    "duration": 63,
    "start_time": "2023-04-16T09:51:18.776Z"
   },
   {
    "duration": 16,
    "start_time": "2023-04-16T09:51:18.841Z"
   },
   {
    "duration": 9,
    "start_time": "2023-04-16T09:51:18.859Z"
   },
   {
    "duration": 361,
    "start_time": "2023-04-16T09:51:18.870Z"
   },
   {
    "duration": 4,
    "start_time": "2023-04-16T09:51:19.233Z"
   },
   {
    "duration": 223,
    "start_time": "2023-04-16T09:51:19.239Z"
   },
   {
    "duration": 113,
    "start_time": "2023-04-16T09:51:19.464Z"
   },
   {
    "duration": 11,
    "start_time": "2023-04-16T09:51:19.579Z"
   },
   {
    "duration": 18,
    "start_time": "2023-04-16T09:51:19.592Z"
   },
   {
    "duration": 4,
    "start_time": "2023-04-16T09:51:19.611Z"
   },
   {
    "duration": 8,
    "start_time": "2023-04-16T09:51:19.617Z"
   },
   {
    "duration": 69,
    "start_time": "2023-04-16T09:51:19.626Z"
   },
   {
    "duration": 153,
    "start_time": "2023-04-16T09:51:19.697Z"
   },
   {
    "duration": 0,
    "start_time": "2023-04-16T09:51:19.851Z"
   },
   {
    "duration": 0,
    "start_time": "2023-04-16T09:51:19.852Z"
   },
   {
    "duration": 0,
    "start_time": "2023-04-16T09:51:19.855Z"
   },
   {
    "duration": 0,
    "start_time": "2023-04-16T09:51:19.856Z"
   },
   {
    "duration": 0,
    "start_time": "2023-04-16T09:51:19.857Z"
   },
   {
    "duration": 0,
    "start_time": "2023-04-16T09:51:19.858Z"
   },
   {
    "duration": 0,
    "start_time": "2023-04-16T09:51:19.859Z"
   },
   {
    "duration": 0,
    "start_time": "2023-04-16T09:51:19.860Z"
   },
   {
    "duration": 0,
    "start_time": "2023-04-16T09:51:19.861Z"
   },
   {
    "duration": 0,
    "start_time": "2023-04-16T09:51:19.862Z"
   },
   {
    "duration": 0,
    "start_time": "2023-04-16T09:51:19.863Z"
   },
   {
    "duration": 0,
    "start_time": "2023-04-16T09:51:19.865Z"
   },
   {
    "duration": 0,
    "start_time": "2023-04-16T09:51:19.865Z"
   },
   {
    "duration": 1,
    "start_time": "2023-04-16T09:51:19.866Z"
   },
   {
    "duration": 11,
    "start_time": "2023-04-16T09:56:01.776Z"
   },
   {
    "duration": 19,
    "start_time": "2023-04-16T10:12:17.877Z"
   },
   {
    "duration": 1016,
    "start_time": "2023-04-16T10:12:38.212Z"
   },
   {
    "duration": 1302,
    "start_time": "2023-04-16T10:18:20.705Z"
   },
   {
    "duration": 1504,
    "start_time": "2023-04-16T10:18:22.010Z"
   },
   {
    "duration": 12,
    "start_time": "2023-04-16T10:18:23.515Z"
   },
   {
    "duration": 414,
    "start_time": "2023-04-16T10:18:23.529Z"
   },
   {
    "duration": 76,
    "start_time": "2023-04-16T10:18:23.946Z"
   },
   {
    "duration": 8,
    "start_time": "2023-04-16T10:18:24.024Z"
   },
   {
    "duration": 28,
    "start_time": "2023-04-16T10:18:24.034Z"
   },
   {
    "duration": 72,
    "start_time": "2023-04-16T10:18:24.063Z"
   },
   {
    "duration": 67,
    "start_time": "2023-04-16T10:18:24.137Z"
   },
   {
    "duration": 29,
    "start_time": "2023-04-16T10:18:24.206Z"
   },
   {
    "duration": 154,
    "start_time": "2023-04-16T10:18:24.237Z"
   },
   {
    "duration": 6,
    "start_time": "2023-04-16T10:18:24.393Z"
   },
   {
    "duration": 16,
    "start_time": "2023-04-16T10:18:24.402Z"
   },
   {
    "duration": 125,
    "start_time": "2023-04-16T10:18:24.421Z"
   },
   {
    "duration": 0,
    "start_time": "2023-04-16T10:18:24.548Z"
   },
   {
    "duration": 0,
    "start_time": "2023-04-16T10:18:24.549Z"
   },
   {
    "duration": 0,
    "start_time": "2023-04-16T10:18:24.550Z"
   },
   {
    "duration": 0,
    "start_time": "2023-04-16T10:18:24.551Z"
   },
   {
    "duration": 0,
    "start_time": "2023-04-16T10:18:24.555Z"
   },
   {
    "duration": 0,
    "start_time": "2023-04-16T10:18:24.556Z"
   },
   {
    "duration": 1,
    "start_time": "2023-04-16T10:18:24.557Z"
   },
   {
    "duration": 0,
    "start_time": "2023-04-16T10:18:24.559Z"
   },
   {
    "duration": 0,
    "start_time": "2023-04-16T10:18:24.560Z"
   },
   {
    "duration": 0,
    "start_time": "2023-04-16T10:18:24.562Z"
   },
   {
    "duration": 0,
    "start_time": "2023-04-16T10:18:24.564Z"
   },
   {
    "duration": 0,
    "start_time": "2023-04-16T10:18:24.565Z"
   },
   {
    "duration": 0,
    "start_time": "2023-04-16T10:18:24.566Z"
   },
   {
    "duration": 0,
    "start_time": "2023-04-16T10:18:24.568Z"
   },
   {
    "duration": 0,
    "start_time": "2023-04-16T10:18:24.570Z"
   },
   {
    "duration": 0,
    "start_time": "2023-04-16T10:18:24.571Z"
   },
   {
    "duration": 0,
    "start_time": "2023-04-16T10:18:24.572Z"
   },
   {
    "duration": 0,
    "start_time": "2023-04-16T10:18:24.574Z"
   },
   {
    "duration": 0,
    "start_time": "2023-04-16T10:18:24.576Z"
   },
   {
    "duration": 0,
    "start_time": "2023-04-16T10:18:24.578Z"
   },
   {
    "duration": 0,
    "start_time": "2023-04-16T10:18:24.579Z"
   },
   {
    "duration": 0,
    "start_time": "2023-04-16T10:18:24.580Z"
   },
   {
    "duration": 0,
    "start_time": "2023-04-16T10:18:24.582Z"
   },
   {
    "duration": 0,
    "start_time": "2023-04-16T10:18:24.583Z"
   },
   {
    "duration": 0,
    "start_time": "2023-04-16T10:18:24.584Z"
   },
   {
    "duration": 0,
    "start_time": "2023-04-16T10:18:24.585Z"
   },
   {
    "duration": 0,
    "start_time": "2023-04-16T10:18:24.587Z"
   },
   {
    "duration": 0,
    "start_time": "2023-04-16T10:18:24.588Z"
   },
   {
    "duration": 0,
    "start_time": "2023-04-16T10:18:24.589Z"
   },
   {
    "duration": 0,
    "start_time": "2023-04-16T10:18:24.590Z"
   },
   {
    "duration": 0,
    "start_time": "2023-04-16T10:18:24.591Z"
   },
   {
    "duration": 0,
    "start_time": "2023-04-16T10:18:24.592Z"
   },
   {
    "duration": 0,
    "start_time": "2023-04-16T10:18:24.593Z"
   },
   {
    "duration": 0,
    "start_time": "2023-04-16T10:18:24.594Z"
   },
   {
    "duration": 0,
    "start_time": "2023-04-16T10:18:24.596Z"
   },
   {
    "duration": 0,
    "start_time": "2023-04-16T10:18:24.597Z"
   },
   {
    "duration": 0,
    "start_time": "2023-04-16T10:18:24.598Z"
   },
   {
    "duration": 0,
    "start_time": "2023-04-16T10:18:24.599Z"
   },
   {
    "duration": 0,
    "start_time": "2023-04-16T10:18:24.600Z"
   },
   {
    "duration": 0,
    "start_time": "2023-04-16T10:18:24.602Z"
   },
   {
    "duration": 0,
    "start_time": "2023-04-16T10:18:24.603Z"
   },
   {
    "duration": 0,
    "start_time": "2023-04-16T10:18:24.605Z"
   },
   {
    "duration": 0,
    "start_time": "2023-04-16T10:18:24.606Z"
   },
   {
    "duration": 1454,
    "start_time": "2023-04-16T10:18:40.682Z"
   },
   {
    "duration": 1508,
    "start_time": "2023-04-16T10:18:42.139Z"
   },
   {
    "duration": 26,
    "start_time": "2023-04-16T10:18:43.649Z"
   },
   {
    "duration": 429,
    "start_time": "2023-04-16T10:18:43.677Z"
   },
   {
    "duration": 75,
    "start_time": "2023-04-16T10:18:44.109Z"
   },
   {
    "duration": 11,
    "start_time": "2023-04-16T10:18:44.197Z"
   },
   {
    "duration": 39,
    "start_time": "2023-04-16T10:18:44.210Z"
   },
   {
    "duration": 62,
    "start_time": "2023-04-16T10:18:44.251Z"
   },
   {
    "duration": 51,
    "start_time": "2023-04-16T10:18:44.315Z"
   },
   {
    "duration": 27,
    "start_time": "2023-04-16T10:18:44.368Z"
   },
   {
    "duration": 141,
    "start_time": "2023-04-16T10:18:44.399Z"
   },
   {
    "duration": 8,
    "start_time": "2023-04-16T10:18:44.542Z"
   },
   {
    "duration": 5,
    "start_time": "2023-04-16T10:18:44.556Z"
   },
   {
    "duration": 9,
    "start_time": "2023-04-16T10:18:44.563Z"
   },
   {
    "duration": 63,
    "start_time": "2023-04-16T10:18:44.574Z"
   },
   {
    "duration": 27,
    "start_time": "2023-04-16T10:18:44.638Z"
   },
   {
    "duration": 7,
    "start_time": "2023-04-16T10:18:44.667Z"
   },
   {
    "duration": 13,
    "start_time": "2023-04-16T10:18:44.676Z"
   },
   {
    "duration": 15,
    "start_time": "2023-04-16T10:18:44.691Z"
   },
   {
    "duration": 25,
    "start_time": "2023-04-16T10:18:44.708Z"
   },
   {
    "duration": 50,
    "start_time": "2023-04-16T10:18:44.735Z"
   },
   {
    "duration": 18,
    "start_time": "2023-04-16T10:18:44.786Z"
   },
   {
    "duration": 16,
    "start_time": "2023-04-16T10:18:44.806Z"
   },
   {
    "duration": 55,
    "start_time": "2023-04-16T10:18:44.825Z"
   },
   {
    "duration": 1141,
    "start_time": "2023-04-16T10:18:44.882Z"
   },
   {
    "duration": 0,
    "start_time": "2023-04-16T10:18:46.028Z"
   },
   {
    "duration": 0,
    "start_time": "2023-04-16T10:18:46.030Z"
   },
   {
    "duration": 0,
    "start_time": "2023-04-16T10:18:46.031Z"
   },
   {
    "duration": 0,
    "start_time": "2023-04-16T10:18:46.033Z"
   },
   {
    "duration": 0,
    "start_time": "2023-04-16T10:18:46.034Z"
   },
   {
    "duration": 0,
    "start_time": "2023-04-16T10:18:46.035Z"
   },
   {
    "duration": 0,
    "start_time": "2023-04-16T10:18:46.036Z"
   },
   {
    "duration": 0,
    "start_time": "2023-04-16T10:18:46.037Z"
   },
   {
    "duration": 0,
    "start_time": "2023-04-16T10:18:46.039Z"
   },
   {
    "duration": 0,
    "start_time": "2023-04-16T10:18:46.040Z"
   },
   {
    "duration": 0,
    "start_time": "2023-04-16T10:18:46.041Z"
   },
   {
    "duration": 0,
    "start_time": "2023-04-16T10:18:46.043Z"
   },
   {
    "duration": 0,
    "start_time": "2023-04-16T10:18:46.044Z"
   },
   {
    "duration": 0,
    "start_time": "2023-04-16T10:18:46.045Z"
   },
   {
    "duration": 0,
    "start_time": "2023-04-16T10:18:46.047Z"
   },
   {
    "duration": 0,
    "start_time": "2023-04-16T10:18:46.048Z"
   },
   {
    "duration": 0,
    "start_time": "2023-04-16T10:18:46.050Z"
   },
   {
    "duration": 0,
    "start_time": "2023-04-16T10:18:46.051Z"
   },
   {
    "duration": 0,
    "start_time": "2023-04-16T10:18:46.053Z"
   },
   {
    "duration": 0,
    "start_time": "2023-04-16T10:18:46.054Z"
   },
   {
    "duration": 0,
    "start_time": "2023-04-16T10:18:46.059Z"
   },
   {
    "duration": 0,
    "start_time": "2023-04-16T10:18:46.060Z"
   },
   {
    "duration": 1,
    "start_time": "2023-04-16T10:18:46.061Z"
   },
   {
    "duration": 0,
    "start_time": "2023-04-16T10:18:46.063Z"
   },
   {
    "duration": 0,
    "start_time": "2023-04-16T10:18:46.064Z"
   },
   {
    "duration": 0,
    "start_time": "2023-04-16T10:18:46.065Z"
   },
   {
    "duration": 0,
    "start_time": "2023-04-16T10:18:46.066Z"
   },
   {
    "duration": 0,
    "start_time": "2023-04-16T10:18:46.068Z"
   },
   {
    "duration": 0,
    "start_time": "2023-04-16T10:18:46.069Z"
   },
   {
    "duration": 0,
    "start_time": "2023-04-16T10:18:46.070Z"
   },
   {
    "duration": 0,
    "start_time": "2023-04-16T10:18:46.071Z"
   },
   {
    "duration": 7,
    "start_time": "2023-04-16T10:20:18.303Z"
   },
   {
    "duration": 1039,
    "start_time": "2023-04-16T10:20:19.210Z"
   },
   {
    "duration": 198,
    "start_time": "2023-04-16T10:27:58.411Z"
   },
   {
    "duration": 240,
    "start_time": "2023-04-16T10:33:59.623Z"
   },
   {
    "duration": 83,
    "start_time": "2023-04-16T10:34:56.644Z"
   },
   {
    "duration": 1009,
    "start_time": "2023-04-16T10:34:57.432Z"
   },
   {
    "duration": 65,
    "start_time": "2023-04-16T10:35:17.140Z"
   },
   {
    "duration": 1400,
    "start_time": "2023-04-16T10:35:31.551Z"
   },
   {
    "duration": 1373,
    "start_time": "2023-04-16T10:35:32.953Z"
   },
   {
    "duration": 18,
    "start_time": "2023-04-16T10:35:34.329Z"
   },
   {
    "duration": 447,
    "start_time": "2023-04-16T10:35:34.360Z"
   },
   {
    "duration": 99,
    "start_time": "2023-04-16T10:35:34.810Z"
   },
   {
    "duration": 11,
    "start_time": "2023-04-16T10:35:34.912Z"
   },
   {
    "duration": 51,
    "start_time": "2023-04-16T10:35:34.926Z"
   },
   {
    "duration": 61,
    "start_time": "2023-04-16T10:35:34.979Z"
   },
   {
    "duration": 72,
    "start_time": "2023-04-16T10:35:35.042Z"
   },
   {
    "duration": 30,
    "start_time": "2023-04-16T10:35:35.119Z"
   },
   {
    "duration": 209,
    "start_time": "2023-04-16T10:35:35.152Z"
   },
   {
    "duration": 18,
    "start_time": "2023-04-16T10:35:35.368Z"
   },
   {
    "duration": 12,
    "start_time": "2023-04-16T10:35:35.392Z"
   },
   {
    "duration": 12,
    "start_time": "2023-04-16T10:35:35.408Z"
   },
   {
    "duration": 84,
    "start_time": "2023-04-16T10:35:35.422Z"
   },
   {
    "duration": 12,
    "start_time": "2023-04-16T10:35:35.508Z"
   },
   {
    "duration": 14,
    "start_time": "2023-04-16T10:35:35.522Z"
   },
   {
    "duration": 44,
    "start_time": "2023-04-16T10:35:35.538Z"
   },
   {
    "duration": 15,
    "start_time": "2023-04-16T10:35:35.584Z"
   },
   {
    "duration": 24,
    "start_time": "2023-04-16T10:35:35.604Z"
   },
   {
    "duration": 53,
    "start_time": "2023-04-16T10:35:35.631Z"
   },
   {
    "duration": 21,
    "start_time": "2023-04-16T10:35:35.686Z"
   },
   {
    "duration": 15,
    "start_time": "2023-04-16T10:35:35.709Z"
   },
   {
    "duration": 196,
    "start_time": "2023-04-16T10:35:35.726Z"
   },
   {
    "duration": 97,
    "start_time": "2023-04-16T10:35:35.924Z"
   },
   {
    "duration": 0,
    "start_time": "2023-04-16T10:35:36.023Z"
   },
   {
    "duration": 0,
    "start_time": "2023-04-16T10:35:36.025Z"
   },
   {
    "duration": 0,
    "start_time": "2023-04-16T10:35:36.027Z"
   },
   {
    "duration": 0,
    "start_time": "2023-04-16T10:35:36.028Z"
   },
   {
    "duration": 0,
    "start_time": "2023-04-16T10:35:36.030Z"
   },
   {
    "duration": 0,
    "start_time": "2023-04-16T10:35:36.031Z"
   },
   {
    "duration": 0,
    "start_time": "2023-04-16T10:35:36.033Z"
   },
   {
    "duration": 0,
    "start_time": "2023-04-16T10:35:36.034Z"
   },
   {
    "duration": 0,
    "start_time": "2023-04-16T10:35:36.036Z"
   },
   {
    "duration": 0,
    "start_time": "2023-04-16T10:35:36.037Z"
   },
   {
    "duration": 0,
    "start_time": "2023-04-16T10:35:36.038Z"
   },
   {
    "duration": 0,
    "start_time": "2023-04-16T10:35:36.040Z"
   },
   {
    "duration": 0,
    "start_time": "2023-04-16T10:35:36.041Z"
   },
   {
    "duration": 0,
    "start_time": "2023-04-16T10:35:36.042Z"
   },
   {
    "duration": 0,
    "start_time": "2023-04-16T10:35:36.043Z"
   },
   {
    "duration": 0,
    "start_time": "2023-04-16T10:35:36.044Z"
   },
   {
    "duration": 0,
    "start_time": "2023-04-16T10:35:36.046Z"
   },
   {
    "duration": 0,
    "start_time": "2023-04-16T10:35:36.047Z"
   },
   {
    "duration": 0,
    "start_time": "2023-04-16T10:35:36.048Z"
   },
   {
    "duration": 0,
    "start_time": "2023-04-16T10:35:36.049Z"
   },
   {
    "duration": 0,
    "start_time": "2023-04-16T10:35:36.050Z"
   },
   {
    "duration": 0,
    "start_time": "2023-04-16T10:35:36.051Z"
   },
   {
    "duration": 0,
    "start_time": "2023-04-16T10:35:36.052Z"
   },
   {
    "duration": 0,
    "start_time": "2023-04-16T10:35:36.053Z"
   },
   {
    "duration": 0,
    "start_time": "2023-04-16T10:35:36.054Z"
   },
   {
    "duration": 0,
    "start_time": "2023-04-16T10:35:36.057Z"
   },
   {
    "duration": 0,
    "start_time": "2023-04-16T10:35:36.058Z"
   },
   {
    "duration": 0,
    "start_time": "2023-04-16T10:35:36.058Z"
   },
   {
    "duration": 0,
    "start_time": "2023-04-16T10:35:36.059Z"
   },
   {
    "duration": 0,
    "start_time": "2023-04-16T10:35:36.060Z"
   },
   {
    "duration": 0,
    "start_time": "2023-04-16T10:35:36.062Z"
   },
   {
    "duration": 0,
    "start_time": "2023-04-16T10:35:36.062Z"
   },
   {
    "duration": 0,
    "start_time": "2023-04-16T10:35:36.063Z"
   },
   {
    "duration": 0,
    "start_time": "2023-04-16T10:35:36.064Z"
   },
   {
    "duration": 213,
    "start_time": "2023-04-16T10:37:47.608Z"
   },
   {
    "duration": 21,
    "start_time": "2023-04-16T10:37:47.825Z"
   },
   {
    "duration": 27,
    "start_time": "2023-04-16T10:37:48.973Z"
   },
   {
    "duration": 14,
    "start_time": "2023-04-16T10:38:39.715Z"
   },
   {
    "duration": 18,
    "start_time": "2023-04-16T10:38:44.802Z"
   },
   {
    "duration": 8,
    "start_time": "2023-04-16T10:38:57.193Z"
   },
   {
    "duration": 1386,
    "start_time": "2023-04-16T10:43:09.100Z"
   },
   {
    "duration": 1457,
    "start_time": "2023-04-16T10:43:10.495Z"
   },
   {
    "duration": 30,
    "start_time": "2023-04-16T10:43:11.954Z"
   },
   {
    "duration": 466,
    "start_time": "2023-04-16T10:43:11.986Z"
   },
   {
    "duration": 94,
    "start_time": "2023-04-16T10:43:12.456Z"
   },
   {
    "duration": 20,
    "start_time": "2023-04-16T10:43:12.553Z"
   },
   {
    "duration": 18,
    "start_time": "2023-04-16T10:43:12.575Z"
   },
   {
    "duration": 69,
    "start_time": "2023-04-16T10:43:12.598Z"
   },
   {
    "duration": 75,
    "start_time": "2023-04-16T10:43:12.669Z"
   },
   {
    "duration": 37,
    "start_time": "2023-04-16T10:43:12.747Z"
   },
   {
    "duration": 155,
    "start_time": "2023-04-16T10:43:12.786Z"
   },
   {
    "duration": 20,
    "start_time": "2023-04-16T10:43:12.943Z"
   },
   {
    "duration": 7,
    "start_time": "2023-04-16T10:43:12.972Z"
   },
   {
    "duration": 271,
    "start_time": "2023-04-16T10:43:12.986Z"
   },
   {
    "duration": 66,
    "start_time": "2023-04-16T10:43:13.266Z"
   },
   {
    "duration": 65,
    "start_time": "2023-04-16T10:43:13.334Z"
   },
   {
    "duration": 5,
    "start_time": "2023-04-16T10:43:13.401Z"
   },
   {
    "duration": 5,
    "start_time": "2023-04-16T10:43:13.410Z"
   },
   {
    "duration": 89,
    "start_time": "2023-04-16T10:43:13.417Z"
   },
   {
    "duration": 15,
    "start_time": "2023-04-16T10:43:13.508Z"
   },
   {
    "duration": 6,
    "start_time": "2023-04-16T10:43:13.525Z"
   },
   {
    "duration": 35,
    "start_time": "2023-04-16T10:43:13.533Z"
   },
   {
    "duration": 13,
    "start_time": "2023-04-16T10:43:13.571Z"
   },
   {
    "duration": 40,
    "start_time": "2023-04-16T10:43:13.587Z"
   },
   {
    "duration": 38,
    "start_time": "2023-04-16T10:43:13.629Z"
   },
   {
    "duration": 27,
    "start_time": "2023-04-16T10:43:13.670Z"
   },
   {
    "duration": 21,
    "start_time": "2023-04-16T10:43:13.700Z"
   },
   {
    "duration": 240,
    "start_time": "2023-04-16T10:43:13.724Z"
   },
   {
    "duration": 11,
    "start_time": "2023-04-16T10:43:13.967Z"
   },
   {
    "duration": 42,
    "start_time": "2023-04-16T10:43:13.981Z"
   },
   {
    "duration": 17,
    "start_time": "2023-04-16T10:43:14.026Z"
   },
   {
    "duration": 65,
    "start_time": "2023-04-16T10:43:14.045Z"
   },
   {
    "duration": 32,
    "start_time": "2023-04-16T10:43:14.112Z"
   },
   {
    "duration": 7,
    "start_time": "2023-04-16T10:43:14.147Z"
   },
   {
    "duration": 41,
    "start_time": "2023-04-16T10:43:14.162Z"
   },
   {
    "duration": 496,
    "start_time": "2023-04-16T10:43:14.210Z"
   },
   {
    "duration": 8,
    "start_time": "2023-04-16T10:43:14.708Z"
   },
   {
    "duration": 100,
    "start_time": "2023-04-16T10:43:14.718Z"
   },
   {
    "duration": 81,
    "start_time": "2023-04-16T10:43:14.825Z"
   },
   {
    "duration": 16,
    "start_time": "2023-04-16T10:43:14.909Z"
   },
   {
    "duration": 1356,
    "start_time": "2023-04-16T10:43:14.930Z"
   },
   {
    "duration": 0,
    "start_time": "2023-04-16T10:43:16.290Z"
   },
   {
    "duration": 1,
    "start_time": "2023-04-16T10:43:16.291Z"
   },
   {
    "duration": 0,
    "start_time": "2023-04-16T10:43:16.295Z"
   },
   {
    "duration": 0,
    "start_time": "2023-04-16T10:43:16.296Z"
   },
   {
    "duration": 0,
    "start_time": "2023-04-16T10:43:16.296Z"
   },
   {
    "duration": 0,
    "start_time": "2023-04-16T10:43:16.302Z"
   },
   {
    "duration": 0,
    "start_time": "2023-04-16T10:43:16.303Z"
   },
   {
    "duration": 0,
    "start_time": "2023-04-16T10:43:16.304Z"
   },
   {
    "duration": 0,
    "start_time": "2023-04-16T10:43:16.305Z"
   },
   {
    "duration": 0,
    "start_time": "2023-04-16T10:43:16.306Z"
   },
   {
    "duration": 0,
    "start_time": "2023-04-16T10:43:16.309Z"
   },
   {
    "duration": 0,
    "start_time": "2023-04-16T10:43:16.310Z"
   },
   {
    "duration": 0,
    "start_time": "2023-04-16T10:43:16.312Z"
   },
   {
    "duration": 0,
    "start_time": "2023-04-16T10:43:16.313Z"
   },
   {
    "duration": 0,
    "start_time": "2023-04-16T10:43:16.315Z"
   },
   {
    "duration": 0,
    "start_time": "2023-04-16T10:43:16.316Z"
   },
   {
    "duration": 0,
    "start_time": "2023-04-16T10:43:16.318Z"
   },
   {
    "duration": 0,
    "start_time": "2023-04-16T10:43:16.319Z"
   },
   {
    "duration": 1410,
    "start_time": "2023-04-16T10:47:30.616Z"
   },
   {
    "duration": 6,
    "start_time": "2023-04-16T10:48:00.615Z"
   },
   {
    "duration": 1894,
    "start_time": "2023-04-16T10:56:45.642Z"
   },
   {
    "duration": 2510,
    "start_time": "2023-04-16T10:56:47.539Z"
   },
   {
    "duration": 25,
    "start_time": "2023-04-16T10:56:50.051Z"
   },
   {
    "duration": 568,
    "start_time": "2023-04-16T10:56:50.081Z"
   },
   {
    "duration": 95,
    "start_time": "2023-04-16T10:56:50.653Z"
   },
   {
    "duration": 17,
    "start_time": "2023-04-16T10:56:50.750Z"
   },
   {
    "duration": 32,
    "start_time": "2023-04-16T10:56:50.776Z"
   },
   {
    "duration": 64,
    "start_time": "2023-04-16T10:56:50.825Z"
   },
   {
    "duration": 69,
    "start_time": "2023-04-16T10:56:50.893Z"
   },
   {
    "duration": 38,
    "start_time": "2023-04-16T10:56:50.969Z"
   },
   {
    "duration": 207,
    "start_time": "2023-04-16T10:56:51.014Z"
   },
   {
    "duration": 10,
    "start_time": "2023-04-16T10:56:51.226Z"
   },
   {
    "duration": 16,
    "start_time": "2023-04-16T10:56:51.241Z"
   },
   {
    "duration": 6,
    "start_time": "2023-04-16T10:56:51.264Z"
   },
   {
    "duration": 91,
    "start_time": "2023-04-16T10:56:51.274Z"
   },
   {
    "duration": 9,
    "start_time": "2023-04-16T10:56:51.370Z"
   },
   {
    "duration": 22,
    "start_time": "2023-04-16T10:56:51.384Z"
   },
   {
    "duration": 6,
    "start_time": "2023-04-16T10:56:51.411Z"
   },
   {
    "duration": 28,
    "start_time": "2023-04-16T10:56:51.423Z"
   },
   {
    "duration": 18,
    "start_time": "2023-04-16T10:56:51.457Z"
   },
   {
    "duration": 21,
    "start_time": "2023-04-16T10:56:51.481Z"
   },
   {
    "duration": 51,
    "start_time": "2023-04-16T10:56:51.507Z"
   },
   {
    "duration": 22,
    "start_time": "2023-04-16T10:56:51.563Z"
   },
   {
    "duration": 21,
    "start_time": "2023-04-16T10:56:51.591Z"
   },
   {
    "duration": 235,
    "start_time": "2023-04-16T10:56:51.618Z"
   },
   {
    "duration": 235,
    "start_time": "2023-04-16T10:56:51.858Z"
   },
   {
    "duration": 22,
    "start_time": "2023-04-16T10:56:52.098Z"
   },
   {
    "duration": 41,
    "start_time": "2023-04-16T10:56:52.125Z"
   },
   {
    "duration": 13,
    "start_time": "2023-04-16T10:56:52.175Z"
   },
   {
    "duration": 194,
    "start_time": "2023-04-16T10:56:52.194Z"
   },
   {
    "duration": 0,
    "start_time": "2023-04-16T10:56:52.409Z"
   },
   {
    "duration": 0,
    "start_time": "2023-04-16T10:56:52.418Z"
   },
   {
    "duration": 0,
    "start_time": "2023-04-16T10:56:52.428Z"
   },
   {
    "duration": 0,
    "start_time": "2023-04-16T10:56:52.437Z"
   },
   {
    "duration": 0,
    "start_time": "2023-04-16T10:56:52.442Z"
   },
   {
    "duration": 0,
    "start_time": "2023-04-16T10:56:52.443Z"
   },
   {
    "duration": 0,
    "start_time": "2023-04-16T10:56:52.455Z"
   },
   {
    "duration": 0,
    "start_time": "2023-04-16T10:56:52.457Z"
   },
   {
    "duration": 0,
    "start_time": "2023-04-16T10:56:52.459Z"
   },
   {
    "duration": 0,
    "start_time": "2023-04-16T10:56:52.462Z"
   },
   {
    "duration": 0,
    "start_time": "2023-04-16T10:56:52.466Z"
   },
   {
    "duration": 0,
    "start_time": "2023-04-16T10:56:52.479Z"
   },
   {
    "duration": 0,
    "start_time": "2023-04-16T10:56:52.483Z"
   },
   {
    "duration": 0,
    "start_time": "2023-04-16T10:56:52.485Z"
   },
   {
    "duration": 0,
    "start_time": "2023-04-16T10:56:52.486Z"
   },
   {
    "duration": 0,
    "start_time": "2023-04-16T10:56:52.491Z"
   },
   {
    "duration": 0,
    "start_time": "2023-04-16T10:56:52.492Z"
   },
   {
    "duration": 0,
    "start_time": "2023-04-16T10:56:52.494Z"
   },
   {
    "duration": 0,
    "start_time": "2023-04-16T10:56:52.496Z"
   },
   {
    "duration": 0,
    "start_time": "2023-04-16T10:56:52.500Z"
   },
   {
    "duration": 0,
    "start_time": "2023-04-16T10:56:52.503Z"
   },
   {
    "duration": 0,
    "start_time": "2023-04-16T10:56:52.505Z"
   },
   {
    "duration": 0,
    "start_time": "2023-04-16T10:56:52.507Z"
   },
   {
    "duration": 0,
    "start_time": "2023-04-16T10:56:52.509Z"
   },
   {
    "duration": 0,
    "start_time": "2023-04-16T10:56:52.510Z"
   },
   {
    "duration": 0,
    "start_time": "2023-04-16T10:56:52.512Z"
   },
   {
    "duration": 0,
    "start_time": "2023-04-16T10:56:52.514Z"
   },
   {
    "duration": 0,
    "start_time": "2023-04-16T10:56:52.515Z"
   },
   {
    "duration": 0,
    "start_time": "2023-04-16T10:56:52.529Z"
   },
   {
    "duration": 0,
    "start_time": "2023-04-16T10:56:52.534Z"
   },
   {
    "duration": 0,
    "start_time": "2023-04-16T10:56:52.536Z"
   },
   {
    "duration": 1697,
    "start_time": "2023-04-16T10:57:25.096Z"
   },
   {
    "duration": 1645,
    "start_time": "2023-04-16T10:57:26.800Z"
   },
   {
    "duration": 23,
    "start_time": "2023-04-16T10:57:28.447Z"
   },
   {
    "duration": 465,
    "start_time": "2023-04-16T10:57:28.476Z"
   },
   {
    "duration": 92,
    "start_time": "2023-04-16T10:57:28.944Z"
   },
   {
    "duration": 7,
    "start_time": "2023-04-16T10:57:29.038Z"
   },
   {
    "duration": 32,
    "start_time": "2023-04-16T10:57:29.046Z"
   },
   {
    "duration": 60,
    "start_time": "2023-04-16T10:57:29.080Z"
   },
   {
    "duration": 76,
    "start_time": "2023-04-16T10:57:29.144Z"
   },
   {
    "duration": 22,
    "start_time": "2023-04-16T10:57:29.221Z"
   },
   {
    "duration": 154,
    "start_time": "2023-04-16T10:57:29.245Z"
   },
   {
    "duration": 7,
    "start_time": "2023-04-16T10:57:29.401Z"
   },
   {
    "duration": 18,
    "start_time": "2023-04-16T10:57:29.410Z"
   },
   {
    "duration": 5,
    "start_time": "2023-04-16T10:57:29.433Z"
   },
   {
    "duration": 106,
    "start_time": "2023-04-16T10:57:29.440Z"
   },
   {
    "duration": 7,
    "start_time": "2023-04-16T10:57:29.551Z"
   },
   {
    "duration": 21,
    "start_time": "2023-04-16T10:57:29.560Z"
   },
   {
    "duration": 4,
    "start_time": "2023-04-16T10:57:29.583Z"
   },
   {
    "duration": 15,
    "start_time": "2023-04-16T10:57:29.590Z"
   },
   {
    "duration": 14,
    "start_time": "2023-04-16T10:57:29.608Z"
   },
   {
    "duration": 42,
    "start_time": "2023-04-16T10:57:29.624Z"
   },
   {
    "duration": 55,
    "start_time": "2023-04-16T10:57:29.673Z"
   },
   {
    "duration": 17,
    "start_time": "2023-04-16T10:57:29.733Z"
   },
   {
    "duration": 27,
    "start_time": "2023-04-16T10:57:29.752Z"
   },
   {
    "duration": 247,
    "start_time": "2023-04-16T10:57:29.781Z"
   },
   {
    "duration": 319,
    "start_time": "2023-04-16T10:57:30.033Z"
   },
   {
    "duration": 30,
    "start_time": "2023-04-16T10:57:30.354Z"
   },
   {
    "duration": 51,
    "start_time": "2023-04-16T10:57:30.393Z"
   },
   {
    "duration": 5,
    "start_time": "2023-04-16T10:57:30.448Z"
   },
   {
    "duration": 59,
    "start_time": "2023-04-16T10:57:30.456Z"
   },
   {
    "duration": 26,
    "start_time": "2023-04-16T10:57:30.517Z"
   },
   {
    "duration": 15,
    "start_time": "2023-04-16T10:57:30.546Z"
   },
   {
    "duration": 28,
    "start_time": "2023-04-16T10:57:30.563Z"
   },
   {
    "duration": 29,
    "start_time": "2023-04-16T10:57:30.593Z"
   },
   {
    "duration": 13,
    "start_time": "2023-04-16T10:57:30.625Z"
   },
   {
    "duration": 47,
    "start_time": "2023-04-16T10:57:30.650Z"
   },
   {
    "duration": 594,
    "start_time": "2023-04-16T10:57:30.706Z"
   },
   {
    "duration": 9,
    "start_time": "2023-04-16T10:57:31.303Z"
   },
   {
    "duration": 100,
    "start_time": "2023-04-16T10:57:31.314Z"
   },
   {
    "duration": 95,
    "start_time": "2023-04-16T10:57:31.421Z"
   },
   {
    "duration": 27,
    "start_time": "2023-04-16T10:57:31.521Z"
   },
   {
    "duration": 2224,
    "start_time": "2023-04-16T10:57:31.550Z"
   },
   {
    "duration": 0,
    "start_time": "2023-04-16T10:57:33.782Z"
   },
   {
    "duration": 0,
    "start_time": "2023-04-16T10:57:33.783Z"
   },
   {
    "duration": 0,
    "start_time": "2023-04-16T10:57:33.790Z"
   },
   {
    "duration": 0,
    "start_time": "2023-04-16T10:57:33.792Z"
   },
   {
    "duration": 0,
    "start_time": "2023-04-16T10:57:33.793Z"
   },
   {
    "duration": 0,
    "start_time": "2023-04-16T10:57:33.795Z"
   },
   {
    "duration": 0,
    "start_time": "2023-04-16T10:57:33.796Z"
   },
   {
    "duration": 0,
    "start_time": "2023-04-16T10:57:33.802Z"
   },
   {
    "duration": 1,
    "start_time": "2023-04-16T10:57:33.803Z"
   },
   {
    "duration": 0,
    "start_time": "2023-04-16T10:57:33.805Z"
   },
   {
    "duration": 0,
    "start_time": "2023-04-16T10:57:33.812Z"
   },
   {
    "duration": 0,
    "start_time": "2023-04-16T10:57:33.813Z"
   },
   {
    "duration": 0,
    "start_time": "2023-04-16T10:57:33.815Z"
   },
   {
    "duration": 0,
    "start_time": "2023-04-16T10:57:33.816Z"
   },
   {
    "duration": 0,
    "start_time": "2023-04-16T10:57:33.821Z"
   },
   {
    "duration": 0,
    "start_time": "2023-04-16T10:57:33.828Z"
   },
   {
    "duration": 0,
    "start_time": "2023-04-16T10:57:33.829Z"
   },
   {
    "duration": 0,
    "start_time": "2023-04-16T10:57:33.836Z"
   },
   {
    "duration": 1410,
    "start_time": "2023-04-16T10:59:24.182Z"
   },
   {
    "duration": 44,
    "start_time": "2023-04-16T11:01:03.414Z"
   },
   {
    "duration": 66,
    "start_time": "2023-04-16T11:01:59.698Z"
   },
   {
    "duration": 95,
    "start_time": "2023-04-16T11:02:00.229Z"
   },
   {
    "duration": 201,
    "start_time": "2023-04-16T11:02:01.537Z"
   },
   {
    "duration": 2038,
    "start_time": "2023-04-16T11:02:08.729Z"
   },
   {
    "duration": 16,
    "start_time": "2023-04-16T11:02:10.825Z"
   },
   {
    "duration": 17,
    "start_time": "2023-04-16T11:02:47.126Z"
   },
   {
    "duration": 29,
    "start_time": "2023-04-16T11:02:48.907Z"
   },
   {
    "duration": 1286,
    "start_time": "2023-04-16T11:02:58.158Z"
   },
   {
    "duration": 17,
    "start_time": "2023-04-16T11:03:00.615Z"
   },
   {
    "duration": 1492,
    "start_time": "2023-04-16T11:03:11.413Z"
   },
   {
    "duration": 1373,
    "start_time": "2023-04-16T11:03:12.908Z"
   },
   {
    "duration": 18,
    "start_time": "2023-04-16T11:03:14.288Z"
   },
   {
    "duration": 438,
    "start_time": "2023-04-16T11:03:14.308Z"
   },
   {
    "duration": 82,
    "start_time": "2023-04-16T11:03:14.749Z"
   },
   {
    "duration": 6,
    "start_time": "2023-04-16T11:03:14.833Z"
   },
   {
    "duration": 23,
    "start_time": "2023-04-16T11:03:14.859Z"
   },
   {
    "duration": 55,
    "start_time": "2023-04-16T11:03:14.884Z"
   },
   {
    "duration": 78,
    "start_time": "2023-04-16T11:03:14.941Z"
   },
   {
    "duration": 25,
    "start_time": "2023-04-16T11:03:15.024Z"
   },
   {
    "duration": 154,
    "start_time": "2023-04-16T11:03:15.059Z"
   },
   {
    "duration": 10,
    "start_time": "2023-04-16T11:03:15.215Z"
   },
   {
    "duration": 6,
    "start_time": "2023-04-16T11:03:15.228Z"
   },
   {
    "duration": 44,
    "start_time": "2023-04-16T11:03:15.236Z"
   },
   {
    "duration": 97,
    "start_time": "2023-04-16T11:03:15.286Z"
   },
   {
    "duration": 5,
    "start_time": "2023-04-16T11:03:15.385Z"
   },
   {
    "duration": 20,
    "start_time": "2023-04-16T11:03:15.392Z"
   },
   {
    "duration": 6,
    "start_time": "2023-04-16T11:03:15.414Z"
   },
   {
    "duration": 16,
    "start_time": "2023-04-16T11:03:15.422Z"
   },
   {
    "duration": 24,
    "start_time": "2023-04-16T11:03:15.440Z"
   },
   {
    "duration": 24,
    "start_time": "2023-04-16T11:03:15.467Z"
   },
   {
    "duration": 34,
    "start_time": "2023-04-16T11:03:15.495Z"
   },
   {
    "duration": 38,
    "start_time": "2023-04-16T11:03:15.531Z"
   },
   {
    "duration": 31,
    "start_time": "2023-04-16T11:03:15.572Z"
   },
   {
    "duration": 241,
    "start_time": "2023-04-16T11:03:15.606Z"
   },
   {
    "duration": 264,
    "start_time": "2023-04-16T11:03:15.849Z"
   },
   {
    "duration": 22,
    "start_time": "2023-04-16T11:03:16.116Z"
   },
   {
    "duration": 47,
    "start_time": "2023-04-16T11:03:16.143Z"
   },
   {
    "duration": 8,
    "start_time": "2023-04-16T11:03:16.194Z"
   },
   {
    "duration": 8,
    "start_time": "2023-04-16T11:03:16.204Z"
   },
   {
    "duration": 4,
    "start_time": "2023-04-16T11:03:16.214Z"
   },
   {
    "duration": 12,
    "start_time": "2023-04-16T11:03:16.220Z"
   },
   {
    "duration": 40,
    "start_time": "2023-04-16T11:03:16.235Z"
   },
   {
    "duration": 22,
    "start_time": "2023-04-16T11:03:16.277Z"
   },
   {
    "duration": 10,
    "start_time": "2023-04-16T11:03:16.302Z"
   },
   {
    "duration": 11,
    "start_time": "2023-04-16T11:03:16.315Z"
   },
   {
    "duration": 557,
    "start_time": "2023-04-16T11:03:16.328Z"
   },
   {
    "duration": 8,
    "start_time": "2023-04-16T11:03:16.889Z"
   },
   {
    "duration": 26,
    "start_time": "2023-04-16T11:03:16.899Z"
   },
   {
    "duration": 291,
    "start_time": "2023-04-16T11:03:16.927Z"
   },
   {
    "duration": 0,
    "start_time": "2023-04-16T11:03:17.221Z"
   },
   {
    "duration": 0,
    "start_time": "2023-04-16T11:03:17.222Z"
   },
   {
    "duration": 0,
    "start_time": "2023-04-16T11:03:17.224Z"
   },
   {
    "duration": 0,
    "start_time": "2023-04-16T11:03:17.226Z"
   },
   {
    "duration": 0,
    "start_time": "2023-04-16T11:03:17.227Z"
   },
   {
    "duration": 0,
    "start_time": "2023-04-16T11:03:17.229Z"
   },
   {
    "duration": 0,
    "start_time": "2023-04-16T11:03:17.230Z"
   },
   {
    "duration": 0,
    "start_time": "2023-04-16T11:03:17.231Z"
   },
   {
    "duration": 0,
    "start_time": "2023-04-16T11:03:17.233Z"
   },
   {
    "duration": 0,
    "start_time": "2023-04-16T11:03:17.257Z"
   },
   {
    "duration": 0,
    "start_time": "2023-04-16T11:03:17.258Z"
   },
   {
    "duration": 0,
    "start_time": "2023-04-16T11:03:17.259Z"
   },
   {
    "duration": 0,
    "start_time": "2023-04-16T11:03:17.261Z"
   },
   {
    "duration": 0,
    "start_time": "2023-04-16T11:03:17.262Z"
   },
   {
    "duration": 0,
    "start_time": "2023-04-16T11:03:17.263Z"
   },
   {
    "duration": 0,
    "start_time": "2023-04-16T11:03:17.266Z"
   },
   {
    "duration": 0,
    "start_time": "2023-04-16T11:03:17.267Z"
   },
   {
    "duration": 0,
    "start_time": "2023-04-16T11:03:17.268Z"
   },
   {
    "duration": 0,
    "start_time": "2023-04-16T11:03:17.269Z"
   },
   {
    "duration": 0,
    "start_time": "2023-04-16T11:03:17.271Z"
   },
   {
    "duration": 1392,
    "start_time": "2023-04-16T11:03:51.443Z"
   },
   {
    "duration": 1441,
    "start_time": "2023-04-16T11:03:52.838Z"
   },
   {
    "duration": 32,
    "start_time": "2023-04-16T11:03:54.281Z"
   },
   {
    "duration": 422,
    "start_time": "2023-04-16T11:03:54.318Z"
   },
   {
    "duration": 80,
    "start_time": "2023-04-16T11:03:54.743Z"
   },
   {
    "duration": 9,
    "start_time": "2023-04-16T11:03:54.824Z"
   },
   {
    "duration": 23,
    "start_time": "2023-04-16T11:03:54.835Z"
   },
   {
    "duration": 63,
    "start_time": "2023-04-16T11:03:54.868Z"
   },
   {
    "duration": 85,
    "start_time": "2023-04-16T11:03:54.933Z"
   },
   {
    "duration": 46,
    "start_time": "2023-04-16T11:03:55.020Z"
   },
   {
    "duration": 148,
    "start_time": "2023-04-16T11:03:55.084Z"
   },
   {
    "duration": 7,
    "start_time": "2023-04-16T11:03:55.234Z"
   },
   {
    "duration": 25,
    "start_time": "2023-04-16T11:03:55.244Z"
   },
   {
    "duration": 16,
    "start_time": "2023-04-16T11:03:55.280Z"
   },
   {
    "duration": 80,
    "start_time": "2023-04-16T11:03:55.299Z"
   },
   {
    "duration": 10,
    "start_time": "2023-04-16T11:03:55.385Z"
   },
   {
    "duration": 24,
    "start_time": "2023-04-16T11:03:55.397Z"
   },
   {
    "duration": 5,
    "start_time": "2023-04-16T11:03:55.423Z"
   },
   {
    "duration": 48,
    "start_time": "2023-04-16T11:03:55.438Z"
   },
   {
    "duration": 24,
    "start_time": "2023-04-16T11:03:55.488Z"
   },
   {
    "duration": 30,
    "start_time": "2023-04-16T11:03:55.514Z"
   },
   {
    "duration": 51,
    "start_time": "2023-04-16T11:03:55.546Z"
   },
   {
    "duration": 19,
    "start_time": "2023-04-16T11:03:55.599Z"
   },
   {
    "duration": 15,
    "start_time": "2023-04-16T11:03:55.620Z"
   },
   {
    "duration": 214,
    "start_time": "2023-04-16T11:03:55.637Z"
   },
   {
    "duration": 200,
    "start_time": "2023-04-16T11:03:55.855Z"
   },
   {
    "duration": 37,
    "start_time": "2023-04-16T11:03:56.057Z"
   },
   {
    "duration": 26,
    "start_time": "2023-04-16T11:03:56.096Z"
   },
   {
    "duration": 5,
    "start_time": "2023-04-16T11:03:56.124Z"
   },
   {
    "duration": 7,
    "start_time": "2023-04-16T11:03:56.131Z"
   },
   {
    "duration": 10,
    "start_time": "2023-04-16T11:03:56.163Z"
   },
   {
    "duration": 25,
    "start_time": "2023-04-16T11:03:56.175Z"
   },
   {
    "duration": 16,
    "start_time": "2023-04-16T11:03:56.203Z"
   },
   {
    "duration": 24,
    "start_time": "2023-04-16T11:03:56.221Z"
   },
   {
    "duration": 10,
    "start_time": "2023-04-16T11:03:56.247Z"
   },
   {
    "duration": 19,
    "start_time": "2023-04-16T11:03:56.263Z"
   },
   {
    "duration": 468,
    "start_time": "2023-04-16T11:03:56.286Z"
   },
   {
    "duration": 13,
    "start_time": "2023-04-16T11:03:56.767Z"
   },
   {
    "duration": 37,
    "start_time": "2023-04-16T11:03:56.784Z"
   },
   {
    "duration": 236,
    "start_time": "2023-04-16T11:03:56.859Z"
   },
   {
    "duration": 0,
    "start_time": "2023-04-16T11:03:57.105Z"
   },
   {
    "duration": 0,
    "start_time": "2023-04-16T11:03:57.106Z"
   },
   {
    "duration": 0,
    "start_time": "2023-04-16T11:03:57.107Z"
   },
   {
    "duration": 0,
    "start_time": "2023-04-16T11:03:57.108Z"
   },
   {
    "duration": 0,
    "start_time": "2023-04-16T11:03:57.110Z"
   },
   {
    "duration": 0,
    "start_time": "2023-04-16T11:03:57.113Z"
   },
   {
    "duration": 0,
    "start_time": "2023-04-16T11:03:57.115Z"
   },
   {
    "duration": 0,
    "start_time": "2023-04-16T11:03:57.116Z"
   },
   {
    "duration": 0,
    "start_time": "2023-04-16T11:03:57.118Z"
   },
   {
    "duration": 0,
    "start_time": "2023-04-16T11:03:57.119Z"
   },
   {
    "duration": 0,
    "start_time": "2023-04-16T11:03:57.121Z"
   },
   {
    "duration": 0,
    "start_time": "2023-04-16T11:03:57.123Z"
   },
   {
    "duration": 0,
    "start_time": "2023-04-16T11:03:57.125Z"
   },
   {
    "duration": 0,
    "start_time": "2023-04-16T11:03:57.126Z"
   },
   {
    "duration": 0,
    "start_time": "2023-04-16T11:03:57.127Z"
   },
   {
    "duration": 0,
    "start_time": "2023-04-16T11:03:57.129Z"
   },
   {
    "duration": 0,
    "start_time": "2023-04-16T11:03:57.131Z"
   },
   {
    "duration": 0,
    "start_time": "2023-04-16T11:03:57.131Z"
   },
   {
    "duration": 0,
    "start_time": "2023-04-16T11:03:57.156Z"
   },
   {
    "duration": 14,
    "start_time": "2023-04-16T11:04:31.712Z"
   },
   {
    "duration": 23,
    "start_time": "2023-04-16T11:09:47.513Z"
   },
   {
    "duration": 94,
    "start_time": "2023-04-16T11:09:48.903Z"
   },
   {
    "duration": 15,
    "start_time": "2023-04-16T11:09:52.406Z"
   },
   {
    "duration": 24,
    "start_time": "2023-04-16T11:10:30.777Z"
   },
   {
    "duration": 11,
    "start_time": "2023-04-16T11:11:30.339Z"
   },
   {
    "duration": 22,
    "start_time": "2023-04-16T11:11:50.311Z"
   },
   {
    "duration": 5,
    "start_time": "2023-04-16T11:11:56.416Z"
   },
   {
    "duration": 8,
    "start_time": "2023-04-16T11:11:58.112Z"
   },
   {
    "duration": 77,
    "start_time": "2023-04-16T11:11:59.813Z"
   },
   {
    "duration": 14,
    "start_time": "2023-04-16T11:12:16.642Z"
   },
   {
    "duration": 26,
    "start_time": "2023-04-16T11:12:18.814Z"
   },
   {
    "duration": 8,
    "start_time": "2023-04-16T11:12:19.453Z"
   },
   {
    "duration": 82,
    "start_time": "2023-04-16T11:12:20.350Z"
   },
   {
    "duration": 41,
    "start_time": "2023-04-16T11:12:21.758Z"
   },
   {
    "duration": 1416,
    "start_time": "2023-04-16T11:13:01.823Z"
   },
   {
    "duration": 1209,
    "start_time": "2023-04-16T11:13:03.241Z"
   },
   {
    "duration": 37,
    "start_time": "2023-04-16T11:13:04.452Z"
   },
   {
    "duration": 394,
    "start_time": "2023-04-16T11:13:04.496Z"
   },
   {
    "duration": 80,
    "start_time": "2023-04-16T11:13:04.895Z"
   },
   {
    "duration": 11,
    "start_time": "2023-04-16T11:13:04.977Z"
   },
   {
    "duration": 40,
    "start_time": "2023-04-16T11:13:04.990Z"
   },
   {
    "duration": 77,
    "start_time": "2023-04-16T11:13:05.032Z"
   },
   {
    "duration": 73,
    "start_time": "2023-04-16T11:13:05.110Z"
   },
   {
    "duration": 30,
    "start_time": "2023-04-16T11:13:05.192Z"
   },
   {
    "duration": 166,
    "start_time": "2023-04-16T11:13:05.224Z"
   },
   {
    "duration": 9,
    "start_time": "2023-04-16T11:13:05.392Z"
   },
   {
    "duration": 41,
    "start_time": "2023-04-16T11:13:05.404Z"
   },
   {
    "duration": 5,
    "start_time": "2023-04-16T11:13:05.450Z"
   },
   {
    "duration": 108,
    "start_time": "2023-04-16T11:13:05.463Z"
   },
   {
    "duration": 8,
    "start_time": "2023-04-16T11:13:05.575Z"
   },
   {
    "duration": 29,
    "start_time": "2023-04-16T11:13:05.587Z"
   },
   {
    "duration": 5,
    "start_time": "2023-04-16T11:13:05.620Z"
   },
   {
    "duration": 17,
    "start_time": "2023-04-16T11:13:05.627Z"
   },
   {
    "duration": 14,
    "start_time": "2023-04-16T11:13:05.646Z"
   },
   {
    "duration": 32,
    "start_time": "2023-04-16T11:13:05.662Z"
   },
   {
    "duration": 40,
    "start_time": "2023-04-16T11:13:05.697Z"
   },
   {
    "duration": 28,
    "start_time": "2023-04-16T11:13:05.740Z"
   },
   {
    "duration": 23,
    "start_time": "2023-04-16T11:13:05.774Z"
   },
   {
    "duration": 215,
    "start_time": "2023-04-16T11:13:05.799Z"
   },
   {
    "duration": 197,
    "start_time": "2023-04-16T11:13:06.018Z"
   },
   {
    "duration": 19,
    "start_time": "2023-04-16T11:13:06.217Z"
   },
   {
    "duration": 38,
    "start_time": "2023-04-16T11:13:06.238Z"
   },
   {
    "duration": 5,
    "start_time": "2023-04-16T11:13:06.277Z"
   },
   {
    "duration": 14,
    "start_time": "2023-04-16T11:13:06.283Z"
   },
   {
    "duration": 7,
    "start_time": "2023-04-16T11:13:06.298Z"
   },
   {
    "duration": 10,
    "start_time": "2023-04-16T11:13:06.307Z"
   },
   {
    "duration": 14,
    "start_time": "2023-04-16T11:13:06.319Z"
   },
   {
    "duration": 36,
    "start_time": "2023-04-16T11:13:06.335Z"
   },
   {
    "duration": 9,
    "start_time": "2023-04-16T11:13:06.378Z"
   },
   {
    "duration": 17,
    "start_time": "2023-04-16T11:13:06.391Z"
   },
   {
    "duration": 406,
    "start_time": "2023-04-16T11:13:06.412Z"
   },
   {
    "duration": 4,
    "start_time": "2023-04-16T11:13:06.820Z"
   },
   {
    "duration": 30,
    "start_time": "2023-04-16T11:13:06.826Z"
   },
   {
    "duration": 24,
    "start_time": "2023-04-16T11:13:06.858Z"
   },
   {
    "duration": 71,
    "start_time": "2023-04-16T11:13:06.887Z"
   },
   {
    "duration": 5,
    "start_time": "2023-04-16T11:13:06.960Z"
   },
   {
    "duration": 77,
    "start_time": "2023-04-16T11:13:06.967Z"
   },
   {
    "duration": 1229,
    "start_time": "2023-04-16T11:13:07.045Z"
   },
   {
    "duration": 65,
    "start_time": "2023-04-16T11:13:08.277Z"
   },
   {
    "duration": 8,
    "start_time": "2023-04-16T11:13:08.344Z"
   },
   {
    "duration": 58,
    "start_time": "2023-04-16T11:13:08.356Z"
   },
   {
    "duration": 1402,
    "start_time": "2023-04-16T11:13:08.416Z"
   },
   {
    "duration": 0,
    "start_time": "2023-04-16T11:13:09.820Z"
   },
   {
    "duration": 0,
    "start_time": "2023-04-16T11:13:09.822Z"
   },
   {
    "duration": 0,
    "start_time": "2023-04-16T11:13:09.823Z"
   },
   {
    "duration": 0,
    "start_time": "2023-04-16T11:13:09.824Z"
   },
   {
    "duration": 0,
    "start_time": "2023-04-16T11:13:09.826Z"
   },
   {
    "duration": 0,
    "start_time": "2023-04-16T11:13:09.920Z"
   },
   {
    "duration": 0,
    "start_time": "2023-04-16T11:13:09.922Z"
   },
   {
    "duration": 0,
    "start_time": "2023-04-16T11:13:09.923Z"
   },
   {
    "duration": 0,
    "start_time": "2023-04-16T11:13:09.925Z"
   },
   {
    "duration": 0,
    "start_time": "2023-04-16T11:13:09.926Z"
   },
   {
    "duration": 1227,
    "start_time": "2023-04-16T11:14:05.049Z"
   },
   {
    "duration": 12,
    "start_time": "2023-04-16T11:14:42.496Z"
   },
   {
    "duration": 19,
    "start_time": "2023-04-16T11:15:20.204Z"
   },
   {
    "duration": 11,
    "start_time": "2023-04-16T11:18:17.297Z"
   },
   {
    "duration": 11,
    "start_time": "2023-04-16T11:18:35.311Z"
   },
   {
    "duration": 39,
    "start_time": "2023-04-16T11:19:12.400Z"
   },
   {
    "duration": 25,
    "start_time": "2023-04-16T11:19:13.337Z"
   },
   {
    "duration": 1127,
    "start_time": "2023-04-16T11:19:13.604Z"
   },
   {
    "duration": 1332,
    "start_time": "2023-04-16T11:19:22.015Z"
   },
   {
    "duration": 1594,
    "start_time": "2023-04-16T11:19:23.349Z"
   },
   {
    "duration": 23,
    "start_time": "2023-04-16T11:19:24.945Z"
   },
   {
    "duration": 406,
    "start_time": "2023-04-16T11:19:24.970Z"
   },
   {
    "duration": 60,
    "start_time": "2023-04-16T11:19:25.379Z"
   },
   {
    "duration": 18,
    "start_time": "2023-04-16T11:19:25.441Z"
   },
   {
    "duration": 20,
    "start_time": "2023-04-16T11:19:25.461Z"
   },
   {
    "duration": 47,
    "start_time": "2023-04-16T11:19:25.482Z"
   },
   {
    "duration": 66,
    "start_time": "2023-04-16T11:19:25.531Z"
   },
   {
    "duration": 24,
    "start_time": "2023-04-16T11:19:25.600Z"
   },
   {
    "duration": 161,
    "start_time": "2023-04-16T11:19:25.626Z"
   },
   {
    "duration": 13,
    "start_time": "2023-04-16T11:19:25.800Z"
   },
   {
    "duration": 5,
    "start_time": "2023-04-16T11:19:25.816Z"
   },
   {
    "duration": 8,
    "start_time": "2023-04-16T11:19:25.822Z"
   },
   {
    "duration": 92,
    "start_time": "2023-04-16T11:19:25.832Z"
   },
   {
    "duration": 4,
    "start_time": "2023-04-16T11:19:25.926Z"
   },
   {
    "duration": 14,
    "start_time": "2023-04-16T11:19:25.932Z"
   },
   {
    "duration": 15,
    "start_time": "2023-04-16T11:19:25.948Z"
   },
   {
    "duration": 15,
    "start_time": "2023-04-16T11:19:25.965Z"
   },
   {
    "duration": 23,
    "start_time": "2023-04-16T11:19:25.982Z"
   },
   {
    "duration": 32,
    "start_time": "2023-04-16T11:19:26.008Z"
   },
   {
    "duration": 36,
    "start_time": "2023-04-16T11:19:26.041Z"
   },
   {
    "duration": 17,
    "start_time": "2023-04-16T11:19:26.078Z"
   },
   {
    "duration": 18,
    "start_time": "2023-04-16T11:19:26.097Z"
   },
   {
    "duration": 205,
    "start_time": "2023-04-16T11:19:26.116Z"
   },
   {
    "duration": 191,
    "start_time": "2023-04-16T11:19:26.323Z"
   },
   {
    "duration": 16,
    "start_time": "2023-04-16T11:19:26.516Z"
   },
   {
    "duration": 67,
    "start_time": "2023-04-16T11:19:26.537Z"
   },
   {
    "duration": 5,
    "start_time": "2023-04-16T11:19:26.608Z"
   },
   {
    "duration": 8,
    "start_time": "2023-04-16T11:19:26.615Z"
   },
   {
    "duration": 6,
    "start_time": "2023-04-16T11:19:26.624Z"
   },
   {
    "duration": 25,
    "start_time": "2023-04-16T11:19:26.633Z"
   },
   {
    "duration": 25,
    "start_time": "2023-04-16T11:19:26.662Z"
   },
   {
    "duration": 25,
    "start_time": "2023-04-16T11:19:26.689Z"
   },
   {
    "duration": 6,
    "start_time": "2023-04-16T11:19:26.716Z"
   },
   {
    "duration": 9,
    "start_time": "2023-04-16T11:19:26.724Z"
   },
   {
    "duration": 449,
    "start_time": "2023-04-16T11:19:26.735Z"
   },
   {
    "duration": 7,
    "start_time": "2023-04-16T11:19:27.185Z"
   },
   {
    "duration": 34,
    "start_time": "2023-04-16T11:19:27.194Z"
   },
   {
    "duration": 38,
    "start_time": "2023-04-16T11:19:27.229Z"
   },
   {
    "duration": 47,
    "start_time": "2023-04-16T11:19:27.269Z"
   },
   {
    "duration": 4,
    "start_time": "2023-04-16T11:19:27.317Z"
   },
   {
    "duration": 89,
    "start_time": "2023-04-16T11:19:27.323Z"
   },
   {
    "duration": 1232,
    "start_time": "2023-04-16T11:19:27.414Z"
   },
   {
    "duration": 68,
    "start_time": "2023-04-16T11:19:28.648Z"
   },
   {
    "duration": 11,
    "start_time": "2023-04-16T11:19:28.718Z"
   },
   {
    "duration": 9,
    "start_time": "2023-04-16T11:19:28.730Z"
   },
   {
    "duration": 19,
    "start_time": "2023-04-16T11:19:28.741Z"
   },
   {
    "duration": 155,
    "start_time": "2023-04-16T11:19:28.762Z"
   },
   {
    "duration": 19,
    "start_time": "2023-04-16T11:19:28.919Z"
   },
   {
    "duration": 1416,
    "start_time": "2023-04-16T11:19:28.940Z"
   },
   {
    "duration": 0,
    "start_time": "2023-04-16T11:19:30.360Z"
   },
   {
    "duration": 0,
    "start_time": "2023-04-16T11:19:30.364Z"
   },
   {
    "duration": 0,
    "start_time": "2023-04-16T11:19:30.365Z"
   },
   {
    "duration": 0,
    "start_time": "2023-04-16T11:19:30.373Z"
   },
   {
    "duration": 0,
    "start_time": "2023-04-16T11:19:30.375Z"
   },
   {
    "duration": 0,
    "start_time": "2023-04-16T11:19:30.375Z"
   },
   {
    "duration": 0,
    "start_time": "2023-04-16T11:19:30.382Z"
   },
   {
    "duration": 0,
    "start_time": "2023-04-16T11:19:30.384Z"
   },
   {
    "duration": 0,
    "start_time": "2023-04-16T11:19:30.385Z"
   },
   {
    "duration": 0,
    "start_time": "2023-04-16T11:19:30.388Z"
   },
   {
    "duration": 0,
    "start_time": "2023-04-16T11:19:30.389Z"
   },
   {
    "duration": 65,
    "start_time": "2023-04-16T11:20:46.020Z"
   },
   {
    "duration": 23,
    "start_time": "2023-04-16T11:20:47.829Z"
   },
   {
    "duration": 77,
    "start_time": "2023-04-16T11:21:00.722Z"
   },
   {
    "duration": 39,
    "start_time": "2023-04-16T11:21:02.754Z"
   },
   {
    "duration": 1373,
    "start_time": "2023-04-16T11:21:11.417Z"
   },
   {
    "duration": 1332,
    "start_time": "2023-04-16T11:21:12.798Z"
   },
   {
    "duration": 15,
    "start_time": "2023-04-16T11:21:14.132Z"
   },
   {
    "duration": 3,
    "start_time": "2023-04-16T11:21:18.074Z"
   },
   {
    "duration": 1168,
    "start_time": "2023-04-16T11:21:18.078Z"
   },
   {
    "duration": 18,
    "start_time": "2023-04-16T11:21:19.248Z"
   },
   {
    "duration": 369,
    "start_time": "2023-04-16T11:21:19.268Z"
   },
   {
    "duration": 78,
    "start_time": "2023-04-16T11:21:19.639Z"
   },
   {
    "duration": 5,
    "start_time": "2023-04-16T11:21:19.719Z"
   },
   {
    "duration": 12,
    "start_time": "2023-04-16T11:21:19.726Z"
   },
   {
    "duration": 58,
    "start_time": "2023-04-16T11:21:19.740Z"
   },
   {
    "duration": 80,
    "start_time": "2023-04-16T11:21:19.799Z"
   },
   {
    "duration": 39,
    "start_time": "2023-04-16T11:21:19.881Z"
   },
   {
    "duration": 127,
    "start_time": "2023-04-16T11:21:19.922Z"
   },
   {
    "duration": 12,
    "start_time": "2023-04-16T11:21:20.051Z"
   },
   {
    "duration": 5,
    "start_time": "2023-04-16T11:21:20.068Z"
   },
   {
    "duration": 4,
    "start_time": "2023-04-16T11:21:20.075Z"
   },
   {
    "duration": 78,
    "start_time": "2023-04-16T11:21:20.080Z"
   },
   {
    "duration": 5,
    "start_time": "2023-04-16T11:21:20.159Z"
   },
   {
    "duration": 14,
    "start_time": "2023-04-16T11:21:20.166Z"
   },
   {
    "duration": 27,
    "start_time": "2023-04-16T11:21:20.182Z"
   },
   {
    "duration": 23,
    "start_time": "2023-04-16T11:21:20.217Z"
   },
   {
    "duration": 12,
    "start_time": "2023-04-16T11:21:20.242Z"
   },
   {
    "duration": 37,
    "start_time": "2023-04-16T11:21:20.256Z"
   },
   {
    "duration": 32,
    "start_time": "2023-04-16T11:21:20.297Z"
   },
   {
    "duration": 14,
    "start_time": "2023-04-16T11:21:20.330Z"
   },
   {
    "duration": 24,
    "start_time": "2023-04-16T11:21:20.346Z"
   },
   {
    "duration": 176,
    "start_time": "2023-04-16T11:21:20.371Z"
   },
   {
    "duration": 183,
    "start_time": "2023-04-16T11:21:20.549Z"
   },
   {
    "duration": 14,
    "start_time": "2023-04-16T11:21:20.734Z"
   },
   {
    "duration": 31,
    "start_time": "2023-04-16T11:21:20.750Z"
   },
   {
    "duration": 6,
    "start_time": "2023-04-16T11:21:20.785Z"
   },
   {
    "duration": 14,
    "start_time": "2023-04-16T11:21:20.792Z"
   },
   {
    "duration": 7,
    "start_time": "2023-04-16T11:21:20.807Z"
   },
   {
    "duration": 11,
    "start_time": "2023-04-16T11:21:20.820Z"
   },
   {
    "duration": 13,
    "start_time": "2023-04-16T11:21:20.833Z"
   },
   {
    "duration": 19,
    "start_time": "2023-04-16T11:21:20.848Z"
   },
   {
    "duration": 14,
    "start_time": "2023-04-16T11:21:20.868Z"
   },
   {
    "duration": 8,
    "start_time": "2023-04-16T11:21:20.884Z"
   },
   {
    "duration": 90,
    "start_time": "2023-04-16T11:21:20.894Z"
   },
   {
    "duration": 5,
    "start_time": "2023-04-16T11:21:20.986Z"
   },
   {
    "duration": 24,
    "start_time": "2023-04-16T11:21:20.993Z"
   },
   {
    "duration": 72,
    "start_time": "2023-04-16T11:21:21.019Z"
   },
   {
    "duration": 25,
    "start_time": "2023-04-16T11:21:21.095Z"
   },
   {
    "duration": 4,
    "start_time": "2023-04-16T11:21:21.122Z"
   },
   {
    "duration": 60,
    "start_time": "2023-04-16T11:21:21.128Z"
   },
   {
    "duration": 1070,
    "start_time": "2023-04-16T11:21:21.190Z"
   },
   {
    "duration": 84,
    "start_time": "2023-04-16T11:21:22.263Z"
   },
   {
    "duration": 18,
    "start_time": "2023-04-16T11:21:22.348Z"
   },
   {
    "duration": 9,
    "start_time": "2023-04-16T11:21:22.368Z"
   },
   {
    "duration": 12,
    "start_time": "2023-04-16T11:21:22.378Z"
   },
   {
    "duration": 53,
    "start_time": "2023-04-16T11:21:22.392Z"
   },
   {
    "duration": 27,
    "start_time": "2023-04-16T11:21:22.455Z"
   },
   {
    "duration": 1326,
    "start_time": "2023-04-16T11:21:22.484Z"
   },
   {
    "duration": 0,
    "start_time": "2023-04-16T11:21:23.811Z"
   },
   {
    "duration": 0,
    "start_time": "2023-04-16T11:21:23.813Z"
   },
   {
    "duration": 0,
    "start_time": "2023-04-16T11:21:23.814Z"
   },
   {
    "duration": 0,
    "start_time": "2023-04-16T11:21:23.815Z"
   },
   {
    "duration": 0,
    "start_time": "2023-04-16T11:21:23.817Z"
   },
   {
    "duration": 0,
    "start_time": "2023-04-16T11:21:23.819Z"
   },
   {
    "duration": 0,
    "start_time": "2023-04-16T11:21:23.820Z"
   },
   {
    "duration": 0,
    "start_time": "2023-04-16T11:21:23.822Z"
   },
   {
    "duration": 0,
    "start_time": "2023-04-16T11:21:23.823Z"
   },
   {
    "duration": 0,
    "start_time": "2023-04-16T11:21:23.824Z"
   },
   {
    "duration": 0,
    "start_time": "2023-04-16T11:21:23.826Z"
   },
   {
    "duration": 1266,
    "start_time": "2023-04-16T13:29:29.141Z"
   },
   {
    "duration": 950,
    "start_time": "2023-04-16T13:29:30.409Z"
   },
   {
    "duration": 12,
    "start_time": "2023-04-16T13:29:31.362Z"
   },
   {
    "duration": 342,
    "start_time": "2023-04-16T13:29:31.375Z"
   },
   {
    "duration": 63,
    "start_time": "2023-04-16T13:29:31.719Z"
   },
   {
    "duration": 7,
    "start_time": "2023-04-16T13:29:31.783Z"
   },
   {
    "duration": 19,
    "start_time": "2023-04-16T13:29:31.791Z"
   },
   {
    "duration": 44,
    "start_time": "2023-04-16T13:29:31.811Z"
   },
   {
    "duration": 57,
    "start_time": "2023-04-16T13:29:31.857Z"
   },
   {
    "duration": 29,
    "start_time": "2023-04-16T13:29:31.916Z"
   },
   {
    "duration": 118,
    "start_time": "2023-04-16T13:29:31.947Z"
   },
   {
    "duration": 7,
    "start_time": "2023-04-16T13:29:32.068Z"
   },
   {
    "duration": 24,
    "start_time": "2023-04-16T13:29:32.077Z"
   },
   {
    "duration": 26,
    "start_time": "2023-04-16T13:29:32.104Z"
   },
   {
    "duration": 73,
    "start_time": "2023-04-16T13:29:32.132Z"
   },
   {
    "duration": 5,
    "start_time": "2023-04-16T13:29:32.207Z"
   },
   {
    "duration": 35,
    "start_time": "2023-04-16T13:29:32.213Z"
   },
   {
    "duration": 15,
    "start_time": "2023-04-16T13:29:32.250Z"
   },
   {
    "duration": 17,
    "start_time": "2023-04-16T13:29:32.267Z"
   },
   {
    "duration": 21,
    "start_time": "2023-04-16T13:29:32.286Z"
   },
   {
    "duration": 20,
    "start_time": "2023-04-16T13:29:32.309Z"
   },
   {
    "duration": 28,
    "start_time": "2023-04-16T13:29:32.331Z"
   },
   {
    "duration": 13,
    "start_time": "2023-04-16T13:29:32.361Z"
   },
   {
    "duration": 13,
    "start_time": "2023-04-16T13:29:32.376Z"
   },
   {
    "duration": 188,
    "start_time": "2023-04-16T13:29:32.391Z"
   },
   {
    "duration": 142,
    "start_time": "2023-04-16T13:29:32.581Z"
   },
   {
    "duration": 19,
    "start_time": "2023-04-16T13:29:32.725Z"
   },
   {
    "duration": 17,
    "start_time": "2023-04-16T13:29:32.745Z"
   },
   {
    "duration": 4,
    "start_time": "2023-04-16T13:29:32.764Z"
   },
   {
    "duration": 10,
    "start_time": "2023-04-16T13:29:32.769Z"
   },
   {
    "duration": 6,
    "start_time": "2023-04-16T13:29:32.780Z"
   },
   {
    "duration": 11,
    "start_time": "2023-04-16T13:29:32.788Z"
   },
   {
    "duration": 40,
    "start_time": "2023-04-16T13:29:32.801Z"
   },
   {
    "duration": 14,
    "start_time": "2023-04-16T13:29:32.843Z"
   },
   {
    "duration": 6,
    "start_time": "2023-04-16T13:29:32.859Z"
   },
   {
    "duration": 21,
    "start_time": "2023-04-16T13:29:32.866Z"
   },
   {
    "duration": 383,
    "start_time": "2023-04-16T13:29:32.889Z"
   },
   {
    "duration": 5,
    "start_time": "2023-04-16T13:29:33.274Z"
   },
   {
    "duration": 56,
    "start_time": "2023-04-16T13:29:33.281Z"
   },
   {
    "duration": 16,
    "start_time": "2023-04-16T13:29:33.339Z"
   },
   {
    "duration": 80,
    "start_time": "2023-04-16T13:29:33.361Z"
   },
   {
    "duration": 4,
    "start_time": "2023-04-16T13:29:33.443Z"
   },
   {
    "duration": 59,
    "start_time": "2023-04-16T13:29:33.449Z"
   },
   {
    "duration": 1012,
    "start_time": "2023-04-16T13:29:33.535Z"
   },
   {
    "duration": 58,
    "start_time": "2023-04-16T13:29:34.549Z"
   },
   {
    "duration": 28,
    "start_time": "2023-04-16T13:29:34.609Z"
   },
   {
    "duration": 14,
    "start_time": "2023-04-16T13:29:34.639Z"
   },
   {
    "duration": 16,
    "start_time": "2023-04-16T13:29:34.655Z"
   },
   {
    "duration": 136,
    "start_time": "2023-04-16T13:29:34.672Z"
   },
   {
    "duration": 26,
    "start_time": "2023-04-16T13:29:34.809Z"
   },
   {
    "duration": 1443,
    "start_time": "2023-04-16T13:29:34.837Z"
   },
   {
    "duration": 0,
    "start_time": "2023-04-16T13:29:36.282Z"
   },
   {
    "duration": 0,
    "start_time": "2023-04-16T13:29:36.283Z"
   },
   {
    "duration": 0,
    "start_time": "2023-04-16T13:29:36.285Z"
   },
   {
    "duration": 0,
    "start_time": "2023-04-16T13:29:36.286Z"
   },
   {
    "duration": 0,
    "start_time": "2023-04-16T13:29:36.288Z"
   },
   {
    "duration": 0,
    "start_time": "2023-04-16T13:29:36.289Z"
   },
   {
    "duration": 0,
    "start_time": "2023-04-16T13:29:36.290Z"
   },
   {
    "duration": 0,
    "start_time": "2023-04-16T13:29:36.293Z"
   },
   {
    "duration": 0,
    "start_time": "2023-04-16T13:29:36.294Z"
   },
   {
    "duration": 0,
    "start_time": "2023-04-16T13:29:36.296Z"
   },
   {
    "duration": 0,
    "start_time": "2023-04-16T13:29:36.297Z"
   },
   {
    "duration": 29,
    "start_time": "2023-04-16T13:35:41.534Z"
   },
   {
    "duration": 23,
    "start_time": "2023-04-16T13:35:42.862Z"
   },
   {
    "duration": 46,
    "start_time": "2023-04-16T13:37:57.831Z"
   },
   {
    "duration": 30,
    "start_time": "2023-04-16T13:38:01.741Z"
   },
   {
    "duration": 51,
    "start_time": "2023-04-16T13:38:25.169Z"
   },
   {
    "duration": 46,
    "start_time": "2023-04-16T13:38:26.006Z"
   },
   {
    "duration": 78,
    "start_time": "2023-04-16T13:39:49.550Z"
   },
   {
    "duration": 844,
    "start_time": "2023-04-16T13:40:06.116Z"
   },
   {
    "duration": 73,
    "start_time": "2023-04-16T13:40:34.111Z"
   },
   {
    "duration": 114,
    "start_time": "2023-04-16T13:40:41.970Z"
   },
   {
    "duration": 51,
    "start_time": "2023-04-16T13:41:02.830Z"
   },
   {
    "duration": 30,
    "start_time": "2023-04-16T13:41:07.140Z"
   },
   {
    "duration": 6111,
    "start_time": "2023-04-16T13:41:27.514Z"
   },
   {
    "duration": 27,
    "start_time": "2023-04-16T13:41:33.627Z"
   },
   {
    "duration": 1449,
    "start_time": "2023-04-16T13:42:25.815Z"
   },
   {
    "duration": 1213,
    "start_time": "2023-04-16T13:42:27.266Z"
   },
   {
    "duration": 17,
    "start_time": "2023-04-16T13:42:28.481Z"
   },
   {
    "duration": 421,
    "start_time": "2023-04-16T13:42:28.501Z"
   },
   {
    "duration": 76,
    "start_time": "2023-04-16T13:42:28.925Z"
   },
   {
    "duration": 6,
    "start_time": "2023-04-16T13:42:29.003Z"
   },
   {
    "duration": 38,
    "start_time": "2023-04-16T13:42:29.011Z"
   },
   {
    "duration": 43,
    "start_time": "2023-04-16T13:42:29.051Z"
   },
   {
    "duration": 69,
    "start_time": "2023-04-16T13:42:29.096Z"
   },
   {
    "duration": 26,
    "start_time": "2023-04-16T13:42:29.167Z"
   },
   {
    "duration": 156,
    "start_time": "2023-04-16T13:42:29.195Z"
   },
   {
    "duration": 8,
    "start_time": "2023-04-16T13:42:29.353Z"
   },
   {
    "duration": 12,
    "start_time": "2023-04-16T13:42:29.363Z"
   },
   {
    "duration": 10,
    "start_time": "2023-04-16T13:42:29.378Z"
   },
   {
    "duration": 81,
    "start_time": "2023-04-16T13:42:29.391Z"
   },
   {
    "duration": 5,
    "start_time": "2023-04-16T13:42:29.473Z"
   },
   {
    "duration": 18,
    "start_time": "2023-04-16T13:42:29.480Z"
   },
   {
    "duration": 4,
    "start_time": "2023-04-16T13:42:29.500Z"
   },
   {
    "duration": 36,
    "start_time": "2023-04-16T13:42:29.505Z"
   },
   {
    "duration": 19,
    "start_time": "2023-04-16T13:42:29.543Z"
   },
   {
    "duration": 22,
    "start_time": "2023-04-16T13:42:29.564Z"
   },
   {
    "duration": 33,
    "start_time": "2023-04-16T13:42:29.587Z"
   },
   {
    "duration": 35,
    "start_time": "2023-04-16T13:42:29.622Z"
   },
   {
    "duration": 14,
    "start_time": "2023-04-16T13:42:29.659Z"
   },
   {
    "duration": 201,
    "start_time": "2023-04-16T13:42:29.675Z"
   },
   {
    "duration": 191,
    "start_time": "2023-04-16T13:42:29.878Z"
   },
   {
    "duration": 15,
    "start_time": "2023-04-16T13:42:30.071Z"
   },
   {
    "duration": 35,
    "start_time": "2023-04-16T13:42:30.088Z"
   },
   {
    "duration": 9,
    "start_time": "2023-04-16T13:42:30.133Z"
   },
   {
    "duration": 45,
    "start_time": "2023-04-16T13:42:30.145Z"
   },
   {
    "duration": 38,
    "start_time": "2023-04-16T13:42:30.192Z"
   },
   {
    "duration": 66,
    "start_time": "2023-04-16T13:42:30.233Z"
   },
   {
    "duration": 23,
    "start_time": "2023-04-16T13:42:30.301Z"
   },
   {
    "duration": 45,
    "start_time": "2023-04-16T13:42:30.326Z"
   },
   {
    "duration": 37,
    "start_time": "2023-04-16T13:42:30.373Z"
   },
   {
    "duration": 53,
    "start_time": "2023-04-16T13:42:30.412Z"
   },
   {
    "duration": 482,
    "start_time": "2023-04-16T13:42:30.466Z"
   },
   {
    "duration": 7,
    "start_time": "2023-04-16T13:42:30.950Z"
   },
   {
    "duration": 103,
    "start_time": "2023-04-16T13:42:30.959Z"
   },
   {
    "duration": 16,
    "start_time": "2023-04-16T13:42:31.065Z"
   },
   {
    "duration": 65,
    "start_time": "2023-04-16T13:42:31.087Z"
   },
   {
    "duration": 19,
    "start_time": "2023-04-16T13:42:31.154Z"
   },
   {
    "duration": 86,
    "start_time": "2023-04-16T13:42:31.174Z"
   },
   {
    "duration": 1175,
    "start_time": "2023-04-16T13:42:31.262Z"
   },
   {
    "duration": 53,
    "start_time": "2023-04-16T13:42:32.440Z"
   },
   {
    "duration": 11,
    "start_time": "2023-04-16T13:42:32.495Z"
   },
   {
    "duration": 31,
    "start_time": "2023-04-16T13:42:32.509Z"
   },
   {
    "duration": 27,
    "start_time": "2023-04-16T13:42:32.542Z"
   },
   {
    "duration": 6131,
    "start_time": "2023-04-16T13:42:32.571Z"
   },
   {
    "duration": 10,
    "start_time": "2023-04-16T13:42:38.704Z"
   },
   {
    "duration": 82296,
    "start_time": "2023-04-16T13:42:38.715Z"
   },
   {
    "duration": 0,
    "start_time": "2023-04-16T13:44:01.013Z"
   },
   {
    "duration": 0,
    "start_time": "2023-04-16T13:44:01.014Z"
   },
   {
    "duration": 0,
    "start_time": "2023-04-16T13:44:01.016Z"
   },
   {
    "duration": 0,
    "start_time": "2023-04-16T13:44:01.017Z"
   },
   {
    "duration": 0,
    "start_time": "2023-04-16T13:44:01.033Z"
   },
   {
    "duration": 1,
    "start_time": "2023-04-16T13:44:01.034Z"
   },
   {
    "duration": 0,
    "start_time": "2023-04-16T13:44:01.036Z"
   },
   {
    "duration": 0,
    "start_time": "2023-04-16T13:44:01.037Z"
   },
   {
    "duration": 0,
    "start_time": "2023-04-16T13:44:01.038Z"
   },
   {
    "duration": 0,
    "start_time": "2023-04-16T13:44:01.039Z"
   },
   {
    "duration": 0,
    "start_time": "2023-04-16T13:44:01.040Z"
   },
   {
    "duration": 11,
    "start_time": "2023-04-16T13:44:12.119Z"
   },
   {
    "duration": 6126,
    "start_time": "2023-04-16T13:48:02.210Z"
   },
   {
    "duration": 10,
    "start_time": "2023-04-16T13:48:08.338Z"
   },
   {
    "duration": 284,
    "start_time": "2023-04-16T13:49:25.388Z"
   },
   {
    "duration": 26,
    "start_time": "2023-04-16T13:49:26.339Z"
   },
   {
    "duration": 15,
    "start_time": "2023-04-16T13:50:09.822Z"
   },
   {
    "duration": 4,
    "start_time": "2023-04-16T13:50:18.429Z"
   },
   {
    "duration": 15,
    "start_time": "2023-04-16T13:50:19.959Z"
   },
   {
    "duration": 20,
    "start_time": "2023-04-16T13:50:43.311Z"
   },
   {
    "duration": 4,
    "start_time": "2023-04-16T13:50:44.511Z"
   },
   {
    "duration": 10,
    "start_time": "2023-04-16T13:50:45.539Z"
   },
   {
    "duration": 1285,
    "start_time": "2023-04-16T13:51:16.024Z"
   },
   {
    "duration": 1013,
    "start_time": "2023-04-16T13:51:17.311Z"
   },
   {
    "duration": 14,
    "start_time": "2023-04-16T13:51:18.326Z"
   },
   {
    "duration": 346,
    "start_time": "2023-04-16T13:51:18.341Z"
   },
   {
    "duration": 66,
    "start_time": "2023-04-16T13:51:18.690Z"
   },
   {
    "duration": 8,
    "start_time": "2023-04-16T13:51:18.758Z"
   },
   {
    "duration": 11,
    "start_time": "2023-04-16T13:51:18.768Z"
   },
   {
    "duration": 64,
    "start_time": "2023-04-16T13:51:18.781Z"
   },
   {
    "duration": 54,
    "start_time": "2023-04-16T13:51:18.847Z"
   },
   {
    "duration": 33,
    "start_time": "2023-04-16T13:51:18.903Z"
   },
   {
    "duration": 120,
    "start_time": "2023-04-16T13:51:18.938Z"
   },
   {
    "duration": 8,
    "start_time": "2023-04-16T13:51:19.060Z"
   },
   {
    "duration": 10,
    "start_time": "2023-04-16T13:51:19.070Z"
   },
   {
    "duration": 9,
    "start_time": "2023-04-16T13:51:19.083Z"
   },
   {
    "duration": 79,
    "start_time": "2023-04-16T13:51:19.094Z"
   },
   {
    "duration": 4,
    "start_time": "2023-04-16T13:51:19.175Z"
   },
   {
    "duration": 20,
    "start_time": "2023-04-16T13:51:19.182Z"
   },
   {
    "duration": 5,
    "start_time": "2023-04-16T13:51:19.204Z"
   },
   {
    "duration": 26,
    "start_time": "2023-04-16T13:51:19.210Z"
   },
   {
    "duration": 22,
    "start_time": "2023-04-16T13:51:19.237Z"
   },
   {
    "duration": 23,
    "start_time": "2023-04-16T13:51:19.260Z"
   },
   {
    "duration": 32,
    "start_time": "2023-04-16T13:51:19.285Z"
   },
   {
    "duration": 20,
    "start_time": "2023-04-16T13:51:19.318Z"
   },
   {
    "duration": 13,
    "start_time": "2023-04-16T13:51:19.340Z"
   },
   {
    "duration": 222,
    "start_time": "2023-04-16T13:51:19.355Z"
   },
   {
    "duration": 167,
    "start_time": "2023-04-16T13:51:19.579Z"
   },
   {
    "duration": 13,
    "start_time": "2023-04-16T13:51:19.747Z"
   },
   {
    "duration": 19,
    "start_time": "2023-04-16T13:51:19.762Z"
   },
   {
    "duration": 5,
    "start_time": "2023-04-16T13:51:19.783Z"
   },
   {
    "duration": 11,
    "start_time": "2023-04-16T13:51:19.789Z"
   },
   {
    "duration": 12,
    "start_time": "2023-04-16T13:51:19.802Z"
   },
   {
    "duration": 30,
    "start_time": "2023-04-16T13:51:19.815Z"
   },
   {
    "duration": 23,
    "start_time": "2023-04-16T13:51:19.847Z"
   },
   {
    "duration": 13,
    "start_time": "2023-04-16T13:51:19.872Z"
   },
   {
    "duration": 25,
    "start_time": "2023-04-16T13:51:19.887Z"
   },
   {
    "duration": 19,
    "start_time": "2023-04-16T13:51:19.913Z"
   },
   {
    "duration": 382,
    "start_time": "2023-04-16T13:51:19.933Z"
   },
   {
    "duration": 4,
    "start_time": "2023-04-16T13:51:20.316Z"
   },
   {
    "duration": 24,
    "start_time": "2023-04-16T13:51:20.322Z"
   },
   {
    "duration": 12,
    "start_time": "2023-04-16T13:51:20.348Z"
   },
   {
    "duration": 29,
    "start_time": "2023-04-16T13:51:20.364Z"
   },
   {
    "duration": 4,
    "start_time": "2023-04-16T13:51:20.434Z"
   },
   {
    "duration": 65,
    "start_time": "2023-04-16T13:51:20.440Z"
   },
   {
    "duration": 1012,
    "start_time": "2023-04-16T13:51:20.507Z"
   },
   {
    "duration": 56,
    "start_time": "2023-04-16T13:51:21.521Z"
   },
   {
    "duration": 6,
    "start_time": "2023-04-16T13:51:21.578Z"
   },
   {
    "duration": 47,
    "start_time": "2023-04-16T13:51:21.586Z"
   },
   {
    "duration": 107,
    "start_time": "2023-04-16T13:51:21.635Z"
   },
   {
    "duration": 4,
    "start_time": "2023-04-16T13:51:21.744Z"
   },
   {
    "duration": 20,
    "start_time": "2023-04-16T13:51:21.750Z"
   },
   {
    "duration": 210,
    "start_time": "2023-04-16T13:51:21.772Z"
   },
   {
    "duration": 0,
    "start_time": "2023-04-16T13:51:21.984Z"
   },
   {
    "duration": 0,
    "start_time": "2023-04-16T13:51:21.985Z"
   },
   {
    "duration": 0,
    "start_time": "2023-04-16T13:51:21.987Z"
   },
   {
    "duration": 0,
    "start_time": "2023-04-16T13:51:21.988Z"
   },
   {
    "duration": 0,
    "start_time": "2023-04-16T13:51:21.989Z"
   },
   {
    "duration": 0,
    "start_time": "2023-04-16T13:51:21.990Z"
   },
   {
    "duration": 1491,
    "start_time": "2023-04-16T15:03:17.032Z"
   },
   {
    "duration": 1433,
    "start_time": "2023-04-16T15:03:18.525Z"
   },
   {
    "duration": 13,
    "start_time": "2023-04-16T15:03:19.960Z"
   },
   {
    "duration": 331,
    "start_time": "2023-04-16T15:03:19.975Z"
   },
   {
    "duration": 99,
    "start_time": "2023-04-16T15:03:20.308Z"
   },
   {
    "duration": 7,
    "start_time": "2023-04-16T15:03:20.409Z"
   },
   {
    "duration": 13,
    "start_time": "2023-04-16T15:03:20.418Z"
   },
   {
    "duration": 69,
    "start_time": "2023-04-16T15:03:20.433Z"
   },
   {
    "duration": 68,
    "start_time": "2023-04-16T15:03:20.504Z"
   },
   {
    "duration": 28,
    "start_time": "2023-04-16T15:03:20.575Z"
   },
   {
    "duration": 132,
    "start_time": "2023-04-16T15:03:20.605Z"
   },
   {
    "duration": 8,
    "start_time": "2023-04-16T15:03:20.740Z"
   },
   {
    "duration": 17,
    "start_time": "2023-04-16T15:03:20.750Z"
   },
   {
    "duration": 19,
    "start_time": "2023-04-16T15:03:20.771Z"
   },
   {
    "duration": 66,
    "start_time": "2023-04-16T15:03:20.792Z"
   },
   {
    "duration": 4,
    "start_time": "2023-04-16T15:03:20.860Z"
   },
   {
    "duration": 19,
    "start_time": "2023-04-16T15:03:20.866Z"
   },
   {
    "duration": 19,
    "start_time": "2023-04-16T15:03:20.886Z"
   },
   {
    "duration": 11,
    "start_time": "2023-04-16T15:03:20.907Z"
   },
   {
    "duration": 8,
    "start_time": "2023-04-16T15:03:20.920Z"
   },
   {
    "duration": 23,
    "start_time": "2023-04-16T15:03:20.930Z"
   },
   {
    "duration": 43,
    "start_time": "2023-04-16T15:03:20.955Z"
   },
   {
    "duration": 14,
    "start_time": "2023-04-16T15:03:21.002Z"
   },
   {
    "duration": 12,
    "start_time": "2023-04-16T15:03:21.018Z"
   },
   {
    "duration": 207,
    "start_time": "2023-04-16T15:03:21.032Z"
   },
   {
    "duration": 129,
    "start_time": "2023-04-16T15:03:21.240Z"
   },
   {
    "duration": 35,
    "start_time": "2023-04-16T15:03:21.370Z"
   },
   {
    "duration": 17,
    "start_time": "2023-04-16T15:03:21.407Z"
   },
   {
    "duration": 4,
    "start_time": "2023-04-16T15:03:21.426Z"
   },
   {
    "duration": 6,
    "start_time": "2023-04-16T15:03:21.431Z"
   },
   {
    "duration": 5,
    "start_time": "2023-04-16T15:03:21.438Z"
   },
   {
    "duration": 8,
    "start_time": "2023-04-16T15:03:21.445Z"
   },
   {
    "duration": 52,
    "start_time": "2023-04-16T15:03:21.454Z"
   },
   {
    "duration": 12,
    "start_time": "2023-04-16T15:03:21.508Z"
   },
   {
    "duration": 5,
    "start_time": "2023-04-16T15:03:21.522Z"
   },
   {
    "duration": 9,
    "start_time": "2023-04-16T15:03:21.529Z"
   },
   {
    "duration": 414,
    "start_time": "2023-04-16T15:03:21.540Z"
   },
   {
    "duration": 5,
    "start_time": "2023-04-16T15:03:21.955Z"
   },
   {
    "duration": 34,
    "start_time": "2023-04-16T15:03:21.961Z"
   },
   {
    "duration": 15,
    "start_time": "2023-04-16T15:03:21.998Z"
   },
   {
    "duration": 81,
    "start_time": "2023-04-16T15:03:22.017Z"
   },
   {
    "duration": 5,
    "start_time": "2023-04-16T15:03:22.100Z"
   },
   {
    "duration": 56,
    "start_time": "2023-04-16T15:03:22.107Z"
   },
   {
    "duration": 1161,
    "start_time": "2023-04-16T15:03:22.165Z"
   },
   {
    "duration": 51,
    "start_time": "2023-04-16T15:03:23.327Z"
   },
   {
    "duration": 16,
    "start_time": "2023-04-16T15:03:23.387Z"
   },
   {
    "duration": 39,
    "start_time": "2023-04-16T15:03:23.410Z"
   },
   {
    "duration": 98,
    "start_time": "2023-04-16T15:03:23.451Z"
   },
   {
    "duration": 4,
    "start_time": "2023-04-16T15:03:23.551Z"
   },
   {
    "duration": 21,
    "start_time": "2023-04-16T15:03:23.556Z"
   },
   {
    "duration": 198,
    "start_time": "2023-04-16T15:03:23.578Z"
   },
   {
    "duration": 0,
    "start_time": "2023-04-16T15:03:23.777Z"
   },
   {
    "duration": 0,
    "start_time": "2023-04-16T15:03:23.778Z"
   },
   {
    "duration": 0,
    "start_time": "2023-04-16T15:03:23.779Z"
   },
   {
    "duration": 0,
    "start_time": "2023-04-16T15:03:23.780Z"
   },
   {
    "duration": 0,
    "start_time": "2023-04-16T15:03:23.795Z"
   },
   {
    "duration": 0,
    "start_time": "2023-04-16T15:03:23.796Z"
   },
   {
    "duration": 0,
    "start_time": "2023-04-16T15:03:23.797Z"
   },
   {
    "duration": 22,
    "start_time": "2023-04-16T15:04:14.034Z"
   },
   {
    "duration": 16,
    "start_time": "2023-04-16T15:05:10.726Z"
   },
   {
    "duration": 22,
    "start_time": "2023-04-16T15:05:21.653Z"
   },
   {
    "duration": 17,
    "start_time": "2023-04-16T15:06:20.215Z"
   },
   {
    "duration": 21,
    "start_time": "2023-04-16T15:06:24.259Z"
   },
   {
    "duration": 12,
    "start_time": "2023-04-16T15:07:34.762Z"
   },
   {
    "duration": 18,
    "start_time": "2023-04-16T15:08:03.049Z"
   },
   {
    "duration": 190,
    "start_time": "2023-04-16T15:13:12.046Z"
   },
   {
    "duration": 42,
    "start_time": "2023-04-16T15:13:19.402Z"
   },
   {
    "duration": 21,
    "start_time": "2023-04-16T15:13:21.231Z"
   },
   {
    "duration": 11,
    "start_time": "2023-04-16T15:13:32.346Z"
   },
   {
    "duration": 24,
    "start_time": "2023-04-16T15:13:33.753Z"
   },
   {
    "duration": 50,
    "start_time": "2023-04-16T15:13:56.805Z"
   },
   {
    "duration": 19,
    "start_time": "2023-04-16T15:13:58.166Z"
   },
   {
    "duration": 17,
    "start_time": "2023-04-16T15:14:00.602Z"
   },
   {
    "duration": 28,
    "start_time": "2023-04-16T15:14:01.434Z"
   },
   {
    "duration": 10,
    "start_time": "2023-04-16T15:14:03.814Z"
   },
   {
    "duration": 8,
    "start_time": "2023-04-16T15:14:04.852Z"
   },
   {
    "duration": 39,
    "start_time": "2023-04-16T15:14:06.026Z"
   },
   {
    "duration": 12,
    "start_time": "2023-04-16T15:14:08.829Z"
   },
   {
    "duration": 15,
    "start_time": "2023-04-16T15:14:09.038Z"
   },
   {
    "duration": 17,
    "start_time": "2023-04-16T15:14:11.450Z"
   },
   {
    "duration": 1382,
    "start_time": "2023-04-16T15:14:44.617Z"
   },
   {
    "duration": 1354,
    "start_time": "2023-04-16T15:14:46.012Z"
   },
   {
    "duration": 13,
    "start_time": "2023-04-16T15:14:47.367Z"
   },
   {
    "duration": 416,
    "start_time": "2023-04-16T15:14:47.382Z"
   },
   {
    "duration": 70,
    "start_time": "2023-04-16T15:14:47.805Z"
   },
   {
    "duration": 52,
    "start_time": "2023-04-16T15:14:47.877Z"
   },
   {
    "duration": 10,
    "start_time": "2023-04-16T15:14:47.930Z"
   },
   {
    "duration": 40,
    "start_time": "2023-04-16T15:14:47.942Z"
   },
   {
    "duration": 79,
    "start_time": "2023-04-16T15:14:47.983Z"
   },
   {
    "duration": 22,
    "start_time": "2023-04-16T15:14:48.064Z"
   },
   {
    "duration": 156,
    "start_time": "2023-04-16T15:14:48.089Z"
   },
   {
    "duration": 6,
    "start_time": "2023-04-16T15:14:48.248Z"
   },
   {
    "duration": 6,
    "start_time": "2023-04-16T15:14:48.256Z"
   },
   {
    "duration": 24,
    "start_time": "2023-04-16T15:14:48.264Z"
   },
   {
    "duration": 95,
    "start_time": "2023-04-16T15:14:48.289Z"
   },
   {
    "duration": 12,
    "start_time": "2023-04-16T15:14:48.386Z"
   },
   {
    "duration": 39,
    "start_time": "2023-04-16T15:14:48.403Z"
   },
   {
    "duration": 6,
    "start_time": "2023-04-16T15:14:48.443Z"
   },
   {
    "duration": 16,
    "start_time": "2023-04-16T15:14:48.450Z"
   },
   {
    "duration": 28,
    "start_time": "2023-04-16T15:14:48.467Z"
   },
   {
    "duration": 40,
    "start_time": "2023-04-16T15:14:48.504Z"
   },
   {
    "duration": 31,
    "start_time": "2023-04-16T15:14:48.546Z"
   },
   {
    "duration": 20,
    "start_time": "2023-04-16T15:14:48.578Z"
   },
   {
    "duration": 37,
    "start_time": "2023-04-16T15:14:48.600Z"
   },
   {
    "duration": 213,
    "start_time": "2023-04-16T15:14:48.638Z"
   },
   {
    "duration": 192,
    "start_time": "2023-04-16T15:14:48.853Z"
   },
   {
    "duration": 18,
    "start_time": "2023-04-16T15:14:49.046Z"
   },
   {
    "duration": 54,
    "start_time": "2023-04-16T15:14:49.066Z"
   },
   {
    "duration": 6,
    "start_time": "2023-04-16T15:14:49.122Z"
   },
   {
    "duration": 9,
    "start_time": "2023-04-16T15:14:49.130Z"
   },
   {
    "duration": 19,
    "start_time": "2023-04-16T15:14:49.141Z"
   },
   {
    "duration": 11,
    "start_time": "2023-04-16T15:14:49.162Z"
   },
   {
    "duration": 24,
    "start_time": "2023-04-16T15:14:49.175Z"
   },
   {
    "duration": 42,
    "start_time": "2023-04-16T15:14:49.204Z"
   },
   {
    "duration": 7,
    "start_time": "2023-04-16T15:14:49.248Z"
   },
   {
    "duration": 13,
    "start_time": "2023-04-16T15:14:49.257Z"
   },
   {
    "duration": 467,
    "start_time": "2023-04-16T15:14:49.273Z"
   },
   {
    "duration": 5,
    "start_time": "2023-04-16T15:14:49.742Z"
   },
   {
    "duration": 46,
    "start_time": "2023-04-16T15:14:49.749Z"
   },
   {
    "duration": 17,
    "start_time": "2023-04-16T15:14:49.796Z"
   },
   {
    "duration": 81,
    "start_time": "2023-04-16T15:14:49.818Z"
   },
   {
    "duration": 10,
    "start_time": "2023-04-16T15:14:49.901Z"
   },
   {
    "duration": 84,
    "start_time": "2023-04-16T15:14:49.916Z"
   },
   {
    "duration": 1263,
    "start_time": "2023-04-16T15:14:50.002Z"
   },
   {
    "duration": 69,
    "start_time": "2023-04-16T15:14:51.266Z"
   },
   {
    "duration": 7,
    "start_time": "2023-04-16T15:14:51.336Z"
   },
   {
    "duration": 48,
    "start_time": "2023-04-16T15:14:51.344Z"
   },
   {
    "duration": 103,
    "start_time": "2023-04-16T15:14:51.396Z"
   },
   {
    "duration": 5,
    "start_time": "2023-04-16T15:14:51.501Z"
   },
   {
    "duration": 25,
    "start_time": "2023-04-16T15:14:51.512Z"
   },
   {
    "duration": 34,
    "start_time": "2023-04-16T15:14:51.539Z"
   },
   {
    "duration": 12,
    "start_time": "2023-04-16T15:14:51.575Z"
   },
   {
    "duration": 6,
    "start_time": "2023-04-16T15:14:51.589Z"
   },
   {
    "duration": 56,
    "start_time": "2023-04-16T15:14:51.597Z"
   },
   {
    "duration": 14,
    "start_time": "2023-04-16T15:14:51.655Z"
   },
   {
    "duration": 26,
    "start_time": "2023-04-16T15:14:51.671Z"
   },
   {
    "duration": 45,
    "start_time": "2023-04-16T15:14:51.699Z"
   },
   {
    "duration": 1067,
    "start_time": "2023-04-16T15:21:24.760Z"
   },
   {
    "duration": 1099,
    "start_time": "2023-04-16T15:21:37.835Z"
   },
   {
    "duration": 4,
    "start_time": "2023-04-16T15:31:24.979Z"
   },
   {
    "duration": 6,
    "start_time": "2023-04-16T15:31:34.780Z"
   },
   {
    "duration": 4,
    "start_time": "2023-04-16T15:32:09.320Z"
   },
   {
    "duration": 33,
    "start_time": "2023-04-16T15:42:59.283Z"
   },
   {
    "duration": 24,
    "start_time": "2023-04-16T15:43:16.208Z"
   },
   {
    "duration": 21,
    "start_time": "2023-04-16T15:43:35.804Z"
   },
   {
    "duration": 27,
    "start_time": "2023-04-16T15:43:36.837Z"
   },
   {
    "duration": 6,
    "start_time": "2023-04-16T15:44:14.401Z"
   },
   {
    "duration": 5,
    "start_time": "2023-04-16T15:44:50.131Z"
   },
   {
    "duration": 4,
    "start_time": "2023-04-16T16:13:09.540Z"
   },
   {
    "duration": 1856,
    "start_time": "2023-04-16T16:16:00.255Z"
   },
   {
    "duration": 1891,
    "start_time": "2023-04-16T16:16:02.117Z"
   },
   {
    "duration": 34,
    "start_time": "2023-04-16T16:16:04.015Z"
   },
   {
    "duration": 533,
    "start_time": "2023-04-16T16:16:04.052Z"
   },
   {
    "duration": 122,
    "start_time": "2023-04-16T16:16:04.589Z"
   },
   {
    "duration": 73,
    "start_time": "2023-04-16T16:16:04.713Z"
   },
   {
    "duration": 26,
    "start_time": "2023-04-16T16:16:04.796Z"
   },
   {
    "duration": 113,
    "start_time": "2023-04-16T16:16:04.824Z"
   },
   {
    "duration": 119,
    "start_time": "2023-04-16T16:16:04.939Z"
   },
   {
    "duration": 57,
    "start_time": "2023-04-16T16:16:05.063Z"
   },
   {
    "duration": 223,
    "start_time": "2023-04-16T16:16:05.131Z"
   },
   {
    "duration": 15,
    "start_time": "2023-04-16T16:16:05.360Z"
   },
   {
    "duration": 38,
    "start_time": "2023-04-16T16:16:05.377Z"
   },
   {
    "duration": 72,
    "start_time": "2023-04-16T16:16:05.419Z"
   },
   {
    "duration": 192,
    "start_time": "2023-04-16T16:16:05.494Z"
   },
   {
    "duration": 8,
    "start_time": "2023-04-16T16:16:05.688Z"
   },
   {
    "duration": 70,
    "start_time": "2023-04-16T16:16:05.700Z"
   },
   {
    "duration": 98,
    "start_time": "2023-04-16T16:16:05.773Z"
   },
   {
    "duration": 28,
    "start_time": "2023-04-16T16:16:05.874Z"
   },
   {
    "duration": 59,
    "start_time": "2023-04-16T16:16:05.905Z"
   },
   {
    "duration": 41,
    "start_time": "2023-04-16T16:16:05.966Z"
   },
   {
    "duration": 101,
    "start_time": "2023-04-16T16:16:06.009Z"
   },
   {
    "duration": 31,
    "start_time": "2023-04-16T16:16:06.112Z"
   },
   {
    "duration": 119,
    "start_time": "2023-04-16T16:16:06.146Z"
   },
   {
    "duration": 335,
    "start_time": "2023-04-16T16:16:06.267Z"
   },
   {
    "duration": 238,
    "start_time": "2023-04-16T16:16:06.604Z"
   },
   {
    "duration": 32,
    "start_time": "2023-04-16T16:16:06.847Z"
   },
   {
    "duration": 24,
    "start_time": "2023-04-16T16:16:06.884Z"
   },
   {
    "duration": 61,
    "start_time": "2023-04-16T16:16:06.911Z"
   },
   {
    "duration": 41,
    "start_time": "2023-04-16T16:16:06.975Z"
   },
   {
    "duration": 42,
    "start_time": "2023-04-16T16:16:07.019Z"
   },
   {
    "duration": 7,
    "start_time": "2023-04-16T16:16:07.063Z"
   },
   {
    "duration": 58,
    "start_time": "2023-04-16T16:16:07.073Z"
   },
   {
    "duration": 54,
    "start_time": "2023-04-16T16:16:07.136Z"
   },
   {
    "duration": 62,
    "start_time": "2023-04-16T16:16:07.192Z"
   },
   {
    "duration": 8,
    "start_time": "2023-04-16T16:16:07.256Z"
   },
   {
    "duration": 104,
    "start_time": "2023-04-16T16:16:07.266Z"
   },
   {
    "duration": 600,
    "start_time": "2023-04-16T16:16:07.373Z"
   },
   {
    "duration": 6,
    "start_time": "2023-04-16T16:16:07.975Z"
   },
   {
    "duration": 84,
    "start_time": "2023-04-16T16:16:07.983Z"
   },
   {
    "duration": 35,
    "start_time": "2023-04-16T16:16:08.073Z"
   },
   {
    "duration": 55,
    "start_time": "2023-04-16T16:16:08.110Z"
   },
   {
    "duration": 4,
    "start_time": "2023-04-16T16:16:08.167Z"
   },
   {
    "duration": 92,
    "start_time": "2023-04-16T16:16:08.174Z"
   },
   {
    "duration": 1335,
    "start_time": "2023-04-16T16:16:08.269Z"
   },
   {
    "duration": 93,
    "start_time": "2023-04-16T16:16:09.606Z"
   },
   {
    "duration": 11,
    "start_time": "2023-04-16T16:16:09.701Z"
   },
   {
    "duration": 77,
    "start_time": "2023-04-16T16:16:09.715Z"
   },
   {
    "duration": 148,
    "start_time": "2023-04-16T16:16:09.794Z"
   },
   {
    "duration": 4,
    "start_time": "2023-04-16T16:16:09.945Z"
   },
   {
    "duration": 19,
    "start_time": "2023-04-16T16:16:09.951Z"
   },
   {
    "duration": 51,
    "start_time": "2023-04-16T16:16:09.972Z"
   },
   {
    "duration": 29,
    "start_time": "2023-04-16T16:16:10.025Z"
   },
   {
    "duration": 15,
    "start_time": "2023-04-16T16:16:10.055Z"
   },
   {
    "duration": 55,
    "start_time": "2023-04-16T16:16:10.072Z"
   },
   {
    "duration": 26,
    "start_time": "2023-04-16T16:16:10.131Z"
   },
   {
    "duration": 21,
    "start_time": "2023-04-16T16:16:10.160Z"
   },
   {
    "duration": 70,
    "start_time": "2023-04-16T16:16:10.184Z"
   },
   {
    "duration": 1234,
    "start_time": "2023-04-16T19:26:08.222Z"
   },
   {
    "duration": 1697,
    "start_time": "2023-04-16T19:26:09.458Z"
   },
   {
    "duration": 13,
    "start_time": "2023-04-16T19:26:11.157Z"
   },
   {
    "duration": 356,
    "start_time": "2023-04-16T19:26:11.171Z"
   },
   {
    "duration": 66,
    "start_time": "2023-04-16T19:26:11.531Z"
   },
   {
    "duration": 6,
    "start_time": "2023-04-16T19:26:11.599Z"
   },
   {
    "duration": 18,
    "start_time": "2023-04-16T19:26:11.606Z"
   },
   {
    "duration": 65,
    "start_time": "2023-04-16T19:26:11.626Z"
   },
   {
    "duration": 76,
    "start_time": "2023-04-16T19:26:11.693Z"
   },
   {
    "duration": 21,
    "start_time": "2023-04-16T19:26:11.770Z"
   },
   {
    "duration": 118,
    "start_time": "2023-04-16T19:26:11.793Z"
   },
   {
    "duration": 7,
    "start_time": "2023-04-16T19:26:11.913Z"
   },
   {
    "duration": 19,
    "start_time": "2023-04-16T19:26:11.922Z"
   },
   {
    "duration": 15,
    "start_time": "2023-04-16T19:26:11.946Z"
   },
   {
    "duration": 72,
    "start_time": "2023-04-16T19:26:11.963Z"
   },
   {
    "duration": 4,
    "start_time": "2023-04-16T19:26:12.037Z"
   },
   {
    "duration": 18,
    "start_time": "2023-04-16T19:26:12.043Z"
   },
   {
    "duration": 5,
    "start_time": "2023-04-16T19:26:12.063Z"
   },
   {
    "duration": 25,
    "start_time": "2023-04-16T19:26:12.069Z"
   },
   {
    "duration": 8,
    "start_time": "2023-04-16T19:26:12.096Z"
   },
   {
    "duration": 18,
    "start_time": "2023-04-16T19:26:12.105Z"
   },
   {
    "duration": 29,
    "start_time": "2023-04-16T19:26:12.125Z"
   },
   {
    "duration": 45,
    "start_time": "2023-04-16T19:26:12.156Z"
   },
   {
    "duration": 19,
    "start_time": "2023-04-16T19:26:12.202Z"
   },
   {
    "duration": 162,
    "start_time": "2023-04-16T19:26:12.223Z"
   },
   {
    "duration": 177,
    "start_time": "2023-04-16T19:26:12.388Z"
   },
   {
    "duration": 23,
    "start_time": "2023-04-16T19:26:12.567Z"
   },
   {
    "duration": 21,
    "start_time": "2023-04-16T19:26:12.592Z"
   },
   {
    "duration": 5,
    "start_time": "2023-04-16T19:26:12.614Z"
   },
   {
    "duration": 10,
    "start_time": "2023-04-16T19:26:12.621Z"
   },
   {
    "duration": 6,
    "start_time": "2023-04-16T19:26:12.633Z"
   },
   {
    "duration": 9,
    "start_time": "2023-04-16T19:26:12.641Z"
   },
   {
    "duration": 40,
    "start_time": "2023-04-16T19:26:12.651Z"
   },
   {
    "duration": 13,
    "start_time": "2023-04-16T19:26:12.693Z"
   },
   {
    "duration": 15,
    "start_time": "2023-04-16T19:26:12.708Z"
   },
   {
    "duration": 6,
    "start_time": "2023-04-16T19:26:12.725Z"
   },
   {
    "duration": 20,
    "start_time": "2023-04-16T19:26:12.733Z"
   },
   {
    "duration": 861,
    "start_time": "2023-04-16T19:26:12.755Z"
   },
   {
    "duration": 5,
    "start_time": "2023-04-16T19:26:13.618Z"
   },
   {
    "duration": 24,
    "start_time": "2023-04-16T19:26:13.624Z"
   },
   {
    "duration": 15,
    "start_time": "2023-04-16T19:26:13.691Z"
   },
   {
    "duration": 24,
    "start_time": "2023-04-16T19:26:13.707Z"
   },
   {
    "duration": 4,
    "start_time": "2023-04-16T19:26:13.733Z"
   },
   {
    "duration": 57,
    "start_time": "2023-04-16T19:26:13.789Z"
   },
   {
    "duration": 1138,
    "start_time": "2023-04-16T19:26:13.848Z"
   },
   {
    "duration": 54,
    "start_time": "2023-04-16T19:26:14.989Z"
   },
   {
    "duration": 8,
    "start_time": "2023-04-16T19:26:15.045Z"
   },
   {
    "duration": 63,
    "start_time": "2023-04-16T19:26:15.055Z"
   },
   {
    "duration": 102,
    "start_time": "2023-04-16T19:26:15.120Z"
   },
   {
    "duration": 5,
    "start_time": "2023-04-16T19:26:15.224Z"
   },
   {
    "duration": 22,
    "start_time": "2023-04-16T19:26:15.230Z"
   },
   {
    "duration": 49,
    "start_time": "2023-04-16T19:26:15.254Z"
   },
   {
    "duration": 10,
    "start_time": "2023-04-16T19:26:15.304Z"
   },
   {
    "duration": 10,
    "start_time": "2023-04-16T19:26:15.316Z"
   },
   {
    "duration": 26,
    "start_time": "2023-04-16T19:26:15.327Z"
   },
   {
    "duration": 34,
    "start_time": "2023-04-16T19:26:15.355Z"
   },
   {
    "duration": 15,
    "start_time": "2023-04-16T19:26:15.391Z"
   },
   {
    "duration": 16,
    "start_time": "2023-04-16T19:26:15.407Z"
   }
  ],
  "kernelspec": {
   "display_name": "Python 3 (ipykernel)",
   "language": "python",
   "name": "python3"
  },
  "language_info": {
   "codemirror_mode": {
    "name": "ipython",
    "version": 3
   },
   "file_extension": ".py",
   "mimetype": "text/x-python",
   "name": "python",
   "nbconvert_exporter": "python",
   "pygments_lexer": "ipython3",
   "version": "3.9.13"
  },
  "toc": {
   "base_numbering": 1,
   "nav_menu": {},
   "number_sections": true,
   "sideBar": true,
   "skip_h1_title": true,
   "title_cell": "Table of Contents",
   "title_sidebar": "Contents",
   "toc_cell": false,
   "toc_position": {},
   "toc_section_display": true,
   "toc_window_display": true
  }
 },
 "nbformat": 4,
 "nbformat_minor": 2
}
