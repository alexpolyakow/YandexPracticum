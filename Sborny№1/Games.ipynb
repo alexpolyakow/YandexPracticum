{
 "cells": [
  {
   "cell_type": "markdown",
   "metadata": {
    "toc": true
   },
   "source": [
    "<h1>Содержание<span class=\"tocSkip\"></span></h1>\n",
    "<div class=\"toc\"><ul class=\"toc-item\"><li><span><a href=\"#Шаг-1.-Откроем-файл-с-данными-и-изучите-общую-информацию\" data-toc-modified-id=\"Шаг-1.-Откроем-файл-с-данными-и-изучите-общую-информацию-1\"><span class=\"toc-item-num\">1&nbsp;&nbsp;</span>Шаг 1. Откроем файл с данными и изучите общую информацию</a></span></li><li><span><a href=\"#Шаг-2.-Подготовим-данные\" data-toc-modified-id=\"Шаг-2.-Подготовим-данные-2\"><span class=\"toc-item-num\">2&nbsp;&nbsp;</span>Шаг 2. Подготовим данные</a></span><ul class=\"toc-item\"><li><span><a href=\"#Заменим-названия-столбцов-(приведем-к-нижнему-регистру)\" data-toc-modified-id=\"Заменим-названия-столбцов-(приведем-к-нижнему-регистру)-2.1\"><span class=\"toc-item-num\">2.1&nbsp;&nbsp;</span>Заменим названия столбцов (приведем к нижнему регистру)</a></span></li></ul></li><li><span><a href=\"#Шаг-3.-Проведите-исследовательский-анализ-данных\" data-toc-modified-id=\"Шаг-3.-Проведите-исследовательский-анализ-данных-3\"><span class=\"toc-item-num\">3&nbsp;&nbsp;</span>Шаг 3. Проведите исследовательский анализ данных</a></span><ul class=\"toc-item\"><li><span><a href=\"#Cколько-игр-выпускалось-в-разные-годы?\" data-toc-modified-id=\"Cколько-игр-выпускалось-в-разные-годы?-3.1\"><span class=\"toc-item-num\">3.1&nbsp;&nbsp;</span>Cколько игр выпускалось в разные годы?</a></span></li><li><span><a href=\"#Посмотрим,-как-менялись-продажи-по-платформам.-Выберите-платформы-с-наибольшими-суммарными-продажами-и-постройте-распределение-по-годам.-За-какой-характерный-срок-появляются-новые-и-исчезают-старые-платформы?\" data-toc-modified-id=\"Посмотрим,-как-менялись-продажи-по-платформам.-Выберите-платформы-с-наибольшими-суммарными-продажами-и-постройте-распределение-по-годам.-За-какой-характерный-срок-появляются-новые-и-исчезают-старые-платформы?-3.2\"><span class=\"toc-item-num\">3.2&nbsp;&nbsp;</span>Посмотрим, как менялись продажи по платформам. Выберите платформы с наибольшими суммарными продажами и постройте распределение по годам. За какой характерный срок появляются новые и исчезают старые платформы?</a></span></li><li><span><a href=\"#Построим-график-«ящик-с-усами»-по-глобальным-продажам-игр-в-разбивке-по-платформам.-Опишите-результат\" data-toc-modified-id=\"Построим-график-«ящик-с-усами»-по-глобальным-продажам-игр-в-разбивке-по-платформам.-Опишите-результат-3.3\"><span class=\"toc-item-num\">3.3&nbsp;&nbsp;</span>Построим график «ящик с усами» по глобальным продажам игр в разбивке по платформам. Опишите результат</a></span></li><li><span><a href=\"#Посмотрим,-как-влияют-на-продажи-внутри-одной-популярной-платформы-отзывы-пользователей-и-критиков.-Постройте-диаграмму-рассеяния-и-посчитайте-корреляцию-между-отзывами-и-продажами.-Сформулируйте-выводы.\" data-toc-modified-id=\"Посмотрим,-как-влияют-на-продажи-внутри-одной-популярной-платформы-отзывы-пользователей-и-критиков.-Постройте-диаграмму-рассеяния-и-посчитайте-корреляцию-между-отзывами-и-продажами.-Сформулируйте-выводы.-3.4\"><span class=\"toc-item-num\">3.4&nbsp;&nbsp;</span>Посмотрим, как влияют на продажи внутри одной популярной платформы отзывы пользователей и критиков. Постройте диаграмму рассеяния и посчитайте корреляцию между отзывами и продажами. Сформулируйте выводы.</a></span></li><li><span><a href=\"#Соотнесем-выводы-с-продажами-игр-на-других-платформах.\" data-toc-modified-id=\"Соотнесем-выводы-с-продажами-игр-на-других-платформах.-3.5\"><span class=\"toc-item-num\">3.5&nbsp;&nbsp;</span>Соотнесем выводы с продажами игр на других платформах.</a></span></li><li><span><a href=\"#Посмотрим-на-общее-распределение-игр-по-жанрам.\" data-toc-modified-id=\"Посмотрим-на-общее-распределение-игр-по-жанрам.-3.6\"><span class=\"toc-item-num\">3.6&nbsp;&nbsp;</span>Посмотрим на общее распределение игр по жанрам.</a></span></li></ul></li><li><span><a href=\"#Составим-портрет-пользователя-каждого-региона\" data-toc-modified-id=\"Составим-портрет-пользователя-каждого-региона-4\"><span class=\"toc-item-num\">4&nbsp;&nbsp;</span>Составим портрет пользователя каждого региона</a></span><ul class=\"toc-item\"><li><span><a href=\"#Определим-для-пользователя-каждого-региона-(NA,-EU,-JP):Cамые-популярные-платформы-(топ-5)\" data-toc-modified-id=\"Определим-для-пользователя-каждого-региона-(NA,-EU,-JP):Cамые-популярные-платформы-(топ-5)-4.1\"><span class=\"toc-item-num\">4.1&nbsp;&nbsp;</span>Определим для пользователя каждого региона (NA, EU, JP):Cамые популярные платформы (топ-5)</a></span></li><li><span><a href=\"#Определим-для-пользователя-каждого-региона-(NA,-EU,-JP):-Самые-популярные-жанры-(топ-5).\" data-toc-modified-id=\"Определим-для-пользователя-каждого-региона-(NA,-EU,-JP):-Самые-популярные-жанры-(топ-5).-4.2\"><span class=\"toc-item-num\">4.2&nbsp;&nbsp;</span>Определим для пользователя каждого региона (NA, EU, JP): Самые популярные жанры (топ-5).</a></span></li><li><span><a href=\"#Влияет-ли-рейтинг-ESRB-на-продажи-в-отдельном-регионе?\" data-toc-modified-id=\"Влияет-ли-рейтинг-ESRB-на-продажи-в-отдельном-регионе?-4.3\"><span class=\"toc-item-num\">4.3&nbsp;&nbsp;</span>Влияет ли рейтинг ESRB на продажи в отдельном регионе?</a></span></li></ul></li><li><span><a href=\"#Проверим-гипотезы\" data-toc-modified-id=\"Проверим-гипотезы-5\"><span class=\"toc-item-num\">5&nbsp;&nbsp;</span>Проверим гипотезы</a></span><ul class=\"toc-item\"><li><span><a href=\"#Средние-пользовательские-рейтинги-платформ-Xbox-One-и-PC-одинаковые;\" data-toc-modified-id=\"Средние-пользовательские-рейтинги-платформ-Xbox-One-и-PC-одинаковые;-5.1\"><span class=\"toc-item-num\">5.1&nbsp;&nbsp;</span>Средние пользовательские рейтинги платформ Xbox One и PC одинаковые;</a></span></li><li><span><a href=\"#Средние-пользовательские-рейтинги-жанров-Action-(англ.-«действие»,-экшен-игры)-и-Sports-(англ.-«спортивные-соревнования»)-разные.\" data-toc-modified-id=\"Средние-пользовательские-рейтинги-жанров-Action-(англ.-«действие»,-экшен-игры)-и-Sports-(англ.-«спортивные-соревнования»)-разные.-5.2\"><span class=\"toc-item-num\">5.2&nbsp;&nbsp;</span>Средние пользовательские рейтинги жанров Action (англ. «действие», экшен-игры) и Sports (англ. «спортивные соревнования») разные.</a></span></li></ul></li><li><span><a href=\"#Общий-вывод\" data-toc-modified-id=\"Общий-вывод-6\"><span class=\"toc-item-num\">6&nbsp;&nbsp;</span>Общий вывод</a></span></li></ul></div>"
   ]
  },
  {
   "cell_type": "markdown",
   "metadata": {},
   "source": [
    "# Сборный проект. Описание."
   ]
  },
  {
   "cell_type": "markdown",
   "metadata": {},
   "source": [
    "Описание проекта\n",
    "Вы работаете в интернет-магазине «Стримчик», который продаёт по всему миру компьютерные игры. Из открытых источников доступны исторические данные о продажах игр, оценки пользователей и экспертов, жанры и платформы (например, Xbox или PlayStation). Вам нужно выявить определяющие успешность игры закономерности. Это позволит сделать ставку на потенциально популярный продукт и спланировать рекламные кампании.\n",
    "Перед вами данные до 2016 года. Представим, что сейчас декабрь 2016 г., и вы планируете кампанию на 2017-й. Нужно отработать принцип работы с данными. Неважно, прогнозируете ли вы продажи на 2017 год по данным 2016-го или же 2027-й — по данным 2026 года.\n",
    "В наборе данных попадается аббревиатура ESRB (Entertainment Software Rating Board) — это ассоциация, определяющая возрастной рейтинг компьютерных игр. ESRB оценивает игровой контент и присваивает ему подходящую возрастную категорию, например, «Для взрослых», «Для детей младшего возраста» или «Для подростков».\n"
   ]
  },
  {
   "cell_type": "markdown",
   "metadata": {},
   "source": [
    "## Шаг 1. Откроем файл с данными и изучите общую информацию"
   ]
  },
  {
   "cell_type": "markdown",
   "metadata": {},
   "source": [
    "Откроем файл с данными и изучим общую информацию, так же добавим все возможные библеотеки которые понадобятся"
   ]
  },
  {
   "cell_type": "code",
   "execution_count": 1,
   "metadata": {
    "scrolled": true
   },
   "outputs": [],
   "source": [
    "import numpy as np\n",
    "from scipy import stats as st\n",
    "import pandas as pd\n",
    "from matplotlib.pyplot import figure\n",
    "import matplotlib.pyplot as plt\n",
    "import seaborn as sns"
   ]
  },
  {
   "cell_type": "code",
   "execution_count": 2,
   "metadata": {},
   "outputs": [
    {
     "data": {
      "text/html": [
       "<div>\n",
       "<style scoped>\n",
       "    .dataframe tbody tr th:only-of-type {\n",
       "        vertical-align: middle;\n",
       "    }\n",
       "\n",
       "    .dataframe tbody tr th {\n",
       "        vertical-align: top;\n",
       "    }\n",
       "\n",
       "    .dataframe thead th {\n",
       "        text-align: right;\n",
       "    }\n",
       "</style>\n",
       "<table border=\"1\" class=\"dataframe\">\n",
       "  <thead>\n",
       "    <tr style=\"text-align: right;\">\n",
       "      <th></th>\n",
       "      <th>Name</th>\n",
       "      <th>Platform</th>\n",
       "      <th>Year_of_Release</th>\n",
       "      <th>Genre</th>\n",
       "      <th>NA_sales</th>\n",
       "      <th>EU_sales</th>\n",
       "      <th>JP_sales</th>\n",
       "      <th>Other_sales</th>\n",
       "      <th>Critic_Score</th>\n",
       "      <th>User_Score</th>\n",
       "      <th>Rating</th>\n",
       "    </tr>\n",
       "  </thead>\n",
       "  <tbody>\n",
       "    <tr>\n",
       "      <th>0</th>\n",
       "      <td>Wii Sports</td>\n",
       "      <td>Wii</td>\n",
       "      <td>2006.0</td>\n",
       "      <td>Sports</td>\n",
       "      <td>41.36</td>\n",
       "      <td>28.96</td>\n",
       "      <td>3.77</td>\n",
       "      <td>8.45</td>\n",
       "      <td>76.0</td>\n",
       "      <td>8</td>\n",
       "      <td>E</td>\n",
       "    </tr>\n",
       "    <tr>\n",
       "      <th>1</th>\n",
       "      <td>Super Mario Bros.</td>\n",
       "      <td>NES</td>\n",
       "      <td>1985.0</td>\n",
       "      <td>Platform</td>\n",
       "      <td>29.08</td>\n",
       "      <td>3.58</td>\n",
       "      <td>6.81</td>\n",
       "      <td>0.77</td>\n",
       "      <td>NaN</td>\n",
       "      <td>NaN</td>\n",
       "      <td>NaN</td>\n",
       "    </tr>\n",
       "    <tr>\n",
       "      <th>2</th>\n",
       "      <td>Mario Kart Wii</td>\n",
       "      <td>Wii</td>\n",
       "      <td>2008.0</td>\n",
       "      <td>Racing</td>\n",
       "      <td>15.68</td>\n",
       "      <td>12.76</td>\n",
       "      <td>3.79</td>\n",
       "      <td>3.29</td>\n",
       "      <td>82.0</td>\n",
       "      <td>8.3</td>\n",
       "      <td>E</td>\n",
       "    </tr>\n",
       "    <tr>\n",
       "      <th>3</th>\n",
       "      <td>Wii Sports Resort</td>\n",
       "      <td>Wii</td>\n",
       "      <td>2009.0</td>\n",
       "      <td>Sports</td>\n",
       "      <td>15.61</td>\n",
       "      <td>10.93</td>\n",
       "      <td>3.28</td>\n",
       "      <td>2.95</td>\n",
       "      <td>80.0</td>\n",
       "      <td>8</td>\n",
       "      <td>E</td>\n",
       "    </tr>\n",
       "    <tr>\n",
       "      <th>4</th>\n",
       "      <td>Pokemon Red/Pokemon Blue</td>\n",
       "      <td>GB</td>\n",
       "      <td>1996.0</td>\n",
       "      <td>Role-Playing</td>\n",
       "      <td>11.27</td>\n",
       "      <td>8.89</td>\n",
       "      <td>10.22</td>\n",
       "      <td>1.00</td>\n",
       "      <td>NaN</td>\n",
       "      <td>NaN</td>\n",
       "      <td>NaN</td>\n",
       "    </tr>\n",
       "    <tr>\n",
       "      <th>5</th>\n",
       "      <td>Tetris</td>\n",
       "      <td>GB</td>\n",
       "      <td>1989.0</td>\n",
       "      <td>Puzzle</td>\n",
       "      <td>23.20</td>\n",
       "      <td>2.26</td>\n",
       "      <td>4.22</td>\n",
       "      <td>0.58</td>\n",
       "      <td>NaN</td>\n",
       "      <td>NaN</td>\n",
       "      <td>NaN</td>\n",
       "    </tr>\n",
       "    <tr>\n",
       "      <th>6</th>\n",
       "      <td>New Super Mario Bros.</td>\n",
       "      <td>DS</td>\n",
       "      <td>2006.0</td>\n",
       "      <td>Platform</td>\n",
       "      <td>11.28</td>\n",
       "      <td>9.14</td>\n",
       "      <td>6.50</td>\n",
       "      <td>2.88</td>\n",
       "      <td>89.0</td>\n",
       "      <td>8.5</td>\n",
       "      <td>E</td>\n",
       "    </tr>\n",
       "    <tr>\n",
       "      <th>7</th>\n",
       "      <td>Wii Play</td>\n",
       "      <td>Wii</td>\n",
       "      <td>2006.0</td>\n",
       "      <td>Misc</td>\n",
       "      <td>13.96</td>\n",
       "      <td>9.18</td>\n",
       "      <td>2.93</td>\n",
       "      <td>2.84</td>\n",
       "      <td>58.0</td>\n",
       "      <td>6.6</td>\n",
       "      <td>E</td>\n",
       "    </tr>\n",
       "    <tr>\n",
       "      <th>8</th>\n",
       "      <td>New Super Mario Bros. Wii</td>\n",
       "      <td>Wii</td>\n",
       "      <td>2009.0</td>\n",
       "      <td>Platform</td>\n",
       "      <td>14.44</td>\n",
       "      <td>6.94</td>\n",
       "      <td>4.70</td>\n",
       "      <td>2.24</td>\n",
       "      <td>87.0</td>\n",
       "      <td>8.4</td>\n",
       "      <td>E</td>\n",
       "    </tr>\n",
       "    <tr>\n",
       "      <th>9</th>\n",
       "      <td>Duck Hunt</td>\n",
       "      <td>NES</td>\n",
       "      <td>1984.0</td>\n",
       "      <td>Shooter</td>\n",
       "      <td>26.93</td>\n",
       "      <td>0.63</td>\n",
       "      <td>0.28</td>\n",
       "      <td>0.47</td>\n",
       "      <td>NaN</td>\n",
       "      <td>NaN</td>\n",
       "      <td>NaN</td>\n",
       "    </tr>\n",
       "    <tr>\n",
       "      <th>10</th>\n",
       "      <td>Nintendogs</td>\n",
       "      <td>DS</td>\n",
       "      <td>2005.0</td>\n",
       "      <td>Simulation</td>\n",
       "      <td>9.05</td>\n",
       "      <td>10.95</td>\n",
       "      <td>1.93</td>\n",
       "      <td>2.74</td>\n",
       "      <td>NaN</td>\n",
       "      <td>NaN</td>\n",
       "      <td>NaN</td>\n",
       "    </tr>\n",
       "    <tr>\n",
       "      <th>11</th>\n",
       "      <td>Mario Kart DS</td>\n",
       "      <td>DS</td>\n",
       "      <td>2005.0</td>\n",
       "      <td>Racing</td>\n",
       "      <td>9.71</td>\n",
       "      <td>7.47</td>\n",
       "      <td>4.13</td>\n",
       "      <td>1.90</td>\n",
       "      <td>91.0</td>\n",
       "      <td>8.6</td>\n",
       "      <td>E</td>\n",
       "    </tr>\n",
       "    <tr>\n",
       "      <th>12</th>\n",
       "      <td>Pokemon Gold/Pokemon Silver</td>\n",
       "      <td>GB</td>\n",
       "      <td>1999.0</td>\n",
       "      <td>Role-Playing</td>\n",
       "      <td>9.00</td>\n",
       "      <td>6.18</td>\n",
       "      <td>7.20</td>\n",
       "      <td>0.71</td>\n",
       "      <td>NaN</td>\n",
       "      <td>NaN</td>\n",
       "      <td>NaN</td>\n",
       "    </tr>\n",
       "    <tr>\n",
       "      <th>13</th>\n",
       "      <td>Wii Fit</td>\n",
       "      <td>Wii</td>\n",
       "      <td>2007.0</td>\n",
       "      <td>Sports</td>\n",
       "      <td>8.92</td>\n",
       "      <td>8.03</td>\n",
       "      <td>3.60</td>\n",
       "      <td>2.15</td>\n",
       "      <td>80.0</td>\n",
       "      <td>7.7</td>\n",
       "      <td>E</td>\n",
       "    </tr>\n",
       "    <tr>\n",
       "      <th>14</th>\n",
       "      <td>Kinect Adventures!</td>\n",
       "      <td>X360</td>\n",
       "      <td>2010.0</td>\n",
       "      <td>Misc</td>\n",
       "      <td>15.00</td>\n",
       "      <td>4.89</td>\n",
       "      <td>0.24</td>\n",
       "      <td>1.69</td>\n",
       "      <td>61.0</td>\n",
       "      <td>6.3</td>\n",
       "      <td>E</td>\n",
       "    </tr>\n",
       "    <tr>\n",
       "      <th>15</th>\n",
       "      <td>Wii Fit Plus</td>\n",
       "      <td>Wii</td>\n",
       "      <td>2009.0</td>\n",
       "      <td>Sports</td>\n",
       "      <td>9.01</td>\n",
       "      <td>8.49</td>\n",
       "      <td>2.53</td>\n",
       "      <td>1.77</td>\n",
       "      <td>80.0</td>\n",
       "      <td>7.4</td>\n",
       "      <td>E</td>\n",
       "    </tr>\n",
       "    <tr>\n",
       "      <th>16</th>\n",
       "      <td>Grand Theft Auto V</td>\n",
       "      <td>PS3</td>\n",
       "      <td>2013.0</td>\n",
       "      <td>Action</td>\n",
       "      <td>7.02</td>\n",
       "      <td>9.09</td>\n",
       "      <td>0.98</td>\n",
       "      <td>3.96</td>\n",
       "      <td>97.0</td>\n",
       "      <td>8.2</td>\n",
       "      <td>M</td>\n",
       "    </tr>\n",
       "    <tr>\n",
       "      <th>17</th>\n",
       "      <td>Grand Theft Auto: San Andreas</td>\n",
       "      <td>PS2</td>\n",
       "      <td>2004.0</td>\n",
       "      <td>Action</td>\n",
       "      <td>9.43</td>\n",
       "      <td>0.40</td>\n",
       "      <td>0.41</td>\n",
       "      <td>10.57</td>\n",
       "      <td>95.0</td>\n",
       "      <td>9</td>\n",
       "      <td>M</td>\n",
       "    </tr>\n",
       "    <tr>\n",
       "      <th>18</th>\n",
       "      <td>Super Mario World</td>\n",
       "      <td>SNES</td>\n",
       "      <td>1990.0</td>\n",
       "      <td>Platform</td>\n",
       "      <td>12.78</td>\n",
       "      <td>3.75</td>\n",
       "      <td>3.54</td>\n",
       "      <td>0.55</td>\n",
       "      <td>NaN</td>\n",
       "      <td>NaN</td>\n",
       "      <td>NaN</td>\n",
       "    </tr>\n",
       "    <tr>\n",
       "      <th>19</th>\n",
       "      <td>Brain Age: Train Your Brain in Minutes a Day</td>\n",
       "      <td>DS</td>\n",
       "      <td>2005.0</td>\n",
       "      <td>Misc</td>\n",
       "      <td>4.74</td>\n",
       "      <td>9.20</td>\n",
       "      <td>4.16</td>\n",
       "      <td>2.04</td>\n",
       "      <td>77.0</td>\n",
       "      <td>7.9</td>\n",
       "      <td>E</td>\n",
       "    </tr>\n",
       "    <tr>\n",
       "      <th>20</th>\n",
       "      <td>Pokemon Diamond/Pokemon Pearl</td>\n",
       "      <td>DS</td>\n",
       "      <td>2006.0</td>\n",
       "      <td>Role-Playing</td>\n",
       "      <td>6.38</td>\n",
       "      <td>4.46</td>\n",
       "      <td>6.04</td>\n",
       "      <td>1.36</td>\n",
       "      <td>NaN</td>\n",
       "      <td>NaN</td>\n",
       "      <td>NaN</td>\n",
       "    </tr>\n",
       "    <tr>\n",
       "      <th>21</th>\n",
       "      <td>Super Mario Land</td>\n",
       "      <td>GB</td>\n",
       "      <td>1989.0</td>\n",
       "      <td>Platform</td>\n",
       "      <td>10.83</td>\n",
       "      <td>2.71</td>\n",
       "      <td>4.18</td>\n",
       "      <td>0.42</td>\n",
       "      <td>NaN</td>\n",
       "      <td>NaN</td>\n",
       "      <td>NaN</td>\n",
       "    </tr>\n",
       "    <tr>\n",
       "      <th>22</th>\n",
       "      <td>Super Mario Bros. 3</td>\n",
       "      <td>NES</td>\n",
       "      <td>1988.0</td>\n",
       "      <td>Platform</td>\n",
       "      <td>9.54</td>\n",
       "      <td>3.44</td>\n",
       "      <td>3.84</td>\n",
       "      <td>0.46</td>\n",
       "      <td>NaN</td>\n",
       "      <td>NaN</td>\n",
       "      <td>NaN</td>\n",
       "    </tr>\n",
       "    <tr>\n",
       "      <th>23</th>\n",
       "      <td>Grand Theft Auto V</td>\n",
       "      <td>X360</td>\n",
       "      <td>2013.0</td>\n",
       "      <td>Action</td>\n",
       "      <td>9.66</td>\n",
       "      <td>5.14</td>\n",
       "      <td>0.06</td>\n",
       "      <td>1.41</td>\n",
       "      <td>97.0</td>\n",
       "      <td>8.1</td>\n",
       "      <td>M</td>\n",
       "    </tr>\n",
       "    <tr>\n",
       "      <th>24</th>\n",
       "      <td>Grand Theft Auto: Vice City</td>\n",
       "      <td>PS2</td>\n",
       "      <td>2002.0</td>\n",
       "      <td>Action</td>\n",
       "      <td>8.41</td>\n",
       "      <td>5.49</td>\n",
       "      <td>0.47</td>\n",
       "      <td>1.78</td>\n",
       "      <td>95.0</td>\n",
       "      <td>8.7</td>\n",
       "      <td>M</td>\n",
       "    </tr>\n",
       "    <tr>\n",
       "      <th>25</th>\n",
       "      <td>Pokemon Ruby/Pokemon Sapphire</td>\n",
       "      <td>GBA</td>\n",
       "      <td>2002.0</td>\n",
       "      <td>Role-Playing</td>\n",
       "      <td>6.06</td>\n",
       "      <td>3.90</td>\n",
       "      <td>5.38</td>\n",
       "      <td>0.50</td>\n",
       "      <td>NaN</td>\n",
       "      <td>NaN</td>\n",
       "      <td>NaN</td>\n",
       "    </tr>\n",
       "    <tr>\n",
       "      <th>26</th>\n",
       "      <td>Brain Age 2: More Training in Minutes a Day</td>\n",
       "      <td>DS</td>\n",
       "      <td>2005.0</td>\n",
       "      <td>Puzzle</td>\n",
       "      <td>3.43</td>\n",
       "      <td>5.35</td>\n",
       "      <td>5.32</td>\n",
       "      <td>1.18</td>\n",
       "      <td>77.0</td>\n",
       "      <td>7.1</td>\n",
       "      <td>E</td>\n",
       "    </tr>\n",
       "    <tr>\n",
       "      <th>27</th>\n",
       "      <td>Pokemon Black/Pokemon White</td>\n",
       "      <td>DS</td>\n",
       "      <td>2010.0</td>\n",
       "      <td>Role-Playing</td>\n",
       "      <td>5.51</td>\n",
       "      <td>3.17</td>\n",
       "      <td>5.65</td>\n",
       "      <td>0.80</td>\n",
       "      <td>NaN</td>\n",
       "      <td>NaN</td>\n",
       "      <td>NaN</td>\n",
       "    </tr>\n",
       "    <tr>\n",
       "      <th>28</th>\n",
       "      <td>Gran Turismo 3: A-Spec</td>\n",
       "      <td>PS2</td>\n",
       "      <td>2001.0</td>\n",
       "      <td>Racing</td>\n",
       "      <td>6.85</td>\n",
       "      <td>5.09</td>\n",
       "      <td>1.87</td>\n",
       "      <td>1.16</td>\n",
       "      <td>95.0</td>\n",
       "      <td>8.4</td>\n",
       "      <td>E</td>\n",
       "    </tr>\n",
       "    <tr>\n",
       "      <th>29</th>\n",
       "      <td>Call of Duty: Modern Warfare 3</td>\n",
       "      <td>X360</td>\n",
       "      <td>2011.0</td>\n",
       "      <td>Shooter</td>\n",
       "      <td>9.04</td>\n",
       "      <td>4.24</td>\n",
       "      <td>0.13</td>\n",
       "      <td>1.32</td>\n",
       "      <td>88.0</td>\n",
       "      <td>3.4</td>\n",
       "      <td>M</td>\n",
       "    </tr>\n",
       "  </tbody>\n",
       "</table>\n",
       "</div>"
      ],
      "text/plain": [
       "                                            Name Platform  Year_of_Release  \\\n",
       "0                                     Wii Sports      Wii           2006.0   \n",
       "1                              Super Mario Bros.      NES           1985.0   \n",
       "2                                 Mario Kart Wii      Wii           2008.0   \n",
       "3                              Wii Sports Resort      Wii           2009.0   \n",
       "4                       Pokemon Red/Pokemon Blue       GB           1996.0   \n",
       "5                                         Tetris       GB           1989.0   \n",
       "6                          New Super Mario Bros.       DS           2006.0   \n",
       "7                                       Wii Play      Wii           2006.0   \n",
       "8                      New Super Mario Bros. Wii      Wii           2009.0   \n",
       "9                                      Duck Hunt      NES           1984.0   \n",
       "10                                    Nintendogs       DS           2005.0   \n",
       "11                                 Mario Kart DS       DS           2005.0   \n",
       "12                   Pokemon Gold/Pokemon Silver       GB           1999.0   \n",
       "13                                       Wii Fit      Wii           2007.0   \n",
       "14                            Kinect Adventures!     X360           2010.0   \n",
       "15                                  Wii Fit Plus      Wii           2009.0   \n",
       "16                            Grand Theft Auto V      PS3           2013.0   \n",
       "17                 Grand Theft Auto: San Andreas      PS2           2004.0   \n",
       "18                             Super Mario World     SNES           1990.0   \n",
       "19  Brain Age: Train Your Brain in Minutes a Day       DS           2005.0   \n",
       "20                 Pokemon Diamond/Pokemon Pearl       DS           2006.0   \n",
       "21                              Super Mario Land       GB           1989.0   \n",
       "22                           Super Mario Bros. 3      NES           1988.0   \n",
       "23                            Grand Theft Auto V     X360           2013.0   \n",
       "24                   Grand Theft Auto: Vice City      PS2           2002.0   \n",
       "25                 Pokemon Ruby/Pokemon Sapphire      GBA           2002.0   \n",
       "26   Brain Age 2: More Training in Minutes a Day       DS           2005.0   \n",
       "27                   Pokemon Black/Pokemon White       DS           2010.0   \n",
       "28                        Gran Turismo 3: A-Spec      PS2           2001.0   \n",
       "29                Call of Duty: Modern Warfare 3     X360           2011.0   \n",
       "\n",
       "           Genre  NA_sales  EU_sales  JP_sales  Other_sales  Critic_Score  \\\n",
       "0         Sports     41.36     28.96      3.77         8.45          76.0   \n",
       "1       Platform     29.08      3.58      6.81         0.77           NaN   \n",
       "2         Racing     15.68     12.76      3.79         3.29          82.0   \n",
       "3         Sports     15.61     10.93      3.28         2.95          80.0   \n",
       "4   Role-Playing     11.27      8.89     10.22         1.00           NaN   \n",
       "5         Puzzle     23.20      2.26      4.22         0.58           NaN   \n",
       "6       Platform     11.28      9.14      6.50         2.88          89.0   \n",
       "7           Misc     13.96      9.18      2.93         2.84          58.0   \n",
       "8       Platform     14.44      6.94      4.70         2.24          87.0   \n",
       "9        Shooter     26.93      0.63      0.28         0.47           NaN   \n",
       "10    Simulation      9.05     10.95      1.93         2.74           NaN   \n",
       "11        Racing      9.71      7.47      4.13         1.90          91.0   \n",
       "12  Role-Playing      9.00      6.18      7.20         0.71           NaN   \n",
       "13        Sports      8.92      8.03      3.60         2.15          80.0   \n",
       "14          Misc     15.00      4.89      0.24         1.69          61.0   \n",
       "15        Sports      9.01      8.49      2.53         1.77          80.0   \n",
       "16        Action      7.02      9.09      0.98         3.96          97.0   \n",
       "17        Action      9.43      0.40      0.41        10.57          95.0   \n",
       "18      Platform     12.78      3.75      3.54         0.55           NaN   \n",
       "19          Misc      4.74      9.20      4.16         2.04          77.0   \n",
       "20  Role-Playing      6.38      4.46      6.04         1.36           NaN   \n",
       "21      Platform     10.83      2.71      4.18         0.42           NaN   \n",
       "22      Platform      9.54      3.44      3.84         0.46           NaN   \n",
       "23        Action      9.66      5.14      0.06         1.41          97.0   \n",
       "24        Action      8.41      5.49      0.47         1.78          95.0   \n",
       "25  Role-Playing      6.06      3.90      5.38         0.50           NaN   \n",
       "26        Puzzle      3.43      5.35      5.32         1.18          77.0   \n",
       "27  Role-Playing      5.51      3.17      5.65         0.80           NaN   \n",
       "28        Racing      6.85      5.09      1.87         1.16          95.0   \n",
       "29       Shooter      9.04      4.24      0.13         1.32          88.0   \n",
       "\n",
       "   User_Score Rating  \n",
       "0           8      E  \n",
       "1         NaN    NaN  \n",
       "2         8.3      E  \n",
       "3           8      E  \n",
       "4         NaN    NaN  \n",
       "5         NaN    NaN  \n",
       "6         8.5      E  \n",
       "7         6.6      E  \n",
       "8         8.4      E  \n",
       "9         NaN    NaN  \n",
       "10        NaN    NaN  \n",
       "11        8.6      E  \n",
       "12        NaN    NaN  \n",
       "13        7.7      E  \n",
       "14        6.3      E  \n",
       "15        7.4      E  \n",
       "16        8.2      M  \n",
       "17          9      M  \n",
       "18        NaN    NaN  \n",
       "19        7.9      E  \n",
       "20        NaN    NaN  \n",
       "21        NaN    NaN  \n",
       "22        NaN    NaN  \n",
       "23        8.1      M  \n",
       "24        8.7      M  \n",
       "25        NaN    NaN  \n",
       "26        7.1      E  \n",
       "27        NaN    NaN  \n",
       "28        8.4      E  \n",
       "29        3.4      M  "
      ]
     },
     "execution_count": 2,
     "metadata": {},
     "output_type": "execute_result"
    }
   ],
   "source": [
    "data = pd.read_csv('/datasets/games.csv')\n",
    "data.head(30)"
   ]
  },
  {
   "cell_type": "markdown",
   "metadata": {},
   "source": [
    "## Шаг 2. Подготовим данные"
   ]
  },
  {
   "cell_type": "markdown",
   "metadata": {},
   "source": [
    "### Заменим названия столбцов (приведем к нижнему регистру)"
   ]
  },
  {
   "cell_type": "code",
   "execution_count": 3,
   "metadata": {},
   "outputs": [],
   "source": [
    "data.set_axis(data.columns.str.lower(), axis=1, inplace=True)"
   ]
  },
  {
   "cell_type": "markdown",
   "metadata": {},
   "source": [
    "<font color='DarkBlue'><b>Комментарий ревьюера 0</b></font><br>\n",
    "<font color='DarkGreen'>👌 Хорошо! Приводим названия колонок к общепринятому стилю. 😉 <br>\n",
    "А можно просто методом вот так:</font><br>\n",
    "`df.columns = df.columns.str.lower()`"
   ]
  },
  {
   "cell_type": "markdown",
   "metadata": {},
   "source": [
    "Выведем общую инф. с помощью info"
   ]
  },
  {
   "cell_type": "code",
   "execution_count": 4,
   "metadata": {},
   "outputs": [
    {
     "name": "stdout",
     "output_type": "stream",
     "text": [
      "<class 'pandas.core.frame.DataFrame'>\n",
      "RangeIndex: 16715 entries, 0 to 16714\n",
      "Data columns (total 11 columns):\n",
      " #   Column           Non-Null Count  Dtype  \n",
      "---  ------           --------------  -----  \n",
      " 0   name             16713 non-null  object \n",
      " 1   platform         16715 non-null  object \n",
      " 2   year_of_release  16446 non-null  float64\n",
      " 3   genre            16713 non-null  object \n",
      " 4   na_sales         16715 non-null  float64\n",
      " 5   eu_sales         16715 non-null  float64\n",
      " 6   jp_sales         16715 non-null  float64\n",
      " 7   other_sales      16715 non-null  float64\n",
      " 8   critic_score     8137 non-null   float64\n",
      " 9   user_score       10014 non-null  object \n",
      " 10  rating           9949 non-null   object \n",
      "dtypes: float64(6), object(5)\n",
      "memory usage: 1.4+ MB\n"
     ]
    }
   ],
   "source": [
    "data.info()"
   ]
  },
  {
   "cell_type": "markdown",
   "metadata": {},
   "source": [
    "Посчитаем общее количество пропусков во всех столбцах а так же среднее значение."
   ]
  },
  {
   "cell_type": "code",
   "execution_count": 5,
   "metadata": {},
   "outputs": [
    {
     "data": {
      "text/html": [
       "<div>\n",
       "<style scoped>\n",
       "    .dataframe tbody tr th:only-of-type {\n",
       "        vertical-align: middle;\n",
       "    }\n",
       "\n",
       "    .dataframe tbody tr th {\n",
       "        vertical-align: top;\n",
       "    }\n",
       "\n",
       "    .dataframe thead th {\n",
       "        text-align: right;\n",
       "    }\n",
       "</style>\n",
       "<table border=\"1\" class=\"dataframe\">\n",
       "  <thead>\n",
       "    <tr style=\"text-align: right;\">\n",
       "      <th></th>\n",
       "      <th>name</th>\n",
       "      <th>platform</th>\n",
       "      <th>year_of_release</th>\n",
       "      <th>genre</th>\n",
       "      <th>na_sales</th>\n",
       "      <th>eu_sales</th>\n",
       "      <th>jp_sales</th>\n",
       "      <th>other_sales</th>\n",
       "      <th>critic_score</th>\n",
       "      <th>user_score</th>\n",
       "      <th>rating</th>\n",
       "    </tr>\n",
       "  </thead>\n",
       "  <tbody>\n",
       "    <tr>\n",
       "      <th>sum</th>\n",
       "      <td>2.00000</td>\n",
       "      <td>0.0</td>\n",
       "      <td>269.000000</td>\n",
       "      <td>2.00000</td>\n",
       "      <td>0.0</td>\n",
       "      <td>0.0</td>\n",
       "      <td>0.0</td>\n",
       "      <td>0.0</td>\n",
       "      <td>8578.000000</td>\n",
       "      <td>6701.000000</td>\n",
       "      <td>6766.000000</td>\n",
       "    </tr>\n",
       "    <tr>\n",
       "      <th>mean</th>\n",
       "      <td>0.00012</td>\n",
       "      <td>0.0</td>\n",
       "      <td>0.016093</td>\n",
       "      <td>0.00012</td>\n",
       "      <td>0.0</td>\n",
       "      <td>0.0</td>\n",
       "      <td>0.0</td>\n",
       "      <td>0.0</td>\n",
       "      <td>0.513192</td>\n",
       "      <td>0.400897</td>\n",
       "      <td>0.404786</td>\n",
       "    </tr>\n",
       "  </tbody>\n",
       "</table>\n",
       "</div>"
      ],
      "text/plain": [
       "         name  platform  year_of_release    genre  na_sales  eu_sales  \\\n",
       "sum   2.00000       0.0       269.000000  2.00000       0.0       0.0   \n",
       "mean  0.00012       0.0         0.016093  0.00012       0.0       0.0   \n",
       "\n",
       "      jp_sales  other_sales  critic_score   user_score       rating  \n",
       "sum        0.0          0.0   8578.000000  6701.000000  6766.000000  \n",
       "mean       0.0          0.0      0.513192     0.400897     0.404786  "
      ]
     },
     "execution_count": 5,
     "metadata": {},
     "output_type": "execute_result"
    }
   ],
   "source": [
    "data.isna().agg(['sum', 'mean'])"
   ]
  },
  {
   "cell_type": "markdown",
   "metadata": {},
   "source": [
    "Проверим есть ли дубликаты"
   ]
  },
  {
   "cell_type": "code",
   "execution_count": 6,
   "metadata": {},
   "outputs": [
    {
     "data": {
      "text/plain": [
       "0"
      ]
     },
     "execution_count": 6,
     "metadata": {},
     "output_type": "execute_result"
    }
   ],
   "source": [
    "data.duplicated().sum()"
   ]
  },
  {
   "cell_type": "markdown",
   "metadata": {},
   "source": [
    "<font color='DarkBlue'><b>Комментарий ревьюера 0</b></font><br>\n",
    "<font color='DarkGreen'>👌 Хорошо, что проверены дубликаты, иногда они сильно искажают анализ.</font>"
   ]
  },
  {
   "cell_type": "markdown",
   "metadata": {},
   "source": [
    "Из полученных данных можно судить, что 2 пропуска в name которые можно удалить. Очень много пропусков critic_score около 50 % , user_score - 40 % ,  rating  - 40,5%  удалит не получиться > 10 % , но и медианным значением не заменить. Оставим как есть, либо можно сделать заглушку на -1. А вот что можно сделать так как это привести год выпуска в формат YYYY  и тип datatime."
   ]
  },
  {
   "cell_type": "code",
   "execution_count": 7,
   "metadata": {},
   "outputs": [
    {
     "name": "stdout",
     "output_type": "stream",
     "text": [
      "<class 'pandas.core.frame.DataFrame'>\n",
      "Int64Index: 16444 entries, 0 to 16714\n",
      "Data columns (total 11 columns):\n",
      " #   Column           Non-Null Count  Dtype  \n",
      "---  ------           --------------  -----  \n",
      " 0   name             16444 non-null  object \n",
      " 1   platform         16444 non-null  object \n",
      " 2   year_of_release  16444 non-null  int64  \n",
      " 3   genre            16444 non-null  object \n",
      " 4   na_sales         16444 non-null  float64\n",
      " 5   eu_sales         16444 non-null  float64\n",
      " 6   jp_sales         16444 non-null  float64\n",
      " 7   other_sales      16444 non-null  float64\n",
      " 8   critic_score     7983 non-null   float64\n",
      " 9   user_score       9839 non-null   object \n",
      " 10  rating           9768 non-null   object \n",
      "dtypes: float64(5), int64(1), object(5)\n",
      "memory usage: 1.5+ MB\n"
     ]
    }
   ],
   "source": [
    "data.dropna(subset = ['name'], inplace=True)\n",
    "data.dropna(subset = ['year_of_release'], inplace=True)\n",
    "data['year_of_release'] = data['year_of_release'].astype(int)\n",
    "data.info()"
   ]
  },
  {
   "cell_type": "markdown",
   "metadata": {},
   "source": [
    "Рассмотрим уникальные значения user_score"
   ]
  },
  {
   "cell_type": "code",
   "execution_count": 9,
   "metadata": {},
   "outputs": [
    {
     "data": {
      "text/plain": [
       "array(['8', nan, '8.3', '8.5', '6.6', '8.4', '8.6', '7.7', '6.3', '7.4',\n",
       "       '8.2', '9', '7.9', '8.1', '8.7', '7.1', '3.4', '5.3', '4.8', '3.2',\n",
       "       '8.9', '6.4', '7.8', '7.5', '2.6', '7.2', '9.2', '7', '7.3', '4.3',\n",
       "       '7.6', '5.7', '5', '9.1', '6.5', 'tbd', '8.8', '6.9', '9.4', '6.8',\n",
       "       '6.1', '6.7', '5.4', '4', '4.9', '4.5', '9.3', '6.2', '4.2', '6',\n",
       "       '3.7', '4.1', '5.8', '5.6', '5.5', '4.4', '4.6', '5.9', '3.9',\n",
       "       '3.1', '2.9', '5.2', '3.3', '4.7', '5.1', '3.5', '2.5', '1.9', '3',\n",
       "       '2.7', '2.2', '2', '9.5', '2.1', '3.6', '2.8', '1.8', '3.8', '0',\n",
       "       '1.6', '9.6', '2.4', '1.7', '1.1', '0.3', '1.5', '0.7', '1.2',\n",
       "       '2.3', '0.5', '1.3', '0.2', '0.6', '1.4', '0.9', '1', '9.7'],\n",
       "      dtype=object)"
      ]
     },
     "execution_count": 9,
     "metadata": {},
     "output_type": "execute_result"
    }
   ],
   "source": [
    "data['user_score'].unique()"
   ]
  },
  {
   "cell_type": "code",
   "execution_count": 10,
   "metadata": {},
   "outputs": [
    {
     "data": {
      "text/plain": [
       "2376"
      ]
     },
     "execution_count": 10,
     "metadata": {},
     "output_type": "execute_result"
    }
   ],
   "source": [
    "data[data['user_score'] == 'tbd']['user_score'].count()"
   ]
  },
  {
   "cell_type": "markdown",
   "metadata": {},
   "source": [
    "более 14% to be determined = tbd /заменим на nan ,так как tbd это тоже пропуск/должны быть определены( в переводе)."
   ]
  },
  {
   "cell_type": "code",
   "execution_count": 11,
   "metadata": {},
   "outputs": [],
   "source": [
    "data.loc[data['user_score'] == 'tbd', 'user_score'] = np.nan\n",
    "data['user_score'] = data['user_score'].astype(float)"
   ]
  },
  {
   "cell_type": "markdown",
   "metadata": {},
   "source": [
    "<font color='DarkBlue'><b>Комментарий ревьюера 0</b></font><br>\n",
    "<font color='DarkGreen'>👌 Правильно сделана замена \"tbd\" на NaN. Это практически аналог пропусков.</font>"
   ]
  },
  {
   "cell_type": "markdown",
   "metadata": {},
   "source": [
    "Краткий вывод по пропускам: в основном пропуски по рейтингу ESRB, пользователей  и критиков. Так как индустрия начала стремительно развиваться  тока в 1995-2015 годах с появлением  различных приставок у разных производителей, а в датасете у нас числяться и 1980. Не удивительно, что этих данных никто не собирал для анализа. Даже ESRB основана 16 сентября 1994 г. + я думаю что понятия локализации на те времена тоже играло роль и одна очень популярная игра в японии не получала тех же рейтингов что в США и европе.и эти данные не учитывались и ставили tbd или nan."
   ]
  },
  {
   "cell_type": "code",
   "execution_count": 12,
   "metadata": {},
   "outputs": [
    {
     "data": {
      "text/html": [
       "<div>\n",
       "<style scoped>\n",
       "    .dataframe tbody tr th:only-of-type {\n",
       "        vertical-align: middle;\n",
       "    }\n",
       "\n",
       "    .dataframe tbody tr th {\n",
       "        vertical-align: top;\n",
       "    }\n",
       "\n",
       "    .dataframe thead th {\n",
       "        text-align: right;\n",
       "    }\n",
       "</style>\n",
       "<table border=\"1\" class=\"dataframe\">\n",
       "  <thead>\n",
       "    <tr style=\"text-align: right;\">\n",
       "      <th></th>\n",
       "      <th>name</th>\n",
       "      <th>platform</th>\n",
       "      <th>year_of_release</th>\n",
       "      <th>genre</th>\n",
       "      <th>na_sales</th>\n",
       "      <th>eu_sales</th>\n",
       "      <th>jp_sales</th>\n",
       "      <th>other_sales</th>\n",
       "      <th>critic_score</th>\n",
       "      <th>user_score</th>\n",
       "      <th>rating</th>\n",
       "      <th>total_sales</th>\n",
       "    </tr>\n",
       "  </thead>\n",
       "  <tbody>\n",
       "    <tr>\n",
       "      <th>0</th>\n",
       "      <td>Wii Sports</td>\n",
       "      <td>Wii</td>\n",
       "      <td>2006</td>\n",
       "      <td>Sports</td>\n",
       "      <td>41.36</td>\n",
       "      <td>28.96</td>\n",
       "      <td>3.77</td>\n",
       "      <td>8.45</td>\n",
       "      <td>76.0</td>\n",
       "      <td>8.0</td>\n",
       "      <td>E</td>\n",
       "      <td>82.54</td>\n",
       "    </tr>\n",
       "    <tr>\n",
       "      <th>1</th>\n",
       "      <td>Super Mario Bros.</td>\n",
       "      <td>NES</td>\n",
       "      <td>1985</td>\n",
       "      <td>Platform</td>\n",
       "      <td>29.08</td>\n",
       "      <td>3.58</td>\n",
       "      <td>6.81</td>\n",
       "      <td>0.77</td>\n",
       "      <td>NaN</td>\n",
       "      <td>NaN</td>\n",
       "      <td>NaN</td>\n",
       "      <td>40.24</td>\n",
       "    </tr>\n",
       "    <tr>\n",
       "      <th>2</th>\n",
       "      <td>Mario Kart Wii</td>\n",
       "      <td>Wii</td>\n",
       "      <td>2008</td>\n",
       "      <td>Racing</td>\n",
       "      <td>15.68</td>\n",
       "      <td>12.76</td>\n",
       "      <td>3.79</td>\n",
       "      <td>3.29</td>\n",
       "      <td>82.0</td>\n",
       "      <td>8.3</td>\n",
       "      <td>E</td>\n",
       "      <td>35.52</td>\n",
       "    </tr>\n",
       "    <tr>\n",
       "      <th>3</th>\n",
       "      <td>Wii Sports Resort</td>\n",
       "      <td>Wii</td>\n",
       "      <td>2009</td>\n",
       "      <td>Sports</td>\n",
       "      <td>15.61</td>\n",
       "      <td>10.93</td>\n",
       "      <td>3.28</td>\n",
       "      <td>2.95</td>\n",
       "      <td>80.0</td>\n",
       "      <td>8.0</td>\n",
       "      <td>E</td>\n",
       "      <td>32.77</td>\n",
       "    </tr>\n",
       "    <tr>\n",
       "      <th>4</th>\n",
       "      <td>Pokemon Red/Pokemon Blue</td>\n",
       "      <td>GB</td>\n",
       "      <td>1996</td>\n",
       "      <td>Role-Playing</td>\n",
       "      <td>11.27</td>\n",
       "      <td>8.89</td>\n",
       "      <td>10.22</td>\n",
       "      <td>1.00</td>\n",
       "      <td>NaN</td>\n",
       "      <td>NaN</td>\n",
       "      <td>NaN</td>\n",
       "      <td>31.38</td>\n",
       "    </tr>\n",
       "  </tbody>\n",
       "</table>\n",
       "</div>"
      ],
      "text/plain": [
       "                       name platform  year_of_release         genre  na_sales  \\\n",
       "0                Wii Sports      Wii             2006        Sports     41.36   \n",
       "1         Super Mario Bros.      NES             1985      Platform     29.08   \n",
       "2            Mario Kart Wii      Wii             2008        Racing     15.68   \n",
       "3         Wii Sports Resort      Wii             2009        Sports     15.61   \n",
       "4  Pokemon Red/Pokemon Blue       GB             1996  Role-Playing     11.27   \n",
       "\n",
       "   eu_sales  jp_sales  other_sales  critic_score  user_score rating  \\\n",
       "0     28.96      3.77         8.45          76.0         8.0      E   \n",
       "1      3.58      6.81         0.77           NaN         NaN    NaN   \n",
       "2     12.76      3.79         3.29          82.0         8.3      E   \n",
       "3     10.93      3.28         2.95          80.0         8.0      E   \n",
       "4      8.89     10.22         1.00           NaN         NaN    NaN   \n",
       "\n",
       "   total_sales  \n",
       "0        82.54  \n",
       "1        40.24  \n",
       "2        35.52  \n",
       "3        32.77  \n",
       "4        31.38  "
      ]
     },
     "execution_count": 12,
     "metadata": {},
     "output_type": "execute_result"
    }
   ],
   "source": [
    "# Посчитайте количество продаж во всех регионах и запишите в отдельный столбец\n",
    "data['total_sales'] = data['na_sales'] + data['eu_sales'] + data['jp_sales'] + data['other_sales']\n",
    "data.head()"
   ]
  },
  {
   "cell_type": "code",
   "execution_count": 13,
   "metadata": {},
   "outputs": [
    {
     "name": "stdout",
     "output_type": "stream",
     "text": [
      "<class 'pandas.core.frame.DataFrame'>\n",
      "Int64Index: 16444 entries, 0 to 16714\n",
      "Data columns (total 12 columns):\n",
      " #   Column           Non-Null Count  Dtype  \n",
      "---  ------           --------------  -----  \n",
      " 0   name             16444 non-null  object \n",
      " 1   platform         16444 non-null  object \n",
      " 2   year_of_release  16444 non-null  int64  \n",
      " 3   genre            16444 non-null  object \n",
      " 4   na_sales         16444 non-null  float64\n",
      " 5   eu_sales         16444 non-null  float64\n",
      " 6   jp_sales         16444 non-null  float64\n",
      " 7   other_sales      16444 non-null  float64\n",
      " 8   critic_score     7983 non-null   float64\n",
      " 9   user_score       7463 non-null   float64\n",
      " 10  rating           9768 non-null   object \n",
      " 11  total_sales      16444 non-null  float64\n",
      "dtypes: float64(7), int64(1), object(4)\n",
      "memory usage: 1.6+ MB\n",
      "None\n",
      "-------------------------\n",
      "name [' Beyblade Burst' ' Fire Emblem Fates' \" Frozen: Olaf's Quest\" ...\n",
      " 'uDraw Studio' 'uDraw Studio: Instant Artist'\n",
      " '¡Shin Chan Flipa en colores!']\n",
      "name : кол-во NaN 0 , процент NaN 0.0 %\n",
      "-------------------------\n",
      "platform ['2600' '3DO' '3DS' 'DC' 'DS' 'GB' 'GBA' 'GC' 'GEN' 'GG' 'N64' 'NES' 'NG'\n",
      " 'PC' 'PCFX' 'PS' 'PS2' 'PS3' 'PS4' 'PSP' 'PSV' 'SAT' 'SCD' 'SNES' 'TG16'\n",
      " 'WS' 'Wii' 'WiiU' 'X360' 'XB' 'XOne']\n",
      "platform : кол-во NaN 0 , процент NaN 0.0 %\n",
      "-------------------------\n",
      "year_of_release [1980 1981 1982 1983 1984 1985 1986 1987 1988 1989 1990 1991 1992 1993\n",
      " 1994 1995 1996 1997 1998 1999 2000 2001 2002 2003 2004 2005 2006 2007\n",
      " 2008 2009 2010 2011 2012 2013 2014 2015 2016]\n",
      "year_of_release : кол-во NaN 0 , процент NaN 0.0 %\n",
      "-------------------------\n",
      "genre ['Action' 'Adventure' 'Fighting' 'Misc' 'Platform' 'Puzzle' 'Racing'\n",
      " 'Role-Playing' 'Shooter' 'Simulation' 'Sports' 'Strategy']\n",
      "genre : кол-во NaN 0 , процент NaN 0.0 %\n",
      "-------------------------\n",
      "critic_score [13. 17. 19. 20. 21. 23. 24. 25. 26. 27. 28. 29. 30. 31. 32. 33. 34. 35.\n",
      " 36. 37. 38. 39. 40. 41. 42. 43. 44. 45. 46. 47. 48. 49. 50. 51. 52. 53.\n",
      " 54. 55. 56. 57. 58. 59. 60. 61. 62. 63. 64. 65. 66. 67. 68. 69. 70. 71.\n",
      " 72. 73. 74. 75. 76. 77. 78. 79. 80. 81. 82. 83. 84. 85. 86. 87. 88. 89.\n",
      " 90. 91. 92. 93. 94. 95. 96. 97. 98. nan]\n",
      "critic_score : кол-во NaN 8461 , процент NaN 51.45 %\n",
      "-------------------------\n",
      "user_score [0.  0.2 0.3 0.5 0.6 0.7 0.9 1.  1.1 1.2 1.3 1.4 1.5 1.6 1.7 1.8 1.9 2.\n",
      " 2.1 2.2 2.3 2.4 2.5 2.6 2.7 2.8 2.9 3.  3.1 3.2 3.3 3.4 3.5 3.6 3.7 3.8\n",
      " 3.9 4.  4.1 4.2 4.3 4.4 4.5 4.6 4.7 4.8 4.9 5.  5.1 5.2 5.3 5.4 5.5 5.6\n",
      " 5.7 5.8 5.9 6.  6.1 6.2 6.3 6.4 6.5 6.6 6.7 6.8 6.9 7.  7.1 7.2 7.3 7.4\n",
      " 7.5 7.6 7.7 7.8 7.9 8.  8.1 8.2 8.3 8.4 8.5 8.6 8.7 8.8 8.9 9.  9.1 9.2\n",
      " 9.3 9.4 9.5 9.6 9.7 nan]\n",
      "user_score : кол-во NaN 8981 , процент NaN 54.62 %\n",
      "-------------------------\n",
      "rating ['AO' 'E' 'E10+' 'EC' 'K-A' 'M' 'RP' 'T' nan]\n",
      "rating : кол-во NaN 6676 , процент NaN 40.6 %\n"
     ]
    }
   ],
   "source": [
    "# Комментарий ревьюера 0\n",
    "# Посмотрим, что у нас осталось\n",
    "temp = data.copy() \n",
    "list_c = ['name', 'platform', 'year_of_release', 'genre', 'critic_score', 'user_score', 'rating']\n",
    "print(temp.info())\n",
    "for col_l in list_c:\n",
    "  print('-'* 25)\n",
    "  print(col_l, temp[col_l].sort_values().unique())\n",
    "  print(col_l,': кол-во NaN',temp[col_l].isna().sum(),\n",
    "        ', процент NaN', round(temp[col_l].isna().sum()/len(temp)*100, 2),'%')"
   ]
  },
  {
   "cell_type": "markdown",
   "metadata": {},
   "source": [
    "Сделаем заглушки на пропусках в рейтинге критиков, пользователей и ESRB.\n",
    "Рейтинг не проставлен для многих платформ, произойти это могло в следствии: ESRB был создан в 1994 и действует в США и Канаде, для игр созданных раньше или распространяемых в других странах мог не проставляться. Определение рейтинга происходит с подачи издателя, если он не пришлет заявку на рейтинг, то и рейтинга у него не будет. Данных слишком много, чтобы их отбросить (более 40%). Подобрать значение невозможно. Заменим на \"no_rating\"."
   ]
  },
  {
   "cell_type": "code",
   "execution_count": 14,
   "metadata": {},
   "outputs": [],
   "source": [
    "data['rating'] = data['rating'].fillna(\"no_rating\")\n",
    "data['user_score'] = data['user_score'].fillna(-1)\n",
    "data['critic_score'] = data['critic_score'].fillna(-1)"
   ]
  },
  {
   "cell_type": "markdown",
   "metadata": {},
   "source": [
    "Краткий вывод по пропускам: в основном пропуски по рейтингу ESRB, пользователей и критиков. Так как индустрия начала стремительно развиваться тока в 1995-2015 годах с появлением различных приставок у разных производителей, а в датасете у нас числяться и 1980. Не удивительно, что этих данных никто не собирал для анализа. Даже ESRB основана 16 сентября 1994 г. + я думаю что понятия локализации на те времена тоже играло роль и одна очень популярная игра в японии не получала тех же рейтингов что в США и европе.и эти данные не учитывались и ставили tbd или nan.Из полученных данных можно судить, что 2 пропуска в name которые можно удалить. Очень много пропусков critic_score около 50 % , user_score - 40 % , rating - 40,5% удалит не получиться > 10 % , но и медианным значением не заменить."
   ]
  },
  {
   "cell_type": "markdown",
   "metadata": {},
   "source": [
    "## Шаг 3. Проведите исследовательский анализ данных"
   ]
  },
  {
   "cell_type": "markdown",
   "metadata": {},
   "source": [
    "### Cколько игр выпускалось в разные годы?"
   ]
  },
  {
   "cell_type": "code",
   "execution_count": 15,
   "metadata": {},
   "outputs": [
    {
     "data": {
      "text/plain": [
       "2008    1427\n",
       "2009    1426\n",
       "2010    1255\n",
       "2007    1197\n",
       "2011    1136\n",
       "2006    1006\n",
       "2005     939\n",
       "2002     829\n",
       "2003     775\n",
       "2004     762\n",
       "2012     653\n",
       "2015     606\n",
       "2014     581\n",
       "2013     544\n",
       "2016     502\n",
       "2001     482\n",
       "1998     379\n",
       "2000     350\n",
       "1999     338\n",
       "1997     289\n",
       "1996     263\n",
       "1995     219\n",
       "1994     121\n",
       "1993      60\n",
       "1981      46\n",
       "1992      43\n",
       "1991      41\n",
       "1982      36\n",
       "1986      21\n",
       "1983      17\n",
       "1989      17\n",
       "1990      16\n",
       "1987      16\n",
       "1988      15\n",
       "1985      14\n",
       "1984      14\n",
       "1980       9\n",
       "Name: year_of_release, dtype: int64"
      ]
     },
     "execution_count": 15,
     "metadata": {},
     "output_type": "execute_result"
    }
   ],
   "source": [
    "#Cколько игр выпускалось в разные годы?\n",
    "data['year_of_release'].value_counts()"
   ]
  },
  {
   "cell_type": "markdown",
   "metadata": {},
   "source": [
    "Моя теория что индустрия игр получила развитие в 1994-1995 году подтвердилась, но заметил так же спад или снижение ближе к 2013-2016 году.Сделаем нагляднее.\n"
   ]
  },
  {
   "cell_type": "code",
   "execution_count": 16,
   "metadata": {},
   "outputs": [
    {
     "data": {
      "text/plain": [
       "Text(0, 0.5, 'Колличество')"
      ]
     },
     "execution_count": 16,
     "metadata": {},
     "output_type": "execute_result"
    },
    {
     "data": {
      "image/png": "[encoded data removed]",
      "text/plain": [
       "<Figure size 432x288 with 1 Axes>"
      ]
     },
     "metadata": {
      "needs_background": "light"
     },
     "output_type": "display_data"
    }
   ],
   "source": [
    "data[data['year_of_release'] != 'NaN'].groupby('year_of_release').agg({'total_sales':'sum'}).plot()\n",
    "plt.title('Колличество игр по годам')\n",
    "plt.xlabel('Года выпуска')\n",
    "plt.ylabel('Колличество')"
   ]
  },
  {
   "cell_type": "markdown",
   "metadata": {},
   "source": [
    "Как видим спад к 2016 году выпуск игр сокращается"
   ]
  },
  {
   "cell_type": "markdown",
   "metadata": {},
   "source": [
    "###  Посмотрим, как менялись продажи по платформам. Выберите платформы с наибольшими суммарными продажами и постройте распределение по годам. За какой характерный срок появляются новые и исчезают старые платформы?"
   ]
  },
  {
   "cell_type": "code",
   "execution_count": 17,
   "metadata": {},
   "outputs": [
    {
     "data": {
      "text/plain": [
       "<AxesSubplot:xlabel='platform', ylabel='total_sales'>"
      ]
     },
     "execution_count": 17,
     "metadata": {},
     "output_type": "execute_result"
    },
    {
     "data": {
      "image/png": "[encoded data removed]",
      "text/plain": [
       "<Figure size 1600x1600 with 1 Axes>"
      ]
     },
     "metadata": {
      "needs_background": "light"
     },
     "output_type": "display_data"
    }
   ],
   "source": [
    "\n",
    "data_group = data.groupby(['platform','year_of_release'], as_index =  False)['total_sales'].sum()\n",
    "data_top = data.pivot_table(index=['platform','year_of_release'],values = 'total_sales', aggfunc = 'sum')\n",
    "figure(figsize=(20,20), dpi=80)\n",
    "sns.barplot(data = data_group, x='platform' , y='total_sales', hue = 'year_of_release')"
   ]
  },
  {
   "cell_type": "markdown",
   "metadata": {},
   "source": [
    "Средний срок \"жизни платформы\" составлеяет от 3- 10 лет. Пиком считается 5 лет. Одни их популярных платформ это PS2,х360,WII,PS,DS,PS3,PS4 но это на момент 2016 года. Как видим из графика современные платформы тока набирают свою попурярность(XOne,PS,3SDS,WiiU  и как всегда особняком стоит PC который актуален с 90 по 2016 год).Так как средний цикл жизни составляет до 10 лет возьмем 5 последних лет - это и будет актальный период."
   ]
  },
  {
   "cell_type": "code",
   "execution_count": 18,
   "metadata": {},
   "outputs": [],
   "source": [
    "data = data.query('2012 <= year_of_release <=2016')"
   ]
  },
  {
   "cell_type": "markdown",
   "metadata": {},
   "source": [
    "### Построим график «ящик с усами» по глобальным продажам игр в разбивке по платформам. Опишите результат"
   ]
  },
  {
   "cell_type": "markdown",
   "metadata": {},
   "source": [
    "Построим график «ящик с усами» по глобальным продажам игр в разбивке по платформам."
   ]
  },
  {
   "cell_type": "markdown",
   "metadata": {},
   "source": [
    "<font color='DarkBlue'><b>Комментарий ревьюера</b></font>\n",
    "<br><font color='Red'>🛠 Для анализа не используется актуальный период.</font>"
   ]
  },
  {
   "cell_type": "code",
   "execution_count": 19,
   "metadata": {},
   "outputs": [
    {
     "data": {
      "image/png": "[encoded data removed]",
      "text/plain": [
       "<Figure size 1440x360 with 1 Axes>"
      ]
     },
     "metadata": {
      "needs_background": "light"
     },
     "output_type": "display_data"
    }
   ],
   "source": [
    "plt.figure(figsize=(20,5))\n",
    "sns.boxplot(y=data['total_sales'], x=data['platform'].sort_values())\n",
    "plt.ylim(0,6)\n",
    "plt.grid()"
   ]
  },
  {
   "cell_type": "code",
   "execution_count": 20,
   "metadata": {},
   "outputs": [
    {
     "data": {
      "image/png": "[encoded data removed]",
      "text/plain": [
       "<Figure size 1440x360 with 1 Axes>"
      ]
     },
     "metadata": {
      "needs_background": "light"
     },
     "output_type": "display_data"
    }
   ],
   "source": [
    "plt.figure(figsize=(20,5))\n",
    "sns.boxplot(y=data['total_sales'], x=data['platform'].sort_values())\n",
    "plt.ylim(0,1.75)\n",
    "plt.grid()"
   ]
  },
  {
   "cell_type": "markdown",
   "metadata": {},
   "source": [
    "Как видим из графика медианное значение достаточно низкое в отличии от среднего."
   ]
  },
  {
   "cell_type": "markdown",
   "metadata": {},
   "source": [
    "Как видим из диаграммы размаха практически по всем платформам распределение игр по суммарным продажам имеет сильную ассиметрию и скос вправо с большим количеством \"выбросов\". Относительно продаж по играм лидируют следующие платформы PS4,PS3,Wii,X360,Xone.Преполагаю что большинство игр\"Эксклюзивов\" обеспечивают продажи платформе."
   ]
  },
  {
   "cell_type": "markdown",
   "metadata": {},
   "source": [
    "### Посмотрим, как влияют на продажи внутри одной популярной платформы отзывы пользователей и критиков. Постройте диаграмму рассеяния и посчитайте корреляцию между отзывами и продажами. Сформулируйте выводы.\n",
    "### Соотнесем выводы с продажами игр на других платформах.\n"
   ]
  },
  {
   "cell_type": "markdown",
   "metadata": {},
   "source": [
    "Распределение продаж игр по платформам показывает, что у популярных платформ достаточно много выбросов в отлиячии от уже устаревших и завершивших свой цикл жизни. "
   ]
  },
  {
   "cell_type": "code",
   "execution_count": 21,
   "metadata": {
    "scrolled": false
   },
   "outputs": [
    {
     "data": {
      "text/plain": [
       "'PS4'"
      ]
     },
     "metadata": {},
     "output_type": "display_data"
    },
    {
     "data": {
      "text/plain": [
       "'Коэффициент корреляции общих продаж с оценками пользователей:        0.1'"
      ]
     },
     "metadata": {},
     "output_type": "display_data"
    },
    {
     "data": {
      "text/plain": [
       "'Коэффициент корреляции общих продаж с оценками критиков:        0.2'"
      ]
     },
     "metadata": {},
     "output_type": "display_data"
    },
    {
     "data": {
      "image/png": "[encoded data removed]",
      "text/plain": [
       "<Figure size 864x288 with 2 Axes>"
      ]
     },
     "metadata": {
      "needs_background": "light"
     },
     "output_type": "display_data"
    },
    {
     "data": {
      "text/plain": [
       "'PS3'"
      ]
     },
     "metadata": {},
     "output_type": "display_data"
    },
    {
     "data": {
      "text/plain": [
       "'Коэффициент корреляции общих продаж с оценками пользователей:        0.2'"
      ]
     },
     "metadata": {},
     "output_type": "display_data"
    },
    {
     "data": {
      "text/plain": [
       "'Коэффициент корреляции общих продаж с оценками критиков:        0.3'"
      ]
     },
     "metadata": {},
     "output_type": "display_data"
    },
    {
     "data": {
      "image/png": "[encoded data removed]",
      "text/plain": [
       "<Figure size 864x288 with 2 Axes>"
      ]
     },
     "metadata": {
      "needs_background": "light"
     },
     "output_type": "display_data"
    },
    {
     "data": {
      "text/plain": [
       "'X360'"
      ]
     },
     "metadata": {},
     "output_type": "display_data"
    },
    {
     "data": {
      "text/plain": [
       "'Коэффициент корреляции общих продаж с оценками пользователей:        0.1'"
      ]
     },
     "metadata": {},
     "output_type": "display_data"
    },
    {
     "data": {
      "text/plain": [
       "'Коэффициент корреляции общих продаж с оценками критиков:        0.3'"
      ]
     },
     "metadata": {},
     "output_type": "display_data"
    },
    {
     "data": {
      "image/png": "[encoded data removed]",
      "text/plain": [
       "<Figure size 864x288 with 2 Axes>"
      ]
     },
     "metadata": {
      "needs_background": "light"
     },
     "output_type": "display_data"
    },
    {
     "data": {
      "text/plain": [
       "'3DS'"
      ]
     },
     "metadata": {},
     "output_type": "display_data"
    },
    {
     "data": {
      "text/plain": [
       "'Коэффициент корреляции общих продаж с оценками пользователей:        0.1'"
      ]
     },
     "metadata": {},
     "output_type": "display_data"
    },
    {
     "data": {
      "text/plain": [
       "'Коэффициент корреляции общих продаж с оценками критиков:        0.1'"
      ]
     },
     "metadata": {},
     "output_type": "display_data"
    },
    {
     "data": {
      "image/png": "[encoded data removed]",
      "text/plain": [
       "<Figure size 864x288 with 2 Axes>"
      ]
     },
     "metadata": {
      "needs_background": "light"
     },
     "output_type": "display_data"
    },
    {
     "data": {
      "text/plain": [
       "'XOne'"
      ]
     },
     "metadata": {},
     "output_type": "display_data"
    },
    {
     "data": {
      "text/plain": [
       "'Коэффициент корреляции общих продаж с оценками пользователей:        0.1'"
      ]
     },
     "metadata": {},
     "output_type": "display_data"
    },
    {
     "data": {
      "text/plain": [
       "'Коэффициент корреляции общих продаж с оценками критиков:        0.3'"
      ]
     },
     "metadata": {},
     "output_type": "display_data"
    },
    {
     "data": {
      "image/png": "[encoded data removed]",
      "text/plain": [
       "<Figure size 864x288 with 2 Axes>"
      ]
     },
     "metadata": {
      "needs_background": "light"
     },
     "output_type": "display_data"
    },
    {
     "data": {
      "text/plain": [
       "'WiiU'"
      ]
     },
     "metadata": {},
     "output_type": "display_data"
    },
    {
     "data": {
      "text/plain": [
       "'Коэффициент корреляции общих продаж с оценками пользователей:        0.3'"
      ]
     },
     "metadata": {},
     "output_type": "display_data"
    },
    {
     "data": {
      "text/plain": [
       "'Коэффициент корреляции общих продаж с оценками критиков:        0.3'"
      ]
     },
     "metadata": {},
     "output_type": "display_data"
    },
    {
     "data": {
      "image/png": "[encoded data removed]",
      "text/plain": [
       "<Figure size 864x288 with 2 Axes>"
      ]
     },
     "metadata": {
      "needs_background": "light"
     },
     "output_type": "display_data"
    },
    {
     "data": {
      "text/plain": [
       "'PC'"
      ]
     },
     "metadata": {},
     "output_type": "display_data"
    },
    {
     "data": {
      "text/plain": [
       "'Коэффициент корреляции общих продаж с оценками пользователей:        0.1'"
      ]
     },
     "metadata": {},
     "output_type": "display_data"
    },
    {
     "data": {
      "text/plain": [
       "'Коэффициент корреляции общих продаж с оценками критиков:        0.2'"
      ]
     },
     "metadata": {},
     "output_type": "display_data"
    },
    {
     "data": {
      "image/png": "[encoded data removed]",
      "text/plain": [
       "<Figure size 864x288 with 2 Axes>"
      ]
     },
     "metadata": {
      "needs_background": "light"
     },
     "output_type": "display_data"
    },
    {
     "data": {
      "text/plain": [
       "'PSV'"
      ]
     },
     "metadata": {},
     "output_type": "display_data"
    },
    {
     "data": {
      "text/plain": [
       "'Коэффициент корреляции общих продаж с оценками пользователей:        0.4'"
      ]
     },
     "metadata": {},
     "output_type": "display_data"
    },
    {
     "data": {
      "text/plain": [
       "'Коэффициент корреляции общих продаж с оценками критиков:        0.4'"
      ]
     },
     "metadata": {},
     "output_type": "display_data"
    },
    {
     "data": {
      "image/png": "[encoded data removed]",
      "text/plain": [
       "<Figure size 864x288 with 2 Axes>"
      ]
     },
     "metadata": {
      "needs_background": "light"
     },
     "output_type": "display_data"
    },
    {
     "data": {
      "text/plain": [
       "'Wii'"
      ]
     },
     "metadata": {},
     "output_type": "display_data"
    },
    {
     "data": {
      "text/plain": [
       "'Коэффициент корреляции общих продаж с оценками пользователей:        0.6'"
      ]
     },
     "metadata": {},
     "output_type": "display_data"
    },
    {
     "data": {
      "text/plain": [
       "'Коэффициент корреляции общих продаж с оценками критиков:        0.5'"
      ]
     },
     "metadata": {},
     "output_type": "display_data"
    },
    {
     "data": {
      "image/png": "[encoded data removed]",
      "text/plain": [
       "<Figure size 864x288 with 2 Axes>"
      ]
     },
     "metadata": {
      "needs_background": "light"
     },
     "output_type": "display_data"
    },
    {
     "data": {
      "text/plain": [
       "'DS'"
      ]
     },
     "metadata": {},
     "output_type": "display_data"
    },
    {
     "data": {
      "text/plain": [
       "'Коэффициент корреляции общих продаж с оценками пользователей:        0.1'"
      ]
     },
     "metadata": {},
     "output_type": "display_data"
    },
    {
     "data": {
      "text/plain": [
       "'Коэффициент корреляции общих продаж с оценками критиков:        0.1'"
      ]
     },
     "metadata": {},
     "output_type": "display_data"
    },
    {
     "data": {
      "image/png": "[encoded data removed]",
      "text/plain": [
       "<Figure size 864x288 with 2 Axes>"
      ]
     },
     "metadata": {
      "needs_background": "light"
     },
     "output_type": "display_data"
    },
    {
     "data": {
      "text/plain": [
       "'PSP'"
      ]
     },
     "metadata": {},
     "output_type": "display_data"
    },
    {
     "data": {
      "text/plain": [
       "'Коэффициент корреляции общих продаж с оценками пользователей:        0.2'"
      ]
     },
     "metadata": {},
     "output_type": "display_data"
    },
    {
     "data": {
      "text/plain": [
       "'Коэффициент корреляции общих продаж с оценками критиков:        0.1'"
      ]
     },
     "metadata": {},
     "output_type": "display_data"
    },
    {
     "data": {
      "image/png": "[encoded data removed]",
      "text/plain": [
       "<Figure size 864x288 with 2 Axes>"
      ]
     },
     "metadata": {
      "needs_background": "light"
     },
     "output_type": "display_data"
    }
   ],
   "source": [
    "for i in data.groupby('platform')['total_sales'].sum().sort_values(ascending=False).index:\n",
    "    display(i)\n",
    "    display(f\"Коэффициент корреляции общих продаж с оценками пользователей:\\\n",
    "        {data[data['platform'] == i]['user_score'].corr(data[data['platform'] == i]['total_sales']):.1f}\")\n",
    "    display(f\"Коэффициент корреляции общих продаж с оценками критиков:\\\n",
    "        {data[data['platform'] == i]['critic_score'].corr(data[data['platform'] == i]['total_sales']):.1f}\")\n",
    "    plt.figure(figsize=(12,4))\n",
    "    plt.subplot(1,2,1)\n",
    "    sns.scatterplot(data=data[data['platform'] == i], x = 'user_score', y='total_sales')\n",
    "    plt.xlim(0, 10)\n",
    "    plt.title(i)\n",
    "    plt.grid()\n",
    "    plt.subplot(1,2,2)\n",
    "    sns.scatterplot(data=data[data['platform'] == i], x = 'critic_score', y='total_sales')\n",
    "    plt.xlim(0, 100)\n",
    "    plt.title(i)\n",
    "    plt.grid()\n",
    "    plt.show()"
   ]
  },
  {
   "attachments": {
    "image.png": {
     "image/png": "[encoded data removed]"
    }
   },
   "cell_type": "markdown",
   "metadata": {},
   "source": [
    "<font color='DarkBlue'><b>Комментарий ревьюера 2</b></font><br>\n",
    "<font color='Red'>🛠  Мы забыли отфильтровать заглушки в оценках критиков и пользователей.  И корреляцию считаем с заглушками. Только одновременно отфильтровывать их не надо. Если мы анализируем отзывы пользователей, то фильтруем заглушки по ним. Если анализируем отзывы критиков, то фильтруем эти заглушки. А вот удаление одновременно и тех и других ведет к необоснованному удалению данных.</font>\n",
    "![image.png](attachment:image.png)"
   ]
  },
  {
   "cell_type": "markdown",
   "metadata": {},
   "source": [
    "Коэффициент корреляции полизовательских оценоки продаж у популярных платформ (PS4,PS2,х360,WII,PS,DS,PS3)не большой всего от 10-20% , в то время как корреляция с оценками критиков достаточно большая, около 30 - 40%.\n",
    "Видимо влиение критиков более сильное на продажи , так как им уже доверяет большитнство людей в том числе и пользователей."
   ]
  },
  {
   "cell_type": "markdown",
   "metadata": {},
   "source": [
    "### Посмотрим на общее распределение игр по жанрам. "
   ]
  },
  {
   "cell_type": "code",
   "execution_count": 22,
   "metadata": {},
   "outputs": [
    {
     "data": {
      "text/html": [
       "<div>\n",
       "<style scoped>\n",
       "    .dataframe tbody tr th:only-of-type {\n",
       "        vertical-align: middle;\n",
       "    }\n",
       "\n",
       "    .dataframe tbody tr th {\n",
       "        vertical-align: top;\n",
       "    }\n",
       "\n",
       "    .dataframe thead th {\n",
       "        text-align: right;\n",
       "    }\n",
       "</style>\n",
       "<table border=\"1\" class=\"dataframe\">\n",
       "  <thead>\n",
       "    <tr style=\"text-align: right;\">\n",
       "      <th></th>\n",
       "      <th>count</th>\n",
       "      <th>median</th>\n",
       "      <th>sum</th>\n",
       "    </tr>\n",
       "    <tr>\n",
       "      <th>genre</th>\n",
       "      <th></th>\n",
       "      <th></th>\n",
       "      <th></th>\n",
       "    </tr>\n",
       "  </thead>\n",
       "  <tbody>\n",
       "    <tr>\n",
       "      <th>Action</th>\n",
       "      <td>1031</td>\n",
       "      <td>0.120</td>\n",
       "      <td>441.12</td>\n",
       "    </tr>\n",
       "    <tr>\n",
       "      <th>Shooter</th>\n",
       "      <td>235</td>\n",
       "      <td>0.440</td>\n",
       "      <td>304.73</td>\n",
       "    </tr>\n",
       "    <tr>\n",
       "      <th>Role-Playing</th>\n",
       "      <td>370</td>\n",
       "      <td>0.140</td>\n",
       "      <td>192.80</td>\n",
       "    </tr>\n",
       "    <tr>\n",
       "      <th>Sports</th>\n",
       "      <td>268</td>\n",
       "      <td>0.240</td>\n",
       "      <td>181.07</td>\n",
       "    </tr>\n",
       "    <tr>\n",
       "      <th>Misc</th>\n",
       "      <td>192</td>\n",
       "      <td>0.120</td>\n",
       "      <td>85.04</td>\n",
       "    </tr>\n",
       "    <tr>\n",
       "      <th>Platform</th>\n",
       "      <td>85</td>\n",
       "      <td>0.210</td>\n",
       "      <td>61.00</td>\n",
       "    </tr>\n",
       "    <tr>\n",
       "      <th>Racing</th>\n",
       "      <td>115</td>\n",
       "      <td>0.140</td>\n",
       "      <td>53.50</td>\n",
       "    </tr>\n",
       "    <tr>\n",
       "      <th>Fighting</th>\n",
       "      <td>109</td>\n",
       "      <td>0.130</td>\n",
       "      <td>44.49</td>\n",
       "    </tr>\n",
       "    <tr>\n",
       "      <th>Simulation</th>\n",
       "      <td>80</td>\n",
       "      <td>0.120</td>\n",
       "      <td>35.12</td>\n",
       "    </tr>\n",
       "    <tr>\n",
       "      <th>Adventure</th>\n",
       "      <td>302</td>\n",
       "      <td>0.030</td>\n",
       "      <td>29.43</td>\n",
       "    </tr>\n",
       "    <tr>\n",
       "      <th>Strategy</th>\n",
       "      <td>71</td>\n",
       "      <td>0.080</td>\n",
       "      <td>13.34</td>\n",
       "    </tr>\n",
       "    <tr>\n",
       "      <th>Puzzle</th>\n",
       "      <td>28</td>\n",
       "      <td>0.045</td>\n",
       "      <td>4.89</td>\n",
       "    </tr>\n",
       "  </tbody>\n",
       "</table>\n",
       "</div>"
      ],
      "text/plain": [
       "              count  median     sum\n",
       "genre                              \n",
       "Action         1031   0.120  441.12\n",
       "Shooter         235   0.440  304.73\n",
       "Role-Playing    370   0.140  192.80\n",
       "Sports          268   0.240  181.07\n",
       "Misc            192   0.120   85.04\n",
       "Platform         85   0.210   61.00\n",
       "Racing          115   0.140   53.50\n",
       "Fighting        109   0.130   44.49\n",
       "Simulation       80   0.120   35.12\n",
       "Adventure       302   0.030   29.43\n",
       "Strategy         71   0.080   13.34\n",
       "Puzzle           28   0.045    4.89"
      ]
     },
     "execution_count": 22,
     "metadata": {},
     "output_type": "execute_result"
    }
   ],
   "source": [
    "#Посмотрим на общее распределение игр по жанрам\n",
    "genre_analysis = data.groupby('genre').agg({'name':'count','total_sales':['median','sum']})\n",
    "genre_analysis.columns = ['count','median','sum']\n",
    "genre_analysis = genre_analysis.sort_values(by = 'sum', ascending = False)\n",
    "genre_analysis"
   ]
  },
  {
   "cell_type": "markdown",
   "metadata": {},
   "source": [
    "Самыми прибыльными оказались игры в жанре Экшн, Спорт, Шутеры, и РПГ. Самые менее прибыльными стали:  Симуляторы, Говоломки, Приключения и Стратегии."
   ]
  },
  {
   "cell_type": "code",
   "execution_count": 23,
   "metadata": {},
   "outputs": [
    {
     "data": {
      "image/png": "[encoded data removed]",
      "text/plain": [
       "<Figure size 864x432 with 1 Axes>"
      ]
     },
     "metadata": {
      "needs_background": "light"
     },
     "output_type": "display_data"
    }
   ],
   "source": [
    "plt.figure(figsize=(12,6))\n",
    "sns.boxplot(y=data['total_sales'], x=data['genre'].sort_values())\n",
    "plt.ylim(0,5)\n",
    "plt.grid()"
   ]
  },
  {
   "cell_type": "markdown",
   "metadata": {},
   "source": [
    "Дополним вывод: как видим из диаграммы размаха у Экшенов очень много выбросов и достаточно низкое среднее медианное значение.Самыми прибыльными стоновятся Шутеры, Стортивные и Платформеры."
   ]
  },
  {
   "cell_type": "markdown",
   "metadata": {},
   "source": [
    "## Составим портрет пользователя каждого региона"
   ]
  },
  {
   "cell_type": "markdown",
   "metadata": {},
   "source": [
    "### Определим для пользователя каждого региона (NA, EU, JP):Cамые популярные платформы (топ-5)\n"
   ]
  },
  {
   "cell_type": "code",
   "execution_count": 24,
   "metadata": {},
   "outputs": [
    {
     "data": {
      "text/plain": [
       "array([<AxesSubplot:ylabel='jp_sales'>], dtype=object)"
      ]
     },
     "execution_count": 24,
     "metadata": {},
     "output_type": "execute_result"
    },
    {
     "data": {
      "image/png": "[encoded data removed]",
      "text/plain": [
       "<Figure size 432x288 with 1 Axes>"
      ]
     },
     "metadata": {},
     "output_type": "display_data"
    },
    {
     "data": {
      "image/png": "[encoded data removed]",
      "text/plain": [
       "<Figure size 432x288 with 1 Axes>"
      ]
     },
     "metadata": {},
     "output_type": "display_data"
    },
    {
     "data": {
      "image/png": "[encoded data removed]",
      "text/plain": [
       "<Figure size 432x288 with 1 Axes>"
      ]
     },
     "metadata": {},
     "output_type": "display_data"
    }
   ],
   "source": [
    "#Самые популярные платформы (топ-5)\n",
    "data.groupby(by='platform').agg({'na_sales':'sum'}).sort_values(by='na_sales', ascending=False).head(5).plot(kind='pie',subplots=True, autopct='%.0f%%',legend=False)\n",
    "data.groupby(by='platform').agg({'eu_sales':'sum'}).sort_values(by='eu_sales', ascending=False).head(5).plot(kind='pie',subplots=True, autopct='%.0f%%',legend=False)\n",
    "data.groupby(by='platform').agg({'jp_sales':'sum'}).sort_values(by='jp_sales', ascending=False).head(5).plot(kind='pie',subplots=True, autopct='%.0f%%',legend=False)"
   ]
  },
  {
   "cell_type": "markdown",
   "metadata": {},
   "source": [
    "В Америке лидируют PS4,PS3,X360. В Европе PS4,PS3,Xbox360. В Японии 3DS,PSV,PS3. Странно если честно что компания Nintendo c WII  Не лидируют в Японии."
   ]
  },
  {
   "cell_type": "markdown",
   "metadata": {},
   "source": [
    "### Определим для пользователя каждого региона (NA, EU, JP): Самые популярные жанры (топ-5)."
   ]
  },
  {
   "cell_type": "code",
   "execution_count": 25,
   "metadata": {},
   "outputs": [
    {
     "data": {
      "text/plain": [
       "array([<AxesSubplot:ylabel='jp_sales'>], dtype=object)"
      ]
     },
     "execution_count": 25,
     "metadata": {},
     "output_type": "execute_result"
    },
    {
     "data": {
      "image/png": "[encoded data removed]",
      "text/plain": [
       "<Figure size 432x288 with 1 Axes>"
      ]
     },
     "metadata": {},
     "output_type": "display_data"
    },
    {
     "data": {
      "image/png": "[encoded data removed]",
      "text/plain": [
       "<Figure size 432x288 with 1 Axes>"
      ]
     },
     "metadata": {},
     "output_type": "display_data"
    },
    {
     "data": {
      "image/png": "[encoded data removed]",
      "text/plain": [
       "<Figure size 432x288 with 1 Axes>"
      ]
     },
     "metadata": {},
     "output_type": "display_data"
    }
   ],
   "source": [
    "#Самые популярные жанры (топ-5). \n",
    "data.groupby(by='genre').agg({'na_sales':'sum'}).sort_values(by='na_sales', ascending=False).head(5).plot(kind='pie',subplots=True, autopct='%.0f%%',legend=False)\n",
    "data.groupby(by='genre').agg({'eu_sales':'sum'}).sort_values(by='eu_sales', ascending=False).head(5).plot(kind='pie',subplots=True, autopct='%.0f%%',legend=False)\n",
    "data.groupby(by='genre').agg({'jp_sales':'sum'}).sort_values(by='jp_sales', ascending=False).head(5).plot(kind='pie',subplots=True, autopct='%.0f%%',legend=False)"
   ]
  },
  {
   "cell_type": "markdown",
   "metadata": {},
   "source": [
    "У Американцев и Европейцев схожие вкусы по жанрам игр Экшены, Спортивные и Шутеры, а вот в Японии на первом месте РПГ потом уже Экшен и спортивные.Странно вроде бы в Европе тоже любят РПГ куча тайтлов же есть и всяких ААА проектов."
   ]
  },
  {
   "cell_type": "markdown",
   "metadata": {},
   "source": [
    "###  Влияет ли рейтинг ESRB на продажи в отдельном регионе?"
   ]
  },
  {
   "cell_type": "code",
   "execution_count": 26,
   "metadata": {},
   "outputs": [
    {
     "data": {
      "text/plain": [
       "array(['M', 'no_rating', 'E', 'E10+', 'T'], dtype=object)"
      ]
     },
     "execution_count": 26,
     "metadata": {},
     "output_type": "execute_result"
    }
   ],
   "source": [
    "#Влияет ли рейтинг ESRB на продажи в отдельном регионе?\n",
    "data['rating'].unique()"
   ]
  },
  {
   "cell_type": "markdown",
   "metadata": {},
   "source": [
    "Для объяснения абривиатур обратимся к интернету: https://ru.wikipedia.org/wiki/Entertainment_Software_Rating_Board"
   ]
  },
  {
   "cell_type": "code",
   "execution_count": 27,
   "metadata": {},
   "outputs": [
    {
     "data": {
      "text/html": [
       "<div>\n",
       "<style scoped>\n",
       "    .dataframe tbody tr th:only-of-type {\n",
       "        vertical-align: middle;\n",
       "    }\n",
       "\n",
       "    .dataframe tbody tr th {\n",
       "        vertical-align: top;\n",
       "    }\n",
       "\n",
       "    .dataframe thead tr th {\n",
       "        text-align: left;\n",
       "    }\n",
       "\n",
       "    .dataframe thead tr:last-of-type th {\n",
       "        text-align: right;\n",
       "    }\n",
       "</style>\n",
       "<table border=\"1\" class=\"dataframe\">\n",
       "  <thead>\n",
       "    <tr>\n",
       "      <th></th>\n",
       "      <th colspan=\"3\" halign=\"left\">sum</th>\n",
       "    </tr>\n",
       "    <tr>\n",
       "      <th></th>\n",
       "      <th>eu_sales</th>\n",
       "      <th>jp_sales</th>\n",
       "      <th>na_sales</th>\n",
       "    </tr>\n",
       "    <tr>\n",
       "      <th>rating</th>\n",
       "      <th></th>\n",
       "      <th></th>\n",
       "      <th></th>\n",
       "    </tr>\n",
       "  </thead>\n",
       "  <tbody>\n",
       "    <tr>\n",
       "      <th>E</th>\n",
       "      <td>113.03</td>\n",
       "      <td>28.33</td>\n",
       "      <td>114.37</td>\n",
       "    </tr>\n",
       "    <tr>\n",
       "      <th>E10+</th>\n",
       "      <td>55.37</td>\n",
       "      <td>8.19</td>\n",
       "      <td>75.70</td>\n",
       "    </tr>\n",
       "    <tr>\n",
       "      <th>M</th>\n",
       "      <td>193.96</td>\n",
       "      <td>21.20</td>\n",
       "      <td>231.57</td>\n",
       "    </tr>\n",
       "    <tr>\n",
       "      <th>T</th>\n",
       "      <td>52.96</td>\n",
       "      <td>26.02</td>\n",
       "      <td>66.02</td>\n",
       "    </tr>\n",
       "    <tr>\n",
       "      <th>no_rating</th>\n",
       "      <td>91.50</td>\n",
       "      <td>108.84</td>\n",
       "      <td>103.31</td>\n",
       "    </tr>\n",
       "  </tbody>\n",
       "</table>\n",
       "</div>"
      ],
      "text/plain": [
       "               sum                  \n",
       "          eu_sales jp_sales na_sales\n",
       "rating                              \n",
       "E           113.03    28.33   114.37\n",
       "E10+         55.37     8.19    75.70\n",
       "M           193.96    21.20   231.57\n",
       "T            52.96    26.02    66.02\n",
       "no_rating    91.50   108.84   103.31"
      ]
     },
     "execution_count": 27,
     "metadata": {},
     "output_type": "execute_result"
    }
   ],
   "source": [
    "esrb_raiting= data.pivot_table(index = ['rating'], values = ['na_sales','eu_sales','jp_sales'], aggfunc = ['sum'])\n",
    "esrb_raiting"
   ]
  },
  {
   "cell_type": "markdown",
   "metadata": {},
   "source": [
    "Как видим из таблицы во всех регионах преобладают E:Еveryone - Для всех, M:Mature — Для взрослых, T:Teen — Подросткам на четвертом месте E10+: Everyone 10 and older — Для всех от 10 лет и старше. "
   ]
  },
  {
   "cell_type": "markdown",
   "metadata": {},
   "source": [
    "Так же после постановки заглушки видим, что досточное количество игр не имело рейтинга вовсе. Связано это как раз с тем что многие даже не ставили рейтинг игре при выпуске."
   ]
  },
  {
   "cell_type": "code",
   "execution_count": 28,
   "metadata": {},
   "outputs": [
    {
     "name": "stdout",
     "output_type": "stream",
     "text": [
      "0 0.0\n"
     ]
    },
    {
     "data": {
      "text/plain": [
       "no_rating    1275\n",
       "M             498\n",
       "T             412\n",
       "E             395\n",
       "E10+          306\n",
       "Name: rating, dtype: int64"
      ]
     },
     "execution_count": 28,
     "metadata": {},
     "output_type": "execute_result"
    }
   ],
   "source": [
    "# Комментарий ревьюера\n",
    "temp = data.copy()\n",
    "print(temp.rating.isna().sum(), temp.rating.isna().sum()/len(temp))\n",
    "temp.rating.value_counts()"
   ]
  },
  {
   "cell_type": "markdown",
   "metadata": {},
   "source": [
    "## Проверим гипотезы"
   ]
  },
  {
   "cell_type": "markdown",
   "metadata": {},
   "source": [
    "### Средние пользовательские рейтинги платформ Xbox One и PC одинаковые;"
   ]
  },
  {
   "cell_type": "markdown",
   "metadata": {},
   "source": [
    "Проверим гепотизы: \n",
    "\n",
    "H0: средний пользовательский рейтинг платформ Xbox One и PC одинаковый\n",
    "\n",
    "H1: средний пользовательский рейтинг платформ Xbox One и PC различается"
   ]
  },
  {
   "cell_type": "code",
   "execution_count": 29,
   "metadata": {},
   "outputs": [
    {
     "data": {
      "text/plain": [
       "'p-значение:'"
      ]
     },
     "metadata": {},
     "output_type": "display_data"
    },
    {
     "data": {
      "text/plain": [
       "0.05605440473353122"
      ]
     },
     "metadata": {},
     "output_type": "display_data"
    },
    {
     "name": "stdout",
     "output_type": "stream",
     "text": [
      "Не получилось отвергнуть нулевую гипотезу\n"
     ]
    }
   ],
   "source": [
    "data_actual = data.query('user_score.notna()')#Очень долго искал как избавиться от NAN и nan сразу.\n",
    "xbox_one = data_actual[(data_actual['platform'] == 'XOne')]['user_score']\n",
    "pc = data_actual[(data_actual['platform'] == 'PC')]['user_score']\n",
    "results = st.ttest_ind(xbox_one, pc)\n",
    "display('p-значение:', results.pvalue)\n",
    "alpha = 0.05\n",
    "if (results.pvalue < alpha):\n",
    "    print(\"Отвергаем нулевую гипотезу\")\n",
    "else:\n",
    "    print(\"Не получилось отвергнуть нулевую гипотезу\")"
   ]
  },
  {
   "cell_type": "markdown",
   "metadata": {},
   "source": [
    "Можем утверждать, что средние пользовательские рейтинги жанров Xbox One и PC одинаковые."
   ]
  },
  {
   "cell_type": "markdown",
   "metadata": {},
   "source": [
    "### Средние пользовательские рейтинги жанров Action (англ. «действие», экшен-игры) и Sports (англ. «спортивные соревнования») разные."
   ]
  },
  {
   "cell_type": "markdown",
   "metadata": {},
   "source": [
    "Проверим гепотезы:\n",
    "\n",
    "H0: средний пользовательский рейтинг жанров Action и Sports одинаковый\n",
    "\n",
    "H1: средний пользовательский рейтинг жанров Action и Sports различается"
   ]
  },
  {
   "cell_type": "code",
   "execution_count": 30,
   "metadata": {},
   "outputs": [
    {
     "data": {
      "text/plain": [
       "'p-значение:'"
      ]
     },
     "metadata": {},
     "output_type": "display_data"
    },
    {
     "data": {
      "text/plain": [
       "0.0020018209559324713"
      ]
     },
     "metadata": {},
     "output_type": "display_data"
    },
    {
     "name": "stdout",
     "output_type": "stream",
     "text": [
      "Отвергаем нулевую гипотезу\n"
     ]
    }
   ],
   "source": [
    "action = data_actual[(data_actual['genre'] == 'Action')]['user_score']\n",
    "sports = data_actual[(data_actual['genre'] == 'Sports')]['user_score']\n",
    "results = st.ttest_ind(action, sports, equal_var=False)\n",
    "display('p-значение:', results.pvalue)\n",
    "alpha = 0.05\n",
    "if (results.pvalue < alpha):\n",
    "    print(\"Отвергаем нулевую гипотезу\")\n",
    "else:\n",
    "    print(\"Не получилось отвергнуть нулевую гипотезу\")"
   ]
  },
  {
   "cell_type": "markdown",
   "metadata": {},
   "source": [
    "Таким образом можем смело утверждать что средние пользовательские рейтинги жанров Action и Sports разные."
   ]
  },
  {
   "cell_type": "markdown",
   "metadata": {},
   "source": [
    "Средние пользовательские рейтинги платформ Xbox One и PC одинаковые:\n",
    "Нулевая гипотеза H₀ - cредние пользовательские рейтинги платформ Xbox One и PC одинаковые.\n",
    "\n",
    "Исходя из H₀ формулируем альтернативную гипотезу H₁ - Средние пользовательские рейтинги платформ Xbox One и PC различаются.\n",
    "\n",
    "Задаем α=5%, так как из-за большого пропуска данных, есть риск ошибочно отвергнуть гипотизу.\n",
    "\n",
    "Для оценки гипотезы будем применять тест Стюдента. Соотвественно, мы можем получить два ответа \"Отвергаем нулевую гипотезу\" и \"Не получилось отвергнуть нулевую гипотезу\".\n",
    "\n",
    "При получении ответа \"Отвергаем нулевую гипотезу\" это будет говорить о том, что гипотеза противоречит эмпирическим данным и скорей всего наше предположение неверно. Значит данные различаются.\n",
    "\n",
    "При получении ответа \"Не получилось отвергнуть нулевую гипотезу\", это значит что предположение о равенстве среднего рейтинга верно."
   ]
  },
  {
   "cell_type": "markdown",
   "metadata": {},
   "source": [
    "Средние пользовательские рейтинги жанров Action и Sports разные:\n",
    "Нулевая гипотеза H₀ - средние пользовательские рейтинги жанров Action и Sports одинаковые.\n",
    "\n",
    "Исходя из H₀ формулируем альтернативную гипотезу H₁ - средние пользовательские рейтинги жанров Action и Sports различаются.\n",
    "\n",
    "α=5% задем из-за большого количества пропусков данных, и повышенного риска ошибочно отвергнуть гипотизу.\n",
    "\n",
    "Для оценки гипотезы будем применять тест Стюдента. Соотвественно, мы можем получить два ответа \"Отвергаем нулевую гипотезу\" и \"Не получилось отвергнуть нулевую гипотезу\".\n",
    "\n",
    "При получении ответа \"Отвергаем нулевую гипотезу\" это будет говорить о том, что гипотеза противоречит эмпирическим данным и скорей всего наше предположение неверно. Значит данные различаются.\n",
    "\n",
    "При получении ответа \"Не получилось отвергнуть нулевую гипотезу\", это значит что предположение о равенстве среднего рейтинга верно."
   ]
  },
  {
   "cell_type": "code",
   "execution_count": 31,
   "metadata": {},
   "outputs": [
    {
     "data": {
      "text/html": [
       "<div>\n",
       "<style scoped>\n",
       "    .dataframe tbody tr th:only-of-type {\n",
       "        vertical-align: middle;\n",
       "    }\n",
       "\n",
       "    .dataframe tbody tr th {\n",
       "        vertical-align: top;\n",
       "    }\n",
       "\n",
       "    .dataframe thead th {\n",
       "        text-align: right;\n",
       "    }\n",
       "</style>\n",
       "<table border=\"1\" class=\"dataframe\">\n",
       "  <thead>\n",
       "    <tr style=\"text-align: right;\">\n",
       "      <th></th>\n",
       "      <th>count</th>\n",
       "      <th>mean</th>\n",
       "    </tr>\n",
       "    <tr>\n",
       "      <th>genre</th>\n",
       "      <th></th>\n",
       "      <th></th>\n",
       "    </tr>\n",
       "  </thead>\n",
       "  <tbody>\n",
       "    <tr>\n",
       "      <th>Action</th>\n",
       "      <td>1031</td>\n",
       "      <td>2.969447</td>\n",
       "    </tr>\n",
       "    <tr>\n",
       "      <th>Adventure</th>\n",
       "      <td>302</td>\n",
       "      <td>1.018543</td>\n",
       "    </tr>\n",
       "    <tr>\n",
       "      <th>Fighting</th>\n",
       "      <td>109</td>\n",
       "      <td>4.070642</td>\n",
       "    </tr>\n",
       "    <tr>\n",
       "      <th>Misc</th>\n",
       "      <td>192</td>\n",
       "      <td>1.770313</td>\n",
       "    </tr>\n",
       "    <tr>\n",
       "      <th>Platform</th>\n",
       "      <td>85</td>\n",
       "      <td>5.061176</td>\n",
       "    </tr>\n",
       "    <tr>\n",
       "      <th>Puzzle</th>\n",
       "      <td>28</td>\n",
       "      <td>1.775000</td>\n",
       "    </tr>\n",
       "    <tr>\n",
       "      <th>Racing</th>\n",
       "      <td>115</td>\n",
       "      <td>4.347826</td>\n",
       "    </tr>\n",
       "    <tr>\n",
       "      <th>Role-Playing</th>\n",
       "      <td>370</td>\n",
       "      <td>2.816757</td>\n",
       "    </tr>\n",
       "    <tr>\n",
       "      <th>Shooter</th>\n",
       "      <td>235</td>\n",
       "      <td>5.170213</td>\n",
       "    </tr>\n",
       "    <tr>\n",
       "      <th>Simulation</th>\n",
       "      <td>80</td>\n",
       "      <td>2.943750</td>\n",
       "    </tr>\n",
       "    <tr>\n",
       "      <th>Sports</th>\n",
       "      <td>268</td>\n",
       "      <td>3.697388</td>\n",
       "    </tr>\n",
       "    <tr>\n",
       "      <th>Strategy</th>\n",
       "      <td>71</td>\n",
       "      <td>2.657746</td>\n",
       "    </tr>\n",
       "  </tbody>\n",
       "</table>\n",
       "</div>"
      ],
      "text/plain": [
       "              count      mean\n",
       "genre                        \n",
       "Action         1031  2.969447\n",
       "Adventure       302  1.018543\n",
       "Fighting        109  4.070642\n",
       "Misc            192  1.770313\n",
       "Platform         85  5.061176\n",
       "Puzzle           28  1.775000\n",
       "Racing          115  4.347826\n",
       "Role-Playing    370  2.816757\n",
       "Shooter         235  5.170213\n",
       "Simulation       80  2.943750\n",
       "Sports          268  3.697388\n",
       "Strategy         71  2.657746"
      ]
     },
     "metadata": {},
     "output_type": "display_data"
    }
   ],
   "source": [
    "#Покажем среднепользовательские рейтинги по платформам и жанрам, Чтобы убедиться что наши гепотизы не противоречат: \n",
    "display(data.groupby('genre')['user_score'].agg(['count', 'mean']))\n",
    "plt.show()"
   ]
  },
  {
   "cell_type": "code",
   "execution_count": 32,
   "metadata": {},
   "outputs": [
    {
     "data": {
      "text/html": [
       "<div>\n",
       "<style scoped>\n",
       "    .dataframe tbody tr th:only-of-type {\n",
       "        vertical-align: middle;\n",
       "    }\n",
       "\n",
       "    .dataframe tbody tr th {\n",
       "        vertical-align: top;\n",
       "    }\n",
       "\n",
       "    .dataframe thead th {\n",
       "        text-align: right;\n",
       "    }\n",
       "</style>\n",
       "<table border=\"1\" class=\"dataframe\">\n",
       "  <thead>\n",
       "    <tr style=\"text-align: right;\">\n",
       "      <th></th>\n",
       "      <th>count</th>\n",
       "      <th>mean</th>\n",
       "    </tr>\n",
       "    <tr>\n",
       "      <th>platform</th>\n",
       "      <th></th>\n",
       "      <th></th>\n",
       "    </tr>\n",
       "  </thead>\n",
       "  <tbody>\n",
       "    <tr>\n",
       "      <th>3DS</th>\n",
       "      <td>396</td>\n",
       "      <td>1.312626</td>\n",
       "    </tr>\n",
       "    <tr>\n",
       "      <th>DS</th>\n",
       "      <td>31</td>\n",
       "      <td>-0.225806</td>\n",
       "    </tr>\n",
       "    <tr>\n",
       "      <th>PC</th>\n",
       "      <td>250</td>\n",
       "      <td>5.121200</td>\n",
       "    </tr>\n",
       "    <tr>\n",
       "      <th>PS3</th>\n",
       "      <td>493</td>\n",
       "      <td>3.324138</td>\n",
       "    </tr>\n",
       "    <tr>\n",
       "      <th>PS4</th>\n",
       "      <td>392</td>\n",
       "      <td>4.079847</td>\n",
       "    </tr>\n",
       "    <tr>\n",
       "      <th>PSP</th>\n",
       "      <td>173</td>\n",
       "      <td>-0.839306</td>\n",
       "    </tr>\n",
       "    <tr>\n",
       "      <th>PSV</th>\n",
       "      <td>411</td>\n",
       "      <td>1.660097</td>\n",
       "    </tr>\n",
       "    <tr>\n",
       "      <th>Wii</th>\n",
       "      <td>54</td>\n",
       "      <td>1.229630</td>\n",
       "    </tr>\n",
       "    <tr>\n",
       "      <th>WiiU</th>\n",
       "      <td>147</td>\n",
       "      <td>4.376871</td>\n",
       "    </tr>\n",
       "    <tr>\n",
       "      <th>X360</th>\n",
       "      <td>292</td>\n",
       "      <td>4.811301</td>\n",
       "    </tr>\n",
       "    <tr>\n",
       "      <th>XOne</th>\n",
       "      <td>247</td>\n",
       "      <td>4.542105</td>\n",
       "    </tr>\n",
       "  </tbody>\n",
       "</table>\n",
       "</div>"
      ],
      "text/plain": [
       "          count      mean\n",
       "platform                 \n",
       "3DS         396  1.312626\n",
       "DS           31 -0.225806\n",
       "PC          250  5.121200\n",
       "PS3         493  3.324138\n",
       "PS4         392  4.079847\n",
       "PSP         173 -0.839306\n",
       "PSV         411  1.660097\n",
       "Wii          54  1.229630\n",
       "WiiU        147  4.376871\n",
       "X360        292  4.811301\n",
       "XOne        247  4.542105"
      ]
     },
     "metadata": {},
     "output_type": "display_data"
    }
   ],
   "source": [
    "display(data.groupby('platform')['user_score'].agg(['count', 'mean']))\n",
    "plt.show()"
   ]
  },
  {
   "cell_type": "markdown",
   "metadata": {},
   "source": [
    "Как видим из таблицы наши гепотезы не противоречат. Cредние пользовательские рейтинги платформ Xbox One и PC одинаковые. Средние пользовательские рейтинги жанров Action и Sports различаются"
   ]
  },
  {
   "cell_type": "markdown",
   "metadata": {},
   "source": [
    "## Общий вывод"
   ]
  },
  {
   "cell_type": "markdown",
   "metadata": {},
   "source": [
    "Общий вывод :Для того чтобы спланировать правильно рекламную компанию потенцеально популярным продуктом на 2017 год станут игры на плитформах: PS4 и XboxOne. Игры должны быть в жанре Спортивные, Шутеры и Платформеры если мы работааем на рынок Европы и Америки. Так же игры должны бытьс рейтигом который заявил производитель игр, а в частности E:Еveryone - Для всех, M:Mature — Для взрослых.Стоить обращать на отзовы критиков , так как они имеют сильное влиение на продажи.В целом индустрия падает, видимо переход на мобильных гейминг. Количество игр не так много и оно сокращается."
   ]
  }
 ],
 "metadata": {
  "ExecuteTimeLog": [
   {
    "duration": 1295,
    "start_time": "2022-11-20T17:40:41.536Z"
   },
   {
    "duration": 103,
    "start_time": "2022-11-20T17:45:30.443Z"
   },
   {
    "duration": 14,
    "start_time": "2022-11-20T17:45:41.356Z"
   },
   {
    "duration": 15,
    "start_time": "2022-11-20T17:47:41.203Z"
   },
   {
    "duration": 21,
    "start_time": "2022-11-20T17:47:48.551Z"
   },
   {
    "duration": 27,
    "start_time": "2022-11-20T17:48:29.744Z"
   },
   {
    "duration": 29,
    "start_time": "2022-11-20T17:48:52.944Z"
   },
   {
    "duration": 6,
    "start_time": "2022-11-22T18:14:36.732Z"
   },
   {
    "duration": 5,
    "start_time": "2022-11-22T18:14:48.570Z"
   },
   {
    "duration": 1514,
    "start_time": "2022-11-22T18:15:02.918Z"
   },
   {
    "duration": 15,
    "start_time": "2022-11-22T18:15:05.957Z"
   },
   {
    "duration": 15,
    "start_time": "2022-11-22T18:15:07.799Z"
   },
   {
    "duration": 20,
    "start_time": "2022-11-22T18:15:09.650Z"
   },
   {
    "duration": 15,
    "start_time": "2022-11-22T18:15:10.630Z"
   },
   {
    "duration": 29,
    "start_time": "2022-11-22T18:15:11.421Z"
   },
   {
    "duration": 15,
    "start_time": "2022-11-22T18:15:13.445Z"
   },
   {
    "duration": 62,
    "start_time": "2022-11-22T18:17:42.194Z"
   },
   {
    "duration": 10,
    "start_time": "2022-11-22T18:17:55.822Z"
   },
   {
    "duration": 11,
    "start_time": "2022-11-22T18:19:39.974Z"
   },
   {
    "duration": 139,
    "start_time": "2022-11-22T18:20:21.254Z"
   },
   {
    "duration": 1394,
    "start_time": "2022-11-23T18:31:57.998Z"
   },
   {
    "duration": 3,
    "start_time": "2022-11-23T18:31:59.395Z"
   },
   {
    "duration": 24,
    "start_time": "2022-11-23T18:31:59.400Z"
   },
   {
    "duration": 20,
    "start_time": "2022-11-23T18:31:59.433Z"
   },
   {
    "duration": 16,
    "start_time": "2022-11-23T18:31:59.455Z"
   },
   {
    "duration": 36,
    "start_time": "2022-11-23T18:31:59.473Z"
   },
   {
    "duration": 13,
    "start_time": "2022-11-23T18:31:59.511Z"
   },
   {
    "duration": 9,
    "start_time": "2022-11-23T18:31:59.526Z"
   },
   {
    "duration": 161,
    "start_time": "2022-11-23T18:31:59.537Z"
   },
   {
    "duration": 5,
    "start_time": "2022-11-23T18:31:59.699Z"
   },
   {
    "duration": 222,
    "start_time": "2022-11-23T18:37:39.759Z"
   },
   {
    "duration": 116,
    "start_time": "2022-11-23T18:38:04.404Z"
   },
   {
    "duration": 22,
    "start_time": "2022-11-23T18:43:56.565Z"
   },
   {
    "duration": 45,
    "start_time": "2022-11-26T09:11:56.920Z"
   },
   {
    "duration": 6,
    "start_time": "2022-11-26T09:12:13.561Z"
   },
   {
    "duration": 1418,
    "start_time": "2022-11-26T09:12:32.591Z"
   },
   {
    "duration": 4,
    "start_time": "2022-11-26T09:12:34.011Z"
   },
   {
    "duration": 17,
    "start_time": "2022-11-26T09:12:34.017Z"
   },
   {
    "duration": 20,
    "start_time": "2022-11-26T09:12:34.036Z"
   },
   {
    "duration": 14,
    "start_time": "2022-11-26T09:12:34.058Z"
   },
   {
    "duration": 56,
    "start_time": "2022-11-26T09:12:34.074Z"
   },
   {
    "duration": 14,
    "start_time": "2022-11-26T09:12:34.132Z"
   },
   {
    "duration": 10,
    "start_time": "2022-11-26T09:12:34.147Z"
   },
   {
    "duration": 164,
    "start_time": "2022-11-26T09:12:34.158Z"
   },
   {
    "duration": 5,
    "start_time": "2022-11-26T09:12:34.324Z"
   },
   {
    "duration": 6,
    "start_time": "2022-11-26T09:12:34.330Z"
   },
   {
    "duration": 239,
    "start_time": "2022-11-26T09:12:34.337Z"
   },
   {
    "duration": 0,
    "start_time": "2022-11-26T09:12:34.578Z"
   },
   {
    "duration": 0,
    "start_time": "2022-11-26T09:12:34.579Z"
   },
   {
    "duration": 61,
    "start_time": "2022-11-26T12:37:46.064Z"
   },
   {
    "duration": 1391,
    "start_time": "2022-11-26T12:46:57.448Z"
   },
   {
    "duration": 4,
    "start_time": "2022-11-26T12:46:58.841Z"
   },
   {
    "duration": 28,
    "start_time": "2022-11-26T12:46:58.846Z"
   },
   {
    "duration": 21,
    "start_time": "2022-11-26T12:46:58.877Z"
   },
   {
    "duration": 16,
    "start_time": "2022-11-26T12:46:58.900Z"
   },
   {
    "duration": 28,
    "start_time": "2022-11-26T12:46:58.918Z"
   },
   {
    "duration": 22,
    "start_time": "2022-11-26T12:46:58.948Z"
   },
   {
    "duration": 28,
    "start_time": "2022-11-26T12:46:58.972Z"
   },
   {
    "duration": 18,
    "start_time": "2022-11-26T12:46:59.002Z"
   },
   {
    "duration": 141,
    "start_time": "2022-11-26T12:46:59.022Z"
   },
   {
    "duration": 5,
    "start_time": "2022-11-26T12:46:59.164Z"
   },
   {
    "duration": 232,
    "start_time": "2022-11-26T12:46:59.170Z"
   },
   {
    "duration": 0,
    "start_time": "2022-11-26T12:46:59.404Z"
   },
   {
    "duration": 0,
    "start_time": "2022-11-26T12:46:59.405Z"
   },
   {
    "duration": 20,
    "start_time": "2022-11-26T12:47:56.852Z"
   },
   {
    "duration": 21,
    "start_time": "2022-11-26T12:48:09.813Z"
   },
   {
    "duration": 4871,
    "start_time": "2022-11-26T13:06:29.278Z"
   },
   {
    "duration": 140,
    "start_time": "2022-11-26T13:06:34.151Z"
   },
   {
    "duration": 79,
    "start_time": "2022-11-26T13:54:56.042Z"
   },
   {
    "duration": 47,
    "start_time": "2022-11-26T18:35:26.627Z"
   },
   {
    "duration": 1604,
    "start_time": "2022-11-26T18:35:37.245Z"
   },
   {
    "duration": 5,
    "start_time": "2022-11-26T18:35:38.851Z"
   },
   {
    "duration": 24,
    "start_time": "2022-11-26T18:35:38.857Z"
   },
   {
    "duration": 30,
    "start_time": "2022-11-26T18:35:38.884Z"
   },
   {
    "duration": 20,
    "start_time": "2022-11-26T18:35:38.916Z"
   },
   {
    "duration": 31,
    "start_time": "2022-11-26T18:35:38.938Z"
   },
   {
    "duration": 35,
    "start_time": "2022-11-26T18:35:38.971Z"
   },
   {
    "duration": 10,
    "start_time": "2022-11-26T18:35:39.007Z"
   },
   {
    "duration": 30,
    "start_time": "2022-11-26T18:35:39.019Z"
   },
   {
    "duration": 5,
    "start_time": "2022-11-26T18:35:39.051Z"
   },
   {
    "duration": 4518,
    "start_time": "2022-11-26T18:35:39.057Z"
   },
   {
    "duration": 131,
    "start_time": "2022-11-26T18:35:43.577Z"
   },
   {
    "duration": 229,
    "start_time": "2022-11-26T18:35:43.710Z"
   },
   {
    "duration": 0,
    "start_time": "2022-11-26T18:35:43.941Z"
   },
   {
    "duration": 0,
    "start_time": "2022-11-26T18:35:43.942Z"
   },
   {
    "duration": 10,
    "start_time": "2022-11-26T19:34:20.962Z"
   },
   {
    "duration": 8,
    "start_time": "2022-11-26T19:34:37.676Z"
   },
   {
    "duration": 1410,
    "start_time": "2022-11-27T10:21:44.127Z"
   },
   {
    "duration": 3,
    "start_time": "2022-11-27T10:21:45.539Z"
   },
   {
    "duration": 21,
    "start_time": "2022-11-27T10:21:45.543Z"
   },
   {
    "duration": 19,
    "start_time": "2022-11-27T10:21:45.566Z"
   },
   {
    "duration": 14,
    "start_time": "2022-11-27T10:21:45.586Z"
   },
   {
    "duration": 25,
    "start_time": "2022-11-27T10:21:45.613Z"
   },
   {
    "duration": 12,
    "start_time": "2022-11-27T10:21:45.639Z"
   },
   {
    "duration": 8,
    "start_time": "2022-11-27T10:21:45.652Z"
   },
   {
    "duration": 18,
    "start_time": "2022-11-27T10:21:45.661Z"
   },
   {
    "duration": 5,
    "start_time": "2022-11-27T10:21:45.680Z"
   },
   {
    "duration": 31,
    "start_time": "2022-11-27T10:21:45.686Z"
   },
   {
    "duration": 5,
    "start_time": "2022-11-27T10:21:45.718Z"
   },
   {
    "duration": 96,
    "start_time": "2022-11-27T10:21:45.725Z"
   },
   {
    "duration": 0,
    "start_time": "2022-11-27T10:21:45.823Z"
   },
   {
    "duration": 0,
    "start_time": "2022-11-27T10:21:45.824Z"
   },
   {
    "duration": 0,
    "start_time": "2022-11-27T10:21:45.825Z"
   },
   {
    "duration": 0,
    "start_time": "2022-11-27T10:21:45.826Z"
   },
   {
    "duration": 1059,
    "start_time": "2022-11-27T10:23:56.995Z"
   },
   {
    "duration": 17,
    "start_time": "2022-11-27T10:24:45.867Z"
   },
   {
    "duration": 131,
    "start_time": "2022-11-27T10:24:53.121Z"
   },
   {
    "duration": 110,
    "start_time": "2022-11-27T10:25:02.094Z"
   },
   {
    "duration": 20,
    "start_time": "2022-11-27T10:25:07.564Z"
   },
   {
    "duration": 9,
    "start_time": "2022-11-27T10:25:08.609Z"
   },
   {
    "duration": 16,
    "start_time": "2022-11-27T10:32:43.481Z"
   },
   {
    "duration": 14,
    "start_time": "2022-11-27T10:32:55.343Z"
   },
   {
    "duration": 13,
    "start_time": "2022-11-27T10:33:03.718Z"
   },
   {
    "duration": 17,
    "start_time": "2022-11-27T10:36:52.500Z"
   },
   {
    "duration": 14,
    "start_time": "2022-11-27T10:39:15.982Z"
   },
   {
    "duration": 26,
    "start_time": "2022-11-27T10:39:24.365Z"
   },
   {
    "duration": 11,
    "start_time": "2022-11-27T10:40:04.242Z"
   },
   {
    "duration": 8,
    "start_time": "2022-11-27T10:40:20.958Z"
   },
   {
    "duration": 12,
    "start_time": "2022-11-27T10:40:22.434Z"
   },
   {
    "duration": 1084,
    "start_time": "2022-11-27T10:40:31.764Z"
   },
   {
    "duration": 3,
    "start_time": "2022-11-27T10:40:32.850Z"
   },
   {
    "duration": 16,
    "start_time": "2022-11-27T10:40:32.854Z"
   },
   {
    "duration": 17,
    "start_time": "2022-11-27T10:40:32.872Z"
   },
   {
    "duration": 25,
    "start_time": "2022-11-27T10:40:32.891Z"
   },
   {
    "duration": 117,
    "start_time": "2022-11-27T10:40:32.918Z"
   },
   {
    "duration": 0,
    "start_time": "2022-11-27T10:40:33.037Z"
   },
   {
    "duration": 0,
    "start_time": "2022-11-27T10:40:33.038Z"
   },
   {
    "duration": 0,
    "start_time": "2022-11-27T10:40:33.039Z"
   },
   {
    "duration": 0,
    "start_time": "2022-11-27T10:40:33.040Z"
   },
   {
    "duration": 0,
    "start_time": "2022-11-27T10:40:33.041Z"
   },
   {
    "duration": 0,
    "start_time": "2022-11-27T10:40:33.042Z"
   },
   {
    "duration": 0,
    "start_time": "2022-11-27T10:40:33.043Z"
   },
   {
    "duration": 0,
    "start_time": "2022-11-27T10:40:33.044Z"
   },
   {
    "duration": 0,
    "start_time": "2022-11-27T10:40:33.045Z"
   },
   {
    "duration": 0,
    "start_time": "2022-11-27T10:40:33.046Z"
   },
   {
    "duration": 0,
    "start_time": "2022-11-27T10:40:33.047Z"
   },
   {
    "duration": 0,
    "start_time": "2022-11-27T10:40:33.047Z"
   },
   {
    "duration": 17,
    "start_time": "2022-11-27T10:49:28.208Z"
   },
   {
    "duration": 27,
    "start_time": "2022-11-27T10:49:37.465Z"
   },
   {
    "duration": 19,
    "start_time": "2022-11-27T10:52:39.611Z"
   },
   {
    "duration": 13,
    "start_time": "2022-11-27T10:52:48.828Z"
   },
   {
    "duration": 24,
    "start_time": "2022-11-27T10:52:51.107Z"
   },
   {
    "duration": 18,
    "start_time": "2022-11-27T10:53:17.961Z"
   },
   {
    "duration": 25,
    "start_time": "2022-11-27T10:55:23.647Z"
   },
   {
    "duration": 16,
    "start_time": "2022-11-27T10:55:27.642Z"
   },
   {
    "duration": 1134,
    "start_time": "2022-11-27T10:55:36.194Z"
   },
   {
    "duration": 4,
    "start_time": "2022-11-27T10:55:37.329Z"
   },
   {
    "duration": 15,
    "start_time": "2022-11-27T10:55:37.334Z"
   },
   {
    "duration": 19,
    "start_time": "2022-11-27T10:55:37.351Z"
   },
   {
    "duration": 15,
    "start_time": "2022-11-27T10:55:37.371Z"
   },
   {
    "duration": 41,
    "start_time": "2022-11-27T10:55:37.387Z"
   },
   {
    "duration": 16,
    "start_time": "2022-11-27T10:55:37.429Z"
   },
   {
    "duration": 10,
    "start_time": "2022-11-27T10:55:37.446Z"
   },
   {
    "duration": 9,
    "start_time": "2022-11-27T10:55:37.458Z"
   },
   {
    "duration": 19,
    "start_time": "2022-11-27T10:55:37.469Z"
   },
   {
    "duration": 24,
    "start_time": "2022-11-27T10:55:37.489Z"
   },
   {
    "duration": 8,
    "start_time": "2022-11-27T10:55:37.514Z"
   },
   {
    "duration": 7,
    "start_time": "2022-11-27T10:55:37.523Z"
   },
   {
    "duration": 17,
    "start_time": "2022-11-27T10:55:37.532Z"
   },
   {
    "duration": 503,
    "start_time": "2022-11-27T10:55:37.550Z"
   },
   {
    "duration": 198,
    "start_time": "2022-11-27T10:55:38.054Z"
   },
   {
    "duration": 0,
    "start_time": "2022-11-27T10:55:38.254Z"
   },
   {
    "duration": 23,
    "start_time": "2022-11-27T10:59:09.615Z"
   },
   {
    "duration": 17,
    "start_time": "2022-11-27T10:59:12.415Z"
   },
   {
    "duration": 1067,
    "start_time": "2022-11-27T10:59:27.866Z"
   },
   {
    "duration": 3,
    "start_time": "2022-11-27T10:59:29.013Z"
   },
   {
    "duration": 14,
    "start_time": "2022-11-27T10:59:29.697Z"
   },
   {
    "duration": 18,
    "start_time": "2022-11-27T10:59:32.532Z"
   },
   {
    "duration": 14,
    "start_time": "2022-11-27T10:59:37.129Z"
   },
   {
    "duration": 19,
    "start_time": "2022-11-27T10:59:38.663Z"
   },
   {
    "duration": 94,
    "start_time": "2022-11-27T11:00:44.921Z"
   },
   {
    "duration": 80,
    "start_time": "2022-11-27T11:01:04.918Z"
   },
   {
    "duration": 17,
    "start_time": "2022-11-27T11:01:09.908Z"
   },
   {
    "duration": 169,
    "start_time": "2022-11-27T11:06:04.232Z"
   },
   {
    "duration": 76,
    "start_time": "2022-11-27T11:06:14.257Z"
   },
   {
    "duration": 76,
    "start_time": "2022-11-27T11:06:33.445Z"
   },
   {
    "duration": 75,
    "start_time": "2022-11-27T11:06:45.881Z"
   },
   {
    "duration": 16,
    "start_time": "2022-11-27T11:06:48.897Z"
   },
   {
    "duration": 78,
    "start_time": "2022-11-27T11:07:34.110Z"
   },
   {
    "duration": 16,
    "start_time": "2022-11-27T11:07:36.054Z"
   },
   {
    "duration": 6,
    "start_time": "2022-11-27T11:08:56.220Z"
   },
   {
    "duration": 7,
    "start_time": "2022-11-27T11:08:58.859Z"
   },
   {
    "duration": 6,
    "start_time": "2022-11-27T11:09:00.612Z"
   },
   {
    "duration": 25,
    "start_time": "2022-11-27T11:09:01.499Z"
   },
   {
    "duration": 134,
    "start_time": "2022-11-27T11:09:04.057Z"
   },
   {
    "duration": 6,
    "start_time": "2022-11-27T11:17:38.156Z"
   },
   {
    "duration": 7,
    "start_time": "2022-11-27T11:17:39.403Z"
   },
   {
    "duration": 1134,
    "start_time": "2022-11-27T11:17:57.399Z"
   },
   {
    "duration": 4,
    "start_time": "2022-11-27T11:17:58.535Z"
   },
   {
    "duration": 16,
    "start_time": "2022-11-27T11:17:58.540Z"
   },
   {
    "duration": 20,
    "start_time": "2022-11-27T11:17:58.557Z"
   },
   {
    "duration": 14,
    "start_time": "2022-11-27T11:17:58.580Z"
   },
   {
    "duration": 93,
    "start_time": "2022-11-27T11:17:58.595Z"
   },
   {
    "duration": 25,
    "start_time": "2022-11-27T11:17:58.689Z"
   },
   {
    "duration": 8,
    "start_time": "2022-11-27T11:17:58.715Z"
   },
   {
    "duration": 11,
    "start_time": "2022-11-27T11:17:58.724Z"
   },
   {
    "duration": 5,
    "start_time": "2022-11-27T11:17:58.736Z"
   },
   {
    "duration": 16,
    "start_time": "2022-11-27T11:17:58.742Z"
   },
   {
    "duration": 230,
    "start_time": "2022-11-27T11:17:58.760Z"
   },
   {
    "duration": 0,
    "start_time": "2022-11-27T11:17:58.991Z"
   },
   {
    "duration": 3,
    "start_time": "2022-11-27T11:41:26.728Z"
   },
   {
    "duration": 7,
    "start_time": "2022-11-27T11:41:34.976Z"
   },
   {
    "duration": 7,
    "start_time": "2022-11-27T11:41:45.446Z"
   },
   {
    "duration": 25,
    "start_time": "2022-11-27T13:17:09.371Z"
   },
   {
    "duration": 32,
    "start_time": "2022-11-27T13:17:25.202Z"
   },
   {
    "duration": 6091,
    "start_time": "2022-11-27T13:17:37.550Z"
   },
   {
    "duration": 1070,
    "start_time": "2022-11-27T13:29:22.153Z"
   },
   {
    "duration": 3,
    "start_time": "2022-11-27T13:29:23.225Z"
   },
   {
    "duration": 18,
    "start_time": "2022-11-27T13:29:23.230Z"
   },
   {
    "duration": 19,
    "start_time": "2022-11-27T13:29:23.250Z"
   },
   {
    "duration": 14,
    "start_time": "2022-11-27T13:29:23.272Z"
   },
   {
    "duration": 96,
    "start_time": "2022-11-27T13:29:23.288Z"
   },
   {
    "duration": 15,
    "start_time": "2022-11-27T13:29:23.386Z"
   },
   {
    "duration": 12,
    "start_time": "2022-11-27T13:29:23.403Z"
   },
   {
    "duration": 9,
    "start_time": "2022-11-27T13:29:23.417Z"
   },
   {
    "duration": 5,
    "start_time": "2022-11-27T13:29:23.427Z"
   },
   {
    "duration": 17,
    "start_time": "2022-11-27T13:29:23.433Z"
   },
   {
    "duration": 6,
    "start_time": "2022-11-27T13:29:23.451Z"
   },
   {
    "duration": 6031,
    "start_time": "2022-11-27T13:29:23.459Z"
   },
   {
    "duration": 306,
    "start_time": "2022-11-27T13:29:29.492Z"
   },
   {
    "duration": 0,
    "start_time": "2022-11-27T13:29:29.799Z"
   },
   {
    "duration": 6645,
    "start_time": "2022-11-27T13:30:01.812Z"
   },
   {
    "duration": 9488,
    "start_time": "2022-11-27T13:30:27.894Z"
   },
   {
    "duration": 6359,
    "start_time": "2022-11-27T13:31:31.870Z"
   },
   {
    "duration": 6642,
    "start_time": "2022-11-27T13:32:42.821Z"
   },
   {
    "duration": 6479,
    "start_time": "2022-11-27T13:33:03.216Z"
   },
   {
    "duration": 6000,
    "start_time": "2022-11-27T13:33:37.229Z"
   },
   {
    "duration": 6735,
    "start_time": "2022-11-27T13:34:03.922Z"
   },
   {
    "duration": 0,
    "start_time": "2022-11-27T13:55:19.652Z"
   },
   {
    "duration": 16,
    "start_time": "2022-11-27T13:55:22.762Z"
   },
   {
    "duration": 4,
    "start_time": "2022-11-27T13:56:49.062Z"
   },
   {
    "duration": 75,
    "start_time": "2022-11-27T13:57:38.321Z"
   },
   {
    "duration": 18,
    "start_time": "2022-11-27T13:58:55.921Z"
   },
   {
    "duration": 15,
    "start_time": "2022-11-27T13:59:22.241Z"
   },
   {
    "duration": 83,
    "start_time": "2022-11-27T14:00:37.601Z"
   },
   {
    "duration": 15,
    "start_time": "2022-11-27T14:00:46.502Z"
   },
   {
    "duration": 19,
    "start_time": "2022-11-27T14:01:03.182Z"
   },
   {
    "duration": 16,
    "start_time": "2022-11-27T14:01:25.398Z"
   },
   {
    "duration": 1089,
    "start_time": "2022-11-27T14:04:39.075Z"
   },
   {
    "duration": 3,
    "start_time": "2022-11-27T14:04:40.166Z"
   },
   {
    "duration": 31,
    "start_time": "2022-11-27T14:04:40.171Z"
   },
   {
    "duration": 18,
    "start_time": "2022-11-27T14:04:40.203Z"
   },
   {
    "duration": 15,
    "start_time": "2022-11-27T14:04:40.223Z"
   },
   {
    "duration": 103,
    "start_time": "2022-11-27T14:04:40.239Z"
   },
   {
    "duration": 22,
    "start_time": "2022-11-27T14:04:40.344Z"
   },
   {
    "duration": 11,
    "start_time": "2022-11-27T14:04:40.368Z"
   },
   {
    "duration": 20,
    "start_time": "2022-11-27T14:04:40.381Z"
   },
   {
    "duration": 14,
    "start_time": "2022-11-27T14:04:40.403Z"
   },
   {
    "duration": 26,
    "start_time": "2022-11-27T14:04:40.419Z"
   },
   {
    "duration": 8,
    "start_time": "2022-11-27T14:04:40.447Z"
   },
   {
    "duration": 121,
    "start_time": "2022-11-27T14:04:40.457Z"
   },
   {
    "duration": 0,
    "start_time": "2022-11-27T14:04:40.580Z"
   },
   {
    "duration": 0,
    "start_time": "2022-11-27T14:04:40.581Z"
   },
   {
    "duration": 0,
    "start_time": "2022-11-27T14:04:40.582Z"
   },
   {
    "duration": 144,
    "start_time": "2022-11-27T14:04:58.137Z"
   },
   {
    "duration": 6099,
    "start_time": "2022-11-27T14:05:12.218Z"
   },
   {
    "duration": 107,
    "start_time": "2022-11-27T14:14:00.554Z"
   },
   {
    "duration": 109,
    "start_time": "2022-11-27T14:14:31.168Z"
   },
   {
    "duration": 11,
    "start_time": "2022-11-27T14:15:24.214Z"
   },
   {
    "duration": 1294,
    "start_time": "2022-11-27T14:15:46.567Z"
   },
   {
    "duration": 1269,
    "start_time": "2022-11-27T14:16:35.847Z"
   },
   {
    "duration": 13,
    "start_time": "2022-11-27T14:24:17.913Z"
   },
   {
    "duration": 1083,
    "start_time": "2022-11-27T14:25:17.558Z"
   },
   {
    "duration": 508,
    "start_time": "2022-11-27T14:25:28.337Z"
   },
   {
    "duration": 540,
    "start_time": "2022-11-27T14:25:54.117Z"
   },
   {
    "duration": 577,
    "start_time": "2022-11-27T14:26:08.911Z"
   },
   {
    "duration": 6399,
    "start_time": "2022-11-27T14:42:44.531Z"
   },
   {
    "duration": 1857,
    "start_time": "2022-11-27T14:43:15.645Z"
   },
   {
    "duration": 6501,
    "start_time": "2022-11-27T14:43:23.477Z"
   },
   {
    "duration": 6389,
    "start_time": "2022-11-27T14:43:46.737Z"
   },
   {
    "duration": 6431,
    "start_time": "2022-11-27T14:44:04.801Z"
   },
   {
    "duration": 6371,
    "start_time": "2022-11-27T14:45:01.742Z"
   },
   {
    "duration": 6667,
    "start_time": "2022-11-27T14:45:31.725Z"
   },
   {
    "duration": 6069,
    "start_time": "2022-11-27T14:45:54.687Z"
   },
   {
    "duration": 6846,
    "start_time": "2022-11-27T14:46:34.538Z"
   },
   {
    "duration": 6073,
    "start_time": "2022-11-27T14:46:58.590Z"
   },
   {
    "duration": 12,
    "start_time": "2022-11-27T14:53:55.698Z"
   },
   {
    "duration": 316,
    "start_time": "2022-11-27T14:54:58.857Z"
   },
   {
    "duration": 1138,
    "start_time": "2022-11-27T14:56:03.098Z"
   },
   {
    "duration": 1192,
    "start_time": "2022-11-27T14:56:38.046Z"
   },
   {
    "duration": 15,
    "start_time": "2022-11-27T15:16:40.213Z"
   },
   {
    "duration": 99,
    "start_time": "2022-11-27T15:17:14.539Z"
   },
   {
    "duration": 152,
    "start_time": "2022-11-27T15:17:30.866Z"
   },
   {
    "duration": 291,
    "start_time": "2022-11-27T15:19:29.334Z"
   },
   {
    "duration": 430,
    "start_time": "2022-11-27T15:19:47.189Z"
   },
   {
    "duration": 438,
    "start_time": "2022-11-27T15:21:11.567Z"
   },
   {
    "duration": 1168,
    "start_time": "2022-11-27T15:33:05.169Z"
   },
   {
    "duration": 5,
    "start_time": "2022-11-27T15:33:11.459Z"
   },
   {
    "duration": 16,
    "start_time": "2022-11-27T15:37:27.176Z"
   },
   {
    "duration": 16,
    "start_time": "2022-11-27T16:29:02.566Z"
   },
   {
    "duration": 9,
    "start_time": "2022-11-27T16:29:47.086Z"
   },
   {
    "duration": 1057,
    "start_time": "2022-11-27T16:30:44.664Z"
   },
   {
    "duration": 3,
    "start_time": "2022-11-27T16:30:45.722Z"
   },
   {
    "duration": 17,
    "start_time": "2022-11-27T16:30:45.727Z"
   },
   {
    "duration": 17,
    "start_time": "2022-11-27T16:30:45.745Z"
   },
   {
    "duration": 14,
    "start_time": "2022-11-27T16:30:45.765Z"
   },
   {
    "duration": 90,
    "start_time": "2022-11-27T16:30:45.780Z"
   },
   {
    "duration": 15,
    "start_time": "2022-11-27T16:30:45.872Z"
   },
   {
    "duration": 7,
    "start_time": "2022-11-27T16:30:45.888Z"
   },
   {
    "duration": 20,
    "start_time": "2022-11-27T16:30:45.897Z"
   },
   {
    "duration": 5,
    "start_time": "2022-11-27T16:30:45.918Z"
   },
   {
    "duration": 18,
    "start_time": "2022-11-27T16:30:45.924Z"
   },
   {
    "duration": 7,
    "start_time": "2022-11-27T16:30:45.943Z"
   },
   {
    "duration": 163,
    "start_time": "2022-11-27T16:30:45.951Z"
   },
   {
    "duration": 6223,
    "start_time": "2022-11-27T16:30:46.117Z"
   },
   {
    "duration": 496,
    "start_time": "2022-11-27T16:30:52.342Z"
   },
   {
    "duration": 429,
    "start_time": "2022-11-27T16:30:52.840Z"
   },
   {
    "duration": 449,
    "start_time": "2022-11-27T16:30:53.271Z"
   },
   {
    "duration": 4,
    "start_time": "2022-11-27T16:30:53.722Z"
   },
   {
    "duration": 10,
    "start_time": "2022-11-27T16:30:53.728Z"
   },
   {
    "duration": 26,
    "start_time": "2022-11-27T16:30:53.739Z"
   },
   {
    "duration": 9,
    "start_time": "2022-11-27T16:30:53.766Z"
   },
   {
    "duration": 10,
    "start_time": "2022-11-27T16:30:54.183Z"
   },
   {
    "duration": 68,
    "start_time": "2022-11-27T16:46:31.328Z"
   },
   {
    "duration": 96,
    "start_time": "2022-11-27T16:46:49.163Z"
   },
   {
    "duration": 5,
    "start_time": "2022-11-27T16:46:58.528Z"
   },
   {
    "duration": 1062,
    "start_time": "2022-11-27T16:47:23.470Z"
   },
   {
    "duration": 3,
    "start_time": "2022-11-27T16:47:24.534Z"
   },
   {
    "duration": 21,
    "start_time": "2022-11-27T16:47:24.539Z"
   },
   {
    "duration": 19,
    "start_time": "2022-11-27T16:47:24.562Z"
   },
   {
    "duration": 16,
    "start_time": "2022-11-27T16:47:24.583Z"
   },
   {
    "duration": 113,
    "start_time": "2022-11-27T16:47:24.601Z"
   },
   {
    "duration": 15,
    "start_time": "2022-11-27T16:47:24.716Z"
   },
   {
    "duration": 9,
    "start_time": "2022-11-27T16:47:24.732Z"
   },
   {
    "duration": 8,
    "start_time": "2022-11-27T16:47:24.743Z"
   },
   {
    "duration": 4,
    "start_time": "2022-11-27T16:47:24.752Z"
   },
   {
    "duration": 19,
    "start_time": "2022-11-27T16:47:24.757Z"
   },
   {
    "duration": 6,
    "start_time": "2022-11-27T16:47:24.778Z"
   },
   {
    "duration": 160,
    "start_time": "2022-11-27T16:47:24.813Z"
   },
   {
    "duration": 6176,
    "start_time": "2022-11-27T16:47:24.976Z"
   },
   {
    "duration": 524,
    "start_time": "2022-11-27T16:47:31.154Z"
   },
   {
    "duration": 442,
    "start_time": "2022-11-27T16:47:31.680Z"
   },
   {
    "duration": 448,
    "start_time": "2022-11-27T16:47:32.124Z"
   },
   {
    "duration": 5,
    "start_time": "2022-11-27T16:47:32.574Z"
   },
   {
    "duration": 7,
    "start_time": "2022-11-27T16:47:32.580Z"
   },
   {
    "duration": 32,
    "start_time": "2022-11-27T16:47:32.589Z"
   },
   {
    "duration": 10,
    "start_time": "2022-11-27T16:47:32.622Z"
   },
   {
    "duration": 10,
    "start_time": "2022-11-27T16:47:51.256Z"
   },
   {
    "duration": 10,
    "start_time": "2022-11-27T16:47:58.967Z"
   },
   {
    "duration": 25,
    "start_time": "2022-11-27T16:48:26.248Z"
   },
   {
    "duration": 19,
    "start_time": "2022-11-27T16:48:38.048Z"
   },
   {
    "duration": 32,
    "start_time": "2022-11-27T16:48:50.230Z"
   },
   {
    "duration": 24,
    "start_time": "2022-11-27T16:49:15.848Z"
   },
   {
    "duration": 3,
    "start_time": "2022-11-27T16:49:46.061Z"
   },
   {
    "duration": 18,
    "start_time": "2022-11-27T16:49:52.860Z"
   },
   {
    "duration": 9,
    "start_time": "2022-11-27T16:51:09.148Z"
   },
   {
    "duration": 74,
    "start_time": "2022-11-27T16:53:24.080Z"
   },
   {
    "duration": 93,
    "start_time": "2022-11-27T16:53:29.728Z"
   },
   {
    "duration": 8,
    "start_time": "2022-11-27T16:55:42.009Z"
   },
   {
    "duration": 4,
    "start_time": "2022-11-27T16:55:53.349Z"
   },
   {
    "duration": 10,
    "start_time": "2022-11-27T16:56:04.190Z"
   },
   {
    "duration": 288,
    "start_time": "2022-11-27T16:56:53.988Z"
   },
   {
    "duration": 10,
    "start_time": "2022-11-27T16:57:23.468Z"
   },
   {
    "duration": 9,
    "start_time": "2022-11-27T17:04:50.748Z"
   },
   {
    "duration": 6,
    "start_time": "2022-11-27T17:05:13.657Z"
   },
   {
    "duration": 1116,
    "start_time": "2022-11-27T17:05:28.474Z"
   },
   {
    "duration": 3,
    "start_time": "2022-11-27T17:05:29.591Z"
   },
   {
    "duration": 15,
    "start_time": "2022-11-27T17:05:29.596Z"
   },
   {
    "duration": 20,
    "start_time": "2022-11-27T17:05:29.613Z"
   },
   {
    "duration": 14,
    "start_time": "2022-11-27T17:05:29.635Z"
   },
   {
    "duration": 85,
    "start_time": "2022-11-27T17:05:29.650Z"
   },
   {
    "duration": 15,
    "start_time": "2022-11-27T17:05:29.737Z"
   },
   {
    "duration": 6,
    "start_time": "2022-11-27T17:05:29.754Z"
   },
   {
    "duration": 8,
    "start_time": "2022-11-27T17:05:29.762Z"
   },
   {
    "duration": 6,
    "start_time": "2022-11-27T17:05:29.771Z"
   },
   {
    "duration": 42,
    "start_time": "2022-11-27T17:05:29.778Z"
   },
   {
    "duration": 6,
    "start_time": "2022-11-27T17:05:29.821Z"
   },
   {
    "duration": 154,
    "start_time": "2022-11-27T17:05:29.829Z"
   },
   {
    "duration": 6311,
    "start_time": "2022-11-27T17:05:29.985Z"
   },
   {
    "duration": 506,
    "start_time": "2022-11-27T17:05:36.297Z"
   },
   {
    "duration": 453,
    "start_time": "2022-11-27T17:05:36.805Z"
   },
   {
    "duration": 458,
    "start_time": "2022-11-27T17:05:37.260Z"
   },
   {
    "duration": 5,
    "start_time": "2022-11-27T17:05:37.719Z"
   },
   {
    "duration": 5,
    "start_time": "2022-11-27T17:05:37.725Z"
   },
   {
    "duration": 20,
    "start_time": "2022-11-27T17:05:37.731Z"
   },
   {
    "duration": 17,
    "start_time": "2022-11-27T17:05:37.752Z"
   },
   {
    "duration": 10,
    "start_time": "2022-11-27T17:05:37.770Z"
   },
   {
    "duration": 13,
    "start_time": "2022-11-27T17:07:43.545Z"
   },
   {
    "duration": 12,
    "start_time": "2022-11-27T17:08:44.725Z"
   },
   {
    "duration": 110,
    "start_time": "2022-11-27T17:09:57.064Z"
   },
   {
    "duration": 10,
    "start_time": "2022-11-27T17:10:15.525Z"
   },
   {
    "duration": 1120,
    "start_time": "2022-11-27T17:14:09.446Z"
   },
   {
    "duration": 4,
    "start_time": "2022-11-27T17:14:10.567Z"
   },
   {
    "duration": 19,
    "start_time": "2022-11-27T17:14:10.572Z"
   },
   {
    "duration": 22,
    "start_time": "2022-11-27T17:14:10.592Z"
   },
   {
    "duration": 14,
    "start_time": "2022-11-27T17:14:10.615Z"
   },
   {
    "duration": 85,
    "start_time": "2022-11-27T17:14:10.630Z"
   },
   {
    "duration": 15,
    "start_time": "2022-11-27T17:14:10.716Z"
   },
   {
    "duration": 6,
    "start_time": "2022-11-27T17:14:10.733Z"
   },
   {
    "duration": 8,
    "start_time": "2022-11-27T17:14:10.740Z"
   },
   {
    "duration": 6,
    "start_time": "2022-11-27T17:14:10.750Z"
   },
   {
    "duration": 21,
    "start_time": "2022-11-27T17:14:10.757Z"
   },
   {
    "duration": 6,
    "start_time": "2022-11-27T17:14:10.779Z"
   },
   {
    "duration": 191,
    "start_time": "2022-11-27T17:14:10.787Z"
   },
   {
    "duration": 6245,
    "start_time": "2022-11-27T17:14:10.981Z"
   },
   {
    "duration": 526,
    "start_time": "2022-11-27T17:14:17.227Z"
   },
   {
    "duration": 416,
    "start_time": "2022-11-27T17:14:17.754Z"
   },
   {
    "duration": 436,
    "start_time": "2022-11-27T17:14:18.172Z"
   },
   {
    "duration": 4,
    "start_time": "2022-11-27T17:14:18.610Z"
   },
   {
    "duration": 6,
    "start_time": "2022-11-27T17:14:18.616Z"
   },
   {
    "duration": 21,
    "start_time": "2022-11-27T17:14:18.624Z"
   },
   {
    "duration": 19,
    "start_time": "2022-11-27T17:14:18.647Z"
   },
   {
    "duration": 12,
    "start_time": "2022-11-27T17:14:18.668Z"
   },
   {
    "duration": 1164,
    "start_time": "2022-11-27T17:29:42.301Z"
   },
   {
    "duration": 3,
    "start_time": "2022-11-27T17:29:43.467Z"
   },
   {
    "duration": 18,
    "start_time": "2022-11-27T17:29:43.472Z"
   },
   {
    "duration": 23,
    "start_time": "2022-11-27T17:29:43.492Z"
   },
   {
    "duration": 15,
    "start_time": "2022-11-27T17:29:43.517Z"
   },
   {
    "duration": 90,
    "start_time": "2022-11-27T17:29:43.534Z"
   },
   {
    "duration": 16,
    "start_time": "2022-11-27T17:29:43.626Z"
   },
   {
    "duration": 7,
    "start_time": "2022-11-27T17:29:43.644Z"
   },
   {
    "duration": 8,
    "start_time": "2022-11-27T17:29:43.653Z"
   },
   {
    "duration": 6,
    "start_time": "2022-11-27T17:29:43.662Z"
   },
   {
    "duration": 42,
    "start_time": "2022-11-27T17:29:43.670Z"
   },
   {
    "duration": 7,
    "start_time": "2022-11-27T17:29:43.714Z"
   },
   {
    "duration": 164,
    "start_time": "2022-11-27T17:29:43.723Z"
   },
   {
    "duration": 6100,
    "start_time": "2022-11-27T17:29:43.889Z"
   },
   {
    "duration": 560,
    "start_time": "2022-11-27T17:29:49.991Z"
   },
   {
    "duration": 443,
    "start_time": "2022-11-27T17:29:50.552Z"
   },
   {
    "duration": 451,
    "start_time": "2022-11-27T17:29:50.996Z"
   },
   {
    "duration": 4,
    "start_time": "2022-11-27T17:29:51.449Z"
   },
   {
    "duration": 6,
    "start_time": "2022-11-27T17:29:51.455Z"
   },
   {
    "duration": 19,
    "start_time": "2022-11-27T17:29:51.463Z"
   },
   {
    "duration": 29,
    "start_time": "2022-11-27T17:29:51.484Z"
   },
   {
    "duration": 91,
    "start_time": "2022-11-27T17:29:51.514Z"
   },
   {
    "duration": 9,
    "start_time": "2022-11-27T17:30:19.833Z"
   },
   {
    "duration": 11,
    "start_time": "2022-11-27T17:30:54.479Z"
   },
   {
    "duration": 14,
    "start_time": "2022-11-27T17:31:03.872Z"
   },
   {
    "duration": 13,
    "start_time": "2022-11-27T17:31:11.480Z"
   },
   {
    "duration": 12,
    "start_time": "2022-11-27T17:38:24.800Z"
   },
   {
    "duration": 12,
    "start_time": "2022-11-27T17:38:29.514Z"
   },
   {
    "duration": 12,
    "start_time": "2022-11-27T17:47:07.601Z"
   },
   {
    "duration": 15,
    "start_time": "2022-11-27T17:47:43.647Z"
   },
   {
    "duration": 88,
    "start_time": "2022-11-27T17:47:45.832Z"
   },
   {
    "duration": 12,
    "start_time": "2022-11-27T17:47:54.681Z"
   },
   {
    "duration": 499,
    "start_time": "2022-11-27T18:00:40.839Z"
   },
   {
    "duration": 500,
    "start_time": "2022-11-27T18:00:52.683Z"
   },
   {
    "duration": 684,
    "start_time": "2022-11-27T18:01:28.567Z"
   },
   {
    "duration": 98,
    "start_time": "2022-11-27T19:18:47.283Z"
   },
   {
    "duration": 1217,
    "start_time": "2022-11-27T19:19:47.985Z"
   },
   {
    "duration": 4,
    "start_time": "2022-11-27T19:19:49.204Z"
   },
   {
    "duration": 44,
    "start_time": "2022-11-27T19:19:49.209Z"
   },
   {
    "duration": 31,
    "start_time": "2022-11-27T19:19:49.255Z"
   },
   {
    "duration": 15,
    "start_time": "2022-11-27T19:19:49.288Z"
   },
   {
    "duration": 79,
    "start_time": "2022-11-27T19:19:49.305Z"
   },
   {
    "duration": 17,
    "start_time": "2022-11-27T19:19:49.385Z"
   },
   {
    "duration": 10,
    "start_time": "2022-11-27T19:19:49.404Z"
   },
   {
    "duration": 9,
    "start_time": "2022-11-27T19:19:49.416Z"
   },
   {
    "duration": 6,
    "start_time": "2022-11-27T19:19:49.427Z"
   },
   {
    "duration": 19,
    "start_time": "2022-11-27T19:19:49.435Z"
   },
   {
    "duration": 6,
    "start_time": "2022-11-27T19:19:49.455Z"
   },
   {
    "duration": 179,
    "start_time": "2022-11-27T19:19:49.463Z"
   },
   {
    "duration": 6738,
    "start_time": "2022-11-27T19:19:49.645Z"
   },
   {
    "duration": 524,
    "start_time": "2022-11-27T19:19:56.385Z"
   },
   {
    "duration": 21,
    "start_time": "2022-11-27T19:19:56.915Z"
   },
   {
    "duration": 458,
    "start_time": "2022-11-27T19:19:56.938Z"
   },
   {
    "duration": 474,
    "start_time": "2022-11-27T19:19:57.399Z"
   },
   {
    "duration": 5,
    "start_time": "2022-11-27T19:19:57.875Z"
   },
   {
    "duration": 8,
    "start_time": "2022-11-27T19:19:57.881Z"
   },
   {
    "duration": 28,
    "start_time": "2022-11-27T19:19:57.891Z"
   },
   {
    "duration": 13,
    "start_time": "2022-11-27T19:19:57.922Z"
   },
   {
    "duration": 10,
    "start_time": "2022-11-27T19:19:57.937Z"
   },
   {
    "duration": 68,
    "start_time": "2022-11-27T19:41:27.469Z"
   },
   {
    "duration": 3,
    "start_time": "2022-11-27T19:41:27.539Z"
   },
   {
    "duration": 13,
    "start_time": "2022-11-27T19:41:27.544Z"
   },
   {
    "duration": 22,
    "start_time": "2022-11-27T19:41:27.559Z"
   },
   {
    "duration": 31,
    "start_time": "2022-11-27T19:41:27.583Z"
   },
   {
    "duration": 74,
    "start_time": "2022-11-27T19:41:27.616Z"
   },
   {
    "duration": 29,
    "start_time": "2022-11-27T19:41:27.692Z"
   },
   {
    "duration": 6,
    "start_time": "2022-11-27T19:41:27.722Z"
   },
   {
    "duration": 10,
    "start_time": "2022-11-27T19:41:27.730Z"
   },
   {
    "duration": 6,
    "start_time": "2022-11-27T19:41:27.741Z"
   },
   {
    "duration": 16,
    "start_time": "2022-11-27T19:41:27.749Z"
   },
   {
    "duration": 6,
    "start_time": "2022-11-27T19:41:27.766Z"
   },
   {
    "duration": 163,
    "start_time": "2022-11-27T19:41:27.774Z"
   },
   {
    "duration": 6511,
    "start_time": "2022-11-27T19:41:27.940Z"
   },
   {
    "duration": 538,
    "start_time": "2022-11-27T19:41:34.452Z"
   },
   {
    "duration": 24,
    "start_time": "2022-11-27T19:41:34.992Z"
   },
   {
    "duration": 439,
    "start_time": "2022-11-27T19:41:35.018Z"
   },
   {
    "duration": 460,
    "start_time": "2022-11-27T19:41:35.459Z"
   },
   {
    "duration": 4,
    "start_time": "2022-11-27T19:41:35.921Z"
   },
   {
    "duration": 5,
    "start_time": "2022-11-27T19:41:35.927Z"
   },
   {
    "duration": 19,
    "start_time": "2022-11-27T19:41:35.933Z"
   },
   {
    "duration": 12,
    "start_time": "2022-11-27T19:41:35.953Z"
   },
   {
    "duration": 9,
    "start_time": "2022-11-27T19:41:35.967Z"
   },
   {
    "duration": 84,
    "start_time": "2022-11-27T19:43:22.855Z"
   },
   {
    "duration": 454,
    "start_time": "2022-11-27T19:43:34.876Z"
   },
   {
    "duration": 12,
    "start_time": "2022-11-27T20:03:46.306Z"
   },
   {
    "duration": 6,
    "start_time": "2022-11-27T20:43:22.127Z"
   },
   {
    "duration": 7,
    "start_time": "2022-11-27T20:44:25.341Z"
   },
   {
    "duration": 60,
    "start_time": "2022-11-27T20:58:25.413Z"
   },
   {
    "duration": 25,
    "start_time": "2022-11-27T20:58:39.674Z"
   },
   {
    "duration": 325,
    "start_time": "2022-11-27T20:59:50.254Z"
   },
   {
    "duration": 316,
    "start_time": "2022-11-27T21:01:29.879Z"
   },
   {
    "duration": 313,
    "start_time": "2022-11-27T21:03:54.359Z"
   },
   {
    "duration": 50,
    "start_time": "2022-11-27T21:04:34.419Z"
   },
   {
    "duration": 21,
    "start_time": "2022-11-27T21:04:48.632Z"
   },
   {
    "duration": 67,
    "start_time": "2022-11-27T21:05:40.518Z"
   },
   {
    "duration": 76,
    "start_time": "2022-11-27T21:06:27.735Z"
   },
   {
    "duration": 9,
    "start_time": "2022-11-27T21:06:39.212Z"
   },
   {
    "duration": 1056,
    "start_time": "2022-11-27T21:06:56.458Z"
   },
   {
    "duration": 68,
    "start_time": "2022-11-27T21:07:17.640Z"
   },
   {
    "duration": 11,
    "start_time": "2022-11-27T21:07:33.813Z"
   },
   {
    "duration": 57,
    "start_time": "2022-11-28T14:26:46.650Z"
   },
   {
    "duration": 1609,
    "start_time": "2022-11-28T14:26:59.100Z"
   },
   {
    "duration": 4,
    "start_time": "2022-11-28T14:27:00.711Z"
   },
   {
    "duration": 33,
    "start_time": "2022-11-28T14:27:00.717Z"
   },
   {
    "duration": 31,
    "start_time": "2022-11-28T14:27:00.752Z"
   },
   {
    "duration": 16,
    "start_time": "2022-11-28T14:27:00.785Z"
   },
   {
    "duration": 113,
    "start_time": "2022-11-28T14:27:00.803Z"
   },
   {
    "duration": 19,
    "start_time": "2022-11-28T14:27:00.919Z"
   },
   {
    "duration": 24,
    "start_time": "2022-11-28T14:27:00.940Z"
   },
   {
    "duration": 23,
    "start_time": "2022-11-28T14:27:00.966Z"
   },
   {
    "duration": 14,
    "start_time": "2022-11-28T14:27:00.991Z"
   },
   {
    "duration": 18,
    "start_time": "2022-11-28T14:27:01.007Z"
   },
   {
    "duration": 7,
    "start_time": "2022-11-28T14:27:01.027Z"
   },
   {
    "duration": 206,
    "start_time": "2022-11-28T14:27:01.036Z"
   },
   {
    "duration": 7046,
    "start_time": "2022-11-28T14:27:01.245Z"
   },
   {
    "duration": 571,
    "start_time": "2022-11-28T14:27:08.293Z"
   },
   {
    "duration": 9,
    "start_time": "2022-11-28T14:27:08.865Z"
   },
   {
    "duration": 122,
    "start_time": "2022-11-28T14:27:08.876Z"
   },
   {
    "duration": 0,
    "start_time": "2022-11-28T14:27:09.000Z"
   },
   {
    "duration": 0,
    "start_time": "2022-11-28T14:27:09.001Z"
   },
   {
    "duration": 0,
    "start_time": "2022-11-28T14:27:09.002Z"
   },
   {
    "duration": 0,
    "start_time": "2022-11-28T14:27:09.003Z"
   },
   {
    "duration": 0,
    "start_time": "2022-11-28T14:27:09.004Z"
   },
   {
    "duration": 0,
    "start_time": "2022-11-28T14:27:09.005Z"
   },
   {
    "duration": 0,
    "start_time": "2022-11-28T14:27:09.006Z"
   },
   {
    "duration": 0,
    "start_time": "2022-11-28T14:27:09.022Z"
   },
   {
    "duration": 9051,
    "start_time": "2022-11-28T14:27:24.900Z"
   },
   {
    "duration": 17,
    "start_time": "2022-11-28T14:28:38.666Z"
   },
   {
    "duration": 465,
    "start_time": "2022-11-28T14:28:40.796Z"
   },
   {
    "duration": 519,
    "start_time": "2022-11-28T14:28:41.263Z"
   },
   {
    "duration": 5,
    "start_time": "2022-11-28T14:28:41.784Z"
   },
   {
    "duration": 26,
    "start_time": "2022-11-28T14:28:41.790Z"
   },
   {
    "duration": 57,
    "start_time": "2022-11-28T14:28:41.818Z"
   },
   {
    "duration": 15,
    "start_time": "2022-11-28T14:28:42.219Z"
   },
   {
    "duration": 11,
    "start_time": "2022-11-28T14:28:42.551Z"
   },
   {
    "duration": 16,
    "start_time": "2022-11-28T14:50:37.271Z"
   },
   {
    "duration": 23,
    "start_time": "2022-11-28T15:21:08.421Z"
   },
   {
    "duration": 1289,
    "start_time": "2022-11-28T16:02:55.895Z"
   },
   {
    "duration": 5,
    "start_time": "2022-11-28T16:02:57.186Z"
   },
   {
    "duration": 35,
    "start_time": "2022-11-28T16:02:57.193Z"
   },
   {
    "duration": 29,
    "start_time": "2022-11-28T16:02:57.230Z"
   },
   {
    "duration": 17,
    "start_time": "2022-11-28T16:02:57.262Z"
   },
   {
    "duration": 96,
    "start_time": "2022-11-28T16:02:57.281Z"
   },
   {
    "duration": 36,
    "start_time": "2022-11-28T16:02:57.378Z"
   },
   {
    "duration": 9,
    "start_time": "2022-11-28T16:02:57.416Z"
   },
   {
    "duration": 12,
    "start_time": "2022-11-28T16:02:57.426Z"
   },
   {
    "duration": 7,
    "start_time": "2022-11-28T16:02:57.440Z"
   },
   {
    "duration": 19,
    "start_time": "2022-11-28T16:02:57.449Z"
   },
   {
    "duration": 47,
    "start_time": "2022-11-28T16:02:57.469Z"
   },
   {
    "duration": 175,
    "start_time": "2022-11-28T16:02:57.517Z"
   },
   {
    "duration": 7460,
    "start_time": "2022-11-28T16:02:57.701Z"
   },
   {
    "duration": 607,
    "start_time": "2022-11-28T16:03:05.163Z"
   },
   {
    "duration": 10163,
    "start_time": "2022-11-28T16:03:05.772Z"
   },
   {
    "duration": 23,
    "start_time": "2022-11-28T16:03:15.937Z"
   },
   {
    "duration": 718,
    "start_time": "2022-11-28T16:03:15.962Z"
   },
   {
    "duration": 831,
    "start_time": "2022-11-28T16:03:16.682Z"
   },
   {
    "duration": 16,
    "start_time": "2022-11-28T16:03:17.517Z"
   },
   {
    "duration": 33,
    "start_time": "2022-11-28T16:03:17.535Z"
   },
   {
    "duration": 20,
    "start_time": "2022-11-28T16:03:17.570Z"
   },
   {
    "duration": 40,
    "start_time": "2022-11-28T16:03:17.601Z"
   },
   {
    "duration": 79,
    "start_time": "2022-11-28T18:29:22.893Z"
   },
   {
    "duration": 1690,
    "start_time": "2022-11-28T19:22:45.834Z"
   },
   {
    "duration": 5,
    "start_time": "2022-11-28T19:22:47.526Z"
   },
   {
    "duration": 20,
    "start_time": "2022-11-28T19:22:47.533Z"
   },
   {
    "duration": 47,
    "start_time": "2022-11-28T19:22:47.555Z"
   },
   {
    "duration": 17,
    "start_time": "2022-11-28T19:22:47.606Z"
   },
   {
    "duration": 100,
    "start_time": "2022-11-28T19:22:47.625Z"
   },
   {
    "duration": 0,
    "start_time": "2022-11-28T19:22:47.727Z"
   },
   {
    "duration": 0,
    "start_time": "2022-11-28T19:22:47.728Z"
   },
   {
    "duration": 0,
    "start_time": "2022-11-28T19:22:47.729Z"
   },
   {
    "duration": 0,
    "start_time": "2022-11-28T19:22:47.731Z"
   },
   {
    "duration": 0,
    "start_time": "2022-11-28T19:22:47.732Z"
   },
   {
    "duration": 0,
    "start_time": "2022-11-28T19:22:47.735Z"
   },
   {
    "duration": 0,
    "start_time": "2022-11-28T19:22:47.736Z"
   },
   {
    "duration": 0,
    "start_time": "2022-11-28T19:22:47.738Z"
   },
   {
    "duration": 0,
    "start_time": "2022-11-28T19:22:47.740Z"
   },
   {
    "duration": 0,
    "start_time": "2022-11-28T19:22:47.742Z"
   },
   {
    "duration": 0,
    "start_time": "2022-11-28T19:22:47.743Z"
   },
   {
    "duration": 0,
    "start_time": "2022-11-28T19:22:47.745Z"
   },
   {
    "duration": 0,
    "start_time": "2022-11-28T19:22:47.747Z"
   },
   {
    "duration": 0,
    "start_time": "2022-11-28T19:22:47.748Z"
   },
   {
    "duration": 0,
    "start_time": "2022-11-28T19:22:47.749Z"
   },
   {
    "duration": 0,
    "start_time": "2022-11-28T19:22:47.750Z"
   },
   {
    "duration": 0,
    "start_time": "2022-11-28T19:22:47.751Z"
   },
   {
    "duration": 0,
    "start_time": "2022-11-28T19:22:47.752Z"
   },
   {
    "duration": 80,
    "start_time": "2022-11-28T19:23:35.932Z"
   },
   {
    "duration": 4,
    "start_time": "2022-11-28T19:23:36.014Z"
   },
   {
    "duration": 29,
    "start_time": "2022-11-28T19:23:36.020Z"
   },
   {
    "duration": 54,
    "start_time": "2022-11-28T19:23:36.051Z"
   },
   {
    "duration": 15,
    "start_time": "2022-11-28T19:23:36.107Z"
   },
   {
    "duration": 30,
    "start_time": "2022-11-28T19:23:36.124Z"
   },
   {
    "duration": 49,
    "start_time": "2022-11-28T19:23:36.156Z"
   },
   {
    "duration": 7,
    "start_time": "2022-11-28T19:23:36.207Z"
   },
   {
    "duration": 9,
    "start_time": "2022-11-28T19:23:36.216Z"
   },
   {
    "duration": 9,
    "start_time": "2022-11-28T19:23:36.228Z"
   },
   {
    "duration": 41,
    "start_time": "2022-11-28T19:23:36.239Z"
   },
   {
    "duration": 74,
    "start_time": "2022-11-28T19:23:36.282Z"
   },
   {
    "duration": 22,
    "start_time": "2022-11-28T19:23:36.357Z"
   },
   {
    "duration": 196,
    "start_time": "2022-11-28T19:23:36.382Z"
   },
   {
    "duration": 7500,
    "start_time": "2022-11-28T19:23:36.580Z"
   },
   {
    "duration": 577,
    "start_time": "2022-11-28T19:23:44.082Z"
   },
   {
    "duration": 8732,
    "start_time": "2022-11-28T19:23:44.661Z"
   },
   {
    "duration": 16,
    "start_time": "2022-11-28T19:23:53.395Z"
   },
   {
    "duration": 459,
    "start_time": "2022-11-28T19:23:53.413Z"
   },
   {
    "duration": 549,
    "start_time": "2022-11-28T19:23:53.873Z"
   },
   {
    "duration": 4,
    "start_time": "2022-11-28T19:23:54.424Z"
   },
   {
    "duration": 19,
    "start_time": "2022-11-28T19:23:54.430Z"
   },
   {
    "duration": 33,
    "start_time": "2022-11-28T19:23:54.450Z"
   },
   {
    "duration": 13,
    "start_time": "2022-11-28T19:23:54.485Z"
   },
   {
    "duration": 87,
    "start_time": "2022-11-28T20:06:33.939Z"
   },
   {
    "duration": 83,
    "start_time": "2022-11-28T20:07:35.235Z"
   },
   {
    "duration": 71,
    "start_time": "2022-11-28T20:07:57.239Z"
   },
   {
    "duration": 8,
    "start_time": "2022-11-28T20:08:06.639Z"
   },
   {
    "duration": 6,
    "start_time": "2022-11-28T20:08:39.471Z"
   },
   {
    "duration": 7,
    "start_time": "2022-11-28T20:08:55.120Z"
   },
   {
    "duration": 7,
    "start_time": "2022-11-28T20:09:45.062Z"
   },
   {
    "duration": 2,
    "start_time": "2022-11-28T20:29:17.427Z"
   },
   {
    "duration": 2,
    "start_time": "2022-11-28T20:29:19.315Z"
   },
   {
    "duration": 1341,
    "start_time": "2022-11-28T20:51:29.276Z"
   },
   {
    "duration": 3,
    "start_time": "2022-11-28T20:51:30.619Z"
   },
   {
    "duration": 34,
    "start_time": "2022-11-28T20:51:30.624Z"
   },
   {
    "duration": 35,
    "start_time": "2022-11-28T20:51:30.660Z"
   },
   {
    "duration": 25,
    "start_time": "2022-11-28T20:51:30.697Z"
   },
   {
    "duration": 27,
    "start_time": "2022-11-28T20:51:30.724Z"
   },
   {
    "duration": 18,
    "start_time": "2022-11-28T20:51:30.752Z"
   },
   {
    "duration": 51,
    "start_time": "2022-11-28T20:51:30.778Z"
   },
   {
    "duration": 20,
    "start_time": "2022-11-28T20:51:30.831Z"
   },
   {
    "duration": 20,
    "start_time": "2022-11-28T20:51:30.853Z"
   },
   {
    "duration": 47,
    "start_time": "2022-11-28T20:51:30.875Z"
   },
   {
    "duration": 110,
    "start_time": "2022-11-28T20:51:30.924Z"
   },
   {
    "duration": 6,
    "start_time": "2022-11-28T20:51:31.035Z"
   },
   {
    "duration": 192,
    "start_time": "2022-11-28T20:51:31.044Z"
   },
   {
    "duration": 8143,
    "start_time": "2022-11-28T20:51:31.238Z"
   },
   {
    "duration": 669,
    "start_time": "2022-11-28T20:51:39.387Z"
   },
   {
    "duration": 11297,
    "start_time": "2022-11-28T20:51:40.057Z"
   },
   {
    "duration": 15,
    "start_time": "2022-11-28T20:51:51.356Z"
   },
   {
    "duration": 517,
    "start_time": "2022-11-28T20:51:51.378Z"
   },
   {
    "duration": 483,
    "start_time": "2022-11-28T20:51:51.898Z"
   },
   {
    "duration": 5,
    "start_time": "2022-11-28T20:51:52.383Z"
   },
   {
    "duration": 25,
    "start_time": "2022-11-28T20:51:52.390Z"
   },
   {
    "duration": 14,
    "start_time": "2022-11-28T20:51:52.416Z"
   },
   {
    "duration": 10,
    "start_time": "2022-11-28T20:51:52.432Z"
   },
   {
    "duration": 459,
    "start_time": "2022-11-28T20:54:31.274Z"
   },
   {
    "duration": 1206,
    "start_time": "2022-11-28T20:55:54.002Z"
   },
   {
    "duration": 4,
    "start_time": "2022-11-28T20:55:55.210Z"
   },
   {
    "duration": 17,
    "start_time": "2022-11-28T20:55:55.215Z"
   },
   {
    "duration": 28,
    "start_time": "2022-11-28T20:55:55.235Z"
   },
   {
    "duration": 18,
    "start_time": "2022-11-28T20:55:55.277Z"
   },
   {
    "duration": 23,
    "start_time": "2022-11-28T20:55:55.297Z"
   },
   {
    "duration": 18,
    "start_time": "2022-11-28T20:55:55.322Z"
   },
   {
    "duration": 9,
    "start_time": "2022-11-28T20:55:55.341Z"
   },
   {
    "duration": 9,
    "start_time": "2022-11-28T20:55:55.378Z"
   },
   {
    "duration": 15,
    "start_time": "2022-11-28T20:55:55.389Z"
   },
   {
    "duration": 21,
    "start_time": "2022-11-28T20:55:55.406Z"
   },
   {
    "duration": 93,
    "start_time": "2022-11-28T20:55:55.429Z"
   },
   {
    "duration": 7,
    "start_time": "2022-11-28T20:55:55.524Z"
   },
   {
    "duration": 199,
    "start_time": "2022-11-28T20:55:55.532Z"
   },
   {
    "duration": 6924,
    "start_time": "2022-11-28T20:55:55.733Z"
   },
   {
    "duration": 661,
    "start_time": "2022-11-28T20:56:02.659Z"
   },
   {
    "duration": 9290,
    "start_time": "2022-11-28T20:56:03.323Z"
   },
   {
    "duration": 21,
    "start_time": "2022-11-28T20:56:12.615Z"
   },
   {
    "duration": 525,
    "start_time": "2022-11-28T20:56:12.638Z"
   },
   {
    "duration": 495,
    "start_time": "2022-11-28T20:56:13.165Z"
   },
   {
    "duration": 5,
    "start_time": "2022-11-28T20:56:13.661Z"
   },
   {
    "duration": 26,
    "start_time": "2022-11-28T20:56:13.667Z"
   },
   {
    "duration": 17,
    "start_time": "2022-11-28T20:56:13.695Z"
   },
   {
    "duration": 20,
    "start_time": "2022-11-28T20:56:13.714Z"
   },
   {
    "duration": 1087,
    "start_time": "2022-11-28T20:59:07.746Z"
   },
   {
    "duration": 84,
    "start_time": "2022-11-28T20:59:08.835Z"
   },
   {
    "duration": 4,
    "start_time": "2022-11-28T20:59:08.920Z"
   },
   {
    "duration": 21,
    "start_time": "2022-11-28T20:59:08.926Z"
   },
   {
    "duration": 30,
    "start_time": "2022-11-28T20:59:08.949Z"
   },
   {
    "duration": 23,
    "start_time": "2022-11-28T20:59:08.980Z"
   },
   {
    "duration": 21,
    "start_time": "2022-11-28T20:59:09.004Z"
   },
   {
    "duration": 15,
    "start_time": "2022-11-28T20:59:09.027Z"
   },
   {
    "duration": 42,
    "start_time": "2022-11-28T20:59:09.044Z"
   },
   {
    "duration": 17,
    "start_time": "2022-11-28T20:59:09.089Z"
   },
   {
    "duration": 9,
    "start_time": "2022-11-28T20:59:09.108Z"
   },
   {
    "duration": 18,
    "start_time": "2022-11-28T20:59:09.118Z"
   },
   {
    "duration": 79,
    "start_time": "2022-11-28T20:59:09.138Z"
   },
   {
    "duration": 5,
    "start_time": "2022-11-28T20:59:09.219Z"
   },
   {
    "duration": 189,
    "start_time": "2022-11-28T20:59:09.226Z"
   },
   {
    "duration": 7200,
    "start_time": "2022-11-28T20:59:09.417Z"
   },
   {
    "duration": 628,
    "start_time": "2022-11-28T20:59:16.618Z"
   },
   {
    "duration": 9494,
    "start_time": "2022-11-28T20:59:17.247Z"
   },
   {
    "duration": 15,
    "start_time": "2022-11-28T20:59:26.743Z"
   },
   {
    "duration": 509,
    "start_time": "2022-11-28T20:59:26.760Z"
   },
   {
    "duration": 547,
    "start_time": "2022-11-28T20:59:27.271Z"
   },
   {
    "duration": 6,
    "start_time": "2022-11-28T20:59:27.819Z"
   },
   {
    "duration": 24,
    "start_time": "2022-11-28T20:59:27.826Z"
   },
   {
    "duration": 30,
    "start_time": "2022-11-28T20:59:27.852Z"
   },
   {
    "duration": 15,
    "start_time": "2022-11-28T20:59:27.890Z"
   },
   {
    "duration": 1137,
    "start_time": "2022-11-29T14:45:15.138Z"
   },
   {
    "duration": 92,
    "start_time": "2022-11-29T14:45:16.277Z"
   },
   {
    "duration": 5,
    "start_time": "2022-11-29T14:45:16.371Z"
   },
   {
    "duration": 34,
    "start_time": "2022-11-29T14:45:16.379Z"
   },
   {
    "duration": 28,
    "start_time": "2022-11-29T14:45:16.416Z"
   },
   {
    "duration": 19,
    "start_time": "2022-11-29T14:45:16.446Z"
   },
   {
    "duration": 56,
    "start_time": "2022-11-29T14:45:16.467Z"
   },
   {
    "duration": 20,
    "start_time": "2022-11-29T14:45:16.525Z"
   },
   {
    "duration": 10,
    "start_time": "2022-11-29T14:45:16.547Z"
   },
   {
    "duration": 9,
    "start_time": "2022-11-29T14:45:16.562Z"
   },
   {
    "duration": 21,
    "start_time": "2022-11-29T14:45:16.573Z"
   },
   {
    "duration": 33,
    "start_time": "2022-11-29T14:45:16.596Z"
   },
   {
    "duration": 97,
    "start_time": "2022-11-29T14:45:16.631Z"
   },
   {
    "duration": 8,
    "start_time": "2022-11-29T14:45:16.730Z"
   },
   {
    "duration": 230,
    "start_time": "2022-11-29T14:45:16.740Z"
   },
   {
    "duration": 7287,
    "start_time": "2022-11-29T14:45:16.972Z"
   },
   {
    "duration": 618,
    "start_time": "2022-11-29T14:45:24.261Z"
   },
   {
    "duration": 9671,
    "start_time": "2022-11-29T14:45:24.881Z"
   },
   {
    "duration": 16,
    "start_time": "2022-11-29T14:45:34.554Z"
   },
   {
    "duration": 553,
    "start_time": "2022-11-29T14:45:34.572Z"
   },
   {
    "duration": 525,
    "start_time": "2022-11-29T14:45:35.127Z"
   },
   {
    "duration": 6,
    "start_time": "2022-11-29T14:45:35.653Z"
   },
   {
    "duration": 26,
    "start_time": "2022-11-29T14:45:35.661Z"
   },
   {
    "duration": 33,
    "start_time": "2022-11-29T14:45:35.690Z"
   },
   {
    "duration": 12,
    "start_time": "2022-11-29T14:45:35.725Z"
   },
   {
    "duration": 23,
    "start_time": "2022-11-29T18:08:36.390Z"
   },
   {
    "duration": 12,
    "start_time": "2022-11-29T18:12:31.511Z"
   },
   {
    "duration": 65,
    "start_time": "2022-11-30T16:15:30.983Z"
   },
   {
    "duration": 1342,
    "start_time": "2022-11-30T16:15:41.910Z"
   },
   {
    "duration": 146,
    "start_time": "2022-11-30T16:15:43.254Z"
   },
   {
    "duration": 5,
    "start_time": "2022-11-30T16:15:43.402Z"
   },
   {
    "duration": 22,
    "start_time": "2022-11-30T16:15:43.409Z"
   },
   {
    "duration": 45,
    "start_time": "2022-11-30T16:15:43.434Z"
   },
   {
    "duration": 29,
    "start_time": "2022-11-30T16:15:43.481Z"
   },
   {
    "duration": 27,
    "start_time": "2022-11-30T16:15:43.512Z"
   },
   {
    "duration": 18,
    "start_time": "2022-11-30T16:15:43.541Z"
   },
   {
    "duration": 18,
    "start_time": "2022-11-30T16:15:43.577Z"
   },
   {
    "duration": 17,
    "start_time": "2022-11-30T16:15:43.597Z"
   },
   {
    "duration": 48,
    "start_time": "2022-11-30T16:15:43.616Z"
   },
   {
    "duration": 49,
    "start_time": "2022-11-30T16:15:43.665Z"
   },
   {
    "duration": 89,
    "start_time": "2022-11-30T16:15:43.716Z"
   },
   {
    "duration": 7,
    "start_time": "2022-11-30T16:15:43.807Z"
   },
   {
    "duration": 19,
    "start_time": "2022-11-30T16:15:43.816Z"
   },
   {
    "duration": 208,
    "start_time": "2022-11-30T16:15:43.837Z"
   },
   {
    "duration": 6706,
    "start_time": "2022-11-30T16:15:44.048Z"
   },
   {
    "duration": 534,
    "start_time": "2022-11-30T16:15:50.755Z"
   },
   {
    "duration": 8970,
    "start_time": "2022-11-30T16:15:51.291Z"
   },
   {
    "duration": 25,
    "start_time": "2022-11-30T16:16:00.263Z"
   },
   {
    "duration": 494,
    "start_time": "2022-11-30T16:16:00.289Z"
   },
   {
    "duration": 802,
    "start_time": "2022-11-30T16:16:00.785Z"
   },
   {
    "duration": 5,
    "start_time": "2022-11-30T16:16:01.589Z"
   },
   {
    "duration": 134,
    "start_time": "2022-11-30T16:16:01.596Z"
   },
   {
    "duration": 44,
    "start_time": "2022-11-30T16:16:01.733Z"
   },
   {
    "duration": 15,
    "start_time": "2022-11-30T16:16:01.779Z"
   },
   {
    "duration": 23,
    "start_time": "2022-11-30T16:16:01.795Z"
   },
   {
    "duration": 112,
    "start_time": "2022-11-30T16:22:21.798Z"
   },
   {
    "duration": 1058,
    "start_time": "2022-11-30T16:22:50.526Z"
   },
   {
    "duration": 75,
    "start_time": "2022-11-30T16:22:51.586Z"
   },
   {
    "duration": 3,
    "start_time": "2022-11-30T16:22:51.663Z"
   },
   {
    "duration": 24,
    "start_time": "2022-11-30T16:22:51.668Z"
   },
   {
    "duration": 30,
    "start_time": "2022-11-30T16:22:51.694Z"
   },
   {
    "duration": 15,
    "start_time": "2022-11-30T16:22:51.725Z"
   },
   {
    "duration": 19,
    "start_time": "2022-11-30T16:22:51.742Z"
   },
   {
    "duration": 29,
    "start_time": "2022-11-30T16:22:51.763Z"
   },
   {
    "duration": 12,
    "start_time": "2022-11-30T16:22:51.794Z"
   },
   {
    "duration": 17,
    "start_time": "2022-11-30T16:22:51.809Z"
   },
   {
    "duration": 23,
    "start_time": "2022-11-30T16:22:51.828Z"
   },
   {
    "duration": 25,
    "start_time": "2022-11-30T16:22:51.852Z"
   },
   {
    "duration": 75,
    "start_time": "2022-11-30T16:22:51.878Z"
   },
   {
    "duration": 5,
    "start_time": "2022-11-30T16:22:51.955Z"
   },
   {
    "duration": 17,
    "start_time": "2022-11-30T16:22:51.962Z"
   },
   {
    "duration": 185,
    "start_time": "2022-11-30T16:22:51.981Z"
   },
   {
    "duration": 3,
    "start_time": "2022-11-30T16:22:59.398Z"
   },
   {
    "duration": 76,
    "start_time": "2022-11-30T16:22:59.426Z"
   },
   {
    "duration": 3,
    "start_time": "2022-11-30T16:22:59.505Z"
   },
   {
    "duration": 32,
    "start_time": "2022-11-30T16:22:59.510Z"
   },
   {
    "duration": 33,
    "start_time": "2022-11-30T16:22:59.545Z"
   },
   {
    "duration": 17,
    "start_time": "2022-11-30T16:22:59.580Z"
   },
   {
    "duration": 23,
    "start_time": "2022-11-30T16:22:59.599Z"
   },
   {
    "duration": 19,
    "start_time": "2022-11-30T16:22:59.624Z"
   },
   {
    "duration": 38,
    "start_time": "2022-11-30T16:22:59.645Z"
   },
   {
    "duration": 11,
    "start_time": "2022-11-30T16:22:59.684Z"
   },
   {
    "duration": 8,
    "start_time": "2022-11-30T16:22:59.697Z"
   },
   {
    "duration": 16,
    "start_time": "2022-11-30T16:22:59.707Z"
   },
   {
    "duration": 107,
    "start_time": "2022-11-30T16:22:59.725Z"
   },
   {
    "duration": 5,
    "start_time": "2022-11-30T16:22:59.834Z"
   },
   {
    "duration": 10,
    "start_time": "2022-11-30T16:22:59.841Z"
   },
   {
    "duration": 197,
    "start_time": "2022-11-30T16:22:59.853Z"
   },
   {
    "duration": 7835,
    "start_time": "2022-11-30T16:23:00.052Z"
   },
   {
    "duration": 14,
    "start_time": "2022-11-30T16:23:07.888Z"
   },
   {
    "duration": 0,
    "start_time": "2022-11-30T16:23:07.903Z"
   },
   {
    "duration": 0,
    "start_time": "2022-11-30T16:23:07.904Z"
   },
   {
    "duration": 0,
    "start_time": "2022-11-30T16:23:07.905Z"
   },
   {
    "duration": 0,
    "start_time": "2022-11-30T16:23:07.907Z"
   },
   {
    "duration": 0,
    "start_time": "2022-11-30T16:23:07.908Z"
   },
   {
    "duration": 0,
    "start_time": "2022-11-30T16:23:07.909Z"
   },
   {
    "duration": 0,
    "start_time": "2022-11-30T16:23:07.910Z"
   },
   {
    "duration": 0,
    "start_time": "2022-11-30T16:23:07.911Z"
   },
   {
    "duration": 0,
    "start_time": "2022-11-30T16:23:07.912Z"
   },
   {
    "duration": 0,
    "start_time": "2022-11-30T16:23:07.913Z"
   },
   {
    "duration": 809,
    "start_time": "2022-11-30T16:23:49.757Z"
   },
   {
    "duration": 4,
    "start_time": "2022-11-30T16:26:25.941Z"
   },
   {
    "duration": 10,
    "start_time": "2022-11-30T16:26:49.968Z"
   },
   {
    "duration": 9,
    "start_time": "2022-11-30T16:27:18.465Z"
   },
   {
    "duration": 11,
    "start_time": "2022-11-30T16:27:50.250Z"
   },
   {
    "duration": 10,
    "start_time": "2022-11-30T16:29:08.325Z"
   },
   {
    "duration": 15,
    "start_time": "2022-11-30T16:31:01.273Z"
   },
   {
    "duration": 6,
    "start_time": "2022-11-30T16:31:39.124Z"
   },
   {
    "duration": 898,
    "start_time": "2022-11-30T16:31:58.798Z"
   },
   {
    "duration": 990,
    "start_time": "2022-11-30T16:33:59.421Z"
   },
   {
    "duration": 711,
    "start_time": "2022-11-30T16:35:51.517Z"
   },
   {
    "duration": 21,
    "start_time": "2022-11-30T16:47:51.020Z"
   },
   {
    "duration": 291,
    "start_time": "2022-11-30T16:48:42.326Z"
   },
   {
    "duration": 287,
    "start_time": "2022-11-30T16:49:13.155Z"
   },
   {
    "duration": 3388,
    "start_time": "2022-11-30T16:49:22.253Z"
   },
   {
    "duration": 21,
    "start_time": "2022-11-30T16:49:44.751Z"
   },
   {
    "duration": 507,
    "start_time": "2022-11-30T16:49:52.583Z"
   },
   {
    "duration": 494,
    "start_time": "2022-11-30T16:50:02.522Z"
   },
   {
    "duration": 5,
    "start_time": "2022-11-30T16:52:50.385Z"
   },
   {
    "duration": 18,
    "start_time": "2022-11-30T16:52:52.255Z"
   },
   {
    "duration": 13,
    "start_time": "2022-11-30T16:53:14.045Z"
   },
   {
    "duration": 10,
    "start_time": "2022-11-30T16:53:28.599Z"
   },
   {
    "duration": 533,
    "start_time": "2022-11-30T16:55:51.463Z"
   },
   {
    "duration": 588,
    "start_time": "2022-11-30T16:56:21.398Z"
   },
   {
    "duration": 527,
    "start_time": "2022-11-30T16:56:59.754Z"
   },
   {
    "duration": 457,
    "start_time": "2022-11-30T17:02:15.353Z"
   },
   {
    "duration": 352,
    "start_time": "2022-11-30T17:02:30.556Z"
   },
   {
    "duration": 328,
    "start_time": "2022-11-30T17:02:47.282Z"
   },
   {
    "duration": 10,
    "start_time": "2022-11-30T17:03:12.321Z"
   },
   {
    "duration": 18,
    "start_time": "2022-11-30T17:15:51.517Z"
   },
   {
    "duration": 56,
    "start_time": "2022-11-30T17:16:05.038Z"
   },
   {
    "duration": 14,
    "start_time": "2022-11-30T17:16:32.020Z"
   },
   {
    "duration": 47,
    "start_time": "2022-11-30T17:24:37.381Z"
   },
   {
    "duration": 61,
    "start_time": "2022-11-30T17:24:52.422Z"
   },
   {
    "duration": 75,
    "start_time": "2022-11-30T17:24:58.621Z"
   },
   {
    "duration": 53,
    "start_time": "2022-11-30T17:25:05.892Z"
   },
   {
    "duration": 48,
    "start_time": "2022-11-30T17:25:19.004Z"
   },
   {
    "duration": 76,
    "start_time": "2022-11-30T17:25:48.496Z"
   },
   {
    "duration": 13,
    "start_time": "2022-11-30T17:26:13.885Z"
   },
   {
    "duration": 42,
    "start_time": "2022-11-30T17:31:18.030Z"
   },
   {
    "duration": 46,
    "start_time": "2022-11-30T17:31:29.470Z"
   },
   {
    "duration": 41,
    "start_time": "2022-11-30T17:31:45.806Z"
   },
   {
    "duration": 56,
    "start_time": "2022-11-30T17:31:58.118Z"
   },
   {
    "duration": 50,
    "start_time": "2022-11-30T17:32:07.734Z"
   },
   {
    "duration": 17,
    "start_time": "2022-11-30T17:32:15.572Z"
   },
   {
    "duration": 15,
    "start_time": "2022-11-30T17:38:11.502Z"
   },
   {
    "duration": 47,
    "start_time": "2022-11-30T17:38:50.294Z"
   },
   {
    "duration": 40,
    "start_time": "2022-11-30T17:39:05.401Z"
   },
   {
    "duration": 79,
    "start_time": "2022-11-30T17:39:14.999Z"
   },
   {
    "duration": 42,
    "start_time": "2022-11-30T17:51:11.194Z"
   },
   {
    "duration": 11,
    "start_time": "2022-11-30T17:51:34.115Z"
   },
   {
    "duration": 16,
    "start_time": "2022-11-30T17:54:09.921Z"
   },
   {
    "duration": 277,
    "start_time": "2022-11-30T17:59:19.089Z"
   },
   {
    "duration": 11,
    "start_time": "2022-11-30T18:05:16.429Z"
   },
   {
    "duration": 10,
    "start_time": "2022-11-30T18:05:26.596Z"
   },
   {
    "duration": 12,
    "start_time": "2022-11-30T18:05:39.083Z"
   },
   {
    "duration": 10,
    "start_time": "2022-11-30T18:05:45.786Z"
   },
   {
    "duration": 1270,
    "start_time": "2022-11-30T18:16:25.491Z"
   },
   {
    "duration": 93,
    "start_time": "2022-11-30T18:16:26.764Z"
   },
   {
    "duration": 3,
    "start_time": "2022-11-30T18:16:26.859Z"
   },
   {
    "duration": 22,
    "start_time": "2022-11-30T18:16:26.864Z"
   },
   {
    "duration": 37,
    "start_time": "2022-11-30T18:16:26.889Z"
   },
   {
    "duration": 18,
    "start_time": "2022-11-30T18:16:26.928Z"
   },
   {
    "duration": 39,
    "start_time": "2022-11-30T18:16:26.948Z"
   },
   {
    "duration": 19,
    "start_time": "2022-11-30T18:16:26.989Z"
   },
   {
    "duration": 10,
    "start_time": "2022-11-30T18:16:27.010Z"
   },
   {
    "duration": 12,
    "start_time": "2022-11-30T18:16:27.022Z"
   },
   {
    "duration": 10,
    "start_time": "2022-11-30T18:16:27.035Z"
   },
   {
    "duration": 47,
    "start_time": "2022-11-30T18:16:27.047Z"
   },
   {
    "duration": 98,
    "start_time": "2022-11-30T18:16:27.096Z"
   },
   {
    "duration": 8,
    "start_time": "2022-11-30T18:16:27.198Z"
   },
   {
    "duration": 14,
    "start_time": "2022-11-30T18:16:27.208Z"
   },
   {
    "duration": 226,
    "start_time": "2022-11-30T18:16:27.224Z"
   },
   {
    "duration": 7699,
    "start_time": "2022-11-30T18:16:27.452Z"
   },
   {
    "duration": 7,
    "start_time": "2022-11-30T18:16:35.153Z"
   },
   {
    "duration": 375,
    "start_time": "2022-11-30T18:16:35.162Z"
   },
   {
    "duration": 3629,
    "start_time": "2022-11-30T18:16:35.539Z"
   },
   {
    "duration": 27,
    "start_time": "2022-11-30T18:16:39.170Z"
   },
   {
    "duration": 340,
    "start_time": "2022-11-30T18:16:39.200Z"
   },
   {
    "duration": 64,
    "start_time": "2022-11-30T18:16:39.542Z"
   },
   {
    "duration": 0,
    "start_time": "2022-11-30T18:16:39.608Z"
   },
   {
    "duration": 0,
    "start_time": "2022-11-30T18:16:39.609Z"
   },
   {
    "duration": 0,
    "start_time": "2022-11-30T18:16:39.611Z"
   },
   {
    "duration": 0,
    "start_time": "2022-11-30T18:16:39.612Z"
   },
   {
    "duration": 0,
    "start_time": "2022-11-30T18:16:39.614Z"
   },
   {
    "duration": 0,
    "start_time": "2022-11-30T18:16:39.616Z"
   },
   {
    "duration": 0,
    "start_time": "2022-11-30T18:16:39.618Z"
   },
   {
    "duration": 3,
    "start_time": "2022-11-30T18:17:45.034Z"
   },
   {
    "duration": 95,
    "start_time": "2022-11-30T18:17:45.039Z"
   },
   {
    "duration": 3,
    "start_time": "2022-11-30T18:17:45.136Z"
   },
   {
    "duration": 18,
    "start_time": "2022-11-30T18:17:45.141Z"
   },
   {
    "duration": 61,
    "start_time": "2022-11-30T18:17:45.161Z"
   },
   {
    "duration": 21,
    "start_time": "2022-11-30T18:17:45.224Z"
   },
   {
    "duration": 30,
    "start_time": "2022-11-30T18:17:45.247Z"
   },
   {
    "duration": 18,
    "start_time": "2022-11-30T18:17:45.278Z"
   },
   {
    "duration": 9,
    "start_time": "2022-11-30T18:17:45.297Z"
   },
   {
    "duration": 9,
    "start_time": "2022-11-30T18:17:45.510Z"
   },
   {
    "duration": 8,
    "start_time": "2022-11-30T18:17:45.522Z"
   },
   {
    "duration": 22,
    "start_time": "2022-11-30T18:17:45.532Z"
   },
   {
    "duration": 94,
    "start_time": "2022-11-30T18:17:45.556Z"
   },
   {
    "duration": 6,
    "start_time": "2022-11-30T18:17:45.652Z"
   },
   {
    "duration": 7,
    "start_time": "2022-11-30T18:17:45.677Z"
   },
   {
    "duration": 184,
    "start_time": "2022-11-30T18:17:45.686Z"
   },
   {
    "duration": 6976,
    "start_time": "2022-11-30T18:17:45.875Z"
   },
   {
    "duration": 7,
    "start_time": "2022-11-30T18:17:52.853Z"
   },
   {
    "duration": 290,
    "start_time": "2022-11-30T18:17:52.862Z"
   },
   {
    "duration": 3523,
    "start_time": "2022-11-30T18:17:53.153Z"
   },
   {
    "duration": 19,
    "start_time": "2022-11-30T18:17:56.678Z"
   },
   {
    "duration": 321,
    "start_time": "2022-11-30T18:17:56.698Z"
   },
   {
    "duration": 50,
    "start_time": "2022-11-30T18:17:57.021Z"
   },
   {
    "duration": 0,
    "start_time": "2022-11-30T18:17:57.073Z"
   },
   {
    "duration": 0,
    "start_time": "2022-11-30T18:17:57.074Z"
   },
   {
    "duration": 0,
    "start_time": "2022-11-30T18:17:57.076Z"
   },
   {
    "duration": 0,
    "start_time": "2022-11-30T18:17:57.078Z"
   },
   {
    "duration": 0,
    "start_time": "2022-11-30T18:17:57.079Z"
   },
   {
    "duration": 0,
    "start_time": "2022-11-30T18:17:57.081Z"
   },
   {
    "duration": 0,
    "start_time": "2022-11-30T18:17:57.082Z"
   },
   {
    "duration": 16,
    "start_time": "2022-11-30T18:21:40.069Z"
   },
   {
    "duration": 312,
    "start_time": "2022-11-30T18:21:42.493Z"
   },
   {
    "duration": 54,
    "start_time": "2022-11-30T18:21:42.976Z"
   },
   {
    "duration": 305,
    "start_time": "2022-11-30T18:21:47.782Z"
   },
   {
    "duration": 316,
    "start_time": "2022-11-30T18:21:53.753Z"
   },
   {
    "duration": 4,
    "start_time": "2022-11-30T18:22:06.852Z"
   },
   {
    "duration": 21,
    "start_time": "2022-11-30T18:22:08.788Z"
   },
   {
    "duration": 9,
    "start_time": "2022-11-30T18:24:38.742Z"
   },
   {
    "duration": 17,
    "start_time": "2022-11-30T18:24:47.123Z"
   },
   {
    "duration": 11,
    "start_time": "2022-11-30T18:24:51.713Z"
   },
   {
    "duration": 322,
    "start_time": "2022-11-30T18:36:13.174Z"
   },
   {
    "duration": 382,
    "start_time": "2022-11-30T18:36:24.029Z"
   },
   {
    "duration": 308,
    "start_time": "2022-11-30T18:36:26.924Z"
   },
   {
    "duration": 5,
    "start_time": "2022-11-30T18:36:31.411Z"
   },
   {
    "duration": 17,
    "start_time": "2022-11-30T18:36:33.252Z"
   },
   {
    "duration": 9,
    "start_time": "2022-11-30T18:36:36.681Z"
   },
   {
    "duration": 14,
    "start_time": "2022-11-30T18:36:43.294Z"
   },
   {
    "duration": 11,
    "start_time": "2022-11-30T18:36:48.587Z"
   },
   {
    "duration": 127,
    "start_time": "2022-11-30T18:37:21.109Z"
   },
   {
    "duration": 30,
    "start_time": "2022-11-30T18:38:42.041Z"
   },
   {
    "duration": 24,
    "start_time": "2022-11-30T18:39:00.323Z"
   },
   {
    "duration": 21,
    "start_time": "2022-11-30T18:39:23.360Z"
   },
   {
    "duration": 12,
    "start_time": "2022-11-30T18:40:23.904Z"
   },
   {
    "duration": 12,
    "start_time": "2022-11-30T18:41:09.055Z"
   },
   {
    "duration": 1228,
    "start_time": "2022-12-01T14:26:54.959Z"
   },
   {
    "duration": 155,
    "start_time": "2022-12-01T14:26:56.189Z"
   },
   {
    "duration": 3,
    "start_time": "2022-12-01T14:26:56.345Z"
   },
   {
    "duration": 25,
    "start_time": "2022-12-01T14:26:56.350Z"
   },
   {
    "duration": 35,
    "start_time": "2022-12-01T14:26:56.376Z"
   },
   {
    "duration": 15,
    "start_time": "2022-12-01T14:26:56.415Z"
   },
   {
    "duration": 51,
    "start_time": "2022-12-01T14:26:56.431Z"
   },
   {
    "duration": 23,
    "start_time": "2022-12-01T14:26:56.484Z"
   },
   {
    "duration": 17,
    "start_time": "2022-12-01T14:26:56.513Z"
   },
   {
    "duration": 17,
    "start_time": "2022-12-01T14:26:56.533Z"
   },
   {
    "duration": 10,
    "start_time": "2022-12-01T14:26:56.551Z"
   },
   {
    "duration": 47,
    "start_time": "2022-12-01T14:26:56.563Z"
   },
   {
    "duration": 76,
    "start_time": "2022-12-01T14:26:56.615Z"
   },
   {
    "duration": 16,
    "start_time": "2022-12-01T14:26:56.693Z"
   },
   {
    "duration": 14,
    "start_time": "2022-12-01T14:26:56.712Z"
   },
   {
    "duration": 211,
    "start_time": "2022-12-01T14:26:56.727Z"
   },
   {
    "duration": 6372,
    "start_time": "2022-12-01T14:26:56.940Z"
   },
   {
    "duration": 7,
    "start_time": "2022-12-01T14:27:03.313Z"
   },
   {
    "duration": 263,
    "start_time": "2022-12-01T14:27:03.322Z"
   },
   {
    "duration": 2945,
    "start_time": "2022-12-01T14:27:03.586Z"
   },
   {
    "duration": 19,
    "start_time": "2022-12-01T14:27:06.533Z"
   },
   {
    "duration": 338,
    "start_time": "2022-12-01T14:27:06.553Z"
   },
   {
    "duration": 68,
    "start_time": "2022-12-01T14:27:06.893Z"
   },
   {
    "duration": 0,
    "start_time": "2022-12-01T14:27:06.963Z"
   },
   {
    "duration": 0,
    "start_time": "2022-12-01T14:27:06.964Z"
   },
   {
    "duration": 1,
    "start_time": "2022-12-01T14:27:06.965Z"
   },
   {
    "duration": 0,
    "start_time": "2022-12-01T14:27:06.966Z"
   },
   {
    "duration": 0,
    "start_time": "2022-12-01T14:27:06.967Z"
   },
   {
    "duration": 0,
    "start_time": "2022-12-01T14:27:06.968Z"
   },
   {
    "duration": 0,
    "start_time": "2022-12-01T14:27:06.970Z"
   },
   {
    "duration": 0,
    "start_time": "2022-12-01T14:27:06.971Z"
   },
   {
    "duration": 0,
    "start_time": "2022-12-01T14:27:06.972Z"
   },
   {
    "duration": 1146,
    "start_time": "2022-12-01T14:40:26.895Z"
   },
   {
    "duration": 77,
    "start_time": "2022-12-01T14:40:28.044Z"
   },
   {
    "duration": 4,
    "start_time": "2022-12-01T14:40:28.123Z"
   },
   {
    "duration": 22,
    "start_time": "2022-12-01T14:40:28.128Z"
   },
   {
    "duration": 24,
    "start_time": "2022-12-01T14:40:28.152Z"
   },
   {
    "duration": 30,
    "start_time": "2022-12-01T14:40:28.177Z"
   },
   {
    "duration": 22,
    "start_time": "2022-12-01T14:40:28.209Z"
   },
   {
    "duration": 17,
    "start_time": "2022-12-01T14:40:28.232Z"
   },
   {
    "duration": 12,
    "start_time": "2022-12-01T14:40:28.251Z"
   },
   {
    "duration": 14,
    "start_time": "2022-12-01T14:40:28.265Z"
   },
   {
    "duration": 8,
    "start_time": "2022-12-01T14:40:28.297Z"
   },
   {
    "duration": 25,
    "start_time": "2022-12-01T14:40:28.307Z"
   },
   {
    "duration": 93,
    "start_time": "2022-12-01T14:40:28.334Z"
   },
   {
    "duration": 6,
    "start_time": "2022-12-01T14:40:28.430Z"
   },
   {
    "duration": 11,
    "start_time": "2022-12-01T14:40:28.438Z"
   },
   {
    "duration": 208,
    "start_time": "2022-12-01T14:40:28.450Z"
   },
   {
    "duration": 6347,
    "start_time": "2022-12-01T14:40:28.659Z"
   },
   {
    "duration": 9,
    "start_time": "2022-12-01T14:40:35.008Z"
   },
   {
    "duration": 310,
    "start_time": "2022-12-01T14:40:35.019Z"
   },
   {
    "duration": 2822,
    "start_time": "2022-12-01T14:40:35.330Z"
   },
   {
    "duration": 17,
    "start_time": "2022-12-01T14:40:38.154Z"
   },
   {
    "duration": 291,
    "start_time": "2022-12-01T14:40:38.172Z"
   },
   {
    "duration": 454,
    "start_time": "2022-12-01T14:40:38.465Z"
   },
   {
    "duration": 313,
    "start_time": "2022-12-01T14:40:38.921Z"
   },
   {
    "duration": 4,
    "start_time": "2022-12-01T14:40:39.235Z"
   },
   {
    "duration": 31,
    "start_time": "2022-12-01T14:40:39.241Z"
   },
   {
    "duration": 30,
    "start_time": "2022-12-01T14:40:39.273Z"
   },
   {
    "duration": 54,
    "start_time": "2022-12-01T14:40:39.305Z"
   },
   {
    "duration": 25,
    "start_time": "2022-12-01T14:40:39.360Z"
   },
   {
    "duration": 32,
    "start_time": "2022-12-01T14:40:39.387Z"
   },
   {
    "duration": 25,
    "start_time": "2022-12-01T14:40:39.420Z"
   },
   {
    "duration": 10,
    "start_time": "2022-12-01T16:22:59.779Z"
   },
   {
    "duration": 5,
    "start_time": "2022-12-01T16:25:11.523Z"
   },
   {
    "duration": 5,
    "start_time": "2022-12-01T16:25:19.548Z"
   },
   {
    "duration": 52,
    "start_time": "2022-12-01T16:25:29.781Z"
   },
   {
    "duration": 1281,
    "start_time": "2022-12-01T16:25:38.205Z"
   },
   {
    "duration": 128,
    "start_time": "2022-12-01T16:25:39.488Z"
   },
   {
    "duration": 5,
    "start_time": "2022-12-01T16:25:39.618Z"
   },
   {
    "duration": 20,
    "start_time": "2022-12-01T16:25:39.625Z"
   },
   {
    "duration": 24,
    "start_time": "2022-12-01T16:25:39.646Z"
   },
   {
    "duration": 30,
    "start_time": "2022-12-01T16:25:39.671Z"
   },
   {
    "duration": 21,
    "start_time": "2022-12-01T16:25:39.703Z"
   },
   {
    "duration": 23,
    "start_time": "2022-12-01T16:25:39.725Z"
   },
   {
    "duration": 21,
    "start_time": "2022-12-01T16:25:39.750Z"
   },
   {
    "duration": 8,
    "start_time": "2022-12-01T16:25:39.773Z"
   },
   {
    "duration": 11,
    "start_time": "2022-12-01T16:25:39.782Z"
   },
   {
    "duration": 20,
    "start_time": "2022-12-01T16:25:39.794Z"
   },
   {
    "duration": 76,
    "start_time": "2022-12-01T16:25:39.815Z"
   },
   {
    "duration": 6,
    "start_time": "2022-12-01T16:25:39.893Z"
   },
   {
    "duration": 20,
    "start_time": "2022-12-01T16:25:39.901Z"
   },
   {
    "duration": 207,
    "start_time": "2022-12-01T16:25:39.923Z"
   },
   {
    "duration": 6995,
    "start_time": "2022-12-01T16:25:40.132Z"
   },
   {
    "duration": 7,
    "start_time": "2022-12-01T16:25:47.129Z"
   },
   {
    "duration": 322,
    "start_time": "2022-12-01T16:25:47.137Z"
   },
   {
    "duration": 4369,
    "start_time": "2022-12-01T16:25:47.461Z"
   },
   {
    "duration": 14,
    "start_time": "2022-12-01T16:25:51.832Z"
   },
   {
    "duration": 305,
    "start_time": "2022-12-01T16:25:51.847Z"
   },
   {
    "duration": 298,
    "start_time": "2022-12-01T16:25:52.153Z"
   },
   {
    "duration": 318,
    "start_time": "2022-12-01T16:25:52.453Z"
   },
   {
    "duration": 5,
    "start_time": "2022-12-01T16:25:52.772Z"
   },
   {
    "duration": 37,
    "start_time": "2022-12-01T16:25:52.778Z"
   },
   {
    "duration": 11,
    "start_time": "2022-12-01T16:25:52.817Z"
   },
   {
    "duration": 14,
    "start_time": "2022-12-01T16:25:52.831Z"
   },
   {
    "duration": 13,
    "start_time": "2022-12-01T16:25:52.846Z"
   },
   {
    "duration": 43,
    "start_time": "2022-12-01T16:25:52.860Z"
   },
   {
    "duration": 14,
    "start_time": "2022-12-01T16:25:52.906Z"
   },
   {
    "duration": 7,
    "start_time": "2022-12-01T16:31:09.609Z"
   },
   {
    "duration": 823,
    "start_time": "2022-12-01T16:33:17.875Z"
   },
   {
    "duration": 743,
    "start_time": "2022-12-01T16:33:33.428Z"
   },
   {
    "duration": 714,
    "start_time": "2022-12-01T16:33:36.130Z"
   },
   {
    "duration": 731,
    "start_time": "2022-12-01T16:33:49.495Z"
   },
   {
    "duration": 7,
    "start_time": "2022-12-01T16:47:02.748Z"
   },
   {
    "duration": 1051,
    "start_time": "2022-12-01T16:47:34.511Z"
   },
   {
    "duration": 87,
    "start_time": "2022-12-01T16:47:35.564Z"
   },
   {
    "duration": 4,
    "start_time": "2022-12-01T16:47:35.653Z"
   },
   {
    "duration": 71,
    "start_time": "2022-12-01T16:47:35.660Z"
   },
   {
    "duration": 39,
    "start_time": "2022-12-01T16:47:35.733Z"
   },
   {
    "duration": 17,
    "start_time": "2022-12-01T16:47:35.773Z"
   },
   {
    "duration": 26,
    "start_time": "2022-12-01T16:47:35.791Z"
   },
   {
    "duration": 22,
    "start_time": "2022-12-01T16:47:35.818Z"
   },
   {
    "duration": 6,
    "start_time": "2022-12-01T16:47:35.842Z"
   },
   {
    "duration": 7,
    "start_time": "2022-12-01T16:47:35.850Z"
   },
   {
    "duration": 6,
    "start_time": "2022-12-01T16:47:35.858Z"
   },
   {
    "duration": 35,
    "start_time": "2022-12-01T16:47:35.866Z"
   },
   {
    "duration": 94,
    "start_time": "2022-12-01T16:47:35.903Z"
   },
   {
    "duration": 5,
    "start_time": "2022-12-01T16:47:35.998Z"
   },
   {
    "duration": 7,
    "start_time": "2022-12-01T16:47:36.005Z"
   },
   {
    "duration": 171,
    "start_time": "2022-12-01T16:47:36.014Z"
   },
   {
    "duration": 6070,
    "start_time": "2022-12-01T16:47:36.186Z"
   },
   {
    "duration": 7,
    "start_time": "2022-12-01T16:47:42.258Z"
   },
   {
    "duration": 357,
    "start_time": "2022-12-01T16:47:42.266Z"
   },
   {
    "duration": 103,
    "start_time": "2022-12-01T16:47:42.625Z"
   },
   {
    "duration": 0,
    "start_time": "2022-12-01T16:47:42.730Z"
   },
   {
    "duration": 0,
    "start_time": "2022-12-01T16:47:42.731Z"
   },
   {
    "duration": 0,
    "start_time": "2022-12-01T16:47:42.733Z"
   },
   {
    "duration": 0,
    "start_time": "2022-12-01T16:47:42.734Z"
   },
   {
    "duration": 0,
    "start_time": "2022-12-01T16:47:42.735Z"
   },
   {
    "duration": 0,
    "start_time": "2022-12-01T16:47:42.736Z"
   },
   {
    "duration": 0,
    "start_time": "2022-12-01T16:47:42.738Z"
   },
   {
    "duration": 0,
    "start_time": "2022-12-01T16:47:42.739Z"
   },
   {
    "duration": 0,
    "start_time": "2022-12-01T16:47:42.740Z"
   },
   {
    "duration": 0,
    "start_time": "2022-12-01T16:47:42.741Z"
   },
   {
    "duration": 0,
    "start_time": "2022-12-01T16:47:42.742Z"
   },
   {
    "duration": 0,
    "start_time": "2022-12-01T16:47:42.743Z"
   },
   {
    "duration": 12,
    "start_time": "2022-12-01T16:55:58.406Z"
   },
   {
    "duration": 822,
    "start_time": "2022-12-01T16:56:24.433Z"
   },
   {
    "duration": 9,
    "start_time": "2022-12-01T16:56:40.488Z"
   },
   {
    "duration": 378,
    "start_time": "2022-12-01T16:57:48.595Z"
   },
   {
    "duration": 356,
    "start_time": "2022-12-01T16:58:00.007Z"
   },
   {
    "duration": 345,
    "start_time": "2022-12-01T16:58:22.171Z"
   },
   {
    "duration": 322,
    "start_time": "2022-12-01T16:58:48.404Z"
   },
   {
    "duration": 6,
    "start_time": "2022-12-01T17:00:33.440Z"
   },
   {
    "duration": 21,
    "start_time": "2022-12-01T17:00:35.878Z"
   },
   {
    "duration": 51,
    "start_time": "2022-12-01T17:00:38.157Z"
   },
   {
    "duration": 6,
    "start_time": "2022-12-01T17:00:39.939Z"
   },
   {
    "duration": 5,
    "start_time": "2022-12-01T17:00:41.642Z"
   },
   {
    "duration": 126,
    "start_time": "2022-12-01T17:00:43.154Z"
   },
   {
    "duration": 1117,
    "start_time": "2022-12-01T17:01:35.654Z"
   },
   {
    "duration": 75,
    "start_time": "2022-12-01T17:01:36.773Z"
   },
   {
    "duration": 4,
    "start_time": "2022-12-01T17:01:36.850Z"
   },
   {
    "duration": 17,
    "start_time": "2022-12-01T17:01:36.855Z"
   },
   {
    "duration": 31,
    "start_time": "2022-12-01T17:01:36.874Z"
   },
   {
    "duration": 15,
    "start_time": "2022-12-01T17:01:36.907Z"
   },
   {
    "duration": 20,
    "start_time": "2022-12-01T17:01:36.924Z"
   },
   {
    "duration": 16,
    "start_time": "2022-12-01T17:01:36.945Z"
   },
   {
    "duration": 10,
    "start_time": "2022-12-01T17:01:36.963Z"
   },
   {
    "duration": 9,
    "start_time": "2022-12-01T17:01:36.999Z"
   },
   {
    "duration": 349,
    "start_time": "2022-12-01T17:01:37.010Z"
   },
   {
    "duration": 0,
    "start_time": "2022-12-01T17:01:37.362Z"
   },
   {
    "duration": 0,
    "start_time": "2022-12-01T17:01:37.363Z"
   },
   {
    "duration": 0,
    "start_time": "2022-12-01T17:01:37.365Z"
   },
   {
    "duration": 0,
    "start_time": "2022-12-01T17:01:37.366Z"
   },
   {
    "duration": 0,
    "start_time": "2022-12-01T17:01:37.367Z"
   },
   {
    "duration": 0,
    "start_time": "2022-12-01T17:01:37.369Z"
   },
   {
    "duration": 0,
    "start_time": "2022-12-01T17:01:37.370Z"
   },
   {
    "duration": 0,
    "start_time": "2022-12-01T17:01:37.371Z"
   },
   {
    "duration": 0,
    "start_time": "2022-12-01T17:01:37.372Z"
   },
   {
    "duration": 0,
    "start_time": "2022-12-01T17:01:37.373Z"
   },
   {
    "duration": 0,
    "start_time": "2022-12-01T17:01:37.374Z"
   },
   {
    "duration": 0,
    "start_time": "2022-12-01T17:01:37.375Z"
   },
   {
    "duration": 0,
    "start_time": "2022-12-01T17:01:37.375Z"
   },
   {
    "duration": 0,
    "start_time": "2022-12-01T17:01:37.376Z"
   },
   {
    "duration": 0,
    "start_time": "2022-12-01T17:01:37.378Z"
   },
   {
    "duration": 0,
    "start_time": "2022-12-01T17:01:37.379Z"
   },
   {
    "duration": 0,
    "start_time": "2022-12-01T17:01:37.380Z"
   },
   {
    "duration": 0,
    "start_time": "2022-12-01T17:01:37.381Z"
   },
   {
    "duration": 0,
    "start_time": "2022-12-01T17:01:37.382Z"
   },
   {
    "duration": 0,
    "start_time": "2022-12-01T17:01:37.383Z"
   },
   {
    "duration": 0,
    "start_time": "2022-12-01T17:01:37.384Z"
   },
   {
    "duration": 0,
    "start_time": "2022-12-01T17:01:37.385Z"
   },
   {
    "duration": 13,
    "start_time": "2022-12-01T17:02:27.102Z"
   },
   {
    "duration": 3,
    "start_time": "2022-12-01T17:02:48.776Z"
   },
   {
    "duration": 76,
    "start_time": "2022-12-01T17:02:49.706Z"
   },
   {
    "duration": 3,
    "start_time": "2022-12-01T17:02:53.815Z"
   },
   {
    "duration": 21,
    "start_time": "2022-12-01T17:02:57.115Z"
   },
   {
    "duration": 23,
    "start_time": "2022-12-01T17:03:00.487Z"
   },
   {
    "duration": 16,
    "start_time": "2022-12-01T17:03:02.079Z"
   },
   {
    "duration": 20,
    "start_time": "2022-12-01T17:03:05.703Z"
   },
   {
    "duration": 19,
    "start_time": "2022-12-01T17:03:09.830Z"
   },
   {
    "duration": 5,
    "start_time": "2022-12-01T17:03:11.704Z"
   },
   {
    "duration": 7,
    "start_time": "2022-12-01T17:03:13.639Z"
   },
   {
    "duration": 315,
    "start_time": "2022-12-01T17:03:17.433Z"
   },
   {
    "duration": 6,
    "start_time": "2022-12-01T17:03:36.557Z"
   },
   {
    "duration": 6,
    "start_time": "2022-12-01T17:03:47.549Z"
   },
   {
    "duration": 15,
    "start_time": "2022-12-01T17:03:49.388Z"
   },
   {
    "duration": 73,
    "start_time": "2022-12-01T17:03:50.894Z"
   },
   {
    "duration": 7,
    "start_time": "2022-12-01T17:03:51.770Z"
   },
   {
    "duration": 6,
    "start_time": "2022-12-01T17:03:52.903Z"
   },
   {
    "duration": 165,
    "start_time": "2022-12-01T17:03:53.262Z"
   },
   {
    "duration": 6218,
    "start_time": "2022-12-01T17:03:54.262Z"
   },
   {
    "duration": 16,
    "start_time": "2022-12-01T17:04:00.482Z"
   },
   {
    "duration": 344,
    "start_time": "2022-12-01T17:04:00.500Z"
   },
   {
    "duration": 368,
    "start_time": "2022-12-01T17:04:00.846Z"
   },
   {
    "duration": 9,
    "start_time": "2022-12-01T17:04:01.217Z"
   },
   {
    "duration": 0,
    "start_time": "2022-12-01T17:04:01.228Z"
   },
   {
    "duration": 0,
    "start_time": "2022-12-01T17:04:01.229Z"
   },
   {
    "duration": 0,
    "start_time": "2022-12-01T17:04:01.230Z"
   },
   {
    "duration": 294,
    "start_time": "2022-12-01T17:04:01.774Z"
   },
   {
    "duration": 274,
    "start_time": "2022-12-01T17:04:02.610Z"
   },
   {
    "duration": 5,
    "start_time": "2022-12-01T17:04:03.753Z"
   },
   {
    "duration": 20,
    "start_time": "2022-12-01T17:04:04.102Z"
   },
   {
    "duration": 10,
    "start_time": "2022-12-01T17:04:05.134Z"
   },
   {
    "duration": 13,
    "start_time": "2022-12-01T17:04:06.438Z"
   },
   {
    "duration": 11,
    "start_time": "2022-12-01T17:04:07.848Z"
   },
   {
    "duration": 11,
    "start_time": "2022-12-01T17:04:08.966Z"
   },
   {
    "duration": 11,
    "start_time": "2022-12-01T17:04:09.278Z"
   },
   {
    "duration": 4314,
    "start_time": "2022-12-01T17:08:19.304Z"
   },
   {
    "duration": 124,
    "start_time": "2022-12-01T17:08:47.515Z"
   },
   {
    "duration": 4234,
    "start_time": "2022-12-01T17:09:02.726Z"
   },
   {
    "duration": 1088,
    "start_time": "2022-12-01T17:29:06.036Z"
   },
   {
    "duration": 82,
    "start_time": "2022-12-01T17:29:07.127Z"
   },
   {
    "duration": 4,
    "start_time": "2022-12-01T17:29:07.211Z"
   },
   {
    "duration": 30,
    "start_time": "2022-12-01T17:29:07.217Z"
   },
   {
    "duration": 25,
    "start_time": "2022-12-01T17:29:07.249Z"
   },
   {
    "duration": 14,
    "start_time": "2022-12-01T17:29:07.275Z"
   },
   {
    "duration": 26,
    "start_time": "2022-12-01T17:29:07.290Z"
   },
   {
    "duration": 15,
    "start_time": "2022-12-01T17:29:07.317Z"
   },
   {
    "duration": 8,
    "start_time": "2022-12-01T17:29:07.333Z"
   },
   {
    "duration": 9,
    "start_time": "2022-12-01T17:29:07.342Z"
   },
   {
    "duration": 13,
    "start_time": "2022-12-01T17:29:07.352Z"
   },
   {
    "duration": 21,
    "start_time": "2022-12-01T17:29:07.366Z"
   },
   {
    "duration": 77,
    "start_time": "2022-12-01T17:29:07.397Z"
   },
   {
    "duration": 28,
    "start_time": "2022-12-01T17:29:07.476Z"
   },
   {
    "duration": 12,
    "start_time": "2022-12-01T17:29:07.506Z"
   },
   {
    "duration": 163,
    "start_time": "2022-12-01T17:29:07.519Z"
   },
   {
    "duration": 6389,
    "start_time": "2022-12-01T17:29:07.683Z"
   },
   {
    "duration": 8,
    "start_time": "2022-12-01T17:29:14.075Z"
   },
   {
    "duration": 369,
    "start_time": "2022-12-01T17:29:14.084Z"
   },
   {
    "duration": 428,
    "start_time": "2022-12-01T17:29:14.455Z"
   },
   {
    "duration": 4394,
    "start_time": "2022-12-01T17:29:14.885Z"
   },
   {
    "duration": 34,
    "start_time": "2022-12-01T17:29:19.280Z"
   },
   {
    "duration": 304,
    "start_time": "2022-12-01T17:29:19.316Z"
   },
   {
    "duration": 272,
    "start_time": "2022-12-01T17:29:19.621Z"
   },
   {
    "duration": 317,
    "start_time": "2022-12-01T17:29:19.895Z"
   },
   {
    "duration": 5,
    "start_time": "2022-12-01T17:29:20.214Z"
   },
   {
    "duration": 21,
    "start_time": "2022-12-01T17:29:20.220Z"
   },
   {
    "duration": 9,
    "start_time": "2022-12-01T17:29:20.243Z"
   },
   {
    "duration": 13,
    "start_time": "2022-12-01T17:29:20.253Z"
   },
   {
    "duration": 44,
    "start_time": "2022-12-01T17:29:20.268Z"
   },
   {
    "duration": 10,
    "start_time": "2022-12-01T17:29:20.314Z"
   },
   {
    "duration": 15,
    "start_time": "2022-12-01T17:29:20.325Z"
   },
   {
    "duration": 100,
    "start_time": "2022-12-01T17:30:30.111Z"
   },
   {
    "duration": 12,
    "start_time": "2022-12-01T17:30:49.707Z"
   },
   {
    "duration": 4,
    "start_time": "2022-12-01T17:31:44.125Z"
   },
   {
    "duration": 10,
    "start_time": "2022-12-01T17:32:08.407Z"
   },
   {
    "duration": 1119,
    "start_time": "2022-12-01T17:32:19.866Z"
   },
   {
    "duration": 4203,
    "start_time": "2022-12-01T17:32:35.212Z"
   },
   {
    "duration": 5,
    "start_time": "2022-12-01T17:33:02.124Z"
   },
   {
    "duration": 1041,
    "start_time": "2022-12-01T17:33:11.547Z"
   },
   {
    "duration": 80,
    "start_time": "2022-12-01T17:33:12.590Z"
   },
   {
    "duration": 3,
    "start_time": "2022-12-01T17:33:12.672Z"
   },
   {
    "duration": 34,
    "start_time": "2022-12-01T17:33:12.677Z"
   },
   {
    "duration": 24,
    "start_time": "2022-12-01T17:33:12.713Z"
   },
   {
    "duration": 14,
    "start_time": "2022-12-01T17:33:12.738Z"
   },
   {
    "duration": 21,
    "start_time": "2022-12-01T17:33:12.753Z"
   },
   {
    "duration": 36,
    "start_time": "2022-12-01T17:33:12.775Z"
   },
   {
    "duration": 6,
    "start_time": "2022-12-01T17:33:12.812Z"
   },
   {
    "duration": 9,
    "start_time": "2022-12-01T17:33:12.820Z"
   },
   {
    "duration": 6,
    "start_time": "2022-12-01T17:33:12.830Z"
   },
   {
    "duration": 17,
    "start_time": "2022-12-01T17:33:12.837Z"
   },
   {
    "duration": 90,
    "start_time": "2022-12-01T17:33:12.856Z"
   },
   {
    "duration": 6,
    "start_time": "2022-12-01T17:33:12.948Z"
   },
   {
    "duration": 9,
    "start_time": "2022-12-01T17:33:12.956Z"
   },
   {
    "duration": 192,
    "start_time": "2022-12-01T17:33:12.966Z"
   },
   {
    "duration": 6745,
    "start_time": "2022-12-01T17:33:13.160Z"
   },
   {
    "duration": 8,
    "start_time": "2022-12-01T17:33:19.910Z"
   },
   {
    "duration": 369,
    "start_time": "2022-12-01T17:33:19.920Z"
   },
   {
    "duration": 354,
    "start_time": "2022-12-01T17:33:20.290Z"
   },
   {
    "duration": 4301,
    "start_time": "2022-12-01T17:33:20.646Z"
   },
   {
    "duration": 18,
    "start_time": "2022-12-01T17:33:24.949Z"
   },
   {
    "duration": 290,
    "start_time": "2022-12-01T17:33:24.969Z"
   },
   {
    "duration": 265,
    "start_time": "2022-12-01T17:33:25.260Z"
   },
   {
    "duration": 286,
    "start_time": "2022-12-01T17:33:25.527Z"
   },
   {
    "duration": 5,
    "start_time": "2022-12-01T17:33:25.815Z"
   },
   {
    "duration": 28,
    "start_time": "2022-12-01T17:33:25.823Z"
   },
   {
    "duration": 8,
    "start_time": "2022-12-01T17:33:25.852Z"
   },
   {
    "duration": 14,
    "start_time": "2022-12-01T17:33:25.862Z"
   },
   {
    "duration": 35,
    "start_time": "2022-12-01T17:33:25.877Z"
   },
   {
    "duration": 12,
    "start_time": "2022-12-01T17:33:25.913Z"
   },
   {
    "duration": 10,
    "start_time": "2022-12-01T17:33:25.926Z"
   },
   {
    "duration": 7,
    "start_time": "2022-12-01T17:39:38.823Z"
   },
   {
    "duration": 1035,
    "start_time": "2022-12-01T17:39:46.045Z"
   },
   {
    "duration": 71,
    "start_time": "2022-12-01T17:39:47.082Z"
   },
   {
    "duration": 3,
    "start_time": "2022-12-01T17:39:47.155Z"
   },
   {
    "duration": 16,
    "start_time": "2022-12-01T17:39:47.159Z"
   },
   {
    "duration": 22,
    "start_time": "2022-12-01T17:39:47.177Z"
   },
   {
    "duration": 14,
    "start_time": "2022-12-01T17:39:47.201Z"
   },
   {
    "duration": 19,
    "start_time": "2022-12-01T17:39:47.217Z"
   },
   {
    "duration": 14,
    "start_time": "2022-12-01T17:39:47.238Z"
   },
   {
    "duration": 7,
    "start_time": "2022-12-01T17:39:47.253Z"
   },
   {
    "duration": 36,
    "start_time": "2022-12-01T17:39:47.261Z"
   },
   {
    "duration": 6,
    "start_time": "2022-12-01T17:39:47.299Z"
   },
   {
    "duration": 17,
    "start_time": "2022-12-01T17:39:47.306Z"
   },
   {
    "duration": 82,
    "start_time": "2022-12-01T17:39:47.324Z"
   },
   {
    "duration": 7,
    "start_time": "2022-12-01T17:39:47.408Z"
   },
   {
    "duration": 6,
    "start_time": "2022-12-01T17:39:47.417Z"
   },
   {
    "duration": 177,
    "start_time": "2022-12-01T17:39:47.424Z"
   },
   {
    "duration": 6161,
    "start_time": "2022-12-01T17:39:47.603Z"
   },
   {
    "duration": 7,
    "start_time": "2022-12-01T17:39:53.766Z"
   },
   {
    "duration": 353,
    "start_time": "2022-12-01T17:39:53.774Z"
   },
   {
    "duration": 345,
    "start_time": "2022-12-01T17:39:54.129Z"
   },
   {
    "duration": 4228,
    "start_time": "2022-12-01T17:39:54.476Z"
   },
   {
    "duration": 14,
    "start_time": "2022-12-01T17:39:58.706Z"
   },
   {
    "duration": 279,
    "start_time": "2022-12-01T17:39:58.722Z"
   },
   {
    "duration": 270,
    "start_time": "2022-12-01T17:39:59.002Z"
   },
   {
    "duration": 255,
    "start_time": "2022-12-01T17:39:59.273Z"
   },
   {
    "duration": 5,
    "start_time": "2022-12-01T17:39:59.529Z"
   },
   {
    "duration": 22,
    "start_time": "2022-12-01T17:39:59.535Z"
   },
   {
    "duration": 8,
    "start_time": "2022-12-01T17:39:59.558Z"
   },
   {
    "duration": 32,
    "start_time": "2022-12-01T17:39:59.567Z"
   },
   {
    "duration": 8,
    "start_time": "2022-12-01T17:39:59.601Z"
   },
   {
    "duration": 9,
    "start_time": "2022-12-01T17:39:59.611Z"
   },
   {
    "duration": 10,
    "start_time": "2022-12-01T17:39:59.621Z"
   },
   {
    "duration": 6,
    "start_time": "2022-12-01T17:40:54.880Z"
   },
   {
    "duration": 1072,
    "start_time": "2022-12-01T17:41:02.001Z"
   },
   {
    "duration": 72,
    "start_time": "2022-12-01T17:41:03.075Z"
   },
   {
    "duration": 3,
    "start_time": "2022-12-01T17:41:03.149Z"
   },
   {
    "duration": 15,
    "start_time": "2022-12-01T17:41:03.153Z"
   },
   {
    "duration": 29,
    "start_time": "2022-12-01T17:41:03.169Z"
   },
   {
    "duration": 15,
    "start_time": "2022-12-01T17:41:03.199Z"
   },
   {
    "duration": 19,
    "start_time": "2022-12-01T17:41:03.215Z"
   },
   {
    "duration": 15,
    "start_time": "2022-12-01T17:41:03.236Z"
   },
   {
    "duration": 5,
    "start_time": "2022-12-01T17:41:03.253Z"
   },
   {
    "duration": 7,
    "start_time": "2022-12-01T17:41:03.260Z"
   },
   {
    "duration": 5,
    "start_time": "2022-12-01T17:41:03.297Z"
   },
   {
    "duration": 15,
    "start_time": "2022-12-01T17:41:03.304Z"
   },
   {
    "duration": 86,
    "start_time": "2022-12-01T17:41:03.321Z"
   },
   {
    "duration": 5,
    "start_time": "2022-12-01T17:41:03.410Z"
   },
   {
    "duration": 7,
    "start_time": "2022-12-01T17:41:03.417Z"
   },
   {
    "duration": 174,
    "start_time": "2022-12-01T17:41:03.425Z"
   },
   {
    "duration": 6175,
    "start_time": "2022-12-01T17:41:03.601Z"
   },
   {
    "duration": 8,
    "start_time": "2022-12-01T17:41:09.778Z"
   },
   {
    "duration": 332,
    "start_time": "2022-12-01T17:41:09.798Z"
   },
   {
    "duration": 319,
    "start_time": "2022-12-01T17:41:10.132Z"
   },
   {
    "duration": 4129,
    "start_time": "2022-12-01T17:41:10.453Z"
   },
   {
    "duration": 22,
    "start_time": "2022-12-01T17:41:14.584Z"
   },
   {
    "duration": 284,
    "start_time": "2022-12-01T17:41:14.608Z"
   },
   {
    "duration": 260,
    "start_time": "2022-12-01T17:41:14.897Z"
   },
   {
    "duration": 259,
    "start_time": "2022-12-01T17:41:15.159Z"
   },
   {
    "duration": 4,
    "start_time": "2022-12-01T17:41:15.420Z"
   },
   {
    "duration": 30,
    "start_time": "2022-12-01T17:41:15.425Z"
   },
   {
    "duration": 23,
    "start_time": "2022-12-01T17:41:15.456Z"
   },
   {
    "duration": 35,
    "start_time": "2022-12-01T17:41:15.481Z"
   },
   {
    "duration": 22,
    "start_time": "2022-12-01T17:41:15.517Z"
   },
   {
    "duration": 10,
    "start_time": "2022-12-01T17:41:15.540Z"
   },
   {
    "duration": 26,
    "start_time": "2022-12-01T17:41:15.551Z"
   },
   {
    "duration": 4086,
    "start_time": "2022-12-01T17:42:02.724Z"
   },
   {
    "duration": 45,
    "start_time": "2022-12-01T17:42:26.841Z"
   },
   {
    "duration": 4079,
    "start_time": "2022-12-01T17:42:46.560Z"
   },
   {
    "duration": 4134,
    "start_time": "2022-12-01T17:43:04.921Z"
   },
   {
    "duration": 310,
    "start_time": "2022-12-01T17:43:56.322Z"
   },
   {
    "duration": 20,
    "start_time": "2022-12-01T17:51:46.230Z"
   },
   {
    "duration": 1173,
    "start_time": "2022-12-01T18:04:24.492Z"
   },
   {
    "duration": 86,
    "start_time": "2022-12-01T18:04:25.667Z"
   },
   {
    "duration": 4,
    "start_time": "2022-12-01T18:04:25.754Z"
   },
   {
    "duration": 19,
    "start_time": "2022-12-01T18:04:25.759Z"
   },
   {
    "duration": 31,
    "start_time": "2022-12-01T18:04:25.779Z"
   },
   {
    "duration": 20,
    "start_time": "2022-12-01T18:04:25.812Z"
   },
   {
    "duration": 20,
    "start_time": "2022-12-01T18:04:25.834Z"
   },
   {
    "duration": 15,
    "start_time": "2022-12-01T18:04:25.856Z"
   },
   {
    "duration": 26,
    "start_time": "2022-12-01T18:04:25.873Z"
   },
   {
    "duration": 9,
    "start_time": "2022-12-01T18:04:25.901Z"
   },
   {
    "duration": 10,
    "start_time": "2022-12-01T18:04:25.912Z"
   },
   {
    "duration": 18,
    "start_time": "2022-12-01T18:04:25.923Z"
   },
   {
    "duration": 109,
    "start_time": "2022-12-01T18:04:25.942Z"
   },
   {
    "duration": 6,
    "start_time": "2022-12-01T18:04:26.053Z"
   },
   {
    "duration": 7,
    "start_time": "2022-12-01T18:04:26.060Z"
   },
   {
    "duration": 196,
    "start_time": "2022-12-01T18:04:26.068Z"
   },
   {
    "duration": 6726,
    "start_time": "2022-12-01T18:04:26.266Z"
   },
   {
    "duration": 9,
    "start_time": "2022-12-01T18:04:32.997Z"
   },
   {
    "duration": 337,
    "start_time": "2022-12-01T18:04:33.008Z"
   },
   {
    "duration": 283,
    "start_time": "2022-12-01T18:04:33.347Z"
   },
   {
    "duration": 3039,
    "start_time": "2022-12-01T18:04:33.632Z"
   },
   {
    "duration": 26,
    "start_time": "2022-12-01T18:04:36.672Z"
   },
   {
    "duration": 432,
    "start_time": "2022-12-01T18:04:36.700Z"
   },
   {
    "duration": 304,
    "start_time": "2022-12-01T18:04:37.134Z"
   },
   {
    "duration": 301,
    "start_time": "2022-12-01T18:04:37.439Z"
   },
   {
    "duration": 4,
    "start_time": "2022-12-01T18:04:37.742Z"
   },
   {
    "duration": 18,
    "start_time": "2022-12-01T18:04:37.748Z"
   },
   {
    "duration": 7,
    "start_time": "2022-12-01T18:04:37.767Z"
   },
   {
    "duration": 39,
    "start_time": "2022-12-01T18:04:37.775Z"
   },
   {
    "duration": 9,
    "start_time": "2022-12-01T18:04:37.816Z"
   },
   {
    "duration": 9,
    "start_time": "2022-12-01T18:04:37.827Z"
   },
   {
    "duration": 11,
    "start_time": "2022-12-01T18:04:37.837Z"
   },
   {
    "duration": 1315,
    "start_time": "2022-12-02T12:58:35.975Z"
   },
   {
    "duration": 310,
    "start_time": "2022-12-02T12:58:37.293Z"
   },
   {
    "duration": 5,
    "start_time": "2022-12-02T12:58:37.606Z"
   },
   {
    "duration": 24,
    "start_time": "2022-12-02T12:58:37.613Z"
   },
   {
    "duration": 31,
    "start_time": "2022-12-02T12:58:37.640Z"
   },
   {
    "duration": 31,
    "start_time": "2022-12-02T12:58:37.673Z"
   },
   {
    "duration": 23,
    "start_time": "2022-12-02T12:58:37.705Z"
   },
   {
    "duration": 41,
    "start_time": "2022-12-02T12:58:37.730Z"
   },
   {
    "duration": 18,
    "start_time": "2022-12-02T12:58:37.779Z"
   },
   {
    "duration": 24,
    "start_time": "2022-12-02T12:58:37.799Z"
   },
   {
    "duration": 13,
    "start_time": "2022-12-02T12:58:37.824Z"
   },
   {
    "duration": 63,
    "start_time": "2022-12-02T12:58:37.839Z"
   },
   {
    "duration": 122,
    "start_time": "2022-12-02T12:58:37.904Z"
   },
   {
    "duration": 7,
    "start_time": "2022-12-02T12:58:38.030Z"
   },
   {
    "duration": 13,
    "start_time": "2022-12-02T12:58:38.039Z"
   },
   {
    "duration": 246,
    "start_time": "2022-12-02T12:58:38.055Z"
   },
   {
    "duration": 8388,
    "start_time": "2022-12-02T12:58:38.304Z"
   },
   {
    "duration": 7,
    "start_time": "2022-12-02T12:58:46.694Z"
   },
   {
    "duration": 345,
    "start_time": "2022-12-02T12:58:46.703Z"
   },
   {
    "duration": 360,
    "start_time": "2022-12-02T12:58:47.050Z"
   },
   {
    "duration": 3874,
    "start_time": "2022-12-02T12:58:47.411Z"
   },
   {
    "duration": 18,
    "start_time": "2022-12-02T12:58:51.288Z"
   },
   {
    "duration": 521,
    "start_time": "2022-12-02T12:58:51.309Z"
   },
   {
    "duration": 360,
    "start_time": "2022-12-02T12:58:51.831Z"
   },
   {
    "duration": 326,
    "start_time": "2022-12-02T12:58:52.200Z"
   },
   {
    "duration": 5,
    "start_time": "2022-12-02T12:58:52.528Z"
   },
   {
    "duration": 38,
    "start_time": "2022-12-02T12:58:52.534Z"
   },
   {
    "duration": 25,
    "start_time": "2022-12-02T12:58:52.574Z"
   },
   {
    "duration": 13,
    "start_time": "2022-12-02T12:58:52.601Z"
   },
   {
    "duration": 10,
    "start_time": "2022-12-02T12:58:52.616Z"
   },
   {
    "duration": 49,
    "start_time": "2022-12-02T12:58:52.627Z"
   },
   {
    "duration": 14,
    "start_time": "2022-12-02T12:58:52.686Z"
   }
  ],
  "kernelspec": {
   "display_name": "Python 3 (ipykernel)",
   "language": "python",
   "name": "python3"
  },
  "language_info": {
   "codemirror_mode": {
    "name": "ipython",
    "version": 3
   },
   "file_extension": ".py",
   "mimetype": "text/x-python",
   "name": "python",
   "nbconvert_exporter": "python",
   "pygments_lexer": "ipython3",
   "version": "3.9.13"
  },
  "toc": {
   "base_numbering": 1,
   "nav_menu": {},
   "number_sections": true,
   "sideBar": true,
   "skip_h1_title": true,
   "title_cell": "Содержание",
   "title_sidebar": "Contents",
   "toc_cell": true,
   "toc_position": {},
   "toc_section_display": true,
   "toc_window_display": true
  }
 },
 "nbformat": 4,
 "nbformat_minor": 2
}
