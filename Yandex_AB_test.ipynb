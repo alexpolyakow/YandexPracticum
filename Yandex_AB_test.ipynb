{
 "cells": [
  {
   "cell_type": "markdown",
   "metadata": {},
   "source": [
    "### Описание данных\n",
    "Данные для первой части\n",
    "Файл /datasets/hypothesis.csv.\n",
    "* Hypothesis — краткое описание гипотезы;\n",
    "* Reach — охват пользователей по 10-балльной шкале;\n",
    "* Impact — влияние на пользователей по 10-балльной шкале;\n",
    "* Confidence — уверенность в гипотезе по 10-балльной шкале;\n",
    "* Efforts — затраты ресурсов на проверку гипотезы по 10-балльной шкале. Чем больше значение Efforts, тем дороже проверка гипотезы.\n",
    "\n",
    "Данные для второй части \n",
    "\n",
    "Файл /datasets/orders.csv. \n",
    "\n",
    "* transactionId — идентификатор заказа;\n",
    "* visitorId — идентификатор пользователя, совершившего заказ;\n",
    "* date — дата, когда был совершён заказ;\n",
    "* revenue — выручка заказа;\n",
    "* group — группа A/B-теста, в которую попал заказ.\n",
    "\n",
    "Файл /datasets/visitors.csv. \n",
    "\n",
    "* date — дата;\n",
    "* group — группа A/B-теста;\n",
    "* visitors — количество пользователей в указанную дату в указанной группе A/B-теста"
   ]
  },
  {
   "cell_type": "markdown",
   "metadata": {},
   "source": [
    "# Описание проекта\n",
    "Контекст\n",
    "Вы — аналитик крупного интернет-магазина. Вместе с отделом маркетинга вы подготовили список гипотез для увеличения выручки.\n",
    "Приоритизируйте гипотезы, запустите A/B-тест и проанализируйте результаты. \n",
    "\n",
    "# Часть 1. Приоритизация гипотез.\n",
    "\n",
    "В файле /datasets/hypothesis.csv 9 гипотез по увеличению выручки интернет-магазина с указанными параметрами Reach, Impact, Confidence, Effort.\n",
    "Задача\n",
    "Примените фреймворк ICE для приоритизации гипотез. Отсортируйте их по убыванию приоритета.\n",
    "Примените фреймворк RICE для приоритизации гипотез. Отсортируйте их по убыванию приоритета.\n",
    "Укажите, как изменилась приоритизация гипотез при применении RICE вместо ICE. Объясните, почему так произошло.\n",
    "\n",
    "# Часть 2. Анализ A/B-теста\n",
    "\n",
    "Вы провели A/B-тест и получили результаты, которые описаны в файлах /datasets/orders.csv и /datasets/visitors.csv.\n",
    "Задача\n",
    "Проанализируйте A/B-тест:\n",
    "- Постройте график кумулятивной выручки по группам. Сделайте выводы и предположения.\n",
    "- Постройте график кумулятивного среднего чека по группам. Сделайте выводы и предположения.\n",
    "- Постройте график относительного изменения кумулятивного среднего чека группы B к группе A. Сделайте выводы и предположения.\n",
    "- Постройте график кумулятивного среднего количества заказов на посетителя по группам. Сделайте выводы и предположения.\n",
    "- Постройте график относительного изменения кумулятивного среднего количества заказов на посетителя группы B к группе A. Сделайте выводы и предположения.\n",
    "- Постройте точечный график количества заказов по пользователям. Сделайте выводы и предположения.\n",
    "- Посчитайте 95-й и 99-й перцентили количества заказов на пользователя. Выберите границу для определения аномальных пользователей.\n",
    "- Постройте точечный график стоимостей заказов. Сделайте выводы и предположения.\n",
    "- Посчитайте 95-й и 99-й перцентили стоимости заказов. Выберите границу для определения аномальных заказов.\n",
    "- Посчитайте статистическую значимость различий в среднем количестве заказов на посетителя между группами по «сырым» данным. Сделайте выводы и предположения.\n",
    "- Посчитайте статистическую значимость различий в среднем чеке заказа между группами по «сырым» данным. Сделайте выводы и предположения.\n",
    "- Посчитайте статистическую значимость различий в среднем количестве заказов на посетителя между группами по «очищенным» данным. Сделайте выводы и предположения.\n",
    "- Посчитайте статистическую значимость различий в среднем чеке заказа между группами по «очищенным» данным. Сделайте выводы и предположения.\n",
    "- Примите решение по результатам теста и объясните его. Варианты решений:\n",
    "1. Остановить тест, зафиксировать победу одной из групп.\n",
    "2. Остановить тест, зафиксировать отсутствие различий между группами.\n",
    "3. Продолжить тест."
   ]
  },
  {
   "cell_type": "markdown",
   "metadata": {},
   "source": [
    "## Часть 1. Добавим необходимые библеотеки"
   ]
  },
  {
   "cell_type": "code",
   "execution_count": 1,
   "metadata": {},
   "outputs": [],
   "source": [
    "import pandas as pd\n",
    "import numpy as np\n",
    "import matplotlib.pyplot as plt\n",
    "from pandas.plotting import register_matplotlib_converters\n",
    "import seaborn as sns\n",
    "import math\n",
    "import datetime as dt\n",
    "import scipy.stats as stats\n",
    "import warnings\n",
    "from scipy import stats as st"
   ]
  },
  {
   "cell_type": "markdown",
   "metadata": {},
   "source": [
    "Загрузим данные через try | except"
   ]
  },
  {
   "cell_type": "code",
   "execution_count": 2,
   "metadata": {},
   "outputs": [],
   "source": [
    "try:\n",
    "    hypothesis, orders, visitors = (\n",
    "        pd.read_csv('/datasets/hypothesis.csv'),\n",
    "        pd.read_csv('/datasets/orders.csv'),\n",
    "        pd.read_csv('/datasets/visitors.csv')\n",
    "    )\n",
    "\n",
    "\n",
    "except:\n",
    "    hypothesis, orders, visitors = (\n",
    "        pd.read_csv('hypothesis.csv'),\n",
    "        pd.read_csv('orders.csv'),\n",
    "        pd.read_csv('visitors.csv')\n",
    "    )"
   ]
  },
  {
   "cell_type": "code",
   "execution_count": 3,
   "metadata": {},
   "outputs": [
    {
     "data": {
      "text/html": [
       "<div>\n",
       "<style scoped>\n",
       "    .dataframe tbody tr th:only-of-type {\n",
       "        vertical-align: middle;\n",
       "    }\n",
       "\n",
       "    .dataframe tbody tr th {\n",
       "        vertical-align: top;\n",
       "    }\n",
       "\n",
       "    .dataframe thead th {\n",
       "        text-align: right;\n",
       "    }\n",
       "</style>\n",
       "<table border=\"1\" class=\"dataframe\">\n",
       "  <thead>\n",
       "    <tr style=\"text-align: right;\">\n",
       "      <th></th>\n",
       "      <th>Hypothesis</th>\n",
       "      <th>Reach</th>\n",
       "      <th>Impact</th>\n",
       "      <th>Confidence</th>\n",
       "      <th>Efforts</th>\n",
       "    </tr>\n",
       "  </thead>\n",
       "  <tbody>\n",
       "    <tr>\n",
       "      <th>0</th>\n",
       "      <td>Добавить два новых канала привлечения трафика,...</td>\n",
       "      <td>3</td>\n",
       "      <td>10</td>\n",
       "      <td>8</td>\n",
       "      <td>6</td>\n",
       "    </tr>\n",
       "    <tr>\n",
       "      <th>1</th>\n",
       "      <td>Запустить собственную службу доставки, что сок...</td>\n",
       "      <td>2</td>\n",
       "      <td>5</td>\n",
       "      <td>4</td>\n",
       "      <td>10</td>\n",
       "    </tr>\n",
       "    <tr>\n",
       "      <th>2</th>\n",
       "      <td>Добавить блоки рекомендаций товаров на сайт ин...</td>\n",
       "      <td>8</td>\n",
       "      <td>3</td>\n",
       "      <td>7</td>\n",
       "      <td>3</td>\n",
       "    </tr>\n",
       "    <tr>\n",
       "      <th>3</th>\n",
       "      <td>Изменить структура категорий, что увеличит кон...</td>\n",
       "      <td>8</td>\n",
       "      <td>3</td>\n",
       "      <td>3</td>\n",
       "      <td>8</td>\n",
       "    </tr>\n",
       "    <tr>\n",
       "      <th>4</th>\n",
       "      <td>Изменить цвет фона главной страницы, чтобы уве...</td>\n",
       "      <td>3</td>\n",
       "      <td>1</td>\n",
       "      <td>1</td>\n",
       "      <td>1</td>\n",
       "    </tr>\n",
       "    <tr>\n",
       "      <th>5</th>\n",
       "      <td>Добавить страницу отзывов клиентов о магазине,...</td>\n",
       "      <td>3</td>\n",
       "      <td>2</td>\n",
       "      <td>2</td>\n",
       "      <td>3</td>\n",
       "    </tr>\n",
       "    <tr>\n",
       "      <th>6</th>\n",
       "      <td>Показать на главной странице баннеры с актуаль...</td>\n",
       "      <td>5</td>\n",
       "      <td>3</td>\n",
       "      <td>8</td>\n",
       "      <td>3</td>\n",
       "    </tr>\n",
       "    <tr>\n",
       "      <th>7</th>\n",
       "      <td>Добавить форму подписки на все основные страни...</td>\n",
       "      <td>10</td>\n",
       "      <td>7</td>\n",
       "      <td>8</td>\n",
       "      <td>5</td>\n",
       "    </tr>\n",
       "    <tr>\n",
       "      <th>8</th>\n",
       "      <td>Запустить акцию, дающую скидку на товар в день...</td>\n",
       "      <td>1</td>\n",
       "      <td>9</td>\n",
       "      <td>9</td>\n",
       "      <td>5</td>\n",
       "    </tr>\n",
       "  </tbody>\n",
       "</table>\n",
       "</div>"
      ],
      "text/plain": [
       "                                          Hypothesis  Reach  Impact  \\\n",
       "0  Добавить два новых канала привлечения трафика,...      3      10   \n",
       "1  Запустить собственную службу доставки, что сок...      2       5   \n",
       "2  Добавить блоки рекомендаций товаров на сайт ин...      8       3   \n",
       "3  Изменить структура категорий, что увеличит кон...      8       3   \n",
       "4  Изменить цвет фона главной страницы, чтобы уве...      3       1   \n",
       "5  Добавить страницу отзывов клиентов о магазине,...      3       2   \n",
       "6  Показать на главной странице баннеры с актуаль...      5       3   \n",
       "7  Добавить форму подписки на все основные страни...     10       7   \n",
       "8  Запустить акцию, дающую скидку на товар в день...      1       9   \n",
       "\n",
       "   Confidence  Efforts  \n",
       "0           8        6  \n",
       "1           4       10  \n",
       "2           7        3  \n",
       "3           3        8  \n",
       "4           1        1  \n",
       "5           2        3  \n",
       "6           8        3  \n",
       "7           8        5  \n",
       "8           9        5  "
      ]
     },
     "metadata": {},
     "output_type": "display_data"
    },
    {
     "data": {
      "text/plain": [
       "0"
      ]
     },
     "execution_count": 3,
     "metadata": {},
     "output_type": "execute_result"
    }
   ],
   "source": [
    "# Посмотрим данные hypothesis\n",
    "display(hypothesis)\n",
    "pd.set_option('display.max_colwidth', 130)\n",
    "hypothesis.duplicated().sum()"
   ]
  },
  {
   "cell_type": "code",
   "execution_count": 4,
   "metadata": {},
   "outputs": [
    {
     "data": {
      "text/html": [
       "<div>\n",
       "<style scoped>\n",
       "    .dataframe tbody tr th:only-of-type {\n",
       "        vertical-align: middle;\n",
       "    }\n",
       "\n",
       "    .dataframe tbody tr th {\n",
       "        vertical-align: top;\n",
       "    }\n",
       "\n",
       "    .dataframe thead th {\n",
       "        text-align: right;\n",
       "    }\n",
       "</style>\n",
       "<table border=\"1\" class=\"dataframe\">\n",
       "  <thead>\n",
       "    <tr style=\"text-align: right;\">\n",
       "      <th></th>\n",
       "      <th>transactionId</th>\n",
       "      <th>visitorId</th>\n",
       "      <th>date</th>\n",
       "      <th>revenue</th>\n",
       "      <th>group</th>\n",
       "    </tr>\n",
       "  </thead>\n",
       "  <tbody>\n",
       "    <tr>\n",
       "      <th>0</th>\n",
       "      <td>3667963787</td>\n",
       "      <td>3312258926</td>\n",
       "      <td>2019-08-15</td>\n",
       "      <td>1650</td>\n",
       "      <td>B</td>\n",
       "    </tr>\n",
       "    <tr>\n",
       "      <th>1</th>\n",
       "      <td>2804400009</td>\n",
       "      <td>3642806036</td>\n",
       "      <td>2019-08-15</td>\n",
       "      <td>730</td>\n",
       "      <td>B</td>\n",
       "    </tr>\n",
       "    <tr>\n",
       "      <th>2</th>\n",
       "      <td>2961555356</td>\n",
       "      <td>4069496402</td>\n",
       "      <td>2019-08-15</td>\n",
       "      <td>400</td>\n",
       "      <td>A</td>\n",
       "    </tr>\n",
       "    <tr>\n",
       "      <th>3</th>\n",
       "      <td>3797467345</td>\n",
       "      <td>1196621759</td>\n",
       "      <td>2019-08-15</td>\n",
       "      <td>9759</td>\n",
       "      <td>B</td>\n",
       "    </tr>\n",
       "    <tr>\n",
       "      <th>4</th>\n",
       "      <td>2282983706</td>\n",
       "      <td>2322279887</td>\n",
       "      <td>2019-08-15</td>\n",
       "      <td>2308</td>\n",
       "      <td>B</td>\n",
       "    </tr>\n",
       "    <tr>\n",
       "      <th>...</th>\n",
       "      <td>...</td>\n",
       "      <td>...</td>\n",
       "      <td>...</td>\n",
       "      <td>...</td>\n",
       "      <td>...</td>\n",
       "    </tr>\n",
       "    <tr>\n",
       "      <th>1192</th>\n",
       "      <td>2662137336</td>\n",
       "      <td>3733762160</td>\n",
       "      <td>2019-08-14</td>\n",
       "      <td>6490</td>\n",
       "      <td>B</td>\n",
       "    </tr>\n",
       "    <tr>\n",
       "      <th>1193</th>\n",
       "      <td>2203539145</td>\n",
       "      <td>370388673</td>\n",
       "      <td>2019-08-14</td>\n",
       "      <td>3190</td>\n",
       "      <td>A</td>\n",
       "    </tr>\n",
       "    <tr>\n",
       "      <th>1194</th>\n",
       "      <td>1807773912</td>\n",
       "      <td>573423106</td>\n",
       "      <td>2019-08-14</td>\n",
       "      <td>10550</td>\n",
       "      <td>A</td>\n",
       "    </tr>\n",
       "    <tr>\n",
       "      <th>1195</th>\n",
       "      <td>1947021204</td>\n",
       "      <td>1614305549</td>\n",
       "      <td>2019-08-14</td>\n",
       "      <td>100</td>\n",
       "      <td>A</td>\n",
       "    </tr>\n",
       "    <tr>\n",
       "      <th>1196</th>\n",
       "      <td>3936777065</td>\n",
       "      <td>2108080724</td>\n",
       "      <td>2019-08-15</td>\n",
       "      <td>202740</td>\n",
       "      <td>B</td>\n",
       "    </tr>\n",
       "  </tbody>\n",
       "</table>\n",
       "<p>1197 rows × 5 columns</p>\n",
       "</div>"
      ],
      "text/plain": [
       "      transactionId   visitorId        date  revenue group\n",
       "0        3667963787  3312258926  2019-08-15     1650     B\n",
       "1        2804400009  3642806036  2019-08-15      730     B\n",
       "2        2961555356  4069496402  2019-08-15      400     A\n",
       "3        3797467345  1196621759  2019-08-15     9759     B\n",
       "4        2282983706  2322279887  2019-08-15     2308     B\n",
       "...             ...         ...         ...      ...   ...\n",
       "1192     2662137336  3733762160  2019-08-14     6490     B\n",
       "1193     2203539145   370388673  2019-08-14     3190     A\n",
       "1194     1807773912   573423106  2019-08-14    10550     A\n",
       "1195     1947021204  1614305549  2019-08-14      100     A\n",
       "1196     3936777065  2108080724  2019-08-15   202740     B\n",
       "\n",
       "[1197 rows x 5 columns]"
      ]
     },
     "metadata": {},
     "output_type": "display_data"
    },
    {
     "data": {
      "text/plain": [
       "0"
      ]
     },
     "execution_count": 4,
     "metadata": {},
     "output_type": "execute_result"
    }
   ],
   "source": [
    "# Посмотрим данные orders\n",
    "display(orders)\n",
    "orders.duplicated().sum()"
   ]
  },
  {
   "cell_type": "code",
   "execution_count": 5,
   "metadata": {},
   "outputs": [
    {
     "name": "stdout",
     "output_type": "stream",
     "text": [
      "2019-08-01\n",
      "2019-08-31\n"
     ]
    }
   ],
   "source": [
    "#минимальная и максимальная дата orders\n",
    "print(orders['date'].min())\n",
    "print(orders['date'].max())"
   ]
  },
  {
   "cell_type": "code",
   "execution_count": 6,
   "metadata": {},
   "outputs": [
    {
     "data": {
      "text/html": [
       "<div>\n",
       "<style scoped>\n",
       "    .dataframe tbody tr th:only-of-type {\n",
       "        vertical-align: middle;\n",
       "    }\n",
       "\n",
       "    .dataframe tbody tr th {\n",
       "        vertical-align: top;\n",
       "    }\n",
       "\n",
       "    .dataframe thead th {\n",
       "        text-align: right;\n",
       "    }\n",
       "</style>\n",
       "<table border=\"1\" class=\"dataframe\">\n",
       "  <thead>\n",
       "    <tr style=\"text-align: right;\">\n",
       "      <th></th>\n",
       "      <th>date</th>\n",
       "      <th>group</th>\n",
       "      <th>visitors</th>\n",
       "    </tr>\n",
       "  </thead>\n",
       "  <tbody>\n",
       "    <tr>\n",
       "      <th>0</th>\n",
       "      <td>2019-08-01</td>\n",
       "      <td>A</td>\n",
       "      <td>719</td>\n",
       "    </tr>\n",
       "    <tr>\n",
       "      <th>1</th>\n",
       "      <td>2019-08-02</td>\n",
       "      <td>A</td>\n",
       "      <td>619</td>\n",
       "    </tr>\n",
       "    <tr>\n",
       "      <th>2</th>\n",
       "      <td>2019-08-03</td>\n",
       "      <td>A</td>\n",
       "      <td>507</td>\n",
       "    </tr>\n",
       "    <tr>\n",
       "      <th>3</th>\n",
       "      <td>2019-08-04</td>\n",
       "      <td>A</td>\n",
       "      <td>717</td>\n",
       "    </tr>\n",
       "    <tr>\n",
       "      <th>4</th>\n",
       "      <td>2019-08-05</td>\n",
       "      <td>A</td>\n",
       "      <td>756</td>\n",
       "    </tr>\n",
       "    <tr>\n",
       "      <th>...</th>\n",
       "      <td>...</td>\n",
       "      <td>...</td>\n",
       "      <td>...</td>\n",
       "    </tr>\n",
       "    <tr>\n",
       "      <th>57</th>\n",
       "      <td>2019-08-27</td>\n",
       "      <td>B</td>\n",
       "      <td>720</td>\n",
       "    </tr>\n",
       "    <tr>\n",
       "      <th>58</th>\n",
       "      <td>2019-08-28</td>\n",
       "      <td>B</td>\n",
       "      <td>654</td>\n",
       "    </tr>\n",
       "    <tr>\n",
       "      <th>59</th>\n",
       "      <td>2019-08-29</td>\n",
       "      <td>B</td>\n",
       "      <td>531</td>\n",
       "    </tr>\n",
       "    <tr>\n",
       "      <th>60</th>\n",
       "      <td>2019-08-30</td>\n",
       "      <td>B</td>\n",
       "      <td>490</td>\n",
       "    </tr>\n",
       "    <tr>\n",
       "      <th>61</th>\n",
       "      <td>2019-08-31</td>\n",
       "      <td>B</td>\n",
       "      <td>718</td>\n",
       "    </tr>\n",
       "  </tbody>\n",
       "</table>\n",
       "<p>62 rows × 3 columns</p>\n",
       "</div>"
      ],
      "text/plain": [
       "          date group  visitors\n",
       "0   2019-08-01     A       719\n",
       "1   2019-08-02     A       619\n",
       "2   2019-08-03     A       507\n",
       "3   2019-08-04     A       717\n",
       "4   2019-08-05     A       756\n",
       "..         ...   ...       ...\n",
       "57  2019-08-27     B       720\n",
       "58  2019-08-28     B       654\n",
       "59  2019-08-29     B       531\n",
       "60  2019-08-30     B       490\n",
       "61  2019-08-31     B       718\n",
       "\n",
       "[62 rows x 3 columns]"
      ]
     },
     "metadata": {},
     "output_type": "display_data"
    },
    {
     "data": {
      "text/plain": [
       "0"
      ]
     },
     "execution_count": 6,
     "metadata": {},
     "output_type": "execute_result"
    }
   ],
   "source": [
    "# Посмотрим данные visitors\n",
    "display(visitors)\n",
    "visitors.duplicated().sum()"
   ]
  },
  {
   "cell_type": "code",
   "execution_count": 7,
   "metadata": {},
   "outputs": [
    {
     "name": "stdout",
     "output_type": "stream",
     "text": [
      "2019-08-01\n",
      "2019-08-31\n"
     ]
    }
   ],
   "source": [
    "#минимальная и максимальная дата visitors\n",
    "print(visitors['date'].min())\n",
    "print(visitors['date'].max())"
   ]
  },
  {
   "cell_type": "markdown",
   "metadata": {},
   "source": [
    "Данные без дубликатов, даты совпдают, но есть разница в стиле и записи данных"
   ]
  },
  {
   "cell_type": "code",
   "execution_count": 8,
   "metadata": {},
   "outputs": [
    {
     "data": {
      "text/plain": [
       "Index(['hypothesis', 'reach', 'impact', 'confidence', 'efforts'], dtype='object')"
      ]
     },
     "metadata": {},
     "output_type": "display_data"
    },
    {
     "data": {
      "text/plain": [
       "Index(['transaction_id', 'visitor_id', 'date', 'revenue', 'group'], dtype='object')"
      ]
     },
     "execution_count": 8,
     "metadata": {},
     "output_type": "execute_result"
    }
   ],
   "source": [
    "# Приведем наименования столбцов к \"питонному\" стилю\n",
    "\n",
    "hypothesis.columns = hypothesis.columns.str.lower()\n",
    "orders.columns = [name.replace('Id', '_id') for name in orders.columns]\n",
    "\n",
    "display(hypothesis.columns)\n",
    "orders.columns"
   ]
  },
  {
   "cell_type": "code",
   "execution_count": 9,
   "metadata": {},
   "outputs": [
    {
     "name": "stdout",
     "output_type": "stream",
     "text": [
      "Общее количество пользователей - 1197\n",
      "Общее количество пользователей - ['B' 'A']\n",
      "количество пользователей в группе А - 503\n",
      "количество пользователей в группе В - 586\n"
     ]
    }
   ],
   "source": [
    "# Посмотреть сколько у нас групп в АВ-тесте.Рассмотрим количество пользователей в каждой группе - по таблице с заказами;\n",
    "print('Общее количество пользователей -', orders['group'].count())\n",
    "print('Общее количество пользователей -', orders['group'].unique())\n",
    "print('количество пользователей в группе А -', orders.query('group == \"A\"')['visitor_id'].nunique())\n",
    "print('количество пользователей в группе В -', orders.query('group == \"B\"')['visitor_id'].nunique())"
   ]
  },
  {
   "cell_type": "code",
   "execution_count": 10,
   "metadata": {},
   "outputs": [
    {
     "data": {
      "text/html": [
       "<div>\n",
       "<style scoped>\n",
       "    .dataframe tbody tr th:only-of-type {\n",
       "        vertical-align: middle;\n",
       "    }\n",
       "\n",
       "    .dataframe tbody tr th {\n",
       "        vertical-align: top;\n",
       "    }\n",
       "\n",
       "    .dataframe thead th {\n",
       "        text-align: right;\n",
       "    }\n",
       "</style>\n",
       "<table border=\"1\" class=\"dataframe\">\n",
       "  <thead>\n",
       "    <tr style=\"text-align: right;\">\n",
       "      <th></th>\n",
       "      <th>groups</th>\n",
       "      <th>group_names</th>\n",
       "    </tr>\n",
       "    <tr>\n",
       "      <th>visitor_id</th>\n",
       "      <th></th>\n",
       "      <th></th>\n",
       "    </tr>\n",
       "  </thead>\n",
       "  <tbody>\n",
       "    <tr>\n",
       "      <th>8300375</th>\n",
       "      <td>2</td>\n",
       "      <td>[B, A]</td>\n",
       "    </tr>\n",
       "    <tr>\n",
       "      <th>199603092</th>\n",
       "      <td>2</td>\n",
       "      <td>[A, B]</td>\n",
       "    </tr>\n",
       "    <tr>\n",
       "      <th>232979603</th>\n",
       "      <td>2</td>\n",
       "      <td>[B, A]</td>\n",
       "    </tr>\n",
       "    <tr>\n",
       "      <th>237748145</th>\n",
       "      <td>2</td>\n",
       "      <td>[B, A]</td>\n",
       "    </tr>\n",
       "    <tr>\n",
       "      <th>276558944</th>\n",
       "      <td>2</td>\n",
       "      <td>[B, A]</td>\n",
       "    </tr>\n",
       "  </tbody>\n",
       "</table>\n",
       "</div>"
      ],
      "text/plain": [
       "            groups group_names\n",
       "visitor_id                    \n",
       "8300375          2      [B, A]\n",
       "199603092        2      [A, B]\n",
       "232979603        2      [B, A]\n",
       "237748145        2      [B, A]\n",
       "276558944        2      [B, A]"
      ]
     },
     "metadata": {},
     "output_type": "display_data"
    },
    {
     "data": {
      "text/plain": [
       "58"
      ]
     },
     "execution_count": 10,
     "metadata": {},
     "output_type": "execute_result"
    }
   ],
   "source": [
    "#Посмотрим не попадают ли какие-то пользователи в обе группы - по таблице с заказами\n",
    "duplicated_users = orders.groupby('visitor_id').agg({'group': ['nunique', 'unique']})\n",
    "duplicated_users.columns = ['groups', 'group_names']\n",
    "duplicated_users = duplicated_users.query('groups > 1')\n",
    "display(duplicated_users.head())\n",
    "len(duplicated_users)"
   ]
  },
  {
   "cell_type": "code",
   "execution_count": 11,
   "metadata": {},
   "outputs": [
    {
     "name": "stdout",
     "output_type": "stream",
     "text": [
      "Минимальная дата группы А - 2019-08-01\n",
      "Максимальная дата группы А -  2019-08-31\n",
      "Минимальная дата группы B - 2019-08-01\n",
      "Максимальная дата группы B - 2019-08-31\n"
     ]
    }
   ],
   "source": [
    "#минимальная и максимальная дата visitors\n",
    "print('Минимальная дата группы А -', visitors.query('group == \"A\"')['date'].min())\n",
    "print('Максимальная дата группы А - ', visitors.query('group == \"A\"')['date'].max())\n",
    "#минимальная и максимальная дата visitors\n",
    "print('Минимальная дата группы B -', visitors.query('group == \"B\"')['date'].min())\n",
    "print('Максимальная дата группы B -', visitors.query('group == \"B\"')['date'].max())"
   ]
  },
  {
   "cell_type": "markdown",
   "metadata": {},
   "source": [
    "Всего 58 пользователей которые входят в обе группы. Даты совпадают по обеям группам. "
   ]
  },
  {
   "cell_type": "markdown",
   "metadata": {},
   "source": [
    "### Рассчитаем для каждой из гипотез показатель ICE и отсортируем их по убыванию значения"
   ]
  },
  {
   "cell_type": "code",
   "execution_count": 12,
   "metadata": {},
   "outputs": [
    {
     "name": "stdout",
     "output_type": "stream",
     "text": [
      "                                                                                                     hypothesis  \\\n",
      "8                                                       Запустить акцию, дающую скидку на товар в день рождения   \n",
      "0            Добавить два новых канала привлечения трафика, что позволит привлекать на 30% больше пользователей   \n",
      "7              Добавить форму подписки на все основные страницы, чтобы собрать базу клиентов для email-рассылок   \n",
      "6          Показать на главной странице баннеры с актуальными акциями и распродажами, чтобы увеличить конверсию   \n",
      "2  Добавить блоки рекомендаций товаров на сайт интернет магазина, чтобы повысить конверсию и средний чек заказа   \n",
      "1                                     Запустить собственную службу доставки, что сократит срок доставки заказов   \n",
      "5                      Добавить страницу отзывов клиентов о магазине, что позволит увеличить количество заказов   \n",
      "3           Изменить структура категорий, что увеличит конверсию, т.к. пользователи быстрее найдут нужный товар   \n",
      "4                              Изменить цвет фона главной страницы, чтобы увеличить вовлеченность пользователей   \n",
      "\n",
      "     ICE  \n",
      "8  16.20  \n",
      "0  13.33  \n",
      "7  11.20  \n",
      "6   8.00  \n",
      "2   7.00  \n",
      "1   2.00  \n",
      "5   1.33  \n",
      "3   1.12  \n",
      "4   1.00  \n"
     ]
    }
   ],
   "source": [
    "hypothesis['ICE'] = ((hypothesis['impact']*hypothesis['confidence'])/hypothesis['efforts']).round(2)\n",
    "print(hypothesis[['hypothesis','ICE']].sort_values(by='ICE', ascending=False))"
   ]
  },
  {
   "cell_type": "markdown",
   "metadata": {},
   "source": [
    "### Рассчитаем для каждой из гипотез показатель RICE и отсортируем их по убыванию значения"
   ]
  },
  {
   "cell_type": "code",
   "execution_count": 13,
   "metadata": {},
   "outputs": [
    {
     "name": "stdout",
     "output_type": "stream",
     "text": [
      "                                                                                                     hypothesis  \\\n",
      "7              Добавить форму подписки на все основные страницы, чтобы собрать базу клиентов для email-рассылок   \n",
      "2  Добавить блоки рекомендаций товаров на сайт интернет магазина, чтобы повысить конверсию и средний чек заказа   \n",
      "0            Добавить два новых канала привлечения трафика, что позволит привлекать на 30% больше пользователей   \n",
      "6          Показать на главной странице баннеры с актуальными акциями и распродажами, чтобы увеличить конверсию   \n",
      "8                                                       Запустить акцию, дающую скидку на товар в день рождения   \n",
      "3           Изменить структура категорий, что увеличит конверсию, т.к. пользователи быстрее найдут нужный товар   \n",
      "1                                     Запустить собственную службу доставки, что сократит срок доставки заказов   \n",
      "5                      Добавить страницу отзывов клиентов о магазине, что позволит увеличить количество заказов   \n",
      "4                              Изменить цвет фона главной страницы, чтобы увеличить вовлеченность пользователей   \n",
      "\n",
      "    RICE  \n",
      "7  112.0  \n",
      "2   56.0  \n",
      "0   40.0  \n",
      "6   40.0  \n",
      "8   16.2  \n",
      "3    9.0  \n",
      "1    4.0  \n",
      "5    4.0  \n",
      "4    3.0  \n"
     ]
    }
   ],
   "source": [
    "hypothesis['RICE'] = (hypothesis['impact']*hypothesis['confidence']*hypothesis['reach'])/hypothesis['efforts']\n",
    "print(hypothesis[['hypothesis','RICE']].sort_values(by='RICE', ascending=False))"
   ]
  },
  {
   "cell_type": "markdown",
   "metadata": {},
   "source": [
    "### Часть 1. Общий вывод по первому блоку: Явных дубликатов не обнаружено, привели все столбцы к \"единому\" стилю."
   ]
  },
  {
   "cell_type": "code",
   "execution_count": 14,
   "metadata": {},
   "outputs": [
    {
     "data": {
      "text/html": [
       "<div>\n",
       "<style scoped>\n",
       "    .dataframe tbody tr th:only-of-type {\n",
       "        vertical-align: middle;\n",
       "    }\n",
       "\n",
       "    .dataframe tbody tr th {\n",
       "        vertical-align: top;\n",
       "    }\n",
       "\n",
       "    .dataframe thead th {\n",
       "        text-align: right;\n",
       "    }\n",
       "</style>\n",
       "<table border=\"1\" class=\"dataframe\">\n",
       "  <thead>\n",
       "    <tr style=\"text-align: right;\">\n",
       "      <th></th>\n",
       "      <th>RICE</th>\n",
       "      <th>hypothesis</th>\n",
       "      <th>ICE</th>\n",
       "    </tr>\n",
       "  </thead>\n",
       "  <tbody>\n",
       "    <tr>\n",
       "      <th>7</th>\n",
       "      <td>112.0</td>\n",
       "      <td>Добавить форму подписки на все основные страницы, чтобы собрать базу клиентов для email-рассылок</td>\n",
       "      <td>11.20</td>\n",
       "    </tr>\n",
       "    <tr>\n",
       "      <th>2</th>\n",
       "      <td>56.0</td>\n",
       "      <td>Добавить блоки рекомендаций товаров на сайт интернет магазина, чтобы повысить конверсию и средний чек заказа</td>\n",
       "      <td>7.00</td>\n",
       "    </tr>\n",
       "    <tr>\n",
       "      <th>0</th>\n",
       "      <td>40.0</td>\n",
       "      <td>Добавить два новых канала привлечения трафика, что позволит привлекать на 30% больше пользователей</td>\n",
       "      <td>13.33</td>\n",
       "    </tr>\n",
       "    <tr>\n",
       "      <th>6</th>\n",
       "      <td>40.0</td>\n",
       "      <td>Показать на главной странице баннеры с актуальными акциями и распродажами, чтобы увеличить конверсию</td>\n",
       "      <td>8.00</td>\n",
       "    </tr>\n",
       "    <tr>\n",
       "      <th>8</th>\n",
       "      <td>16.2</td>\n",
       "      <td>Запустить акцию, дающую скидку на товар в день рождения</td>\n",
       "      <td>16.20</td>\n",
       "    </tr>\n",
       "    <tr>\n",
       "      <th>3</th>\n",
       "      <td>9.0</td>\n",
       "      <td>Изменить структура категорий, что увеличит конверсию, т.к. пользователи быстрее найдут нужный товар</td>\n",
       "      <td>1.12</td>\n",
       "    </tr>\n",
       "    <tr>\n",
       "      <th>1</th>\n",
       "      <td>4.0</td>\n",
       "      <td>Запустить собственную службу доставки, что сократит срок доставки заказов</td>\n",
       "      <td>2.00</td>\n",
       "    </tr>\n",
       "    <tr>\n",
       "      <th>5</th>\n",
       "      <td>4.0</td>\n",
       "      <td>Добавить страницу отзывов клиентов о магазине, что позволит увеличить количество заказов</td>\n",
       "      <td>1.33</td>\n",
       "    </tr>\n",
       "    <tr>\n",
       "      <th>4</th>\n",
       "      <td>3.0</td>\n",
       "      <td>Изменить цвет фона главной страницы, чтобы увеличить вовлеченность пользователей</td>\n",
       "      <td>1.00</td>\n",
       "    </tr>\n",
       "  </tbody>\n",
       "</table>\n",
       "</div>"
      ],
      "text/plain": [
       "    RICE  \\\n",
       "7  112.0   \n",
       "2   56.0   \n",
       "0   40.0   \n",
       "6   40.0   \n",
       "8   16.2   \n",
       "3    9.0   \n",
       "1    4.0   \n",
       "5    4.0   \n",
       "4    3.0   \n",
       "\n",
       "                                                                                                     hypothesis  \\\n",
       "7              Добавить форму подписки на все основные страницы, чтобы собрать базу клиентов для email-рассылок   \n",
       "2  Добавить блоки рекомендаций товаров на сайт интернет магазина, чтобы повысить конверсию и средний чек заказа   \n",
       "0            Добавить два новых канала привлечения трафика, что позволит привлекать на 30% больше пользователей   \n",
       "6          Показать на главной странице баннеры с актуальными акциями и распродажами, чтобы увеличить конверсию   \n",
       "8                                                       Запустить акцию, дающую скидку на товар в день рождения   \n",
       "3           Изменить структура категорий, что увеличит конверсию, т.к. пользователи быстрее найдут нужный товар   \n",
       "1                                     Запустить собственную службу доставки, что сократит срок доставки заказов   \n",
       "5                      Добавить страницу отзывов клиентов о магазине, что позволит увеличить количество заказов   \n",
       "4                              Изменить цвет фона главной страницы, чтобы увеличить вовлеченность пользователей   \n",
       "\n",
       "     ICE  \n",
       "7  11.20  \n",
       "2   7.00  \n",
       "0  13.33  \n",
       "6   8.00  \n",
       "8  16.20  \n",
       "3   1.12  \n",
       "1   2.00  \n",
       "5   1.33  \n",
       "4   1.00  "
      ]
     },
     "execution_count": 14,
     "metadata": {},
     "output_type": "execute_result"
    }
   ],
   "source": [
    "pd.set_option('display.max_colwidth', 500)\n",
    "hypothesis[['RICE', 'hypothesis', 'ICE']].sort_values(by='RICE', ascending=False)"
   ]
  },
  {
   "cell_type": "markdown",
   "metadata": {},
   "source": [
    "Хорошо видно различие в обеих таблицах. Главное меняется тройка лидеров : если в ICE это гипотезы с индексами 8, 0, 7 , то в RICE - 7(была на 3 мете), 2(была на 5), 0(на 2); а лидер таблицы ICE - 8 сместился аж на пятыю позицыию, в то время как 2 перешел на второе место с пятого. Такое отличие продиктовано, тем что в фреймворке RICE мы учитываем важный параметр - Reach (скольких пользователей затронет изменение, которое мы хотим внести), и в гипотезах 7 и 2 он очень высок. Поэтому надо предложить для тестирования гипотезу индексом 7."
   ]
  },
  {
   "cell_type": "markdown",
   "metadata": {},
   "source": [
    "## Часть 2. Анализ A/B-теста. Расчет кумулятивных метрик, необходимых для анализа."
   ]
  },
  {
   "cell_type": "code",
   "execution_count": 15,
   "metadata": {},
   "outputs": [
    {
     "data": {
      "text/html": [
       "<div>\n",
       "<style scoped>\n",
       "    .dataframe tbody tr th:only-of-type {\n",
       "        vertical-align: middle;\n",
       "    }\n",
       "\n",
       "    .dataframe tbody tr th {\n",
       "        vertical-align: top;\n",
       "    }\n",
       "\n",
       "    .dataframe thead th {\n",
       "        text-align: right;\n",
       "    }\n",
       "</style>\n",
       "<table border=\"1\" class=\"dataframe\">\n",
       "  <thead>\n",
       "    <tr style=\"text-align: right;\">\n",
       "      <th></th>\n",
       "      <th>date</th>\n",
       "      <th>ordersPerDateA</th>\n",
       "      <th>revenuePerDateA</th>\n",
       "      <th>ordersPerDateB</th>\n",
       "      <th>revenuePerDateB</th>\n",
       "      <th>ordersCummulativeA</th>\n",
       "      <th>revenueCummulativeA</th>\n",
       "      <th>ordersCummulativeB</th>\n",
       "      <th>revenueCummulativeB</th>\n",
       "      <th>visitorsPerDateA</th>\n",
       "      <th>visitorsPerDateB</th>\n",
       "      <th>visitorsCummulativeA</th>\n",
       "      <th>visitorsCummulativeB</th>\n",
       "    </tr>\n",
       "  </thead>\n",
       "  <tbody>\n",
       "    <tr>\n",
       "      <th>0</th>\n",
       "      <td>2019-08-01</td>\n",
       "      <td>24</td>\n",
       "      <td>148579</td>\n",
       "      <td>21</td>\n",
       "      <td>101217</td>\n",
       "      <td>24</td>\n",
       "      <td>148579</td>\n",
       "      <td>21</td>\n",
       "      <td>101217</td>\n",
       "      <td>719</td>\n",
       "      <td>713</td>\n",
       "      <td>719</td>\n",
       "      <td>713</td>\n",
       "    </tr>\n",
       "    <tr>\n",
       "      <th>1</th>\n",
       "      <td>2019-08-02</td>\n",
       "      <td>20</td>\n",
       "      <td>93822</td>\n",
       "      <td>24</td>\n",
       "      <td>165531</td>\n",
       "      <td>44</td>\n",
       "      <td>242401</td>\n",
       "      <td>45</td>\n",
       "      <td>266748</td>\n",
       "      <td>619</td>\n",
       "      <td>581</td>\n",
       "      <td>1338</td>\n",
       "      <td>1294</td>\n",
       "    </tr>\n",
       "    <tr>\n",
       "      <th>2</th>\n",
       "      <td>2019-08-03</td>\n",
       "      <td>24</td>\n",
       "      <td>112473</td>\n",
       "      <td>16</td>\n",
       "      <td>114248</td>\n",
       "      <td>68</td>\n",
       "      <td>354874</td>\n",
       "      <td>61</td>\n",
       "      <td>380996</td>\n",
       "      <td>507</td>\n",
       "      <td>509</td>\n",
       "      <td>1845</td>\n",
       "      <td>1803</td>\n",
       "    </tr>\n",
       "    <tr>\n",
       "      <th>3</th>\n",
       "      <td>2019-08-04</td>\n",
       "      <td>16</td>\n",
       "      <td>70825</td>\n",
       "      <td>17</td>\n",
       "      <td>108571</td>\n",
       "      <td>84</td>\n",
       "      <td>425699</td>\n",
       "      <td>78</td>\n",
       "      <td>489567</td>\n",
       "      <td>717</td>\n",
       "      <td>770</td>\n",
       "      <td>2562</td>\n",
       "      <td>2573</td>\n",
       "    </tr>\n",
       "    <tr>\n",
       "      <th>4</th>\n",
       "      <td>2019-08-05</td>\n",
       "      <td>25</td>\n",
       "      <td>124218</td>\n",
       "      <td>23</td>\n",
       "      <td>92428</td>\n",
       "      <td>109</td>\n",
       "      <td>549917</td>\n",
       "      <td>101</td>\n",
       "      <td>581995</td>\n",
       "      <td>756</td>\n",
       "      <td>707</td>\n",
       "      <td>3318</td>\n",
       "      <td>3280</td>\n",
       "    </tr>\n",
       "  </tbody>\n",
       "</table>\n",
       "</div>"
      ],
      "text/plain": [
       "         date  ordersPerDateA  revenuePerDateA  ordersPerDateB  \\\n",
       "0  2019-08-01              24           148579              21   \n",
       "1  2019-08-02              20            93822              24   \n",
       "2  2019-08-03              24           112473              16   \n",
       "3  2019-08-04              16            70825              17   \n",
       "4  2019-08-05              25           124218              23   \n",
       "\n",
       "   revenuePerDateB  ordersCummulativeA  revenueCummulativeA  \\\n",
       "0           101217                  24               148579   \n",
       "1           165531                  44               242401   \n",
       "2           114248                  68               354874   \n",
       "3           108571                  84               425699   \n",
       "4            92428                 109               549917   \n",
       "\n",
       "   ordersCummulativeB  revenueCummulativeB  visitorsPerDateA  \\\n",
       "0                  21               101217               719   \n",
       "1                  45               266748               619   \n",
       "2                  61               380996               507   \n",
       "3                  78               489567               717   \n",
       "4                 101               581995               756   \n",
       "\n",
       "   visitorsPerDateB  visitorsCummulativeA  visitorsCummulativeB  \n",
       "0               713                   719                   713  \n",
       "1               581                  1338                  1294  \n",
       "2               509                  1845                  1803  \n",
       "3               770                  2562                  2573  \n",
       "4               707                  3318                  3280  "
      ]
     },
     "metadata": {},
     "output_type": "display_data"
    }
   ],
   "source": [
    "#делим visitors по группам и считаем кумулятивные данные по датам\n",
    "# группа А\n",
    "visitorsADaily = visitors[visitors['group'] == 'A'][['date', 'visitors']]\n",
    "visitorsADaily.columns = ['date', 'visitorsPerDateA']\n",
    "\n",
    "visitorsACummulative = visitorsADaily.apply(\n",
    "    lambda x: visitorsADaily[visitorsADaily['date'] <= x['date']].agg(\n",
    "        {'date': 'max', 'visitorsPerDateA': 'sum'}\n",
    "    ),\n",
    "    axis=1,\n",
    ")\n",
    "visitorsACummulative.columns = ['date', 'visitorsCummulativeA']\n",
    "\n",
    "# группа В\n",
    "visitorsBDaily = visitors[visitors['group'] == 'B'][['date', 'visitors']]\n",
    "visitorsBDaily.columns = ['date', 'visitorsPerDateB']\n",
    "\n",
    "visitorsBCummulative = visitorsBDaily.apply(\n",
    "    lambda x: visitorsBDaily[visitorsBDaily['date'] <= x['date']].agg(\n",
    "        {'date': 'max', 'visitorsPerDateB': 'sum'}\n",
    "    ),\n",
    "    axis=1,\n",
    ")\n",
    "visitorsBCummulative.columns = ['date', 'visitorsCummulativeB']\n",
    "\n",
    "\n",
    "#делим orders по группам и считаем кумулятивные данные по датам\n",
    "# группа А\n",
    "ordersADaily = (\n",
    "    orders[orders['group'] == 'A'][['date', 'transaction_id', 'visitor_id', 'revenue']]\n",
    "    .groupby('date', as_index=False)\n",
    "    .agg({'transaction_id': pd.Series.nunique, 'revenue': 'sum'})\n",
    ")\n",
    "ordersADaily.columns = ['date', 'ordersPerDateA', 'revenuePerDateA']\n",
    "\n",
    "ordersACummulative = ordersADaily.apply(\n",
    "    lambda x: ordersADaily[ordersADaily['date'] <= x['date']].agg(\n",
    "        {'date': 'max', 'ordersPerDateA': 'sum', 'revenuePerDateA': 'sum'}\n",
    "    ),\n",
    "    axis=1,\n",
    ").sort_values(by=['date'])\n",
    "ordersACummulative.columns = [\n",
    "    'date',\n",
    "    'ordersCummulativeA',\n",
    "    'revenueCummulativeA',\n",
    "]\n",
    "# группа В\n",
    "ordersBDaily = (\n",
    "    orders[orders['group'] == 'B'][['date', 'transaction_id', 'visitor_id', 'revenue']]\n",
    "    .groupby('date', as_index=False)\n",
    "    .agg({'transaction_id': pd.Series.nunique, 'revenue': 'sum'})\n",
    ")\n",
    "ordersBDaily.columns = ['date', 'ordersPerDateB', 'revenuePerDateB']\n",
    "\n",
    "ordersBCummulative = ordersBDaily.apply(\n",
    "    lambda x: ordersBDaily[ordersBDaily['date'] <= x['date']].agg(\n",
    "        {'date': 'max', 'ordersPerDateB': 'sum', 'revenuePerDateB': 'sum'}\n",
    "    ),\n",
    "    axis=1,\n",
    ").sort_values(by=['date'])\n",
    "ordersBCummulative.columns = [\n",
    "    'date',\n",
    "    'ordersCummulativeB',\n",
    "    'revenueCummulativeB',\n",
    "]\n",
    "\n",
    "#собираем данные в единый фрейм\n",
    "data = (\n",
    "    ordersADaily.merge(\n",
    "        ordersBDaily, left_on='date', right_on='date', how='left'\n",
    "    )\n",
    "    .merge(ordersACummulative, left_on='date', right_on='date', how='left')\n",
    "    .merge(ordersBCummulative, left_on='date', right_on='date', how='left')\n",
    "    .merge(visitorsADaily, left_on='date', right_on='date', how='left')\n",
    "    .merge(visitorsBDaily, left_on='date', right_on='date', how='left')\n",
    "    .merge(visitorsACummulative, left_on='date', right_on='date', how='left')\n",
    "    .merge(visitorsBCummulative, left_on='date', right_on='date', how='left')\n",
    ")\n",
    "\n",
    "display(data.head(5)) "
   ]
  },
  {
   "cell_type": "code",
   "execution_count": 16,
   "metadata": {},
   "outputs": [
    {
     "name": "stdout",
     "output_type": "stream",
     "text": [
      "2019-08-01\n",
      "2019-08-31\n"
     ]
    }
   ],
   "source": [
    "#минимальная и максимальная дата visitors\n",
    "print(data['date'].min())\n",
    "print(data['date'].max())"
   ]
  },
  {
   "cell_type": "markdown",
   "metadata": {},
   "source": [
    "Даты совпдают с исходными данными, можно продолжать."
   ]
  },
  {
   "cell_type": "markdown",
   "metadata": {},
   "source": [
    "Напомним названия столбцов данных:\n",
    "* date — дата;\n",
    "* ordersPerDateA — количество заказов в выбранную дату в группе A;\n",
    "* revenuePerDateA — суммарная выручка в выбранную дату в группе A;\n",
    "* ordersPerDateB — количество заказов в выбранную дату в группе B;\n",
    "* revenuePerDateB — суммарная выручка в выбранную дату в группе B;\n",
    "* ordersCummulativeA — суммарное число заказов до выбранной даты включительно в группе A;\n",
    "* revenueCummulativeA — суммарная выручка до выбранной даты включительно в группе A;\n",
    "* ordersCummulativeB — суммарное количество заказов до выбранной даты включительно в группе B;\n",
    "* revenueCummulativeB — суммарная выручка до выбранной даты включительно в группе B;\n",
    "* visitorsPerDateA — количество пользователей в выбранную дату в группе A;\n",
    "* visitorsPerDateB — количество пользователей в выбранную дату в группе B;\n",
    "* visitorsCummulativeA — количество пользователей до выбранной даты включительно в группе A;\n",
    "* visitorsCummulativeB — количество пользователей до выбранной даты включительно в группе B."
   ]
  },
  {
   "cell_type": "markdown",
   "metadata": {},
   "source": [
    "### Постройте график кумулятивной выручки по группам. Сделайте выводы и предположения."
   ]
  },
  {
   "cell_type": "code",
   "execution_count": 17,
   "metadata": {},
   "outputs": [
    {
     "data": {
      "image/png": "[encoded data removed]",
      "text/plain": [
       "<Figure size 432x288 with 1 Axes>"
      ]
     },
     "metadata": {
      "needs_background": "light"
     },
     "output_type": "display_data"
    }
   ],
   "source": [
    "data[['date','revenueCummulativeA', 'revenueCummulativeB']] .plot(x = 'date',\n",
    "                  grid=True,  title = \"Кумулятивная выручка\").set(\n",
    "                  xlabel = 'дата', ylabel = 'выручка')\n",
    "plt.xticks(rotation=45);"
   ]
  },
  {
   "cell_type": "markdown",
   "metadata": {},
   "source": [
    "Вывод\n",
    "\n",
    "Мы видим, что кумулятивная выручка группы А растет линейно, и она меньше, чем у группы В.\n",
    "При этом в группе В есть резкий скачок в районе 18-го августа, что может сигнализировать о всплесках числа заказов, либо о появлении очень дорогих заказов в выборке."
   ]
  },
  {
   "cell_type": "markdown",
   "metadata": {},
   "source": [
    "### Постройте график кумулятивного среднего чека по группам. Сделайте выводы и предположения."
   ]
  },
  {
   "cell_type": "code",
   "execution_count": 18,
   "metadata": {},
   "outputs": [
    {
     "data": {
      "image/png": "[encoded data removed]",
      "text/plain": [
       "<Figure size 432x288 with 1 Axes>"
      ]
     },
     "metadata": {
      "needs_background": "light"
     },
     "output_type": "display_data"
    }
   ],
   "source": [
    "data['cumulative_average_check_A'] = data['revenueCummulativeA'] / data['ordersCummulativeA']\n",
    "data['cumulative_average_check_B'] = data['revenueCummulativeB'] / data['ordersCummulativeB']\n",
    "\n",
    "data[['date','cumulative_average_check_A', 'cumulative_average_check_B']] .plot(x = 'date',\n",
    "                  grid=True,  title = \"Кумулятивный средний чек\").set(\n",
    "                  xlabel = 'дата', ylabel = 'средний чек')\n",
    "plt.xticks(rotation=45);"
   ]
  },
  {
   "cell_type": "markdown",
   "metadata": {},
   "source": [
    "Вывод\n",
    "\n",
    "Ситуация с кумулятивным средним чеком между группами не так однозначна: мы видим, что кривая группы В в период с 11 по 15 августа падает ниже уровня группы А, но затем резко растет, что еще раз подтверждает, что в группе В в период 18-19 августа была крупная покупка, которая увеличила размер кумулятивного среднего чека."
   ]
  },
  {
   "cell_type": "markdown",
   "metadata": {},
   "source": [
    "### Постройте график относительно различия кумулятивного среднего чека группы B к группе A. "
   ]
  },
  {
   "cell_type": "code",
   "execution_count": 19,
   "metadata": {},
   "outputs": [
    {
     "data": {
      "image/png": "[encoded data removed]",
      "text/plain": [
       "<Figure size 432x288 with 1 Axes>"
      ]
     },
     "metadata": {
      "needs_background": "light"
     },
     "output_type": "display_data"
    }
   ],
   "source": [
    "data['cumulative_average_check'] = data['cumulative_average_check_B'] / data['cumulative_average_check_A']-1\n",
    "\n",
    "\n",
    "data[['date','cumulative_average_check']] .plot(x = 'date',\n",
    "                  grid=True,  \n",
    "                  title = \"Относительное изменение кумулятивного среднего чека\").set(\n",
    "                  xlabel = 'дата');\n",
    "plt.axhline(y=0, color='black', linestyle='--')\n",
    "plt.xticks(rotation=45);"
   ]
  },
  {
   "cell_type": "markdown",
   "metadata": {},
   "source": [
    "Вывод\n",
    "\n",
    "График различия среднего чека говорит о том, что результаты группы B нестабильны: мы наблюдаем относительный рост суммы кумулятивного чека группы В примерно до 7 августа, его резкий спад до 12 августа включительно, такой же резкий подъем до 18 августа,  и в последующем медленный спад, но без резких измененний. Кумулятивная выручка группы В все-таки выше, чем у группы А, но она нестабильна. Возможно дело в выбросах."
   ]
  },
  {
   "cell_type": "markdown",
   "metadata": {},
   "source": [
    "### Постройте график кумулятивного среднего количества заказов на посетителя по группам. Сделайте выводы и предположения."
   ]
  },
  {
   "cell_type": "code",
   "execution_count": 20,
   "metadata": {},
   "outputs": [
    {
     "data": {
      "image/png": "[encoded data removed]",
      "text/plain": [
       "<Figure size 432x288 with 1 Axes>"
      ]
     },
     "metadata": {
      "needs_background": "light"
     },
     "output_type": "display_data"
    }
   ],
   "source": [
    "data['cumulative_conversionA'] = data['ordersCummulativeA'] / data['visitorsCummulativeA']\n",
    "data['cumulative_conversionB'] = data['ordersCummulativeB'] / data['visitorsCummulativeB']\n",
    "\n",
    "data[['date','cumulative_conversionA', 'cumulative_conversionB']] .plot(x = 'date',\n",
    "                  grid=True,  \n",
    "                  title = \"Кумулятивная конверсия\").set(\n",
    "                  xlabel = 'дата')\n",
    "plt.xticks(rotation=45);"
   ]
  },
  {
   "cell_type": "markdown",
   "metadata": {},
   "source": [
    "Сначала конверсии колебались, но довольно быстро выровнялись; результат группы В кажется более привлекательным."
   ]
  },
  {
   "cell_type": "markdown",
   "metadata": {},
   "source": [
    "### Постройте график относительного изменения кумулятивного среднего количества заказов на посетителя группы B к группе A. Сделайте выводы и предположения."
   ]
  },
  {
   "cell_type": "code",
   "execution_count": 21,
   "metadata": {},
   "outputs": [
    {
     "data": {
      "image/png": "[encoded data removed]",
      "text/plain": [
       "<Figure size 432x288 with 1 Axes>"
      ]
     },
     "metadata": {
      "needs_background": "light"
     },
     "output_type": "display_data"
    }
   ],
   "source": [
    "\n",
    "data['cumulative_conversion'] = data['cumulative_conversionB'] / data['cumulative_conversionA']-1\n",
    "\n",
    "\n",
    "data[['date','cumulative_conversion']] .plot(x = 'date',\n",
    "                  grid=True,  \n",
    "                  title = \"Относительное изменение кумулятивной среднего количества заказов группы B к группе A\").set(\n",
    "                  xlabel = 'дата');\n",
    "plt.axhline(y=0, color='black', linestyle='--')\n",
    "plt.xticks(rotation=45);"
   ]
  },
  {
   "cell_type": "markdown",
   "metadata": {},
   "source": [
    "Вывод \n",
    "График различия конверсии между группами говорит о том  что результаты группы B стабильно лучше группы A\n",
    "и есть некоторая общая тенденция к его ухудшению.\n",
    "График выше сигнализировали нам о наличии крупных заказов."
   ]
  },
  {
   "cell_type": "markdown",
   "metadata": {},
   "source": [
    "### Постройте точечный график количества заказов по пользователям. Сделайте выводы и предположения."
   ]
  },
  {
   "cell_type": "code",
   "execution_count": 22,
   "metadata": {},
   "outputs": [
    {
     "data": {
      "text/plain": [
       "count    1031.000000\n",
       "mean        1.161009\n",
       "std         0.724919\n",
       "min         1.000000\n",
       "25%         1.000000\n",
       "50%         1.000000\n",
       "75%         1.000000\n",
       "max        11.000000\n",
       "Name: orders, dtype: float64"
      ]
     },
     "metadata": {},
     "output_type": "display_data"
    },
    {
     "data": {
      "image/png": "[encoded data removed]",
      "text/plain": [
       "<Figure size 1080x360 with 1 Axes>"
      ]
     },
     "metadata": {
      "needs_background": "light"
     },
     "output_type": "display_data"
    }
   ],
   "source": [
    "orders_by_users = (\n",
    "    orders.groupby('visitor_id', as_index=False)\n",
    "    .agg({'transaction_id': 'nunique'})\n",
    ")\n",
    "orders_by_users.columns =  ['visitor_id', 'orders']\n",
    "display(orders_by_users['orders'].describe())\n",
    "x_values = pd.Series(range(0,len(orders_by_users)))\n",
    "\n",
    "plt.figure(figsize=(15,5))\n",
    "plt.grid()\n",
    "plt.title('График количества заказов по пользователям')\n",
    "plt.scatter(x_values, orders_by_users['orders'], alpha=0.5);"
   ]
  },
  {
   "cell_type": "markdown",
   "metadata": {},
   "source": [
    "Вывод\n",
    "Много пользователей с 2-3 заказами. Все что больше явно выбросы.\n",
    "Посчитаем 95-й и 99-й перцентили количества заказов на пользователя и выберем границу для определения аномальных пользователей."
   ]
  },
  {
   "cell_type": "markdown",
   "metadata": {},
   "source": [
    "### Посчитайте 95-й и 99-й перцентили количества заказов на пользователя. Выберите границу для определения аномальных пользователей."
   ]
  },
  {
   "cell_type": "code",
   "execution_count": 23,
   "metadata": {},
   "outputs": [
    {
     "data": {
      "text/plain": [
       "array([2., 4.])"
      ]
     },
     "execution_count": 23,
     "metadata": {},
     "output_type": "execute_result"
    }
   ],
   "source": [
    "np.percentile(orders_by_users['orders'], [95, 99])"
   ]
  },
  {
   "cell_type": "markdown",
   "metadata": {},
   "source": [
    "В группах не более 1 % клиентов, которые оформили более 4 заказов, и не более 5% оформивших более 2 заказов"
   ]
  },
  {
   "cell_type": "markdown",
   "metadata": {},
   "source": [
    "### Постройте точечный график стоимостей заказов. Сделайте выводы и предположения."
   ]
  },
  {
   "cell_type": "code",
   "execution_count": 24,
   "metadata": {},
   "outputs": [
    {
     "data": {
      "image/png": "[encoded data removed]",
      "text/plain": [
       "<Figure size 432x288 with 1 Axes>"
      ]
     },
     "metadata": {
      "needs_background": "light"
     },
     "output_type": "display_data"
    }
   ],
   "source": [
    "orders_a = orders[orders['group']=='A']\n",
    "x_values_a = pd.Series(range(0,len(orders_a['revenue'])))\n",
    "orders_b = orders[orders['group']=='B']\n",
    "x_values_b = pd.Series(range(len(orders_a['revenue'])+1,len(orders_b['revenue'])+1+len(orders_a['revenue'])))\n",
    "\n",
    "plt.scatter(x_values_a, orders_a['revenue'], label='A')\n",
    "plt.scatter(x_values_b, orders_b['revenue'], label='B')\n",
    "plt.ylabel(\"Стоимость заказов\")\n",
    "plt.title(\"Точечный график стоимости заказов по группам\")\n",
    "plt.grid()\n",
    "plt.ticklabel_format(axis='y',style='plain');"
   ]
  },
  {
   "cell_type": "markdown",
   "metadata": {},
   "source": [
    "Вывод\n",
    "У подавляющего большинства пользователей обоих групп сумма заказа не превышает 10 тыс. рублей, порог заказов не превышает 100 тыс руб. Тем не менее на графике группы В можно заметить один аномально большой заказ, превышающий 1,2 млн.руб. Судя по всему это и есть причина резкого скачка кумулятивного среднего чека 18 августа. В остальном группы очень похожи между собой."
   ]
  },
  {
   "cell_type": "code",
   "execution_count": 25,
   "metadata": {},
   "outputs": [
    {
     "data": {
      "image/png": "[encoded data removed]",
      "text/plain": [
       "<Figure size 432x288 with 1 Axes>"
      ]
     },
     "metadata": {
      "needs_background": "light"
     },
     "output_type": "display_data"
    }
   ],
   "source": [
    "\n",
    "# строим точечную диаграмму\n",
    "plt.ylim(0, 120000)\n",
    "plt.scatter(x_values_a, orders_a['revenue'], label='A')\n",
    "plt.scatter(x_values_b, orders_b['revenue'], label='B')\n",
    "plt.ylabel(\"Стоимость заказов\")\n",
    "plt.title(\"Точечный график стоимости заказов по группам\")\n",
    "plt.show();"
   ]
  },
  {
   "cell_type": "markdown",
   "metadata": {},
   "source": [
    "### Посчитайте 95-й и 99-й перцентили стоимости заказов. Выберите границу для определения аномальных заказов."
   ]
  },
  {
   "cell_type": "code",
   "execution_count": 26,
   "metadata": {},
   "outputs": [
    {
     "name": "stdout",
     "output_type": "stream",
     "text": [
      "[28000.  58233.2]\n"
     ]
    }
   ],
   "source": [
    "\n",
    "print(np.percentile(orders['revenue'], [95, 99])) "
   ]
  },
  {
   "cell_type": "markdown",
   "metadata": {},
   "source": [
    "В группах не более 5% заказов на сумму свыше 2800 рублей и не более 1% -на сумму свыше 58233 руб."
   ]
  },
  {
   "cell_type": "markdown",
   "metadata": {},
   "source": [
    "### Постройте точечный график стоимостей заказов. Сделайте выводы и предположения."
   ]
  },
  {
   "cell_type": "code",
   "execution_count": 27,
   "metadata": {},
   "outputs": [
    {
     "data": {
      "image/png": "[encoded data removed]",
      "text/plain": [
       "<Figure size 1080x360 with 1 Axes>"
      ]
     },
     "metadata": {
      "needs_background": "light"
     },
     "output_type": "display_data"
    }
   ],
   "source": [
    "x_values = pd.Series(range(0,len(orders['revenue'])))\n",
    "plt.figure(figsize=(15,5))\n",
    "plt.grid()\n",
    "plt.title('График стоимостей заказов')\n",
    "plt.scatter(x_values, orders['revenue'], alpha=0.5);"
   ]
  },
  {
   "cell_type": "markdown",
   "metadata": {},
   "source": [
    "Вывод\n",
    "У подавляющего большинства пользователей обоих групп сумма заказа не превышает 10 тыс. рублей, порог заказов не превышает 100 тыс руб. "
   ]
  },
  {
   "cell_type": "markdown",
   "metadata": {},
   "source": [
    "Как видим из преведенных графиков выше больше всего пользователей которые совершили 1 заказ и суммой не более 10 тыс. Тех кто совершили 2 заказа уже не так много. Те кто совершил 3 заказа совсем мало. Все что выше 3 заказов и сумма более 40000 тыс - явно уже аномалия."
   ]
  },
  {
   "cell_type": "markdown",
   "metadata": {},
   "source": [
    "### Посчитайте статистическую значимость различий в среднем количестве заказов на посетителя между группами по «сырым» данным. Сделайте выводы и предположения."
   ]
  },
  {
   "cell_type": "code",
   "execution_count": 28,
   "metadata": {},
   "outputs": [],
   "source": [
    "ordersByUsersA = (\n",
    "    orders[orders['group'] == 'A']\n",
    "    .groupby('visitor_id', as_index=False)\n",
    "    .agg({'transaction_id': pd.Series.nunique})\n",
    ")\n",
    "ordersByUsersA.columns = ['userId', 'orders']\n",
    "\n",
    "ordersByUsersB = (\n",
    "    orders[orders['group'] == 'B']\n",
    "    .groupby('visitor_id', as_index=False)\n",
    "    .agg({'transaction_id': pd.Series.nunique})\n",
    ")\n",
    "ordersByUsersB.columns = ['visitor_id', 'orders'] "
   ]
  },
  {
   "cell_type": "code",
   "execution_count": 29,
   "metadata": {},
   "outputs": [
    {
     "data": {
      "text/plain": [
       "0        0\n",
       "1        0\n",
       "2        0\n",
       "3        0\n",
       "4        0\n",
       "        ..\n",
       "18228    0\n",
       "18229    0\n",
       "18230    0\n",
       "18231    0\n",
       "18232    0\n",
       "Name: orders, Length: 18233, dtype: int64"
      ]
     },
     "execution_count": 29,
     "metadata": {},
     "output_type": "execute_result"
    }
   ],
   "source": [
    "pd.Series(0, index=np.arange(data['visitorsPerDateA'].sum() - len(ordersByUsersA['orders'])), name='orders')\n",
    "  "
   ]
  },
  {
   "cell_type": "code",
   "execution_count": 30,
   "metadata": {},
   "outputs": [
    {
     "data": {
      "text/plain": [
       "[0      1\n",
       " 1      1\n",
       " 2      1\n",
       " 3      1\n",
       " 4      1\n",
       "       ..\n",
       " 498    1\n",
       " 499    7\n",
       " 500    1\n",
       " 501    1\n",
       " 502    1\n",
       " Name: orders, Length: 503, dtype: int64,\n",
       " 0        0\n",
       " 1        0\n",
       " 2        0\n",
       " 3        0\n",
       " 4        0\n",
       "         ..\n",
       " 18228    0\n",
       " 18229    0\n",
       " 18230    0\n",
       " 18231    0\n",
       " 18232    0\n",
       " Name: orders, Length: 18233, dtype: int64]"
      ]
     },
     "execution_count": 30,
     "metadata": {},
     "output_type": "execute_result"
    }
   ],
   "source": [
    "[ordersByUsersA['orders'],pd.Series(0, index=np.arange(data['visitorsPerDateA'].sum() - len(ordersByUsersA['orders'])), name='orders')] "
   ]
  },
  {
   "cell_type": "markdown",
   "metadata": {},
   "source": [
    "Переменные sampleA и sampleB, в которых пользователям из разных групп будет соответствовать количество заказов. Тем, кто ничего не заказал, будут соответствовать нули. Это нужно, чтобы подготовить выборки к проверке критерием Манна-Уитни."
   ]
  },
  {
   "cell_type": "code",
   "execution_count": 31,
   "metadata": {},
   "outputs": [],
   "source": [
    "sampleA = pd.concat([ordersByUsersA['orders'],pd.Series(0, index=np.arange(data['visitorsPerDateA'].sum() - len(ordersByUsersA['orders'])), name='orders')],axis=0)\n",
    "\n",
    "sampleB = pd.concat([ordersByUsersB['orders'],pd.Series(0, index=np.arange(data['visitorsPerDateB'].sum() - len(ordersByUsersB['orders'])), name='orders')],axis=0) "
   ]
  },
  {
   "cell_type": "markdown",
   "metadata": {},
   "source": [
    "Сформулируем гипотезы:\n",
    "\n",
    "Н0 :статистически значимых различий в конверсии между группами нет\n",
    "\n",
    "Н1 : статистически значимые различия в конверсии между группами есть\n",
    "\n",
    "Для тестирования воспользуемся критерием Манна-Уитни, уровнем статистической значимости примем значение 0,05"
   ]
  },
  {
   "cell_type": "code",
   "execution_count": 32,
   "metadata": {},
   "outputs": [
    {
     "name": "stdout",
     "output_type": "stream",
     "text": [
      "p-value = 0.017\n",
      "Относительный показатель 'B' и 'A' = 0.138\n"
     ]
    }
   ],
   "source": [
    "ordersByUsersA = (\n",
    "    orders[orders['group'] == 'A']\n",
    "    .groupby('visitor_id', as_index=False)\n",
    "    .agg({'transaction_id': pd.Series.nunique})\n",
    ")\n",
    "ordersByUsersA.columns = ['userId', 'orders']\n",
    "\n",
    "ordersByUsersB = (\n",
    "    orders[orders['group'] == 'B']\n",
    "    .groupby('visitor_id', as_index=False)\n",
    "    .agg({'transaction_id': pd.Series.nunique})\n",
    ")\n",
    "ordersByUsersB.columns = ['userId', 'orders']\n",
    "\n",
    "sampleA = pd.concat(\n",
    "    [\n",
    "        ordersByUsersA['orders'],\n",
    "        pd.Series(\n",
    "            0,\n",
    "            index=np.arange(\n",
    "                data['visitorsPerDateA'].sum() - len(ordersByUsersA['orders'])\n",
    "            ),\n",
    "            name='orders',\n",
    "        ),\n",
    "    ],\n",
    "    axis=0,\n",
    ")\n",
    "\n",
    "sampleB = pd.concat(\n",
    "    [\n",
    "        ordersByUsersB['orders'],\n",
    "        pd.Series(\n",
    "            0,\n",
    "            index=np.arange(\n",
    "                data['visitorsPerDateB'].sum() - len(ordersByUsersB['orders'])\n",
    "            ),\n",
    "            name='orders',\n",
    "        ),\n",
    "    ],\n",
    "    axis=0,\n",
    ")\n",
    "\n",
    "print(\"p-value = {0:.3f}\".format(stats.mannwhitneyu(sampleA, sampleB)[1]))\n",
    "\n",
    "print(\"Относительный показатель 'B' и 'A' = {0:.3f}\".format(sampleB.mean() / sampleA.mean() - 1))"
   ]
  },
  {
   "cell_type": "markdown",
   "metadata": {},
   "source": [
    "Вывод: p-value = 0.017 меньше 0.05. Значит, нулевую гипотезу о том, что статистически значимых различий в конверсии между группами нет, - отвергаем. Это значит: по «сырым» данным различия в конверсии групп A и B есть. А относительный выигрыш группы \"B\" над \"A\" равен 13.8% .*"
   ]
  },
  {
   "cell_type": "markdown",
   "metadata": {},
   "source": [
    "### Посчитайте статистическую значимость различий в среднем чеке заказа между группами по «сырым» данным. Сделайте выводы и предположения."
   ]
  },
  {
   "cell_type": "markdown",
   "metadata": {},
   "source": [
    "Чтобы рассчитать статистическую значимость различий в среднем чеке между сегментами, передадим критерию mannwhitneyu() данные о выручке с заказов, а также найдём относительные различия в среднем чеке между группами.\n",
    "\n",
    "Сформулируем гипотезы:\n",
    "\n",
    "Н0 :статистически значимых различий в среднем чеке заказа между группами нет\n",
    "\n",
    "Н1 : статистически значимые различия в среднем чеке заказа между группами есть\n",
    "\n",
    "Для тестирования воспользуемся тестом Манна-Уитни, уровнем статистической значимости примем значение 0,05"
   ]
  },
  {
   "cell_type": "code",
   "execution_count": 33,
   "metadata": {},
   "outputs": [
    {
     "name": "stdout",
     "output_type": "stream",
     "text": [
      "p-value = 0.729\n",
      "Относительный показатель 'B' и 'A' = 0.259\n"
     ]
    }
   ],
   "source": [
    "print(\"p-value = {0:.3f}\".format(stats.mannwhitneyu(orders[orders['group']=='A']['revenue'], orders[orders['group']=='B']['revenue'])[1]))\n",
    "print(\"Относительный показатель 'B' и 'A' = {0:.3f}\".format(orders[orders['group']=='B']['revenue'].mean()/orders[orders['group']=='A']['revenue'].mean()-1)) "
   ]
  },
  {
   "cell_type": "markdown",
   "metadata": {},
   "source": [
    "По \"сырым\" данным значение p-value = 0.729, что значительно больше уровня статистической значимости, следовательно гипотезу о том, что различий в сумме среднего чека между группами нет, не отвергаем. Относительная разница суммы среднего чека между группами составила 25.9%- на столько сумма среднего чека группы В больше суммы среднего чека группы А"
   ]
  },
  {
   "cell_type": "markdown",
   "metadata": {},
   "source": [
    "Вывод\n",
    "\n",
    "Гипотеза о том, что в \"сырых\" данных суммы среднего чека в обоих группах равны, с большой степенью вероятности не отвергнута, но относительная разница суммы среднего чека между группами составила 25.9%- на столько сумма среднего чека группы В больше суммы среднего чека группы А. Возможно причина такого различия- в выбросах."
   ]
  },
  {
   "cell_type": "markdown",
   "metadata": {},
   "source": [
    "### Посчитайте статистическую значимость различий в среднем количестве заказов на посетителя между группами по «очищенным» данным. Сделайте выводы и предположения."
   ]
  },
  {
   "cell_type": "code",
   "execution_count": 34,
   "metadata": {},
   "outputs": [
    {
     "name": "stdout",
     "output_type": "stream",
     "text": [
      "2.0\n",
      "58233.19999999999\n",
      "1099    148427295\n",
      "18      199603092\n",
      "23      237748145\n",
      "37      249864742\n",
      "68      457167155\n",
      "dtype: int64\n",
      "Всего аномальных пользователей = 31\n"
     ]
    }
   ],
   "source": [
    "manyOrders = np.percentile(orders_by_users['orders'], 95) \n",
    "print(manyOrders)\n",
    "expensiveOrders = np.percentile(orders['revenue'], 99)\n",
    "print(expensiveOrders)\n",
    "\n",
    "usersWithManyOrders = pd.concat([ordersByUsersA[ordersByUsersA['orders'] > manyOrders]['userId'], ordersByUsersB[ordersByUsersB['orders'] > manyOrders]['userId']], axis = 0)\n",
    "usersWithExpensiveOrders = orders[orders['revenue'] > expensiveOrders]['visitor_id']\n",
    "\n",
    "abnormalUsers = pd.concat([usersWithManyOrders, usersWithExpensiveOrders], axis = 0).drop_duplicates().sort_values()\n",
    "print(abnormalUsers.head(5))\n",
    "print(\"Всего аномальных пользователей =\" ,len(abnormalUsers)) "
   ]
  },
  {
   "cell_type": "markdown",
   "metadata": {},
   "source": [
    "Всего 31 аномальный пользователь.\n",
    "Узнаем, как их действия повлияли на результаты теста. Посчитаем статистическую значимость различий в конверсии между группами теста по очищенным данным. Сначала подготовим выборки количества заказов по пользователям по группам теста."
   ]
  },
  {
   "cell_type": "code",
   "execution_count": 35,
   "metadata": {},
   "outputs": [],
   "source": [
    "sampleAFiltered = pd.concat([ordersByUsersA[np.logical_not(ordersByUsersA['userId'].isin(abnormalUsers))]['orders'], \\\n",
    "                             pd.Series(0, index=np.arange(data['visitorsPerDateA'].sum() - len(ordersByUsersA['orders'])), \\\n",
    "                                       name='orders')],axis=0)\n",
    "\n",
    "sampleBFiltered = pd.concat([ordersByUsersB[np.logical_not(ordersByUsersB['userId'].isin(abnormalUsers))]['orders'], \\\n",
    "                             pd.Series(0, index=np.arange(data['visitorsPerDateB'].sum() - len(ordersByUsersB['orders'])), \\\n",
    "                                       name='orders')],axis=0) "
   ]
  },
  {
   "cell_type": "markdown",
   "metadata": {},
   "source": [
    "Применим статистический критерий Манна-Уитни к полученным выборкам с \"очищенными\" от выбросов данными.\n",
    "\n",
    "Гипотезы:\n",
    "\n",
    "Н0 :статистически значимых различий в среднем чеке заказа между группами нет\n",
    "\n",
    "Н1 : статистически значимые различия в среднем чеке заказа между группами есть\n",
    "\n",
    "уровнем статистической значимости примем значение 0,05:"
   ]
  },
  {
   "cell_type": "code",
   "execution_count": 36,
   "metadata": {},
   "outputs": [
    {
     "name": "stdout",
     "output_type": "stream",
     "text": [
      "alpha = 0.05\n",
      "p-value = 0.010\n",
      "Относительный показатель 'B' и 'A' = 0.174\n"
     ]
    }
   ],
   "source": [
    "print(\"alpha =\",0.05)\n",
    "print(\"p-value = {0:.3f}\".format(stats.mannwhitneyu(sampleAFiltered, sampleBFiltered, alternative = 'two-sided')[1]))\n",
    "print(\"Относительный показатель 'B' и 'A' = {0:.3f}\".format(sampleBFiltered.mean()/sampleAFiltered.mean()-1)) "
   ]
  },
  {
   "cell_type": "markdown",
   "metadata": {},
   "source": [
    "# Вывод\n",
    "\n",
    "По \"очищенным\" данным значение p-value = 0.01 (против 0,017 по \"сырым\" данным), что меньше уровня статистической значимости, следовательно гипотезу о том, что различий в конверсии между группами нет, отвергаем. \n",
    "Относительная разница в конверсии между группами составила 17,4%- на столько конверсия группы В больше конверсии группы А (против 13.8% по \"сырым\" данным)"
   ]
  },
  {
   "cell_type": "markdown",
   "metadata": {},
   "source": [
    "### Посчитайте статистическую значимость различий в среднем чеке заказа между группами по «очищенным» данным. Сделайте выводы и предположения. "
   ]
  },
  {
   "cell_type": "markdown",
   "metadata": {},
   "source": [
    "Результаты по конверсии практически не изменились. Проверим как изменились результаты по среднему чеку.\n",
    "\n",
    "Гипотезы:\n",
    "\n",
    "Н0 :статистически значимых различий в среднем чеке заказа между группами нет\n",
    "\n",
    "Н1 : статистически значимые различия в среднем чеке заказа между группами есть\n",
    "\n",
    "Уровнем статистической значимости примем значение 0,05"
   ]
  },
  {
   "cell_type": "code",
   "execution_count": 37,
   "metadata": {},
   "outputs": [
    {
     "name": "stdout",
     "output_type": "stream",
     "text": [
      "alpha = 0.05\n",
      "p-value = 0.798\n",
      "Относительный показатель 'B' и 'A' = -0.020\n"
     ]
    }
   ],
   "source": [
    "print(\"alpha =\",0.05)\n",
    "print(\"p-value = {0:.3f}\".format(stats.mannwhitneyu(\n",
    "    orders[np.logical_and(\n",
    "        orders['group']=='A',\n",
    "        np.logical_not(orders['visitor_id'].isin(abnormalUsers)))]['revenue'],\n",
    "    orders[np.logical_and(\n",
    "        orders['group']=='B',\n",
    "        np.logical_not(orders['visitor_id'].isin(abnormalUsers)))]['revenue'], alternative = 'two-sided')[1]))\n",
    "\n",
    "print(\"Относительный показатель 'B' и 'A' = {0:.3f}\".format(\n",
    "    orders[np.logical_and(orders['group']=='B',np.logical_not(orders['visitor_id'].isin(abnormalUsers)))]['revenue'].mean()/\n",
    "    orders[np.logical_and(\n",
    "        orders['group']=='A',\n",
    "        np.logical_not(orders['visitor_id'].isin(abnormalUsers)))]['revenue'].mean()-1)) "
   ]
  },
  {
   "cell_type": "markdown",
   "metadata": {},
   "source": [
    "P-value значительно больше 0.05. Значит, причин отвергать нулевую гипотезу и считать, что в среднем чеке есть различия, нет. По разнице средних чеков групп различий практически нет  всего 2 %."
   ]
  },
  {
   "cell_type": "markdown",
   "metadata": {},
   "source": [
    "### Примите решение по результатам теста и объясните его. Варианты решений:\n",
    "1. Остановить тест, зафиксировать победу одной из групп.\n",
    "2. Остановить тест, зафиксировать отсутствие различий между группами.\n",
    "3. Продолжить тест."
   ]
  },
  {
   "cell_type": "markdown",
   "metadata": {},
   "source": [
    "1. В части приоритизации гипотез из списка, предоставленных отделом Маркетинга следует в первую очередь обратить внимание на гипотезы:\n",
    "\n",
    "\"Запустить акцию, дающую скидку на товар в день рождения\",\n",
    "\"Добавить два новых канала привлечения трафика,\n",
    "\"Добавить форму подписки на все основные страницы, чтобы собрать базу клиентов для email-рассылок\";\n",
    "Если ранжирование гипотез должно включать в себя и охват пользователей интернет-магазина, то места необходимо распределить таким образом:\n",
    "\n",
    "\"Добавить форму подписки на все основные страницы, чтобы собрать базу клиентов для email-рассылок\",\n",
    "\"Добавить блоки рекомендаций товаров на сайт интернет магазина, чтобы повысить конверсию и средний чек заказа\",\n",
    "\"Добавить два новых канала привлечения трафика\".\n",
    "\n",
    "2. В части анализа А/В теста:\n",
    "\n",
    "Есть статистически значимое различие по конверсии между группами как по «сырым», так и по данным после фильтрации аномалий. Конверсия группы В выше, чем в А;\n",
    "\n",
    "График относительного изменения кумулятивной конверсии группы B к группе A показывает, что результаты группы В стабильно лучше группы А;\n",
    "\n",
    "На основании вышеизложенного рекомендуем остановить тест, зафиксировав победу группы B (ее конверсия значительно выше конверсии группы А)."
   ]
  }
 ],
 "metadata": {
  "ExecuteTimeLog": [
   {
    "duration": 1343,
    "start_time": "2023-02-05T20:57:29.567Z"
   },
   {
    "duration": 171,
    "start_time": "2023-02-05T20:57:30.912Z"
   },
   {
    "duration": 107,
    "start_time": "2023-02-05T20:57:31.084Z"
   },
   {
    "duration": 3,
    "start_time": "2023-02-05T20:58:28.972Z"
   },
   {
    "duration": 60,
    "start_time": "2023-02-05T20:58:32.072Z"
   },
   {
    "duration": 8,
    "start_time": "2023-02-05T20:58:37.557Z"
   },
   {
    "duration": 9,
    "start_time": "2023-02-05T20:59:13.675Z"
   },
   {
    "duration": 8,
    "start_time": "2023-02-05T20:59:29.880Z"
   },
   {
    "duration": 8,
    "start_time": "2023-02-05T20:59:45.731Z"
   },
   {
    "duration": 8,
    "start_time": "2023-02-05T20:59:57.237Z"
   },
   {
    "duration": 8,
    "start_time": "2023-02-05T21:00:12.629Z"
   },
   {
    "duration": 8,
    "start_time": "2023-02-05T21:00:25.962Z"
   },
   {
    "duration": 1095,
    "start_time": "2023-02-05T21:02:29.582Z"
   },
   {
    "duration": 3,
    "start_time": "2023-02-05T21:02:30.679Z"
   },
   {
    "duration": 61,
    "start_time": "2023-02-05T21:02:32.040Z"
   },
   {
    "duration": 13,
    "start_time": "2023-02-05T21:02:33.122Z"
   },
   {
    "duration": 21,
    "start_time": "2023-02-05T21:02:41.126Z"
   },
   {
    "duration": 7,
    "start_time": "2023-02-05T21:02:57.340Z"
   },
   {
    "duration": 4,
    "start_time": "2023-02-05T21:03:44.014Z"
   },
   {
    "duration": 65,
    "start_time": "2023-02-05T21:03:53.573Z"
   },
   {
    "duration": 7,
    "start_time": "2023-02-05T21:03:54.296Z"
   },
   {
    "duration": 844,
    "start_time": "2023-02-05T21:32:30.028Z"
   },
   {
    "duration": 9,
    "start_time": "2023-02-05T21:32:54.527Z"
   },
   {
    "duration": 11,
    "start_time": "2023-02-05T21:33:15.715Z"
   },
   {
    "duration": 177,
    "start_time": "2023-02-05T21:48:57.902Z"
   },
   {
    "duration": 12,
    "start_time": "2023-02-05T21:53:05.308Z"
   },
   {
    "duration": 13,
    "start_time": "2023-02-05T21:53:08.349Z"
   },
   {
    "duration": 23,
    "start_time": "2023-02-05T21:55:49.261Z"
   },
   {
    "duration": 401,
    "start_time": "2023-02-05T21:56:09.564Z"
   },
   {
    "duration": 16,
    "start_time": "2023-02-05T21:56:41.210Z"
   },
   {
    "duration": 3,
    "start_time": "2023-02-05T21:59:24.556Z"
   },
   {
    "duration": 61,
    "start_time": "2023-02-05T21:59:25.989Z"
   },
   {
    "duration": 8,
    "start_time": "2023-02-05T21:59:26.683Z"
   },
   {
    "duration": 11,
    "start_time": "2023-02-05T21:59:27.127Z"
   },
   {
    "duration": 9,
    "start_time": "2023-02-05T21:59:27.908Z"
   },
   {
    "duration": 10,
    "start_time": "2023-02-05T21:59:28.331Z"
   },
   {
    "duration": 11,
    "start_time": "2023-02-05T21:59:28.898Z"
   },
   {
    "duration": 196,
    "start_time": "2023-02-05T21:59:30.212Z"
   },
   {
    "duration": 16,
    "start_time": "2023-02-05T21:59:31.359Z"
   },
   {
    "duration": 200,
    "start_time": "2023-02-05T22:00:39.246Z"
   },
   {
    "duration": 15,
    "start_time": "2023-02-05T22:00:39.715Z"
   },
   {
    "duration": 888,
    "start_time": "2023-02-05T22:00:40.677Z"
   },
   {
    "duration": 630,
    "start_time": "2023-02-05T22:02:30.198Z"
   },
   {
    "duration": 760,
    "start_time": "2023-02-05T22:03:32.199Z"
   },
   {
    "duration": 25,
    "start_time": "2023-02-05T22:06:11.667Z"
   },
   {
    "duration": 12,
    "start_time": "2023-02-05T22:17:40.000Z"
   },
   {
    "duration": 212,
    "start_time": "2023-02-05T23:26:41.821Z"
   },
   {
    "duration": 173,
    "start_time": "2023-02-05T23:26:42.821Z"
   },
   {
    "duration": 739,
    "start_time": "2023-02-05T23:26:53.500Z"
   },
   {
    "duration": 510,
    "start_time": "2023-02-05T23:26:56.581Z"
   },
   {
    "duration": 187,
    "start_time": "2023-02-05T23:29:11.917Z"
   },
   {
    "duration": 700,
    "start_time": "2023-02-05T23:29:23.988Z"
   },
   {
    "duration": 712,
    "start_time": "2023-02-05T23:29:29.785Z"
   },
   {
    "duration": 664,
    "start_time": "2023-02-05T23:30:25.139Z"
   },
   {
    "duration": 695,
    "start_time": "2023-02-05T23:30:48.367Z"
   },
   {
    "duration": 200,
    "start_time": "2023-02-05T23:35:25.760Z"
   },
   {
    "duration": 53,
    "start_time": "2023-02-06T16:38:23.142Z"
   },
   {
    "duration": 1306,
    "start_time": "2023-02-06T16:38:45.094Z"
   },
   {
    "duration": 239,
    "start_time": "2023-02-06T16:38:46.740Z"
   },
   {
    "duration": 13,
    "start_time": "2023-02-06T16:38:47.698Z"
   },
   {
    "duration": 17,
    "start_time": "2023-02-06T16:38:48.946Z"
   },
   {
    "duration": 7,
    "start_time": "2023-02-06T16:38:50.394Z"
   },
   {
    "duration": 16,
    "start_time": "2023-02-06T16:39:08.011Z"
   },
   {
    "duration": 7,
    "start_time": "2023-02-06T16:39:54.992Z"
   },
   {
    "duration": 14,
    "start_time": "2023-02-06T16:39:56.562Z"
   },
   {
    "duration": 21,
    "start_time": "2023-02-06T16:40:14.121Z"
   },
   {
    "duration": 18,
    "start_time": "2023-02-06T16:40:20.208Z"
   },
   {
    "duration": 12,
    "start_time": "2023-02-06T16:40:45.990Z"
   },
   {
    "duration": 10,
    "start_time": "2023-02-06T16:40:47.816Z"
   },
   {
    "duration": 12,
    "start_time": "2023-02-06T16:40:48.744Z"
   },
   {
    "duration": 416,
    "start_time": "2023-02-06T16:40:52.295Z"
   },
   {
    "duration": 10,
    "start_time": "2023-02-06T16:40:53.618Z"
   },
   {
    "duration": 980,
    "start_time": "2023-02-06T16:40:55.696Z"
   },
   {
    "duration": 563,
    "start_time": "2023-02-06T16:41:00.766Z"
   },
   {
    "duration": 712,
    "start_time": "2023-02-06T16:41:08.900Z"
   },
   {
    "duration": 284,
    "start_time": "2023-02-06T16:41:09.704Z"
   },
   {
    "duration": 19,
    "start_time": "2023-02-06T16:45:07.116Z"
   },
   {
    "duration": 28,
    "start_time": "2023-02-06T16:46:45.904Z"
   },
   {
    "duration": 11,
    "start_time": "2023-02-06T16:47:00.930Z"
   },
   {
    "duration": 8,
    "start_time": "2023-02-06T16:49:10.129Z"
   },
   {
    "duration": 10,
    "start_time": "2023-02-06T16:49:15.422Z"
   },
   {
    "duration": 1439,
    "start_time": "2023-02-06T16:49:16.836Z"
   },
   {
    "duration": 1510,
    "start_time": "2023-02-06T16:49:18.456Z"
   },
   {
    "duration": 9,
    "start_time": "2023-02-06T16:49:36.463Z"
   },
   {
    "duration": 10,
    "start_time": "2023-02-06T16:49:54.394Z"
   },
   {
    "duration": 36,
    "start_time": "2023-02-06T16:49:59.186Z"
   },
   {
    "duration": 25,
    "start_time": "2023-02-06T16:50:26.578Z"
   },
   {
    "duration": 28,
    "start_time": "2023-02-06T16:51:17.655Z"
   },
   {
    "duration": 27,
    "start_time": "2023-02-06T16:51:39.923Z"
   },
   {
    "duration": 25,
    "start_time": "2023-02-06T16:51:58.860Z"
   },
   {
    "duration": 1047,
    "start_time": "2023-02-06T16:53:34.565Z"
   },
   {
    "duration": 75,
    "start_time": "2023-02-06T16:53:35.614Z"
   },
   {
    "duration": 19,
    "start_time": "2023-02-06T16:53:35.692Z"
   },
   {
    "duration": 17,
    "start_time": "2023-02-06T16:53:35.713Z"
   },
   {
    "duration": 14,
    "start_time": "2023-02-06T16:53:35.731Z"
   },
   {
    "duration": 7,
    "start_time": "2023-02-06T16:53:35.746Z"
   },
   {
    "duration": 9,
    "start_time": "2023-02-06T16:53:35.754Z"
   },
   {
    "duration": 14,
    "start_time": "2023-02-06T16:53:35.765Z"
   },
   {
    "duration": 296,
    "start_time": "2023-02-06T16:53:35.782Z"
   },
   {
    "duration": 274,
    "start_time": "2023-02-06T16:53:36.080Z"
   },
   {
    "duration": 787,
    "start_time": "2023-02-06T16:53:36.356Z"
   },
   {
    "duration": 617,
    "start_time": "2023-02-06T16:53:37.145Z"
   },
   {
    "duration": 649,
    "start_time": "2023-02-06T16:53:37.763Z"
   },
   {
    "duration": 231,
    "start_time": "2023-02-06T16:53:38.415Z"
   },
   {
    "duration": 115,
    "start_time": "2023-02-06T16:53:38.647Z"
   },
   {
    "duration": 317,
    "start_time": "2023-02-06T16:54:20.725Z"
   },
   {
    "duration": 261,
    "start_time": "2023-02-06T16:56:19.571Z"
   },
   {
    "duration": 675,
    "start_time": "2023-02-06T17:17:55.926Z"
   },
   {
    "duration": 636,
    "start_time": "2023-02-06T17:20:53.717Z"
   },
   {
    "duration": 213,
    "start_time": "2023-02-06T17:20:55.559Z"
   },
   {
    "duration": 207,
    "start_time": "2023-02-06T17:21:19.331Z"
   },
   {
    "duration": 65,
    "start_time": "2023-02-06T18:44:03.070Z"
   },
   {
    "duration": 1239,
    "start_time": "2023-02-06T18:46:04.413Z"
   },
   {
    "duration": 233,
    "start_time": "2023-02-06T18:46:05.654Z"
   },
   {
    "duration": 16,
    "start_time": "2023-02-06T18:46:05.889Z"
   },
   {
    "duration": 22,
    "start_time": "2023-02-06T18:46:05.906Z"
   },
   {
    "duration": 12,
    "start_time": "2023-02-06T18:46:05.930Z"
   },
   {
    "duration": 11,
    "start_time": "2023-02-06T18:46:05.943Z"
   },
   {
    "duration": 11,
    "start_time": "2023-02-06T18:46:05.955Z"
   },
   {
    "duration": 10,
    "start_time": "2023-02-06T18:46:05.967Z"
   },
   {
    "duration": 281,
    "start_time": "2023-02-06T18:46:05.978Z"
   },
   {
    "duration": 262,
    "start_time": "2023-02-06T18:46:06.260Z"
   },
   {
    "duration": 391,
    "start_time": "2023-02-06T18:46:06.524Z"
   },
   {
    "duration": 0,
    "start_time": "2023-02-06T18:46:06.916Z"
   },
   {
    "duration": 0,
    "start_time": "2023-02-06T18:46:06.918Z"
   },
   {
    "duration": 0,
    "start_time": "2023-02-06T18:46:06.919Z"
   },
   {
    "duration": 276,
    "start_time": "2023-02-06T18:47:28.100Z"
   },
   {
    "duration": 306,
    "start_time": "2023-02-06T18:47:32.912Z"
   },
   {
    "duration": 1001,
    "start_time": "2023-02-06T18:50:11.318Z"
   },
   {
    "duration": 507,
    "start_time": "2023-02-06T18:50:12.731Z"
   },
   {
    "duration": 505,
    "start_time": "2023-02-06T18:50:19.386Z"
   },
   {
    "duration": 673,
    "start_time": "2023-02-06T18:50:21.426Z"
   },
   {
    "duration": 211,
    "start_time": "2023-02-06T18:50:29.049Z"
   },
   {
    "duration": 576,
    "start_time": "2023-02-06T18:53:05.292Z"
   },
   {
    "duration": 271,
    "start_time": "2023-02-06T19:22:40.885Z"
   },
   {
    "duration": 280,
    "start_time": "2023-02-06T19:22:52.709Z"
   },
   {
    "duration": 345,
    "start_time": "2023-02-06T19:23:25.465Z"
   },
   {
    "duration": 350,
    "start_time": "2023-02-06T19:23:35.668Z"
   },
   {
    "duration": 1369,
    "start_time": "2023-02-06T19:24:10.650Z"
   },
   {
    "duration": 563,
    "start_time": "2023-02-06T19:24:20.511Z"
   },
   {
    "duration": 16,
    "start_time": "2023-02-06T19:25:33.355Z"
   },
   {
    "duration": 699,
    "start_time": "2023-02-06T19:25:53.983Z"
   },
   {
    "duration": 9,
    "start_time": "2023-02-06T19:27:21.134Z"
   },
   {
    "duration": 735,
    "start_time": "2023-02-06T19:27:33.717Z"
   },
   {
    "duration": 783,
    "start_time": "2023-02-06T19:28:18.086Z"
   },
   {
    "duration": 710,
    "start_time": "2023-02-06T19:28:39.087Z"
   },
   {
    "duration": 314,
    "start_time": "2023-02-06T19:37:57.886Z"
   },
   {
    "duration": 1035,
    "start_time": "2023-02-06T20:51:20.581Z"
   },
   {
    "duration": 74,
    "start_time": "2023-02-06T20:51:21.618Z"
   },
   {
    "duration": 13,
    "start_time": "2023-02-06T20:51:21.693Z"
   },
   {
    "duration": 18,
    "start_time": "2023-02-06T20:51:21.707Z"
   },
   {
    "duration": 10,
    "start_time": "2023-02-06T20:51:21.726Z"
   },
   {
    "duration": 8,
    "start_time": "2023-02-06T20:51:21.738Z"
   },
   {
    "duration": 9,
    "start_time": "2023-02-06T20:51:21.747Z"
   },
   {
    "duration": 9,
    "start_time": "2023-02-06T20:51:21.757Z"
   },
   {
    "duration": 241,
    "start_time": "2023-02-06T20:51:21.768Z"
   },
   {
    "duration": 255,
    "start_time": "2023-02-06T20:51:22.011Z"
   },
   {
    "duration": 244,
    "start_time": "2023-02-06T20:51:22.267Z"
   },
   {
    "duration": 360,
    "start_time": "2023-02-06T20:51:22.512Z"
   },
   {
    "duration": 116,
    "start_time": "2023-02-06T20:51:22.874Z"
   },
   {
    "duration": 0,
    "start_time": "2023-02-06T20:51:22.991Z"
   },
   {
    "duration": 0,
    "start_time": "2023-02-06T20:51:22.992Z"
   },
   {
    "duration": 25,
    "start_time": "2023-02-06T21:04:18.420Z"
   },
   {
    "duration": 254,
    "start_time": "2023-02-06T21:18:03.436Z"
   },
   {
    "duration": 18,
    "start_time": "2023-02-06T21:28:16.695Z"
   },
   {
    "duration": 154,
    "start_time": "2023-02-06T21:29:19.851Z"
   },
   {
    "duration": 137,
    "start_time": "2023-02-06T21:32:47.963Z"
   },
   {
    "duration": 1312,
    "start_time": "2023-02-07T19:35:53.895Z"
   },
   {
    "duration": 215,
    "start_time": "2023-02-07T19:35:55.210Z"
   },
   {
    "duration": 15,
    "start_time": "2023-02-07T19:35:55.426Z"
   },
   {
    "duration": 13,
    "start_time": "2023-02-07T19:35:55.442Z"
   },
   {
    "duration": 19,
    "start_time": "2023-02-07T19:35:55.457Z"
   },
   {
    "duration": 11,
    "start_time": "2023-02-07T19:35:55.478Z"
   },
   {
    "duration": 11,
    "start_time": "2023-02-07T19:35:55.490Z"
   },
   {
    "duration": 7,
    "start_time": "2023-02-07T19:35:55.503Z"
   },
   {
    "duration": 258,
    "start_time": "2023-02-07T19:35:55.511Z"
   },
   {
    "duration": 299,
    "start_time": "2023-02-07T19:35:55.771Z"
   },
   {
    "duration": 254,
    "start_time": "2023-02-07T19:35:56.071Z"
   },
   {
    "duration": 429,
    "start_time": "2023-02-07T19:35:56.326Z"
   },
   {
    "duration": 117,
    "start_time": "2023-02-07T19:35:56.756Z"
   },
   {
    "duration": 0,
    "start_time": "2023-02-07T19:35:56.875Z"
   },
   {
    "duration": 0,
    "start_time": "2023-02-07T19:35:56.876Z"
   },
   {
    "duration": 0,
    "start_time": "2023-02-07T19:35:56.877Z"
   },
   {
    "duration": 27,
    "start_time": "2023-02-07T19:37:06.979Z"
   },
   {
    "duration": 15,
    "start_time": "2023-02-07T19:37:54.490Z"
   },
   {
    "duration": 267,
    "start_time": "2023-02-07T19:38:22.229Z"
   },
   {
    "duration": 267,
    "start_time": "2023-02-07T19:38:37.145Z"
   },
   {
    "duration": 245,
    "start_time": "2023-02-07T19:38:55.768Z"
   },
   {
    "duration": 275,
    "start_time": "2023-02-07T19:38:56.335Z"
   },
   {
    "duration": 323,
    "start_time": "2023-02-07T19:38:58.849Z"
   },
   {
    "duration": 374,
    "start_time": "2023-02-07T19:39:01.504Z"
   },
   {
    "duration": 35,
    "start_time": "2023-02-07T19:39:03.941Z"
   },
   {
    "duration": 28,
    "start_time": "2023-02-07T19:39:18.371Z"
   },
   {
    "duration": 10,
    "start_time": "2023-02-07T19:40:58.466Z"
   },
   {
    "duration": 13,
    "start_time": "2023-02-07T19:41:22.568Z"
   },
   {
    "duration": 23,
    "start_time": "2023-02-07T19:41:44.528Z"
   },
   {
    "duration": 181,
    "start_time": "2023-02-07T19:41:48.214Z"
   },
   {
    "duration": 164,
    "start_time": "2023-02-07T19:41:55.580Z"
   },
   {
    "duration": 23,
    "start_time": "2023-02-07T19:42:40.676Z"
   },
   {
    "duration": 241,
    "start_time": "2023-02-07T19:43:19.549Z"
   },
   {
    "duration": 259,
    "start_time": "2023-02-07T19:43:25.080Z"
   },
   {
    "duration": 5,
    "start_time": "2023-02-07T19:46:24.659Z"
   },
   {
    "duration": 10,
    "start_time": "2023-02-07T19:46:52.950Z"
   },
   {
    "duration": 15,
    "start_time": "2023-02-07T19:47:34.016Z"
   },
   {
    "duration": 193,
    "start_time": "2023-02-07T20:15:07.305Z"
   },
   {
    "duration": 176,
    "start_time": "2023-02-07T20:16:24.089Z"
   },
   {
    "duration": 152,
    "start_time": "2023-02-07T20:24:51.968Z"
   },
   {
    "duration": 25,
    "start_time": "2023-02-07T20:35:26.462Z"
   },
   {
    "duration": 443,
    "start_time": "2023-02-07T20:36:10.319Z"
   },
   {
    "duration": 11,
    "start_time": "2023-02-07T20:39:17.574Z"
   },
   {
    "duration": 361,
    "start_time": "2023-02-07T20:41:44.487Z"
   },
   {
    "duration": 711,
    "start_time": "2023-02-07T20:44:34.779Z"
   },
   {
    "duration": 747,
    "start_time": "2023-02-07T20:48:27.489Z"
   },
   {
    "duration": 8,
    "start_time": "2023-02-07T20:49:56.829Z"
   },
   {
    "duration": 5,
    "start_time": "2023-02-07T20:50:17.433Z"
   },
   {
    "duration": 121,
    "start_time": "2023-02-07T21:27:04.687Z"
   },
   {
    "duration": 8,
    "start_time": "2023-02-07T21:46:08.309Z"
   },
   {
    "duration": 211,
    "start_time": "2023-02-07T21:46:26.684Z"
   },
   {
    "duration": 14,
    "start_time": "2023-02-07T21:46:38.757Z"
   },
   {
    "duration": 160,
    "start_time": "2023-02-07T21:46:43.945Z"
   },
   {
    "duration": 147,
    "start_time": "2023-02-07T21:48:09.540Z"
   },
   {
    "duration": 10,
    "start_time": "2023-02-07T21:49:18.257Z"
   },
   {
    "duration": 799,
    "start_time": "2023-02-07T21:49:33.642Z"
   },
   {
    "duration": 799,
    "start_time": "2023-02-07T21:50:38.961Z"
   },
   {
    "duration": 11,
    "start_time": "2023-02-07T21:51:08.501Z"
   },
   {
    "duration": 10,
    "start_time": "2023-02-07T21:51:47.853Z"
   },
   {
    "duration": 13,
    "start_time": "2023-02-07T21:51:53.977Z"
   },
   {
    "duration": 996,
    "start_time": "2023-02-07T21:52:14.383Z"
   },
   {
    "duration": 961,
    "start_time": "2023-02-07T21:53:01.938Z"
   },
   {
    "duration": 10,
    "start_time": "2023-02-07T21:54:18.860Z"
   },
   {
    "duration": 749,
    "start_time": "2023-02-07T21:54:46.131Z"
   },
   {
    "duration": 312,
    "start_time": "2023-02-07T21:57:31.892Z"
   },
   {
    "duration": 373,
    "start_time": "2023-02-07T21:57:42.918Z"
   },
   {
    "duration": 748,
    "start_time": "2023-02-07T22:17:46.234Z"
   },
   {
    "duration": 11,
    "start_time": "2023-02-07T22:18:21.689Z"
   },
   {
    "duration": 58,
    "start_time": "2023-02-08T16:26:01.631Z"
   },
   {
    "duration": 65,
    "start_time": "2023-02-08T16:26:24.386Z"
   },
   {
    "duration": 1398,
    "start_time": "2023-02-08T16:26:28.070Z"
   },
   {
    "duration": 211,
    "start_time": "2023-02-08T16:26:29.472Z"
   },
   {
    "duration": 28,
    "start_time": "2023-02-08T16:26:29.685Z"
   },
   {
    "duration": 26,
    "start_time": "2023-02-08T16:26:29.716Z"
   },
   {
    "duration": 16,
    "start_time": "2023-02-08T16:26:29.746Z"
   },
   {
    "duration": 37,
    "start_time": "2023-02-08T16:26:29.763Z"
   },
   {
    "duration": 17,
    "start_time": "2023-02-08T16:26:29.805Z"
   },
   {
    "duration": 18,
    "start_time": "2023-02-08T16:26:29.826Z"
   },
   {
    "duration": 337,
    "start_time": "2023-02-08T16:26:29.847Z"
   },
   {
    "duration": 406,
    "start_time": "2023-02-08T16:26:30.187Z"
   },
   {
    "duration": 329,
    "start_time": "2023-02-08T16:26:30.594Z"
   },
   {
    "duration": 443,
    "start_time": "2023-02-08T16:26:30.925Z"
   },
   {
    "duration": 346,
    "start_time": "2023-02-08T16:26:31.370Z"
   },
   {
    "duration": 408,
    "start_time": "2023-02-08T16:26:31.722Z"
   },
   {
    "duration": 69,
    "start_time": "2023-02-08T16:26:32.132Z"
   },
   {
    "duration": 0,
    "start_time": "2023-02-08T16:26:32.203Z"
   },
   {
    "duration": 0,
    "start_time": "2023-02-08T16:26:32.204Z"
   },
   {
    "duration": 0,
    "start_time": "2023-02-08T16:26:32.205Z"
   },
   {
    "duration": 0,
    "start_time": "2023-02-08T16:26:32.206Z"
   },
   {
    "duration": 0,
    "start_time": "2023-02-08T16:26:32.207Z"
   },
   {
    "duration": 0,
    "start_time": "2023-02-08T16:26:32.208Z"
   },
   {
    "duration": 0,
    "start_time": "2023-02-08T16:26:32.209Z"
   },
   {
    "duration": 0,
    "start_time": "2023-02-08T16:26:32.210Z"
   },
   {
    "duration": 336,
    "start_time": "2023-02-08T16:39:39.231Z"
   },
   {
    "duration": 11,
    "start_time": "2023-02-08T16:46:42.624Z"
   },
   {
    "duration": 327,
    "start_time": "2023-02-08T16:47:22.646Z"
   },
   {
    "duration": 384,
    "start_time": "2023-02-08T16:47:35.068Z"
   },
   {
    "duration": 307,
    "start_time": "2023-02-08T16:47:40.394Z"
   },
   {
    "duration": 368,
    "start_time": "2023-02-08T16:47:59.822Z"
   },
   {
    "duration": 676,
    "start_time": "2023-02-08T16:48:33.689Z"
   },
   {
    "duration": 561,
    "start_time": "2023-02-08T16:48:40.119Z"
   },
   {
    "duration": 630,
    "start_time": "2023-02-08T16:48:46.812Z"
   },
   {
    "duration": 652,
    "start_time": "2023-02-08T16:49:36.438Z"
   },
   {
    "duration": 493,
    "start_time": "2023-02-08T16:49:56.522Z"
   },
   {
    "duration": 320,
    "start_time": "2023-02-08T16:50:07.624Z"
   },
   {
    "duration": 364,
    "start_time": "2023-02-08T16:50:19.320Z"
   },
   {
    "duration": 400,
    "start_time": "2023-02-08T16:50:44.319Z"
   },
   {
    "duration": 446,
    "start_time": "2023-02-08T16:51:10.921Z"
   },
   {
    "duration": 67,
    "start_time": "2023-02-08T16:51:24.197Z"
   },
   {
    "duration": 45,
    "start_time": "2023-02-08T16:51:48.522Z"
   },
   {
    "duration": 203,
    "start_time": "2023-02-08T16:53:53.337Z"
   },
   {
    "duration": 157,
    "start_time": "2023-02-08T16:54:28.222Z"
   },
   {
    "duration": 70,
    "start_time": "2023-02-08T16:55:15.488Z"
   },
   {
    "duration": 61,
    "start_time": "2023-02-08T16:55:28.794Z"
   },
   {
    "duration": 76,
    "start_time": "2023-02-08T16:55:41.855Z"
   },
   {
    "duration": 391,
    "start_time": "2023-02-08T16:55:54.919Z"
   },
   {
    "duration": 418,
    "start_time": "2023-02-08T16:56:04.132Z"
   },
   {
    "duration": 497,
    "start_time": "2023-02-08T16:56:25.519Z"
   },
   {
    "duration": 486,
    "start_time": "2023-02-08T16:56:37.784Z"
   },
   {
    "duration": 396,
    "start_time": "2023-02-08T16:56:59.750Z"
   },
   {
    "duration": 14,
    "start_time": "2023-02-08T16:57:28.022Z"
   },
   {
    "duration": 202,
    "start_time": "2023-02-08T16:58:26.344Z"
   },
   {
    "duration": 161,
    "start_time": "2023-02-08T16:59:00.155Z"
   },
   {
    "duration": 10,
    "start_time": "2023-02-08T16:59:14.075Z"
   },
   {
    "duration": 242,
    "start_time": "2023-02-08T17:00:07.090Z"
   },
   {
    "duration": 167,
    "start_time": "2023-02-08T17:00:17.954Z"
   },
   {
    "duration": 6,
    "start_time": "2023-02-08T17:00:21.159Z"
   },
   {
    "duration": 214,
    "start_time": "2023-02-08T17:00:23.522Z"
   },
   {
    "duration": 13,
    "start_time": "2023-02-08T17:00:25.776Z"
   },
   {
    "duration": 13,
    "start_time": "2023-02-08T17:00:28.329Z"
   },
   {
    "duration": 393,
    "start_time": "2023-02-08T17:02:48.098Z"
   },
   {
    "duration": 413,
    "start_time": "2023-02-08T17:02:54.922Z"
   },
   {
    "duration": 416,
    "start_time": "2023-02-08T17:38:30.039Z"
   },
   {
    "duration": 571,
    "start_time": "2023-02-08T17:38:40.147Z"
   },
   {
    "duration": 429,
    "start_time": "2023-02-08T17:38:53.293Z"
   },
   {
    "duration": 495,
    "start_time": "2023-02-08T17:39:12.666Z"
   },
   {
    "duration": 19,
    "start_time": "2023-02-08T17:40:49.360Z"
   },
   {
    "duration": 11,
    "start_time": "2023-02-08T18:05:54.747Z"
   },
   {
    "duration": 359,
    "start_time": "2023-02-08T18:19:07.542Z"
   },
   {
    "duration": 401,
    "start_time": "2023-02-08T18:19:11.638Z"
   },
   {
    "duration": 534,
    "start_time": "2023-02-08T18:19:33.595Z"
   },
   {
    "duration": 464,
    "start_time": "2023-02-08T18:19:58.721Z"
   },
   {
    "duration": 376,
    "start_time": "2023-02-08T18:20:06.432Z"
   },
   {
    "duration": 288,
    "start_time": "2023-02-08T18:20:37.905Z"
   },
   {
    "duration": 218,
    "start_time": "2023-02-08T18:20:50.964Z"
   },
   {
    "duration": 245,
    "start_time": "2023-02-08T18:21:03.196Z"
   },
   {
    "duration": 10,
    "start_time": "2023-02-08T18:37:40.240Z"
   },
   {
    "duration": 6,
    "start_time": "2023-02-08T18:37:51.780Z"
   },
   {
    "duration": 6,
    "start_time": "2023-02-08T18:38:09.325Z"
   },
   {
    "duration": 13,
    "start_time": "2023-02-08T18:38:33.929Z"
   },
   {
    "duration": 5,
    "start_time": "2023-02-08T18:39:13.992Z"
   },
   {
    "duration": 5,
    "start_time": "2023-02-08T18:39:45.932Z"
   },
   {
    "duration": 3,
    "start_time": "2023-02-08T18:52:40.788Z"
   },
   {
    "duration": 7,
    "start_time": "2023-02-08T18:55:35.135Z"
   },
   {
    "duration": 7,
    "start_time": "2023-02-08T18:55:38.581Z"
   },
   {
    "duration": 4,
    "start_time": "2023-02-08T18:56:42.830Z"
   },
   {
    "duration": 7,
    "start_time": "2023-02-08T18:56:43.789Z"
   },
   {
    "duration": 12,
    "start_time": "2023-02-08T18:56:44.861Z"
   },
   {
    "duration": 10,
    "start_time": "2023-02-08T18:56:45.930Z"
   },
   {
    "duration": 295,
    "start_time": "2023-02-08T18:56:48.154Z"
   },
   {
    "duration": 4,
    "start_time": "2023-02-08T18:57:32.752Z"
   },
   {
    "duration": 315,
    "start_time": "2023-02-08T18:58:24.386Z"
   },
   {
    "duration": 3,
    "start_time": "2023-02-08T20:45:34.121Z"
   },
   {
    "duration": 73,
    "start_time": "2023-02-08T20:45:35.043Z"
   },
   {
    "duration": 12,
    "start_time": "2023-02-08T20:45:35.241Z"
   },
   {
    "duration": 18,
    "start_time": "2023-02-08T20:45:35.439Z"
   },
   {
    "duration": 4,
    "start_time": "2023-02-08T20:45:36.869Z"
   },
   {
    "duration": 13,
    "start_time": "2023-02-08T20:45:38.545Z"
   },
   {
    "duration": 4,
    "start_time": "2023-02-08T20:45:39.250Z"
   },
   {
    "duration": 8,
    "start_time": "2023-02-08T20:45:40.717Z"
   },
   {
    "duration": 9,
    "start_time": "2023-02-08T20:45:42.388Z"
   },
   {
    "duration": 8,
    "start_time": "2023-02-08T20:45:43.859Z"
   },
   {
    "duration": 300,
    "start_time": "2023-02-08T20:45:46.056Z"
   },
   {
    "duration": 344,
    "start_time": "2023-02-08T20:45:46.980Z"
   },
   {
    "duration": 317,
    "start_time": "2023-02-08T20:45:49.735Z"
   },
   {
    "duration": 530,
    "start_time": "2023-02-08T20:45:56.553Z"
   },
   {
    "duration": 4,
    "start_time": "2023-02-08T21:19:56.949Z"
   },
   {
    "duration": 6,
    "start_time": "2023-02-08T21:32:02.853Z"
   },
   {
    "duration": 44,
    "start_time": "2023-02-08T22:10:41.658Z"
   },
   {
    "duration": 50,
    "start_time": "2023-02-08T22:55:56.574Z"
   },
   {
    "duration": 9,
    "start_time": "2023-02-08T22:58:33.769Z"
   },
   {
    "duration": 11,
    "start_time": "2023-02-08T22:58:54.962Z"
   },
   {
    "duration": 12,
    "start_time": "2023-02-08T22:59:40.234Z"
   },
   {
    "duration": 675,
    "start_time": "2023-02-08T23:00:21.194Z"
   },
   {
    "duration": 344,
    "start_time": "2023-02-08T23:18:23.418Z"
   },
   {
    "duration": 136,
    "start_time": "2023-02-08T23:22:11.097Z"
   },
   {
    "duration": 676,
    "start_time": "2023-02-08T23:22:32.767Z"
   },
   {
    "duration": 6,
    "start_time": "2023-02-08T23:23:57.544Z"
   },
   {
    "duration": 4,
    "start_time": "2023-02-08T23:24:15.841Z"
   },
   {
    "duration": 18,
    "start_time": "2023-02-08T23:24:30.242Z"
   },
   {
    "duration": 92,
    "start_time": "2023-02-08T23:29:18.108Z"
   },
   {
    "duration": 194,
    "start_time": "2023-02-08T23:29:28.462Z"
   },
   {
    "duration": 9,
    "start_time": "2023-02-08T23:29:47.238Z"
   },
   {
    "duration": 3,
    "start_time": "2023-02-08T23:29:48.110Z"
   },
   {
    "duration": 19,
    "start_time": "2023-02-08T23:29:52.999Z"
   },
   {
    "duration": 20,
    "start_time": "2023-02-08T23:32:01.932Z"
   },
   {
    "duration": 11,
    "start_time": "2023-02-08T23:32:58.196Z"
   },
   {
    "duration": 665,
    "start_time": "2023-02-08T23:33:17.714Z"
   },
   {
    "duration": 10,
    "start_time": "2023-02-08T23:33:18.839Z"
   },
   {
    "duration": 11,
    "start_time": "2023-02-08T23:33:49.095Z"
   },
   {
    "duration": 10,
    "start_time": "2023-02-08T23:33:53.223Z"
   },
   {
    "duration": 53,
    "start_time": "2023-02-08T23:34:54.901Z"
   },
   {
    "duration": 664,
    "start_time": "2023-02-08T23:37:57.830Z"
   },
   {
    "duration": 674,
    "start_time": "2023-02-08T23:38:27.244Z"
   },
   {
    "duration": 658,
    "start_time": "2023-02-08T23:38:46.139Z"
   },
   {
    "duration": 10,
    "start_time": "2023-02-08T23:40:00.121Z"
   },
   {
    "duration": 14,
    "start_time": "2023-02-08T23:40:26.600Z"
   },
   {
    "duration": 25,
    "start_time": "2023-02-08T23:40:27.391Z"
   },
   {
    "duration": 675,
    "start_time": "2023-02-08T23:41:46.391Z"
   },
   {
    "duration": 8,
    "start_time": "2023-02-08T23:42:29.742Z"
   },
   {
    "duration": 19,
    "start_time": "2023-02-08T23:42:41.402Z"
   },
   {
    "duration": 64,
    "start_time": "2023-02-09T19:20:28.612Z"
   },
   {
    "duration": 1366,
    "start_time": "2023-02-09T19:21:45.599Z"
   },
   {
    "duration": 199,
    "start_time": "2023-02-09T19:21:46.967Z"
   },
   {
    "duration": 15,
    "start_time": "2023-02-09T19:21:47.168Z"
   },
   {
    "duration": 24,
    "start_time": "2023-02-09T19:21:47.185Z"
   },
   {
    "duration": 32,
    "start_time": "2023-02-09T19:21:47.211Z"
   },
   {
    "duration": 17,
    "start_time": "2023-02-09T19:21:47.245Z"
   },
   {
    "duration": 5,
    "start_time": "2023-02-09T19:21:47.264Z"
   },
   {
    "duration": 8,
    "start_time": "2023-02-09T19:21:47.271Z"
   },
   {
    "duration": 9,
    "start_time": "2023-02-09T19:21:47.281Z"
   },
   {
    "duration": 12,
    "start_time": "2023-02-09T19:21:47.292Z"
   },
   {
    "duration": 285,
    "start_time": "2023-02-09T19:21:47.305Z"
   },
   {
    "duration": 302,
    "start_time": "2023-02-09T19:21:47.591Z"
   },
   {
    "duration": 312,
    "start_time": "2023-02-09T19:21:47.895Z"
   },
   {
    "duration": 461,
    "start_time": "2023-02-09T19:21:48.209Z"
   },
   {
    "duration": 960,
    "start_time": "2023-02-09T19:21:48.671Z"
   },
   {
    "duration": 0,
    "start_time": "2023-02-09T19:21:49.633Z"
   },
   {
    "duration": 0,
    "start_time": "2023-02-09T19:21:49.634Z"
   },
   {
    "duration": 0,
    "start_time": "2023-02-09T19:21:49.636Z"
   },
   {
    "duration": 0,
    "start_time": "2023-02-09T19:21:49.637Z"
   },
   {
    "duration": 0,
    "start_time": "2023-02-09T19:21:49.638Z"
   },
   {
    "duration": 0,
    "start_time": "2023-02-09T19:21:49.639Z"
   },
   {
    "duration": 0,
    "start_time": "2023-02-09T19:21:49.640Z"
   },
   {
    "duration": 0,
    "start_time": "2023-02-09T19:21:49.642Z"
   },
   {
    "duration": 0,
    "start_time": "2023-02-09T19:21:49.643Z"
   },
   {
    "duration": 0,
    "start_time": "2023-02-09T19:21:49.644Z"
   },
   {
    "duration": 0,
    "start_time": "2023-02-09T19:21:49.645Z"
   },
   {
    "duration": 0,
    "start_time": "2023-02-09T19:21:49.647Z"
   },
   {
    "duration": 0,
    "start_time": "2023-02-09T19:21:49.647Z"
   },
   {
    "duration": 0,
    "start_time": "2023-02-09T19:21:49.648Z"
   },
   {
    "duration": 0,
    "start_time": "2023-02-09T19:21:49.649Z"
   },
   {
    "duration": 0,
    "start_time": "2023-02-09T19:21:49.650Z"
   },
   {
    "duration": 0,
    "start_time": "2023-02-09T19:21:49.651Z"
   },
   {
    "duration": 0,
    "start_time": "2023-02-09T19:21:49.652Z"
   },
   {
    "duration": 4,
    "start_time": "2023-02-09T19:22:13.775Z"
   },
   {
    "duration": 70,
    "start_time": "2023-02-09T19:22:13.781Z"
   },
   {
    "duration": 11,
    "start_time": "2023-02-09T19:22:13.853Z"
   },
   {
    "duration": 18,
    "start_time": "2023-02-09T19:22:13.865Z"
   },
   {
    "duration": 5,
    "start_time": "2023-02-09T19:22:13.886Z"
   },
   {
    "duration": 17,
    "start_time": "2023-02-09T19:22:13.893Z"
   },
   {
    "duration": 5,
    "start_time": "2023-02-09T19:22:13.911Z"
   },
   {
    "duration": 9,
    "start_time": "2023-02-09T19:22:13.926Z"
   },
   {
    "duration": 10,
    "start_time": "2023-02-09T19:22:13.937Z"
   },
   {
    "duration": 18,
    "start_time": "2023-02-09T19:22:13.949Z"
   },
   {
    "duration": 304,
    "start_time": "2023-02-09T19:22:13.971Z"
   },
   {
    "duration": 304,
    "start_time": "2023-02-09T19:22:14.277Z"
   },
   {
    "duration": 301,
    "start_time": "2023-02-09T19:22:14.583Z"
   },
   {
    "duration": 459,
    "start_time": "2023-02-09T19:22:14.886Z"
   },
   {
    "duration": 783,
    "start_time": "2023-02-09T19:22:15.347Z"
   },
   {
    "duration": 0,
    "start_time": "2023-02-09T19:22:16.132Z"
   },
   {
    "duration": 0,
    "start_time": "2023-02-09T19:22:16.133Z"
   },
   {
    "duration": 0,
    "start_time": "2023-02-09T19:22:16.134Z"
   },
   {
    "duration": 0,
    "start_time": "2023-02-09T19:22:16.135Z"
   },
   {
    "duration": 0,
    "start_time": "2023-02-09T19:22:16.136Z"
   },
   {
    "duration": 0,
    "start_time": "2023-02-09T19:22:16.137Z"
   },
   {
    "duration": 0,
    "start_time": "2023-02-09T19:22:16.138Z"
   },
   {
    "duration": 0,
    "start_time": "2023-02-09T19:22:16.140Z"
   },
   {
    "duration": 0,
    "start_time": "2023-02-09T19:22:16.141Z"
   },
   {
    "duration": 0,
    "start_time": "2023-02-09T19:22:16.142Z"
   },
   {
    "duration": 0,
    "start_time": "2023-02-09T19:22:16.143Z"
   },
   {
    "duration": 0,
    "start_time": "2023-02-09T19:22:16.144Z"
   },
   {
    "duration": 0,
    "start_time": "2023-02-09T19:22:16.145Z"
   },
   {
    "duration": 0,
    "start_time": "2023-02-09T19:22:16.146Z"
   },
   {
    "duration": 0,
    "start_time": "2023-02-09T19:22:16.147Z"
   },
   {
    "duration": 0,
    "start_time": "2023-02-09T19:22:16.148Z"
   },
   {
    "duration": 0,
    "start_time": "2023-02-09T19:22:16.149Z"
   },
   {
    "duration": 0,
    "start_time": "2023-02-09T19:22:16.150Z"
   },
   {
    "duration": 9,
    "start_time": "2023-02-09T19:23:39.106Z"
   },
   {
    "duration": 138,
    "start_time": "2023-02-09T19:24:04.276Z"
   },
   {
    "duration": 6,
    "start_time": "2023-02-09T19:24:08.099Z"
   },
   {
    "duration": 45,
    "start_time": "2023-02-09T19:24:09.162Z"
   },
   {
    "duration": 150,
    "start_time": "2023-02-09T19:24:12.864Z"
   },
   {
    "duration": 4,
    "start_time": "2023-02-09T19:24:15.996Z"
   },
   {
    "duration": 42,
    "start_time": "2023-02-09T19:24:16.908Z"
   },
   {
    "duration": 150,
    "start_time": "2023-02-09T19:24:20.108Z"
   },
   {
    "duration": 113,
    "start_time": "2023-02-09T19:24:23.380Z"
   },
   {
    "duration": 227,
    "start_time": "2023-02-09T19:29:58.167Z"
   },
   {
    "duration": 807,
    "start_time": "2023-02-09T19:58:22.638Z"
   },
   {
    "duration": 28,
    "start_time": "2023-02-09T20:03:53.141Z"
   },
   {
    "duration": 500,
    "start_time": "2023-02-09T20:04:58.139Z"
   },
   {
    "duration": 163,
    "start_time": "2023-02-09T20:09:20.085Z"
   },
   {
    "duration": 157,
    "start_time": "2023-02-09T20:14:43.126Z"
   },
   {
    "duration": 210,
    "start_time": "2023-02-09T20:14:44.696Z"
   },
   {
    "duration": 10,
    "start_time": "2023-02-09T20:14:45.937Z"
   },
   {
    "duration": 129,
    "start_time": "2023-02-09T20:17:34.253Z"
   },
   {
    "duration": 140,
    "start_time": "2023-02-09T20:18:33.793Z"
   },
   {
    "duration": 8,
    "start_time": "2023-02-09T20:18:34.327Z"
   },
   {
    "duration": 7,
    "start_time": "2023-02-09T20:18:35.048Z"
   },
   {
    "duration": 6,
    "start_time": "2023-02-09T20:18:36.237Z"
   },
   {
    "duration": 6,
    "start_time": "2023-02-09T20:18:42.571Z"
   },
   {
    "duration": 17,
    "start_time": "2023-02-09T20:19:00.029Z"
   },
   {
    "duration": 169,
    "start_time": "2023-02-09T20:19:36.537Z"
   },
   {
    "duration": 10,
    "start_time": "2023-02-09T20:19:47.901Z"
   },
   {
    "duration": 12,
    "start_time": "2023-02-09T20:20:55.719Z"
   },
   {
    "duration": 10,
    "start_time": "2023-02-09T20:20:56.532Z"
   },
   {
    "duration": 10,
    "start_time": "2023-02-09T20:22:59.898Z"
   },
   {
    "duration": 9,
    "start_time": "2023-02-09T20:23:00.656Z"
   },
   {
    "duration": 26,
    "start_time": "2023-02-09T20:27:18.830Z"
   },
   {
    "duration": 26,
    "start_time": "2023-02-09T20:29:56.564Z"
   },
   {
    "duration": 26,
    "start_time": "2023-02-09T20:30:11.297Z"
   },
   {
    "duration": 524,
    "start_time": "2023-02-09T20:30:30.476Z"
   },
   {
    "duration": 32,
    "start_time": "2023-02-09T20:30:44.503Z"
   },
   {
    "duration": 689,
    "start_time": "2023-02-09T20:30:52.158Z"
   },
   {
    "duration": 682,
    "start_time": "2023-02-09T20:39:54.958Z"
   },
   {
    "duration": 11,
    "start_time": "2023-02-09T20:41:30.875Z"
   },
   {
    "duration": 218,
    "start_time": "2023-02-09T20:50:10.257Z"
   },
   {
    "duration": 236,
    "start_time": "2023-02-09T20:50:26.860Z"
   },
   {
    "duration": 257,
    "start_time": "2023-02-09T20:57:42.950Z"
   },
   {
    "duration": 45,
    "start_time": "2023-02-09T20:59:08.884Z"
   },
   {
    "duration": 44,
    "start_time": "2023-02-09T20:59:38.892Z"
   },
   {
    "duration": 172,
    "start_time": "2023-02-09T20:59:57.784Z"
   },
   {
    "duration": 11,
    "start_time": "2023-02-09T21:01:57.557Z"
   },
   {
    "duration": 11,
    "start_time": "2023-02-09T21:10:16.484Z"
   },
   {
    "duration": 733,
    "start_time": "2023-02-09T21:11:54.358Z"
   },
   {
    "duration": 743,
    "start_time": "2023-02-09T21:13:06.264Z"
   },
   {
    "duration": 756,
    "start_time": "2023-02-09T21:13:51.859Z"
   },
   {
    "duration": 669,
    "start_time": "2023-02-09T21:14:39.317Z"
   },
   {
    "duration": 48,
    "start_time": "2023-02-09T21:17:23.420Z"
   },
   {
    "duration": 12,
    "start_time": "2023-02-09T21:17:32.584Z"
   },
   {
    "duration": 18,
    "start_time": "2023-02-09T21:17:42.500Z"
   },
   {
    "duration": 19,
    "start_time": "2023-02-09T21:18:18.761Z"
   },
   {
    "duration": 20,
    "start_time": "2023-02-09T21:18:28.123Z"
   },
   {
    "duration": 19,
    "start_time": "2023-02-09T21:18:39.394Z"
   },
   {
    "duration": 11,
    "start_time": "2023-02-09T21:19:57.895Z"
   },
   {
    "duration": 743,
    "start_time": "2023-02-09T21:21:19.733Z"
   },
   {
    "duration": 190,
    "start_time": "2023-02-09T21:22:53.061Z"
   },
   {
    "duration": 163,
    "start_time": "2023-02-09T21:22:59.688Z"
   },
   {
    "duration": 11,
    "start_time": "2023-02-09T21:23:03.133Z"
   },
   {
    "duration": 730,
    "start_time": "2023-02-09T21:23:05.824Z"
   },
   {
    "duration": 679,
    "start_time": "2023-02-09T21:25:32.817Z"
   },
   {
    "duration": 1290,
    "start_time": "2023-02-09T21:27:27.614Z"
   },
   {
    "duration": 66,
    "start_time": "2023-02-09T21:27:28.905Z"
   },
   {
    "duration": 15,
    "start_time": "2023-02-09T21:27:28.972Z"
   },
   {
    "duration": 21,
    "start_time": "2023-02-09T21:27:28.988Z"
   },
   {
    "duration": 5,
    "start_time": "2023-02-09T21:27:29.011Z"
   },
   {
    "duration": 21,
    "start_time": "2023-02-09T21:27:29.018Z"
   },
   {
    "duration": 5,
    "start_time": "2023-02-09T21:27:29.041Z"
   },
   {
    "duration": 11,
    "start_time": "2023-02-09T21:27:29.048Z"
   },
   {
    "duration": 10,
    "start_time": "2023-02-09T21:27:29.062Z"
   },
   {
    "duration": 10,
    "start_time": "2023-02-09T21:27:29.074Z"
   },
   {
    "duration": 297,
    "start_time": "2023-02-09T21:27:29.086Z"
   },
   {
    "duration": 293,
    "start_time": "2023-02-09T21:27:29.385Z"
   },
   {
    "duration": 291,
    "start_time": "2023-02-09T21:27:29.679Z"
   },
   {
    "duration": 388,
    "start_time": "2023-02-09T21:27:29.972Z"
   },
   {
    "duration": 117,
    "start_time": "2023-02-09T21:27:30.363Z"
   },
   {
    "duration": 0,
    "start_time": "2023-02-09T21:27:30.482Z"
   },
   {
    "duration": 0,
    "start_time": "2023-02-09T21:27:30.483Z"
   },
   {
    "duration": 0,
    "start_time": "2023-02-09T21:27:30.484Z"
   },
   {
    "duration": 0,
    "start_time": "2023-02-09T21:27:30.485Z"
   },
   {
    "duration": 0,
    "start_time": "2023-02-09T21:27:30.487Z"
   },
   {
    "duration": 0,
    "start_time": "2023-02-09T21:27:30.488Z"
   },
   {
    "duration": 0,
    "start_time": "2023-02-09T21:27:30.489Z"
   },
   {
    "duration": 0,
    "start_time": "2023-02-09T21:27:30.490Z"
   },
   {
    "duration": 0,
    "start_time": "2023-02-09T21:27:30.491Z"
   },
   {
    "duration": 0,
    "start_time": "2023-02-09T21:27:30.492Z"
   },
   {
    "duration": 0,
    "start_time": "2023-02-09T21:27:30.493Z"
   },
   {
    "duration": 0,
    "start_time": "2023-02-09T21:27:30.494Z"
   },
   {
    "duration": 0,
    "start_time": "2023-02-09T21:27:30.495Z"
   },
   {
    "duration": 0,
    "start_time": "2023-02-09T21:27:30.497Z"
   },
   {
    "duration": 0,
    "start_time": "2023-02-09T21:27:30.498Z"
   },
   {
    "duration": 0,
    "start_time": "2023-02-09T21:27:30.498Z"
   },
   {
    "duration": 0,
    "start_time": "2023-02-09T21:27:30.499Z"
   },
   {
    "duration": 0,
    "start_time": "2023-02-09T21:27:30.527Z"
   },
   {
    "duration": 409,
    "start_time": "2023-02-09T21:28:16.128Z"
   },
   {
    "duration": 10,
    "start_time": "2023-02-09T21:28:18.670Z"
   },
   {
    "duration": 10,
    "start_time": "2023-02-09T21:28:54.082Z"
   },
   {
    "duration": 149,
    "start_time": "2023-02-09T21:28:57.632Z"
   },
   {
    "duration": 207,
    "start_time": "2023-02-09T21:29:14.439Z"
   },
   {
    "duration": 131,
    "start_time": "2023-02-09T21:29:19.308Z"
   },
   {
    "duration": 8,
    "start_time": "2023-02-09T21:29:19.875Z"
   },
   {
    "duration": 7,
    "start_time": "2023-02-09T21:29:20.816Z"
   },
   {
    "duration": 7,
    "start_time": "2023-02-09T21:29:21.483Z"
   },
   {
    "duration": 150,
    "start_time": "2023-02-09T21:29:21.962Z"
   },
   {
    "duration": 11,
    "start_time": "2023-02-09T21:29:23.888Z"
   },
   {
    "duration": 713,
    "start_time": "2023-02-09T21:29:26.062Z"
   },
   {
    "duration": 11,
    "start_time": "2023-02-09T21:29:26.928Z"
   },
   {
    "duration": 10,
    "start_time": "2023-02-09T21:32:50.063Z"
   },
   {
    "duration": 772,
    "start_time": "2023-02-09T21:32:58.892Z"
   },
   {
    "duration": 721,
    "start_time": "2023-02-09T21:34:03.257Z"
   },
   {
    "duration": 660,
    "start_time": "2023-02-09T21:35:37.459Z"
   },
   {
    "duration": 121,
    "start_time": "2023-02-09T21:35:38.400Z"
   },
   {
    "duration": 705,
    "start_time": "2023-02-09T21:36:49.592Z"
   },
   {
    "duration": 51,
    "start_time": "2023-02-09T21:38:00.159Z"
   },
   {
    "duration": 1068,
    "start_time": "2023-02-09T21:38:01.973Z"
   },
   {
    "duration": 65,
    "start_time": "2023-02-09T21:38:03.043Z"
   },
   {
    "duration": 14,
    "start_time": "2023-02-09T21:38:03.110Z"
   },
   {
    "duration": 19,
    "start_time": "2023-02-09T21:38:03.125Z"
   },
   {
    "duration": 30,
    "start_time": "2023-02-09T21:38:03.147Z"
   },
   {
    "duration": 16,
    "start_time": "2023-02-09T21:38:03.179Z"
   },
   {
    "duration": 7,
    "start_time": "2023-02-09T21:38:03.197Z"
   },
   {
    "duration": 9,
    "start_time": "2023-02-09T21:38:03.205Z"
   },
   {
    "duration": 9,
    "start_time": "2023-02-09T21:38:03.215Z"
   },
   {
    "duration": 21,
    "start_time": "2023-02-09T21:38:03.226Z"
   },
   {
    "duration": 263,
    "start_time": "2023-02-09T21:38:03.249Z"
   },
   {
    "duration": 297,
    "start_time": "2023-02-09T21:38:03.514Z"
   },
   {
    "duration": 303,
    "start_time": "2023-02-09T21:38:03.812Z"
   },
   {
    "duration": 406,
    "start_time": "2023-02-09T21:38:04.119Z"
   },
   {
    "duration": 61,
    "start_time": "2023-02-09T21:38:04.527Z"
   },
   {
    "duration": 0,
    "start_time": "2023-02-09T21:38:04.590Z"
   },
   {
    "duration": 0,
    "start_time": "2023-02-09T21:38:04.591Z"
   },
   {
    "duration": 0,
    "start_time": "2023-02-09T21:38:04.592Z"
   },
   {
    "duration": 0,
    "start_time": "2023-02-09T21:38:04.593Z"
   },
   {
    "duration": 0,
    "start_time": "2023-02-09T21:38:04.594Z"
   },
   {
    "duration": 0,
    "start_time": "2023-02-09T21:38:04.595Z"
   },
   {
    "duration": 0,
    "start_time": "2023-02-09T21:38:04.596Z"
   },
   {
    "duration": 0,
    "start_time": "2023-02-09T21:38:04.597Z"
   },
   {
    "duration": 0,
    "start_time": "2023-02-09T21:38:04.598Z"
   },
   {
    "duration": 0,
    "start_time": "2023-02-09T21:38:04.598Z"
   },
   {
    "duration": 0,
    "start_time": "2023-02-09T21:38:04.599Z"
   },
   {
    "duration": 0,
    "start_time": "2023-02-09T21:38:04.600Z"
   },
   {
    "duration": 0,
    "start_time": "2023-02-09T21:38:04.601Z"
   },
   {
    "duration": 0,
    "start_time": "2023-02-09T21:38:04.626Z"
   },
   {
    "duration": 0,
    "start_time": "2023-02-09T21:38:04.628Z"
   },
   {
    "duration": 0,
    "start_time": "2023-02-09T21:38:04.629Z"
   },
   {
    "duration": 0,
    "start_time": "2023-02-09T21:38:04.629Z"
   },
   {
    "duration": 0,
    "start_time": "2023-02-09T21:38:04.630Z"
   },
   {
    "duration": 0,
    "start_time": "2023-02-09T21:38:04.631Z"
   },
   {
    "duration": 1150,
    "start_time": "2023-02-09T21:39:35.761Z"
   },
   {
    "duration": 66,
    "start_time": "2023-02-09T21:39:36.913Z"
   },
   {
    "duration": 14,
    "start_time": "2023-02-09T21:39:36.981Z"
   },
   {
    "duration": 14,
    "start_time": "2023-02-09T21:39:36.997Z"
   },
   {
    "duration": 8,
    "start_time": "2023-02-09T21:39:37.013Z"
   },
   {
    "duration": 19,
    "start_time": "2023-02-09T21:39:37.022Z"
   },
   {
    "duration": 5,
    "start_time": "2023-02-09T21:39:37.042Z"
   },
   {
    "duration": 12,
    "start_time": "2023-02-09T21:39:37.048Z"
   },
   {
    "duration": 11,
    "start_time": "2023-02-09T21:39:37.061Z"
   },
   {
    "duration": 7,
    "start_time": "2023-02-09T21:39:37.074Z"
   },
   {
    "duration": 222,
    "start_time": "2023-02-09T21:39:37.083Z"
   },
   {
    "duration": 268,
    "start_time": "2023-02-09T21:39:37.307Z"
   },
   {
    "duration": 290,
    "start_time": "2023-02-09T21:39:37.577Z"
   },
   {
    "duration": 276,
    "start_time": "2023-02-09T21:39:37.870Z"
   },
   {
    "duration": 377,
    "start_time": "2023-02-09T21:39:38.148Z"
   },
   {
    "duration": 200,
    "start_time": "2023-02-09T21:39:38.527Z"
   },
   {
    "duration": 267,
    "start_time": "2023-02-09T21:39:38.729Z"
   },
   {
    "duration": 43,
    "start_time": "2023-02-09T21:39:38.997Z"
   },
   {
    "duration": 0,
    "start_time": "2023-02-09T21:39:39.041Z"
   },
   {
    "duration": 0,
    "start_time": "2023-02-09T21:39:39.042Z"
   },
   {
    "duration": 0,
    "start_time": "2023-02-09T21:39:39.044Z"
   },
   {
    "duration": 0,
    "start_time": "2023-02-09T21:39:39.045Z"
   },
   {
    "duration": 0,
    "start_time": "2023-02-09T21:39:39.046Z"
   },
   {
    "duration": 0,
    "start_time": "2023-02-09T21:39:39.048Z"
   },
   {
    "duration": 0,
    "start_time": "2023-02-09T21:39:39.049Z"
   },
   {
    "duration": 0,
    "start_time": "2023-02-09T21:39:39.049Z"
   },
   {
    "duration": 0,
    "start_time": "2023-02-09T21:39:39.050Z"
   },
   {
    "duration": 0,
    "start_time": "2023-02-09T21:39:39.052Z"
   },
   {
    "duration": 0,
    "start_time": "2023-02-09T21:39:39.053Z"
   },
   {
    "duration": 0,
    "start_time": "2023-02-09T21:39:39.054Z"
   },
   {
    "duration": 0,
    "start_time": "2023-02-09T21:39:39.055Z"
   },
   {
    "duration": 0,
    "start_time": "2023-02-09T21:39:39.056Z"
   },
   {
    "duration": 0,
    "start_time": "2023-02-09T21:39:39.057Z"
   },
   {
    "duration": 0,
    "start_time": "2023-02-09T21:39:39.058Z"
   },
   {
    "duration": 0,
    "start_time": "2023-02-09T21:39:39.059Z"
   },
   {
    "duration": 158,
    "start_time": "2023-02-09T21:40:05.842Z"
   },
   {
    "duration": 5,
    "start_time": "2023-02-09T21:40:07.535Z"
   },
   {
    "duration": 156,
    "start_time": "2023-02-09T21:40:08.941Z"
   },
   {
    "duration": 4,
    "start_time": "2023-02-09T21:40:10.059Z"
   },
   {
    "duration": 228,
    "start_time": "2023-02-09T21:40:12.515Z"
   },
   {
    "duration": 209,
    "start_time": "2023-02-09T21:40:15.094Z"
   },
   {
    "duration": 99,
    "start_time": "2023-02-09T21:40:16.592Z"
   },
   {
    "duration": 162,
    "start_time": "2023-02-09T21:40:17.355Z"
   },
   {
    "duration": 7,
    "start_time": "2023-02-09T21:40:18.064Z"
   },
   {
    "duration": 7,
    "start_time": "2023-02-09T21:40:18.794Z"
   },
   {
    "duration": 7,
    "start_time": "2023-02-09T21:40:19.281Z"
   },
   {
    "duration": 149,
    "start_time": "2023-02-09T21:40:19.941Z"
   },
   {
    "duration": 10,
    "start_time": "2023-02-09T21:40:21.810Z"
   },
   {
    "duration": 700,
    "start_time": "2023-02-09T21:40:23.701Z"
   },
   {
    "duration": 11,
    "start_time": "2023-02-09T21:40:24.553Z"
   },
   {
    "duration": 133,
    "start_time": "2023-02-09T21:40:56.191Z"
   },
   {
    "duration": 7,
    "start_time": "2023-02-09T21:40:56.936Z"
   },
   {
    "duration": 8,
    "start_time": "2023-02-09T21:40:57.820Z"
   },
   {
    "duration": 7,
    "start_time": "2023-02-09T21:40:58.204Z"
   },
   {
    "duration": 166,
    "start_time": "2023-02-09T21:40:59.080Z"
   },
   {
    "duration": 10,
    "start_time": "2023-02-09T21:41:01.269Z"
   },
   {
    "duration": 683,
    "start_time": "2023-02-09T21:41:03.675Z"
   },
   {
    "duration": 693,
    "start_time": "2023-02-09T21:41:48.273Z"
   },
   {
    "duration": 684,
    "start_time": "2023-02-09T21:42:48.537Z"
   },
   {
    "duration": 691,
    "start_time": "2023-02-09T21:43:08.982Z"
   },
   {
    "duration": 678,
    "start_time": "2023-02-09T21:45:18.861Z"
   },
   {
    "duration": 11,
    "start_time": "2023-02-09T21:45:39.554Z"
   },
   {
    "duration": 8,
    "start_time": "2023-02-09T21:45:41.199Z"
   },
   {
    "duration": 96,
    "start_time": "2023-02-09T21:47:33.306Z"
   },
   {
    "duration": 260,
    "start_time": "2023-02-09T21:47:34.385Z"
   },
   {
    "duration": 301,
    "start_time": "2023-02-09T21:47:35.133Z"
   },
   {
    "duration": 279,
    "start_time": "2023-02-09T21:47:36.796Z"
   },
   {
    "duration": 346,
    "start_time": "2023-02-09T21:47:38.174Z"
   },
   {
    "duration": 177,
    "start_time": "2023-02-09T21:47:39.622Z"
   },
   {
    "duration": 254,
    "start_time": "2023-02-09T21:47:40.873Z"
   },
   {
    "duration": 142,
    "start_time": "2023-02-09T21:47:41.691Z"
   },
   {
    "duration": 5,
    "start_time": "2023-02-09T21:47:42.325Z"
   },
   {
    "duration": 153,
    "start_time": "2023-02-09T21:47:42.923Z"
   },
   {
    "duration": 4,
    "start_time": "2023-02-09T21:47:43.473Z"
   },
   {
    "duration": 147,
    "start_time": "2023-02-09T21:47:44.033Z"
   },
   {
    "duration": 209,
    "start_time": "2023-02-09T21:47:44.607Z"
   },
   {
    "duration": 131,
    "start_time": "2023-02-09T21:47:44.962Z"
   },
   {
    "duration": 7,
    "start_time": "2023-02-09T21:47:45.157Z"
   },
   {
    "duration": 8,
    "start_time": "2023-02-09T21:47:45.497Z"
   },
   {
    "duration": 6,
    "start_time": "2023-02-09T21:47:45.686Z"
   },
   {
    "duration": 143,
    "start_time": "2023-02-09T21:47:45.894Z"
   },
   {
    "duration": 11,
    "start_time": "2023-02-09T21:47:46.479Z"
   },
   {
    "duration": 678,
    "start_time": "2023-02-09T21:49:04.007Z"
   },
   {
    "duration": 727,
    "start_time": "2023-02-09T21:50:08.823Z"
   },
   {
    "duration": 15,
    "start_time": "2023-02-09T21:50:58.632Z"
   },
   {
    "duration": 709,
    "start_time": "2023-02-09T21:51:45.372Z"
   },
   {
    "duration": 12,
    "start_time": "2023-02-09T21:52:11.782Z"
   },
   {
    "duration": 691,
    "start_time": "2023-02-09T21:52:57.160Z"
   },
   {
    "duration": 9,
    "start_time": "2023-02-09T21:53:29.510Z"
   },
   {
    "duration": 9,
    "start_time": "2023-02-09T21:53:40.815Z"
   },
   {
    "duration": 7,
    "start_time": "2023-02-09T21:53:41.825Z"
   },
   {
    "duration": 666,
    "start_time": "2023-02-09T21:53:44.566Z"
   },
   {
    "duration": 19,
    "start_time": "2023-02-09T21:53:55.496Z"
   },
   {
    "duration": 259,
    "start_time": "2023-02-09T21:55:30.929Z"
   },
   {
    "duration": 354,
    "start_time": "2023-02-09T21:55:31.752Z"
   },
   {
    "duration": 280,
    "start_time": "2023-02-09T21:55:32.895Z"
   },
   {
    "duration": 381,
    "start_time": "2023-02-09T21:55:33.431Z"
   },
   {
    "duration": 172,
    "start_time": "2023-02-09T21:55:33.939Z"
   },
   {
    "duration": 262,
    "start_time": "2023-02-09T21:55:34.455Z"
   },
   {
    "duration": 152,
    "start_time": "2023-02-09T21:55:34.965Z"
   },
   {
    "duration": 5,
    "start_time": "2023-02-09T21:55:35.469Z"
   },
   {
    "duration": 160,
    "start_time": "2023-02-09T21:55:35.984Z"
   },
   {
    "duration": 5,
    "start_time": "2023-02-09T21:55:36.508Z"
   },
   {
    "duration": 161,
    "start_time": "2023-02-09T21:55:37.024Z"
   },
   {
    "duration": 208,
    "start_time": "2023-02-09T21:55:37.552Z"
   },
   {
    "duration": 144,
    "start_time": "2023-02-09T21:55:37.893Z"
   },
   {
    "duration": 8,
    "start_time": "2023-02-09T21:55:38.067Z"
   },
   {
    "duration": 7,
    "start_time": "2023-02-09T21:55:38.256Z"
   },
   {
    "duration": 8,
    "start_time": "2023-02-09T21:55:38.428Z"
   },
   {
    "duration": 214,
    "start_time": "2023-02-09T21:55:38.588Z"
   },
   {
    "duration": 11,
    "start_time": "2023-02-09T21:55:39.158Z"
   },
   {
    "duration": 10,
    "start_time": "2023-02-09T21:55:39.904Z"
   },
   {
    "duration": 10,
    "start_time": "2023-02-09T21:55:40.089Z"
   },
   {
    "duration": 15,
    "start_time": "2023-02-09T21:55:40.819Z"
   },
   {
    "duration": 1103,
    "start_time": "2023-02-09T22:11:37.907Z"
   },
   {
    "duration": 64,
    "start_time": "2023-02-09T22:11:39.012Z"
   },
   {
    "duration": 15,
    "start_time": "2023-02-09T22:11:39.077Z"
   },
   {
    "duration": 14,
    "start_time": "2023-02-09T22:11:39.093Z"
   },
   {
    "duration": 6,
    "start_time": "2023-02-09T22:11:39.109Z"
   },
   {
    "duration": 13,
    "start_time": "2023-02-09T22:11:39.117Z"
   },
   {
    "duration": 4,
    "start_time": "2023-02-09T22:11:39.132Z"
   },
   {
    "duration": 10,
    "start_time": "2023-02-09T22:11:39.138Z"
   },
   {
    "duration": 10,
    "start_time": "2023-02-09T22:11:39.150Z"
   },
   {
    "duration": 10,
    "start_time": "2023-02-09T22:11:39.162Z"
   },
   {
    "duration": 296,
    "start_time": "2023-02-09T22:11:39.174Z"
   },
   {
    "duration": 293,
    "start_time": "2023-02-09T22:11:39.471Z"
   },
   {
    "duration": 282,
    "start_time": "2023-02-09T22:11:39.766Z"
   },
   {
    "duration": 396,
    "start_time": "2023-02-09T22:11:40.051Z"
   },
   {
    "duration": 98,
    "start_time": "2023-02-09T22:11:40.449Z"
   },
   {
    "duration": 0,
    "start_time": "2023-02-09T22:11:40.548Z"
   },
   {
    "duration": 0,
    "start_time": "2023-02-09T22:11:40.549Z"
   },
   {
    "duration": 0,
    "start_time": "2023-02-09T22:11:40.550Z"
   },
   {
    "duration": 0,
    "start_time": "2023-02-09T22:11:40.552Z"
   },
   {
    "duration": 0,
    "start_time": "2023-02-09T22:11:40.552Z"
   },
   {
    "duration": 0,
    "start_time": "2023-02-09T22:11:40.554Z"
   },
   {
    "duration": 0,
    "start_time": "2023-02-09T22:11:40.554Z"
   },
   {
    "duration": 0,
    "start_time": "2023-02-09T22:11:40.555Z"
   },
   {
    "duration": 0,
    "start_time": "2023-02-09T22:11:40.556Z"
   },
   {
    "duration": 0,
    "start_time": "2023-02-09T22:11:40.557Z"
   },
   {
    "duration": 0,
    "start_time": "2023-02-09T22:11:40.558Z"
   },
   {
    "duration": 0,
    "start_time": "2023-02-09T22:11:40.559Z"
   },
   {
    "duration": 0,
    "start_time": "2023-02-09T22:11:40.560Z"
   },
   {
    "duration": 0,
    "start_time": "2023-02-09T22:11:40.561Z"
   },
   {
    "duration": 0,
    "start_time": "2023-02-09T22:11:40.562Z"
   },
   {
    "duration": 0,
    "start_time": "2023-02-09T22:11:40.563Z"
   },
   {
    "duration": 9,
    "start_time": "2023-02-09T22:14:11.856Z"
   },
   {
    "duration": 202,
    "start_time": "2023-02-09T22:16:20.578Z"
   },
   {
    "duration": 277,
    "start_time": "2023-02-09T22:16:22.213Z"
   },
   {
    "duration": 290,
    "start_time": "2023-02-09T22:16:24.916Z"
   },
   {
    "duration": 362,
    "start_time": "2023-02-09T22:16:27.354Z"
   },
   {
    "duration": 266,
    "start_time": "2023-02-09T22:16:29.823Z"
   },
   {
    "duration": 287,
    "start_time": "2023-02-09T22:16:31.905Z"
   },
   {
    "duration": 140,
    "start_time": "2023-02-09T22:16:33.591Z"
   },
   {
    "duration": 5,
    "start_time": "2023-02-09T22:16:34.858Z"
   },
   {
    "duration": 145,
    "start_time": "2023-02-09T22:16:36.459Z"
   },
   {
    "duration": 5,
    "start_time": "2023-02-09T22:16:38.475Z"
   },
   {
    "duration": 145,
    "start_time": "2023-02-09T22:16:39.791Z"
   },
   {
    "duration": 203,
    "start_time": "2023-02-09T22:16:42.009Z"
   },
   {
    "duration": 269,
    "start_time": "2023-02-09T22:17:23.212Z"
   },
   {
    "duration": 276,
    "start_time": "2023-02-09T22:17:24.860Z"
   },
   {
    "duration": 370,
    "start_time": "2023-02-09T22:17:25.974Z"
   },
   {
    "duration": 178,
    "start_time": "2023-02-09T22:17:27.698Z"
   },
   {
    "duration": 258,
    "start_time": "2023-02-09T22:17:29.661Z"
   },
   {
    "duration": 233,
    "start_time": "2023-02-09T22:17:31.037Z"
   },
   {
    "duration": 5,
    "start_time": "2023-02-09T22:17:32.268Z"
   },
   {
    "duration": 146,
    "start_time": "2023-02-09T22:17:33.174Z"
   },
   {
    "duration": 4,
    "start_time": "2023-02-09T22:17:34.357Z"
   },
   {
    "duration": 149,
    "start_time": "2023-02-09T22:17:35.360Z"
   },
   {
    "duration": 134,
    "start_time": "2023-02-09T22:17:45.684Z"
   },
   {
    "duration": 7,
    "start_time": "2023-02-09T22:17:48.857Z"
   },
   {
    "duration": 9,
    "start_time": "2023-02-09T22:17:49.930Z"
   },
   {
    "duration": 6,
    "start_time": "2023-02-09T22:17:50.392Z"
   },
   {
    "duration": 164,
    "start_time": "2023-02-09T22:17:51.089Z"
   },
   {
    "duration": 10,
    "start_time": "2023-02-09T22:18:04.460Z"
   },
   {
    "duration": 10,
    "start_time": "2023-02-09T22:18:07.995Z"
   },
   {
    "duration": 8,
    "start_time": "2023-02-09T22:18:08.630Z"
   },
   {
    "duration": 8,
    "start_time": "2023-02-09T22:18:12.565Z"
   },
   {
    "duration": 15,
    "start_time": "2023-02-09T22:18:15.160Z"
   },
   {
    "duration": 9,
    "start_time": "2023-02-09T22:18:52.115Z"
   },
   {
    "duration": 8,
    "start_time": "2023-02-09T22:18:57.047Z"
   },
   {
    "duration": 14,
    "start_time": "2023-02-09T22:19:06.772Z"
   },
   {
    "duration": 14,
    "start_time": "2023-02-09T22:19:53.390Z"
   },
   {
    "duration": 13,
    "start_time": "2023-02-09T22:24:30.884Z"
   },
   {
    "duration": 14,
    "start_time": "2023-02-09T22:24:45.809Z"
   },
   {
    "duration": 4,
    "start_time": "2023-02-09T22:29:46.564Z"
   },
   {
    "duration": 67,
    "start_time": "2023-02-09T22:29:46.928Z"
   },
   {
    "duration": 11,
    "start_time": "2023-02-09T22:29:47.113Z"
   },
   {
    "duration": 16,
    "start_time": "2023-02-09T22:29:47.300Z"
   },
   {
    "duration": 4,
    "start_time": "2023-02-09T22:29:47.489Z"
   },
   {
    "duration": 12,
    "start_time": "2023-02-09T22:29:47.673Z"
   },
   {
    "duration": 4,
    "start_time": "2023-02-09T22:29:47.863Z"
   },
   {
    "duration": 7,
    "start_time": "2023-02-09T22:29:48.213Z"
   },
   {
    "duration": 9,
    "start_time": "2023-02-09T22:29:48.598Z"
   },
   {
    "duration": 8,
    "start_time": "2023-02-09T22:29:48.974Z"
   },
   {
    "duration": 196,
    "start_time": "2023-02-09T22:29:49.480Z"
   },
   {
    "duration": 268,
    "start_time": "2023-02-09T22:29:49.837Z"
   },
   {
    "duration": 263,
    "start_time": "2023-02-09T22:29:50.332Z"
   },
   {
    "duration": 368,
    "start_time": "2023-02-09T22:29:50.841Z"
   },
   {
    "duration": 171,
    "start_time": "2023-02-09T22:29:51.399Z"
   },
   {
    "duration": 274,
    "start_time": "2023-02-09T22:29:51.923Z"
   },
   {
    "duration": 136,
    "start_time": "2023-02-09T22:29:52.451Z"
   },
   {
    "duration": 5,
    "start_time": "2023-02-09T22:29:52.970Z"
   },
   {
    "duration": 139,
    "start_time": "2023-02-09T22:29:53.482Z"
   },
   {
    "duration": 4,
    "start_time": "2023-02-09T22:29:54.175Z"
   },
   {
    "duration": 225,
    "start_time": "2023-02-09T22:29:54.715Z"
   },
   {
    "duration": 130,
    "start_time": "2023-02-09T22:29:55.649Z"
   },
   {
    "duration": 7,
    "start_time": "2023-02-09T22:29:55.836Z"
   },
   {
    "duration": 6,
    "start_time": "2023-02-09T22:29:56.007Z"
   },
   {
    "duration": 6,
    "start_time": "2023-02-09T22:29:56.190Z"
   },
   {
    "duration": 178,
    "start_time": "2023-02-09T22:29:56.373Z"
   },
   {
    "duration": 10,
    "start_time": "2023-02-09T22:29:56.965Z"
   },
   {
    "duration": 9,
    "start_time": "2023-02-09T22:29:57.768Z"
   },
   {
    "duration": 15,
    "start_time": "2023-02-09T22:29:58.373Z"
   },
   {
    "duration": 1052,
    "start_time": "2023-02-09T22:31:26.185Z"
   },
   {
    "duration": 65,
    "start_time": "2023-02-09T22:31:27.239Z"
   },
   {
    "duration": 14,
    "start_time": "2023-02-09T22:31:27.306Z"
   },
   {
    "duration": 16,
    "start_time": "2023-02-09T22:31:27.321Z"
   },
   {
    "duration": 4,
    "start_time": "2023-02-09T22:31:27.339Z"
   },
   {
    "duration": 14,
    "start_time": "2023-02-09T22:31:27.344Z"
   },
   {
    "duration": 11,
    "start_time": "2023-02-09T22:31:27.359Z"
   },
   {
    "duration": 9,
    "start_time": "2023-02-09T22:31:27.371Z"
   },
   {
    "duration": 12,
    "start_time": "2023-02-09T22:31:27.381Z"
   },
   {
    "duration": 32,
    "start_time": "2023-02-09T22:31:27.395Z"
   },
   {
    "duration": 214,
    "start_time": "2023-02-09T22:31:27.429Z"
   },
   {
    "duration": 102,
    "start_time": "2023-02-09T22:31:27.644Z"
   },
   {
    "duration": 0,
    "start_time": "2023-02-09T22:31:27.748Z"
   },
   {
    "duration": 0,
    "start_time": "2023-02-09T22:31:27.750Z"
   },
   {
    "duration": 0,
    "start_time": "2023-02-09T22:31:27.751Z"
   },
   {
    "duration": 0,
    "start_time": "2023-02-09T22:31:27.752Z"
   },
   {
    "duration": 0,
    "start_time": "2023-02-09T22:31:27.753Z"
   },
   {
    "duration": 0,
    "start_time": "2023-02-09T22:31:27.754Z"
   },
   {
    "duration": 0,
    "start_time": "2023-02-09T22:31:27.755Z"
   },
   {
    "duration": 0,
    "start_time": "2023-02-09T22:31:27.756Z"
   },
   {
    "duration": 0,
    "start_time": "2023-02-09T22:31:27.757Z"
   },
   {
    "duration": 0,
    "start_time": "2023-02-09T22:31:27.758Z"
   },
   {
    "duration": 0,
    "start_time": "2023-02-09T22:31:27.759Z"
   },
   {
    "duration": 0,
    "start_time": "2023-02-09T22:31:27.760Z"
   },
   {
    "duration": 0,
    "start_time": "2023-02-09T22:31:27.761Z"
   },
   {
    "duration": 0,
    "start_time": "2023-02-09T22:31:27.762Z"
   },
   {
    "duration": 0,
    "start_time": "2023-02-09T22:31:27.763Z"
   },
   {
    "duration": 0,
    "start_time": "2023-02-09T22:31:27.764Z"
   },
   {
    "duration": 0,
    "start_time": "2023-02-09T22:31:27.765Z"
   },
   {
    "duration": 3,
    "start_time": "2023-02-09T22:33:37.894Z"
   },
   {
    "duration": 64,
    "start_time": "2023-02-09T22:33:38.691Z"
   },
   {
    "duration": 11,
    "start_time": "2023-02-09T22:33:38.891Z"
   },
   {
    "duration": 15,
    "start_time": "2023-02-09T22:33:39.210Z"
   },
   {
    "duration": 4,
    "start_time": "2023-02-09T22:33:39.889Z"
   },
   {
    "duration": 13,
    "start_time": "2023-02-09T22:33:40.104Z"
   },
   {
    "duration": 4,
    "start_time": "2023-02-09T22:33:41.309Z"
   },
   {
    "duration": 9,
    "start_time": "2023-02-09T22:36:03.403Z"
   },
   {
    "duration": 9,
    "start_time": "2023-02-09T22:36:17.798Z"
   },
   {
    "duration": 10,
    "start_time": "2023-02-09T22:36:26.675Z"
   },
   {
    "duration": 716,
    "start_time": "2023-02-09T22:36:57.716Z"
   },
   {
    "duration": 96,
    "start_time": "2023-02-09T22:37:02.514Z"
   },
   {
    "duration": 1127,
    "start_time": "2023-02-09T22:37:23.433Z"
   },
   {
    "duration": 68,
    "start_time": "2023-02-09T22:37:24.562Z"
   },
   {
    "duration": 15,
    "start_time": "2023-02-09T22:37:24.632Z"
   },
   {
    "duration": 18,
    "start_time": "2023-02-09T22:37:24.650Z"
   },
   {
    "duration": 5,
    "start_time": "2023-02-09T22:37:24.669Z"
   },
   {
    "duration": 17,
    "start_time": "2023-02-09T22:37:24.676Z"
   },
   {
    "duration": 33,
    "start_time": "2023-02-09T22:37:24.695Z"
   },
   {
    "duration": 8,
    "start_time": "2023-02-09T22:37:24.730Z"
   },
   {
    "duration": 13,
    "start_time": "2023-02-09T22:37:24.740Z"
   },
   {
    "duration": 9,
    "start_time": "2023-02-09T22:37:24.757Z"
   },
   {
    "duration": 275,
    "start_time": "2023-02-09T22:37:24.768Z"
   },
   {
    "duration": 111,
    "start_time": "2023-02-09T22:37:25.045Z"
   },
   {
    "duration": 0,
    "start_time": "2023-02-09T22:37:25.158Z"
   },
   {
    "duration": 0,
    "start_time": "2023-02-09T22:37:25.160Z"
   },
   {
    "duration": 0,
    "start_time": "2023-02-09T22:37:25.161Z"
   },
   {
    "duration": 1,
    "start_time": "2023-02-09T22:37:25.162Z"
   },
   {
    "duration": 0,
    "start_time": "2023-02-09T22:37:25.164Z"
   },
   {
    "duration": 0,
    "start_time": "2023-02-09T22:37:25.165Z"
   },
   {
    "duration": 0,
    "start_time": "2023-02-09T22:37:25.166Z"
   },
   {
    "duration": 0,
    "start_time": "2023-02-09T22:37:25.167Z"
   },
   {
    "duration": 0,
    "start_time": "2023-02-09T22:37:25.169Z"
   },
   {
    "duration": 0,
    "start_time": "2023-02-09T22:37:25.170Z"
   },
   {
    "duration": 0,
    "start_time": "2023-02-09T22:37:25.172Z"
   },
   {
    "duration": 0,
    "start_time": "2023-02-09T22:37:25.173Z"
   },
   {
    "duration": 0,
    "start_time": "2023-02-09T22:37:25.174Z"
   },
   {
    "duration": 0,
    "start_time": "2023-02-09T22:37:25.176Z"
   },
   {
    "duration": 0,
    "start_time": "2023-02-09T22:37:25.177Z"
   },
   {
    "duration": 0,
    "start_time": "2023-02-09T22:37:25.179Z"
   },
   {
    "duration": 0,
    "start_time": "2023-02-09T22:37:25.180Z"
   },
   {
    "duration": 10,
    "start_time": "2023-02-09T22:38:31.999Z"
   },
   {
    "duration": 10,
    "start_time": "2023-02-09T22:38:33.505Z"
   },
   {
    "duration": 10,
    "start_time": "2023-02-09T22:38:34.081Z"
   },
   {
    "duration": 194,
    "start_time": "2023-02-09T22:38:34.666Z"
   },
   {
    "duration": 285,
    "start_time": "2023-02-09T22:38:35.226Z"
   },
   {
    "duration": 143,
    "start_time": "2023-02-09T22:38:35.830Z"
   },
   {
    "duration": 7,
    "start_time": "2023-02-09T22:38:36.405Z"
   },
   {
    "duration": 152,
    "start_time": "2023-02-09T22:38:37.121Z"
   },
   {
    "duration": 5,
    "start_time": "2023-02-09T22:38:37.683Z"
   },
   {
    "duration": 149,
    "start_time": "2023-02-09T22:38:38.243Z"
   },
   {
    "duration": 139,
    "start_time": "2023-02-09T22:38:39.189Z"
   },
   {
    "duration": 8,
    "start_time": "2023-02-09T22:38:39.382Z"
   },
   {
    "duration": 8,
    "start_time": "2023-02-09T22:38:39.591Z"
   },
   {
    "duration": 7,
    "start_time": "2023-02-09T22:38:39.798Z"
   },
   {
    "duration": 146,
    "start_time": "2023-02-09T22:38:40.001Z"
   },
   {
    "duration": 10,
    "start_time": "2023-02-09T22:38:40.609Z"
   },
   {
    "duration": 11,
    "start_time": "2023-02-09T22:38:41.374Z"
   },
   {
    "duration": 14,
    "start_time": "2023-02-09T22:38:41.966Z"
   },
   {
    "duration": 165,
    "start_time": "2023-02-09T22:41:08.844Z"
   },
   {
    "duration": 165,
    "start_time": "2023-02-09T22:41:23.016Z"
   },
   {
    "duration": 267,
    "start_time": "2023-02-09T22:41:42.815Z"
   },
   {
    "duration": 217,
    "start_time": "2023-02-09T22:42:02.872Z"
   },
   {
    "duration": 45,
    "start_time": "2023-02-09T22:43:07.548Z"
   },
   {
    "duration": 7,
    "start_time": "2023-02-09T22:43:10.090Z"
   },
   {
    "duration": 1119,
    "start_time": "2023-02-09T22:43:20.464Z"
   },
   {
    "duration": 68,
    "start_time": "2023-02-09T22:43:21.585Z"
   },
   {
    "duration": 15,
    "start_time": "2023-02-09T22:43:21.655Z"
   },
   {
    "duration": 17,
    "start_time": "2023-02-09T22:43:21.672Z"
   },
   {
    "duration": 4,
    "start_time": "2023-02-09T22:43:21.691Z"
   },
   {
    "duration": 22,
    "start_time": "2023-02-09T22:43:21.697Z"
   },
   {
    "duration": 7,
    "start_time": "2023-02-09T22:43:21.720Z"
   },
   {
    "duration": 23,
    "start_time": "2023-02-09T22:43:21.729Z"
   },
   {
    "duration": 15,
    "start_time": "2023-02-09T22:43:21.754Z"
   },
   {
    "duration": 9,
    "start_time": "2023-02-09T22:43:21.771Z"
   },
   {
    "duration": 234,
    "start_time": "2023-02-09T22:43:21.782Z"
   },
   {
    "duration": 170,
    "start_time": "2023-02-09T22:43:22.018Z"
   },
   {
    "duration": 175,
    "start_time": "2023-02-09T22:43:22.190Z"
   },
   {
    "duration": 245,
    "start_time": "2023-02-09T22:43:22.367Z"
   },
   {
    "duration": 205,
    "start_time": "2023-02-09T22:43:22.627Z"
   },
   {
    "duration": 281,
    "start_time": "2023-02-09T22:43:22.834Z"
   },
   {
    "duration": 164,
    "start_time": "2023-02-09T22:43:23.117Z"
   },
   {
    "duration": 5,
    "start_time": "2023-02-09T22:43:23.282Z"
   },
   {
    "duration": 167,
    "start_time": "2023-02-09T22:43:23.289Z"
   },
   {
    "duration": 5,
    "start_time": "2023-02-09T22:43:23.458Z"
   },
   {
    "duration": 238,
    "start_time": "2023-02-09T22:43:23.464Z"
   },
   {
    "duration": 161,
    "start_time": "2023-02-09T22:43:23.704Z"
   },
   {
    "duration": 6,
    "start_time": "2023-02-09T22:43:23.867Z"
   },
   {
    "duration": 11,
    "start_time": "2023-02-09T22:43:23.874Z"
   },
   {
    "duration": 13,
    "start_time": "2023-02-09T22:43:23.887Z"
   },
   {
    "duration": 152,
    "start_time": "2023-02-09T22:43:23.902Z"
   },
   {
    "duration": 10,
    "start_time": "2023-02-09T22:43:24.056Z"
   },
   {
    "duration": 8,
    "start_time": "2023-02-09T22:43:24.069Z"
   },
   {
    "duration": 16,
    "start_time": "2023-02-09T22:43:24.079Z"
   },
   {
    "duration": 200,
    "start_time": "2023-02-09T22:45:51.267Z"
   },
   {
    "duration": 150,
    "start_time": "2023-02-09T22:45:53.729Z"
   },
   {
    "duration": 1127,
    "start_time": "2023-02-09T22:47:56.490Z"
   },
   {
    "duration": 66,
    "start_time": "2023-02-09T22:47:57.619Z"
   },
   {
    "duration": 15,
    "start_time": "2023-02-09T22:47:57.686Z"
   },
   {
    "duration": 16,
    "start_time": "2023-02-09T22:47:57.702Z"
   },
   {
    "duration": 4,
    "start_time": "2023-02-09T22:47:57.721Z"
   },
   {
    "duration": 14,
    "start_time": "2023-02-09T22:47:57.727Z"
   },
   {
    "duration": 6,
    "start_time": "2023-02-09T22:47:57.743Z"
   },
   {
    "duration": 8,
    "start_time": "2023-02-09T22:47:57.750Z"
   },
   {
    "duration": 14,
    "start_time": "2023-02-09T22:47:57.760Z"
   },
   {
    "duration": 7,
    "start_time": "2023-02-09T22:47:57.775Z"
   },
   {
    "duration": 216,
    "start_time": "2023-02-09T22:47:57.784Z"
   },
   {
    "duration": 183,
    "start_time": "2023-02-09T22:47:58.001Z"
   },
   {
    "duration": 169,
    "start_time": "2023-02-09T22:47:58.185Z"
   },
   {
    "duration": 257,
    "start_time": "2023-02-09T22:47:58.357Z"
   },
   {
    "duration": 189,
    "start_time": "2023-02-09T22:47:58.615Z"
   },
   {
    "duration": 289,
    "start_time": "2023-02-09T22:47:58.806Z"
   },
   {
    "duration": 164,
    "start_time": "2023-02-09T22:47:59.097Z"
   },
   {
    "duration": 5,
    "start_time": "2023-02-09T22:47:59.263Z"
   },
   {
    "duration": 162,
    "start_time": "2023-02-09T22:47:59.269Z"
   },
   {
    "duration": 4,
    "start_time": "2023-02-09T22:47:59.433Z"
   },
   {
    "duration": 170,
    "start_time": "2023-02-09T22:47:59.439Z"
   },
   {
    "duration": 148,
    "start_time": "2023-02-09T22:47:59.610Z"
   },
   {
    "duration": 6,
    "start_time": "2023-02-09T22:47:59.759Z"
   },
   {
    "duration": 14,
    "start_time": "2023-02-09T22:47:59.767Z"
   },
   {
    "duration": 15,
    "start_time": "2023-02-09T22:47:59.783Z"
   },
   {
    "duration": 247,
    "start_time": "2023-02-09T22:47:59.799Z"
   },
   {
    "duration": 11,
    "start_time": "2023-02-09T22:48:00.048Z"
   },
   {
    "duration": 18,
    "start_time": "2023-02-09T22:48:00.061Z"
   },
   {
    "duration": 18,
    "start_time": "2023-02-09T22:48:00.081Z"
   },
   {
    "duration": 14,
    "start_time": "2023-02-09T22:55:01.464Z"
   },
   {
    "duration": 15,
    "start_time": "2023-02-09T22:55:44.477Z"
   },
   {
    "duration": 1334,
    "start_time": "2023-02-10T11:06:48.438Z"
   },
   {
    "duration": 105,
    "start_time": "2023-02-10T11:06:49.774Z"
   },
   {
    "duration": 22,
    "start_time": "2023-02-10T11:06:49.880Z"
   },
   {
    "duration": 49,
    "start_time": "2023-02-10T11:06:49.905Z"
   },
   {
    "duration": 5,
    "start_time": "2023-02-10T11:06:49.956Z"
   },
   {
    "duration": 18,
    "start_time": "2023-02-10T11:06:49.962Z"
   },
   {
    "duration": 9,
    "start_time": "2023-02-10T11:06:49.982Z"
   },
   {
    "duration": 58,
    "start_time": "2023-02-10T11:06:49.995Z"
   },
   {
    "duration": 13,
    "start_time": "2023-02-10T11:06:50.055Z"
   },
   {
    "duration": 11,
    "start_time": "2023-02-10T11:06:50.071Z"
   },
   {
    "duration": 263,
    "start_time": "2023-02-10T11:06:50.085Z"
   },
   {
    "duration": 209,
    "start_time": "2023-02-10T11:06:50.350Z"
   },
   {
    "duration": 204,
    "start_time": "2023-02-10T11:06:50.561Z"
   },
   {
    "duration": 310,
    "start_time": "2023-02-10T11:06:50.766Z"
   },
   {
    "duration": 238,
    "start_time": "2023-02-10T11:06:51.078Z"
   },
   {
    "duration": 281,
    "start_time": "2023-02-10T11:06:51.318Z"
   },
   {
    "duration": 171,
    "start_time": "2023-02-10T11:06:51.603Z"
   },
   {
    "duration": 6,
    "start_time": "2023-02-10T11:06:51.776Z"
   },
   {
    "duration": 262,
    "start_time": "2023-02-10T11:06:51.794Z"
   },
   {
    "duration": 4,
    "start_time": "2023-02-10T11:06:52.058Z"
   },
   {
    "duration": 208,
    "start_time": "2023-02-10T11:06:52.063Z"
   },
   {
    "duration": 166,
    "start_time": "2023-02-10T11:06:52.273Z"
   },
   {
    "duration": 7,
    "start_time": "2023-02-10T11:06:52.441Z"
   },
   {
    "duration": 12,
    "start_time": "2023-02-10T11:06:52.450Z"
   },
   {
    "duration": 15,
    "start_time": "2023-02-10T11:06:52.464Z"
   },
   {
    "duration": 285,
    "start_time": "2023-02-10T11:06:52.480Z"
   },
   {
    "duration": 10,
    "start_time": "2023-02-10T11:06:52.766Z"
   },
   {
    "duration": 19,
    "start_time": "2023-02-10T11:06:52.779Z"
   },
   {
    "duration": 49,
    "start_time": "2023-02-10T11:06:52.800Z"
   },
   {
    "duration": 51,
    "start_time": "2023-02-10T14:30:57.695Z"
   },
   {
    "duration": 1295,
    "start_time": "2023-02-10T14:31:10.984Z"
   },
   {
    "duration": 187,
    "start_time": "2023-02-10T14:31:12.280Z"
   },
   {
    "duration": 14,
    "start_time": "2023-02-10T14:31:12.469Z"
   },
   {
    "duration": 21,
    "start_time": "2023-02-10T14:31:12.485Z"
   },
   {
    "duration": 7,
    "start_time": "2023-02-10T14:31:12.507Z"
   },
   {
    "duration": 17,
    "start_time": "2023-02-10T14:31:12.515Z"
   },
   {
    "duration": 3,
    "start_time": "2023-02-10T14:31:12.534Z"
   },
   {
    "duration": 18,
    "start_time": "2023-02-10T14:31:12.538Z"
   },
   {
    "duration": 25,
    "start_time": "2023-02-10T14:31:12.557Z"
   },
   {
    "duration": 10,
    "start_time": "2023-02-10T14:31:12.585Z"
   },
   {
    "duration": 210,
    "start_time": "2023-02-10T14:31:12.597Z"
   },
   {
    "duration": 185,
    "start_time": "2023-02-10T14:31:12.809Z"
   },
   {
    "duration": 168,
    "start_time": "2023-02-10T14:31:12.995Z"
   },
   {
    "duration": 294,
    "start_time": "2023-02-10T14:31:13.165Z"
   },
   {
    "duration": 219,
    "start_time": "2023-02-10T14:31:13.461Z"
   },
   {
    "duration": 266,
    "start_time": "2023-02-10T14:31:13.681Z"
   },
   {
    "duration": 146,
    "start_time": "2023-02-10T14:31:13.953Z"
   },
   {
    "duration": 5,
    "start_time": "2023-02-10T14:31:14.100Z"
   },
   {
    "duration": 233,
    "start_time": "2023-02-10T14:31:14.107Z"
   },
   {
    "duration": 5,
    "start_time": "2023-02-10T14:31:14.342Z"
   },
   {
    "duration": 158,
    "start_time": "2023-02-10T14:31:14.349Z"
   },
   {
    "duration": 136,
    "start_time": "2023-02-10T14:31:14.509Z"
   },
   {
    "duration": 11,
    "start_time": "2023-02-10T14:31:14.647Z"
   },
   {
    "duration": 7,
    "start_time": "2023-02-10T14:31:14.660Z"
   },
   {
    "duration": 4,
    "start_time": "2023-02-10T14:31:14.669Z"
   },
   {
    "duration": 167,
    "start_time": "2023-02-10T14:31:14.675Z"
   },
   {
    "duration": 15,
    "start_time": "2023-02-10T14:31:14.844Z"
   },
   {
    "duration": 9,
    "start_time": "2023-02-10T14:31:14.862Z"
   },
   {
    "duration": 13,
    "start_time": "2023-02-10T14:31:14.873Z"
   },
   {
    "duration": 14,
    "start_time": "2023-02-10T14:32:47.802Z"
   },
   {
    "duration": 15,
    "start_time": "2023-02-10T14:32:59.929Z"
   },
   {
    "duration": 63,
    "start_time": "2023-02-10T14:33:16.325Z"
   },
   {
    "duration": 11,
    "start_time": "2023-02-10T14:33:17.073Z"
   },
   {
    "duration": 15,
    "start_time": "2023-02-10T14:33:20.266Z"
   },
   {
    "duration": 4,
    "start_time": "2023-02-10T14:33:20.958Z"
   },
   {
    "duration": 13,
    "start_time": "2023-02-10T14:33:21.619Z"
   },
   {
    "duration": 3,
    "start_time": "2023-02-10T14:33:22.729Z"
   },
   {
    "duration": 7,
    "start_time": "2023-02-10T14:33:24.803Z"
   },
   {
    "duration": 168,
    "start_time": "2023-02-10T14:37:30.529Z"
   },
   {
    "duration": 165,
    "start_time": "2023-02-10T14:37:41.494Z"
   },
   {
    "duration": 171,
    "start_time": "2023-02-10T14:37:53.856Z"
   },
   {
    "duration": 159,
    "start_time": "2023-02-10T14:38:08.167Z"
   },
   {
    "duration": 166,
    "start_time": "2023-02-10T14:38:17.789Z"
   },
   {
    "duration": 287,
    "start_time": "2023-02-10T14:38:26.628Z"
   },
   {
    "duration": 205,
    "start_time": "2023-02-10T14:38:34.378Z"
   },
   {
    "duration": 306,
    "start_time": "2023-02-10T14:38:41.127Z"
   },
   {
    "duration": 141,
    "start_time": "2023-02-10T14:38:51.833Z"
   },
   {
    "duration": 4,
    "start_time": "2023-02-10T14:40:59.198Z"
   },
   {
    "duration": 279,
    "start_time": "2023-02-10T14:56:10.577Z"
   },
   {
    "duration": 134,
    "start_time": "2023-02-10T14:57:08.632Z"
   },
   {
    "duration": 134,
    "start_time": "2023-02-10T14:57:38.633Z"
   },
   {
    "duration": 138,
    "start_time": "2023-02-10T14:58:31.663Z"
   },
   {
    "duration": 136,
    "start_time": "2023-02-10T14:58:36.078Z"
   },
   {
    "duration": 145,
    "start_time": "2023-02-10T14:58:57.602Z"
   },
   {
    "duration": 137,
    "start_time": "2023-02-10T14:59:03.739Z"
   },
   {
    "duration": 167,
    "start_time": "2023-02-10T14:59:34.475Z"
   },
   {
    "duration": 149,
    "start_time": "2023-02-10T14:59:46.781Z"
   },
   {
    "duration": 143,
    "start_time": "2023-02-10T15:00:12.812Z"
   },
   {
    "duration": 152,
    "start_time": "2023-02-10T15:00:37.693Z"
   },
   {
    "duration": 45,
    "start_time": "2023-02-10T15:03:19.908Z"
   },
   {
    "duration": 75,
    "start_time": "2023-02-10T15:03:48.076Z"
   },
   {
    "duration": 64,
    "start_time": "2023-02-10T15:03:55.430Z"
   },
   {
    "duration": 62,
    "start_time": "2023-02-10T15:04:01.492Z"
   },
   {
    "duration": 9,
    "start_time": "2023-02-10T15:05:16.967Z"
   },
   {
    "duration": 9,
    "start_time": "2023-02-10T15:05:36.763Z"
   },
   {
    "duration": 10,
    "start_time": "2023-02-10T15:05:45.503Z"
   },
   {
    "duration": 8,
    "start_time": "2023-02-10T15:06:19.872Z"
   },
   {
    "duration": 8,
    "start_time": "2023-02-10T15:06:46.284Z"
   },
   {
    "duration": 7,
    "start_time": "2023-02-10T15:06:59.256Z"
   },
   {
    "duration": 13,
    "start_time": "2023-02-10T15:15:22.631Z"
   },
   {
    "duration": 12,
    "start_time": "2023-02-10T15:16:02.001Z"
   },
   {
    "duration": 12,
    "start_time": "2023-02-10T15:16:14.597Z"
   },
   {
    "duration": 11,
    "start_time": "2023-02-10T15:16:28.922Z"
   },
   {
    "duration": 12,
    "start_time": "2023-02-10T15:17:02.826Z"
   },
   {
    "duration": 1146,
    "start_time": "2023-02-10T15:17:20.418Z"
   },
   {
    "duration": 66,
    "start_time": "2023-02-10T15:17:21.566Z"
   },
   {
    "duration": 15,
    "start_time": "2023-02-10T15:17:21.633Z"
   },
   {
    "duration": 19,
    "start_time": "2023-02-10T15:17:21.649Z"
   },
   {
    "duration": 15,
    "start_time": "2023-02-10T15:17:21.670Z"
   },
   {
    "duration": 34,
    "start_time": "2023-02-10T15:17:21.687Z"
   },
   {
    "duration": 6,
    "start_time": "2023-02-10T15:17:21.723Z"
   },
   {
    "duration": 20,
    "start_time": "2023-02-10T15:17:21.731Z"
   },
   {
    "duration": 36,
    "start_time": "2023-02-10T15:17:21.753Z"
   },
   {
    "duration": 27,
    "start_time": "2023-02-10T15:17:21.791Z"
   },
   {
    "duration": 45,
    "start_time": "2023-02-10T15:17:21.820Z"
   },
   {
    "duration": 231,
    "start_time": "2023-02-10T15:17:21.866Z"
   },
   {
    "duration": 4,
    "start_time": "2023-02-10T15:17:22.099Z"
   },
   {
    "duration": 193,
    "start_time": "2023-02-10T15:17:22.107Z"
   },
   {
    "duration": 176,
    "start_time": "2023-02-10T15:17:22.302Z"
   },
   {
    "duration": 259,
    "start_time": "2023-02-10T15:17:22.479Z"
   },
   {
    "duration": 191,
    "start_time": "2023-02-10T15:17:22.739Z"
   },
   {
    "duration": 297,
    "start_time": "2023-02-10T15:17:22.932Z"
   },
   {
    "duration": 147,
    "start_time": "2023-02-10T15:17:23.230Z"
   },
   {
    "duration": 5,
    "start_time": "2023-02-10T15:17:23.378Z"
   },
   {
    "duration": 150,
    "start_time": "2023-02-10T15:17:23.384Z"
   },
   {
    "duration": 142,
    "start_time": "2023-02-10T15:17:23.535Z"
   },
   {
    "duration": 3,
    "start_time": "2023-02-10T15:17:23.679Z"
   },
   {
    "duration": 225,
    "start_time": "2023-02-10T15:17:23.684Z"
   },
   {
    "duration": 125,
    "start_time": "2023-02-10T15:17:23.910Z"
   },
   {
    "duration": 5,
    "start_time": "2023-02-10T15:17:24.037Z"
   },
   {
    "duration": 6,
    "start_time": "2023-02-10T15:17:24.053Z"
   },
   {
    "duration": 11,
    "start_time": "2023-02-10T15:17:24.060Z"
   },
   {
    "duration": 157,
    "start_time": "2023-02-10T15:17:24.073Z"
   },
   {
    "duration": 10,
    "start_time": "2023-02-10T15:17:24.232Z"
   },
   {
    "duration": 17,
    "start_time": "2023-02-10T15:17:24.244Z"
   },
   {
    "duration": 13,
    "start_time": "2023-02-10T15:17:24.263Z"
   },
   {
    "duration": 11,
    "start_time": "2023-02-10T15:19:46.516Z"
   },
   {
    "duration": 67,
    "start_time": "2023-02-10T16:04:06.253Z"
   },
   {
    "duration": 10,
    "start_time": "2023-02-10T16:04:13.126Z"
   },
   {
    "duration": 117,
    "start_time": "2023-02-10T16:10:29.946Z"
   },
   {
    "duration": 12,
    "start_time": "2023-02-10T16:11:05.575Z"
   },
   {
    "duration": 10,
    "start_time": "2023-02-10T16:11:22.629Z"
   },
   {
    "duration": 9,
    "start_time": "2023-02-10T16:11:36.002Z"
   },
   {
    "duration": 10,
    "start_time": "2023-02-10T16:13:57.018Z"
   },
   {
    "duration": 10,
    "start_time": "2023-02-10T16:15:00.517Z"
   },
   {
    "duration": 69,
    "start_time": "2023-02-10T16:15:01.001Z"
   },
   {
    "duration": 7,
    "start_time": "2023-02-10T16:20:10.956Z"
   },
   {
    "duration": 11,
    "start_time": "2023-02-10T16:37:50.983Z"
   },
   {
    "duration": 137,
    "start_time": "2023-02-10T16:38:21.153Z"
   },
   {
    "duration": 54,
    "start_time": "2023-02-10T17:02:40.819Z"
   },
   {
    "duration": 9,
    "start_time": "2023-02-10T17:02:47.249Z"
   },
   {
    "duration": 8,
    "start_time": "2023-02-10T17:03:03.518Z"
   },
   {
    "duration": 14,
    "start_time": "2023-02-10T17:09:52.298Z"
   },
   {
    "duration": 6,
    "start_time": "2023-02-10T17:11:09.080Z"
   },
   {
    "duration": 7,
    "start_time": "2023-02-10T17:12:11.913Z"
   },
   {
    "duration": 45,
    "start_time": "2023-02-10T17:12:49.245Z"
   },
   {
    "duration": 12,
    "start_time": "2023-02-10T17:13:05.697Z"
   },
   {
    "duration": 12,
    "start_time": "2023-02-10T17:14:17.386Z"
   },
   {
    "duration": 7,
    "start_time": "2023-02-10T17:55:14.966Z"
   },
   {
    "duration": 23,
    "start_time": "2023-02-10T17:55:45.988Z"
   },
   {
    "duration": 49,
    "start_time": "2023-02-10T18:02:35.558Z"
   },
   {
    "duration": 49,
    "start_time": "2023-02-10T18:03:22.866Z"
   },
   {
    "duration": 57,
    "start_time": "2023-02-10T18:03:41.521Z"
   },
   {
    "duration": 163,
    "start_time": "2023-02-10T18:04:26.765Z"
   },
   {
    "duration": 46,
    "start_time": "2023-02-10T18:04:34.292Z"
   },
   {
    "duration": 10,
    "start_time": "2023-02-10T18:04:57.222Z"
   },
   {
    "duration": 154,
    "start_time": "2023-02-10T18:05:40.591Z"
   },
   {
    "duration": 10,
    "start_time": "2023-02-10T18:06:28.265Z"
   },
   {
    "duration": 16,
    "start_time": "2023-02-10T18:07:57.997Z"
   },
   {
    "duration": 43,
    "start_time": "2023-02-10T18:08:54.432Z"
   },
   {
    "duration": 9,
    "start_time": "2023-02-10T18:10:15.159Z"
   },
   {
    "duration": 9,
    "start_time": "2023-02-10T18:13:44.416Z"
   },
   {
    "duration": 11,
    "start_time": "2023-02-10T18:13:57.546Z"
   },
   {
    "duration": 11,
    "start_time": "2023-02-10T18:19:49.768Z"
   },
   {
    "duration": 11,
    "start_time": "2023-02-10T18:20:25.467Z"
   },
   {
    "duration": 9,
    "start_time": "2023-02-10T18:21:42.747Z"
   },
   {
    "duration": 9,
    "start_time": "2023-02-10T18:21:54.949Z"
   },
   {
    "duration": 8,
    "start_time": "2023-02-10T18:22:03.519Z"
   },
   {
    "duration": 12,
    "start_time": "2023-02-10T18:22:58.603Z"
   },
   {
    "duration": 10,
    "start_time": "2023-02-10T18:23:05.465Z"
   },
   {
    "duration": 10,
    "start_time": "2023-02-10T18:24:51.343Z"
   },
   {
    "duration": 8,
    "start_time": "2023-02-10T18:28:20.593Z"
   },
   {
    "duration": 23,
    "start_time": "2023-02-10T18:28:33.631Z"
   },
   {
    "duration": 7,
    "start_time": "2023-02-10T18:35:17.697Z"
   },
   {
    "duration": 22,
    "start_time": "2023-02-10T18:35:18.248Z"
   },
   {
    "duration": 51,
    "start_time": "2023-02-10T19:00:07.594Z"
   },
   {
    "duration": 1096,
    "start_time": "2023-02-10T19:05:13.575Z"
   },
   {
    "duration": 233,
    "start_time": "2023-02-10T19:05:14.673Z"
   },
   {
    "duration": 15,
    "start_time": "2023-02-10T19:05:14.908Z"
   },
   {
    "duration": 14,
    "start_time": "2023-02-10T19:05:14.926Z"
   },
   {
    "duration": 7,
    "start_time": "2023-02-10T19:05:14.941Z"
   },
   {
    "duration": 14,
    "start_time": "2023-02-10T19:05:14.949Z"
   },
   {
    "duration": 5,
    "start_time": "2023-02-10T19:05:14.964Z"
   },
   {
    "duration": 21,
    "start_time": "2023-02-10T19:05:14.971Z"
   },
   {
    "duration": 27,
    "start_time": "2023-02-10T19:05:14.994Z"
   },
   {
    "duration": 77,
    "start_time": "2023-02-10T19:05:15.023Z"
   },
   {
    "duration": 11,
    "start_time": "2023-02-10T19:05:15.101Z"
   },
   {
    "duration": 48,
    "start_time": "2023-02-10T19:05:15.114Z"
   },
   {
    "duration": 0,
    "start_time": "2023-02-10T19:05:15.164Z"
   },
   {
    "duration": 0,
    "start_time": "2023-02-10T19:05:15.165Z"
   },
   {
    "duration": 0,
    "start_time": "2023-02-10T19:05:15.166Z"
   },
   {
    "duration": 0,
    "start_time": "2023-02-10T19:05:15.167Z"
   },
   {
    "duration": 0,
    "start_time": "2023-02-10T19:05:15.168Z"
   },
   {
    "duration": 0,
    "start_time": "2023-02-10T19:05:15.170Z"
   },
   {
    "duration": 0,
    "start_time": "2023-02-10T19:05:15.171Z"
   },
   {
    "duration": 0,
    "start_time": "2023-02-10T19:05:15.173Z"
   },
   {
    "duration": 0,
    "start_time": "2023-02-10T19:05:15.174Z"
   },
   {
    "duration": 0,
    "start_time": "2023-02-10T19:05:15.176Z"
   },
   {
    "duration": 0,
    "start_time": "2023-02-10T19:05:15.177Z"
   },
   {
    "duration": 0,
    "start_time": "2023-02-10T19:05:15.179Z"
   },
   {
    "duration": 0,
    "start_time": "2023-02-10T19:05:15.180Z"
   },
   {
    "duration": 0,
    "start_time": "2023-02-10T19:05:15.181Z"
   },
   {
    "duration": 0,
    "start_time": "2023-02-10T19:05:15.182Z"
   },
   {
    "duration": 0,
    "start_time": "2023-02-10T19:05:15.183Z"
   },
   {
    "duration": 0,
    "start_time": "2023-02-10T19:05:15.184Z"
   },
   {
    "duration": 0,
    "start_time": "2023-02-10T19:05:15.185Z"
   },
   {
    "duration": 0,
    "start_time": "2023-02-10T19:05:15.186Z"
   },
   {
    "duration": 0,
    "start_time": "2023-02-10T19:05:15.187Z"
   },
   {
    "duration": 0,
    "start_time": "2023-02-10T19:05:15.188Z"
   },
   {
    "duration": 0,
    "start_time": "2023-02-10T19:05:15.189Z"
   },
   {
    "duration": 1,
    "start_time": "2023-02-10T19:05:15.189Z"
   },
   {
    "duration": 0,
    "start_time": "2023-02-10T19:05:15.190Z"
   },
   {
    "duration": 0,
    "start_time": "2023-02-10T19:05:15.191Z"
   },
   {
    "duration": 0,
    "start_time": "2023-02-10T19:05:15.192Z"
   },
   {
    "duration": 3,
    "start_time": "2023-02-10T19:06:05.534Z"
   },
   {
    "duration": 70,
    "start_time": "2023-02-10T19:06:05.539Z"
   },
   {
    "duration": 10,
    "start_time": "2023-02-10T19:06:05.610Z"
   },
   {
    "duration": 15,
    "start_time": "2023-02-10T19:06:05.622Z"
   },
   {
    "duration": 4,
    "start_time": "2023-02-10T19:06:05.638Z"
   },
   {
    "duration": 13,
    "start_time": "2023-02-10T19:06:05.643Z"
   },
   {
    "duration": 5,
    "start_time": "2023-02-10T19:06:05.658Z"
   },
   {
    "duration": 8,
    "start_time": "2023-02-10T19:06:05.665Z"
   },
   {
    "duration": 10,
    "start_time": "2023-02-10T19:06:05.675Z"
   },
   {
    "duration": 85,
    "start_time": "2023-02-10T19:06:05.687Z"
   },
   {
    "duration": 12,
    "start_time": "2023-02-10T19:06:05.774Z"
   },
   {
    "duration": 48,
    "start_time": "2023-02-10T19:06:05.788Z"
   },
   {
    "duration": 0,
    "start_time": "2023-02-10T19:06:05.837Z"
   },
   {
    "duration": 0,
    "start_time": "2023-02-10T19:06:05.839Z"
   },
   {
    "duration": 0,
    "start_time": "2023-02-10T19:06:05.840Z"
   },
   {
    "duration": 0,
    "start_time": "2023-02-10T19:06:05.841Z"
   },
   {
    "duration": 0,
    "start_time": "2023-02-10T19:06:05.842Z"
   },
   {
    "duration": 0,
    "start_time": "2023-02-10T19:06:05.843Z"
   },
   {
    "duration": 0,
    "start_time": "2023-02-10T19:06:05.844Z"
   },
   {
    "duration": 0,
    "start_time": "2023-02-10T19:06:05.845Z"
   },
   {
    "duration": 0,
    "start_time": "2023-02-10T19:06:05.846Z"
   },
   {
    "duration": 0,
    "start_time": "2023-02-10T19:06:05.847Z"
   },
   {
    "duration": 0,
    "start_time": "2023-02-10T19:06:05.848Z"
   },
   {
    "duration": 0,
    "start_time": "2023-02-10T19:06:05.849Z"
   },
   {
    "duration": 0,
    "start_time": "2023-02-10T19:06:05.850Z"
   },
   {
    "duration": 0,
    "start_time": "2023-02-10T19:06:05.851Z"
   },
   {
    "duration": 0,
    "start_time": "2023-02-10T19:06:05.852Z"
   },
   {
    "duration": 0,
    "start_time": "2023-02-10T19:06:05.853Z"
   },
   {
    "duration": 0,
    "start_time": "2023-02-10T19:06:05.854Z"
   },
   {
    "duration": 0,
    "start_time": "2023-02-10T19:06:05.855Z"
   },
   {
    "duration": 0,
    "start_time": "2023-02-10T19:06:05.856Z"
   },
   {
    "duration": 0,
    "start_time": "2023-02-10T19:06:05.857Z"
   },
   {
    "duration": 0,
    "start_time": "2023-02-10T19:06:05.858Z"
   },
   {
    "duration": 0,
    "start_time": "2023-02-10T19:06:05.859Z"
   },
   {
    "duration": 0,
    "start_time": "2023-02-10T19:06:05.860Z"
   },
   {
    "duration": 0,
    "start_time": "2023-02-10T19:06:05.862Z"
   },
   {
    "duration": 0,
    "start_time": "2023-02-10T19:06:05.863Z"
   },
   {
    "duration": 0,
    "start_time": "2023-02-10T19:06:05.863Z"
   },
   {
    "duration": 3,
    "start_time": "2023-02-10T19:06:28.715Z"
   },
   {
    "duration": 60,
    "start_time": "2023-02-10T19:06:29.220Z"
   },
   {
    "duration": 11,
    "start_time": "2023-02-10T19:06:29.371Z"
   },
   {
    "duration": 14,
    "start_time": "2023-02-10T19:06:29.692Z"
   },
   {
    "duration": 4,
    "start_time": "2023-02-10T19:06:29.858Z"
   },
   {
    "duration": 12,
    "start_time": "2023-02-10T19:06:30.031Z"
   },
   {
    "duration": 4,
    "start_time": "2023-02-10T19:06:30.213Z"
   },
   {
    "duration": 6,
    "start_time": "2023-02-10T19:06:30.615Z"
   },
   {
    "duration": 10,
    "start_time": "2023-02-10T19:06:31.524Z"
   },
   {
    "duration": 62,
    "start_time": "2023-02-10T19:06:32.246Z"
   },
   {
    "duration": 12,
    "start_time": "2023-02-10T19:06:32.467Z"
   },
   {
    "duration": 40,
    "start_time": "2023-02-10T19:06:33.013Z"
   },
   {
    "duration": 8,
    "start_time": "2023-02-10T19:06:33.107Z"
   },
   {
    "duration": 8,
    "start_time": "2023-02-10T19:06:33.647Z"
   },
   {
    "duration": 10,
    "start_time": "2023-02-10T19:06:34.156Z"
   },
   {
    "duration": 200,
    "start_time": "2023-02-10T19:06:34.674Z"
   },
   {
    "duration": 5,
    "start_time": "2023-02-10T19:06:34.977Z"
   },
   {
    "duration": 167,
    "start_time": "2023-02-10T19:06:35.603Z"
   },
   {
    "duration": 163,
    "start_time": "2023-02-10T19:06:36.294Z"
   },
   {
    "duration": 277,
    "start_time": "2023-02-10T19:06:36.823Z"
   },
   {
    "duration": 209,
    "start_time": "2023-02-10T19:06:37.388Z"
   },
   {
    "duration": 258,
    "start_time": "2023-02-10T19:06:37.975Z"
   },
   {
    "duration": 144,
    "start_time": "2023-02-10T19:06:38.733Z"
   },
   {
    "duration": 4,
    "start_time": "2023-02-10T19:06:39.279Z"
   },
   {
    "duration": 144,
    "start_time": "2023-02-10T19:06:39.843Z"
   },
   {
    "duration": 202,
    "start_time": "2023-02-10T19:06:40.409Z"
   },
   {
    "duration": 4,
    "start_time": "2023-02-10T19:06:40.769Z"
   },
   {
    "duration": 138,
    "start_time": "2023-02-10T19:06:41.337Z"
   },
   {
    "duration": 127,
    "start_time": "2023-02-10T19:06:42.282Z"
   },
   {
    "duration": 7,
    "start_time": "2023-02-10T19:06:42.463Z"
   },
   {
    "duration": 7,
    "start_time": "2023-02-10T19:06:42.630Z"
   },
   {
    "duration": 6,
    "start_time": "2023-02-10T19:06:42.981Z"
   },
   {
    "duration": 154,
    "start_time": "2023-02-10T19:06:43.369Z"
   },
   {
    "duration": 10,
    "start_time": "2023-02-10T19:06:44.700Z"
   },
   {
    "duration": 10,
    "start_time": "2023-02-10T19:06:45.474Z"
   },
   {
    "duration": 8,
    "start_time": "2023-02-10T19:06:45.860Z"
   },
   {
    "duration": 30,
    "start_time": "2023-02-10T19:06:46.042Z"
   },
   {
    "duration": 14,
    "start_time": "2023-02-10T19:06:46.800Z"
   },
   {
    "duration": 1166,
    "start_time": "2023-02-10T19:07:49.287Z"
   },
   {
    "duration": 65,
    "start_time": "2023-02-10T19:07:50.455Z"
   },
   {
    "duration": 15,
    "start_time": "2023-02-10T19:07:50.522Z"
   },
   {
    "duration": 14,
    "start_time": "2023-02-10T19:07:50.539Z"
   },
   {
    "duration": 4,
    "start_time": "2023-02-10T19:07:50.556Z"
   },
   {
    "duration": 12,
    "start_time": "2023-02-10T19:07:50.562Z"
   },
   {
    "duration": 3,
    "start_time": "2023-02-10T19:07:50.576Z"
   },
   {
    "duration": 9,
    "start_time": "2023-02-10T19:07:50.580Z"
   },
   {
    "duration": 12,
    "start_time": "2023-02-10T19:07:50.590Z"
   },
   {
    "duration": 93,
    "start_time": "2023-02-10T19:07:50.603Z"
   },
   {
    "duration": 11,
    "start_time": "2023-02-10T19:07:50.697Z"
   },
   {
    "duration": 11,
    "start_time": "2023-02-10T19:07:50.709Z"
   },
   {
    "duration": 12,
    "start_time": "2023-02-10T19:07:50.722Z"
   },
   {
    "duration": 10,
    "start_time": "2023-02-10T19:07:50.753Z"
   },
   {
    "duration": 209,
    "start_time": "2023-02-10T19:07:50.765Z"
   },
   {
    "duration": 4,
    "start_time": "2023-02-10T19:07:50.976Z"
   },
   {
    "duration": 185,
    "start_time": "2023-02-10T19:07:50.981Z"
   },
   {
    "duration": 160,
    "start_time": "2023-02-10T19:07:51.168Z"
   },
   {
    "duration": 283,
    "start_time": "2023-02-10T19:07:51.330Z"
   },
   {
    "duration": 184,
    "start_time": "2023-02-10T19:07:51.615Z"
   },
   {
    "duration": 268,
    "start_time": "2023-02-10T19:07:51.801Z"
   },
   {
    "duration": 149,
    "start_time": "2023-02-10T19:07:52.070Z"
   },
   {
    "duration": 5,
    "start_time": "2023-02-10T19:07:52.220Z"
   },
   {
    "duration": 153,
    "start_time": "2023-02-10T19:07:52.227Z"
   },
   {
    "duration": 213,
    "start_time": "2023-02-10T19:07:52.381Z"
   },
   {
    "duration": 5,
    "start_time": "2023-02-10T19:07:52.595Z"
   },
   {
    "duration": 160,
    "start_time": "2023-02-10T19:07:52.601Z"
   },
   {
    "duration": 142,
    "start_time": "2023-02-10T19:07:52.763Z"
   },
   {
    "duration": 6,
    "start_time": "2023-02-10T19:07:52.906Z"
   },
   {
    "duration": 7,
    "start_time": "2023-02-10T19:07:52.913Z"
   },
   {
    "duration": 5,
    "start_time": "2023-02-10T19:07:52.922Z"
   },
   {
    "duration": 149,
    "start_time": "2023-02-10T19:07:52.929Z"
   },
   {
    "duration": 9,
    "start_time": "2023-02-10T19:07:53.080Z"
   },
   {
    "duration": 10,
    "start_time": "2023-02-10T19:07:53.090Z"
   },
   {
    "duration": 8,
    "start_time": "2023-02-10T19:07:53.101Z"
   },
   {
    "duration": 43,
    "start_time": "2023-02-10T19:07:53.111Z"
   },
   {
    "duration": 12,
    "start_time": "2023-02-10T19:07:53.156Z"
   }
  ],
  "kernelspec": {
   "display_name": "Python 3 (ipykernel)",
   "language": "python",
   "name": "python3"
  },
  "language_info": {
   "codemirror_mode": {
    "name": "ipython",
    "version": 3
   },
   "file_extension": ".py",
   "mimetype": "text/x-python",
   "name": "python",
   "nbconvert_exporter": "python",
   "pygments_lexer": "ipython3",
   "version": "3.9.5"
  },
  "toc": {
   "base_numbering": 1,
   "nav_menu": {},
   "number_sections": true,
   "sideBar": true,
   "skip_h1_title": true,
   "title_cell": "Table of Contents",
   "title_sidebar": "Contents",
   "toc_cell": false,
   "toc_position": {
    "height": "calc(100% - 180px)",
    "left": "10px",
    "top": "150px",
    "width": "323.547px"
   },
   "toc_section_display": true,
   "toc_window_display": false
  }
 },
 "nbformat": 4,
 "nbformat_minor": 2
}
